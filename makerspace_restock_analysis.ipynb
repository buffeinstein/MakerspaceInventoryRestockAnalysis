{
 "cells": [
  {
   "cell_type": "code",
   "execution_count": 1,
   "metadata": {},
   "outputs": [
    {
     "name": "stderr",
     "output_type": "stream",
     "text": [
      "/Users/atiwari/Downloads/MakerspaceInventoryRestockAnalysis/.venv/lib/python3.13/site-packages/tqdm/auto.py:21: TqdmWarning: IProgress not found. Please update jupyter and ipywidgets. See https://ipywidgets.readthedocs.io/en/stable/user_install.html\n",
      "  from .autonotebook import tqdm as notebook_tqdm\n"
     ]
    },
    {
     "data": {
      "text/plain": [
       "True"
      ]
     },
     "execution_count": 1,
     "metadata": {},
     "output_type": "execute_result"
    }
   ],
   "source": [
    "import json, csv\n",
    "from typing import List, Dict, Any, Optional, Tuple\n",
    "import time\n",
    "import requests\n",
    "from bs4 import BeautifulSoup\n",
    "import re\n",
    "\n",
    "import numpy as np\n",
    "from sentence_transformers import SentenceTransformer\n",
    "model = SentenceTransformer(\"sentence-transformers/all-MiniLM-L6-v2\")\n",
    "\n",
    "from openai import OpenAI\n",
    "from dotenv import load_dotenv\n",
    "load_dotenv()  \n",
    "\n"
   ]
  },
  {
   "cell_type": "code",
   "execution_count": 7,
   "metadata": {},
   "outputs": [
    {
     "data": {
      "application/vnd.jupyter.widget-view+json": {
       "model_id": "4f0afe2977f14c75a5eae7d722919345",
       "version_major": 2,
       "version_minor": 0
      },
      "text/plain": [
       "Batches:   0%|          | 0/11 [00:00<?, ?it/s]"
      ]
     },
     "metadata": {},
     "output_type": "display_data"
    },
    {
     "name": "stdout",
     "output_type": "stream",
     "text": [
      "Saved matrix of shape (1343, 384), dtype float32 -> embedded_items.npy\n"
     ]
    }
   ],
   "source": [
    "# DO NOT RUN THIS - use uuid_list.csv, InventoryLookup.jsonl, and embedded_items.npy\n",
    "# INITIAL CREATION + UPDATE OF ARTIFACTS\n",
    "\n",
    "'''\n",
    "# def write_json(path: str, lookup: Dict[str, Dict[str, Any]]) -> None:\n",
    "#     with open(path, \"w\", encoding=\"utf-8\") as f:\n",
    "#         # write the entire lookup dict as a single JSON object\n",
    "#         json.dump(lookup, f, ensure_ascii=False, indent=2)\n",
    "\n",
    "# def write_csv(path: str, uuid_list: List[str]) -> None:\n",
    "#    with open(path, \"w\", encoding=\"utf-8\", newline=\"\") as f:\n",
    "#        w = csv.DictWriter(f, fieldnames=[\"row_id\", \"uuid\"])\n",
    "#        w.writeheader()\n",
    "#        for i, u in enumerate(uuid_list):\n",
    "#            w.writerow({\"row_id\": i, \"uuid\": u})\n",
    "\n",
    "# def make_full_name(name, long_name):\n",
    "#    if not long_name:   # catches \"\" and None\n",
    "#        return name\n",
    "#    return name + \" - \" + long_name\n",
    "\n",
    "# def save_npy(path: str, matrix: np.ndarray) -> None:\n",
    "#    np.save(path, matrix)\n",
    "#    print(f\"Saved matrix of shape {matrix.shape}, dtype {matrix.dtype} -> {path}\")\n",
    "\n",
    "# # open inventory database\n",
    "# with open(\"inventory-5-31-25.json\", \"r\", encoding=\"utf-8\") as f:\n",
    "#    inventory_json = json.load(f)   # inventory_json is already a list of dicts\n",
    "\n",
    "# inventory_lookup = {}           # dict[uuid] -> {Name, Long name, Locations}\n",
    "# uuid_list = []                  # list of uuids, in EXACT row order\n",
    "# names_list = []                 # list of full_name strings, same order as UUID_list\n",
    "\n",
    "# for item in inventory_json:\n",
    "#     # inventory_json is a list of dicts, so item is a dict \n",
    "\n",
    "#     # Build fast lookup (N-length dict)\n",
    "#     inventory_lookup[item[\"uuid\"]] = {\n",
    "#         \"name\": item[\"name\"],\n",
    "#         \"long_name\": item[\"long_name\"],\n",
    "#         \"locations\": item[\"locations\"]  # keep structured as list of dicts\n",
    "#     }\n",
    "\n",
    "#     # Build index-aligned lists\n",
    "#     uuid_list.append(item[\"uuid\"])\n",
    "#     names_list.append(make_full_name(item[\"name\"], item[\"long_name\"]))\n",
    "\n",
    "\n",
    "# # Persist inventory_lookup \n",
    "# write_json(\"InventoryLookup.json\", inventory_lookup)  \n",
    "\n",
    "# # Persist uuid_list \n",
    "# write_csv(\"uuid_list.csv\", uuid_list)\n",
    "\n",
    "# # Vectorize names_list -> names_matrix (N x d), then L2-normalize rows\n",
    "# names_matrix = embed_normalize(names_list)           # shape: N x d, d = 384\n",
    "\n",
    "# # Persist names_matrix \n",
    "# save_npy(\"embedded_items.npy\", names_matrix)\n",
    "'''\n",
    "# DO NOT RUN AGAIN\n",
    "# UPDATE OF ARTIFACTS \n",
    "\n",
    "'''\n",
    "# import json, csv\n",
    "\n",
    "# # UPDATE INVENTORY LOOKUP TO INCLUDE DETAILS USEFUL FOR LLM \n",
    "# with open(\"data/inventory-5-31-25.json\", \"r\", encoding=\"utf-8\") as f:\n",
    "#    inventory_json = json.load(f)   # inventory_json is already a list of dicts\n",
    "\n",
    "# with open(\"artifacts/InventoryLookup.json\", \"r\", encoding=\"utf-8\") as f:\n",
    "#     inventory_lookup = json.load(f)\n",
    "\n",
    "# for item in inventory_json:\n",
    "#     uuid = item.get(\"uuid\")\n",
    "#     role = item.get(\"role\")\n",
    "#     if uuid in inventory_lookup and role is not None:\n",
    "#         inventory_lookup[uuid][\"role\"] = role\n",
    "\n",
    "# with open(\"artifacts/InventoryLookup.json\", \"w\", encoding=\"utf-8\") as f:\n",
    "#     json.dump(inventory_lookup, f, indent=2, ensure_ascii=False)\n",
    "\n",
    "# # UPDATE UUID_LIST FOR MORE EFFICIENT STORAGE AND RETRIEVAL\n",
    "# with open(\"artifacts/uuid_list.csv\", \"r\", encoding=\"utf-8\") as f:\n",
    "#     reader = csv.reader(f)\n",
    "#     uuid_list = [row[1] for row in reader]  # each row is a single uuid\n",
    "\n",
    "# with open(\"artifacts/uuid_list.json\", \"w\", encoding=\"utf-8\") as f:\n",
    "#     json.dump(uuid_list, f, indent=2, ensure_ascii=False)\n",
    "'''"
   ]
  },
  {
   "cell_type": "code",
   "execution_count": 2,
   "metadata": {},
   "outputs": [],
   "source": [
    "# LOAD DATA + ARTIFACTS\n",
    "\n",
    "with open(\"artifacts/InventoryLookup.json\", \"r\", encoding=\"utf-8\") as f:\n",
    "    inventory_lookup = json.load(f)\n",
    "\n",
    "# Load uuid_list (list of uuids)\n",
    "with open(\"artifacts/uuid_list.json\", \"r\", encoding=\"utf-8\") as f:\n",
    "    uuid_list = json.load(f)\n",
    "\n",
    "# Load names_matrix (numpy array of embeddings)\n",
    "names_matrix = np.load(\"artifacts/embedded_items.npy\")\n",
    "\n",
    "with open(\"data/restocks-5-31-25.json\", \"r\", encoding=\"utf-8\") as f:\n",
    "    restock_requests = json.load(f)"
   ]
  },
  {
   "cell_type": "code",
   "execution_count": 3,
   "metadata": {},
   "outputs": [],
   "source": [
    "# FUNCTIONS \n",
    "# PARSING RESTOCK REQUESTS AND GETTING ITEM NAMES FROM LINKS\n",
    "\n",
    "def _normalize_amazon_url(u: str) -> str:\n",
    "    # strip trailing punctuation that often sneaks in from chat/markdown\n",
    "    u = u.rstrip(\").,;:]\")\n",
    "    # remove query params\n",
    "    u = u.split(\"?\", 1)[0]\n",
    "    # collapse to canonical dp/ASIN form if present\n",
    "    m = re.search(r\"/dp/([A-Z0-9]{10})\", u)\n",
    "    if m:\n",
    "        asin = m.group(1)\n",
    "        return f\"https://www.amazon.com/dp/{asin}\"\n",
    "    return u\n",
    "\n",
    "_HEADERS = {\n",
    "    \"User-Agent\": (\n",
    "        \"Mozilla/5.0 (Windows NT 10.0; Win64; x64) \"\n",
    "        \"AppleWebKit/537.36 (KHTML, like Gecko) \"\n",
    "        \"Chrome/120.0 Safari/537.36\"\n",
    "    ),\n",
    "    \"Accept-Language\": \"en-US,en;q=0.9\",\n",
    "}\n",
    "\n",
    "def _extract_title_from_html(html_text: str) -> Optional[str]:\n",
    "    soup = BeautifulSoup(html_text, \"html.parser\")\n",
    "\n",
    "    # 1) Amazon product title selectors\n",
    "    for css in [\"#productTitle\", \"#title\", \"span#productTitle\"]:\n",
    "        el = soup.select_one(css)\n",
    "        if el:\n",
    "            txt = el.get_text(strip=True)\n",
    "            if txt:\n",
    "                return txt\n",
    "\n",
    "    # 2) Open Graph\n",
    "    og = soup.find(\"meta\", {\"property\": \"og:title\"})\n",
    "    if og and og.get(\"content\"):\n",
    "        return og[\"content\"].strip()\n",
    "\n",
    "    # 3) Fallback <h1>\n",
    "    h1 = soup.find(\"h1\")\n",
    "    if h1:\n",
    "        txt = h1.get_text(strip=True)\n",
    "        if txt:\n",
    "            return txt\n",
    "\n",
    "    # 4) Fallback <title>\n",
    "    if soup.title:\n",
    "        txt = soup.title.get_text(strip=True)\n",
    "        if txt:\n",
    "            return txt\n",
    "\n",
    "    return None\n",
    "\n",
    "def link_parser(urls: List[str], timeout: float = 10.0, sleep_sec: float = 0.4) -> List[str]:\n",
    "    seen = set()\n",
    "    titles: List[str] = []\n",
    "\n",
    "    for raw_u in urls:\n",
    "        u = _normalize_amazon_url(raw_u)\n",
    "        if u in seen:\n",
    "            continue\n",
    "        seen.add(u)\n",
    "\n",
    "        try:\n",
    "            r = requests.get(u, headers=_HEADERS, timeout=timeout)\n",
    "            # DEBUG: show status; uncomment next line to dump HTML if needed\n",
    "            # print(\"DEBUG status:\", r.status_code, \"URL:\", u)\n",
    "            if r.status_code != 200 or not r.text:\n",
    "                time.sleep(sleep_sec); continue\n",
    "\n",
    "            title = _extract_title_from_html(r.text)\n",
    "            if title:\n",
    "                # Avoid adding useless 'Amazon.com' fallback as a signal\n",
    "                if title.lower().strip() == \"amazon.com\":\n",
    "                    # treat as failure; skip adding\n",
    "                    pass\n",
    "                else:\n",
    "                    titles.append(title)\n",
    "\n",
    "        except requests.RequestException as e:\n",
    "            # DEBUG: print(e)  # uncomment if you want to see the error\n",
    "            pass\n",
    "\n",
    "        time.sleep(sleep_sec)\n",
    "\n",
    "    return titles\n",
    "\n",
    "def link_find_split(user_request: str) -> Tuple[str, List[str]]:\n",
    "    url_pattern = re.compile(r\"https?://\\S+\")\n",
    "    urls = url_pattern.findall(user_request)\n",
    "    user_request_text = url_pattern.sub(\"\", user_request).strip()\n",
    "\n",
    "    link_titles = link_parser(urls)\n",
    "    return user_request_text, link_titles"
   ]
  },
  {
   "cell_type": "code",
   "execution_count": 4,
   "metadata": {},
   "outputs": [],
   "source": [
    "# FUNCTIONS \n",
    "# EMBEDDING THE RESTOCK REQUEST + COMPARING TO INVENTORY \n",
    "\n",
    "def embed_normalize(texts: List[str], batch_size: int = 128) -> np.ndarray:\n",
    "   emb = model.encode(\n",
    "       texts,\n",
    "       batch_size=batch_size,\n",
    "       convert_to_numpy=True,\n",
    "       normalize_embeddings=False,  # we’ll handle normalization ourselves\n",
    "       show_progress_bar=True,\n",
    "   ).astype(np.float32, copy=False)\n",
    "   # L2-normalize rows\n",
    "   norms = np.linalg.norm(emb, axis=1, keepdims=True)\n",
    "   norms[norms == 0] = 1.0  # avoid division by zero\n",
    "   emb = emb / norms\n",
    "   return emb\n",
    "\n",
    "def find_five_inventory_match(\n",
    "    extracted_vector: np.ndarray,\n",
    "    names_matrix: np.ndarray,\n",
    "    uuid_list: List[str],\n",
    "    inventory_lookup: Dict[str, Dict],\n",
    ") -> List[Dict]:\n",
    "    scores = names_matrix @ extracted_vector  # shape (N,)\n",
    "    top_idx = np.argpartition(scores, -5)[-5:]\n",
    "    top_idx = top_idx[np.argsort(scores[top_idx])[::-1]]  # sort descending\n",
    "\n",
    "    matches: List[Dict] = []\n",
    "    for i in top_idx:\n",
    "        uuid = uuid_list[i]\n",
    "        item = inventory_lookup[uuid]\n",
    "\n",
    "        # Shallow copy (top-level only). Nested structures (like locations list) are shared.\n",
    "        d = item.copy()\n",
    "\n",
    "        # Attach retrieval metadata\n",
    "        d[\"uuid\"] = uuid\n",
    "        d[\"score\"] = float(scores[i])\n",
    "\n",
    "        matches.append(d)\n",
    "\n",
    "    return matches\n",
    "\n"
   ]
  },
  {
   "cell_type": "code",
   "execution_count": 16,
   "metadata": {},
   "outputs": [],
   "source": [
    "# # FUNCTIONS \n",
    "# # SETTING UP LLM TO PROCESS SINGLE RESTOCK REQUEST + CANDIDATES \n",
    "\n",
    "\n",
    "_oai_client = OpenAI()\n",
    "\n",
    "# Expect these to exist in your module\n",
    "AREA_LABELS = [\n",
    "   \"Cabinet 1\",\"Cabinet 2\",\"Cabinet 3\", \"Cabinet 4\", \"Cabinet 5\",\"Cabinet 6\",\"Cabinet 7\", \"Cabinet 9\", \"Cabinet 11\", \"Cabinet 15\", \"Pegboard 1\",\"Fabric\", \"LFP\", \"Laser3D\",\n",
    "   \"Electronics\", \"Studio\", \"Spraypaint\", \"Cage/Crypt/Other\"\n",
    "]\n",
    "\n",
    "LOCATION_GUIDE = {\n",
    "    \"Cabinet 3\": [\"jewelry\",\"wire\",\"chain\",\"beads\"],\n",
    "    \"Cabinet 4\": [\"paint (not spraypaint)\",\"acrylic\",\"tempera\",\"gouache\",\"watercolor\"],\n",
    "    \"Cabinet 5\": [\"glue\",\"adhesive\",\"tape\",\"masking tape\",\"painter's tape\"],\n",
    "    \"Cabinet 6\": [\"ribbon\"],\n",
    "    \"Cabinet 7\": [\"paper\",\"cardstock\",\"construction paper\",\"origami paper\"],\n",
    "    \"Cabinet 9\": [\"leather\",\"wood carving\",\"clay\",\"linoleum tools\",\"stamp carving\"],\n",
    "    \"Cabinet 11\": [\"hand tools\",\"pliers\",\"wrenches\",\"screwdrivers\",\"nuts\",\"bolts\",\"sandpaper\"],\n",
    "    \"Fabric\": [\"fabric bolts\",\"stuffing\",\"stabilizer\",\"yarn\",\"felt\",\"sewing fabric\"],\n",
    "    \"Pegboard 1\": [\"safety pins\",\"needles\",\"sewing machine bits\",\"bobbin\",\"thimble\", \"most types of threads (cotton, polyester,twine)\"],\n",
    "    \"Laser3D\": [\"PLA\",\"filament\",\"3d printer\",\"nozzle\",\"laser wood\",\"laser sheet\"],\n",
    "    \"Spraypaint\": [\"spray paint\",\"aerosol\",\"sealant\",\"clear coat\"],\n",
    "    \"LFP\": [\"printer\",\"ink\",\"toner\",\"plotter\",\"large roll paper\",\"rolls\"]\n",
    "}\n",
    "\n",
    "def llm_match(\n",
    "    comment_text: str,\n",
    "    extracted_item_names: List[str],\n",
    "    five_candidates: List[Dict],\n",
    ") -> Tuple[str, str, str]:\n",
    "    \"\"\"\n",
    "    Area-first selector.\n",
    "    Returns (item_uuid, item_name, item_location).\n",
    "    Falls back to (\"\", \"\", \"Cage/Crypt/Other\") on any error.\n",
    "    \"\"\"\n",
    "    # ensure scores are JSON-serializable\n",
    "    for c in five_candidates or []:\n",
    "        if \"score\" in c:\n",
    "            c[\"score\"] = float(c[\"score\"])\n",
    "\n",
    "        # COMMENT OUT LATER   \n",
    "        print(f\"Candidate: {c.get('full_name') or c.get('name')} — {c.get('locations')}\")\n",
    "\n",
    "    # --- SYSTEM INSTRUCTIONS (explicit and strict) ---\n",
    "    system_instructions = (\n",
    "        \"You label Makerspace restock requests.\\n\"\n",
    "        \"\\n\"\n",
    "        \"PRIMARY GOAL:\\n\"\n",
    "        \"• The most important choice is the LOCATION (area). The exact item is secondary.\\n\"\n",
    "        \"\\n\"\n",
    "        \"INPUTS (as JSON):\\n\"\n",
    "        \"• REQUEST: {comment, extracted_item_names}\\n\"\n",
    "        \"• CANDIDATES: exactly 5 items, each with {item_uuid, name, role (M|T), locations, cosine_score}\\n\"\n",
    "        \"• ALLOWED_AREAS: the only valid location labels you may output\\n\"\n",
    "        \"• LOCATION_GUIDE: advisory hints describing what tends to live in each area\\n\"\n",
    "        \"\\n\"\n",
    "        \"DECISION POLICY (follow in order):\\n\"\n",
    "        \"1) Choose the LOCATION strictly from ALLOWED_AREAS.\\n\"\n",
    "        \"   - Use LOCATION_GUIDE strongly to interpret the request.\\n\"\n",
    "        \"   - De-emphasize cosine_score; do not rely on it heavily.\\n\"\n",
    "        \"   - Prefer MATERIALS over TOOLS when ambiguous (role 'M' > 'T').\\n\"\n",
    "        \"   - If multiple candidates are similar and cluster in one area, that area becomes more likely.\\n\"\n",
    "        \"2) After choosing the LOCATION, pick the ITEM from among the 5 candidates that belongs to that LOCATION. \\n\"\n",
    "        \"   - If NONE of the 5 candidates are in the chosen LOCATION, leave item_uuid and name as empty strings.\\n\"\n",
    "        \"\\n\"\n",
    "        \"OUTPUT SPECIFICATION (STRICT):\\n\"\n",
    "        \"• Respond with exactly one JSON object (no extra text) with these keys ONLY:\\n\"\n",
    "        \"  {\\\"item_uuid\\\":\\\"<uuid or empty>\\\",\\\"name\\\":\\\"<candidate name or empty>\\\",\\\"location\\\":\\\"<one of ALLOWED_AREAS>\\\"}\\n\"\n",
    "        \"• Do not invent keys, do not output markdown or explanations.\"\n",
    "    )\n",
    "\n",
    "    # --- USER PAYLOAD (single source of truth for areas & guide) ---\n",
    "    payload = {\n",
    "        \"REQUEST\": {\n",
    "            \"comment\": comment_text or \"\",\n",
    "            \"extracted_item_names\": list(extracted_item_names or []),\n",
    "        },\n",
    "        \"CANDIDATES\": [\n",
    "            {\n",
    "                \"item_uuid\": c.get(\"uuid\") or c.get(\"item_uuid\") or \"\",\n",
    "                \"name\": c.get(\"full_name\") or c.get(\"name\") or \"\",\n",
    "                \"role\": c.get(\"role\") or c.get(\"kind\") or \"\",     # 'M' or 'T' (materials > tools)\n",
    "                \"locations\": c.get(\"locations\"),                   # pass raw locations through\n",
    "                \"cosine_score\": c.get(\"score\", None),\n",
    "            }\n",
    "            for c in (five_candidates or [])\n",
    "        ],\n",
    "        \"ALLOWED_AREAS\": AREA_LABELS,\n",
    "        \"LOCATION_GUIDE\": LOCATION_GUIDE,\n",
    "    }\n",
    "\n",
    "    try:\n",
    "        resp = _oai_client.chat.completions.create(\n",
    "            model=\"o3\",\n",
    "            response_format={\"type\": \"json_object\"},   # enforce JSON-only reply\n",
    "            messages=[\n",
    "                {\"role\": \"system\", \"content\": system_instructions},\n",
    "                {\"role\": \"user\", \"content\": json.dumps(payload, ensure_ascii=False)},\n",
    "            ],\n",
    "            # temperature=0,\n",
    "        )\n",
    "\n",
    "        raw: Optional[str] = getattr(resp, \"output_text\", None) or (resp.choices[0].message.content or \"\").strip()\n",
    "        if not raw:\n",
    "            raise ValueError(\"Empty LLM response\")\n",
    "\n",
    "        data = json.loads(raw)\n",
    "        item_uuid = (data or {}).get(\"item_uuid\") or \"\"\n",
    "        item_name = (data or {}).get(\"name\") or \"\"\n",
    "        item_location = (data or {}).get(\"location\") or \"\"\n",
    "\n",
    "        # Validate location against allowed set\n",
    "        if item_location not in AREA_LABELS:\n",
    "            raise ValueError(f\"Invalid location: {item_location}\")\n",
    "\n",
    "        # If a UUID is present, ensure it came from the 5; otherwise clear both uuid & name\n",
    "        cand_by_uuid = {\n",
    "            (c.get(\"uuid\") or c.get(\"item_uuid\")): c\n",
    "            for c in (five_candidates or [])\n",
    "            if (c.get(\"uuid\") or c.get(\"item_uuid\"))\n",
    "        }\n",
    "        if item_uuid:\n",
    "            if item_uuid not in cand_by_uuid:\n",
    "                item_uuid, item_name = \"\", \"\"\n",
    "            else:\n",
    "                # Canonicalize name from candidate record (source of truth)\n",
    "                src = cand_by_uuid[item_uuid]\n",
    "                canonical = src.get(\"full_name\") or src.get(\"name\") or item_name\n",
    "                item_name = canonical\n",
    "\n",
    "        return item_uuid, item_name, item_location\n",
    "\n",
    "    # except Exception:\n",
    "    #     return \"\", \"\", \"Cage/Crypt/Other\"\n",
    "\n",
    "    except Exception as e:\n",
    "        print(\"[LLM ERROR]\", repr(e))\n",
    "        if raw:\n",
    "            # show a helpful snippet of what the model actually returned\n",
    "            print(\"[LLM RAW][:800]:\", raw[:800])\n",
    "        # show quick context to debug common issues\n",
    "        try:\n",
    "            missing = set(LOCATION_GUIDE.keys()) - set(AREA_LABELS)\n",
    "            if missing:\n",
    "                print(\"[HINT] LOCATION_GUIDE keys missing from AREA_LABELS:\", sorted(missing))\n",
    "        except Exception:\n",
    "            pass\n",
    "        print(\"[HINT] Candidate UUIDs:\", [c.get(\"uuid\") or c.get(\"item_uuid\") for c in (five_candidates or [])])\n",
    "        return \"\", \"\", \"Cage/Crypt/Other\"\n"
   ]
  },
  {
   "cell_type": "code",
   "execution_count": 26,
   "metadata": {},
   "outputs": [
    {
     "name": "stdout",
     "output_type": "stream",
     "text": [
      "\n",
      " *********************************************************** \n",
      " \n",
      "\n",
      " text =  Slightly bigger seed beads (current ones are much smaller than 4 mm)\n",
      "\n",
      " link items =  ['Redtwo 4mm Glass Seed Beads for Jewelry Bracelet Making Kit, Small Beads Friendship Bracelet Kit, Tiny Waist Beads with Letter Beads and Elastic String, DIY Art Craft Girls Gifts.']\n"
     ]
    },
    {
     "name": "stderr",
     "output_type": "stream",
     "text": [
      "Batches: 100%|██████████| 1/1 [00:00<00:00,  2.24it/s]\n"
     ]
    },
    {
     "name": "stdout",
     "output_type": "stream",
     "text": [
      "Candidate: Metal Charms — [{'room': 'Main', 'container': 'Cabinet 3', 'specific': 'Shelf 6'}, {'room': 'Cage', 'container': '5c', 'specific': 'Stack 4|-3'}]\n",
      "Candidate: Pony Beads — [{'room': 'Main', 'container': 'Cabinet 3', 'specific': 'Shelf 13'}, {'room': 'Cage', 'container': '5e', 'specific': '|4'}]\n",
      "Candidate: Iron-On Patches — [{'room': 'Main', 'container': 'Cabinet 1', 'specific': 'Shelf 14'}]\n",
      "Candidate: Seed Beads — [{'room': 'Main', 'container': 'Cabinet 3', 'specific': 'Shelf 10'}, {'room': 'Cage', 'container': '5d', 'specific': 'Stack 8|-3'}]\n",
      "Candidate: honing guide — [{'room': 'Cage', 'container': 'Cabinet 9', 'specific': 'Shelf 3'}]\n",
      "LLM returns: \n",
      " Seed Beads \n",
      " Cabinet 3\n",
      "\n",
      " *********************************************************** \n",
      " \n",
      "\n",
      " text =  fabric stabilizer\n",
      "\n",
      " link items =  []\n"
     ]
    },
    {
     "name": "stderr",
     "output_type": "stream",
     "text": [
      "Batches: 100%|██████████| 1/1 [00:00<00:00, 15.11it/s]"
     ]
    },
    {
     "name": "stdout",
     "output_type": "stream",
     "text": [
      "Candidate: Permanent Fabric Markers — [{'room': 'Main', 'container': 'Cabinet 1', 'specific': 'Shelf 6'}, {'room': 'Cage', 'container': '5e', 'specific': '|-3'}]\n",
      "Candidate: Leather Sewing Machine — [{'room': 'Cage', 'container': 'Floor', 'specific': None}]\n",
      "Candidate: Seam Rippers — [{'room': 'Main', 'container': 'Pegboard 1', 'specific': 'E5'}, {'room': 'Cage', 'container': '5c', 'specific': 'Stack 7|-3'}]\n",
      "Candidate: Scissors — [{'room': 'Main', 'container': 'Cabinet 3', 'specific': 'Shelf 1'}, {'room': 'Cage', 'container': '5d', 'specific': 'Stack 1|-3'}]\n",
      "Candidate: Clear Wood Sealer — [{'room': 'Cage', 'container': '7b', 'specific': ''}]\n"
     ]
    },
    {
     "name": "stderr",
     "output_type": "stream",
     "text": [
      "\n"
     ]
    },
    {
     "name": "stdout",
     "output_type": "stream",
     "text": [
      "LLM returns: \n",
      "  \n",
      " Fabric\n",
      "\n",
      " *********************************************************** \n",
      " \n",
      "\n",
      " text =  black, white, and grey embroidery floss\n",
      "\n",
      " link items =  []\n"
     ]
    },
    {
     "name": "stderr",
     "output_type": "stream",
     "text": [
      "Batches: 100%|██████████| 1/1 [00:00<00:00, 10.40it/s]"
     ]
    },
    {
     "name": "stdout",
     "output_type": "stream",
     "text": [
      "Candidate: Fabric Scissors — [{'room': 'Main', 'container': 'Cabinet 1', 'specific': 'Shelf 1'}, {'room': 'Cage', 'container': '5d', 'specific': 'Stack 1|-3'}]\n",
      "Candidate: Keychain Clasps — [{'room': 'Main', 'container': 'Cabinet 3', 'specific': 'Shelf 9'}, {'room': 'Cage', 'container': '5d', 'specific': 'Stack 3|-3'}]\n",
      "Candidate: Black Cotton Thread — [{'room': 'Cage', 'container': '5c', 'specific': 'Stack 1|-3'}]\n",
      "Candidate: Plastic Scrapers — [{'room': 'Main', 'container': 'Cabinet 4', 'specific': 'Shelf 14'}, {'room': 'Cage', 'container': '5c', 'specific': 'Stack 20|-2'}]\n",
      "Candidate: Permanent Fabric Markers — [{'room': 'Main', 'container': 'Cabinet 1', 'specific': 'Shelf 6'}, {'room': 'Cage', 'container': '5e', 'specific': '|-3'}]\n"
     ]
    },
    {
     "name": "stderr",
     "output_type": "stream",
     "text": [
      "\n"
     ]
    },
    {
     "name": "stdout",
     "output_type": "stream",
     "text": [
      "LLM returns: \n",
      "  \n",
      " Pegboard 1\n",
      "\n",
      " *********************************************************** \n",
      " \n",
      "\n",
      " text =  plastic cover for bobbin compartment on the brother sewing machine\n",
      "\n",
      " link items =  []\n"
     ]
    },
    {
     "name": "stderr",
     "output_type": "stream",
     "text": [
      "Batches: 100%|██████████| 1/1 [00:00<00:00, 14.57it/s]"
     ]
    },
    {
     "name": "stdout",
     "output_type": "stream",
     "text": [
      "Candidate: Singer Sewing Machine 20 — [{'room': 'Cage', 'container': '3e', 'specific': ''}]\n",
      "Candidate: T-pins — [{'room': 'Main', 'container': 'Pegboard 1', 'specific': 'F5'}]\n",
      "Candidate: Brother Sewing Machine 18 — [{'room': 'Cage', 'container': '3e', 'specific': ''}]\n",
      "Candidate: Baby Lock Sewing Machine 17 — [{'room': 'Cage', 'container': '3d', 'specific': ''}]\n",
      "Candidate: Sewing Machine Screw Drivers — [{'room': 'Main', 'container': 'Pegboard 1', 'specific': 'J1'}]\n"
     ]
    },
    {
     "name": "stderr",
     "output_type": "stream",
     "text": [
      "\n"
     ]
    },
    {
     "name": "stdout",
     "output_type": "stream",
     "text": [
      "LLM returns: \n",
      " Sewing Machine Screw Drivers \n",
      " Pegboard 1\n",
      "\n",
      " *********************************************************** \n",
      " \n",
      "\n",
      " text =  Dangling earring hooks\n",
      "\n",
      " link items =  ['Thrilez Hypoallergenic Earring Hooks, 600Pcs Earring Making Kit with Hypoallergenic Earring Hooks, Jump Rings and Clear Rubber Earring Backs for DIY Jewelry Making (Silver and Gold)']\n"
     ]
    },
    {
     "name": "stderr",
     "output_type": "stream",
     "text": [
      "Batches: 100%|██████████| 1/1 [00:00<00:00,  3.67it/s]\n"
     ]
    },
    {
     "name": "stdout",
     "output_type": "stream",
     "text": [
      "Candidate: Thin White Elastic Band — [{'room': 'Main', 'container': 'Cabinet 1', 'specific': 'Shelf 13'}, {'room': 'Cage', 'container': '5c', 'specific': 'Stack 26|-3'}]\n",
      "Candidate: Thin Black Elastic Band — [{'room': 'Main', 'container': 'Cabinet 1', 'specific': 'Shelf 13'}, {'room': 'Cage', 'container': '5c', 'specific': 'Stack 26|-3'}]\n",
      "Candidate: honing guide — [{'room': 'Cage', 'container': 'Cabinet 9', 'specific': 'Shelf 3'}]\n",
      "Candidate: Toothpicks — [{'room': 'Main', 'container': 'Cabinet 2', 'specific': 'Shelf 9'}, {'room': 'Cage', 'container': '5c', 'specific': 'Stack 17|-3'}]\n",
      "Candidate: Small Embroidery Hoops — [{'room': 'Main', 'container': 'Cabinet 1', 'specific': 'Shelf 7'}, {'room': 'Cage', 'container': '5d', 'specific': 'Stack 8|-3'}]\n",
      "LLM returns: \n",
      "  \n",
      " Cabinet 3\n",
      "\n",
      " *********************************************************** \n",
      " \n",
      "\n",
      " text =  Black, White, Red Spray paint. Primer spray paint.\n",
      "\n",
      " link items =  []\n"
     ]
    },
    {
     "name": "stderr",
     "output_type": "stream",
     "text": [
      "Batches: 100%|██████████| 1/1 [00:00<00:00, 10.91it/s]"
     ]
    },
    {
     "name": "stdout",
     "output_type": "stream",
     "text": [
      "Candidate: Halogen Modeling Light Bulb, Impact — [{'room': 'Studio', 'container': 'Studio 3', 'specific': 'Shelf 4'}]\n",
      "Candidate: Ball Bearings — [{'room': 'Cage', 'container': 'Movable Shelves', 'specific': None}]\n",
      "Candidate: White Acrylic Paint — [{'room': 'Cage', 'container': '5c', 'specific': 'Stack 21|-3'}]\n",
      "Candidate: Black Polyester Thread — [{'room': 'Cage', 'container': '5c', 'specific': 'Stack 1'}]\n",
      "Candidate: Pipe Cleaners — [{'room': 'Main', 'container': 'Cabinet 2', 'specific': 'Shelf 8'}, {'room': 'Cage', 'container': '5d', 'specific': 'Stack 13|-3'}]\n"
     ]
    },
    {
     "name": "stderr",
     "output_type": "stream",
     "text": [
      "\n"
     ]
    },
    {
     "name": "stdout",
     "output_type": "stream",
     "text": [
      "LLM returns: \n",
      "  \n",
      " Spraypaint\n",
      "\n",
      " *********************************************************** \n",
      " \n",
      "\n",
      " text =  Stuffing (polyester fiber fill)\n",
      "\n",
      " link items =  []\n"
     ]
    },
    {
     "name": "stderr",
     "output_type": "stream",
     "text": [
      "Batches: 100%|██████████| 1/1 [00:00<00:00,  8.79it/s]"
     ]
    },
    {
     "name": "stdout",
     "output_type": "stream",
     "text": [
      "Candidate: Curved Needles — [{'room': 'Main', 'container': 'Pegboard 1', 'specific': 'G1'}, {'room': 'Cage', 'container': '5e', 'specific': 'Pegboard Bins|-2'}]\n",
      "Candidate: Cotton Thread — [{'room': 'Main', 'container': 'Pegboard 1', 'specific': 'Front'}]\n",
      "Candidate: Ironing mat — [{'room': 'Cage', 'container': '3c', 'specific': None}]\n",
      "Candidate: Leather Sewing Machine — [{'room': 'Cage', 'container': 'Floor', 'specific': None}]\n",
      "Candidate: Various Wheels — [{'room': 'The Crypt', 'container': '2d', 'specific': None}]\n"
     ]
    },
    {
     "name": "stderr",
     "output_type": "stream",
     "text": [
      "\n"
     ]
    },
    {
     "name": "stdout",
     "output_type": "stream",
     "text": [
      "LLM returns: \n",
      "  \n",
      " Fabric\n",
      "\n",
      " *********************************************************** \n",
      " \n",
      "\n",
      " text =  More yarn!!!! Much more yarn\n",
      "\n",
      " link items =  []\n"
     ]
    },
    {
     "name": "stderr",
     "output_type": "stream",
     "text": [
      "Batches: 100%|██████████| 1/1 [00:00<00:00, 16.36it/s]"
     ]
    },
    {
     "name": "stdout",
     "output_type": "stream",
     "text": [
      "Candidate: Straight Knitting Needles — [{'room': 'Main', 'container': 'Cabinet 1', 'specific': 'Shelf 4'}, {'room': 'Cage', 'container': '5c', 'specific': 'Stack 24|-3'}]\n",
      "Candidate: Cross stitch books — [{'room': 'Main', 'container': 'Fabrics', 'specific': None}]\n",
      "Candidate: Embroidery Machine — [{'room': 'Cage', 'container': '3e', 'specific': None}]\n",
      "Candidate: Tweezers — [{'room': 'Main', 'container': 'Cabinet 3', 'specific': 'Shelf 3'}, {'room': 'Cage', 'container': '5c', 'specific': 'Stack 5|11'}]\n",
      "Candidate: Pin Cushions — [{'room': 'Main', 'container': 'Cabinet 1', 'specific': 'Shelf 3'}]\n"
     ]
    },
    {
     "name": "stderr",
     "output_type": "stream",
     "text": [
      "\n"
     ]
    },
    {
     "name": "stdout",
     "output_type": "stream",
     "text": [
      "LLM returns: \n",
      " Cross stitch books \n",
      " Fabric\n",
      "\n",
      " *********************************************************** \n",
      " \n",
      "\n",
      " text =  Felt sheets\n",
      "\n",
      " link items =  ['Simetufy 120 Pcs Felt Fabric Sheets, 8x12 Inch DIY Felt Sheets, 1mm Thick Non-Woven Patchwork Material for Sewing Projects & Decoration - 40 Assorted Colors (20 x 30cm)']\n"
     ]
    },
    {
     "name": "stderr",
     "output_type": "stream",
     "text": [
      "Batches: 100%|██████████| 1/1 [00:00<00:00,  6.96it/s]"
     ]
    },
    {
     "name": "stdout",
     "output_type": "stream",
     "text": [
      "Candidate: Dixie Cups (for painting) — [{'room': 'Main', 'container': 'Cabinet 16', 'specific': '(by paint sink)'}]\n",
      "Candidate: Plastic Sheeting — [{'room': 'Cage', 'container': '1a', 'specific': ''}]\n",
      "Candidate: Printer — [{'room': 'Cage', 'container': '8d', 'specific': None}]\n",
      "Candidate: Laminator Sheets (Business Card Size) — [{'room': 'Cage', 'container': '1b', 'specific': ''}]\n",
      "Candidate: Felting Needles — [{'room': 'Main', 'container': 'Cabinet 1', 'specific': 'Shelf 12'}]\n"
     ]
    },
    {
     "name": "stderr",
     "output_type": "stream",
     "text": [
      "\n"
     ]
    },
    {
     "name": "stdout",
     "output_type": "stream",
     "text": [
      "LLM returns: \n",
      "  \n",
      " Fabric\n",
      "\n",
      " *********************************************************** \n",
      " \n",
      "\n",
      " text =  Thick batting (e.g. for making quilts)\n",
      "\n",
      " link items =  []\n"
     ]
    },
    {
     "name": "stderr",
     "output_type": "stream",
     "text": [
      "Batches: 100%|██████████| 1/1 [00:00<00:00,  6.45it/s]"
     ]
    },
    {
     "name": "stdout",
     "output_type": "stream",
     "text": [
      "Candidate: Plastic Straws — [{'room': 'Main', 'container': 'Cabinet 2', 'specific': 'Shelf 10'}, {'room': 'Cage', 'container': '5d', 'specific': 'Stack 14|-3'}]\n",
      "Candidate: Pencil sharpener — [{'room': 'Main', 'container': 'Counter', 'specific': 'by the lockers'}]\n",
      "Candidate: Felt Sheets — [{'room': 'Main', 'container': 'Fabrics', 'specific': ''}]\n",
      "Candidate: Knitting books — [{'room': 'Main', 'container': 'Fabrics', 'specific': None}]\n",
      "Candidate: Large Embroidery Hoops — [{'room': 'Main', 'container': 'Cabinet 1', 'specific': 'Shelf 8'}, {'room': 'Cage', 'container': '5d', 'specific': 'Stack 8|-3'}]\n"
     ]
    },
    {
     "name": "stderr",
     "output_type": "stream",
     "text": [
      "\n"
     ]
    },
    {
     "name": "stdout",
     "output_type": "stream",
     "text": [
      "LLM returns: \n",
      " Felt Sheets \n",
      " Fabric\n",
      "\n",
      " *********************************************************** \n",
      " \n",
      "\n",
      " text =  large clothes pins\n",
      "\n",
      " link items =  []\n"
     ]
    },
    {
     "name": "stderr",
     "output_type": "stream",
     "text": [
      "Batches: 100%|██████████| 1/1 [00:00<00:00, 17.70it/s]"
     ]
    },
    {
     "name": "stdout",
     "output_type": "stream",
     "text": [
      "Candidate: Cotton Swabs/Q-Tips — [{'room': 'Main', 'container': 'Cabinet 2', 'specific': 'Shelf 12'}, {'room': 'Cage', 'container': '5c', 'specific': 'Stack 15|-3'}]\n",
      "Candidate: Plastic Clips — [{'room': 'Main', 'container': 'Pegboard 1', 'specific': 'B7'}, {'room': 'Cage', 'container': '5e', 'specific': 'Pegboard Bins|-3'}]\n",
      "Candidate: Small Metal Magnets — [{'room': 'Main', 'container': 'Cabinet 2', 'specific': 'Shelf 1'}, {'room': 'Cage', 'container': '5c', 'specific': 'Stack 14|-3'}]\n",
      "Candidate: Mini Screwdrivers — [{'room': 'Cage', 'container': '5c', 'specific': 'Stack 12'}]\n",
      "Candidate: Rubber Bands — [{'room': 'Main', 'container': 'Cabinet 3', 'specific': 'Shelf 19'}, {'room': 'Cage', 'container': '5d', 'specific': 'Stack 15|-3'}]\n"
     ]
    },
    {
     "name": "stderr",
     "output_type": "stream",
     "text": [
      "\n"
     ]
    },
    {
     "name": "stdout",
     "output_type": "stream",
     "text": [
      "LLM returns: \n",
      " Plastic Clips \n",
      " Pegboard 1\n",
      "\n",
      " *********************************************************** \n",
      " \n",
      "\n",
      " text =  Felt squares\n",
      "\n",
      " link items =  ['52PCS Felt Sheets, 8x12 inch Felt Fabric Sheet, 40 Assorted Colors, 1mm Thickness Felt Squares- Ideal for DIY Crafts, Embroidery, Needle Felting, and Sewing Projects']\n"
     ]
    },
    {
     "name": "stderr",
     "output_type": "stream",
     "text": [
      "Batches: 100%|██████████| 1/1 [00:00<00:00,  7.62it/s]"
     ]
    },
    {
     "name": "stdout",
     "output_type": "stream",
     "text": [
      "Candidate: Dixie Cups (for painting) — [{'room': 'Main', 'container': 'Cabinet 16', 'specific': '(by paint sink)'}]\n",
      "Candidate: Plastic Sheeting — [{'room': 'Cage', 'container': '1a', 'specific': ''}]\n",
      "Candidate: Printer — [{'room': 'Cage', 'container': '8d', 'specific': None}]\n",
      "Candidate: Felting Needles — [{'room': 'Main', 'container': 'Cabinet 1', 'specific': 'Shelf 12'}]\n",
      "Candidate: Laminator Sheets (Business Card Size) — [{'room': 'Cage', 'container': '1b', 'specific': ''}]\n"
     ]
    },
    {
     "name": "stderr",
     "output_type": "stream",
     "text": [
      "\n"
     ]
    },
    {
     "name": "stdout",
     "output_type": "stream",
     "text": [
      "LLM returns: \n",
      "  \n",
      " Fabric\n",
      "\n",
      " *********************************************************** \n",
      " \n",
      "\n",
      " text =  Super glue\n",
      "\n",
      " link items =  []\n"
     ]
    },
    {
     "name": "stderr",
     "output_type": "stream",
     "text": [
      "Batches: 100%|██████████| 1/1 [00:00<00:00,  7.11it/s]"
     ]
    },
    {
     "name": "stdout",
     "output_type": "stream",
     "text": [
      "Candidate: Tacky Glue — [{'room': 'Main', 'container': 'Cabinet 5', 'specific': 'Shelf 1'}, {'room': 'Cage', 'container': '5d', 'specific': 'Stack 4|1'}]\n",
      "Candidate: Matte Mod Podge — [{'room': 'Main', 'container': 'Cabinet 5', 'specific': 'Shelf 1'}, {'room': 'Cage', 'container': '5e', 'specific': ''}]\n",
      "Candidate: Zippers — [{'room': 'Main', 'container': 'Cabinet 1', 'specific': 'Shelf 14'}, {'room': 'Cage', 'container': '5c', 'specific': 'Stack 23|-3'}]\n",
      "Candidate: Leather Sewing Machine — [{'room': 'Cage', 'container': 'Floor', 'specific': None}]\n",
      "Candidate: Packing Tape Dispenser — [{'room': 'Cage', 'container': 'Pegboard', 'specific': ''}, {'room': 'Cage', 'container': '8d', 'specific': '|2'}]\n"
     ]
    },
    {
     "name": "stderr",
     "output_type": "stream",
     "text": [
      "\n"
     ]
    },
    {
     "name": "stdout",
     "output_type": "stream",
     "text": [
      "LLM returns: \n",
      " Tacky Glue \n",
      " Cabinet 5\n",
      "\n",
      " *********************************************************** \n",
      " \n",
      "\n",
      " text =  Wire and chains:\n",
      "\n",
      " link items =  ['PAXCOO 6 Pack Jewelry Beading Wire for Jewelry Making Supplies and Craft (24 Gauge)', 'PP OPOUNT 80 Feet Necklace Chains Roll, 8 Colors Jewelry Making Chains 2 mm Metal Chains with Open Jump Rings and Lobster Clasps for Jewelry Making DIY Necklace Bracelet Anklet']\n"
     ]
    },
    {
     "name": "stderr",
     "output_type": "stream",
     "text": [
      "Batches: 100%|██████████| 1/1 [00:00<00:00,  3.64it/s]\n"
     ]
    },
    {
     "name": "stdout",
     "output_type": "stream",
     "text": [
      "Candidate: Toothpicks — [{'room': 'Main', 'container': 'Cabinet 2', 'specific': 'Shelf 9'}, {'room': 'Cage', 'container': '5c', 'specific': 'Stack 17|-3'}]\n",
      "Candidate: Safety Pins — [{'room': 'Main', 'container': 'Cabinet 3', 'specific': 'Shelf 20'}, {'room': 'Main', 'container': 'Pegboard 1', 'specific': 'C4|-3'}, {'room': 'Cage', 'container': '5c', 'specific': 'Stack 18|-3'}]\n",
      "Candidate: Thick Black Elastic Band — [{'room': 'Main', 'container': 'Cabinet 1', 'specific': 'Shelf 13'}, {'room': 'Cage', 'container': '5c', 'specific': 'Stack 26|-3'}]\n",
      "Candidate: Ironing mat — [{'room': 'Cage', 'container': '3c', 'specific': None}]\n",
      "Candidate: Small Embroidery Hoops — [{'room': 'Main', 'container': 'Cabinet 1', 'specific': 'Shelf 7'}, {'room': 'Cage', 'container': '5d', 'specific': 'Stack 8|-3'}]\n",
      "LLM returns: \n",
      " Safety Pins \n",
      " Cabinet 3\n",
      "\n",
      " *********************************************************** \n",
      " \n",
      "\n",
      " text =  Black paint\n",
      "\n",
      " link items =  []\n"
     ]
    },
    {
     "name": "stderr",
     "output_type": "stream",
     "text": [
      "Batches: 100%|██████████| 1/1 [00:00<00:00, 13.81it/s]"
     ]
    },
    {
     "name": "stdout",
     "output_type": "stream",
     "text": [
      "Candidate: White Acrylic Paint — [{'room': 'Cage', 'container': '5c', 'specific': 'Stack 21|-3'}]\n",
      "Candidate: Halogen Modeling Light Bulb, Impact — [{'room': 'Studio', 'container': 'Studio 3', 'specific': 'Shelf 4'}]\n",
      "Candidate: Pipe Cleaners — [{'room': 'Main', 'container': 'Cabinet 2', 'specific': 'Shelf 8'}, {'room': 'Cage', 'container': '5d', 'specific': 'Stack 13|-3'}]\n",
      "Candidate: Black Polyester Thread — [{'room': 'Cage', 'container': '5c', 'specific': 'Stack 1'}]\n",
      "Candidate: Old Hot Plate — [{'room': 'The Crypt', 'container': '2d', 'specific': ''}]\n"
     ]
    },
    {
     "name": "stderr",
     "output_type": "stream",
     "text": [
      "\n"
     ]
    },
    {
     "name": "stdout",
     "output_type": "stream",
     "text": [
      "LLM returns: \n",
      "  \n",
      " Cabinet 4\n",
      "\n",
      " *********************************************************** \n",
      " \n",
      "\n",
      " text =  3D Printer filament (in general)\n",
      "\n",
      " link items =  []\n"
     ]
    },
    {
     "name": "stderr",
     "output_type": "stream",
     "text": [
      "Batches: 100%|██████████| 1/1 [00:00<00:00,  7.36it/s]"
     ]
    },
    {
     "name": "stdout",
     "output_type": "stream",
     "text": [
      "Candidate: Laser Cutter Replacement Parts — [{'room': 'Laser3D', 'container': 'In Laser Cutter Side Panel', 'specific': ''}]\n",
      "Candidate: Spare Fuse Sift Sieve — [{'room': 'Laser3D', 'container': 'Cabinet 8', 'specific': ''}]\n",
      "Candidate: Lino Blocks — [{'room': 'Cage', 'container': 'Shelf 1E', 'specific': ''}]\n",
      "Candidate: Cricut Replacement Blades — [{'room': 'Cage', 'container': '1d', 'specific': ''}]\n",
      "Candidate: Iron Rest Pad — [{'room': 'Cage', 'container': '3b', 'specific': ''}]\n"
     ]
    },
    {
     "name": "stderr",
     "output_type": "stream",
     "text": [
      "\n"
     ]
    },
    {
     "name": "stdout",
     "output_type": "stream",
     "text": [
      "LLM returns: \n",
      " Laser Cutter Replacement Parts \n",
      " Laser3D\n",
      "\n",
      " *********************************************************** \n",
      " \n",
      "\n",
      " text =  Super glue\n",
      "\n",
      " link items =  []\n"
     ]
    },
    {
     "name": "stderr",
     "output_type": "stream",
     "text": [
      "Batches: 100%|██████████| 1/1 [00:00<00:00, 22.10it/s]"
     ]
    },
    {
     "name": "stdout",
     "output_type": "stream",
     "text": [
      "Candidate: Tacky Glue — [{'room': 'Main', 'container': 'Cabinet 5', 'specific': 'Shelf 1'}, {'room': 'Cage', 'container': '5d', 'specific': 'Stack 4|1'}]\n",
      "Candidate: Matte Mod Podge — [{'room': 'Main', 'container': 'Cabinet 5', 'specific': 'Shelf 1'}, {'room': 'Cage', 'container': '5e', 'specific': ''}]\n",
      "Candidate: Zippers — [{'room': 'Main', 'container': 'Cabinet 1', 'specific': 'Shelf 14'}, {'room': 'Cage', 'container': '5c', 'specific': 'Stack 23|-3'}]\n",
      "Candidate: Leather Sewing Machine — [{'room': 'Cage', 'container': 'Floor', 'specific': None}]\n",
      "Candidate: Packing Tape Dispenser — [{'room': 'Cage', 'container': 'Pegboard', 'specific': ''}, {'room': 'Cage', 'container': '8d', 'specific': '|2'}]\n"
     ]
    },
    {
     "name": "stderr",
     "output_type": "stream",
     "text": [
      "\n"
     ]
    },
    {
     "name": "stdout",
     "output_type": "stream",
     "text": [
      "LLM returns: \n",
      " Tacky Glue \n",
      " Cabinet 5\n",
      "\n",
      " *********************************************************** \n",
      " \n",
      "\n",
      " text =  seam rippers\n",
      "\n",
      " link items =  []\n"
     ]
    },
    {
     "name": "stderr",
     "output_type": "stream",
     "text": [
      "Batches: 100%|██████████| 1/1 [00:00<00:00, 13.16it/s]"
     ]
    },
    {
     "name": "stdout",
     "output_type": "stream",
     "text": [
      "Candidate: Thread Cutters — [{'room': 'Main', 'container': 'Pegboard 1', 'specific': 'E7'}, {'room': 'Cage', 'container': '5c', 'specific': 'Stack 7|13'}]\n",
      "Candidate: Plastic Needles — [{'room': 'Main', 'container': 'Pegboard 1', 'specific': 'D2'}, {'room': 'Cage', 'container': '5e', 'specific': 'Pegboard Bins|-3'}]\n",
      "Candidate: Fabric Spray Paint — [{'room': 'Other', 'container': 'Spray Paint Booth', 'specific': 'Flammable'}]\n",
      "Candidate: Scissors — [{'room': 'Main', 'container': 'Cabinet 3', 'specific': 'Shelf 1'}, {'room': 'Cage', 'container': '5d', 'specific': 'Stack 1|-3'}]\n",
      "Candidate: Crafting Books — [{'room': 'Main', 'container': 'Fabrics', 'specific': None}]\n"
     ]
    },
    {
     "name": "stderr",
     "output_type": "stream",
     "text": [
      "\n"
     ]
    },
    {
     "name": "stdout",
     "output_type": "stream",
     "text": [
      "LLM returns: \n",
      " Thread Cutters \n",
      " Pegboard 1\n",
      "\n",
      " *********************************************************** \n",
      " \n",
      "\n",
      " text =  embroidery needles (aka thick sewing needles with large loops)\n",
      "\n",
      " link items =  []\n"
     ]
    },
    {
     "name": "stderr",
     "output_type": "stream",
     "text": [
      "Batches: 100%|██████████| 1/1 [00:00<00:00,  8.20it/s]"
     ]
    },
    {
     "name": "stdout",
     "output_type": "stream",
     "text": [
      "Candidate: Plastic Scrapers — [{'room': 'Main', 'container': 'Cabinet 4', 'specific': 'Shelf 14'}, {'room': 'Cage', 'container': '5c', 'specific': 'Stack 20|-2'}]\n",
      "Candidate: Spool Pins — [{'room': 'Main', 'container': 'Pegboard 1', 'specific': 'D5'}]\n",
      "Candidate: Curtain Rings — [{'room': 'Main', 'container': 'Pegboard 1', 'specific': 'C5'}, {'room': 'Cage', 'container': '5e', 'specific': 'Pegboard Bins|-3'}]\n",
      "Candidate: Bias tape — [{'room': 'Main', 'container': 'Cabinet 1', 'specific': 'Shelf 13'}]\n",
      "Candidate: Needle Nose Pliers — [{'room': 'Main', 'container': 'Cabinet 3', 'specific': 'Shelf 3'}, {'room': 'Main', 'container': 'Cabinet 11', 'specific': 'Shelf 8|2'}, {'room': 'Cage', 'container': '5c', 'specific': 'Stack 12|-2'}]\n"
     ]
    },
    {
     "name": "stderr",
     "output_type": "stream",
     "text": [
      "\n"
     ]
    },
    {
     "name": "stdout",
     "output_type": "stream",
     "text": [
      "LLM returns: \n",
      " Spool Pins \n",
      " Pegboard 1\n",
      "\n",
      " *********************************************************** \n",
      " \n",
      "\n",
      " text =  hair ties\n",
      "\n",
      " link items =  []\n"
     ]
    },
    {
     "name": "stderr",
     "output_type": "stream",
     "text": [
      "Batches: 100%|██████████| 1/1 [00:00<00:00, 17.00it/s]"
     ]
    },
    {
     "name": "stdout",
     "output_type": "stream",
     "text": [
      "Candidate: Ear Plugs — [{'room': 'Cage', 'container': '8c', 'specific': None}]\n",
      "Candidate: Small Metal Magnets — [{'room': 'Main', 'container': 'Cabinet 2', 'specific': 'Shelf 1'}, {'room': 'Cage', 'container': '5c', 'specific': 'Stack 14|-3'}]\n",
      "Candidate: Cotton Swabs/Q-Tips — [{'room': 'Main', 'container': 'Cabinet 2', 'specific': 'Shelf 12'}, {'room': 'Cage', 'container': '5c', 'specific': 'Stack 15|-3'}]\n",
      "Candidate: Pipe Wrenches — [{'room': 'Main', 'container': 'Cabinet 11', 'specific': 'Shelf 7'}]\n",
      "Candidate: Mini Screwdrivers — [{'room': 'Cage', 'container': '5c', 'specific': 'Stack 12'}]\n"
     ]
    },
    {
     "name": "stderr",
     "output_type": "stream",
     "text": [
      "\n"
     ]
    },
    {
     "name": "stdout",
     "output_type": "stream",
     "text": [
      "LLM returns: \n",
      " Ear Plugs \n",
      " Cage/Crypt/Other\n",
      "\n",
      " *********************************************************** \n",
      " \n",
      "\n",
      " text =  Wire/Side cutters.\n",
      "\n",
      " link items =  ['BOOSDEN 5\" Wire Cutters, 5 Pack, Precision Cutting Pliers, Ultra Sharp Wire Snips Wire Clippers, Spring Loaded Flush Cutter, Diagonal Cutting Pliers for Jewelry Making Crafting, Wire Cutters Set']\n"
     ]
    },
    {
     "name": "stderr",
     "output_type": "stream",
     "text": [
      "Batches: 100%|██████████| 1/1 [00:00<00:00,  4.41it/s]\n"
     ]
    },
    {
     "name": "stdout",
     "output_type": "stream",
     "text": [
      "Candidate: Toothpicks — [{'room': 'Main', 'container': 'Cabinet 2', 'specific': 'Shelf 9'}, {'room': 'Cage', 'container': '5c', 'specific': 'Stack 17|-3'}]\n",
      "Candidate: Cricut Replacement Blades — [{'room': 'Cage', 'container': '1d', 'specific': ''}]\n",
      "Candidate: Ryoba Saw — [{'room': 'Cage', 'container': 'Pegboard', 'specific': None}]\n",
      "Candidate: Spare Multimeter Probes — [{'room': 'Cage', 'container': '2b', 'specific': None}]\n",
      "Candidate: Misc. Hardware — [{'room': 'Main', 'container': 'Cabinet 9', 'specific': 'Shelf 7'}]\n",
      "LLM returns: \n",
      "  \n",
      " Cabinet 11\n",
      "\n",
      " *********************************************************** \n",
      " \n",
      "\n",
      " text =  plastic embroidery needles\n",
      "\n",
      " link items =  []\n"
     ]
    },
    {
     "name": "stderr",
     "output_type": "stream",
     "text": [
      "Batches: 100%|██████████| 1/1 [00:00<00:00, 14.99it/s]"
     ]
    },
    {
     "name": "stdout",
     "output_type": "stream",
     "text": [
      "Candidate: Plastic Scrapers — [{'room': 'Main', 'container': 'Cabinet 4', 'specific': 'Shelf 14'}, {'room': 'Cage', 'container': '5c', 'specific': 'Stack 20|-2'}]\n",
      "Candidate: Tiny Thread — [{'room': 'Main', 'container': 'Pegboard 1', 'specific': 'C8'}, {'room': 'Cage', 'container': '5e', 'specific': 'Pegboard Bins|-2'}]\n",
      "Candidate: Spool Pins — [{'room': 'Main', 'container': 'Pegboard 1', 'specific': 'D5'}]\n",
      "Candidate: Curtain Rings — [{'room': 'Main', 'container': 'Pegboard 1', 'specific': 'C5'}, {'room': 'Cage', 'container': '5e', 'specific': 'Pegboard Bins|-3'}]\n",
      "Candidate: Bias tape — [{'room': 'Main', 'container': 'Cabinet 1', 'specific': 'Shelf 13'}]\n"
     ]
    },
    {
     "name": "stderr",
     "output_type": "stream",
     "text": [
      "\n"
     ]
    },
    {
     "name": "stdout",
     "output_type": "stream",
     "text": [
      "LLM returns: \n",
      " Tiny Thread \n",
      " Pegboard 1\n",
      "\n",
      " *********************************************************** \n",
      " \n",
      "\n",
      " text =  Popsicle sticks (refilled the drawer, so there is no more left in overstock)\n",
      "\n",
      " link items =  []\n"
     ]
    },
    {
     "name": "stderr",
     "output_type": "stream",
     "text": [
      "Batches: 100%|██████████| 1/1 [00:00<00:00, 14.18it/s]"
     ]
    },
    {
     "name": "stdout",
     "output_type": "stream",
     "text": [
      "Candidate: Stamps — [{'room': 'Main', 'container': 'Cabinet 4', 'specific': 'Shelf 20, Shelf 21, Shelf 23'}]\n",
      "Candidate: Leatherworking Tools — [{'room': 'Main', 'container': 'Cabinet 9', 'specific': 'Shelf 4'}]\n",
      "Candidate: Nuts and Bolts — [{'room': 'Main', 'container': 'Cabinet 9', 'specific': 'Shelf 9'}]\n",
      "Candidate: Suede Lace — [{'room': 'Main', 'container': 'Cabinet 2', 'specific': 'Shelf 21'}]\n",
      "Candidate: Wood Glue — [{'room': 'Main', 'container': 'Cabinet 5', 'specific': 'Shelf 1'}]\n"
     ]
    },
    {
     "name": "stderr",
     "output_type": "stream",
     "text": [
      "\n"
     ]
    },
    {
     "name": "stdout",
     "output_type": "stream",
     "text": [
      "LLM returns: \n",
      " Nuts and Bolts \n",
      " Cabinet 9\n",
      "\n",
      " *********************************************************** \n",
      " \n",
      "\n",
      " text =  Tooth picks\n",
      "\n",
      " link items =  []\n"
     ]
    },
    {
     "name": "stderr",
     "output_type": "stream",
     "text": [
      "Batches: 100%|██████████| 1/1 [00:00<00:00, 17.89it/s]"
     ]
    },
    {
     "name": "stdout",
     "output_type": "stream",
     "text": [
      "Candidate: Electrical Tape — [{'room': 'Main', 'container': 'Electronics Bench', 'specific': ''}, {'room': 'Cage', 'container': '5c', 'specific': 'Stack 13|-3'}]\n",
      "Candidate: Pipe Wrenches — [{'room': 'Main', 'container': 'Cabinet 11', 'specific': 'Shelf 7'}]\n",
      "Candidate: Yarn — [{'room': 'Main', 'container': 'Fabrics', 'specific': ''}, {'room': 'Backstock', 'container': 'Shelf 3', 'specific': '|-3'}]\n",
      "Candidate: Jewelry Wire Cutters — [{'room': 'Main', 'container': 'Cabinet 3', 'specific': 'Shelf 3'}, {'room': 'Cage', 'container': '5c', 'specific': 'Stack 4|4'}]\n",
      "Candidate: Crescent Wrenches — [{'room': 'Main', 'container': 'Cabinet 11', 'specific': 'Shelf 1'}]\n"
     ]
    },
    {
     "name": "stderr",
     "output_type": "stream",
     "text": [
      "\n"
     ]
    },
    {
     "name": "stdout",
     "output_type": "stream",
     "text": [
      "LLM returns: \n",
      "  \n",
      " Cabinet 7\n",
      "\n",
      " *********************************************************** \n",
      " \n",
      "\n",
      " text =  BNC cables so the signal/ function generators at the electronics benches can be used.\n",
      "\n",
      " link items =  ['Clyxgs BNC Double Alligator Clip Test Cable Probe Lead Oscilloscope Test, Oscilloscope Probes BNC to Alligator Clip 92cm/36.2in (5pcs）']\n"
     ]
    },
    {
     "name": "stderr",
     "output_type": "stream",
     "text": [
      "Batches: 100%|██████████| 1/1 [00:00<00:00,  7.16it/s]"
     ]
    },
    {
     "name": "stdout",
     "output_type": "stream",
     "text": [
      "Candidate: Multimeter Chargers — [{'room': 'Cage', 'container': '2c', 'specific': None}]\n",
      "Candidate: Eyelets — [{'room': 'Main', 'container': 'Cabinet 3', 'specific': 'Shelf 9'}, {'room': 'Cage', 'container': '5d', 'specific': 'Stack 3|-1'}]\n",
      "Candidate: Drying Rack — [{'room': 'Main', 'container': 'Sink by fabric', 'specific': ''}]\n",
      "Candidate: Analog Multimeter  — [{'room': 'Studio', 'container': 'A2', 'specific': None}]\n",
      "Candidate: HDMI Male to HDMI Mini Male Cable, 10' — [{'room': 'Studio', 'container': 'Studio 2', 'specific': 'Shelf 8'}]\n"
     ]
    },
    {
     "name": "stderr",
     "output_type": "stream",
     "text": [
      "\n"
     ]
    },
    {
     "name": "stdout",
     "output_type": "stream",
     "text": [
      "LLM returns: \n",
      "  \n",
      " Electronics\n",
      "\n",
      " *********************************************************** \n",
      " \n",
      "\n",
      " text =  necklace chains\n",
      "\n",
      " link items =  []\n"
     ]
    },
    {
     "name": "stderr",
     "output_type": "stream",
     "text": [
      "Batches: 100%|██████████| 1/1 [00:00<00:00, 23.61it/s]"
     ]
    },
    {
     "name": "stdout",
     "output_type": "stream",
     "text": [
      "Candidate: Safety Pins — [{'room': 'Main', 'container': 'Cabinet 3', 'specific': 'Shelf 20'}, {'room': 'Main', 'container': 'Pegboard 1', 'specific': 'C4|-3'}, {'room': 'Cage', 'container': '5c', 'specific': 'Stack 18|-3'}]\n",
      "Candidate: Assorted Metal Jewelry Chain — [{'room': 'Main', 'container': 'Cabinet 3', 'specific': 'Shelf 5'}, {'room': 'Cage', 'container': '5d', 'specific': 'Stack 2|-2'}]\n",
      "Candidate: Plastic/Metal Wire Cutters — [{'room': 'Laser3D', 'container': 'Main Table', 'specific': ''}, {'room': 'Cage', 'container': '5c', 'specific': 'Stack 5|-1'}]\n",
      "Candidate: Seed Beads — [{'room': 'Main', 'container': 'Cabinet 3', 'specific': 'Shelf 10'}, {'room': 'Cage', 'container': '5d', 'specific': 'Stack 8|-3'}]\n",
      "Candidate: Pony Beads — [{'room': 'Main', 'container': 'Cabinet 3', 'specific': 'Shelf 13'}, {'room': 'Cage', 'container': '5e', 'specific': '|4'}]\n"
     ]
    },
    {
     "name": "stderr",
     "output_type": "stream",
     "text": [
      "\n"
     ]
    },
    {
     "name": "stdout",
     "output_type": "stream",
     "text": [
      "LLM returns: \n",
      " Assorted Metal Jewelry Chain \n",
      " Cabinet 3\n",
      "\n",
      " *********************************************************** \n",
      " \n",
      "\n",
      " text =  jump rings-- variety of colors\n",
      "\n",
      " link items =  []\n"
     ]
    },
    {
     "name": "stderr",
     "output_type": "stream",
     "text": [
      "Batches: 100%|██████████| 1/1 [00:00<00:00, 17.47it/s]"
     ]
    },
    {
     "name": "stdout",
     "output_type": "stream",
     "text": [
      "Candidate: Microphone Stand, Cowboy Studio (w/ Boom Arm) — [{'room': 'Studio', 'container': 'Next to A', 'specific': None}]\n",
      "Candidate: Ink Pads — [{'room': 'Main', 'container': 'Cabinet 4', 'specific': 'Shelf 17'}, {'room': 'Cage', 'container': '5c', 'specific': 'Stack 20|-3'}]\n",
      "Candidate: Tweezers for Electronics — [{'room': 'Other', 'container': '', 'specific': None}]\n",
      "Candidate: Lavalier Microphone Clip, Sennheiser — [{'room': 'Studio', 'container': 'Studio 4', 'specific': 'Drawer 2'}]\n",
      "Candidate: Sewing Needles — [{'room': 'Main', 'container': 'Pegboard 1', 'specific': 'E1'}, {'room': 'Cage', 'container': '5e', 'specific': 'Pegboard Bins|-3'}]\n"
     ]
    },
    {
     "name": "stderr",
     "output_type": "stream",
     "text": [
      "\n"
     ]
    },
    {
     "name": "stdout",
     "output_type": "stream",
     "text": [
      "LLM returns: \n",
      "  \n",
      " Cabinet 3\n",
      "\n",
      " *********************************************************** \n",
      " \n",
      "\n",
      " text =  Silver hooked earring backings\n",
      "\n",
      " link items =  []\n"
     ]
    },
    {
     "name": "stderr",
     "output_type": "stream",
     "text": [
      "Batches: 100%|██████████| 1/1 [00:00<00:00, 12.86it/s]"
     ]
    },
    {
     "name": "stdout",
     "output_type": "stream",
     "text": [
      "Candidate: Thin White Elastic Band — [{'room': 'Main', 'container': 'Cabinet 1', 'specific': 'Shelf 13'}, {'room': 'Cage', 'container': '5c', 'specific': 'Stack 26|-3'}]\n",
      "Candidate: Thin Black Elastic Band — [{'room': 'Main', 'container': 'Cabinet 1', 'specific': 'Shelf 13'}, {'room': 'Cage', 'container': '5c', 'specific': 'Stack 26|-3'}]\n",
      "Candidate: Nitrile Gloves, Large — [{'room': 'Cage', 'container': '8e', 'specific': None}]\n",
      "Candidate: Color Gel Pens — [{'room': 'Main', 'container': 'Cabinet 4', 'specific': 'Shelf 13'}]\n",
      "Candidate: Small Embroidery Hoops — [{'room': 'Main', 'container': 'Cabinet 1', 'specific': 'Shelf 7'}, {'room': 'Cage', 'container': '5d', 'specific': 'Stack 8|-3'}]\n"
     ]
    },
    {
     "name": "stderr",
     "output_type": "stream",
     "text": [
      "\n"
     ]
    },
    {
     "name": "stdout",
     "output_type": "stream",
     "text": [
      "LLM returns: \n",
      "  \n",
      " Cabinet 3\n",
      "\n",
      " *********************************************************** \n",
      " \n",
      "\n",
      " text =  12 in zip ties\n",
      "\n",
      " link items =  []\n"
     ]
    },
    {
     "name": "stderr",
     "output_type": "stream",
     "text": [
      "Batches: 100%|██████████| 1/1 [00:00<00:00, 15.98it/s]"
     ]
    },
    {
     "name": "stdout",
     "output_type": "stream",
     "text": [
      "Candidate: Mini Screwdrivers — [{'room': 'Cage', 'container': '5c', 'specific': 'Stack 12'}]\n",
      "Candidate: Small Metal Magnets — [{'room': 'Main', 'container': 'Cabinet 2', 'specific': 'Shelf 1'}, {'room': 'Cage', 'container': '5c', 'specific': 'Stack 14|-3'}]\n",
      "Candidate: Crafting Books — [{'room': 'Main', 'container': 'Fabrics', 'specific': None}]\n",
      "Candidate: Ear Plugs — [{'room': 'Cage', 'container': '8c', 'specific': None}]\n",
      "Candidate: Edge Stitch Foot — [{'room': 'Main', 'container': 'Pegboard 1', 'specific': 'J5'}]\n"
     ]
    },
    {
     "name": "stderr",
     "output_type": "stream",
     "text": [
      "\n"
     ]
    },
    {
     "name": "stdout",
     "output_type": "stream",
     "text": [
      "LLM returns: \n",
      "  \n",
      " Cabinet 11\n",
      "\n",
      " *********************************************************** \n",
      " \n",
      "\n",
      " text =  Silver colored earring hooks for dangling earrings, there are still gold ones left but no silver\n",
      "\n",
      " link items =  []\n"
     ]
    },
    {
     "name": "stderr",
     "output_type": "stream",
     "text": [
      "Batches: 100%|██████████| 1/1 [00:00<00:00, 11.59it/s]"
     ]
    },
    {
     "name": "stdout",
     "output_type": "stream",
     "text": [
      "Candidate: Thin White Elastic Band — [{'room': 'Main', 'container': 'Cabinet 1', 'specific': 'Shelf 13'}, {'room': 'Cage', 'container': '5c', 'specific': 'Stack 26|-3'}]\n",
      "Candidate: Thin Black Elastic Band — [{'room': 'Main', 'container': 'Cabinet 1', 'specific': 'Shelf 13'}, {'room': 'Cage', 'container': '5c', 'specific': 'Stack 26|-3'}]\n",
      "Candidate: Small Embroidery Hoops — [{'room': 'Main', 'container': 'Cabinet 1', 'specific': 'Shelf 7'}, {'room': 'Cage', 'container': '5d', 'specific': 'Stack 8|-3'}]\n",
      "Candidate: Assorted Metal Jewelry Chain — [{'room': 'Main', 'container': 'Cabinet 3', 'specific': 'Shelf 5'}, {'room': 'Cage', 'container': '5d', 'specific': 'Stack 2|-2'}]\n",
      "Candidate: Colored Sharpies — [{'room': 'Main', 'container': 'Cabinet 4', 'specific': 'Shelf 1'}, {'room': 'Cage', 'container': '5c', 'specific': 'Stack 10|-3'}]\n"
     ]
    },
    {
     "name": "stderr",
     "output_type": "stream",
     "text": [
      "\n"
     ]
    },
    {
     "name": "stdout",
     "output_type": "stream",
     "text": [
      "LLM returns: \n",
      " Assorted Metal Jewelry Chain \n",
      " Cabinet 3\n",
      "\n",
      " *********************************************************** \n",
      " \n",
      "\n",
      " text =  Sticker paper\n",
      "\n",
      " link items =  []\n"
     ]
    },
    {
     "name": "stderr",
     "output_type": "stream",
     "text": [
      "Batches: 100%|██████████| 1/1 [00:00<00:00,  9.34it/s]"
     ]
    },
    {
     "name": "stdout",
     "output_type": "stream",
     "text": [
      "Candidate: Extra Signage — [{'room': 'Cage', 'container': '8d', 'specific': ''}]\n",
      "Candidate: Suede Lace — [{'room': 'Main', 'container': 'Cabinet 2', 'specific': 'Shelf 21'}]\n",
      "Candidate: Small Zip Ties — [{'room': 'Main', 'container': 'Cabinet 2', 'specific': 'Shelf 4'}, {'room': 'Cage', 'container': '5c', 'specific': 'Stack 2|-1'}]\n",
      "Candidate: PTFE Tape — [{'room': 'Cage', 'container': '8d', 'specific': ''}]\n",
      "Candidate: Pegboard Hardware — [{'room': 'Cage', 'container': 'Pegboard', 'specific': ''}]\n"
     ]
    },
    {
     "name": "stderr",
     "output_type": "stream",
     "text": [
      "\n"
     ]
    },
    {
     "name": "stdout",
     "output_type": "stream",
     "text": [
      "LLM returns: \n",
      "  \n",
      " Cabinet 7\n",
      "\n",
      " *********************************************************** \n",
      " \n",
      "\n",
      " text =  butcher paper\n",
      "\n",
      " link items =  []\n"
     ]
    },
    {
     "name": "stderr",
     "output_type": "stream",
     "text": [
      "Batches: 100%|██████████| 1/1 [00:00<00:00, 13.67it/s]"
     ]
    },
    {
     "name": "stdout",
     "output_type": "stream",
     "text": [
      "Candidate: Specialty Sewing Machine Needles — [{'room': 'Main', 'container': 'Pegboard', 'specific': None}, {'room': 'Cage', 'container': '5e', 'specific': 'Pegboard Bins|-3'}]\n",
      "Candidate: Pegboard Hardware — [{'room': 'Cage', 'container': 'Pegboard', 'specific': ''}]\n",
      "Candidate: Wall Hanging Supplies — [{'room': 'Cage', 'container': '8d', 'specific': None}]\n",
      "Candidate: Digital Soldering Station — [{'room': 'Other', 'container': '', 'specific': None}]\n",
      "Candidate: Black Acrylic Paint — [{'room': 'Cage', 'container': '5c', 'specific': 'Stack 21|-3'}]\n"
     ]
    },
    {
     "name": "stderr",
     "output_type": "stream",
     "text": [
      "\n"
     ]
    },
    {
     "name": "stdout",
     "output_type": "stream",
     "text": [
      "LLM returns: \n",
      "  \n",
      " Cabinet 7\n",
      "\n",
      " *********************************************************** \n",
      " \n",
      "\n",
      " text =  fishing line (people keep asking for it)\n",
      "\n",
      " link items =  []\n"
     ]
    },
    {
     "name": "stderr",
     "output_type": "stream",
     "text": [
      "Batches: 100%|██████████| 1/1 [00:00<00:00,  8.81it/s]"
     ]
    },
    {
     "name": "stdout",
     "output_type": "stream",
     "text": [
      "Candidate: Scrap Ribbon — [{'room': 'Main', 'container': 'Cabinet 6', 'specific': 'Top'}]\n",
      "Candidate: Wooden Buttons — [{'room': 'Main', 'container': 'Pegboard 1', 'specific': 'B6'}, {'room': 'Cage', 'container': '5d', 'specific': 'Stack 10|-3'}]\n",
      "Candidate: Boom Tripod/Arm, Whirlwind — [{'room': 'Studio', 'container': 'Next to Studio 5', 'specific': None}]\n",
      "Candidate: Adjustable Bridge with Rod Clamps — [{'room': 'Studio', 'container': 'Studio 5', 'specific': 'Shelf 1'}]\n",
      "Candidate: Thin White Elastic Band — [{'room': 'Main', 'container': 'Cabinet 1', 'specific': 'Shelf 13'}, {'room': 'Cage', 'container': '5c', 'specific': 'Stack 26|-3'}]\n"
     ]
    },
    {
     "name": "stderr",
     "output_type": "stream",
     "text": [
      "\n"
     ]
    },
    {
     "name": "stdout",
     "output_type": "stream",
     "text": [
      "LLM returns: \n",
      " Wooden Buttons \n",
      " Pegboard 1\n",
      "\n",
      " *********************************************************** \n",
      " \n",
      "\n",
      " text =  Embroidery Stabilizer\n",
      "\n",
      " link items =  []\n"
     ]
    },
    {
     "name": "stderr",
     "output_type": "stream",
     "text": [
      "Batches: 100%|██████████| 1/1 [00:00<00:00, 14.27it/s]"
     ]
    },
    {
     "name": "stdout",
     "output_type": "stream",
     "text": [
      "Candidate: Permanent Fabric Markers — [{'room': 'Main', 'container': 'Cabinet 1', 'specific': 'Shelf 6'}, {'room': 'Cage', 'container': '5e', 'specific': '|-3'}]\n",
      "Candidate: Plastic Scrapers — [{'room': 'Main', 'container': 'Cabinet 4', 'specific': 'Shelf 14'}, {'room': 'Cage', 'container': '5c', 'specific': 'Stack 20|-2'}]\n",
      "Candidate: Fabric Scissors — [{'room': 'Main', 'container': 'Cabinet 1', 'specific': 'Shelf 1'}, {'room': 'Cage', 'container': '5d', 'specific': 'Stack 1|-3'}]\n",
      "Candidate: Straight Stitch Foot — [{'room': 'Main', 'container': 'Pegboard 1', 'specific': 'J6'}]\n",
      "Candidate: Circular Knitting Needles — [{'room': 'Main', 'container': 'Cabinet 1', 'specific': 'Shelf 4'}, {'room': 'Cage', 'container': '5c', 'specific': 'Stack 24|-3'}]\n"
     ]
    },
    {
     "name": "stderr",
     "output_type": "stream",
     "text": [
      "\n"
     ]
    },
    {
     "name": "stdout",
     "output_type": "stream",
     "text": [
      "LLM returns: \n",
      "  \n",
      " Fabric\n",
      "\n",
      " *********************************************************** \n",
      " \n",
      "\n",
      " text =  Fabric scissors. Sometime over Thanksgiving break all but two disapeared\n",
      "\n",
      " link items =  []\n"
     ]
    },
    {
     "name": "stderr",
     "output_type": "stream",
     "text": [
      "Batches: 100%|██████████| 1/1 [00:00<00:00,  4.52it/s]\n"
     ]
    },
    {
     "name": "stdout",
     "output_type": "stream",
     "text": [
      "Candidate: Scissors — [{'room': 'Main', 'container': 'Cabinet 3', 'specific': 'Shelf 1'}, {'room': 'Cage', 'container': '5d', 'specific': 'Stack 1|-3'}]\n",
      "Candidate: Yarn — [{'room': 'Main', 'container': 'Fabrics', 'specific': ''}, {'room': 'Backstock', 'container': 'Shelf 3', 'specific': '|-3'}]\n",
      "Candidate: Leather Sewing Machine — [{'room': 'Cage', 'container': 'Floor', 'specific': None}]\n",
      "Candidate: Wall Hanging Supplies — [{'room': 'Cage', 'container': '8d', 'specific': None}]\n",
      "Candidate: 1/4 to 3.5mm Adapter — [{'room': 'Studio', 'container': 'Studio 2', 'specific': 'Shelf 4'}]\n",
      "LLM returns: \n",
      "  \n",
      " Pegboard 1\n",
      "\n",
      " *********************************************************** \n",
      " \n",
      "\n",
      " text =  White glue\n",
      "\n",
      " link items =  []\n"
     ]
    },
    {
     "name": "stderr",
     "output_type": "stream",
     "text": [
      "Batches: 100%|██████████| 1/1 [00:00<00:00, 21.04it/s]"
     ]
    },
    {
     "name": "stdout",
     "output_type": "stream",
     "text": [
      "Candidate: Matte Mod Podge — [{'room': 'Main', 'container': 'Cabinet 5', 'specific': 'Shelf 1'}, {'room': 'Cage', 'container': '5e', 'specific': ''}]\n",
      "Candidate: Tacky Glue — [{'room': 'Main', 'container': 'Cabinet 5', 'specific': 'Shelf 1'}, {'room': 'Cage', 'container': '5d', 'specific': 'Stack 4|1'}]\n",
      "Candidate: Leather Sewing Machine — [{'room': 'Cage', 'container': 'Floor', 'specific': None}]\n",
      "Candidate: Zippers — [{'room': 'Main', 'container': 'Cabinet 1', 'specific': 'Shelf 14'}, {'room': 'Cage', 'container': '5c', 'specific': 'Stack 23|-3'}]\n",
      "Candidate: Gaff Tape — [{'room': 'Studio', 'container': 'A2', 'specific': None}, {'room': 'Outdoor Storage', 'container': '', 'specific': '|3'}]\n"
     ]
    },
    {
     "name": "stderr",
     "output_type": "stream",
     "text": [
      "\n"
     ]
    },
    {
     "name": "stdout",
     "output_type": "stream",
     "text": [
      "LLM returns: \n",
      " Tacky Glue \n",
      " Cabinet 5\n",
      "\n",
      " *********************************************************** \n",
      " \n",
      "\n",
      " text =  Butcher paper\n",
      "\n",
      " link items =  []\n"
     ]
    },
    {
     "name": "stderr",
     "output_type": "stream",
     "text": [
      "Batches: 100%|██████████| 1/1 [00:00<00:00, 16.56it/s]"
     ]
    },
    {
     "name": "stdout",
     "output_type": "stream",
     "text": [
      "Candidate: Specialty Sewing Machine Needles — [{'room': 'Main', 'container': 'Pegboard', 'specific': None}, {'room': 'Cage', 'container': '5e', 'specific': 'Pegboard Bins|-3'}]\n",
      "Candidate: Pegboard Hardware — [{'room': 'Cage', 'container': 'Pegboard', 'specific': ''}]\n",
      "Candidate: Wall Hanging Supplies — [{'room': 'Cage', 'container': '8d', 'specific': None}]\n",
      "Candidate: Digital Soldering Station — [{'room': 'Other', 'container': '', 'specific': None}]\n",
      "Candidate: Black Acrylic Paint — [{'room': 'Cage', 'container': '5c', 'specific': 'Stack 21|-3'}]\n"
     ]
    },
    {
     "name": "stderr",
     "output_type": "stream",
     "text": [
      "\n"
     ]
    },
    {
     "name": "stdout",
     "output_type": "stream",
     "text": [
      "LLM returns: \n",
      "  \n",
      " Cabinet 7\n",
      "\n",
      " *********************************************************** \n",
      " \n",
      "\n",
      " text =  Electrical tape\n",
      "\n",
      " link items =  []\n"
     ]
    },
    {
     "name": "stderr",
     "output_type": "stream",
     "text": [
      "Batches: 100%|██████████| 1/1 [00:00<00:00,  4.56it/s]\n"
     ]
    },
    {
     "name": "stdout",
     "output_type": "stream",
     "text": [
      "Candidate: Blue Masking Tape (2\") — [{'room': 'Main', 'container': 'Cabinet 5', 'specific': 'Top'}, {'room': 'Cage', 'container': '5e', 'specific': '|-3'}]\n",
      "Candidate: 3.5 mm Male to XLR Male Cable Short — [{'room': 'Studio', 'container': 'Studio 2', 'specific': 'Shelf 8'}]\n",
      "Candidate: Scotch Tape — [{'room': 'Main', 'container': 'Cabinet 5', 'specific': 'Shelf 2'}, {'room': 'Cage', 'container': '5c', 'specific': 'Stack 14|0'}, {'room': 'Cage', 'container': '5c', 'specific': 'Stack 7'}, {'room': 'Cage', 'container': '5c', 'specific': 'Stack 6'}]\n",
      "Candidate: Color Gel Pens — [{'room': 'Main', 'container': 'Cabinet 4', 'specific': 'Shelf 13'}]\n",
      "Candidate: Seam Rippers — [{'room': 'Main', 'container': 'Pegboard 1', 'specific': 'E5'}, {'room': 'Cage', 'container': '5c', 'specific': 'Stack 7|-3'}]\n",
      "LLM returns: \n",
      " Blue Masking Tape (2\") \n",
      " Cabinet 5\n",
      "\n",
      " *********************************************************** \n",
      " \n",
      "\n",
      " text =  original tacky glue\n",
      "\n",
      " link items =  []\n"
     ]
    },
    {
     "name": "stderr",
     "output_type": "stream",
     "text": [
      "Batches: 100%|██████████| 1/1 [00:00<00:00,  6.74it/s]"
     ]
    },
    {
     "name": "stdout",
     "output_type": "stream",
     "text": [
      "Candidate: Zippers — [{'room': 'Main', 'container': 'Cabinet 1', 'specific': 'Shelf 14'}, {'room': 'Cage', 'container': '5c', 'specific': 'Stack 23|-3'}]\n",
      "Candidate: Gaff Tape — [{'room': 'Studio', 'container': 'A2', 'specific': None}, {'room': 'Outdoor Storage', 'container': '', 'specific': '|3'}]\n",
      "Candidate: Tacky Glue — [{'room': 'Main', 'container': 'Cabinet 5', 'specific': 'Shelf 1'}, {'room': 'Cage', 'container': '5d', 'specific': 'Stack 4|1'}]\n",
      "Candidate: Leather Sewing Machine — [{'room': 'Cage', 'container': 'Floor', 'specific': None}]\n",
      "Candidate: Matte Mod Podge — [{'room': 'Main', 'container': 'Cabinet 5', 'specific': 'Shelf 1'}, {'room': 'Cage', 'container': '5e', 'specific': ''}]\n"
     ]
    },
    {
     "name": "stderr",
     "output_type": "stream",
     "text": [
      "\n"
     ]
    },
    {
     "name": "stdout",
     "output_type": "stream",
     "text": [
      "LLM returns: \n",
      " Tacky Glue \n",
      " Cabinet 5\n",
      "\n",
      " *********************************************************** \n",
      " \n",
      "\n",
      " text =  White acrylic paint please\n",
      "\n",
      " link items =  []\n"
     ]
    },
    {
     "name": "stderr",
     "output_type": "stream",
     "text": [
      "Batches: 100%|██████████| 1/1 [00:00<00:00, 10.90it/s]"
     ]
    },
    {
     "name": "stdout",
     "output_type": "stream",
     "text": [
      "Candidate: Black Polyester Thread — [{'room': 'Cage', 'container': '5c', 'specific': 'Stack 1'}]\n",
      "Candidate: Pipe Cleaners — [{'room': 'Main', 'container': 'Cabinet 2', 'specific': 'Shelf 8'}, {'room': 'Cage', 'container': '5d', 'specific': 'Stack 13|-3'}]\n",
      "Candidate: White Acrylic Paint — [{'room': 'Cage', 'container': '5c', 'specific': 'Stack 21|-3'}]\n",
      "Candidate: Drop Cloths — [{'room': 'Cage', 'container': '1a', 'specific': None}]\n",
      "Candidate: Halogen Modeling Light Bulb, Impact — [{'room': 'Studio', 'container': 'Studio 3', 'specific': 'Shelf 4'}]\n"
     ]
    },
    {
     "name": "stderr",
     "output_type": "stream",
     "text": [
      "\n"
     ]
    },
    {
     "name": "stdout",
     "output_type": "stream",
     "text": [
      "LLM returns: \n",
      "  \n",
      " Cabinet 4\n",
      "\n",
      " *********************************************************** \n",
      " \n",
      "\n",
      " text =  butcher paper\n",
      "\n",
      " link items =  []\n"
     ]
    },
    {
     "name": "stderr",
     "output_type": "stream",
     "text": [
      "Batches: 100%|██████████| 1/1 [00:00<00:00, 12.48it/s]"
     ]
    },
    {
     "name": "stdout",
     "output_type": "stream",
     "text": [
      "Candidate: Specialty Sewing Machine Needles — [{'room': 'Main', 'container': 'Pegboard', 'specific': None}, {'room': 'Cage', 'container': '5e', 'specific': 'Pegboard Bins|-3'}]\n",
      "Candidate: Pegboard Hardware — [{'room': 'Cage', 'container': 'Pegboard', 'specific': ''}]\n",
      "Candidate: Wall Hanging Supplies — [{'room': 'Cage', 'container': '8d', 'specific': None}]\n",
      "Candidate: Digital Soldering Station — [{'room': 'Other', 'container': '', 'specific': None}]\n",
      "Candidate: Black Acrylic Paint — [{'room': 'Cage', 'container': '5c', 'specific': 'Stack 21|-3'}]\n"
     ]
    },
    {
     "name": "stderr",
     "output_type": "stream",
     "text": [
      "\n"
     ]
    },
    {
     "name": "stdout",
     "output_type": "stream",
     "text": [
      "LLM returns: \n",
      "  \n",
      " LFP\n",
      "\n",
      " *********************************************************** \n",
      " \n",
      "\n",
      " text =  White cardstock\n",
      "\n",
      " link items =  []\n"
     ]
    },
    {
     "name": "stderr",
     "output_type": "stream",
     "text": [
      "Batches: 100%|██████████| 1/1 [00:00<00:00,  5.71it/s]"
     ]
    },
    {
     "name": "stdout",
     "output_type": "stream",
     "text": [
      "Candidate: Red Cardstock — [{'room': 'Main', 'container': 'Cabinet 7', 'specific': ''}, {'room': 'Cage', 'container': '8d', 'specific': ''}]\n",
      "Candidate: White Cardstock — [{'room': 'Cage', 'container': '', 'specific': ''}]\n",
      "Candidate: 126 Pumpkin Thread — [{'room': 'Main', 'container': '', 'specific': ''}]\n",
      "Candidate: Black Paracord — [{'room': 'Main', 'container': 'Pegboard 1', 'specific': 'Front'}]\n",
      "Candidate: Scrap Books/Magazines — [{'room': 'Main', 'container': 'Cabinet 7', 'specific': 'Top'}]\n"
     ]
    },
    {
     "name": "stderr",
     "output_type": "stream",
     "text": [
      "\n"
     ]
    },
    {
     "name": "stdout",
     "output_type": "stream",
     "text": [
      "LLM returns: \n",
      " Red Cardstock \n",
      " Cabinet 7\n",
      "\n",
      " *********************************************************** \n",
      " \n",
      "\n",
      " text =  Low on many colors of needle felting wool.\n",
      "\n",
      " link items =  []\n"
     ]
    },
    {
     "name": "stderr",
     "output_type": "stream",
     "text": [
      "Batches: 100%|██████████| 1/1 [00:00<00:00, 10.12it/s]"
     ]
    },
    {
     "name": "stdout",
     "output_type": "stream",
     "text": [
      "Candidate: Pin Cushions — [{'room': 'Main', 'container': 'Cabinet 1', 'specific': 'Shelf 3'}]\n",
      "Candidate: Felting Foam — [{'room': 'Main', 'container': 'Cabinet 1', 'specific': 'Shelf 15'}]\n",
      "Candidate: Plastic Scrapers — [{'room': 'Main', 'container': 'Cabinet 4', 'specific': 'Shelf 14'}, {'room': 'Cage', 'container': '5c', 'specific': 'Stack 20|-2'}]\n",
      "Candidate: Spool Pins — [{'room': 'Main', 'container': 'Pegboard 1', 'specific': 'D5'}]\n",
      "Candidate: Curtain Rings — [{'room': 'Main', 'container': 'Pegboard 1', 'specific': 'C5'}, {'room': 'Cage', 'container': '5e', 'specific': 'Pegboard Bins|-3'}]\n"
     ]
    },
    {
     "name": "stderr",
     "output_type": "stream",
     "text": [
      "\n"
     ]
    },
    {
     "name": "stdout",
     "output_type": "stream",
     "text": [
      "LLM returns: \n",
      "  \n",
      " Fabric\n",
      "\n",
      " *********************************************************** \n",
      " \n",
      "\n",
      " text =  Sequins\n",
      "\n",
      " link items =  []\n"
     ]
    },
    {
     "name": "stderr",
     "output_type": "stream",
     "text": [
      "Batches: 100%|██████████| 1/1 [00:00<00:00, 18.61it/s]"
     ]
    },
    {
     "name": "stdout",
     "output_type": "stream",
     "text": [
      "Candidate: AxiDraw Supplies — [{'room': 'Cage', 'container': '1d', 'specific': None}]\n",
      "Candidate: Plywood Stock — [{'room': 'Outdoor Storage', 'container': 'Blue stock rack', 'specific': None}]\n",
      "Candidate: Nylon Stocking — [{'room': 'Main', 'container': 'Cabinet 1', 'specific': 'Shelf 16'}, {'room': 'Cage', 'container': '5c', 'specific': 'Stack 28|-2'}]\n",
      "Candidate: Mixed Beads — [{'room': 'Main', 'container': 'Cabinet 3', 'specific': 'Shelf 12'}]\n",
      "Candidate: Candle Making Supplies — [{'room': 'Main', 'container': 'Cabinet 2', 'specific': 'Shelf 16'}, {'room': 'Backstock', 'container': 'Shelf 2', 'specific': '|-3'}]\n"
     ]
    },
    {
     "name": "stderr",
     "output_type": "stream",
     "text": [
      "\n"
     ]
    },
    {
     "name": "stdout",
     "output_type": "stream",
     "text": [
      "LLM returns: \n",
      " Mixed Beads \n",
      " Cabinet 3\n",
      "\n",
      " *********************************************************** \n",
      " \n",
      "\n",
      " text =  Silver jewelry making wire\n",
      "\n",
      " link items =  []\n"
     ]
    },
    {
     "name": "stderr",
     "output_type": "stream",
     "text": [
      "Batches: 100%|██████████| 1/1 [00:00<00:00, 17.96it/s]"
     ]
    },
    {
     "name": "stdout",
     "output_type": "stream",
     "text": [
      "Candidate: Toothpicks — [{'room': 'Main', 'container': 'Cabinet 2', 'specific': 'Shelf 9'}, {'room': 'Cage', 'container': '5c', 'specific': 'Stack 17|-3'}]\n",
      "Candidate: Small Embroidery Hoops — [{'room': 'Main', 'container': 'Cabinet 1', 'specific': 'Shelf 7'}, {'room': 'Cage', 'container': '5d', 'specific': 'Stack 8|-3'}]\n",
      "Candidate: Thick Black Elastic Band — [{'room': 'Main', 'container': 'Cabinet 1', 'specific': 'Shelf 13'}, {'room': 'Cage', 'container': '5c', 'specific': 'Stack 26|-3'}]\n",
      "Candidate: honing guide — [{'room': 'Cage', 'container': 'Cabinet 9', 'specific': 'Shelf 3'}]\n",
      "Candidate: Safety Pins — [{'room': 'Main', 'container': 'Cabinet 3', 'specific': 'Shelf 20'}, {'room': 'Main', 'container': 'Pegboard 1', 'specific': 'C4|-3'}, {'room': 'Cage', 'container': '5c', 'specific': 'Stack 18|-3'}]\n"
     ]
    },
    {
     "name": "stderr",
     "output_type": "stream",
     "text": [
      "\n"
     ]
    },
    {
     "name": "stdout",
     "output_type": "stream",
     "text": [
      "LLM returns: \n",
      " Safety Pins \n",
      " Cabinet 3\n",
      "\n",
      " *********************************************************** \n",
      " \n",
      "\n",
      " text =  sequins\n",
      "\n",
      " link items =  []\n"
     ]
    },
    {
     "name": "stderr",
     "output_type": "stream",
     "text": [
      "Batches: 100%|██████████| 1/1 [00:00<00:00, 18.97it/s]"
     ]
    },
    {
     "name": "stdout",
     "output_type": "stream",
     "text": [
      "Candidate: AxiDraw Supplies — [{'room': 'Cage', 'container': '1d', 'specific': None}]\n",
      "Candidate: Plywood Stock — [{'room': 'Outdoor Storage', 'container': 'Blue stock rack', 'specific': None}]\n",
      "Candidate: Nylon Stocking — [{'room': 'Main', 'container': 'Cabinet 1', 'specific': 'Shelf 16'}, {'room': 'Cage', 'container': '5c', 'specific': 'Stack 28|-2'}]\n",
      "Candidate: Mixed Beads — [{'room': 'Main', 'container': 'Cabinet 3', 'specific': 'Shelf 12'}]\n",
      "Candidate: Candle Making Supplies — [{'room': 'Main', 'container': 'Cabinet 2', 'specific': 'Shelf 16'}, {'room': 'Backstock', 'container': 'Shelf 2', 'specific': '|-3'}]\n"
     ]
    },
    {
     "name": "stderr",
     "output_type": "stream",
     "text": [
      "\n"
     ]
    },
    {
     "name": "stdout",
     "output_type": "stream",
     "text": [
      "LLM returns: \n",
      " Mixed Beads \n",
      " Cabinet 3\n",
      "\n",
      " *********************************************************** \n",
      " \n",
      "\n",
      " text =  Backing from embroidery machine\n",
      "\n",
      " link items =  []\n"
     ]
    },
    {
     "name": "stderr",
     "output_type": "stream",
     "text": [
      "Batches: 100%|██████████| 1/1 [00:00<00:00, 22.44it/s]"
     ]
    },
    {
     "name": "stdout",
     "output_type": "stream",
     "text": [
      "Candidate: 12pcs Bearing Separator Puller Set — [{'room': 'The Crypt', 'container': '2d', 'specific': None}]\n",
      "Candidate: Permanent Fabric Markers — [{'room': 'Main', 'container': 'Cabinet 1', 'specific': 'Shelf 6'}, {'room': 'Cage', 'container': '5e', 'specific': '|-3'}]\n",
      "Candidate: Plastic Scrapers — [{'room': 'Main', 'container': 'Cabinet 4', 'specific': 'Shelf 14'}, {'room': 'Cage', 'container': '5c', 'specific': 'Stack 20|-2'}]\n",
      "Candidate: Fabric Scissors — [{'room': 'Main', 'container': 'Cabinet 1', 'specific': 'Shelf 1'}, {'room': 'Cage', 'container': '5d', 'specific': 'Stack 1|-3'}]\n",
      "Candidate: Plastic Bags — [{'room': 'Cage', 'container': '4b', 'specific': None}]\n"
     ]
    },
    {
     "name": "stderr",
     "output_type": "stream",
     "text": [
      "\n"
     ]
    },
    {
     "name": "stdout",
     "output_type": "stream",
     "text": [
      "LLM returns: \n",
      "  \n",
      " Fabric\n",
      "\n",
      " *********************************************************** \n",
      " \n",
      "\n",
      " text =  Rubber bands\n",
      "\n",
      " link items =  []\n"
     ]
    },
    {
     "name": "stderr",
     "output_type": "stream",
     "text": [
      "Batches: 100%|██████████| 1/1 [00:00<00:00, 14.52it/s]"
     ]
    },
    {
     "name": "stdout",
     "output_type": "stream",
     "text": [
      "Candidate: Ziploc Plastic Bags (Gallon) — [{'room': 'Main', 'container': 'Cabinet 2', 'specific': 'Shelf 2'}, {'room': 'Cage', 'container': '5b', 'specific': '|12'}, {'room': 'Cage', 'container': '8e', 'specific': '|1'}]\n",
      "Candidate: Miscellaneous Beads — [{'room': 'Main', 'container': 'Cabinet 3', 'specific': 'Shelf 14'}]\n",
      "Candidate: USB-C to USB-A Adapter — [{'room': 'Cage', 'container': '8d', 'specific': ''}]\n",
      "Candidate: Plastic Bobbins — [{'room': 'Main', 'container': 'Pegboard 1', 'specific': 'Bottom'}, {'room': 'Cage', 'container': '5e', 'specific': 'Pegboard Bins|-3'}]\n",
      "Candidate: Stamps — [{'room': 'Main', 'container': 'Cabinet 4', 'specific': 'Shelf 20, Shelf 21, Shelf 23'}]\n"
     ]
    },
    {
     "name": "stderr",
     "output_type": "stream",
     "text": [
      "\n"
     ]
    },
    {
     "name": "stdout",
     "output_type": "stream",
     "text": [
      "LLM returns: \n",
      " Ziploc Plastic Bags (Gallon) \n",
      " Cabinet 2\n",
      "\n",
      " *********************************************************** \n",
      " \n",
      "\n",
      " text =  Ribbon of various colors-- we're not out, we just have a lot less than normal\n",
      "\n",
      " link items =  []\n"
     ]
    },
    {
     "name": "stderr",
     "output_type": "stream",
     "text": [
      "Batches: 100%|██████████| 1/1 [00:00<00:00, 16.04it/s]"
     ]
    },
    {
     "name": "stdout",
     "output_type": "stream",
     "text": [
      "Candidate: White Ribbon — [{'room': 'Main', 'container': 'Cabinet 6', 'specific': 'Shelf 6'}]\n",
      "Candidate: Multicolored Ribbon — [{'room': 'Main', 'container': 'Cabinet 6', 'specific': 'Shelf 5'}]\n",
      "Candidate: Red Ribbon — [{'room': 'Main', 'container': 'Cabinet 6', 'specific': 'Shelf 1'}]\n",
      "Candidate: Brown Ribbon — [{'room': 'Main', 'container': 'Cabinet 6', 'specific': 'Shelf 5'}]\n",
      "Candidate: Pink Ribbon — [{'room': 'Main', 'container': 'Cabinet 6', 'specific': 'Shelf 4'}]\n"
     ]
    },
    {
     "name": "stderr",
     "output_type": "stream",
     "text": [
      "\n"
     ]
    },
    {
     "name": "stdout",
     "output_type": "stream",
     "text": [
      "LLM returns: \n",
      " Multicolored Ribbon \n",
      " Cabinet 6\n",
      "\n",
      " *********************************************************** \n",
      " \n",
      "\n",
      " text =  Ribbon of various colors-- we're not out, we just have a lot less than normal\n",
      "\n",
      " link items =  []\n"
     ]
    },
    {
     "name": "stderr",
     "output_type": "stream",
     "text": [
      "Batches: 100%|██████████| 1/1 [00:00<00:00, 25.31it/s]"
     ]
    },
    {
     "name": "stdout",
     "output_type": "stream",
     "text": [
      "Candidate: White Ribbon — [{'room': 'Main', 'container': 'Cabinet 6', 'specific': 'Shelf 6'}]\n",
      "Candidate: Multicolored Ribbon — [{'room': 'Main', 'container': 'Cabinet 6', 'specific': 'Shelf 5'}]\n",
      "Candidate: Red Ribbon — [{'room': 'Main', 'container': 'Cabinet 6', 'specific': 'Shelf 1'}]\n",
      "Candidate: Brown Ribbon — [{'room': 'Main', 'container': 'Cabinet 6', 'specific': 'Shelf 5'}]\n",
      "Candidate: Pink Ribbon — [{'room': 'Main', 'container': 'Cabinet 6', 'specific': 'Shelf 4'}]\n"
     ]
    },
    {
     "name": "stderr",
     "output_type": "stream",
     "text": [
      "\n"
     ]
    },
    {
     "name": "stdout",
     "output_type": "stream",
     "text": [
      "LLM returns: \n",
      " Multicolored Ribbon \n",
      " Cabinet 6\n",
      "\n",
      " *********************************************************** \n",
      " \n",
      "\n",
      " text =  black sharpies\n",
      "\n",
      " link items =  []\n"
     ]
    },
    {
     "name": "stderr",
     "output_type": "stream",
     "text": [
      "Batches: 100%|██████████| 1/1 [00:00<00:00, 24.42it/s]"
     ]
    },
    {
     "name": "stdout",
     "output_type": "stream",
     "text": [
      "Candidate: Popsicle Sticks — [{'room': 'Main', 'container': 'Cabinet 2', 'specific': 'Shelf 3'}, {'room': 'Cage', 'container': '5c', 'specific': 'Stack 22|-3'}]\n",
      "Candidate: Colored Sharpies — [{'room': 'Main', 'container': 'Cabinet 4', 'specific': 'Shelf 1'}, {'room': 'Cage', 'container': '5c', 'specific': 'Stack 10|-3'}]\n",
      "Candidate: Push Pins — [{'room': 'Main', 'container': 'Cabinet 3', 'specific': 'Shelf 23'}, {'room': 'Cage', 'container': '5c', 'specific': 'Stack 16|-3'}]\n",
      "Candidate: Black Sharpies — [{'room': 'Main', 'container': 'Cabinet 4', 'specific': 'Shelf 1'}, {'room': 'Cage', 'container': '5c', 'specific': 'Stack 11|-3'}, {'room': 'Cage', 'container': '8d', 'specific': '|-3'}]\n",
      "Candidate: Small Wooden Dowels (1/8\" x 12\") — [{'room': 'Main', 'container': 'Cabinet 2', 'specific': 'Shelf 6'}, {'room': 'Cage', 'container': '5d', 'specific': 'Stack 14|-3'}]\n"
     ]
    },
    {
     "name": "stderr",
     "output_type": "stream",
     "text": [
      "\n"
     ]
    },
    {
     "name": "stdout",
     "output_type": "stream",
     "text": [
      "LLM returns: \n",
      " Black Sharpies \n",
      " Cabinet 4\n",
      "\n",
      " *********************************************************** \n",
      " \n",
      "\n",
      " text =  packing tape\n",
      "\n",
      " link items =  []\n"
     ]
    },
    {
     "name": "stderr",
     "output_type": "stream",
     "text": [
      "Batches: 100%|██████████| 1/1 [00:00<00:00, 18.47it/s]"
     ]
    },
    {
     "name": "stdout",
     "output_type": "stream",
     "text": [
      "Candidate: 3.5 mm Male to XLR Female Cable Short — [{'room': 'Studio', 'container': 'Studio 2', 'specific': 'Shelf 8'}]\n",
      "Candidate: Small Hot Glue Guns — [{'room': 'Main', 'container': 'Cabinet 5', 'specific': 'Shelf 2'}, {'room': 'Cage', 'container': '5d', 'specific': 'Stack 5|2'}]\n",
      "Candidate: 3.5 mm Male to XLR Male Cable Short — [{'room': 'Studio', 'container': 'Studio 2', 'specific': 'Shelf 8'}]\n",
      "Candidate: Seam Rippers — [{'room': 'Main', 'container': 'Pegboard 1', 'specific': 'E5'}, {'room': 'Cage', 'container': '5c', 'specific': 'Stack 7|-3'}]\n",
      "Candidate: Blue Masking Tape (2\") — [{'room': 'Main', 'container': 'Cabinet 5', 'specific': 'Top'}, {'room': 'Cage', 'container': '5e', 'specific': '|-3'}]\n"
     ]
    },
    {
     "name": "stderr",
     "output_type": "stream",
     "text": [
      "\n"
     ]
    },
    {
     "name": "stdout",
     "output_type": "stream",
     "text": [
      "LLM returns: \n",
      " Blue Masking Tape (2\") \n",
      " Cabinet 5\n",
      "\n",
      " *********************************************************** \n",
      " \n",
      "\n",
      " text =  key rings\n",
      "\n",
      " link items =  []\n"
     ]
    },
    {
     "name": "stderr",
     "output_type": "stream",
     "text": [
      "Batches: 100%|██████████| 1/1 [00:00<00:00, 22.52it/s]"
     ]
    },
    {
     "name": "stdout",
     "output_type": "stream",
     "text": [
      "Candidate: Ink Pads — [{'room': 'Main', 'container': 'Cabinet 4', 'specific': 'Shelf 17'}, {'room': 'Cage', 'container': '5c', 'specific': 'Stack 20|-3'}]\n",
      "Candidate: Microphone Stand, Cowboy Studio (w/ Boom Arm) — [{'room': 'Studio', 'container': 'Next to A', 'specific': None}]\n",
      "Candidate: QR Code Labels — [{'room': 'Cage', 'container': '8d', 'specific': ''}]\n",
      "Candidate: PVC Cutter — [{'room': 'Cage', 'container': '2d', 'specific': ''}]\n",
      "Candidate: Plastic/Metal Wire Cutters — [{'room': 'Laser3D', 'container': 'Main Table', 'specific': ''}, {'room': 'Cage', 'container': '5c', 'specific': 'Stack 5|-1'}]\n"
     ]
    },
    {
     "name": "stderr",
     "output_type": "stream",
     "text": [
      "\n"
     ]
    },
    {
     "name": "stdout",
     "output_type": "stream",
     "text": [
      "LLM returns: \n",
      "  \n",
      " Cabinet 3\n",
      "\n",
      " *********************************************************** \n",
      " \n",
      "\n",
      " text =  mini rubber bands-- we used to have them but i don't think it's vital that we get more but thought I'd let you know anyway\n",
      "\n",
      " link items =  []\n"
     ]
    },
    {
     "name": "stderr",
     "output_type": "stream",
     "text": [
      "Batches: 100%|██████████| 1/1 [00:00<00:00,  7.10it/s]"
     ]
    },
    {
     "name": "stdout",
     "output_type": "stream",
     "text": [
      "Candidate: Miscellaneous Beads — [{'room': 'Main', 'container': 'Cabinet 3', 'specific': 'Shelf 14'}]\n",
      "Candidate: Ziploc Plastic Bags (Gallon) — [{'room': 'Main', 'container': 'Cabinet 2', 'specific': 'Shelf 2'}, {'room': 'Cage', 'container': '5b', 'specific': '|12'}, {'room': 'Cage', 'container': '8e', 'specific': '|1'}]\n",
      "Candidate: Earring Hooks — [{'room': 'Main', 'container': 'Cabinet 3', 'specific': 'Shelf 6'}, {'room': 'Cage', 'container': '5d', 'specific': 'Stack 2|-3'}]\n",
      "Candidate: Plastic Lacing Cord — [{'room': 'Main', 'container': 'Cabinet 3', 'specific': 'Shelf 7'}, {'room': 'Cage', 'container': '5c', 'specific': 'Stack 21|-3'}]\n",
      "Candidate: Earring Studs — [{'room': 'Main', 'container': 'Cabinet 3', 'specific': 'Shelf 6'}, {'room': 'Cage', 'container': '5d', 'specific': 'Stack 2|-3'}]\n"
     ]
    },
    {
     "name": "stderr",
     "output_type": "stream",
     "text": [
      "\n"
     ]
    },
    {
     "name": "stdout",
     "output_type": "stream",
     "text": [
      "LLM returns: \n",
      " Plastic Lacing Cord \n",
      " Cabinet 3\n",
      "\n",
      " *********************************************************** \n",
      " \n",
      "\n",
      " text =  Heavy duty velcro\n",
      "\n",
      " link items =  []\n"
     ]
    },
    {
     "name": "stderr",
     "output_type": "stream",
     "text": [
      "Batches: 100%|██████████| 1/1 [00:00<00:00,  9.33it/s]"
     ]
    },
    {
     "name": "stdout",
     "output_type": "stream",
     "text": [
      "Candidate: Spool Hugging Net — [{'room': 'Main', 'container': 'Pegboard 1', 'specific': 'J3'}]\n",
      "Candidate: Blue Shop Towels — [{'room': 'Cage', 'container': '8e', 'specific': None}]\n",
      "Candidate: Heavy Duty Straps — [{'room': 'Cage', 'container': '7c', 'specific': None}]\n",
      "Candidate: Large Straps — [{'room': 'Cage', 'container': '7c', 'specific': None}]\n",
      "Candidate: Leather Clasps — [{'room': 'Cage', 'container': '7a', 'specific': ''}]\n"
     ]
    },
    {
     "name": "stderr",
     "output_type": "stream",
     "text": [
      "\n"
     ]
    },
    {
     "name": "stdout",
     "output_type": "stream",
     "text": [
      "LLM returns: \n",
      "  \n",
      " Cabinet 5\n",
      "\n",
      " *********************************************************** \n",
      " \n",
      "\n",
      " text =  double sized tape\n",
      "\n",
      " link items =  []\n"
     ]
    },
    {
     "name": "stderr",
     "output_type": "stream",
     "text": [
      "Batches: 100%|██████████| 1/1 [00:00<00:00, 19.67it/s]"
     ]
    },
    {
     "name": "stdout",
     "output_type": "stream",
     "text": [
      "Candidate: Scotch Tape — [{'room': 'Main', 'container': 'Cabinet 5', 'specific': 'Shelf 2'}, {'room': 'Cage', 'container': '5c', 'specific': 'Stack 14|0'}, {'room': 'Cage', 'container': '5c', 'specific': 'Stack 7'}, {'room': 'Cage', 'container': '5c', 'specific': 'Stack 6'}]\n",
      "Candidate: LFP9900 Vivid Light Magenta Ink — [{'room': 'The Crypt', 'container': '3B', 'specific': ''}]\n",
      "Candidate: Jump Rings — [{'room': 'Main', 'container': 'Cabinet 3', 'specific': 'Shelf 9'}, {'room': 'Cage', 'container': '5d', 'specific': 'Stack 3|-2'}]\n",
      "Candidate: Key Tags — [{'room': 'Cage', 'container': '8d', 'specific': ''}]\n",
      "Candidate: 3.5 mm Male to XLR Female Cable Short — [{'room': 'Studio', 'container': 'Studio 2', 'specific': 'Shelf 8'}]\n"
     ]
    },
    {
     "name": "stderr",
     "output_type": "stream",
     "text": [
      "\n"
     ]
    },
    {
     "name": "stdout",
     "output_type": "stream",
     "text": [
      "LLM returns: \n",
      " Scotch Tape \n",
      " Cabinet 5\n",
      "\n",
      " *********************************************************** \n",
      " \n",
      "\n",
      " text =  Ethanol refill from chem department\n",
      "\n",
      " link items =  []\n"
     ]
    },
    {
     "name": "stderr",
     "output_type": "stream",
     "text": [
      "Batches: 100%|██████████| 1/1 [00:00<00:00, 15.29it/s]"
     ]
    },
    {
     "name": "stdout",
     "output_type": "stream",
     "text": [
      "Candidate: Compressed Air — [{'room': 'Cage', 'container': 'Flammable', 'specific': None}]\n",
      "Candidate: Glowforge Lantern Kits — [{'room': 'The Crypt', 'container': '1b', 'specific': ''}]\n",
      "Candidate: Form Resin Cartridge — [{'room': 'Laser3D', 'container': 'Cabinet 3', 'specific': ''}]\n",
      "Candidate: Form Resin Color Kit — [{'room': 'Laser3D', 'container': 'Cabinet 3', 'specific': None}]\n",
      "Candidate: Form Build Platform — [{'room': 'Laser3D', 'container': 'Cabinet 3', 'specific': ''}]\n"
     ]
    },
    {
     "name": "stderr",
     "output_type": "stream",
     "text": [
      "\n"
     ]
    },
    {
     "name": "stdout",
     "output_type": "stream",
     "text": [
      "LLM returns: \n",
      " Compressed Air \n",
      " Cage/Crypt/Other\n",
      "\n",
      " *********************************************************** \n",
      " \n",
      "\n",
      " text =  Twine\n",
      "\n",
      " link items =  []\n"
     ]
    },
    {
     "name": "stderr",
     "output_type": "stream",
     "text": [
      "Batches: 100%|██████████| 1/1 [00:00<00:00,  8.81it/s]"
     ]
    },
    {
     "name": "stdout",
     "output_type": "stream",
     "text": [
      "Candidate: Quilt Basting Spray  — [{'room': 'Main', 'container': 'Cabinet 5', 'specific': 'Shelf 1'}, {'room': 'Cage', 'container': '5d', 'specific': 'Stack 4|1'}]\n",
      "Candidate: Thread Cutters — [{'room': 'Main', 'container': 'Pegboard 1', 'specific': 'E7'}, {'room': 'Cage', 'container': '5c', 'specific': 'Stack 7|13'}]\n",
      "Candidate: Straight Knitting Needles — [{'room': 'Main', 'container': 'Cabinet 1', 'specific': 'Shelf 4'}, {'room': 'Cage', 'container': '5c', 'specific': 'Stack 24|-3'}]\n",
      "Candidate: Metal Buckle — [{'room': 'Cage', 'container': '7a', 'specific': ''}]\n",
      "Candidate: Extra Lino Cutter Blades — [{'room': 'Cage', 'container': 'Shelf 1E', 'specific': ''}]\n"
     ]
    },
    {
     "name": "stderr",
     "output_type": "stream",
     "text": [
      "\n"
     ]
    },
    {
     "name": "stdout",
     "output_type": "stream",
     "text": [
      "LLM returns: \n",
      " Thread Cutters \n",
      " Pegboard 1\n",
      "\n",
      " *********************************************************** \n",
      " \n",
      "\n",
      " text =  I have been using the Dremel sanding kit more grind stone and rough sanding attachments have been all used up and will probably need more soon.\n",
      "\n",
      " link items =  []\n"
     ]
    },
    {
     "name": "stderr",
     "output_type": "stream",
     "text": [
      "Batches: 100%|██████████| 1/1 [00:00<00:00,  6.88it/s]"
     ]
    },
    {
     "name": "stdout",
     "output_type": "stream",
     "text": [
      "Candidate: Loom Bobbins — [{'room': 'The Crypt', 'container': '', 'specific': None}]\n",
      "Candidate: Dremel  — [{'room': 'Cage', 'container': '2c', 'specific': None}]\n",
      "Candidate: Leather Scraps (Workshops / Training Only) — [{'room': 'Cage', 'container': '7c', 'specific': None}]\n",
      "Candidate: Drill Bit Kits — [{'room': 'Cage', 'container': '2c', 'specific': None}, {'room': 'Backstock', 'container': 'Shelf 2', 'specific': '|3'}]\n",
      "Candidate: Spare Stranded-core wire — [{'room': 'Other', 'container': '', 'specific': None}]\n"
     ]
    },
    {
     "name": "stderr",
     "output_type": "stream",
     "text": [
      "\n"
     ]
    },
    {
     "name": "stdout",
     "output_type": "stream",
     "text": [
      "LLM returns: \n",
      " Dremel  \n",
      " Cage/Crypt/Other\n",
      "\n",
      " *********************************************************** \n",
      " \n",
      "\n",
      " text =  watercolor paper pads\n",
      "\n",
      " link items =  []\n"
     ]
    },
    {
     "name": "stderr",
     "output_type": "stream",
     "text": [
      "Batches: 100%|██████████| 1/1 [00:00<00:00, 18.99it/s]"
     ]
    },
    {
     "name": "stdout",
     "output_type": "stream",
     "text": [
      "Candidate: Scrap Cardstock Paper — [{'room': 'Main', 'container': 'Cabinet 7', 'specific': 'Top'}]\n",
      "Candidate: Small Hot Glue Sticks  — [{'room': 'Main', 'container': 'Cabinet 5', 'specific': 'Shelf 2'}, {'room': 'Cage', 'container': '5d', 'specific': 'Stack 5|-1'}]\n",
      "Candidate: Colored Pencils — [{'room': 'Main', 'container': 'Cabinet 4', 'specific': 'Shelf 10'}]\n",
      "Candidate: Digital Soldering Station — [{'room': 'Other', 'container': '', 'specific': None}]\n",
      "Candidate: Cardboard — [{'room': 'Main', 'container': 'Fabrics Area', 'specific': None}]\n"
     ]
    },
    {
     "name": "stderr",
     "output_type": "stream",
     "text": [
      "\n"
     ]
    },
    {
     "name": "stdout",
     "output_type": "stream",
     "text": [
      "LLM returns: \n",
      " Scrap Cardstock Paper \n",
      " Cabinet 7\n",
      "\n",
      " *********************************************************** \n",
      " \n",
      "\n",
      " text =  Sticky notes for the cage\n",
      "\n",
      " link items =  []\n"
     ]
    },
    {
     "name": "stderr",
     "output_type": "stream",
     "text": [
      "Batches: 100%|██████████| 1/1 [00:00<00:00, 10.46it/s]"
     ]
    },
    {
     "name": "stdout",
     "output_type": "stream",
     "text": [
      "Candidate: Flashlight — [{'room': 'Cage', 'container': '8d', 'specific': 'In Batteries Drawer'}]\n",
      "Candidate: Extra Signage — [{'room': 'Cage', 'container': '8d', 'specific': ''}]\n",
      "Candidate: Iron Rest Pad — [{'room': 'Cage', 'container': '3b', 'specific': ''}]\n",
      "Candidate: Suede Lace — [{'room': 'Main', 'container': 'Cabinet 2', 'specific': 'Shelf 21'}]\n",
      "Candidate: Dot Stickers — [{'room': 'Cage', 'container': '8d', 'specific': ''}]\n"
     ]
    },
    {
     "name": "stderr",
     "output_type": "stream",
     "text": [
      "\n"
     ]
    },
    {
     "name": "stdout",
     "output_type": "stream",
     "text": [
      "LLM returns: \n",
      " Dot Stickers \n",
      " Cage/Crypt/Other\n",
      "\n",
      " *********************************************************** \n",
      " \n",
      "\n",
      " text =  \n",
      "\n",
      " link items =  ['White Springy Stretch Knitting Sewing Elastic Spool Elastic Bands, 1.5 Inch x 11 Yard']\n"
     ]
    },
    {
     "name": "stderr",
     "output_type": "stream",
     "text": [
      "Batches: 100%|██████████| 1/1 [00:00<00:00,  4.67it/s]\n"
     ]
    },
    {
     "name": "stdout",
     "output_type": "stream",
     "text": [
      "Candidate: Earring Studs — [{'room': 'Main', 'container': 'Cabinet 3', 'specific': 'Shelf 6'}, {'room': 'Cage', 'container': '5d', 'specific': 'Stack 2|-3'}]\n",
      "Candidate: Plastic Lacing Cord — [{'room': 'Main', 'container': 'Cabinet 3', 'specific': 'Shelf 7'}, {'room': 'Cage', 'container': '5c', 'specific': 'Stack 21|-3'}]\n",
      "Candidate: Elastic String — [{'room': 'Main', 'container': 'Cabinet 3', 'specific': 'Shelf 4'}, {'room': 'Cage', 'container': '5c', 'specific': 'Stack 27|-3'}]\n",
      "Candidate: Earring Hooks — [{'room': 'Main', 'container': 'Cabinet 3', 'specific': 'Shelf 6'}, {'room': 'Cage', 'container': '5d', 'specific': 'Stack 2|-3'}]\n",
      "Candidate: Adjustable Button Rotary Cutter (1\" - 2.25\") — [{'room': 'Cage', 'container': '1c', 'specific': None}]\n",
      "LLM returns: \n",
      " Elastic String \n",
      " Cabinet 3\n",
      "\n",
      " *********************************************************** \n",
      " \n",
      "\n",
      " text =  Super Glue\n",
      "\n",
      " link items =  []\n"
     ]
    },
    {
     "name": "stderr",
     "output_type": "stream",
     "text": [
      "Batches: 100%|██████████| 1/1 [00:00<00:00, 17.65it/s]"
     ]
    },
    {
     "name": "stdout",
     "output_type": "stream",
     "text": [
      "Candidate: Tacky Glue — [{'room': 'Main', 'container': 'Cabinet 5', 'specific': 'Shelf 1'}, {'room': 'Cage', 'container': '5d', 'specific': 'Stack 4|1'}]\n",
      "Candidate: Matte Mod Podge — [{'room': 'Main', 'container': 'Cabinet 5', 'specific': 'Shelf 1'}, {'room': 'Cage', 'container': '5e', 'specific': ''}]\n",
      "Candidate: Zippers — [{'room': 'Main', 'container': 'Cabinet 1', 'specific': 'Shelf 14'}, {'room': 'Cage', 'container': '5c', 'specific': 'Stack 23|-3'}]\n",
      "Candidate: Leather Sewing Machine — [{'room': 'Cage', 'container': 'Floor', 'specific': None}]\n",
      "Candidate: Packing Tape Dispenser — [{'room': 'Cage', 'container': 'Pegboard', 'specific': ''}, {'room': 'Cage', 'container': '8d', 'specific': '|2'}]\n"
     ]
    },
    {
     "name": "stderr",
     "output_type": "stream",
     "text": [
      "\n"
     ]
    },
    {
     "name": "stdout",
     "output_type": "stream",
     "text": [
      "LLM returns: \n",
      " Tacky Glue \n",
      " Cabinet 5\n",
      "\n",
      " *********************************************************** \n",
      " \n",
      "\n",
      " text =  Polaroid film: \n",
      "\n",
      "I want this specifically for the workshop department, it will not be available to everyone. We are taking photos of all stewards and staff!\n",
      "\n",
      " link items =  ['FUJIFILM Instax Mini Instant Film Twin Pack (White), 20 photos']\n"
     ]
    },
    {
     "name": "stderr",
     "output_type": "stream",
     "text": [
      "Batches: 100%|██████████| 1/1 [00:00<00:00, 10.94it/s]"
     ]
    },
    {
     "name": "stdout",
     "output_type": "stream",
     "text": [
      "Candidate: Battery, Nikon — [{'room': 'Studio', 'container': 'Studio 5', 'specific': 'Shelf 4'}]\n",
      "Candidate: SD Card, Canon M50 Camera Kit — [{'room': 'Studio', 'container': 'Studio 5', 'specific': 'Shelf 4'}]\n",
      "Candidate: Battery, Canon C200 — [{'room': 'Studio', 'container': 'Studio 5', 'specific': 'Shelf 5'}]\n",
      "Candidate: Audio Interface, Behringer — [{'room': 'Studio', 'container': 'Studio 2', 'specific': 'Shelf 2'}]\n",
      "Candidate: Rear Lens Cap, Canon M50 — [{'room': 'Studio', 'container': 'Studio 5', 'specific': 'Shelf 4'}]\n"
     ]
    },
    {
     "name": "stderr",
     "output_type": "stream",
     "text": [
      "\n"
     ]
    },
    {
     "name": "stdout",
     "output_type": "stream",
     "text": [
      "LLM returns: \n",
      " Battery, Nikon \n",
      " Studio\n",
      "\n",
      " *********************************************************** \n",
      " \n",
      "\n",
      " text =  Cleaning swabs for the laser cutter and formlabs 3d printer\n",
      "\n",
      " link items =  ['800 Pcs Foam Tip Cleaning Swab Kit 5 Types Sponge Detailing Swabs Multi Purpose Cleanroom Sponge Stick for Printer Optics Lens Camera Arts Crafts Automotive Detailing, Orange, Blue']\n"
     ]
    },
    {
     "name": "stderr",
     "output_type": "stream",
     "text": [
      "Batches: 100%|██████████| 1/1 [00:00<00:00,  5.72it/s]"
     ]
    },
    {
     "name": "stdout",
     "output_type": "stream",
     "text": [
      "Candidate: Paint Palettes — [{'room': 'Main', 'container': 'Cabinet 4', 'specific': 'Shelf 8'}, {'room': 'Cage', 'container': '5d', 'specific': 'Stack 10|-3'}]\n",
      "Candidate: Oil Pastel Sets — [{'room': 'Main', 'container': 'Cabinet 4', 'specific': 'Shelf 24'}, {'room': 'Cage', 'container': '5e', 'specific': '|1'}]\n",
      "Candidate: Old PCs — [{'room': 'The Crypt', 'container': '2e, 3d, 3e', 'specific': ''}]\n",
      "Candidate: Transmitter, Lectrosonics — [{'room': 'Studio', 'container': 'Studio 2', 'specific': 'Shelf 2'}]\n",
      "Candidate: Small Hot Glue Sticks  — [{'room': 'Main', 'container': 'Cabinet 5', 'specific': 'Shelf 2'}, {'room': 'Cage', 'container': '5d', 'specific': 'Stack 5|-1'}]\n"
     ]
    },
    {
     "name": "stderr",
     "output_type": "stream",
     "text": [
      "\n"
     ]
    },
    {
     "name": "stdout",
     "output_type": "stream",
     "text": [
      "LLM returns: \n",
      "  \n",
      " Laser3D\n",
      "\n",
      " *********************************************************** \n",
      " \n",
      "\n",
      " text =  [URGENT] Large Format Glossy paper roll, from B&H\n",
      "\n",
      " link items =  ['Epson Premium Luster Photo Inkjet Paper (36\" x 100\\' Roll)']\n"
     ]
    },
    {
     "name": "stderr",
     "output_type": "stream",
     "text": [
      "Batches: 100%|██████████| 1/1 [00:00<00:00,  9.14it/s]"
     ]
    },
    {
     "name": "stdout",
     "output_type": "stream",
     "text": [
      "Candidate: LFP Matte Paper — [{'room': 'The Crypt', 'container': 'Floor', 'specific': ''}]\n",
      "Candidate: Spare Drill Bits — [{'room': 'Backstock', 'container': 'Shelf 2', 'specific': ''}]\n",
      "Candidate: Entrada RagBright Paper 36\" — [{'room': 'The Crypt', 'container': '', 'specific': ''}]\n",
      "Candidate: Gray Ribbon — [{'room': 'Main', 'container': 'Cabinet 6', 'specific': 'Shelf 6'}]\n",
      "Candidate: SD Card Readers — [{'room': 'Cage', 'container': '8d', 'specific': None}]\n"
     ]
    },
    {
     "name": "stderr",
     "output_type": "stream",
     "text": [
      "\n"
     ]
    },
    {
     "name": "stdout",
     "output_type": "stream",
     "text": [
      "LLM returns: \n",
      " LFP Matte Paper \n",
      " LFP\n",
      "\n",
      " *********************************************************** \n",
      " \n",
      "\n",
      " text =  [URGENT] Large Format Vivid Light Magenta ink, from B&H\n",
      "\n",
      " link items =  ['Epson T55K600 UltraChrome HD Vivid Light Magenta Ink Cartridge (700ml)']\n"
     ]
    },
    {
     "name": "stderr",
     "output_type": "stream",
     "text": [
      "Batches: 100%|██████████| 1/1 [00:00<00:00, 15.35it/s]"
     ]
    },
    {
     "name": "stdout",
     "output_type": "stream",
     "text": [
      "Candidate: LFP8000 Yellow Ink — [{'room': 'The Crypt', 'container': '3', 'specific': ''}]\n",
      "Candidate: LFP8000 Maintenance Box — [{'room': 'The Crypt', 'container': '3', 'specific': ''}]\n",
      "Candidate: LFP8000 Matte Black Ink — [{'room': 'The Crypt', 'container': '3', 'specific': ''}]\n",
      "Candidate: LFP Glossy Paper — [{'room': 'The Crypt', 'container': 'Floor', 'specific': ''}]\n",
      "Candidate: EPSON Printer Toner/Ink Cartridge — [{'room': 'The Crypt', 'container': '3', 'specific': ''}]\n"
     ]
    },
    {
     "name": "stderr",
     "output_type": "stream",
     "text": [
      "\n"
     ]
    },
    {
     "name": "stdout",
     "output_type": "stream",
     "text": [
      "LLM returns: \n",
      "  \n",
      " LFP\n",
      "\n",
      " *********************************************************** \n",
      " \n",
      "\n",
      " text =  [URGENT] Large Format Vivid Magenta ink, from B&H\n",
      "\n",
      " link items =  ['Epson T55K300 Replacement for Epson T8043 T804300 | B&H Photo Video']\n"
     ]
    },
    {
     "name": "stderr",
     "output_type": "stream",
     "text": [
      "Batches: 100%|██████████| 1/1 [00:00<00:00,  7.45it/s]"
     ]
    },
    {
     "name": "stdout",
     "output_type": "stream",
     "text": [
      "Candidate: LFP Glossy Paper — [{'room': 'The Crypt', 'container': 'Floor', 'specific': ''}]\n",
      "Candidate: LFP8000 Matte Black Ink — [{'room': 'The Crypt', 'container': '3', 'specific': ''}]\n",
      "Candidate: EPSON Printer Toner/Ink Cartridge — [{'room': 'The Crypt', 'container': '3', 'specific': ''}]\n",
      "Candidate: LFP8000 Vivid Magenta Ink — [{'room': 'The Crypt', 'container': '3', 'specific': ''}]\n",
      "Candidate: LFP8000 Photo Black Ink — [{'room': 'The Crypt', 'container': '3', 'specific': ''}]\n"
     ]
    },
    {
     "name": "stderr",
     "output_type": "stream",
     "text": [
      "\n"
     ]
    },
    {
     "name": "stdout",
     "output_type": "stream",
     "text": [
      "LLM returns: \n",
      " LFP8000 Vivid Magenta Ink \n",
      " LFP\n",
      "\n",
      " *********************************************************** \n",
      " \n",
      "\n",
      " text =  Hook and eye closure\n",
      "\n",
      " link items =  ['50 Set Sewing Hooks and Eyes Closure for Bra and Clothing, 3 Sizes (Silver and Black)']\n"
     ]
    },
    {
     "name": "stderr",
     "output_type": "stream",
     "text": [
      "Batches: 100%|██████████| 1/1 [00:00<00:00,  9.73it/s]"
     ]
    },
    {
     "name": "stdout",
     "output_type": "stream",
     "text": [
      "Candidate: Serger books — [{'room': 'Main', 'container': 'Fabrics', 'specific': None}]\n",
      "Candidate: Adjustable Button Rotary Cutter (1\" - 2.25\") — [{'room': 'Cage', 'container': '1c', 'specific': None}]\n",
      "Candidate: Plastic Clips — [{'room': 'Main', 'container': 'Pegboard 1', 'specific': 'B7'}, {'room': 'Cage', 'container': '5e', 'specific': 'Pegboard Bins|-3'}]\n",
      "Candidate: Loom Tension Box — [{'room': 'The Crypt', 'container': '1e', 'specific': None}]\n",
      "Candidate: Ratchet Kit — [{'room': 'Cage', 'container': '2b', 'specific': None}]\n"
     ]
    },
    {
     "name": "stderr",
     "output_type": "stream",
     "text": [
      "\n"
     ]
    },
    {
     "name": "stdout",
     "output_type": "stream",
     "text": [
      "LLM returns: \n",
      " Plastic Clips \n",
      " Pegboard 1\n",
      "\n",
      " *********************************************************** \n",
      " \n",
      "\n",
      " text =  metal grommets (but I can't find the grommet tool so maybe that too? some packs come with one)\n",
      "Varying sizes but especially 3/8\"\n",
      "\n",
      " link items =  ['Professional Grommet Tool Kit Includes 1xGrommet Press Tool, 90xMulticolor Grommets, 1xHole Punch, 1xSolid Plastic Block - 3/8 Inch (10mm)']\n"
     ]
    },
    {
     "name": "stderr",
     "output_type": "stream",
     "text": [
      "Batches: 100%|██████████| 1/1 [00:00<00:00,  4.94it/s]\n"
     ]
    },
    {
     "name": "stdout",
     "output_type": "stream",
     "text": [
      "Candidate: Chalk Pastel Sets — [{'room': 'Main', 'container': 'Cabinet 4', 'specific': 'Shelf 24'}, {'room': 'Cage', 'container': '5e', 'specific': '|1'}]\n",
      "Candidate: Safety Eyes — [{'room': 'Main', 'container': 'Pegboard 1', 'specific': ''}]\n",
      "Candidate: Wood Shaver — [{'room': 'Main', 'container': 'Cabinet 9', 'specific': 'Shelf 3'}]\n",
      "Candidate: Spare Computer Keyboards — [{'room': 'The Crypt', 'container': '2c', 'specific': None}]\n",
      "Candidate: Dremel  — [{'room': 'Cage', 'container': '2c', 'specific': None}]\n",
      "LLM returns: \n",
      " Safety Eyes \n",
      " Pegboard 1\n",
      "\n",
      " *********************************************************** \n",
      " \n",
      "\n",
      " text =  need more standard sewing machine needles we are COMPLETELY out!!\n",
      "\n",
      " link items =  []\n"
     ]
    },
    {
     "name": "stderr",
     "output_type": "stream",
     "text": [
      "Batches: 100%|██████████| 1/1 [00:00<00:00, 11.75it/s]"
     ]
    },
    {
     "name": "stdout",
     "output_type": "stream",
     "text": [
      "Candidate: Bias tape — [{'room': 'Main', 'container': 'Cabinet 1', 'specific': 'Shelf 13'}]\n",
      "Candidate: Curtain Rings — [{'room': 'Main', 'container': 'Pegboard 1', 'specific': 'C5'}, {'room': 'Cage', 'container': '5e', 'specific': 'Pegboard Bins|-3'}]\n",
      "Candidate: Spool Pins — [{'room': 'Main', 'container': 'Pegboard 1', 'specific': 'D5'}]\n",
      "Candidate: Plastic Scrapers — [{'room': 'Main', 'container': 'Cabinet 4', 'specific': 'Shelf 14'}, {'room': 'Cage', 'container': '5c', 'specific': 'Stack 20|-2'}]\n",
      "Candidate: Tweezers — [{'room': 'Main', 'container': 'Cabinet 3', 'specific': 'Shelf 3'}, {'room': 'Cage', 'container': '5c', 'specific': 'Stack 5|11'}]\n"
     ]
    },
    {
     "name": "stderr",
     "output_type": "stream",
     "text": [
      "\n"
     ]
    },
    {
     "name": "stdout",
     "output_type": "stream",
     "text": [
      "LLM returns: \n",
      " Spool Pins \n",
      " Pegboard 1\n",
      "\n",
      " *********************************************************** \n",
      " \n",
      "\n",
      " text =  a user requested more cricut vinyl sticker paper, we only have 2 colors right now and are running low\n",
      "\n",
      " link items =  []\n"
     ]
    },
    {
     "name": "stderr",
     "output_type": "stream",
     "text": [
      "Batches: 100%|██████████| 1/1 [00:00<00:00,  6.01it/s]"
     ]
    },
    {
     "name": "stdout",
     "output_type": "stream",
     "text": [
      "Candidate: Extra Signage — [{'room': 'Cage', 'container': '8d', 'specific': ''}]\n",
      "Candidate: Suede Lace — [{'room': 'Main', 'container': 'Cabinet 2', 'specific': 'Shelf 21'}]\n",
      "Candidate: Gray Ribbon — [{'room': 'Main', 'container': 'Cabinet 6', 'specific': 'Shelf 6'}]\n",
      "Candidate: Scrap Cardstock Paper — [{'room': 'Main', 'container': 'Cabinet 7', 'specific': 'Top'}]\n",
      "Candidate: Small Zip Ties — [{'room': 'Main', 'container': 'Cabinet 2', 'specific': 'Shelf 4'}, {'room': 'Cage', 'container': '5c', 'specific': 'Stack 2|-1'}]\n"
     ]
    },
    {
     "name": "stderr",
     "output_type": "stream",
     "text": [
      "\n"
     ]
    },
    {
     "name": "stdout",
     "output_type": "stream",
     "text": [
      "LLM returns: \n",
      " Scrap Cardstock Paper \n",
      " Cabinet 7\n",
      "\n",
      " *********************************************************** \n",
      " \n",
      "\n",
      " text =  Velcro\n",
      "Love the double sided stuff like this\n",
      "\n",
      " link items =  ['1.2 Inch x 10 Feet Black Strips with Adhesive, Heavy Duty Self Tape, Double Sided Self-Adhesive Tapes, DIY Sticky Strips for Home Office']\n"
     ]
    },
    {
     "name": "stderr",
     "output_type": "stream",
     "text": [
      "Batches: 100%|██████████| 1/1 [00:00<00:00,  2.85it/s]\n"
     ]
    },
    {
     "name": "stdout",
     "output_type": "stream",
     "text": [
      "Candidate: Scotch Tape — [{'room': 'Main', 'container': 'Cabinet 5', 'specific': 'Shelf 2'}, {'room': 'Cage', 'container': '5c', 'specific': 'Stack 14|0'}, {'room': 'Cage', 'container': '5c', 'specific': 'Stack 7'}, {'room': 'Cage', 'container': '5c', 'specific': 'Stack 6'}]\n",
      "Candidate: Key Tags — [{'room': 'Cage', 'container': '8d', 'specific': ''}]\n",
      "Candidate: Glue Dots — [{'room': 'Main', 'container': 'Cabinet 5', 'specific': 'Shelf 2'}, {'room': 'Cage', 'container': '8d', 'specific': '|-3'}]\n",
      "Candidate: Blue Masking Tape (2\") — [{'room': 'Main', 'container': 'Cabinet 5', 'specific': 'Top'}, {'room': 'Cage', 'container': '5e', 'specific': '|-3'}]\n",
      "Candidate: Paint Thinner (For use with Spray Paint Gun Only) — [{'room': 'Cage', 'container': 'Flammable', 'specific': None}]\n",
      "LLM returns: \n",
      " Glue Dots \n",
      " Cabinet 5\n",
      "\n",
      " *********************************************************** \n",
      " \n",
      "\n",
      " text =  Swipe card readers\n",
      "\n",
      " link items =  ['MSR90 USB Swipe Magnetic Credit Card Reader 3 Tracks Mini Smart Card Reader MSR605 MSR606 Deftun']\n"
     ]
    },
    {
     "name": "stderr",
     "output_type": "stream",
     "text": [
      "Batches: 100%|██████████| 1/1 [00:00<00:00,  5.71it/s]"
     ]
    },
    {
     "name": "stdout",
     "output_type": "stream",
     "text": [
      "Candidate: USB-C SD Card Reader — [{'room': 'Cage', 'container': '8d', 'specific': ''}]\n",
      "Candidate: Whiteboard Cleaner — [{'room': 'Cage', 'container': '8e', 'specific': None}]\n",
      "Candidate: USB-C to HDMI Adapters — [{'room': 'Cage', 'container': '8d', 'specific': ''}]\n",
      "Candidate: Double Sided Interfacing Tape — [{'room': 'Main', 'container': 'Fabrics', 'specific': ''}]\n",
      "Candidate: Wall Tape — [{'room': 'Cage', 'container': '8d', 'specific': ''}]\n"
     ]
    },
    {
     "name": "stderr",
     "output_type": "stream",
     "text": [
      "\n"
     ]
    },
    {
     "name": "stdout",
     "output_type": "stream",
     "text": [
      "LLM returns: \n",
      " USB-C SD Card Reader \n",
      " Cage/Crypt/Other\n",
      "\n",
      " *********************************************************** \n",
      " \n",
      "\n",
      " text =  Chromecast for TV slideshows and such.\n",
      "\n",
      " link items =  ['Google Chromecast - Streaming Device with HDMI Cable - Stream Shows, Music, Photos, and Sports from Your Phone to Your TV']\n"
     ]
    },
    {
     "name": "stderr",
     "output_type": "stream",
     "text": [
      "Batches: 100%|██████████| 1/1 [00:00<00:00,  4.96it/s]\n"
     ]
    },
    {
     "name": "stdout",
     "output_type": "stream",
     "text": [
      "Candidate: HDMI to HDMI micro Cable — [{'room': 'Studio', 'container': 'Cabinet 14', 'specific': 'Shelf 4'}]\n",
      "Candidate: VGA Cables — [{'room': 'The Crypt', 'container': '1c', 'specific': ''}]\n",
      "Candidate: UV Filter, 49 mm — [{'room': 'Studio', 'container': 'Studio 5', 'specific': 'Shelf 4'}]\n",
      "Candidate: Laser Cutter MDF Stock — [{'room': 'Outdoor Storage', 'container': 'C1', 'specific': None}]\n",
      "Candidate: LED Light, Neewer (w/ Barn Doors, Power Supply, and Bag) — [{'room': 'Studio', 'container': 'Studio 3', 'specific': 'Shelf 1'}]\n",
      "LLM returns: \n",
      " HDMI to HDMI micro Cable \n",
      " Studio\n",
      "\n",
      " *********************************************************** \n",
      " \n",
      "\n",
      " text =  8.5\" x 11\" laminating pouches\n",
      "\n",
      " link items =  ['Scotch Thermal Laminating Pouches, for Use with Thermal Laminators, 8.9 x 11.4 Inches, Letter Size Sheets, 100-Pack']\n"
     ]
    },
    {
     "name": "stderr",
     "output_type": "stream",
     "text": [
      "Batches: 100%|██████████| 1/1 [00:00<00:00, 12.56it/s]"
     ]
    },
    {
     "name": "stdout",
     "output_type": "stream",
     "text": [
      "Candidate: Printer — [{'room': 'Cage', 'container': '8d', 'specific': None}]\n",
      "Candidate: Plastic Sheeting — [{'room': 'Cage', 'container': '1a', 'specific': ''}]\n",
      "Candidate: Laminator Sheets (Business Card Size) — [{'room': 'Cage', 'container': '1b', 'specific': ''}]\n",
      "Candidate: Laminator Sheets (Legal, 11.5\" x 17.5\") — [{'room': 'Cage', 'container': '1b', 'specific': ''}]\n",
      "Candidate: Laminator Sheets (Half Letter, 6\" x 9\") — [{'room': 'Cage', 'container': '1b', 'specific': ''}]\n"
     ]
    },
    {
     "name": "stderr",
     "output_type": "stream",
     "text": [
      "\n"
     ]
    },
    {
     "name": "stdout",
     "output_type": "stream",
     "text": [
      "LLM returns: \n",
      " Laminator Sheets (Business Card Size) \n",
      " Cage/Crypt/Other\n",
      "\n",
      " *********************************************************** \n",
      " \n",
      "\n",
      " text =  yarn\n",
      "\n",
      " link items =  []\n"
     ]
    },
    {
     "name": "stderr",
     "output_type": "stream",
     "text": [
      "Batches: 100%|██████████| 1/1 [00:00<00:00,  3.91it/s]\n"
     ]
    },
    {
     "name": "stdout",
     "output_type": "stream",
     "text": [
      "Candidate: Straight Knitting Needles — [{'room': 'Main', 'container': 'Cabinet 1', 'specific': 'Shelf 4'}, {'room': 'Cage', 'container': '5c', 'specific': 'Stack 24|-3'}]\n",
      "Candidate: Cross stitch books — [{'room': 'Main', 'container': 'Fabrics', 'specific': None}]\n",
      "Candidate: Embroidery Machine — [{'room': 'Cage', 'container': '3e', 'specific': None}]\n",
      "Candidate: Tweezers — [{'room': 'Main', 'container': 'Cabinet 3', 'specific': 'Shelf 3'}, {'room': 'Cage', 'container': '5c', 'specific': 'Stack 5|11'}]\n",
      "Candidate: Watercolor Paper — [{'room': 'Main', 'container': 'Cabinet 7', 'specific': ''}]\n",
      "LLM returns: \n",
      " Cross stitch books \n",
      " Fabric\n",
      "\n",
      " *********************************************************** \n",
      " \n",
      "\n",
      " text =  acrylic paint--\n",
      "\n",
      " link items =  ['36 Assorted Acrylic Paint Set by Craft Smart - Non-Toxic Paint for Drawing, Painting, Art & Crafts Supplies - 1 Pack']\n"
     ]
    },
    {
     "name": "stderr",
     "output_type": "stream",
     "text": [
      "Batches: 100%|██████████| 1/1 [00:00<00:00,  8.74it/s]"
     ]
    },
    {
     "name": "stdout",
     "output_type": "stream",
     "text": [
      "Candidate: Pipe Cleaners — [{'room': 'Main', 'container': 'Cabinet 2', 'specific': 'Shelf 8'}, {'room': 'Cage', 'container': '5d', 'specific': 'Stack 13|-3'}]\n",
      "Candidate: White Acrylic Paint — [{'room': 'Cage', 'container': '5c', 'specific': 'Stack 21|-3'}]\n",
      "Candidate: Black Polyester Thread — [{'room': 'Cage', 'container': '5c', 'specific': 'Stack 1'}]\n",
      "Candidate: Paint Sponges — [{'room': 'Main', 'container': 'Cabinet 4', 'specific': 'Shelf 15'}, {'room': 'Cage', 'container': '5d', 'specific': 'Stack 9|-3'}, {'room': 'Backstock', 'container': 'Shelf 2', 'specific': '|-3'}]\n",
      "Candidate: Spray Paint Gun — [{'room': 'Cage', 'container': 'Inside Spray Paint Gun Kit', 'specific': None}]\n"
     ]
    },
    {
     "name": "stderr",
     "output_type": "stream",
     "text": [
      "\n"
     ]
    },
    {
     "name": "stdout",
     "output_type": "stream",
     "text": [
      "LLM returns: \n",
      " Paint Sponges \n",
      " Cabinet 4\n",
      "\n",
      " *********************************************************** \n",
      " \n",
      "\n",
      " text =  USB wifi adapter for 3D Printer computer\n",
      "\n",
      " link items =  ['TP-Link AC600 USB WiFi Adapter for PC (Archer T2U Plus)- Wireless Network Adapter for Desktop with 2.4GHz, 5GHz High Gain Dual Band 5dBi Antenna, Supports Win11/10/8.1/8/7/XP, Mac OS 10.9-10.14, Black']\n"
     ]
    },
    {
     "name": "stderr",
     "output_type": "stream",
     "text": [
      "Batches: 100%|██████████| 1/1 [00:00<00:00,  7.26it/s]"
     ]
    },
    {
     "name": "stdout",
     "output_type": "stream",
     "text": [
      "Candidate: Plastic Dividers/Folders — [{'room': 'Cage', 'container': '8d', 'specific': ''}]\n",
      "Candidate: Glossy Mod Podge Spray — [{'room': 'Cage', 'container': 'Flammable', 'specific': ''}]\n",
      "Candidate: Spare Extension Cords — [{'room': 'The Crypt', 'container': '1c', 'specific': ''}]\n",
      "Candidate: Power Supply, Atomos — [{'room': 'Studio', 'container': 'Studio 5', 'specific': 'Shelf 1'}]\n",
      "Candidate: Digital Drawing Pen & Tablet — [{'room': 'Cage', 'container': '1b', 'specific': ''}]\n"
     ]
    },
    {
     "name": "stderr",
     "output_type": "stream",
     "text": [
      "\n"
     ]
    },
    {
     "name": "stdout",
     "output_type": "stream",
     "text": [
      "LLM returns: \n",
      "  \n",
      " Laser3D\n",
      "\n",
      " *********************************************************** \n",
      " \n",
      "\n",
      " text =  Duct Tape. Running low.\n",
      "\n",
      " link items =  ['Lockport 5 Pack Duct Tape Heavy Duty Waterproof, Strong Adhesive Silver Duct Tape Bulk for Indoor Outdoor Repairs, Tear by Hand - 30 Yards x 2 Inch']\n"
     ]
    },
    {
     "name": "stderr",
     "output_type": "stream",
     "text": [
      "Batches: 100%|██████████| 1/1 [00:00<00:00,  8.25it/s]"
     ]
    },
    {
     "name": "stdout",
     "output_type": "stream",
     "text": [
      "Candidate: Color Gel Pens — [{'room': 'Main', 'container': 'Cabinet 4', 'specific': 'Shelf 13'}]\n",
      "Candidate: 3.5 mm Male to XLR Female Cable Short — [{'room': 'Studio', 'container': 'Studio 2', 'specific': 'Shelf 8'}]\n",
      "Candidate: Seam Rippers — [{'room': 'Main', 'container': 'Pegboard 1', 'specific': 'E5'}, {'room': 'Cage', 'container': '5c', 'specific': 'Stack 7|-3'}]\n",
      "Candidate: Beige Masking Tape (1\") — [{'room': 'Main', 'container': 'Cabinet 5', 'specific': 'Top'}, {'room': 'Cage', 'container': '5e', 'specific': '|-3'}]\n",
      "Candidate: Scotch Tape — [{'room': 'Main', 'container': 'Cabinet 5', 'specific': 'Shelf 2'}, {'room': 'Cage', 'container': '5c', 'specific': 'Stack 14|0'}, {'room': 'Cage', 'container': '5c', 'specific': 'Stack 7'}, {'room': 'Cage', 'container': '5c', 'specific': 'Stack 6'}]\n"
     ]
    },
    {
     "name": "stderr",
     "output_type": "stream",
     "text": [
      "\n"
     ]
    },
    {
     "name": "stdout",
     "output_type": "stream",
     "text": [
      "LLM returns: \n",
      " Beige Masking Tape (1\") \n",
      " Cabinet 5\n",
      "\n",
      " *********************************************************** \n",
      " \n",
      "\n",
      " text =  Circuit cutting blade\n",
      "\n",
      " link items =  []\n"
     ]
    },
    {
     "name": "stderr",
     "output_type": "stream",
     "text": [
      "Batches: 100%|██████████| 1/1 [00:00<00:00, 12.10it/s]"
     ]
    },
    {
     "name": "stdout",
     "output_type": "stream",
     "text": [
      "Candidate: Star/Torx Bit Socket Set — [{'room': 'Cage', 'container': '2b', 'specific': None}]\n",
      "Candidate: Fabric Tape — [{'room': 'Main', 'container': 'Pegboard 1', 'specific': 'G7'}, {'room': 'Cage', 'container': '5e', 'specific': 'Pegboard Bins|1'}]\n",
      "Candidate: More Misc Electronics (Breadboard Circuit Components) — [{'room': 'Main', 'container': 'Black Pegboard 2', 'specific': None}]\n",
      "Candidate: Hammers — [{'room': 'Main', 'container': 'Cabinet 11', 'specific': 'Shelf 5'}, {'room': 'Backstock', 'container': 'Shelf 2', 'specific': '|0'}]\n",
      "Candidate: 1/4 to 3.5mm Adapter — [{'room': 'Studio', 'container': 'Studio 2', 'specific': 'Shelf 4'}]\n"
     ]
    },
    {
     "name": "stderr",
     "output_type": "stream",
     "text": [
      "\n"
     ]
    },
    {
     "name": "stdout",
     "output_type": "stream",
     "text": [
      "LLM returns: \n",
      " Hammers \n",
      " Cabinet 11\n",
      "\n",
      " *********************************************************** \n",
      " \n",
      "\n",
      " text =  Fine Point Cricut Blade - the Cut Smart 2 Cricut blade is super dull and keeps ripping my designs! I have to probably carve them by hand with an exacto knife instead... a replacement blade is needed! This dullness basically puts the entire machine out of commission. Target sells the fine point blades, be sure to get the ones that have an angled tip, not a flat/pointy one! The engraving blades probably also work. Thank you!\n",
      "\n",
      " link items =  []\n"
     ]
    },
    {
     "name": "stderr",
     "output_type": "stream",
     "text": [
      "Batches: 100%|██████████| 1/1 [00:00<00:00,  5.48it/s]"
     ]
    },
    {
     "name": "stdout",
     "output_type": "stream",
     "text": [
      "Candidate: Spare Cricut Supplies — [{'room': 'Cage', 'container': '1d', 'specific': ''}]\n",
      "Candidate: 1/4 to 3.5mm Adapter — [{'room': 'Studio', 'container': 'Studio 2', 'specific': 'Shelf 4'}]\n",
      "Candidate: Fabric Tape — [{'room': 'Main', 'container': 'Pegboard 1', 'specific': 'G7'}, {'room': 'Cage', 'container': '5e', 'specific': 'Pegboard Bins|1'}]\n",
      "Candidate: Small Cricut Cutting Mats (30\" x 30\") — [{'room': 'Cage', 'container': '1d', 'specific': None}]\n",
      "Candidate: Vinyl  — [{'room': 'Cage', 'container': '1d', 'specific': None}]\n"
     ]
    },
    {
     "name": "stderr",
     "output_type": "stream",
     "text": [
      "\n"
     ]
    },
    {
     "name": "stdout",
     "output_type": "stream",
     "text": [
      "LLM returns: \n",
      " Spare Cricut Supplies \n",
      " Cage/Crypt/Other\n",
      "\n",
      " *********************************************************** \n",
      " \n",
      "\n",
      " text =  Push Pins\n",
      "\n",
      " link items =  []\n"
     ]
    },
    {
     "name": "stderr",
     "output_type": "stream",
     "text": [
      "Batches: 100%|██████████| 1/1 [00:00<00:00, 16.72it/s]"
     ]
    },
    {
     "name": "stdout",
     "output_type": "stream",
     "text": [
      "Candidate:  Stencils — [{'room': 'Main', 'container': 'Cabinet 3', 'specific': 'Shelf 22'}, {'room': 'Backstock', 'container': 'Shelf 2', 'specific': '|11'}]\n",
      "Candidate: Velcro — [{'room': 'Main', 'container': 'Cabinet 1', 'specific': 'Shelf 17'}, {'room': 'Cage', 'container': '5d', 'specific': 'Stack 6|-3'}]\n",
      "Candidate: Rubber Bands — [{'room': 'Main', 'container': 'Cabinet 3', 'specific': 'Shelf 19'}, {'room': 'Cage', 'container': '5d', 'specific': 'Stack 15|-3'}]\n",
      "Candidate: Cotton Swabs/Q-Tips — [{'room': 'Main', 'container': 'Cabinet 2', 'specific': 'Shelf 12'}, {'room': 'Cage', 'container': '5c', 'specific': 'Stack 15|-3'}]\n",
      "Candidate: Darning Plate — [{'room': 'Main', 'container': 'Pegboard 1', 'specific': 'K3'}]\n"
     ]
    },
    {
     "name": "stderr",
     "output_type": "stream",
     "text": [
      "\n"
     ]
    },
    {
     "name": "stdout",
     "output_type": "stream",
     "text": [
      "LLM returns: \n",
      " Darning Plate \n",
      " Pegboard 1\n",
      "\n",
      " *********************************************************** \n",
      " \n",
      "\n",
      " text =  Clothes Pins (multiple sizes)\n",
      "\n",
      " link items =  []\n"
     ]
    },
    {
     "name": "stderr",
     "output_type": "stream",
     "text": [
      "Batches: 100%|██████████| 1/1 [00:00<00:00, 10.93it/s]"
     ]
    },
    {
     "name": "stdout",
     "output_type": "stream",
     "text": [
      "Candidate: Cotton Swabs/Q-Tips — [{'room': 'Main', 'container': 'Cabinet 2', 'specific': 'Shelf 12'}, {'room': 'Cage', 'container': '5c', 'specific': 'Stack 15|-3'}]\n",
      "Candidate: Plastic Clips — [{'room': 'Main', 'container': 'Pegboard 1', 'specific': 'B7'}, {'room': 'Cage', 'container': '5e', 'specific': 'Pegboard Bins|-3'}]\n",
      "Candidate: Small Metal Magnets — [{'room': 'Main', 'container': 'Cabinet 2', 'specific': 'Shelf 1'}, {'room': 'Cage', 'container': '5c', 'specific': 'Stack 14|-3'}]\n",
      "Candidate: Mini Screwdrivers — [{'room': 'Cage', 'container': '5c', 'specific': 'Stack 12'}]\n",
      "Candidate: Rubber Bands — [{'room': 'Main', 'container': 'Cabinet 3', 'specific': 'Shelf 19'}, {'room': 'Cage', 'container': '5d', 'specific': 'Stack 15|-3'}]\n"
     ]
    },
    {
     "name": "stderr",
     "output_type": "stream",
     "text": [
      "\n"
     ]
    },
    {
     "name": "stdout",
     "output_type": "stream",
     "text": [
      "LLM returns: \n",
      " Plastic Clips \n",
      " Pegboard 1\n",
      "\n",
      " *********************************************************** \n",
      " \n",
      "\n",
      " text =  crochet hooks\n",
      "\n",
      " link items =  ['BCMRUN 14 pcs Multicolor Aluminum Crochet Hooks Knitting Needles Craft Yarn 2-10mm …']\n"
     ]
    },
    {
     "name": "stderr",
     "output_type": "stream",
     "text": [
      "Batches: 100%|██████████| 1/1 [00:00<00:00,  9.75it/s]"
     ]
    },
    {
     "name": "stdout",
     "output_type": "stream",
     "text": [
      "Candidate: Tweezers — [{'room': 'Main', 'container': 'Cabinet 3', 'specific': 'Shelf 3'}, {'room': 'Cage', 'container': '5c', 'specific': 'Stack 5|11'}]\n",
      "Candidate: Needle Nose Pliers — [{'room': 'Main', 'container': 'Cabinet 3', 'specific': 'Shelf 3'}, {'room': 'Main', 'container': 'Cabinet 11', 'specific': 'Shelf 8|2'}, {'room': 'Cage', 'container': '5c', 'specific': 'Stack 12|-2'}]\n",
      "Candidate: Serger books — [{'room': 'Main', 'container': 'Fabrics', 'specific': None}]\n",
      "Candidate: Plastic Scrapers — [{'room': 'Main', 'container': 'Cabinet 4', 'specific': 'Shelf 14'}, {'room': 'Cage', 'container': '5c', 'specific': 'Stack 20|-2'}]\n",
      "Candidate: Spool Pins — [{'room': 'Main', 'container': 'Pegboard 1', 'specific': 'D5'}]\n"
     ]
    },
    {
     "name": "stderr",
     "output_type": "stream",
     "text": [
      "\n"
     ]
    },
    {
     "name": "stdout",
     "output_type": "stream",
     "text": [
      "LLM returns: \n",
      " Serger books \n",
      " Fabric\n",
      "\n",
      " *********************************************************** \n",
      " \n",
      "\n",
      " text =  pipe cleaners\n",
      "\n",
      " link items =  ['Craft Pipe Cleaners Proffessional 1000 Pcs 25 Colors, Pipe Cleaners Craft Supplies and Chenille Stems or Pipecleaners, Pipe Cleaners Bulk, for Crafts, Gift Wrapping and Party Decorations.']\n"
     ]
    },
    {
     "name": "stderr",
     "output_type": "stream",
     "text": [
      "Batches: 100%|██████████| 1/1 [00:00<00:00,  4.84it/s]\n"
     ]
    },
    {
     "name": "stdout",
     "output_type": "stream",
     "text": [
      "Candidate: Key Rings — [{'room': 'Main', 'container': 'Cabinet 3', 'specific': 'Shelf 9'}, {'room': 'Cage', 'container': '5c', 'specific': 'Stack 4|-3'}]\n",
      "Candidate: Allen Keys — [{'room': 'Main', 'container': 'Cabinet 11', 'specific': 'Shelf 4'}]\n",
      "Candidate: Old PCs — [{'room': 'The Crypt', 'container': '2e, 3d, 3e', 'specific': ''}]\n",
      "Candidate: Art books — [{'room': 'Main', 'container': 'Fabrics', 'specific': None}]\n",
      "Candidate: Various Stickers — [{'room': 'Main', 'container': 'Cabinet 2', 'specific': 'Shelf 5'}]\n",
      "LLM returns: \n",
      " Key Rings \n",
      " Cabinet 3\n",
      "\n",
      " *********************************************************** \n",
      " \n",
      "\n",
      " text =  This might be a bit overkill so feel free to use your discretion-- these are just the ones I like. Most of them were on sale and I tried to keep them under $8/yd so if they're no longer under that then they're probably not worth buying.\n",
      "\n",
      " link items =  []\n"
     ]
    },
    {
     "name": "stderr",
     "output_type": "stream",
     "text": [
      "Batches: 100%|██████████| 1/1 [00:00<00:00,  5.05it/s]\n"
     ]
    },
    {
     "name": "stdout",
     "output_type": "stream",
     "text": [
      "Candidate: Craft Paper — [{'room': 'Main', 'container': 'near lockers', 'specific': ''}, {'room': 'The Crypt', 'container': 'Floor', 'specific': '|1'}]\n",
      "Candidate: Plywood Stock — [{'room': 'Outdoor Storage', 'container': 'Blue stock rack', 'specific': None}]\n",
      "Candidate: Spare Multimeter Probes — [{'room': 'Cage', 'container': '2b', 'specific': None}]\n",
      "Candidate: PLA Filament — [{'room': 'The Crypt', 'container': '', 'specific': ''}]\n",
      "Candidate: Tweezers for Electronics — [{'room': 'Other', 'container': '', 'specific': None}]\n",
      "LLM returns: \n",
      "  \n",
      " Fabric\n",
      "\n",
      " *********************************************************** \n",
      " \n",
      "\n",
      " text =  origami paper (we pretty much only have yellow origami paper for some reason?)--\n",
      "\n",
      " link items =  ['Origami Paper 500 sheets Chiyogami Patterns 6\" 15cm: Tuttle Origami Paper: Double-Sided Origami Sheets Printed with 12 Different Designs (Instructions for 6 Projects Included)', 'Origami Paper 500 sheets Vibrant Colors 6\" (15 cm): Tuttle Origami Paper: Double-Sided Origami Sheets Printed with 12 Different Designs (Instructions for 6 Projects Included)']\n"
     ]
    },
    {
     "name": "stderr",
     "output_type": "stream",
     "text": [
      "Batches: 100%|██████████| 1/1 [00:00<00:00,  5.28it/s]"
     ]
    },
    {
     "name": "stdout",
     "output_type": "stream",
     "text": [
      "Candidate: Seaweed Salad — [{'room': 'Other', 'container': 'Refrigerator', 'specific': ''}]\n",
      "Candidate: Stapler — [{'room': 'Main', 'container': 'Cabinet 3', 'specific': 'Shelf 16'}]\n",
      "Candidate: Plastic Sheeting — [{'room': 'Cage', 'container': '1a', 'specific': ''}]\n",
      "Candidate: Printer — [{'room': 'Cage', 'container': '8d', 'specific': None}]\n",
      "Candidate: Laminator Sheets (Business Card Size) — [{'room': 'Cage', 'container': '1b', 'specific': ''}]\n"
     ]
    },
    {
     "name": "stderr",
     "output_type": "stream",
     "text": [
      "\n"
     ]
    },
    {
     "name": "stdout",
     "output_type": "stream",
     "text": [
      "LLM returns: \n",
      "  \n",
      " Cabinet 7\n",
      "\n",
      " *********************************************************** \n",
      " \n",
      "\n",
      " text =  Small Cardstock 8.5 x 11in\n",
      "\n",
      " link items =  []\n"
     ]
    },
    {
     "name": "stderr",
     "output_type": "stream",
     "text": [
      "Batches: 100%|██████████| 1/1 [00:00<00:00, 12.29it/s]"
     ]
    },
    {
     "name": "stdout",
     "output_type": "stream",
     "text": [
      "Candidate: Black Paracord — [{'room': 'Main', 'container': 'Pegboard 1', 'specific': 'Front'}]\n",
      "Candidate: Blue Buttons — [{'room': 'Main', 'container': 'Pegboard 1', 'specific': 'A5'}, {'room': 'Cage', 'container': '5d', 'specific': 'Stack 10|-2'}]\n",
      "Candidate: White Cardstock — [{'room': 'Cage', 'container': '', 'specific': ''}]\n",
      "Candidate: Red Cardstock — [{'room': 'Main', 'container': 'Cabinet 7', 'specific': ''}, {'room': 'Cage', 'container': '8d', 'specific': ''}]\n",
      "Candidate: 126 Pumpkin Thread — [{'room': 'Main', 'container': '', 'specific': ''}]\n"
     ]
    },
    {
     "name": "stderr",
     "output_type": "stream",
     "text": [
      "\n"
     ]
    },
    {
     "name": "stdout",
     "output_type": "stream",
     "text": [
      "LLM returns: \n",
      " Red Cardstock \n",
      " Cabinet 7\n",
      "\n",
      " *********************************************************** \n",
      " \n",
      "\n",
      " text =  Rubber sheet 1/16\" thickness\n",
      "\n",
      "\n",
      "or\n",
      "\n",
      " link items =  ['Neoprene Rubber Sheet Solid Rubber Strips Roll PadInsulation for Weather Stripping, Gasket, Shield, Costume, Seal, DIY (1/16\" (.062\") Thick, 12\" Wide X 12\" Long)', 'SBR Rubber Sheet - 12 in x 12 in, 1/16 in Thick, 70A Durometer, Plain Backing']\n"
     ]
    },
    {
     "name": "stderr",
     "output_type": "stream",
     "text": [
      "Batches: 100%|██████████| 1/1 [00:00<00:00,  5.37it/s]"
     ]
    },
    {
     "name": "stdout",
     "output_type": "stream",
     "text": [
      "Candidate: Earring Studs — [{'room': 'Main', 'container': 'Cabinet 3', 'specific': 'Shelf 6'}, {'room': 'Cage', 'container': '5d', 'specific': 'Stack 2|-3'}]\n",
      "Candidate: Plastic Lacing Cord — [{'room': 'Main', 'container': 'Cabinet 3', 'specific': 'Shelf 7'}, {'room': 'Cage', 'container': '5c', 'specific': 'Stack 21|-3'}]\n",
      "Candidate: Ziploc Plastic Bags (Gallon) — [{'room': 'Main', 'container': 'Cabinet 2', 'specific': 'Shelf 2'}, {'room': 'Cage', 'container': '5b', 'specific': '|12'}, {'room': 'Cage', 'container': '8e', 'specific': '|1'}]\n",
      "Candidate: Miscellaneous Beads — [{'room': 'Main', 'container': 'Cabinet 3', 'specific': 'Shelf 14'}]\n",
      "Candidate: Various Wheels — [{'room': 'The Crypt', 'container': '2d', 'specific': None}]\n"
     ]
    },
    {
     "name": "stderr",
     "output_type": "stream",
     "text": [
      "\n"
     ]
    },
    {
     "name": "stdout",
     "output_type": "stream",
     "text": [
      "LLM returns: \n",
      "  \n",
      " Cabinet 9\n",
      "\n",
      " *********************************************************** \n",
      " \n",
      "\n",
      " text =  twine\n",
      "\n",
      " link items =  ['SMART&CASUAL 800 Ft Natural Jute Twine String Thin Ribbon Hemp Twine for Craft Plant Gift Wrapping Christmas Handmade Arts Decoration Packing String Home Decor (800 Ft (244M))']\n"
     ]
    },
    {
     "name": "stderr",
     "output_type": "stream",
     "text": [
      "Batches: 100%|██████████| 1/1 [00:00<00:00,  7.98it/s]"
     ]
    },
    {
     "name": "stdout",
     "output_type": "stream",
     "text": [
      "Candidate: Ironing mat — [{'room': 'Cage', 'container': '3c', 'specific': None}]\n",
      "Candidate: Ratchet Kit — [{'room': 'Cage', 'container': '2b', 'specific': None}]\n",
      "Candidate: Windscreen, Sennheiser — [{'room': 'Studio', 'container': 'Studio 4', 'specific': 'Drawer 1'}]\n",
      "Candidate: Spool Pins — [{'room': 'Main', 'container': 'Pegboard 1', 'specific': 'D5'}]\n",
      "Candidate: Stinger (AC Cable), 25' — [{'room': 'Studio', 'container': 'Pegboard', 'specific': None}]\n"
     ]
    },
    {
     "name": "stderr",
     "output_type": "stream",
     "text": [
      "\n"
     ]
    },
    {
     "name": "stdout",
     "output_type": "stream",
     "text": [
      "LLM returns: \n",
      " Spool Pins \n",
      " Pegboard 1\n",
      "\n",
      " *********************************************************** \n",
      " \n",
      "\n",
      " text =  black sharpies--\n",
      "\n",
      " link items =  ['Sharpie Permanent Markers Bulk Set Fine Tip Markers Set For Plastic Metal Wood And More Black 36 Count']\n"
     ]
    },
    {
     "name": "stderr",
     "output_type": "stream",
     "text": [
      "Batches: 100%|██████████| 1/1 [00:00<00:00,  8.70it/s]"
     ]
    },
    {
     "name": "stdout",
     "output_type": "stream",
     "text": [
      "Candidate: Silver Sharpies — [{'room': 'Main', 'container': 'Cabinet 4', 'specific': 'Shelf 1'}, {'room': 'Cage', 'container': '5c', 'specific': 'Stack 11|-2'}, {'room': 'Cage', 'container': '8d|-2', 'specific': ''}]\n",
      "Candidate: Black Ballpoint Pens — [{'room': 'Main', 'container': 'Cabinet 4', 'specific': 'Shelf 13'}, {'room': 'Cage', 'container': '5c', 'specific': 'Stack 9|-1'}]\n",
      "Candidate: Tailors Chalk — [{'room': 'Main', 'container': 'Pegboard 1', 'specific': 'D6'}, {'room': 'Cage', 'container': '5e', 'specific': 'Pegboard Bins|-3'}]\n",
      "Candidate: Origami Books — [{'room': 'Main', 'container': 'Fabrics', 'specific': None}]\n",
      "Candidate: Spool Huggers — [{'room': 'Main', 'container': 'Pegboard 1', 'specific': 'L5, M5'}]\n"
     ]
    },
    {
     "name": "stderr",
     "output_type": "stream",
     "text": [
      "\n"
     ]
    },
    {
     "name": "stdout",
     "output_type": "stream",
     "text": [
      "LLM returns: \n",
      " Silver Sharpies \n",
      " Cabinet 4\n",
      "\n",
      " *********************************************************** \n",
      " \n",
      "\n",
      " text =  colored sharpies--\n",
      "\n",
      " link items =  ['Sharpie Permanent Markers Fine Assorted Colors - 24ct']\n"
     ]
    },
    {
     "name": "stderr",
     "output_type": "stream",
     "text": [
      "Batches: 100%|██████████| 1/1 [00:00<00:00,  8.15it/s]"
     ]
    },
    {
     "name": "stdout",
     "output_type": "stream",
     "text": [
      "Candidate: Silver Sharpies — [{'room': 'Main', 'container': 'Cabinet 4', 'specific': 'Shelf 1'}, {'room': 'Cage', 'container': '5c', 'specific': 'Stack 11|-2'}, {'room': 'Cage', 'container': '8d|-2', 'specific': ''}]\n",
      "Candidate: Push Pins — [{'room': 'Main', 'container': 'Cabinet 3', 'specific': 'Shelf 23'}, {'room': 'Cage', 'container': '5c', 'specific': 'Stack 16|-3'}]\n",
      "Candidate: Tailors Chalk — [{'room': 'Main', 'container': 'Pegboard 1', 'specific': 'D6'}, {'room': 'Cage', 'container': '5e', 'specific': 'Pegboard Bins|-3'}]\n",
      "Candidate: Colored Pencils — [{'room': 'Main', 'container': 'Cabinet 4', 'specific': 'Shelf 10'}]\n",
      "Candidate: Popsicle Sticks — [{'room': 'Main', 'container': 'Cabinet 2', 'specific': 'Shelf 3'}, {'room': 'Cage', 'container': '5c', 'specific': 'Stack 22|-3'}]\n"
     ]
    },
    {
     "name": "stderr",
     "output_type": "stream",
     "text": [
      "\n"
     ]
    },
    {
     "name": "stdout",
     "output_type": "stream",
     "text": [
      "LLM returns: \n",
      " Silver Sharpies \n",
      " Cabinet 4\n",
      "\n",
      " *********************************************************** \n",
      " \n",
      "\n",
      " text =  fabric scissors-- we're not *too* low but we could use some more/some in overstock\n",
      "\n",
      " link items =  []\n"
     ]
    },
    {
     "name": "stderr",
     "output_type": "stream",
     "text": [
      "Batches: 100%|██████████| 1/1 [00:00<00:00, 13.49it/s]"
     ]
    },
    {
     "name": "stdout",
     "output_type": "stream",
     "text": [
      "Candidate: Scissors — [{'room': 'Main', 'container': 'Cabinet 3', 'specific': 'Shelf 1'}, {'room': 'Cage', 'container': '5d', 'specific': 'Stack 1|-3'}]\n",
      "Candidate: Yarn — [{'room': 'Main', 'container': 'Fabrics', 'specific': ''}, {'room': 'Backstock', 'container': 'Shelf 3', 'specific': '|-3'}]\n",
      "Candidate: Wall Hanging Supplies — [{'room': 'Cage', 'container': '8d', 'specific': None}]\n",
      "Candidate: Ryoba Saw — [{'room': 'Cage', 'container': 'Pegboard', 'specific': None}]\n",
      "Candidate: 1/4 to 3.5mm Adapter — [{'room': 'Studio', 'container': 'Studio 2', 'specific': 'Shelf 4'}]\n"
     ]
    },
    {
     "name": "stderr",
     "output_type": "stream",
     "text": [
      "\n"
     ]
    },
    {
     "name": "stdout",
     "output_type": "stream",
     "text": [
      "LLM returns: \n",
      " Scissors \n",
      " Cabinet 3\n",
      "\n",
      " *********************************************************** \n",
      " \n",
      "\n",
      " text =  Q-tips\n",
      "\n",
      " link items =  []\n"
     ]
    },
    {
     "name": "stderr",
     "output_type": "stream",
     "text": [
      "Batches: 100%|██████████| 1/1 [00:00<00:00, 18.50it/s]"
     ]
    },
    {
     "name": "stdout",
     "output_type": "stream",
     "text": [
      "Candidate: Paint Palettes — [{'room': 'Main', 'container': 'Cabinet 4', 'specific': 'Shelf 8'}, {'room': 'Cage', 'container': '5d', 'specific': 'Stack 10|-3'}]\n",
      "Candidate: lens kit — [{'room': 'Studio', 'container': '', 'specific': ''}]\n",
      "Candidate: Small Wooden Dowels (1/8\" x 12\") — [{'room': 'Main', 'container': 'Cabinet 2', 'specific': 'Shelf 6'}, {'room': 'Cage', 'container': '5d', 'specific': 'Stack 14|-3'}]\n",
      "Candidate: AxiDraw — [{'room': 'Cage', 'container': '1d', 'specific': None}]\n",
      "Candidate: Scissors Sharpener — [{'room': 'Main', 'container': 'Cabinet 3', 'specific': 'Shelf 1'}]\n"
     ]
    },
    {
     "name": "stderr",
     "output_type": "stream",
     "text": [
      "\n"
     ]
    },
    {
     "name": "stdout",
     "output_type": "stream",
     "text": [
      "LLM returns: \n",
      " Paint Palettes \n",
      " Cabinet 4\n",
      "\n",
      " *********************************************************** \n",
      " \n",
      "\n",
      " text =  (aqua)\n",
      "\n",
      " link items =  []\n"
     ]
    },
    {
     "name": "stderr",
     "output_type": "stream",
     "text": [
      "Batches: 100%|██████████| 1/1 [00:00<00:00,  3.99it/s]\n"
     ]
    },
    {
     "name": "stdout",
     "output_type": "stream",
     "text": [
      "Candidate: USB-A to USB-B — [{'room': 'Cage', 'container': '8d', 'specific': 'Spare USB Cables'}]\n",
      "Candidate: Micro SD Card — [{'room': 'Cage', 'container': '8d', 'specific': ''}]\n",
      "Candidate: Yellow Ribbon — [{'room': 'Main', 'container': 'Cabinet 6', 'specific': 'Shelf 2'}]\n",
      "Candidate: Oil Pastel Sets — [{'room': 'Main', 'container': 'Cabinet 4', 'specific': 'Shelf 24'}, {'room': 'Cage', 'container': '5e', 'specific': '|1'}]\n",
      "Candidate: Fold Over Elastic — [{'room': 'Main', 'container': 'Cabinet 1', 'specific': 'Shelf 13'}, {'room': 'Cage', 'container': '5c', 'specific': 'Stack 26|-3'}]\n",
      "LLM returns: \n",
      " Yellow Ribbon \n",
      " Cabinet 6\n",
      "\n",
      " *********************************************************** \n",
      " \n",
      "\n",
      " text =  1 inch button plastics\n",
      "\n",
      " link items =  []\n"
     ]
    },
    {
     "name": "stderr",
     "output_type": "stream",
     "text": [
      "Batches: 100%|██████████| 1/1 [00:00<00:00,  9.76it/s]"
     ]
    },
    {
     "name": "stdout",
     "output_type": "stream",
     "text": [
      "Candidate: Pre-Packaged Sets of 50 Large Buttons (2.25\") — [{'room': 'Cage', 'container': '1c', 'specific': None}]\n",
      "Candidate: Small Button Maker (1\") — [{'room': 'Cage', 'container': '1c', 'specific': None}]\n",
      "Candidate: Proficiency Buttons (Stewards Only) — [{'room': 'Cage', 'container': '8b', 'specific': None}]\n",
      "Candidate: Beige Buttons — [{'room': 'Main', 'container': 'Pegboard 1', 'specific': 'B5'}, {'room': 'Cage', 'container': '5d', 'specific': 'Stack 10|-2'}]\n",
      "Candidate: Pink Buttons — [{'room': 'Main', 'container': 'Pegboard 1', 'specific': 'A7'}, {'room': 'Cage', 'container': '5d', 'specific': 'Stack 10|-2'}]\n"
     ]
    },
    {
     "name": "stderr",
     "output_type": "stream",
     "text": [
      "\n"
     ]
    },
    {
     "name": "stdout",
     "output_type": "stream",
     "text": [
      "LLM returns: \n",
      " Beige Buttons \n",
      " Cage/Crypt/Other\n",
      "\n",
      " *********************************************************** \n",
      " \n",
      "\n",
      " text =  elastic\n",
      "\n",
      " link items =  ['Coopay 80 Yards Length 1/4\" Width Elastic Bands Flat Elastic Cord Rope Heavy Stretch Spool Knit for Sewing DIY Projects, Arts & Crafts, 2 Rolls, 40 Yards/Roll (Black and White, 1/4 Inch)']\n"
     ]
    },
    {
     "name": "stderr",
     "output_type": "stream",
     "text": [
      "Batches: 100%|██████████| 1/1 [00:00<00:00,  6.84it/s]"
     ]
    },
    {
     "name": "stdout",
     "output_type": "stream",
     "text": [
      "Candidate: Earring Studs — [{'room': 'Main', 'container': 'Cabinet 3', 'specific': 'Shelf 6'}, {'room': 'Cage', 'container': '5d', 'specific': 'Stack 2|-3'}]\n",
      "Candidate: Plastic Lacing Cord — [{'room': 'Main', 'container': 'Cabinet 3', 'specific': 'Shelf 7'}, {'room': 'Cage', 'container': '5c', 'specific': 'Stack 21|-3'}]\n",
      "Candidate: Elastic String — [{'room': 'Main', 'container': 'Cabinet 3', 'specific': 'Shelf 4'}, {'room': 'Cage', 'container': '5c', 'specific': 'Stack 27|-3'}]\n",
      "Candidate: Various Wheels — [{'room': 'The Crypt', 'container': '2d', 'specific': None}]\n",
      "Candidate: Earring Hooks — [{'room': 'Main', 'container': 'Cabinet 3', 'specific': 'Shelf 6'}, {'room': 'Cage', 'container': '5d', 'specific': 'Stack 2|-3'}]\n"
     ]
    },
    {
     "name": "stderr",
     "output_type": "stream",
     "text": [
      "\n"
     ]
    },
    {
     "name": "stdout",
     "output_type": "stream",
     "text": [
      "LLM returns: \n",
      " Elastic String \n",
      " Cabinet 3\n",
      "\n",
      " *********************************************************** \n",
      " \n",
      "\n",
      " text =  colored duct tape -\n",
      "\n",
      " link items =  ['Rainbow Colored Duct Tape - 15 Yards x 2 Inch - 12 Pack Colored Duct Tape Variety Pack for Arts']\n"
     ]
    },
    {
     "name": "stderr",
     "output_type": "stream",
     "text": [
      "Batches: 100%|██████████| 1/1 [00:00<00:00,  5.97it/s]"
     ]
    },
    {
     "name": "stdout",
     "output_type": "stream",
     "text": [
      "Candidate: Beige Masking Tape (1\") — [{'room': 'Main', 'container': 'Cabinet 5', 'specific': 'Top'}, {'room': 'Cage', 'container': '5e', 'specific': '|-3'}]\n",
      "Candidate: Color Gel Pens — [{'room': 'Main', 'container': 'Cabinet 4', 'specific': 'Shelf 13'}]\n",
      "Candidate: Glue Dots — [{'room': 'Main', 'container': 'Cabinet 5', 'specific': 'Shelf 2'}, {'room': 'Cage', 'container': '8d', 'specific': '|-3'}]\n",
      "Candidate: 3.5 mm Male to XLR Female Cable Short — [{'room': 'Studio', 'container': 'Studio 2', 'specific': 'Shelf 8'}]\n",
      "Candidate: Paint Thinner (For use with Spray Paint Gun Only) — [{'room': 'Cage', 'container': 'Flammable', 'specific': None}]\n"
     ]
    },
    {
     "name": "stderr",
     "output_type": "stream",
     "text": [
      "\n"
     ]
    },
    {
     "name": "stdout",
     "output_type": "stream",
     "text": [
      "LLM returns: \n",
      " Beige Masking Tape (1\") \n",
      " Cabinet 5\n",
      "\n",
      " *********************************************************** \n",
      " \n",
      "\n",
      " text =  felt-- \n",
      "\n",
      "we're out of full sheets so\n",
      "\n",
      " link items =  ['8 x 12 Inches Felt Sheets for Crafts, 40Pcs Squares Fabric Sheets, Assorted Colors Non Woven Pack, 1mm Thick, Stiff Paper for DIY Sewing Craft Patchwork Decoration']\n"
     ]
    },
    {
     "name": "stderr",
     "output_type": "stream",
     "text": [
      "Batches: 100%|██████████| 1/1 [00:00<00:00,  5.15it/s]"
     ]
    },
    {
     "name": "stdout",
     "output_type": "stream",
     "text": [
      "Candidate: Plastic Sheeting — [{'room': 'Cage', 'container': '1a', 'specific': ''}]\n",
      "Candidate: Printer — [{'room': 'Cage', 'container': '8d', 'specific': None}]\n",
      "Candidate: Dixie Cups (for painting) — [{'room': 'Main', 'container': 'Cabinet 16', 'specific': '(by paint sink)'}]\n",
      "Candidate: Laminator Sheets (Business Card Size) — [{'room': 'Cage', 'container': '1b', 'specific': ''}]\n",
      "Candidate: Felting Needles — [{'room': 'Main', 'container': 'Cabinet 1', 'specific': 'Shelf 12'}]\n"
     ]
    },
    {
     "name": "stderr",
     "output_type": "stream",
     "text": [
      "\n"
     ]
    },
    {
     "name": "stdout",
     "output_type": "stream",
     "text": [
      "LLM returns: \n",
      "  \n",
      " Fabric\n",
      "\n",
      " *********************************************************** \n",
      " \n",
      "\n",
      " text =  magnets-- we're running kind of low\n",
      "\n",
      " link items =  ['DIYMAG 90Pcs Magnets for Crafts 0.7 * 0.12inch Strong Adhesive Ceramic Magnet Small Round Circle Button Sticky Magnetics Dots Heavy Duty Double Sided for Refrigerator Fridge with Backing for School']\n"
     ]
    },
    {
     "name": "stderr",
     "output_type": "stream",
     "text": [
      "Batches: 100%|██████████| 1/1 [00:00<00:00,  7.21it/s]"
     ]
    },
    {
     "name": "stdout",
     "output_type": "stream",
     "text": [
      "Candidate: Medium Metal Magnets — [{'room': 'Main', 'container': 'Cabinet 2', 'specific': 'Shelf 1'}, {'room': 'Cage', 'container': '5c', 'specific': 'Stack 14|-3'}]\n",
      "Candidate: Ceramic Magnets — [{'room': 'Main', 'container': 'Cabinet 2', 'specific': 'Shelf 1'}, {'room': 'Cage', 'container': '5c', 'specific': 'Stack 14|-2'}]\n",
      "Candidate: Paint Pens — [{'room': 'Main', 'container': 'Cabinet 4', 'specific': 'Shelf 2'}]\n",
      "Candidate: Kim Wipes — [{'room': 'Laser3D', 'container': 'Main Table', 'specific': None}, {'room': 'Laser3D', 'container': 'Cabinet 4', 'specific': '|1'}, {'room': 'Studio', 'container': 'A3', 'specific': '|6'}]\n",
      "Candidate: Pre-Packaged Sets of 50 Large Buttons (2.25\") — [{'room': 'Cage', 'container': '1c', 'specific': None}]\n"
     ]
    },
    {
     "name": "stderr",
     "output_type": "stream",
     "text": [
      "\n"
     ]
    },
    {
     "name": "stdout",
     "output_type": "stream",
     "text": [
      "LLM returns: \n",
      " Medium Metal Magnets \n",
      " Cabinet 2\n",
      "\n",
      " *********************************************************** \n",
      " \n",
      "\n",
      " text =  multicolored (rainbow, neon, and iridescent) plastic lanyard making cord\n",
      "\n",
      " link items =  []\n"
     ]
    },
    {
     "name": "stderr",
     "output_type": "stream",
     "text": [
      "Batches: 100%|██████████| 1/1 [00:00<00:00, 18.37it/s]"
     ]
    },
    {
     "name": "stdout",
     "output_type": "stream",
     "text": [
      "Candidate: Small Embroidery Hoops — [{'room': 'Main', 'container': 'Cabinet 1', 'specific': 'Shelf 7'}, {'room': 'Cage', 'container': '5d', 'specific': 'Stack 8|-3'}]\n",
      "Candidate: Thick White Elastic Band — [{'room': 'Main', 'container': 'Cabinet 1', 'specific': 'Shelf 13'}, {'room': 'Cage', 'container': '5c', 'specific': 'Stack 26|-1'}]\n",
      "Candidate: Tweezers for Electronics — [{'room': 'Other', 'container': '', 'specific': None}]\n",
      "Candidate: Beige Masking Tape (1\") — [{'room': 'Main', 'container': 'Cabinet 5', 'specific': 'Top'}, {'room': 'Cage', 'container': '5e', 'specific': '|-3'}]\n",
      "Candidate: Brown Ribbon — [{'room': 'Main', 'container': 'Cabinet 6', 'specific': 'Shelf 5'}]\n"
     ]
    },
    {
     "name": "stderr",
     "output_type": "stream",
     "text": [
      "\n"
     ]
    },
    {
     "name": "stdout",
     "output_type": "stream",
     "text": [
      "LLM returns: \n",
      " Brown Ribbon \n",
      " Cabinet 6\n",
      "\n",
      " *********************************************************** \n",
      " \n",
      "\n",
      " text =  watercolor palettes\n",
      "\n",
      " link items =  []\n"
     ]
    },
    {
     "name": "stderr",
     "output_type": "stream",
     "text": [
      "Batches: 100%|██████████| 1/1 [00:00<00:00, 15.31it/s]"
     ]
    },
    {
     "name": "stdout",
     "output_type": "stream",
     "text": [
      "Candidate: Packing Tape — [{'room': 'Main', 'container': 'Cabinet 5', 'specific': 'Shelf 2'}, {'room': 'Cage', 'container': '5e', 'specific': '|11'}, {'room': 'Cage', 'container': '8d', 'specific': '|2'}]\n",
      "Candidate: Paint Sponges — [{'room': 'Main', 'container': 'Cabinet 4', 'specific': 'Shelf 15'}, {'room': 'Cage', 'container': '5d', 'specific': 'Stack 9|-3'}, {'room': 'Backstock', 'container': 'Shelf 2', 'specific': '|-3'}]\n",
      "Candidate: Various Stickers — [{'room': 'Main', 'container': 'Cabinet 2', 'specific': 'Shelf 5'}]\n",
      "Candidate: Sticky Notes — [{'room': 'Main', 'container': 'Cabinet 3', 'specific': 'Shelf 24'}, {'room': 'Cage', 'container': '8d', 'specific': '|-2'}, {'room': 'Cage', 'container': '5c', 'specific': 'Stack 18|-2'}]\n",
      "Candidate: Brown Ribbon — [{'room': 'Main', 'container': 'Cabinet 6', 'specific': 'Shelf 5'}]\n"
     ]
    },
    {
     "name": "stderr",
     "output_type": "stream",
     "text": [
      "\n"
     ]
    },
    {
     "name": "stdout",
     "output_type": "stream",
     "text": [
      "LLM returns: \n",
      " Paint Sponges \n",
      " Cabinet 4\n",
      "\n",
      " *********************************************************** \n",
      " \n",
      "\n",
      " text =  Protractors -\n",
      "\n",
      " link items =  ['EBOOT 24 Pack Plastic Protractors Math Protractor 180 Degrees 6 Inch (Clear)']\n"
     ]
    },
    {
     "name": "stderr",
     "output_type": "stream",
     "text": [
      "Batches: 100%|██████████| 1/1 [00:00<00:00, 13.71it/s]"
     ]
    },
    {
     "name": "stdout",
     "output_type": "stream",
     "text": [
      "Candidate: Soap molds — [{'room': 'Composite', 'container': 'Drawers', 'specific': None}]\n",
      "Candidate: Case, C-Stand Kit — [{'room': 'Studio', 'container': 'Next to Studio 4', 'specific': None}]\n",
      "Candidate: Battery Charger, Video Monitor Kit — [{'room': 'Studio', 'container': 'Studio 5', 'specific': 'Shelf 1'}]\n",
      "Candidate: Fabric Glue — [{'room': 'Main', 'container': 'Cabinet 5', 'specific': 'Shelf 1'}, {'room': 'Cage', 'container': '5d', 'specific': 'Stack 4|3'}]\n",
      "Candidate: SD Card Case — [{'room': 'Studio', 'container': 'Cabinet 15', 'specific': 'Shelf 5'}]\n"
     ]
    },
    {
     "name": "stderr",
     "output_type": "stream",
     "text": [
      "\n"
     ]
    },
    {
     "name": "stdout",
     "output_type": "stream",
     "text": [
      "LLM returns: \n",
      "  \n",
      " Cabinet 11\n",
      "\n",
      " *********************************************************** \n",
      " \n",
      "\n",
      " text =  pipe cleaners -\n",
      "\n",
      "googly eyes -\n",
      "\n",
      " link items =  ['400 Pcs - 350 Pipe Cleaners in 20 Colors + 50 Googly Eyes - Chenille Stems Set for Crafts and DIY Decorations (12 Inch x 6mm), WAU-PC-400', '750pcs Wiggle Eyes Self-Adhesive Googly Eyes, 4mm~18mm']\n"
     ]
    },
    {
     "name": "stderr",
     "output_type": "stream",
     "text": [
      "Batches: 100%|██████████| 1/1 [00:00<00:00,  8.05it/s]"
     ]
    },
    {
     "name": "stdout",
     "output_type": "stream",
     "text": [
      "Candidate: Key Rings — [{'room': 'Main', 'container': 'Cabinet 3', 'specific': 'Shelf 9'}, {'room': 'Cage', 'container': '5c', 'specific': 'Stack 4|-3'}]\n",
      "Candidate: Art books — [{'room': 'Main', 'container': 'Fabrics', 'specific': None}]\n",
      "Candidate: Old PCs — [{'room': 'The Crypt', 'container': '2e, 3d, 3e', 'specific': ''}]\n",
      "Candidate: Acrylic Paint — [{'room': 'Main', 'container': 'Cabinet 4', 'specific': 'Shelf 3'}, {'room': 'Cage', 'container': '5e', 'specific': '|-3'}]\n",
      "Candidate: Small Paint Brushes — [{'room': 'Main', 'container': 'Cabinet 4', 'specific': 'Shelf 9'}, {'room': 'Cage', 'container': '5c', 'specific': 'Stack 19|-3'}]\n"
     ]
    },
    {
     "name": "stderr",
     "output_type": "stream",
     "text": [
      "\n"
     ]
    },
    {
     "name": "stdout",
     "output_type": "stream",
     "text": [
      "LLM returns: \n",
      " Key Rings \n",
      " Cabinet 3\n",
      "\n",
      " *********************************************************** \n",
      " \n",
      "\n",
      " text =  Black PLA\n",
      "\n",
      " link items =  []\n"
     ]
    },
    {
     "name": "stderr",
     "output_type": "stream",
     "text": [
      "Batches: 100%|██████████| 1/1 [00:00<00:00,  7.62it/s]"
     ]
    },
    {
     "name": "stdout",
     "output_type": "stream",
     "text": [
      "Candidate: Blue Ribbon — [{'room': 'Main', 'container': 'Cabinet 6', 'specific': 'Shelf 3'}]\n",
      "Candidate: Macrame Cord — [{'room': 'Main', 'container': 'Pegboard 1', 'specific': 'Front'}, {'room': 'Cage', 'container': '5E', 'specific': 'near polyester thread'}]\n",
      "Candidate: PLA Filament — [{'room': 'The Crypt', 'container': '', 'specific': ''}]\n",
      "Candidate: Laser Cutter Replacement Parts — [{'room': 'Laser3D', 'container': 'In Laser Cutter Side Panel', 'specific': ''}]\n",
      "Candidate: Popsicle Sticks — [{'room': 'Main', 'container': 'Cabinet 2', 'specific': 'Shelf 3'}, {'room': 'Cage', 'container': '5c', 'specific': 'Stack 22|-3'}]\n"
     ]
    },
    {
     "name": "stderr",
     "output_type": "stream",
     "text": [
      "\n"
     ]
    },
    {
     "name": "stdout",
     "output_type": "stream",
     "text": [
      "LLM returns: \n",
      " Laser Cutter Replacement Parts \n",
      " Laser3D\n",
      "\n",
      " *********************************************************** \n",
      " \n",
      "\n",
      " text =  Air guns to alleviate air can requests.\n",
      "\n",
      " link items =  ['Honoson 4 Pieces 1/4 NPT Lever Blow Gun Air Nozzle Dust Cleaning Blower Gun with Rubber and Safety Tip Nozzles Air Tool for Home Shop Garage Industry(Black)', 'Brass 1/4-Inch NPT Male Industrial Air Hose Quick Connect Adapter,Air Coupler and Plug Kit,Air Compressor Fittings 10pcs (Male NPT)']\n"
     ]
    },
    {
     "name": "stderr",
     "output_type": "stream",
     "text": [
      "Batches: 100%|██████████| 1/1 [00:00<00:00,  7.88it/s]"
     ]
    },
    {
     "name": "stdout",
     "output_type": "stream",
     "text": [
      "Candidate: Microfiber Cloth — [{'room': 'Studio', 'container': 'Studio 5', 'specific': 'Shelf 4'}]\n",
      "Candidate: Portable Stand — [{'room': 'Studio', 'container': None, 'specific': None}]\n",
      "Candidate: Skein Winder — [{'room': 'Main', 'container': 'Fabric', 'specific': ''}]\n",
      "Candidate: Spray Paint Gun Kit — [{'room': 'Cage', 'container': '1b', 'specific': None}]\n",
      "Candidate: Multimeter Kit 3 — [{'room': 'Cage', 'container': '2b', 'specific': ''}]\n"
     ]
    },
    {
     "name": "stderr",
     "output_type": "stream",
     "text": [
      "\n"
     ]
    },
    {
     "name": "stdout",
     "output_type": "stream",
     "text": [
      "LLM returns: \n",
      " Spray Paint Gun Kit \n",
      " Cage/Crypt/Other\n",
      "\n",
      " *********************************************************** \n",
      " \n",
      "\n",
      " text =  Screwdrivers: \n",
      "\n",
      "Organizer for huskey:\n",
      "\n",
      " link items =  ['Amartisan 10-Piece Magnetic Screwdrivers Set, 5 Phillips and 5 Slotted Tips Professional Cushion Grip Screwdriver Set', '45 Pack Tool Box Organizer Tray Divider, Toolbox Desk Drawer Organizer,Garage Organization Storage for Rolling Tool Chest Cart Cabinet Workbench Workshop Small Parts Widget Tool Organizer Black']\n"
     ]
    },
    {
     "name": "stderr",
     "output_type": "stream",
     "text": [
      "Batches: 100%|██████████| 1/1 [00:00<00:00,  4.62it/s]\n"
     ]
    },
    {
     "name": "stdout",
     "output_type": "stream",
     "text": [
      "Candidate: Screws — [{'room': 'Main', 'container': 'Cabinet 9', 'specific': 'Shelf 8'}]\n",
      "Candidate: Spare Embroidery Machine Power Cables — [{'room': 'Cage', 'container': '3b', 'specific': None}]\n",
      "Candidate: Microphone Stand, Gator (Telescoping w/ Boom and Counterweight) — [{'room': 'Studio', 'container': 'Studio 4', 'specific': 'Drawer 3'}]\n",
      "Candidate: Suede Lace — [{'room': 'Main', 'container': 'Cabinet 2', 'specific': 'Shelf 21'}]\n",
      "Candidate: Power Source, Lowel LED Light Kit — [{'room': 'Studio', 'container': 'Studio 3', 'specific': 'Shelf 2'}]\n",
      "LLM returns: \n",
      "  \n",
      " Cabinet 11\n",
      "\n",
      " *********************************************************** \n",
      " \n",
      "\n",
      " text =  rubber cement\n",
      "\n",
      " link items =  []\n"
     ]
    },
    {
     "name": "stderr",
     "output_type": "stream",
     "text": [
      "Batches: 100%|██████████| 1/1 [00:00<00:00,  9.03it/s]"
     ]
    },
    {
     "name": "stdout",
     "output_type": "stream",
     "text": [
      "Candidate: USB-C to USB-A Adapter — [{'room': 'Cage', 'container': '8d', 'specific': ''}]\n",
      "Candidate: Aero 125 Silicone RTV Rubber — [{'room': 'Cage', 'container': '7c', 'specific': None}]\n",
      "Candidate: Acetone — [{'room': 'Cage', 'container': 'Flammable', 'specific': None}]\n",
      "Candidate: Ziploc Plastic Bags (Gallon) — [{'room': 'Main', 'container': 'Cabinet 2', 'specific': 'Shelf 2'}, {'room': 'Cage', 'container': '5b', 'specific': '|12'}, {'room': 'Cage', 'container': '8e', 'specific': '|1'}]\n",
      "Candidate: Miscellaneous Beads — [{'room': 'Main', 'container': 'Cabinet 3', 'specific': 'Shelf 14'}]\n"
     ]
    },
    {
     "name": "stderr",
     "output_type": "stream",
     "text": [
      "\n"
     ]
    },
    {
     "name": "stdout",
     "output_type": "stream",
     "text": [
      "LLM returns: \n",
      "  \n",
      " Cabinet 5\n",
      "\n",
      " *********************************************************** \n",
      " \n",
      "\n",
      " text =  wire cutters (they keep getting lost)--\n",
      "\n",
      " link items =  ['Small Wire Cutters 10 Pack- KAIHAOWIN 170 Wire Flush Cutters Wire Clippers Nippers Clean Cut Pliers Side Cutter Diagonal Cutting Pliers for Electronic Floral Heating Wire Model Sprue Soft Copper, Blue']\n"
     ]
    },
    {
     "name": "stderr",
     "output_type": "stream",
     "text": [
      "Batches: 100%|██████████| 1/1 [00:00<00:00, 11.26it/s]"
     ]
    },
    {
     "name": "stdout",
     "output_type": "stream",
     "text": [
      "Candidate: Cricut Replacement Blades — [{'room': 'Cage', 'container': '1d', 'specific': ''}]\n",
      "Candidate: Toothpicks — [{'room': 'Main', 'container': 'Cabinet 2', 'specific': 'Shelf 9'}, {'room': 'Cage', 'container': '5c', 'specific': 'Stack 17|-3'}]\n",
      "Candidate: Multimeter Kit 8 — [{'room': 'Cage', 'container': '2b', 'specific': ''}]\n",
      "Candidate: Spare Multimeter Probes — [{'room': 'Cage', 'container': '2b', 'specific': None}]\n",
      "Candidate: Ryoba Saw — [{'room': 'Cage', 'container': 'Pegboard', 'specific': None}]\n"
     ]
    },
    {
     "name": "stderr",
     "output_type": "stream",
     "text": [
      "\n"
     ]
    },
    {
     "name": "stdout",
     "output_type": "stream",
     "text": [
      "LLM returns: \n",
      "  \n",
      " Cabinet 11\n",
      "\n",
      " *********************************************************** \n",
      " \n",
      "\n",
      " text =  1\" buttons (this is the same company that the machine is from)--\n",
      "\n",
      " link items =  ['1\" Pinback Button Set']\n"
     ]
    },
    {
     "name": "stderr",
     "output_type": "stream",
     "text": [
      "Batches: 100%|██████████| 1/1 [00:00<00:00, 10.58it/s]"
     ]
    },
    {
     "name": "stdout",
     "output_type": "stream",
     "text": [
      "Candidate: Pre-Packaged Sets of 50 Large Buttons (2.25\") — [{'room': 'Cage', 'container': '1c', 'specific': None}]\n",
      "Candidate: Pink Buttons — [{'room': 'Main', 'container': 'Pegboard 1', 'specific': 'A7'}, {'room': 'Cage', 'container': '5d', 'specific': 'Stack 10|-2'}]\n",
      "Candidate: Loose Large Button Making Supplies (2.25\") — [{'room': 'Cage', 'container': '1c', 'specific': None}, {'room': 'Backstock', 'container': 'Floor', 'specific': '|-3'}]\n",
      "Candidate: Iron — [{'room': 'Cage', 'container': '3c', 'specific': None}]\n",
      "Candidate: Red Buttons — [{'room': 'Main', 'container': 'Pegboard 1', 'specific': 'A1'}, {'room': 'Cage', 'container': '5d', 'specific': 'Stack 10|-2'}]\n"
     ]
    },
    {
     "name": "stderr",
     "output_type": "stream",
     "text": [
      "\n"
     ]
    },
    {
     "name": "stdout",
     "output_type": "stream",
     "text": [
      "LLM returns: \n",
      " Pre-Packaged Sets of 50 Large Buttons (2.25\") \n",
      " Cage/Crypt/Other\n",
      "\n",
      " *********************************************************** \n",
      " \n",
      "\n",
      " text =  2.25\" buttons (this is the same company that the machine is from)--\n",
      "\n",
      " link items =  ['2.25\" Pinback Button Set']\n"
     ]
    },
    {
     "name": "stderr",
     "output_type": "stream",
     "text": [
      "Batches: 100%|██████████| 1/1 [00:00<00:00,  8.61it/s]"
     ]
    },
    {
     "name": "stdout",
     "output_type": "stream",
     "text": [
      "Candidate: Pre-Packaged Sets of 50 Large Buttons (2.25\") — [{'room': 'Cage', 'container': '1c', 'specific': None}]\n",
      "Candidate: Small Button Maker (1\") — [{'room': 'Cage', 'container': '1c', 'specific': None}]\n",
      "Candidate: Iron — [{'room': 'Cage', 'container': '3c', 'specific': None}]\n",
      "Candidate: Pink Buttons — [{'room': 'Main', 'container': 'Pegboard 1', 'specific': 'A7'}, {'room': 'Cage', 'container': '5d', 'specific': 'Stack 10|-2'}]\n",
      "Candidate: Loose Large Button Making Supplies (2.25\") — [{'room': 'Cage', 'container': '1c', 'specific': None}, {'room': 'Backstock', 'container': 'Floor', 'specific': '|-3'}]\n"
     ]
    },
    {
     "name": "stderr",
     "output_type": "stream",
     "text": [
      "\n"
     ]
    },
    {
     "name": "stdout",
     "output_type": "stream",
     "text": [
      "LLM returns: \n",
      " Pre-Packaged Sets of 50 Large Buttons (2.25\") \n",
      " Cage/Crypt/Other\n",
      "\n",
      " *********************************************************** \n",
      " \n",
      "\n",
      " text =  electrical tape-- we only have one roll left so it's probably good to have some extras?--\n",
      "\n",
      " link items =  ['Black Electrical Tape 4 Pack 3/4-Inch by 60 Feet, Voltage Level 600V Dustproof, Adhesive for General Home Vehicle Auto Car Power Circuit Wiring Black (60ft Black)']\n"
     ]
    },
    {
     "name": "stderr",
     "output_type": "stream",
     "text": [
      "Batches: 100%|██████████| 1/1 [00:00<00:00,  5.24it/s]"
     ]
    },
    {
     "name": "stdout",
     "output_type": "stream",
     "text": [
      "Candidate: Blue Masking Tape (2\") — [{'room': 'Main', 'container': 'Cabinet 5', 'specific': 'Top'}, {'room': 'Cage', 'container': '5e', 'specific': '|-3'}]\n",
      "Candidate: Color Gel Pens — [{'room': 'Main', 'container': 'Cabinet 4', 'specific': 'Shelf 13'}]\n",
      "Candidate: 3.5 mm Male to XLR Female Cable Short — [{'room': 'Studio', 'container': 'Studio 2', 'specific': 'Shelf 8'}]\n",
      "Candidate: 3.5 mm Male to XLR Male Cable Short — [{'room': 'Studio', 'container': 'Studio 2', 'specific': 'Shelf 8'}]\n",
      "Candidate: Tweezers for Electronics — [{'room': 'Other', 'container': '', 'specific': None}]\n"
     ]
    },
    {
     "name": "stderr",
     "output_type": "stream",
     "text": [
      "\n"
     ]
    },
    {
     "name": "stdout",
     "output_type": "stream",
     "text": [
      "LLM returns: \n",
      " Blue Masking Tape (2\") \n",
      " Cabinet 5\n",
      "\n",
      " *********************************************************** \n",
      " \n",
      "\n",
      " text =  mallets--\n",
      "\n",
      " link items =  ['Fiberglass Handle Rubber Mallet Hammer Set, 8 OZ and 16 OZ, Soft Blow Tasks without Damage, Black with Red, 2 Packs']\n"
     ]
    },
    {
     "name": "stderr",
     "output_type": "stream",
     "text": [
      "Batches: 100%|██████████| 1/1 [00:00<00:00,  8.04it/s]"
     ]
    },
    {
     "name": "stdout",
     "output_type": "stream",
     "text": [
      "Candidate: Rubber Cement — [{'room': 'Cage', 'container': 'Flamable', 'specific': ''}]\n",
      "Candidate: T-pins — [{'room': 'Main', 'container': 'Pegboard 1', 'specific': 'F5'}]\n",
      "Candidate: Laser Cutter Cleaning Tools — [{'room': 'Laser3D', 'container': 'In Laser Cutter Side Panel', 'specific': None}]\n",
      "Candidate: (9000) LFP Natural Paper 44x40 — [{'room': 'The Crypt', 'container': '', 'specific': ''}]\n",
      "Candidate: Large Hot Glue Sticks — [{'room': 'Cage', 'container': '5d', 'specific': 'Stack 4|-3'}]\n"
     ]
    },
    {
     "name": "stderr",
     "output_type": "stream",
     "text": [
      "\n"
     ]
    },
    {
     "name": "stdout",
     "output_type": "stream",
     "text": [
      "LLM returns: \n",
      "  \n",
      " Cabinet 11\n",
      "\n",
      " *********************************************************** \n",
      " \n",
      "\n",
      " text =  Squirt bottles\n",
      "\n",
      " link items =  ['ACM Economy Wash Bottle, LDPE, Squeeze Bottle Medical Label Tattoo (250ml. / 8oz / 1 Bottle)']\n"
     ]
    },
    {
     "name": "stderr",
     "output_type": "stream",
     "text": [
      "Batches: 100%|██████████| 1/1 [00:00<00:00,  9.40it/s]"
     ]
    },
    {
     "name": "stdout",
     "output_type": "stream",
     "text": [
      "Candidate: Glowforge Lantern Kits — [{'room': 'The Crypt', 'container': '1b', 'specific': ''}]\n",
      "Candidate: Out of Order Signs — [{'room': 'Cage', 'container': '8d', 'specific': ''}]\n",
      "Candidate: Form Resin Color Kit — [{'room': 'Laser3D', 'container': 'Cabinet 3', 'specific': None}]\n",
      "Candidate: Fabric Shears — [{'room': 'Other', 'container': '', 'specific': ''}]\n",
      "Candidate: Paint Palettes — [{'room': 'Main', 'container': 'Cabinet 4', 'specific': 'Shelf 8'}, {'room': 'Cage', 'container': '5d', 'specific': 'Stack 10|-3'}]\n"
     ]
    },
    {
     "name": "stderr",
     "output_type": "stream",
     "text": [
      "\n"
     ]
    },
    {
     "name": "stdout",
     "output_type": "stream",
     "text": [
      "LLM returns: \n",
      " Paint Palettes \n",
      " Cabinet 4\n",
      "\n",
      " *********************************************************** \n",
      " \n",
      "\n",
      " text =  parchment paper-- a user requested it and it seems like a generally useful thing for us to have since people work with sticky things a lot\n",
      "\n",
      " link items =  ['260 Sq.Ft Unbleached Parchment Paper for Baking – Roll with Cutter, Heavy Duty Non-Stick Brown Parchment for Baking, Cooking, Grilling, Steaming and Air Fryer, 15in x 210ft by Baker’s Signature']\n"
     ]
    },
    {
     "name": "stderr",
     "output_type": "stream",
     "text": [
      "Batches: 100%|██████████| 1/1 [00:00<00:00,  5.99it/s]"
     ]
    },
    {
     "name": "stdout",
     "output_type": "stream",
     "text": [
      "Candidate: Black Acrylic Paint — [{'room': 'Cage', 'container': '5c', 'specific': 'Stack 21|-3'}]\n",
      "Candidate: Parchment Paper — [{'room': 'Cage', 'container': '4c', 'specific': ''}]\n",
      "Candidate: Leather Seeder Tool — [{'room': 'Studio', 'container': '', 'specific': ''}]\n",
      "Candidate: Laminator Sheets (Business Card Size) — [{'room': 'Cage', 'container': '1b', 'specific': ''}]\n",
      "Candidate: Printer — [{'room': 'Cage', 'container': '8d', 'specific': None}]\n"
     ]
    },
    {
     "name": "stderr",
     "output_type": "stream",
     "text": [
      "\n"
     ]
    },
    {
     "name": "stdout",
     "output_type": "stream",
     "text": [
      "LLM returns: \n",
      "  \n",
      " Cabinet 7\n",
      "\n",
      " *********************************************************** \n",
      " \n",
      "\n",
      " text =  plastic bobbins--\n",
      "\n",
      " link items =  ['50 Pcs bobbins for Sewing Machine- Eoehro, Sa156 Bobbins, Bobbins Class 15, Sewing Accessories, Plastic Bobbin with Case(2 Box)']\n"
     ]
    },
    {
     "name": "stderr",
     "output_type": "stream",
     "text": [
      "Batches: 100%|██████████| 1/1 [00:00<00:00,  7.65it/s]"
     ]
    },
    {
     "name": "stdout",
     "output_type": "stream",
     "text": [
      "Candidate: T-pins — [{'room': 'Main', 'container': 'Pegboard 1', 'specific': 'F5'}]\n",
      "Candidate: Polyester Thread — [{'room': 'Main', 'container': 'Pegboard 1', 'specific': 'Front'}, {'room': 'Cage', 'container': '5e', 'specific': '|-3'}]\n",
      "Candidate: Loom Shuttle — [{'room': 'The Crypt', 'container': '1e', 'specific': None}]\n",
      "Candidate: Bias tape — [{'room': 'Main', 'container': 'Cabinet 1', 'specific': 'Shelf 13'}]\n",
      "Candidate: Brother Sewing Machine 18 — [{'room': 'Cage', 'container': '3e', 'specific': ''}]\n"
     ]
    },
    {
     "name": "stderr",
     "output_type": "stream",
     "text": [
      "\n"
     ]
    },
    {
     "name": "stdout",
     "output_type": "stream",
     "text": [
      "LLM returns: \n",
      " T-pins \n",
      " Pegboard 1\n",
      "\n",
      " *********************************************************** \n",
      " \n",
      "\n",
      " text =  metal bobbins--\n",
      "\n",
      " link items =  ['36Pcs Metal Bobbins with Bobbin Case, Sewing Machine Bobbins for Craft Sewing, BetyBedy Metal Bobbins Set for Bro-Ther/Baby-Lock/Jano-me/El-na/Sin-ger, Sewing Machine Accessories']\n"
     ]
    },
    {
     "name": "stderr",
     "output_type": "stream",
     "text": [
      "Batches: 100%|██████████| 1/1 [00:00<00:00,  5.71it/s]"
     ]
    },
    {
     "name": "stdout",
     "output_type": "stream",
     "text": [
      "Candidate: Polyester Thread — [{'room': 'Main', 'container': 'Pegboard 1', 'specific': 'Front'}, {'room': 'Cage', 'container': '5e', 'specific': '|-3'}]\n",
      "Candidate: T-pins — [{'room': 'Main', 'container': 'Pegboard 1', 'specific': 'F5'}]\n",
      "Candidate: Loom Shuttle — [{'room': 'The Crypt', 'container': '1e', 'specific': None}]\n",
      "Candidate: Bias tape — [{'room': 'Main', 'container': 'Cabinet 1', 'specific': 'Shelf 13'}]\n",
      "Candidate: Misc Plastic Sheet Rolls — [{'room': 'Cage', 'container': '4a 4b', 'specific': ''}]\n"
     ]
    },
    {
     "name": "stderr",
     "output_type": "stream",
     "text": [
      "\n"
     ]
    },
    {
     "name": "stdout",
     "output_type": "stream",
     "text": [
      "LLM returns: \n",
      " T-pins \n",
      " Pegboard 1\n",
      "\n",
      " *********************************************************** \n",
      " \n",
      "\n",
      " text =  Paper bags\n",
      "\n",
      " link items =  []\n"
     ]
    },
    {
     "name": "stderr",
     "output_type": "stream",
     "text": [
      "Batches: 100%|██████████| 1/1 [00:00<00:00,  9.29it/s]"
     ]
    },
    {
     "name": "stdout",
     "output_type": "stream",
     "text": [
      "Candidate: Fabric Rolls — [{'room': 'Main', 'container': 'Fabrics', 'specific': None}, {'room': 'Backstock', 'container': 'Floor', 'specific': '|0'}]\n",
      "Candidate: Cardboard — [{'room': 'Main', 'container': 'Fabrics Area', 'specific': None}]\n",
      "Candidate: Metal Scrap — [{'room': 'Cage', 'container': '4b', 'specific': ''}]\n",
      "Candidate: Dawn Dish Soap — [{'room': 'Cage', 'container': '8e', 'specific': ''}]\n",
      "Candidate: Digital Soldering Station — [{'room': 'Other', 'container': '', 'specific': None}]\n"
     ]
    },
    {
     "name": "stderr",
     "output_type": "stream",
     "text": [
      "\n"
     ]
    },
    {
     "name": "stdout",
     "output_type": "stream",
     "text": [
      "LLM returns: \n",
      "  \n",
      " Cabinet 7\n",
      "\n",
      " *********************************************************** \n",
      " \n",
      "\n",
      " text =  Small super glue tubes\n",
      "\n",
      " link items =  ['Super Glue 15187 , Clear- pack of 12']\n"
     ]
    },
    {
     "name": "stderr",
     "output_type": "stream",
     "text": [
      "Batches: 100%|██████████| 1/1 [00:00<00:00,  7.67it/s]"
     ]
    },
    {
     "name": "stdout",
     "output_type": "stream",
     "text": [
      "Candidate: Tacky Glue — [{'room': 'Main', 'container': 'Cabinet 5', 'specific': 'Shelf 1'}, {'room': 'Cage', 'container': '5d', 'specific': 'Stack 4|1'}]\n",
      "Candidate: Leatherworking Tools — [{'room': 'Main', 'container': 'Cabinet 9', 'specific': 'Shelf 4'}]\n",
      "Candidate: Zippers — [{'room': 'Main', 'container': 'Cabinet 1', 'specific': 'Shelf 14'}, {'room': 'Cage', 'container': '5c', 'specific': 'Stack 23|-3'}]\n",
      "Candidate: Nuts and Bolts — [{'room': 'Main', 'container': 'Cabinet 9', 'specific': 'Shelf 9'}]\n",
      "Candidate: Gaff Tape — [{'room': 'Studio', 'container': 'A2', 'specific': None}, {'room': 'Outdoor Storage', 'container': '', 'specific': '|3'}]\n"
     ]
    },
    {
     "name": "stderr",
     "output_type": "stream",
     "text": [
      "\n"
     ]
    },
    {
     "name": "stdout",
     "output_type": "stream",
     "text": [
      "LLM returns: \n",
      " Tacky Glue \n",
      " Cabinet 5\n",
      "\n",
      " *********************************************************** \n",
      " \n",
      "\n",
      " text =  Modge podge both matte ( or smaller size) and glossy (\n",
      "\n",
      " link items =  ['Mod Podge CS11304 Waterbase Sealer, Glue and Finish, 128 oz, Matte', 'Mod Podge Gloss Sealer, Glue & Finish: All-in-One Craft Solution- Quick Dry, Easy Clean, for Wood, Paper, Fabric & More. Non-Toxic - Craft with Confidence, Made in USA, 32 oz., Pack of 1']\n"
     ]
    },
    {
     "name": "stderr",
     "output_type": "stream",
     "text": [
      "Batches: 100%|██████████| 1/1 [00:00<00:00,  8.23it/s]"
     ]
    },
    {
     "name": "stdout",
     "output_type": "stream",
     "text": [
      "Candidate: Spring Clamps — [{'room': 'Main', 'container': 'Cabinet 11', 'specific': 'Shelf 9'}, {'room': 'Backstock', 'container': 'Shelf 2', 'specific': '|9'}]\n",
      "Candidate: Cricut Lint Roller — [{'room': 'Cage', 'container': '1d', 'specific': ''}, {'room': 'Backstock', 'container': 'Shelf 2', 'specific': '|1'}]\n",
      "Candidate: Rubber Mallets — [{'room': 'Main', 'container': 'Cabinet 11', 'specific': 'Shelf 5'}, {'room': 'Backstock', 'container': 'Shelf 2', 'specific': '|2'}]\n",
      "Candidate: Leather & Suede Glue — [{'room': 'Main', 'container': 'Cabinet 5', 'specific': 'Shelf 1'}, {'room': 'Cage', 'container': '5d', 'specific': 'Stack 4|1'}]\n",
      "Candidate: Wood Stain & Sealer — [{'room': 'Cage', 'container': '7b', 'specific': ''}]\n"
     ]
    },
    {
     "name": "stderr",
     "output_type": "stream",
     "text": [
      "\n"
     ]
    },
    {
     "name": "stdout",
     "output_type": "stream",
     "text": [
      "LLM returns: \n",
      " Leather & Suede Glue \n",
      " Cabinet 5\n",
      "\n",
      " *********************************************************** \n",
      " \n",
      "\n",
      " text =  Epoxy tubes\n",
      "\n",
      " link items =  ['J-B Weld ClearWeld 5 Minute Epoxy, Clear, Syringe, 2 Pack, 50112-2']\n"
     ]
    },
    {
     "name": "stderr",
     "output_type": "stream",
     "text": [
      "Batches: 100%|██████████| 1/1 [00:00<00:00, 11.95it/s]"
     ]
    },
    {
     "name": "stdout",
     "output_type": "stream",
     "text": [
      "Candidate: Instant Epoxy (Bottled) — [{'room': 'Main', 'container': 'Cabinet 5', 'specific': ''}, {'room': 'Cage', 'container': '5D', 'specific': '7'}]\n",
      "Candidate: 5 in 1 Painter's Tool — [{'room': 'Main', 'container': 'Cabinet 4', 'specific': 'Shelf 14'}]\n",
      "Candidate: AA Batteries — [{'room': 'Cage', 'container': '8d', 'specific': None}]\n",
      "Candidate: Creality Belt Printer [DEPRECATED] — [{'room': 'Outdoor Storage', 'container': '', 'specific': ''}]\n",
      "Candidate: Spray Paint Gun Paint Cup — [{'room': 'Cage', 'container': 'Inside Spray Paint Gun Kit', 'specific': None}]\n"
     ]
    },
    {
     "name": "stderr",
     "output_type": "stream",
     "text": [
      "\n"
     ]
    },
    {
     "name": "stdout",
     "output_type": "stream",
     "text": [
      "LLM returns: \n",
      " Instant Epoxy (Bottled) \n",
      " Cabinet 5\n",
      "\n",
      " *********************************************************** \n",
      " \n",
      "\n",
      " text =  Thread cutters\n",
      "\n",
      " link items =  ['Golden Eagle Sharp Point Quick-Clip Lightweight Thread Snippers (12 Piece Pack)']\n"
     ]
    },
    {
     "name": "stderr",
     "output_type": "stream",
     "text": [
      "Batches: 100%|██████████| 1/1 [00:00<00:00, 11.33it/s]"
     ]
    },
    {
     "name": "stdout",
     "output_type": "stream",
     "text": [
      "Candidate: Spare Multimeter Probes — [{'room': 'Cage', 'container': '2b', 'specific': None}]\n",
      "Candidate: 205 Yellow Thread — [{'room': 'Main', 'container': '', 'specific': ''}]\n",
      "Candidate: Plastic Bobbins — [{'room': 'Main', 'container': 'Pegboard 1', 'specific': 'Bottom'}, {'room': 'Cage', 'container': '5e', 'specific': 'Pegboard Bins|-3'}]\n",
      "Candidate: Large Hot Glue Sticks — [{'room': 'Cage', 'container': '5d', 'specific': 'Stack 4|-3'}]\n",
      "Candidate: Sewing Machine Needles — [{'room': 'Main', 'container': 'Pegboard 1', 'specific': 'F1'}, {'room': 'Cage', 'container': '5e', 'specific': 'Pegboard Bins|-3'}]\n"
     ]
    },
    {
     "name": "stderr",
     "output_type": "stream",
     "text": [
      "\n"
     ]
    },
    {
     "name": "stdout",
     "output_type": "stream",
     "text": [
      "LLM returns: \n",
      " Plastic Bobbins \n",
      " Pegboard 1\n",
      "\n",
      " *********************************************************** \n",
      " \n",
      "\n",
      " text =  Seam rippers\n",
      "\n",
      " link items =  ['Dritz Seam Ripper Small Blade Sewing Accessories, 12 Pack, None,Blue']\n"
     ]
    },
    {
     "name": "stderr",
     "output_type": "stream",
     "text": [
      "Batches: 100%|██████████| 1/1 [00:00<00:00, 14.49it/s]"
     ]
    },
    {
     "name": "stdout",
     "output_type": "stream",
     "text": [
      "Candidate: Thread Cutters — [{'room': 'Main', 'container': 'Pegboard 1', 'specific': 'E7'}, {'room': 'Cage', 'container': '5c', 'specific': 'Stack 7|13'}]\n",
      "Candidate: Rick Racks — [{'room': 'Main', 'container': 'Pegboard 1', 'specific': 'L1'}]\n",
      "Candidate: Scissors — [{'room': 'Main', 'container': 'Cabinet 3', 'specific': 'Shelf 1'}, {'room': 'Cage', 'container': '5d', 'specific': 'Stack 1|-3'}]\n",
      "Candidate: Singer Sewing Machine 20 — [{'room': 'Cage', 'container': '3e', 'specific': ''}]\n",
      "Candidate: Bias tape — [{'room': 'Main', 'container': 'Cabinet 1', 'specific': 'Shelf 13'}]\n"
     ]
    },
    {
     "name": "stderr",
     "output_type": "stream",
     "text": [
      "\n"
     ]
    },
    {
     "name": "stdout",
     "output_type": "stream",
     "text": [
      "LLM returns: \n",
      " Thread Cutters \n",
      " Pegboard 1\n",
      "\n",
      " *********************************************************** \n",
      " \n",
      "\n",
      " text =  cricut transfer tape--\n",
      "\n",
      " link items =  ['HTVRONT Transfer Tape for Vinyl - 12\" x 30 Feet Clear w/Red Alignment Grid Medium Tack Vinyl Transfer Tape Perfect for Cameo Self Adhesive Vinyl for Signs Stickers Decals Walls Doors & Window']\n"
     ]
    },
    {
     "name": "stderr",
     "output_type": "stream",
     "text": [
      "Batches: 100%|██████████| 1/1 [00:00<00:00,  7.39it/s]"
     ]
    },
    {
     "name": "stdout",
     "output_type": "stream",
     "text": [
      "Candidate: Key Tags — [{'room': 'Cage', 'container': '8d', 'specific': ''}]\n",
      "Candidate: Scotch Tape — [{'room': 'Main', 'container': 'Cabinet 5', 'specific': 'Shelf 2'}, {'room': 'Cage', 'container': '5c', 'specific': 'Stack 14|0'}, {'room': 'Cage', 'container': '5c', 'specific': 'Stack 7'}, {'room': 'Cage', 'container': '5c', 'specific': 'Stack 6'}]\n",
      "Candidate: Glue Dots — [{'room': 'Main', 'container': 'Cabinet 5', 'specific': 'Shelf 2'}, {'room': 'Cage', 'container': '8d', 'specific': '|-3'}]\n",
      "Candidate: Seam Rippers — [{'room': 'Main', 'container': 'Pegboard 1', 'specific': 'E5'}, {'room': 'Cage', 'container': '5c', 'specific': 'Stack 7|-3'}]\n",
      "Candidate: LFP9900 Vivid Light Magenta Ink — [{'room': 'The Crypt', 'container': '3B', 'specific': ''}]\n"
     ]
    },
    {
     "name": "stderr",
     "output_type": "stream",
     "text": [
      "\n"
     ]
    },
    {
     "name": "stdout",
     "output_type": "stream",
     "text": [
      "LLM returns: \n",
      " Scotch Tape \n",
      " Cabinet 5\n",
      "\n",
      " *********************************************************** \n",
      " \n",
      "\n",
      " text =  Velcro\n",
      "\n",
      " link items =  ['VELCRO Brand ONE-WRAP Double Sided Roll | 45 Ft | Cut to Length Straps Heavy Duty Extra Wide 1.5in | Bundling Ties Fasten to Themselves for Secure Hold, Black (91881)']\n"
     ]
    },
    {
     "name": "stderr",
     "output_type": "stream",
     "text": [
      "Batches: 100%|██████████| 1/1 [00:00<00:00, 12.79it/s]"
     ]
    },
    {
     "name": "stdout",
     "output_type": "stream",
     "text": [
      "Candidate: Heavy Duty Straps — [{'room': 'Cage', 'container': '7c', 'specific': None}]\n",
      "Candidate: Large Straps — [{'room': 'Cage', 'container': '7c', 'specific': None}]\n",
      "Candidate: Small Metal Magnets — [{'room': 'Main', 'container': 'Cabinet 2', 'specific': 'Shelf 1'}, {'room': 'Cage', 'container': '5c', 'specific': 'Stack 14|-3'}]\n",
      "Candidate: Mini Screwdrivers — [{'room': 'Cage', 'container': '5c', 'specific': 'Stack 12'}]\n",
      "Candidate: Spool Hugging Net — [{'room': 'Main', 'container': 'Pegboard 1', 'specific': 'J3'}]\n"
     ]
    },
    {
     "name": "stderr",
     "output_type": "stream",
     "text": [
      "\n"
     ]
    },
    {
     "name": "stdout",
     "output_type": "stream",
     "text": [
      "LLM returns: \n",
      " Heavy Duty Straps \n",
      " Cage/Crypt/Other\n",
      "\n",
      " *********************************************************** \n",
      " \n",
      "\n",
      " text =  Rotary cutters\n",
      "\n",
      " link items =  ['Fiskars 45mm Rotary Cutter for Fabric with Ergonomic Loop Grip, Premium Steel Rotary Fabric Cutter Blade for Precise Cuts, Arts and Crafts, Sewing Supplies and Quilting Tools']\n"
     ]
    },
    {
     "name": "stderr",
     "output_type": "stream",
     "text": [
      "Batches: 100%|██████████| 1/1 [00:00<00:00,  5.48it/s]"
     ]
    },
    {
     "name": "stdout",
     "output_type": "stream",
     "text": [
      "Candidate: More Misc Electronics (Breadboard Circuit Components) — [{'room': 'Main', 'container': 'Black Pegboard 2', 'specific': None}]\n",
      "Candidate: Fabric Tape — [{'room': 'Main', 'container': 'Pegboard 1', 'specific': 'G7'}, {'room': 'Cage', 'container': '5e', 'specific': 'Pegboard Bins|1'}]\n",
      "Candidate: Large Button Maker (2.25\") — [{'room': 'Cage', 'container': '1c', 'specific': None}]\n",
      "Candidate: Sand Paper — [{'room': 'Main', 'container': 'Cabinet 11', 'specific': 'Top'}, {'room': 'Cage', 'container': '5c', 'specific': 'Stack 3|-2'}]\n",
      "Candidate: Scissors — [{'room': 'Main', 'container': 'Cabinet 3', 'specific': 'Shelf 1'}, {'room': 'Cage', 'container': '5d', 'specific': 'Stack 1|-3'}]\n"
     ]
    },
    {
     "name": "stderr",
     "output_type": "stream",
     "text": [
      "\n"
     ]
    },
    {
     "name": "stdout",
     "output_type": "stream",
     "text": [
      "LLM returns: \n",
      " Fabric Tape \n",
      " Pegboard 1\n",
      "\n",
      " *********************************************************** \n",
      " \n",
      "\n",
      " text =  Small Embroidery Hoops\n",
      "\n",
      " link items =  ['Cldamecy 12 Pieces 4 inch Embroidery Hoops,Round Bamboo Adjustable Circle Frame Cross Stitch Hoops for Christmas Ornament,Embroidery,Decoration,Art Craft and DIY Project']\n"
     ]
    },
    {
     "name": "stderr",
     "output_type": "stream",
     "text": [
      "Batches: 100%|██████████| 1/1 [00:00<00:00,  6.03it/s]"
     ]
    },
    {
     "name": "stdout",
     "output_type": "stream",
     "text": [
      "Candidate: Circular Knitting Needles — [{'room': 'Main', 'container': 'Cabinet 1', 'specific': 'Shelf 4'}, {'room': 'Cage', 'container': '5c', 'specific': 'Stack 24|-3'}]\n",
      "Candidate: Ratchet Kit — [{'room': 'Cage', 'container': '2b', 'specific': None}]\n",
      "Candidate: Plastic Bags — [{'room': 'Cage', 'container': '4b', 'specific': None}]\n",
      "Candidate: Pony Beads — [{'room': 'Main', 'container': 'Cabinet 3', 'specific': 'Shelf 13'}, {'room': 'Cage', 'container': '5e', 'specific': '|4'}]\n",
      "Candidate: Permanent Fabric Markers — [{'room': 'Main', 'container': 'Cabinet 1', 'specific': 'Shelf 6'}, {'room': 'Cage', 'container': '5e', 'specific': '|-3'}]\n"
     ]
    },
    {
     "name": "stderr",
     "output_type": "stream",
     "text": [
      "\n"
     ]
    },
    {
     "name": "stdout",
     "output_type": "stream",
     "text": [
      "LLM returns: \n",
      "  \n",
      " Fabric\n",
      "\n",
      " *********************************************************** \n",
      " \n",
      "\n",
      " text =  Embroidery Floss\n",
      "\n",
      " link items =  ['Rainbow Embroidery Floss String - Cross Stitch Thread- Friendship Bracelets Floss bobbins- Crafts Floss-50 Pcs 8m Mercerized Embroidery Floss bobbins Included of 2 pcs Metallic Embroidery Thread']\n"
     ]
    },
    {
     "name": "stderr",
     "output_type": "stream",
     "text": [
      "Batches: 100%|██████████| 1/1 [00:00<00:00, 12.89it/s]"
     ]
    },
    {
     "name": "stdout",
     "output_type": "stream",
     "text": [
      "Candidate: Fabric Scissors — [{'room': 'Main', 'container': 'Cabinet 1', 'specific': 'Shelf 1'}, {'room': 'Cage', 'container': '5d', 'specific': 'Stack 1|-3'}]\n",
      "Candidate: Plastic Scrapers — [{'room': 'Main', 'container': 'Cabinet 4', 'specific': 'Shelf 14'}, {'room': 'Cage', 'container': '5c', 'specific': 'Stack 20|-2'}]\n",
      "Candidate: Circular Knitting Needles — [{'room': 'Main', 'container': 'Cabinet 1', 'specific': 'Shelf 4'}, {'room': 'Cage', 'container': '5c', 'specific': 'Stack 24|-3'}]\n",
      "Candidate: Ratchet Kit — [{'room': 'Cage', 'container': '2b', 'specific': None}]\n",
      "Candidate: Permanent Fabric Markers — [{'room': 'Main', 'container': 'Cabinet 1', 'specific': 'Shelf 6'}, {'room': 'Cage', 'container': '5e', 'specific': '|-3'}]\n"
     ]
    },
    {
     "name": "stderr",
     "output_type": "stream",
     "text": [
      "\n"
     ]
    },
    {
     "name": "stdout",
     "output_type": "stream",
     "text": [
      "LLM returns: \n",
      "  \n",
      " Pegboard 1\n",
      "\n",
      " *********************************************************** \n",
      " \n",
      "\n",
      " text =  Thick white elastic band\n",
      "\n",
      " link items =  ['3 Rolls Sewing Stretch Elastic Band Spool, 3/5, 1, 1-1/2 Inch in Width, 5.5 Yards/Roll (White)']\n"
     ]
    },
    {
     "name": "stderr",
     "output_type": "stream",
     "text": [
      "Batches: 100%|██████████| 1/1 [00:00<00:00,  6.80it/s]"
     ]
    },
    {
     "name": "stdout",
     "output_type": "stream",
     "text": [
      "Candidate: Earring Studs — [{'room': 'Main', 'container': 'Cabinet 3', 'specific': 'Shelf 6'}, {'room': 'Cage', 'container': '5d', 'specific': 'Stack 2|-3'}]\n",
      "Candidate: Plastic Lacing Cord — [{'room': 'Main', 'container': 'Cabinet 3', 'specific': 'Shelf 7'}, {'room': 'Cage', 'container': '5c', 'specific': 'Stack 21|-3'}]\n",
      "Candidate: Various Wheels — [{'room': 'The Crypt', 'container': '2d', 'specific': None}]\n",
      "Candidate: Plastic Bins/Boxes/Organizers — [{'room': 'Cage', 'container': '6a, 6b, 6c, 6d', 'specific': ''}]\n",
      "Candidate: Sewing Machine Screw Drivers — [{'room': 'Main', 'container': 'Pegboard 1', 'specific': 'J1'}]\n"
     ]
    },
    {
     "name": "stderr",
     "output_type": "stream",
     "text": [
      "\n"
     ]
    },
    {
     "name": "stdout",
     "output_type": "stream",
     "text": [
      "LLM returns: \n",
      "  \n",
      " Cabinet 6\n",
      "\n",
      " *********************************************************** \n",
      " \n",
      "\n",
      " text =  Thick black elastic band\n",
      "\n",
      " link items =  ['3 Rolls Sewing Stretch Elastic Band Spool, 3/5, 1, 1-1/2 Inch in Width, 5.5 Yards/Roll (Black)']\n"
     ]
    },
    {
     "name": "stderr",
     "output_type": "stream",
     "text": [
      "Batches: 100%|██████████| 1/1 [00:00<00:00,  4.98it/s]\n"
     ]
    },
    {
     "name": "stdout",
     "output_type": "stream",
     "text": [
      "Candidate: Plastic Lacing Cord — [{'room': 'Main', 'container': 'Cabinet 3', 'specific': 'Shelf 7'}, {'room': 'Cage', 'container': '5c', 'specific': 'Stack 21|-3'}]\n",
      "Candidate: Earring Studs — [{'room': 'Main', 'container': 'Cabinet 3', 'specific': 'Shelf 6'}, {'room': 'Cage', 'container': '5d', 'specific': 'Stack 2|-3'}]\n",
      "Candidate: Various Wheels — [{'room': 'The Crypt', 'container': '2d', 'specific': None}]\n",
      "Candidate: Plastic Bins/Boxes/Organizers — [{'room': 'Cage', 'container': '6a, 6b, 6c, 6d', 'specific': ''}]\n",
      "Candidate: Sewing Machine Screw Drivers — [{'room': 'Main', 'container': 'Pegboard 1', 'specific': 'J1'}]\n",
      "LLM returns: \n",
      "  \n",
      " Cabinet 6\n",
      "\n",
      " *********************************************************** \n",
      " \n",
      "\n",
      " text =  fold over elastic\n",
      "\n",
      " link items =  ['Mandala Crafts Foldover Elastic Bands - 5/8 Inch Stretchy White Ribbon for Hair Tie, Headband, Baby Hair Bow, Sewing - 20 Yds']\n"
     ]
    },
    {
     "name": "stderr",
     "output_type": "stream",
     "text": [
      "Batches: 100%|██████████| 1/1 [00:00<00:00,  9.45it/s]"
     ]
    },
    {
     "name": "stdout",
     "output_type": "stream",
     "text": [
      "Candidate: Elastic String — [{'room': 'Main', 'container': 'Cabinet 3', 'specific': 'Shelf 4'}, {'room': 'Cage', 'container': '5c', 'specific': 'Stack 27|-3'}]\n",
      "Candidate: Earring Hooks — [{'room': 'Main', 'container': 'Cabinet 3', 'specific': 'Shelf 6'}, {'room': 'Cage', 'container': '5d', 'specific': 'Stack 2|-3'}]\n",
      "Candidate: Earring Studs — [{'room': 'Main', 'container': 'Cabinet 3', 'specific': 'Shelf 6'}, {'room': 'Cage', 'container': '5d', 'specific': 'Stack 2|-3'}]\n",
      "Candidate: Circular Knitting Needles — [{'room': 'Main', 'container': 'Cabinet 1', 'specific': 'Shelf 4'}, {'room': 'Cage', 'container': '5c', 'specific': 'Stack 24|-3'}]\n",
      "Candidate: Staples — [{'room': 'Main', 'container': 'Cabinet 3', 'specific': 'Shelf 16'}, {'room': 'Cage', 'container': '5c', 'specific': 'Stack 13|-2'}]\n"
     ]
    },
    {
     "name": "stderr",
     "output_type": "stream",
     "text": [
      "\n"
     ]
    },
    {
     "name": "stdout",
     "output_type": "stream",
     "text": [
      "LLM returns: \n",
      "  \n",
      " Cabinet 6\n",
      "\n",
      " *********************************************************** \n",
      " \n",
      "\n",
      " text =  black zippers\n",
      "\n",
      " link items =  ['Black Nylon Coil Zippers 100Pcs 9 Inches Nylon Coil Zippers for Tailor Sewer Sewing Crafter Special, 2 Colors Zippers Bulk Zippers for Sewing Assorted Lengths']\n"
     ]
    },
    {
     "name": "stderr",
     "output_type": "stream",
     "text": [
      "Batches: 100%|██████████| 1/1 [00:00<00:00,  9.71it/s]"
     ]
    },
    {
     "name": "stdout",
     "output_type": "stream",
     "text": [
      "Candidate: Crafting Books — [{'room': 'Main', 'container': 'Fabrics', 'specific': None}]\n",
      "Candidate: Mini Screwdrivers — [{'room': 'Cage', 'container': '5c', 'specific': 'Stack 12'}]\n",
      "Candidate: Small Metal Magnets — [{'room': 'Main', 'container': 'Cabinet 2', 'specific': 'Shelf 1'}, {'room': 'Cage', 'container': '5c', 'specific': 'Stack 14|-3'}]\n",
      "Candidate: Ratchet Kit — [{'room': 'Cage', 'container': '2b', 'specific': None}]\n",
      "Candidate: Singer Sewing Machine 20 — [{'room': 'Cage', 'container': '3e', 'specific': ''}]\n"
     ]
    },
    {
     "name": "stderr",
     "output_type": "stream",
     "text": [
      "\n"
     ]
    },
    {
     "name": "stdout",
     "output_type": "stream",
     "text": [
      "LLM returns: \n",
      "  \n",
      " Pegboard 1\n",
      "\n",
      " *********************************************************** \n",
      " \n",
      "\n",
      " text =  colorful zippers\n",
      "\n",
      " link items =  ['WILLBOND 200 Pieces Nylon Invisible Zippers Sewing Hidden Zippers for Clothes Sewing Crafts, 6 Inch, 8 Inch, 14 Inches, 18 Inches(25 Assorted Colors)']\n"
     ]
    },
    {
     "name": "stderr",
     "output_type": "stream",
     "text": [
      "Batches: 100%|██████████| 1/1 [00:00<00:00,  4.31it/s]\n"
     ]
    },
    {
     "name": "stdout",
     "output_type": "stream",
     "text": [
      "Candidate: Crafting Books — [{'room': 'Main', 'container': 'Fabrics', 'specific': None}]\n",
      "Candidate: Adjustable Button Rotary Cutter (1\" - 2.25\") — [{'room': 'Cage', 'container': '1c', 'specific': None}]\n",
      "Candidate: Singer Sewing Machine 20 — [{'room': 'Cage', 'container': '3e', 'specific': ''}]\n",
      "Candidate: Butcher Paper — [{'room': 'Main', 'container': 'near lockers', 'specific': ''}, {'room': 'The Crypt', 'container': 'Floor', 'specific': '|1'}]\n",
      "Candidate: Mini Screwdrivers — [{'room': 'Cage', 'container': '5c', 'specific': 'Stack 12'}]\n",
      "LLM returns: \n",
      "  \n",
      " Pegboard 1\n",
      "\n",
      " *********************************************************** \n",
      " \n",
      "\n",
      " text =  iron on patches\n",
      "\n",
      " link items =  ['HTVRONT Iron on Patches for Clothing Repair, 20 PCS Multi-Colored Fabric Patches for Clothes Repair, 20 Shades Iron Patches for Clothes, Clothing Repair Decorating Kit 3.7\" by 4.9\"']\n"
     ]
    },
    {
     "name": "stderr",
     "output_type": "stream",
     "text": [
      "Batches: 100%|██████████| 1/1 [00:00<00:00,  4.53it/s]\n"
     ]
    },
    {
     "name": "stdout",
     "output_type": "stream",
     "text": [
      "Candidate: Alphabet Beads — [{'room': 'Main', 'container': 'Cabinet 3', 'specific': 'Shelf 11'}, {'room': 'Cage', 'container': '5d', 'specific': 'Stack 8|-3'}]\n",
      "Candidate: Paint Wipes — [{'room': 'Cage', 'container': '8e', 'specific': None}]\n",
      "Candidate: Sergers — [{'room': 'Cage', 'container': '3c', 'specific': None}]\n",
      "Candidate: Singer Sewing Machine 20 — [{'room': 'Cage', 'container': '3e', 'specific': ''}]\n",
      "Candidate: Adjustable Button Rotary Cutter (1\" - 2.25\") — [{'room': 'Cage', 'container': '1c', 'specific': None}]\n",
      "LLM returns: \n",
      "  \n",
      " Fabric\n",
      "\n",
      " *********************************************************** \n",
      " \n",
      "\n",
      " text =  nylon stocking\n",
      "\n",
      " link items =  ['PEPPERLONELY 20 Colors Set (2.5M Each) Nylon Stocking Flower Fabric for Flowers Making']\n"
     ]
    },
    {
     "name": "stderr",
     "output_type": "stream",
     "text": [
      "Batches: 100%|██████████| 1/1 [00:00<00:00,  5.25it/s]"
     ]
    },
    {
     "name": "stdout",
     "output_type": "stream",
     "text": [
      "Candidate: Ironing mat — [{'room': 'Cage', 'container': '3c', 'specific': None}]\n",
      "Candidate: Packing Tape — [{'room': 'Main', 'container': 'Cabinet 5', 'specific': 'Shelf 2'}, {'room': 'Cage', 'container': '5e', 'specific': '|11'}, {'room': 'Cage', 'container': '8d', 'specific': '|2'}]\n",
      "Candidate: Ball Bearings — [{'room': 'Cage', 'container': 'Movable Shelves', 'specific': None}]\n",
      "Candidate: 058 Dark Brown — [{'room': 'Main', 'container': '', 'specific': ''}]\n",
      "Candidate: Tassels — [{'room': 'Main', 'container': 'Pegboard 1', 'specific': 'C7'}, {'room': 'Cage', 'container': '5e', 'specific': 'Pegboard Bins|-3'}]\n"
     ]
    },
    {
     "name": "stderr",
     "output_type": "stream",
     "text": [
      "\n"
     ]
    },
    {
     "name": "stdout",
     "output_type": "stream",
     "text": [
      "LLM returns: \n",
      "  \n",
      " Fabric\n",
      "\n",
      " *********************************************************** \n",
      " \n",
      "\n",
      " text =  lint brushes (different than lint rollers)\n",
      "\n",
      " link items =  ['Lint Brush, Lint Remover, Pet Hair Remover, Clothes Brush, Magic Lint Remover Brush, Sheet and Carpet Cleaning Brush, 2-Sided and Reusable, No Need Lint Roller Refill.']\n"
     ]
    },
    {
     "name": "stderr",
     "output_type": "stream",
     "text": [
      "Batches: 100%|██████████| 1/1 [00:00<00:00, 15.77it/s]"
     ]
    },
    {
     "name": "stdout",
     "output_type": "stream",
     "text": [
      "Candidate: Quilting books — [{'room': 'Main', 'container': 'Fabrics', 'specific': None}]\n",
      "Candidate: Chip Brushes — [{'room': 'Main', 'container': 'cabinet 4 shelf 12', 'specific': None}]\n",
      "Candidate: Palette Knives — [{'room': 'Main', 'container': 'Cabinet 4', 'specific': 'Shelf 14'}, {'room': 'Cage', 'container': '5c', 'specific': 'Stack 15|-3'}]\n",
      "Candidate: Spray Bottles — [{'room': 'Cage', 'container': '8e', 'specific': ''}]\n",
      "Candidate: Old PCs — [{'room': 'The Crypt', 'container': '2e, 3d, 3e', 'specific': ''}]\n"
     ]
    },
    {
     "name": "stderr",
     "output_type": "stream",
     "text": [
      "\n"
     ]
    },
    {
     "name": "stdout",
     "output_type": "stream",
     "text": [
      "LLM returns: \n",
      "  \n",
      " Fabric\n",
      "\n",
      " *********************************************************** \n",
      " \n",
      "\n",
      " text =  lint rollers (different than lint brushes)\n",
      "\n",
      " link items =  ['Pet Hair Removal Tool - Reusable Lint Roller for Pet Hair Remover for Clothing, Furniture, Carpet, Multil Surface Fur Removal Tool']\n"
     ]
    },
    {
     "name": "stderr",
     "output_type": "stream",
     "text": [
      "Batches: 100%|██████████| 1/1 [00:00<00:00,  6.07it/s]"
     ]
    },
    {
     "name": "stdout",
     "output_type": "stream",
     "text": [
      "Candidate: Quilting books — [{'room': 'Main', 'container': 'Fabrics', 'specific': None}]\n",
      "Candidate: Palette Knives — [{'room': 'Main', 'container': 'Cabinet 4', 'specific': 'Shelf 14'}, {'room': 'Cage', 'container': '5c', 'specific': 'Stack 15|-3'}]\n",
      "Candidate: Hemmer Foot Set — [{'room': 'Main', 'container': 'Pegboard 1', 'specific': 'K5'}]\n",
      "Candidate: Sewing Machine Covers — [{'room': 'Cage', 'container': '3b', 'specific': ''}]\n",
      "Candidate: Form Old Resin Cartridge (<50ml left) — [{'room': 'Laser3D', 'container': 'Cabinet 3', 'specific': ''}]\n"
     ]
    },
    {
     "name": "stderr",
     "output_type": "stream",
     "text": [
      "\n"
     ]
    },
    {
     "name": "stdout",
     "output_type": "stream",
     "text": [
      "LLM returns: \n",
      "  \n",
      " Cabinet 5\n",
      "\n",
      " *********************************************************** \n",
      " \n",
      "\n",
      " text =  pliers\n",
      "\n",
      " link items =  ['3 Pcs Jewelry Pliers Set - Needle Nose, Round Nose and Wire Cutters for Jewelry Making, Repair and Crafts，Wire Wrapping Beading Crafts Pliers']\n"
     ]
    },
    {
     "name": "stderr",
     "output_type": "stream",
     "text": [
      "Batches: 100%|██████████| 1/1 [00:00<00:00, 10.68it/s]"
     ]
    },
    {
     "name": "stdout",
     "output_type": "stream",
     "text": [
      "Candidate: Toothpicks — [{'room': 'Main', 'container': 'Cabinet 2', 'specific': 'Shelf 9'}, {'room': 'Cage', 'container': '5c', 'specific': 'Stack 17|-3'}]\n",
      "Candidate: Round Nose Pliers — [{'room': 'Main', 'container': 'Cabinet 3', 'specific': 'Shelf 3'}, {'room': 'Cage', 'container': '5c', 'specific': 'Stack 12|0'}]\n",
      "Candidate: honing guide — [{'room': 'Cage', 'container': 'Cabinet 9', 'specific': 'Shelf 3'}]\n",
      "Candidate: Glossy Mod Podge — [{'room': 'Main', 'container': 'Cabinet 5', 'specific': 'Shelf 1'}, {'room': 'Cage', 'container': '5e', 'specific': '|-3'}]\n",
      "Candidate: Cricut Replacement Blades — [{'room': 'Cage', 'container': '1d', 'specific': ''}]\n"
     ]
    },
    {
     "name": "stderr",
     "output_type": "stream",
     "text": [
      "\n"
     ]
    },
    {
     "name": "stdout",
     "output_type": "stream",
     "text": [
      "LLM returns: \n",
      " Round Nose Pliers \n",
      " Cabinet 3\n",
      "\n",
      " *********************************************************** \n",
      " \n",
      "\n",
      " text =  more pliers\n",
      "\n",
      " link items =  ['BOOSDEN 5\" Small Needle Nose Pliers, Mini Needle Nose Pliers, Micro Needle Nose Pliers-5 Pack']\n"
     ]
    },
    {
     "name": "stderr",
     "output_type": "stream",
     "text": [
      "Batches: 100%|██████████| 1/1 [00:00<00:00,  5.39it/s]"
     ]
    },
    {
     "name": "stdout",
     "output_type": "stream",
     "text": [
      "Candidate: Round Nose Pliers — [{'room': 'Main', 'container': 'Cabinet 3', 'specific': 'Shelf 3'}, {'room': 'Cage', 'container': '5c', 'specific': 'Stack 12|0'}]\n",
      "Candidate: Glossy Mod Podge — [{'room': 'Main', 'container': 'Cabinet 5', 'specific': 'Shelf 1'}, {'room': 'Cage', 'container': '5e', 'specific': '|-3'}]\n",
      "Candidate: Nut Drivers — [{'room': 'Main', 'container': 'Cabinet 11', 'specific': 'Shelf 6'}]\n",
      "Candidate: Tiny Thread — [{'room': 'Main', 'container': 'Pegboard 1', 'specific': 'C8'}, {'room': 'Cage', 'container': '5e', 'specific': 'Pegboard Bins|-2'}]\n",
      "Candidate: Curtain Rings — [{'room': 'Main', 'container': 'Pegboard 1', 'specific': 'C5'}, {'room': 'Cage', 'container': '5e', 'specific': 'Pegboard Bins|-3'}]\n"
     ]
    },
    {
     "name": "stderr",
     "output_type": "stream",
     "text": [
      "\n"
     ]
    },
    {
     "name": "stdout",
     "output_type": "stream",
     "text": [
      "LLM returns: \n",
      " Nut Drivers \n",
      " Cabinet 11\n",
      "\n",
      " *********************************************************** \n",
      " \n",
      "\n",
      " text =  tweezers\n",
      "\n",
      " link items =  ['YHYZ 3PCS Precision Tweezers Set, Upgraded Anti-Static Stainless Steel Precise Tweezers (Fine, Curved, Flat), Perfect for Craft, Electronic, Soldering, Model, Hobby, Jewelry Making, Laboratory']\n"
     ]
    },
    {
     "name": "stderr",
     "output_type": "stream",
     "text": [
      "Batches: 100%|██████████| 1/1 [00:00<00:00, 15.37it/s]"
     ]
    },
    {
     "name": "stdout",
     "output_type": "stream",
     "text": [
      "Candidate: Couplers for Air Supply — [{'room': 'Other', 'container': '', 'specific': None}]\n",
      "Candidate: Rotary Cutters — [{'room': 'Main', 'container': 'Cabinet 1', 'specific': 'Shelf 2'}, {'room': 'Cage', 'container': '5c', 'specific': 'Stack 6|5'}]\n",
      "Candidate: Velcro — [{'room': 'Main', 'container': 'Cabinet 1', 'specific': 'Shelf 17'}, {'room': 'Cage', 'container': '5d', 'specific': 'Stack 6|-3'}]\n",
      "Candidate: Fabric Pen Refills — [{'room': 'Main', 'container': 'Pegboard 1', 'specific': 'I1'}]\n",
      "Candidate: Large Hot Glue Sticks — [{'room': 'Cage', 'container': '5d', 'specific': 'Stack 4|-3'}]\n"
     ]
    },
    {
     "name": "stderr",
     "output_type": "stream",
     "text": [
      "\n"
     ]
    },
    {
     "name": "stdout",
     "output_type": "stream",
     "text": [
      "LLM returns: \n",
      "  \n",
      " Cabinet 11\n",
      "\n",
      " *********************************************************** \n",
      " \n",
      "\n",
      " text =  plain jewelry wire\n",
      "\n",
      " link items =  ['Beadalon 7 Strand Stainless Steel Bead Stringing Wire, 0.010 in / 0.25 mm, Bright, 30 ft / 9.2 m']\n"
     ]
    },
    {
     "name": "stderr",
     "output_type": "stream",
     "text": [
      "Batches: 100%|██████████| 1/1 [00:00<00:00,  6.26it/s]"
     ]
    },
    {
     "name": "stdout",
     "output_type": "stream",
     "text": [
      "Candidate: Plastic Jewelry Cord — [{'room': 'Main', 'container': 'Cabinet 3', 'specific': 'Shelf 4'}, {'room': 'Cage', 'container': '5c', 'specific': 'Stack 27|-2'}]\n",
      "Candidate: Toothpicks — [{'room': 'Main', 'container': 'Cabinet 2', 'specific': 'Shelf 9'}, {'room': 'Cage', 'container': '5c', 'specific': 'Stack 17|-3'}]\n",
      "Candidate: Thick Black Elastic Band — [{'room': 'Main', 'container': 'Cabinet 1', 'specific': 'Shelf 13'}, {'room': 'Cage', 'container': '5c', 'specific': 'Stack 26|-3'}]\n",
      "Candidate: USB to XLR Female Cable, 10' — [{'room': 'Studio', 'container': 'Studio 2', 'specific': 'Shelf 8'}]\n",
      "Candidate: 6.35 mm Male to 6.35 mm Male Cable, 10' — [{'room': 'Studio', 'container': 'Sound Booth', 'specific': None}]\n"
     ]
    },
    {
     "name": "stderr",
     "output_type": "stream",
     "text": [
      "\n"
     ]
    },
    {
     "name": "stdout",
     "output_type": "stream",
     "text": [
      "LLM returns: \n",
      " Plastic Jewelry Cord \n",
      " Cabinet 3\n",
      "\n",
      " *********************************************************** \n",
      " \n",
      "\n",
      " text =  elastic jewelry string\n",
      "\n",
      " link items =  ['Elastic String for Bracelets Making - Cuttte 2 Rolls 1.2MM Bracelet String Elastic Total 109 Yards, Sturdy Stretchy Cord for Jewelry Making, Necklaces (Black and White)']\n"
     ]
    },
    {
     "name": "stderr",
     "output_type": "stream",
     "text": [
      "Batches: 100%|██████████| 1/1 [00:00<00:00,  9.34it/s]"
     ]
    },
    {
     "name": "stdout",
     "output_type": "stream",
     "text": [
      "Candidate: Bead Stringing Wire — [{'room': 'Main', 'container': 'Cabinet 3', 'specific': 'Shelf 4'}, {'room': 'Cage', 'container': '5c', 'specific': 'Stack 27|-3'}]\n",
      "Candidate: Earring Studs — [{'room': 'Main', 'container': 'Cabinet 3', 'specific': 'Shelf 6'}, {'room': 'Cage', 'container': '5d', 'specific': 'Stack 2|-3'}]\n",
      "Candidate: Earring Hooks — [{'room': 'Main', 'container': 'Cabinet 3', 'specific': 'Shelf 6'}, {'room': 'Cage', 'container': '5d', 'specific': 'Stack 2|-3'}]\n",
      "Candidate: Elastic String — [{'room': 'Main', 'container': 'Cabinet 3', 'specific': 'Shelf 4'}, {'room': 'Cage', 'container': '5c', 'specific': 'Stack 27|-3'}]\n",
      "Candidate: Plastic Lacing Cord — [{'room': 'Main', 'container': 'Cabinet 3', 'specific': 'Shelf 7'}, {'room': 'Cage', 'container': '5c', 'specific': 'Stack 21|-3'}]\n"
     ]
    },
    {
     "name": "stderr",
     "output_type": "stream",
     "text": [
      "\n"
     ]
    },
    {
     "name": "stdout",
     "output_type": "stream",
     "text": [
      "LLM returns: \n",
      " Elastic String \n",
      " Cabinet 3\n",
      "\n",
      " *********************************************************** \n",
      " \n",
      "\n",
      " text =  twine\n",
      "\n",
      " link items =  ['PerkHomy Cotton Butchers Twine String 500 Feet 2mm Twine for Cooking Food Safe Crafts Bakers Kitchen Butcher Meat Turkey Sausage Roasting Gift Wrapping Gardening Crocheting Knitting']\n"
     ]
    },
    {
     "name": "stderr",
     "output_type": "stream",
     "text": [
      "Batches: 100%|██████████| 1/1 [00:00<00:00, 11.37it/s]"
     ]
    },
    {
     "name": "stdout",
     "output_type": "stream",
     "text": [
      "Candidate: Spool Pins — [{'room': 'Main', 'container': 'Pegboard 1', 'specific': 'D5'}]\n",
      "Candidate: Ratchet Kit — [{'room': 'Cage', 'container': '2b', 'specific': None}]\n",
      "Candidate: Watercolor Paper — [{'room': 'Main', 'container': 'Cabinet 7', 'specific': ''}]\n",
      "Candidate: Black Cotton Thread — [{'room': 'Cage', 'container': '5c', 'specific': 'Stack 1|-3'}]\n",
      "Candidate: Bias tape — [{'room': 'Main', 'container': 'Cabinet 1', 'specific': 'Shelf 13'}]\n"
     ]
    },
    {
     "name": "stderr",
     "output_type": "stream",
     "text": [
      "\n"
     ]
    },
    {
     "name": "stdout",
     "output_type": "stream",
     "text": [
      "LLM returns: \n",
      " Spool Pins \n",
      " Pegboard 1\n",
      "\n",
      " *********************************************************** \n",
      " \n",
      "\n",
      " text =  assorted jewelry chain\n",
      "\n",
      " link items =  ['Jishi Chains Jewelry Making Supplies, 60ft Cable Link Chains for Making Jewelry Necklace Earring Bracelet Findings DIY Craft Kit for Adults, 6-Color 2mm Gold Silver Copper Plated Metal Link Rolls Bulk']\n"
     ]
    },
    {
     "name": "stderr",
     "output_type": "stream",
     "text": [
      "Batches: 100%|██████████| 1/1 [00:00<00:00, 13.26it/s]"
     ]
    },
    {
     "name": "stdout",
     "output_type": "stream",
     "text": [
      "Candidate: Safety Pins — [{'room': 'Main', 'container': 'Cabinet 3', 'specific': 'Shelf 20'}, {'room': 'Main', 'container': 'Pegboard 1', 'specific': 'C4|-3'}, {'room': 'Cage', 'container': '5c', 'specific': 'Stack 18|-3'}]\n",
      "Candidate: Toothpicks — [{'room': 'Main', 'container': 'Cabinet 2', 'specific': 'Shelf 9'}, {'room': 'Cage', 'container': '5c', 'specific': 'Stack 17|-3'}]\n",
      "Candidate: Small Embroidery Hoops — [{'room': 'Main', 'container': 'Cabinet 1', 'specific': 'Shelf 7'}, {'room': 'Cage', 'container': '5d', 'specific': 'Stack 8|-3'}]\n",
      "Candidate: Thick Black Elastic Band — [{'room': 'Main', 'container': 'Cabinet 1', 'specific': 'Shelf 13'}, {'room': 'Cage', 'container': '5c', 'specific': 'Stack 26|-3'}]\n",
      "Candidate: honing guide — [{'room': 'Cage', 'container': 'Cabinet 9', 'specific': 'Shelf 3'}]\n"
     ]
    },
    {
     "name": "stderr",
     "output_type": "stream",
     "text": [
      "\n"
     ]
    },
    {
     "name": "stdout",
     "output_type": "stream",
     "text": [
      "LLM returns: \n",
      " Safety Pins \n",
      " Cabinet 3\n",
      "\n",
      " *********************************************************** \n",
      " \n",
      "\n",
      " text =  silver jewelry chain\n",
      "\n",
      " link items =  ['Necklace Chains for Jewelry Making, 78.7 Feet 10 Rolls Stainless Steel Jewelry Chains for DIY Necklace Bracelet Jewelry Making with Stainless Steel Jump Rings/Lobster Clasps/Connectors']\n"
     ]
    },
    {
     "name": "stderr",
     "output_type": "stream",
     "text": [
      "Batches: 100%|██████████| 1/1 [00:00<00:00,  4.65it/s]\n"
     ]
    },
    {
     "name": "stdout",
     "output_type": "stream",
     "text": [
      "Candidate: Safety Pins — [{'room': 'Main', 'container': 'Cabinet 3', 'specific': 'Shelf 20'}, {'room': 'Main', 'container': 'Pegboard 1', 'specific': 'C4|-3'}, {'room': 'Cage', 'container': '5c', 'specific': 'Stack 18|-3'}]\n",
      "Candidate: Toothpicks — [{'room': 'Main', 'container': 'Cabinet 2', 'specific': 'Shelf 9'}, {'room': 'Cage', 'container': '5c', 'specific': 'Stack 17|-3'}]\n",
      "Candidate: Small Embroidery Hoops — [{'room': 'Main', 'container': 'Cabinet 1', 'specific': 'Shelf 7'}, {'room': 'Cage', 'container': '5d', 'specific': 'Stack 8|-3'}]\n",
      "Candidate: Assorted Metal Jewelry Chain — [{'room': 'Main', 'container': 'Cabinet 3', 'specific': 'Shelf 5'}, {'room': 'Cage', 'container': '5d', 'specific': 'Stack 2|-2'}]\n",
      "Candidate: Ratchet Kit — [{'room': 'Cage', 'container': '2b', 'specific': None}]\n",
      "LLM returns: \n",
      " Assorted Metal Jewelry Chain \n",
      " Cabinet 3\n",
      "\n",
      " *********************************************************** \n",
      " \n",
      "\n",
      " text =  earring hooks\n",
      "\n",
      " link items =  ['TOAOB 150pcs 5 Colors Earring Hooks Kit Hypoallergenic Ear Wires and 1000pcs Jump Rings 200pcs Earring Backs for Earrings Making Jewelry Making Findings']\n"
     ]
    },
    {
     "name": "stderr",
     "output_type": "stream",
     "text": [
      "Batches: 100%|██████████| 1/1 [00:00<00:00,  8.74it/s]"
     ]
    },
    {
     "name": "stdout",
     "output_type": "stream",
     "text": [
      "Candidate: Thin White Elastic Band — [{'room': 'Main', 'container': 'Cabinet 1', 'specific': 'Shelf 13'}, {'room': 'Cage', 'container': '5c', 'specific': 'Stack 26|-3'}]\n",
      "Candidate: Thin Black Elastic Band — [{'room': 'Main', 'container': 'Cabinet 1', 'specific': 'Shelf 13'}, {'room': 'Cage', 'container': '5c', 'specific': 'Stack 26|-3'}]\n",
      "Candidate: honing guide — [{'room': 'Cage', 'container': 'Cabinet 9', 'specific': 'Shelf 3'}]\n",
      "Candidate: Toothpicks — [{'room': 'Main', 'container': 'Cabinet 2', 'specific': 'Shelf 9'}, {'room': 'Cage', 'container': '5c', 'specific': 'Stack 17|-3'}]\n",
      "Candidate: Nitrile Gloves, Large — [{'room': 'Cage', 'container': '8e', 'specific': None}]\n"
     ]
    },
    {
     "name": "stderr",
     "output_type": "stream",
     "text": [
      "\n"
     ]
    },
    {
     "name": "stdout",
     "output_type": "stream",
     "text": [
      "LLM returns: \n",
      "  \n",
      " Cabinet 3\n",
      "\n",
      " *********************************************************** \n",
      " \n",
      "\n",
      " text =  earring studs\n",
      "\n",
      " link items =  ['450PCS Earring Posts Stainless Steel Flat Pad,Hypoallergenic Stud Earrings with Butterfly and Rubber Bullet Earring Backs for Jewelry DIY Making Findings (Silver) (Silver)']\n"
     ]
    },
    {
     "name": "stderr",
     "output_type": "stream",
     "text": [
      "Batches: 100%|██████████| 1/1 [00:00<00:00, 19.48it/s]"
     ]
    },
    {
     "name": "stdout",
     "output_type": "stream",
     "text": [
      "Candidate: Thin Black Elastic Band — [{'room': 'Main', 'container': 'Cabinet 1', 'specific': 'Shelf 13'}, {'room': 'Cage', 'container': '5c', 'specific': 'Stack 26|-3'}]\n",
      "Candidate: Thin White Elastic Band — [{'room': 'Main', 'container': 'Cabinet 1', 'specific': 'Shelf 13'}, {'room': 'Cage', 'container': '5c', 'specific': 'Stack 26|-3'}]\n",
      "Candidate: Small Embroidery Hoops — [{'room': 'Main', 'container': 'Cabinet 1', 'specific': 'Shelf 7'}, {'room': 'Cage', 'container': '5d', 'specific': 'Stack 8|-3'}]\n",
      "Candidate: Safety Pins — [{'room': 'Main', 'container': 'Cabinet 3', 'specific': 'Shelf 20'}, {'room': 'Main', 'container': 'Pegboard 1', 'specific': 'C4|-3'}, {'room': 'Cage', 'container': '5c', 'specific': 'Stack 18|-3'}]\n",
      "Candidate: Colored Sharpies — [{'room': 'Main', 'container': 'Cabinet 4', 'specific': 'Shelf 1'}, {'room': 'Cage', 'container': '5c', 'specific': 'Stack 10|-3'}]\n"
     ]
    },
    {
     "name": "stderr",
     "output_type": "stream",
     "text": [
      "\n"
     ]
    },
    {
     "name": "stdout",
     "output_type": "stream",
     "text": [
      "LLM returns: \n",
      " Safety Pins \n",
      " Cabinet 3\n",
      "\n",
      " *********************************************************** \n",
      " \n",
      "\n",
      " text =  craft wire\n",
      "\n",
      " link items =  ['EuTengHao 10 Colors Jewelry Copper Wire Craft Jewelry Beading Wire for Bracelet Necklaces Earring Jewelry Making Supplies (110 Yards, 26 Gauge)']\n"
     ]
    },
    {
     "name": "stderr",
     "output_type": "stream",
     "text": [
      "Batches: 100%|██████████| 1/1 [00:00<00:00,  5.63it/s]"
     ]
    },
    {
     "name": "stdout",
     "output_type": "stream",
     "text": [
      "Candidate: Toothpicks — [{'room': 'Main', 'container': 'Cabinet 2', 'specific': 'Shelf 9'}, {'room': 'Cage', 'container': '5c', 'specific': 'Stack 17|-3'}]\n",
      "Candidate: Plastic Jewelry Cord — [{'room': 'Main', 'container': 'Cabinet 3', 'specific': 'Shelf 4'}, {'room': 'Cage', 'container': '5c', 'specific': 'Stack 27|-2'}]\n",
      "Candidate: Thick Black Elastic Band — [{'room': 'Main', 'container': 'Cabinet 1', 'specific': 'Shelf 13'}, {'room': 'Cage', 'container': '5c', 'specific': 'Stack 26|-3'}]\n",
      "Candidate: Safety Pins — [{'room': 'Main', 'container': 'Cabinet 3', 'specific': 'Shelf 20'}, {'room': 'Main', 'container': 'Pegboard 1', 'specific': 'C4|-3'}, {'room': 'Cage', 'container': '5c', 'specific': 'Stack 18|-3'}]\n",
      "Candidate: honing guide — [{'room': 'Cage', 'container': 'Cabinet 9', 'specific': 'Shelf 3'}]\n"
     ]
    },
    {
     "name": "stderr",
     "output_type": "stream",
     "text": [
      "\n"
     ]
    },
    {
     "name": "stdout",
     "output_type": "stream",
     "text": [
      "LLM returns: \n",
      " Plastic Jewelry Cord \n",
      " Cabinet 3\n",
      "\n",
      " *********************************************************** \n",
      " \n",
      "\n",
      " text =  metal charms\n",
      "\n",
      " link items =  ['Retro Pendant Charms, Pendants Bulk Craft Charms Accessories for Jewelry Craft Bracelet Necklace Earring']\n"
     ]
    },
    {
     "name": "stderr",
     "output_type": "stream",
     "text": [
      "Batches: 100%|██████████| 1/1 [00:00<00:00,  7.28it/s]"
     ]
    },
    {
     "name": "stdout",
     "output_type": "stream",
     "text": [
      "Candidate: Fold Over Elastic — [{'room': 'Main', 'container': 'Cabinet 1', 'specific': 'Shelf 13'}, {'room': 'Cage', 'container': '5c', 'specific': 'Stack 26|-3'}]\n",
      "Candidate: Pony Beads — [{'room': 'Main', 'container': 'Cabinet 3', 'specific': 'Shelf 13'}, {'room': 'Cage', 'container': '5e', 'specific': '|4'}]\n",
      "Candidate: Toothpicks — [{'room': 'Main', 'container': 'Cabinet 2', 'specific': 'Shelf 9'}, {'room': 'Cage', 'container': '5c', 'specific': 'Stack 17|-3'}]\n",
      "Candidate: Small Embroidery Hoops — [{'room': 'Main', 'container': 'Cabinet 1', 'specific': 'Shelf 7'}, {'room': 'Cage', 'container': '5d', 'specific': 'Stack 8|-3'}]\n",
      "Candidate: Assorted Metal Jewelry Chain — [{'room': 'Main', 'container': 'Cabinet 3', 'specific': 'Shelf 5'}, {'room': 'Cage', 'container': '5d', 'specific': 'Stack 2|-2'}]\n"
     ]
    },
    {
     "name": "stderr",
     "output_type": "stream",
     "text": [
      "\n"
     ]
    },
    {
     "name": "stdout",
     "output_type": "stream",
     "text": [
      "LLM returns: \n",
      " Assorted Metal Jewelry Chain \n",
      " Cabinet 3\n",
      "\n",
      " *********************************************************** \n",
      " \n",
      "\n",
      " text =  jewelry clasps\n",
      "\n",
      " link items =  ['WSICSE 1644 Pcs Jewelry Making Kit, Crimp Beads, Covers, Tubes, Wire Guardians, Lobster Clasps, Jump Rings, Modern Style, Alloy Steel, Lightweight, Adult, Female, All Seasons']\n"
     ]
    },
    {
     "name": "stderr",
     "output_type": "stream",
     "text": [
      "Batches: 100%|██████████| 1/1 [00:00<00:00,  8.89it/s]"
     ]
    },
    {
     "name": "stdout",
     "output_type": "stream",
     "text": [
      "Candidate: Pony Beads — [{'room': 'Main', 'container': 'Cabinet 3', 'specific': 'Shelf 13'}, {'room': 'Cage', 'container': '5e', 'specific': '|4'}]\n",
      "Candidate: honing guide — [{'room': 'Cage', 'container': 'Cabinet 9', 'specific': 'Shelf 3'}]\n",
      "Candidate: Safety Pins — [{'room': 'Main', 'container': 'Cabinet 3', 'specific': 'Shelf 20'}, {'room': 'Main', 'container': 'Pegboard 1', 'specific': 'C4|-3'}, {'room': 'Cage', 'container': '5c', 'specific': 'Stack 18|-3'}]\n",
      "Candidate: Assorted Metal Jewelry Chain — [{'room': 'Main', 'container': 'Cabinet 3', 'specific': 'Shelf 5'}, {'room': 'Cage', 'container': '5d', 'specific': 'Stack 2|-2'}]\n",
      "Candidate: Circular Knitting Needles — [{'room': 'Main', 'container': 'Cabinet 1', 'specific': 'Shelf 4'}, {'room': 'Cage', 'container': '5c', 'specific': 'Stack 24|-3'}]\n"
     ]
    },
    {
     "name": "stderr",
     "output_type": "stream",
     "text": [
      "\n"
     ]
    },
    {
     "name": "stdout",
     "output_type": "stream",
     "text": [
      "LLM returns: \n",
      " Assorted Metal Jewelry Chain \n",
      " Cabinet 3\n",
      "\n",
      " *********************************************************** \n",
      " \n",
      "\n",
      " text =  eyelets\n",
      "\n",
      " link items =  ['PH PandaHall 560pcs 8 Styles 304 Stainless Steel Eye Pins 30mm 40mm 50mm Head Pins 22 Gauge Ball Head Pin Findings Open Eye Pin for Earring Bracelet Pendant Jewelry Making, Stainless Steel Color']\n"
     ]
    },
    {
     "name": "stderr",
     "output_type": "stream",
     "text": [
      "Batches: 100%|██████████| 1/1 [00:00<00:00,  6.33it/s]"
     ]
    },
    {
     "name": "stdout",
     "output_type": "stream",
     "text": [
      "Candidate: Plastic Clips — [{'room': 'Main', 'container': 'Pegboard 1', 'specific': 'B7'}, {'room': 'Cage', 'container': '5e', 'specific': 'Pegboard Bins|-3'}]\n",
      "Candidate: Cotton Swabs/Q-Tips — [{'room': 'Main', 'container': 'Cabinet 2', 'specific': 'Shelf 12'}, {'room': 'Cage', 'container': '5c', 'specific': 'Stack 15|-3'}]\n",
      "Candidate: Rubber Bands — [{'room': 'Main', 'container': 'Cabinet 3', 'specific': 'Shelf 19'}, {'room': 'Cage', 'container': '5d', 'specific': 'Stack 15|-3'}]\n",
      "Candidate: Velcro — [{'room': 'Main', 'container': 'Cabinet 1', 'specific': 'Shelf 17'}, {'room': 'Cage', 'container': '5d', 'specific': 'Stack 6|-3'}]\n",
      "Candidate: Darning Plate — [{'room': 'Main', 'container': 'Pegboard 1', 'specific': 'K3'}]\n"
     ]
    },
    {
     "name": "stderr",
     "output_type": "stream",
     "text": [
      "\n"
     ]
    },
    {
     "name": "stdout",
     "output_type": "stream",
     "text": [
      "LLM returns: \n",
      " Rubber Bands \n",
      " Cabinet 3\n",
      "\n",
      " *********************************************************** \n",
      " \n",
      "\n",
      " text =  jump rings\n",
      "\n",
      " link items =  ['2840 Pieces Jump Rings for Jewelry Making, Shynek Open Jump Rings for Jewelry Making Supplies, Crafts and Keychains(4mm 5mm 6mm 7mm 8mm 10mm)']\n"
     ]
    },
    {
     "name": "stderr",
     "output_type": "stream",
     "text": [
      "Batches: 100%|██████████| 1/1 [00:00<00:00, 10.11it/s]"
     ]
    },
    {
     "name": "stdout",
     "output_type": "stream",
     "text": [
      "Candidate: Microphone Stand, Cowboy Studio (w/ Boom Arm) — [{'room': 'Studio', 'container': 'Next to A', 'specific': None}]\n",
      "Candidate: Ink Pads — [{'room': 'Main', 'container': 'Cabinet 4', 'specific': 'Shelf 17'}, {'room': 'Cage', 'container': '5c', 'specific': 'Stack 20|-3'}]\n",
      "Candidate: Rotating 4\" x 4\" Filter Tray — [{'room': 'Studio', 'container': 'Studio 5', 'specific': 'Shelf 1'}]\n",
      "Candidate: Ratchet Kit — [{'room': 'Cage', 'container': '2b', 'specific': None}]\n",
      "Candidate: Safety Pins — [{'room': 'Main', 'container': 'Cabinet 3', 'specific': 'Shelf 20'}, {'room': 'Main', 'container': 'Pegboard 1', 'specific': 'C4|-3'}, {'room': 'Cage', 'container': '5c', 'specific': 'Stack 18|-3'}]\n"
     ]
    },
    {
     "name": "stderr",
     "output_type": "stream",
     "text": [
      "\n"
     ]
    },
    {
     "name": "stdout",
     "output_type": "stream",
     "text": [
      "LLM returns: \n",
      " Safety Pins \n",
      " Cabinet 3\n",
      "\n",
      " *********************************************************** \n",
      " \n",
      "\n",
      " text =  seed beads\n",
      "\n",
      " link items =  ['YITOHOP 18800+ pcs 3mm 8/0 48 Colors Glass Seed Beads,Waist Beads Kit,Small Beads Jewelry Making Kits for Girl Age 4 to 9 Year Old Gift DIY Bracelet Necklaces']\n"
     ]
    },
    {
     "name": "stderr",
     "output_type": "stream",
     "text": [
      "Batches: 100%|██████████| 1/1 [00:00<00:00,  9.43it/s]"
     ]
    },
    {
     "name": "stdout",
     "output_type": "stream",
     "text": [
      "Candidate: Pony Beads — [{'room': 'Main', 'container': 'Cabinet 3', 'specific': 'Shelf 13'}, {'room': 'Cage', 'container': '5e', 'specific': '|4'}]\n",
      "Candidate: Circular Knitting Needles — [{'room': 'Main', 'container': 'Cabinet 1', 'specific': 'Shelf 4'}, {'room': 'Cage', 'container': '5c', 'specific': 'Stack 24|-3'}]\n",
      "Candidate: honing guide — [{'room': 'Cage', 'container': 'Cabinet 9', 'specific': 'Shelf 3'}]\n",
      "Candidate: Metal Charms — [{'room': 'Main', 'container': 'Cabinet 3', 'specific': 'Shelf 6'}, {'room': 'Cage', 'container': '5c', 'specific': 'Stack 4|-3'}]\n",
      "Candidate: Seed Beads — [{'room': 'Main', 'container': 'Cabinet 3', 'specific': 'Shelf 10'}, {'room': 'Cage', 'container': '5d', 'specific': 'Stack 8|-3'}]\n"
     ]
    },
    {
     "name": "stderr",
     "output_type": "stream",
     "text": [
      "\n"
     ]
    },
    {
     "name": "stdout",
     "output_type": "stream",
     "text": [
      "LLM returns: \n",
      " Seed Beads \n",
      " Cabinet 3\n",
      "\n",
      " *********************************************************** \n",
      " \n",
      "\n",
      " text =  alphabet beads\n",
      "\n",
      " link items =  ['ARTDOT 1400 PCS Letter Beads for Jewelry Making Kit, 28 Styles Alphabet Beads for Friendship Bracelets Assorted Preppy Beads with Storage Case']\n"
     ]
    },
    {
     "name": "stderr",
     "output_type": "stream",
     "text": [
      "Batches: 100%|██████████| 1/1 [00:00<00:00, 13.24it/s]"
     ]
    },
    {
     "name": "stdout",
     "output_type": "stream",
     "text": [
      "Candidate: Seed Beads — [{'room': 'Main', 'container': 'Cabinet 3', 'specific': 'Shelf 10'}, {'room': 'Cage', 'container': '5d', 'specific': 'Stack 8|-3'}]\n",
      "Candidate: Pony Beads — [{'room': 'Main', 'container': 'Cabinet 3', 'specific': 'Shelf 13'}, {'room': 'Cage', 'container': '5e', 'specific': '|4'}]\n",
      "Candidate: Iron-On Patches — [{'room': 'Main', 'container': 'Cabinet 1', 'specific': 'Shelf 14'}]\n",
      "Candidate: Mixed Beads — [{'room': 'Main', 'container': 'Cabinet 3', 'specific': 'Shelf 12'}]\n",
      "Candidate: honing guide — [{'room': 'Cage', 'container': 'Cabinet 9', 'specific': 'Shelf 3'}]\n"
     ]
    },
    {
     "name": "stderr",
     "output_type": "stream",
     "text": [
      "\n"
     ]
    },
    {
     "name": "stdout",
     "output_type": "stream",
     "text": [
      "LLM returns: \n",
      " Pony Beads \n",
      " Cabinet 3\n",
      "\n",
      " *********************************************************** \n",
      " \n",
      "\n",
      " text =  pony beads\n",
      "\n",
      " link items =  ['Quefe 2880pcs Pony Beads Kit, Kandi Beads for Hair, Rainbow Beads Plastic Bead for Craft 6 x 9mm 24 Colors 4 Styles Large Hole Beads Set for Bracelets Jewelry Making']\n"
     ]
    },
    {
     "name": "stderr",
     "output_type": "stream",
     "text": [
      "Batches: 100%|██████████| 1/1 [00:00<00:00, 13.29it/s]"
     ]
    },
    {
     "name": "stdout",
     "output_type": "stream",
     "text": [
      "Candidate: Pony Beads — [{'room': 'Main', 'container': 'Cabinet 3', 'specific': 'Shelf 13'}, {'room': 'Cage', 'container': '5e', 'specific': '|4'}]\n",
      "Candidate: Mixed Beads — [{'room': 'Main', 'container': 'Cabinet 3', 'specific': 'Shelf 12'}]\n",
      "Candidate: Seed Beads — [{'room': 'Main', 'container': 'Cabinet 3', 'specific': 'Shelf 10'}, {'room': 'Cage', 'container': '5d', 'specific': 'Stack 8|-3'}]\n",
      "Candidate: Iron-On Patches — [{'room': 'Main', 'container': 'Cabinet 1', 'specific': 'Shelf 14'}]\n",
      "Candidate: Circular Knitting Needles — [{'room': 'Main', 'container': 'Cabinet 1', 'specific': 'Shelf 4'}, {'room': 'Cage', 'container': '5c', 'specific': 'Stack 24|-3'}]\n"
     ]
    },
    {
     "name": "stderr",
     "output_type": "stream",
     "text": [
      "\n"
     ]
    },
    {
     "name": "stdout",
     "output_type": "stream",
     "text": [
      "LLM returns: \n",
      " Pony Beads \n",
      " Cabinet 3\n",
      "\n",
      " *********************************************************** \n",
      " \n",
      "\n",
      " text =  mosiac tiles\n",
      "\n",
      " link items =  ['500g Glue Down Irregular Tiny Mosaic Tile Hobbies Children Handmade Crystal Craft for Bathroom Kitchen Home Decoration DIY Art Projects,0.4X0.4 Inch(Mixed Color Series)']\n"
     ]
    },
    {
     "name": "stderr",
     "output_type": "stream",
     "text": [
      "Batches: 100%|██████████| 1/1 [00:00<00:00, 13.80it/s]"
     ]
    },
    {
     "name": "stdout",
     "output_type": "stream",
     "text": [
      "Candidate: Gaff Tape — [{'room': 'Studio', 'container': 'A2', 'specific': None}, {'room': 'Outdoor Storage', 'container': '', 'specific': '|3'}]\n",
      "Candidate: Wood Glue — [{'room': 'Main', 'container': 'Cabinet 5', 'specific': 'Shelf 1'}]\n",
      "Candidate: Tacky Glue — [{'room': 'Main', 'container': 'Cabinet 5', 'specific': 'Shelf 1'}, {'room': 'Cage', 'container': '5d', 'specific': 'Stack 4|1'}]\n",
      "Candidate: Nuts and Bolts — [{'room': 'Main', 'container': 'Cabinet 9', 'specific': 'Shelf 9'}]\n",
      "Candidate: Circular Knitting Needles — [{'room': 'Main', 'container': 'Cabinet 1', 'specific': 'Shelf 4'}, {'room': 'Cage', 'container': '5c', 'specific': 'Stack 24|-3'}]\n"
     ]
    },
    {
     "name": "stderr",
     "output_type": "stream",
     "text": [
      "\n"
     ]
    },
    {
     "name": "stdout",
     "output_type": "stream",
     "text": [
      "LLM returns: \n",
      " Tacky Glue \n",
      " Cabinet 5\n",
      "\n",
      " *********************************************************** \n",
      " \n",
      "\n",
      " text =  rubber bands\n",
      "\n",
      " link items =  ['Amazon Basics Assorted Size and Color Rubber Bands, 0.5 lb.']\n"
     ]
    },
    {
     "name": "stderr",
     "output_type": "stream",
     "text": [
      "Batches: 100%|██████████| 1/1 [00:00<00:00,  6.17it/s]"
     ]
    },
    {
     "name": "stdout",
     "output_type": "stream",
     "text": [
      "Candidate: Miscellaneous Beads — [{'room': 'Main', 'container': 'Cabinet 3', 'specific': 'Shelf 14'}]\n",
      "Candidate: Ziploc Plastic Bags (Gallon) — [{'room': 'Main', 'container': 'Cabinet 2', 'specific': 'Shelf 2'}, {'room': 'Cage', 'container': '5b', 'specific': '|12'}, {'room': 'Cage', 'container': '8e', 'specific': '|1'}]\n",
      "Candidate: Earring Studs — [{'room': 'Main', 'container': 'Cabinet 3', 'specific': 'Shelf 6'}, {'room': 'Cage', 'container': '5d', 'specific': 'Stack 2|-3'}]\n",
      "Candidate: Plastic Lacing Cord — [{'room': 'Main', 'container': 'Cabinet 3', 'specific': 'Shelf 7'}, {'room': 'Cage', 'container': '5c', 'specific': 'Stack 21|-3'}]\n",
      "Candidate: Tracing Paper — [{'room': 'Main', 'container': 'Fabrics Area', 'specific': ''}]\n"
     ]
    },
    {
     "name": "stderr",
     "output_type": "stream",
     "text": [
      "\n"
     ]
    },
    {
     "name": "stdout",
     "output_type": "stream",
     "text": [
      "LLM returns: \n",
      " Ziploc Plastic Bags (Gallon) \n",
      " Cabinet 2\n",
      "\n",
      " *********************************************************** \n",
      " \n",
      "\n",
      " text =  mini rubber bands\n",
      "\n",
      " link items =  ['Sukh Rubber Bands']\n"
     ]
    },
    {
     "name": "stderr",
     "output_type": "stream",
     "text": [
      "Batches: 100%|██████████| 1/1 [00:00<00:00,  4.82it/s]\n"
     ]
    },
    {
     "name": "stdout",
     "output_type": "stream",
     "text": [
      "Candidate: Ziploc Plastic Bags (Gallon) — [{'room': 'Main', 'container': 'Cabinet 2', 'specific': 'Shelf 2'}, {'room': 'Cage', 'container': '5b', 'specific': '|12'}, {'room': 'Cage', 'container': '8e', 'specific': '|1'}]\n",
      "Candidate: Miscellaneous Beads — [{'room': 'Main', 'container': 'Cabinet 3', 'specific': 'Shelf 14'}]\n",
      "Candidate: Earring Hooks — [{'room': 'Main', 'container': 'Cabinet 3', 'specific': 'Shelf 6'}, {'room': 'Cage', 'container': '5d', 'specific': 'Stack 2|-3'}]\n",
      "Candidate: USB-C to USB-A Adapter — [{'room': 'Cage', 'container': '8d', 'specific': ''}]\n",
      "Candidate: Elastic String — [{'room': 'Main', 'container': 'Cabinet 3', 'specific': 'Shelf 4'}, {'room': 'Cage', 'container': '5c', 'specific': 'Stack 27|-3'}]\n",
      "LLM returns: \n",
      " Elastic String \n",
      " Cabinet 3\n",
      "\n",
      " *********************************************************** \n",
      " \n",
      "\n",
      " text =  colored paper clips\n",
      "\n",
      " link items =  ['Mr. Pen- Paper Clips, 450 Pack, Assorted Colors, Paper Clips Assorted Sizes, Back to School Supplies']\n"
     ]
    },
    {
     "name": "stderr",
     "output_type": "stream",
     "text": [
      "Batches: 100%|██████████| 1/1 [00:00<00:00, 19.92it/s]"
     ]
    },
    {
     "name": "stdout",
     "output_type": "stream",
     "text": [
      "Candidate: Jewelry Clasps and Closures — [{'room': 'Main', 'container': 'Cabinet 3', 'specific': 'Shelf 9'}, {'room': 'Cage', 'container': '5d', 'specific': 'Stack 3|-3'}]\n",
      "Candidate: Push Pins — [{'room': 'Main', 'container': 'Cabinet 3', 'specific': 'Shelf 23'}, {'room': 'Cage', 'container': '5c', 'specific': 'Stack 16|-3'}]\n",
      "Candidate: Plastic Bobbins — [{'room': 'Main', 'container': 'Pegboard 1', 'specific': 'Bottom'}, {'room': 'Cage', 'container': '5e', 'specific': 'Pegboard Bins|-3'}]\n",
      "Candidate: Laminator Sheets (Letter, 9\" x 11.5\") — [{'room': 'Cage', 'container': '1b', 'specific': None}]\n",
      "Candidate: Spare Multimeter Probes — [{'room': 'Cage', 'container': '2b', 'specific': None}]\n"
     ]
    },
    {
     "name": "stderr",
     "output_type": "stream",
     "text": [
      "\n"
     ]
    },
    {
     "name": "stdout",
     "output_type": "stream",
     "text": [
      "LLM returns: \n",
      " Push Pins \n",
      " Cabinet 3\n",
      "\n",
      " *********************************************************** \n",
      " \n",
      "\n",
      " text =  \n",
      "\n",
      " link items =  ['700pcs Paper Clips Assorted Sizes Large (700PCS)']\n"
     ]
    },
    {
     "name": "stderr",
     "output_type": "stream",
     "text": [
      "Batches: 100%|██████████| 1/1 [00:00<00:00,  9.61it/s]"
     ]
    },
    {
     "name": "stdout",
     "output_type": "stream",
     "text": [
      "Candidate: Jewelry Clasps and Closures — [{'room': 'Main', 'container': 'Cabinet 3', 'specific': 'Shelf 9'}, {'room': 'Cage', 'container': '5d', 'specific': 'Stack 3|-3'}]\n",
      "Candidate: Parchment Paper — [{'room': 'Cage', 'container': '4c', 'specific': ''}]\n",
      "Candidate: Laminator Sheets (Half Letter, 6\" x 9\") — [{'room': 'Cage', 'container': '1b', 'specific': ''}]\n",
      "Candidate: Plastic Sheeting — [{'room': 'Cage', 'container': '1a', 'specific': ''}]\n",
      "Candidate: Leather Seeder Tool — [{'room': 'Studio', 'container': '', 'specific': ''}]\n"
     ]
    },
    {
     "name": "stderr",
     "output_type": "stream",
     "text": [
      "\n"
     ]
    },
    {
     "name": "stdout",
     "output_type": "stream",
     "text": [
      "LLM returns: \n",
      " Parchment Paper \n",
      " Cage/Crypt/Other\n",
      "\n",
      " *********************************************************** \n",
      " \n",
      "\n",
      " text =  letter stencils\n",
      "\n",
      " link items =  ['Letter Stencils - 12 Pack, 4 x 7 Inch, Reusable Plastic Alphabet Stencils for Bullet Journaling, Scrapbook Decor & DIY Craft Projects']\n"
     ]
    },
    {
     "name": "stderr",
     "output_type": "stream",
     "text": [
      "Batches: 100%|██████████| 1/1 [00:00<00:00,  8.78it/s]"
     ]
    },
    {
     "name": "stdout",
     "output_type": "stream",
     "text": [
      "Candidate: Mini Rubber Bands — [{'room': 'Main', 'container': 'Cabinet 3', 'specific': 'Shelf 19'}, {'room': 'Cage', 'container': '5d', 'specific': 'Stack 15|-3'}]\n",
      "Candidate: Small Zip Ties — [{'room': 'Main', 'container': 'Cabinet 2', 'specific': 'Shelf 4'}, {'room': 'Cage', 'container': '5c', 'specific': 'Stack 2|-1'}]\n",
      "Candidate: Black Ribbon — [{'room': 'Main', 'container': 'Cabinet 6', 'specific': 'Shelf 6'}]\n",
      "Candidate: Gray Ribbon — [{'room': 'Main', 'container': 'Cabinet 6', 'specific': 'Shelf 6'}]\n",
      "Candidate: Suede Lace — [{'room': 'Main', 'container': 'Cabinet 2', 'specific': 'Shelf 21'}]\n"
     ]
    },
    {
     "name": "stderr",
     "output_type": "stream",
     "text": [
      "\n"
     ]
    },
    {
     "name": "stdout",
     "output_type": "stream",
     "text": [
      "LLM returns: \n",
      "  \n",
      " Cabinet 7\n",
      "\n",
      " *********************************************************** \n",
      " \n",
      "\n",
      " text =  big letter stencils\n",
      "\n",
      " link items =  ['Mr. Pen Letters and Numbers Alphabet Templates, Letter Stencils, Pack of 5']\n"
     ]
    },
    {
     "name": "stderr",
     "output_type": "stream",
     "text": [
      "Batches: 100%|██████████| 1/1 [00:00<00:00,  9.67it/s]"
     ]
    },
    {
     "name": "stdout",
     "output_type": "stream",
     "text": [
      "Candidate: Small Zip Ties — [{'room': 'Main', 'container': 'Cabinet 2', 'specific': 'Shelf 4'}, {'room': 'Cage', 'container': '5c', 'specific': 'Stack 2|-1'}]\n",
      "Candidate: Mini Rubber Bands — [{'room': 'Main', 'container': 'Cabinet 3', 'specific': 'Shelf 19'}, {'room': 'Cage', 'container': '5d', 'specific': 'Stack 15|-3'}]\n",
      "Candidate: Suede Lace — [{'room': 'Main', 'container': 'Cabinet 2', 'specific': 'Shelf 21'}]\n",
      "Candidate: Black Ribbon — [{'room': 'Main', 'container': 'Cabinet 6', 'specific': 'Shelf 6'}]\n",
      "Candidate: PTFE Tape — [{'room': 'Cage', 'container': '8d', 'specific': ''}]\n"
     ]
    },
    {
     "name": "stderr",
     "output_type": "stream",
     "text": [
      "\n"
     ]
    },
    {
     "name": "stdout",
     "output_type": "stream",
     "text": [
      "LLM returns: \n",
      "  \n",
      " Cabinet 4\n",
      "\n",
      " *********************************************************** \n",
      " \n",
      "\n",
      " text =  geometric drawing stencils\n",
      "\n",
      " link items =  ['11PCS Geometric Drawings Templates, Drafting Stencils Measuring Tools, BetyBedy Plastic Clear Green Ruler Shapes with a Zipper Bags for Architecture, Office, Studying, Designing and Building']\n"
     ]
    },
    {
     "name": "stderr",
     "output_type": "stream",
     "text": [
      "Batches: 100%|██████████| 1/1 [00:00<00:00, 11.56it/s]"
     ]
    },
    {
     "name": "stdout",
     "output_type": "stream",
     "text": [
      "Candidate: Pegboard Hardware — [{'room': 'Cage', 'container': 'Pegboard', 'specific': ''}]\n",
      "Candidate: Fabric Glue — [{'room': 'Main', 'container': 'Cabinet 5', 'specific': 'Shelf 1'}, {'room': 'Cage', 'container': '5d', 'specific': 'Stack 4|3'}]\n",
      "Candidate: Printer — [{'room': 'Cage', 'container': '8d', 'specific': None}]\n",
      "Candidate: Small Wooden Dowels (1/8\" x 12\") — [{'room': 'Main', 'container': 'Cabinet 2', 'specific': 'Shelf 6'}, {'room': 'Cage', 'container': '5d', 'specific': 'Stack 14|-3'}]\n",
      "Candidate: Plastic Sheeting — [{'room': 'Cage', 'container': '1a', 'specific': ''}]\n"
     ]
    },
    {
     "name": "stderr",
     "output_type": "stream",
     "text": [
      "\n"
     ]
    },
    {
     "name": "stdout",
     "output_type": "stream",
     "text": [
      "LLM returns: \n",
      "  \n",
      " Cabinet 7\n",
      "\n",
      " *********************************************************** \n",
      " \n",
      "\n",
      " text =  clear push pins\n",
      "\n",
      " link items =  ['Amazon Basics Push Pins Tacks, Steel Point, Clear Plastic Head, for Bulletin Board, Maps, Posters, and Craft Projects, 100-Pack']\n"
     ]
    },
    {
     "name": "stderr",
     "output_type": "stream",
     "text": [
      "Batches: 100%|██████████| 1/1 [00:00<00:00,  2.69it/s]\n"
     ]
    },
    {
     "name": "stdout",
     "output_type": "stream",
     "text": [
      "Candidate:  Stencils — [{'room': 'Main', 'container': 'Cabinet 3', 'specific': 'Shelf 22'}, {'room': 'Backstock', 'container': 'Shelf 2', 'specific': '|11'}]\n",
      "Candidate: Suede Lace — [{'room': 'Main', 'container': 'Cabinet 2', 'specific': 'Shelf 21'}]\n",
      "Candidate: Cotton Swabs/Q-Tips — [{'room': 'Main', 'container': 'Cabinet 2', 'specific': 'Shelf 12'}, {'room': 'Cage', 'container': '5c', 'specific': 'Stack 15|-3'}]\n",
      "Candidate: Extra Signage — [{'room': 'Cage', 'container': '8d', 'specific': ''}]\n",
      "Candidate: Silicon for Molds — [{'room': 'Cage', 'container': '7c', 'specific': None}]\n",
      "LLM returns: \n",
      " Suede Lace \n",
      " Cabinet 2\n",
      "\n",
      " *********************************************************** \n",
      " \n",
      "\n",
      " text =  colored push pins\n",
      "\n",
      " link items =  []\n"
     ]
    },
    {
     "name": "stderr",
     "output_type": "stream",
     "text": [
      "Batches: 100%|██████████| 1/1 [00:00<00:00,  7.28it/s]"
     ]
    },
    {
     "name": "stdout",
     "output_type": "stream",
     "text": [
      "Candidate:  Stencils — [{'room': 'Main', 'container': 'Cabinet 3', 'specific': 'Shelf 22'}, {'room': 'Backstock', 'container': 'Shelf 2', 'specific': '|11'}]\n",
      "Candidate: Cotton Swabs/Q-Tips — [{'room': 'Main', 'container': 'Cabinet 2', 'specific': 'Shelf 12'}, {'room': 'Cage', 'container': '5c', 'specific': 'Stack 15|-3'}]\n",
      "Candidate: Velcro — [{'room': 'Main', 'container': 'Cabinet 1', 'specific': 'Shelf 17'}, {'room': 'Cage', 'container': '5d', 'specific': 'Stack 6|-3'}]\n",
      "Candidate: Black Sharpies — [{'room': 'Main', 'container': 'Cabinet 4', 'specific': 'Shelf 1'}, {'room': 'Cage', 'container': '5c', 'specific': 'Stack 11|-3'}, {'room': 'Cage', 'container': '8d', 'specific': '|-3'}]\n",
      "Candidate: Rubber Bands — [{'room': 'Main', 'container': 'Cabinet 3', 'specific': 'Shelf 19'}, {'room': 'Cage', 'container': '5d', 'specific': 'Stack 15|-3'}]\n"
     ]
    },
    {
     "name": "stderr",
     "output_type": "stream",
     "text": [
      "\n"
     ]
    },
    {
     "name": "stdout",
     "output_type": "stream",
     "text": [
      "LLM returns: \n",
      "  \n",
      " Cabinet 11\n",
      "\n",
      " *********************************************************** \n",
      " \n",
      "\n",
      " text =  sticky notes\n",
      "\n",
      " link items =  []\n"
     ]
    },
    {
     "name": "stderr",
     "output_type": "stream",
     "text": [
      "Batches: 100%|██████████| 1/1 [00:00<00:00, 13.05it/s]"
     ]
    },
    {
     "name": "stdout",
     "output_type": "stream",
     "text": [
      "Candidate: Flashlight — [{'room': 'Cage', 'container': '8d', 'specific': 'In Batteries Drawer'}]\n",
      "Candidate: Extra Signage — [{'room': 'Cage', 'container': '8d', 'specific': ''}]\n",
      "Candidate: Small Zip Ties — [{'room': 'Main', 'container': 'Cabinet 2', 'specific': 'Shelf 4'}, {'room': 'Cage', 'container': '5c', 'specific': 'Stack 2|-1'}]\n",
      "Candidate: Origami Books — [{'room': 'Main', 'container': 'Fabrics', 'specific': None}]\n",
      "Candidate: Suede Lace — [{'room': 'Main', 'container': 'Cabinet 2', 'specific': 'Shelf 21'}]\n"
     ]
    },
    {
     "name": "stderr",
     "output_type": "stream",
     "text": [
      "\n"
     ]
    },
    {
     "name": "stdout",
     "output_type": "stream",
     "text": [
      "LLM returns: \n",
      "  \n",
      " Cabinet 7\n",
      "\n",
      " *********************************************************** \n",
      " \n",
      "\n",
      " text =  raffia\n",
      "\n",
      " link items =  []\n"
     ]
    },
    {
     "name": "stderr",
     "output_type": "stream",
     "text": [
      "Batches: 100%|██████████| 1/1 [00:00<00:00, 12.96it/s]"
     ]
    },
    {
     "name": "stdout",
     "output_type": "stream",
     "text": [
      "Candidate: Crayons — [{'room': 'Main', 'container': 'Cabinet 4', 'specific': 'Shelf 22'}]\n",
      "Candidate: LED Light, Neewer — [{'room': 'Studio', 'container': 'Studio 3', 'specific': 'Shelf 5'}]\n",
      "Candidate: Scale (4 kg x 0.5 g) — [{'room': 'Cage', 'container': '2b', 'specific': None}]\n",
      "Candidate: Loom Thread — [{'room': 'The Crypt', 'container': '1e', 'specific': None}]\n",
      "Candidate: Microphone Stand, Auray (w/ Boom Arm) — [{'room': 'Studio', 'container': 'Next to Studio 5', 'specific': None}]\n"
     ]
    },
    {
     "name": "stderr",
     "output_type": "stream",
     "text": [
      "\n"
     ]
    },
    {
     "name": "stdout",
     "output_type": "stream",
     "text": [
      "LLM returns: \n",
      "  \n",
      " Cabinet 6\n",
      "\n",
      " *********************************************************** \n",
      " \n",
      "\n",
      " text =  silver sharpies\n",
      "\n",
      " link items =  []\n"
     ]
    },
    {
     "name": "stderr",
     "output_type": "stream",
     "text": [
      "Batches: 100%|██████████| 1/1 [00:00<00:00,  5.42it/s]"
     ]
    },
    {
     "name": "stdout",
     "output_type": "stream",
     "text": [
      "Candidate: Colored Sharpies — [{'room': 'Main', 'container': 'Cabinet 4', 'specific': 'Shelf 1'}, {'room': 'Cage', 'container': '5c', 'specific': 'Stack 10|-3'}]\n",
      "Candidate: Popsicle Sticks — [{'room': 'Main', 'container': 'Cabinet 2', 'specific': 'Shelf 3'}, {'room': 'Cage', 'container': '5c', 'specific': 'Stack 22|-3'}]\n",
      "Candidate: Push Pins — [{'room': 'Main', 'container': 'Cabinet 3', 'specific': 'Shelf 23'}, {'room': 'Cage', 'container': '5c', 'specific': 'Stack 16|-3'}]\n",
      "Candidate: Gold Linocut Ink  — [{'room': 'Cage', 'container': 'Shelf 1', 'specific': ''}]\n",
      "Candidate: Lino (Block Printing) Kit — [{'room': 'Cage', 'container': '1e', 'specific': ''}]\n"
     ]
    },
    {
     "name": "stderr",
     "output_type": "stream",
     "text": [
      "\n"
     ]
    },
    {
     "name": "stdout",
     "output_type": "stream",
     "text": [
      "LLM returns: \n",
      " Colored Sharpies \n",
      " Cabinet 4\n",
      "\n",
      " *********************************************************** \n",
      " \n",
      "\n",
      " text =  drawing pencils\n",
      "\n",
      " link items =  ['Faber-Castell Graphite Sketch Pencil Set - 6 Graphite Pencils (2H, HB, B, 2B, 4B, 6B), Drawing Pencils and Sketching Supplies']\n"
     ]
    },
    {
     "name": "stderr",
     "output_type": "stream",
     "text": [
      "Batches: 100%|██████████| 1/1 [00:00<00:00,  6.11it/s]"
     ]
    },
    {
     "name": "stdout",
     "output_type": "stream",
     "text": [
      "Candidate: Googly Eyes — [{'room': 'Main', 'container': 'Cabinet 2', 'specific': 'Shelf 7'}, {'room': 'Cage', 'container': '5d', 'specific': 'Stack 13|-1'}]\n",
      "Candidate: Small Wooden Dowels (1/8\" x 12\") — [{'room': 'Main', 'container': 'Cabinet 2', 'specific': 'Shelf 6'}, {'room': 'Cage', 'container': '5d', 'specific': 'Stack 14|-3'}]\n",
      "Candidate: (9000) LFP Natural Paper 44x40 — [{'room': 'The Crypt', 'container': '', 'specific': ''}]\n",
      "Candidate: Black Sharpies — [{'room': 'Main', 'container': 'Cabinet 4', 'specific': 'Shelf 1'}, {'room': 'Cage', 'container': '5c', 'specific': 'Stack 11|-3'}, {'room': 'Cage', 'container': '8d', 'specific': '|-3'}]\n",
      "Candidate: Scissors Sharpener — [{'room': 'Main', 'container': 'Cabinet 3', 'specific': 'Shelf 1'}]\n"
     ]
    },
    {
     "name": "stderr",
     "output_type": "stream",
     "text": [
      "\n"
     ]
    },
    {
     "name": "stdout",
     "output_type": "stream",
     "text": [
      "LLM returns: \n",
      " Black Sharpies \n",
      " Cabinet 4\n",
      "\n",
      " *********************************************************** \n",
      " \n",
      "\n",
      " text =  paint palletes\n",
      "\n",
      " link items =  []\n"
     ]
    },
    {
     "name": "stderr",
     "output_type": "stream",
     "text": [
      "Batches: 100%|██████████| 1/1 [00:00<00:00, 12.88it/s]"
     ]
    },
    {
     "name": "stdout",
     "output_type": "stream",
     "text": [
      "Candidate: Paint Sponges — [{'room': 'Main', 'container': 'Cabinet 4', 'specific': 'Shelf 15'}, {'room': 'Cage', 'container': '5d', 'specific': 'Stack 9|-3'}, {'room': 'Backstock', 'container': 'Shelf 2', 'specific': '|-3'}]\n",
      "Candidate: Pipe Cleaners — [{'room': 'Main', 'container': 'Cabinet 2', 'specific': 'Shelf 8'}, {'room': 'Cage', 'container': '5d', 'specific': 'Stack 13|-3'}]\n",
      "Candidate: Halogen Modeling Light Bulb, Impact — [{'room': 'Studio', 'container': 'Studio 3', 'specific': 'Shelf 4'}]\n",
      "Candidate: Markers — [{'room': 'Main', 'container': 'Cabinet 4', 'specific': 'Shelf 4'}]\n",
      "Candidate: Ball Bearings — [{'room': 'Cage', 'container': 'Movable Shelves', 'specific': None}]\n"
     ]
    },
    {
     "name": "stderr",
     "output_type": "stream",
     "text": [
      "\n"
     ]
    },
    {
     "name": "stdout",
     "output_type": "stream",
     "text": [
      "LLM returns: \n",
      " Paint Sponges \n",
      " Cabinet 4\n",
      "\n",
      " *********************************************************** \n",
      " \n",
      "\n",
      " text =  plastic scrapers\n",
      "\n",
      " link items =  []\n"
     ]
    },
    {
     "name": "stderr",
     "output_type": "stream",
     "text": [
      "Batches: 100%|██████████| 1/1 [00:00<00:00, 10.95it/s]"
     ]
    },
    {
     "name": "stdout",
     "output_type": "stream",
     "text": [
      "Candidate: Isopropyl Alcohol — [{'room': 'Cage', 'container': 'Flammable', 'specific': ''}, {'room': 'Laser3D', 'container': 'Cabinet 4', 'specific': '|1'}]\n",
      "Candidate: Sewing Machine Covers — [{'room': 'Cage', 'container': '3b', 'specific': ''}]\n",
      "Candidate: Large Paper — [{'room': 'Cage', 'container': '4c', 'specific': ''}]\n",
      "Candidate: Plastic Bobbins — [{'room': 'Main', 'container': 'Pegboard 1', 'specific': 'Bottom'}, {'room': 'Cage', 'container': '5e', 'specific': 'Pegboard Bins|-3'}]\n",
      "Candidate: Protractors — [{'room': 'Main', 'container': 'Cabinet 3', 'specific': 'Shelf 2'}, {'room': 'Cage', 'container': '5c', 'specific': 'Stack 3|-3'}]\n"
     ]
    },
    {
     "name": "stderr",
     "output_type": "stream",
     "text": [
      "\n"
     ]
    },
    {
     "name": "stdout",
     "output_type": "stream",
     "text": [
      "LLM returns: \n",
      " Isopropyl Alcohol \n",
      " Laser3D\n",
      "\n",
      " *********************************************************** \n",
      " \n",
      "\n",
      " text =  pallette knives\n",
      "\n",
      " link items =  []\n"
     ]
    },
    {
     "name": "stderr",
     "output_type": "stream",
     "text": [
      "Batches: 100%|██████████| 1/1 [00:00<00:00,  7.47it/s]"
     ]
    },
    {
     "name": "stdout",
     "output_type": "stream",
     "text": [
      "Candidate: Sticky Notes — [{'room': 'Main', 'container': 'Cabinet 3', 'specific': 'Shelf 24'}, {'room': 'Cage', 'container': '8d', 'specific': '|-2'}, {'room': 'Cage', 'container': '5c', 'specific': 'Stack 18|-2'}]\n",
      "Candidate: Spray Paint — [{'room': 'Other', 'container': 'Spray Paint Booth', 'specific': 'Flammable'}]\n",
      "Candidate: Colored Sharpies — [{'room': 'Main', 'container': 'Cabinet 4', 'specific': 'Shelf 1'}, {'room': 'Cage', 'container': '5c', 'specific': 'Stack 10|-3'}]\n",
      "Candidate: Star/Torx Bit Socket Set — [{'room': 'Cage', 'container': '2b', 'specific': None}]\n",
      "Candidate: 1/4 to 3.5mm Adapter — [{'room': 'Studio', 'container': 'Studio 2', 'specific': 'Shelf 4'}]\n"
     ]
    },
    {
     "name": "stderr",
     "output_type": "stream",
     "text": [
      "\n"
     ]
    },
    {
     "name": "stdout",
     "output_type": "stream",
     "text": [
      "LLM returns: \n",
      " Colored Sharpies \n",
      " Cabinet 4\n",
      "\n",
      " *********************************************************** \n",
      " \n",
      "\n",
      " text =  ink pads\n",
      "\n",
      " link items =  []\n"
     ]
    },
    {
     "name": "stderr",
     "output_type": "stream",
     "text": [
      "Batches: 100%|██████████| 1/1 [00:00<00:00, 19.68it/s]"
     ]
    },
    {
     "name": "stdout",
     "output_type": "stream",
     "text": [
      "Candidate: Small Hot Glue Sticks  — [{'room': 'Main', 'container': 'Cabinet 5', 'specific': 'Shelf 2'}, {'room': 'Cage', 'container': '5d', 'specific': 'Stack 5|-1'}]\n",
      "Candidate: Dip Fountain Pens — [{'room': 'Main', 'container': 'Cabinet 4', 'specific': 'Shelf 23'}]\n",
      "Candidate: Pumpkin Carving Kit — [{'room': 'The Crypt', 'container': '', 'specific': ''}]\n",
      "Candidate: Markers — [{'room': 'Main', 'container': 'Cabinet 4', 'specific': 'Shelf 4'}]\n",
      "Candidate: Colored Pencils — [{'room': 'Main', 'container': 'Cabinet 4', 'specific': 'Shelf 10'}]\n"
     ]
    },
    {
     "name": "stderr",
     "output_type": "stream",
     "text": [
      "\n"
     ]
    },
    {
     "name": "stdout",
     "output_type": "stream",
     "text": [
      "LLM returns: \n",
      "  \n",
      " Cabinet 9\n",
      "\n",
      " *********************************************************** \n",
      " \n",
      "\n",
      " text =  chalk pastels\n",
      "\n",
      " link items =  []\n"
     ]
    },
    {
     "name": "stderr",
     "output_type": "stream",
     "text": [
      "Batches: 100%|██████████| 1/1 [00:00<00:00, 20.79it/s]"
     ]
    },
    {
     "name": "stdout",
     "output_type": "stream",
     "text": [
      "Candidate: Big Metal Grommets — [{'room': 'Main', 'container': 'Cabinet 9', 'specific': 'Shelf 4'}, {'room': 'Cage', 'container': '5c', 'specific': 'Stack 24|0'}]\n",
      "Candidate: Embroidery Floss — [{'room': 'Main', 'container': 'Cabinet 1', 'specific': 'Shelf 9'}, {'room': 'Cage', 'container': '5e', 'specific': '|-3'}]\n",
      "Candidate: Silver Duct Tape — [{'room': 'Main', 'container': 'Cabinet 5', 'specific': 'Top'}, {'room': 'Cage', 'container': '5e', 'specific': '|16'}]\n",
      "Candidate: Oil Pastel Sets — [{'room': 'Main', 'container': 'Cabinet 4', 'specific': 'Shelf 24'}, {'room': 'Cage', 'container': '5e', 'specific': '|1'}]\n",
      "Candidate: Matte Fabric Paint — [{'room': 'Main', 'container': 'Cabinet 4', 'specific': 'Shelf 5'}]\n"
     ]
    },
    {
     "name": "stderr",
     "output_type": "stream",
     "text": [
      "\n"
     ]
    },
    {
     "name": "stdout",
     "output_type": "stream",
     "text": [
      "LLM returns: \n",
      " Oil Pastel Sets \n",
      " Cabinet 4\n",
      "\n",
      " *********************************************************** \n",
      " \n",
      "\n",
      " text =  calligraphy pens\n",
      "\n",
      " link items =  []\n"
     ]
    },
    {
     "name": "stderr",
     "output_type": "stream",
     "text": [
      "Batches: 100%|██████████| 1/1 [00:00<00:00,  9.01it/s]"
     ]
    },
    {
     "name": "stdout",
     "output_type": "stream",
     "text": [
      "Candidate: Markers — [{'room': 'Main', 'container': 'Cabinet 4', 'specific': 'Shelf 4'}]\n",
      "Candidate: Dip Fountain Pens — [{'room': 'Main', 'container': 'Cabinet 4', 'specific': 'Shelf 23'}]\n",
      "Candidate: Leather Dye — [{'room': 'Main', 'container': 'Cabinet 9', 'specific': 'Shelf 4'}]\n",
      "Candidate: Sewing Machine Brushes — [{'room': 'Main', 'container': 'Pegboard 1', 'specific': 'J1'}]\n",
      "Candidate: Small Wooden Dowels (1/8\" x 12\") — [{'room': 'Main', 'container': 'Cabinet 2', 'specific': 'Shelf 6'}, {'room': 'Cage', 'container': '5d', 'specific': 'Stack 14|-3'}]\n"
     ]
    },
    {
     "name": "stderr",
     "output_type": "stream",
     "text": [
      "\n"
     ]
    },
    {
     "name": "stdout",
     "output_type": "stream",
     "text": [
      "LLM returns: \n",
      " Dip Fountain Pens \n",
      " Cabinet 4\n",
      "\n",
      " *********************************************************** \n",
      " \n",
      "\n",
      " text =  calligraphy ink\n",
      "\n",
      " link items =  []\n"
     ]
    },
    {
     "name": "stderr",
     "output_type": "stream",
     "text": [
      "Batches: 100%|██████████| 1/1 [00:00<00:00, 11.07it/s]"
     ]
    },
    {
     "name": "stdout",
     "output_type": "stream",
     "text": [
      "Candidate: Dip Fountain Pens — [{'room': 'Main', 'container': 'Cabinet 4', 'specific': 'Shelf 23'}]\n",
      "Candidate: Markers — [{'room': 'Main', 'container': 'Cabinet 4', 'specific': 'Shelf 4'}]\n",
      "Candidate: Small Hot Glue Sticks  — [{'room': 'Main', 'container': 'Cabinet 5', 'specific': 'Shelf 2'}, {'room': 'Cage', 'container': '5d', 'specific': 'Stack 5|-1'}]\n",
      "Candidate: Pumpkin Carving Kit — [{'room': 'The Crypt', 'container': '', 'specific': ''}]\n",
      "Candidate: Lino (Block Printing) Kit — [{'room': 'Cage', 'container': '1e', 'specific': ''}]\n"
     ]
    },
    {
     "name": "stderr",
     "output_type": "stream",
     "text": [
      "\n"
     ]
    },
    {
     "name": "stdout",
     "output_type": "stream",
     "text": [
      "LLM returns: \n",
      " Dip Fountain Pens \n",
      " Cabinet 4\n",
      "\n",
      " *********************************************************** \n",
      " \n",
      "\n",
      " text =  oil pastel set\n",
      "\n",
      " link items =  []\n"
     ]
    },
    {
     "name": "stderr",
     "output_type": "stream",
     "text": [
      "Batches: 100%|██████████| 1/1 [00:00<00:00, 12.73it/s]"
     ]
    },
    {
     "name": "stdout",
     "output_type": "stream",
     "text": [
      "Candidate: Matte Fabric Paint — [{'room': 'Main', 'container': 'Cabinet 4', 'specific': 'Shelf 5'}]\n",
      "Candidate: Big Metal Grommets — [{'room': 'Main', 'container': 'Cabinet 9', 'specific': 'Shelf 4'}, {'room': 'Cage', 'container': '5c', 'specific': 'Stack 24|0'}]\n",
      "Candidate: Spray Adhesive — [{'room': 'Cage', 'container': 'Flammable', 'specific': None}]\n",
      "Candidate: Stitch Markers — [{'room': 'Main', 'container': 'Pegboard 1', 'specific': 'F3'}]\n",
      "Candidate: Cutting Board Oil — [{'room': 'Cage', 'container': '7c', 'specific': None}]\n"
     ]
    },
    {
     "name": "stderr",
     "output_type": "stream",
     "text": [
      "\n"
     ]
    },
    {
     "name": "stdout",
     "output_type": "stream",
     "text": [
      "LLM returns: \n",
      " Matte Fabric Paint \n",
      " Cabinet 4\n",
      "\n",
      " *********************************************************** \n",
      " \n",
      "\n",
      " text =  paint pens\n",
      "\n",
      " link items =  []\n"
     ]
    },
    {
     "name": "stderr",
     "output_type": "stream",
     "text": [
      "Batches: 100%|██████████| 1/1 [00:00<00:00, 15.28it/s]"
     ]
    },
    {
     "name": "stdout",
     "output_type": "stream",
     "text": [
      "Candidate: Markers — [{'room': 'Main', 'container': 'Cabinet 4', 'specific': 'Shelf 4'}]\n",
      "Candidate: Dip Fountain Pens — [{'room': 'Main', 'container': 'Cabinet 4', 'specific': 'Shelf 23'}]\n",
      "Candidate: Black Sharpies — [{'room': 'Main', 'container': 'Cabinet 4', 'specific': 'Shelf 1'}, {'room': 'Cage', 'container': '5c', 'specific': 'Stack 11|-3'}, {'room': 'Cage', 'container': '8d', 'specific': '|-3'}]\n",
      "Candidate: Colored Pencils — [{'room': 'Main', 'container': 'Cabinet 4', 'specific': 'Shelf 10'}]\n",
      "Candidate: Leather Dye — [{'room': 'Main', 'container': 'Cabinet 9', 'specific': 'Shelf 4'}]\n"
     ]
    },
    {
     "name": "stderr",
     "output_type": "stream",
     "text": [
      "\n"
     ]
    },
    {
     "name": "stdout",
     "output_type": "stream",
     "text": [
      "LLM returns: \n",
      " Markers \n",
      " Cabinet 4\n",
      "\n",
      " *********************************************************** \n",
      " \n",
      "\n",
      " text =  clay tools\n",
      "\n",
      " link items =  []\n"
     ]
    },
    {
     "name": "stderr",
     "output_type": "stream",
     "text": [
      "Batches: 100%|██████████| 1/1 [00:00<00:00, 12.29it/s]"
     ]
    },
    {
     "name": "stdout",
     "output_type": "stream",
     "text": [
      "Candidate: Spare Stranded-core wire — [{'room': 'Other', 'container': '', 'specific': None}]\n",
      "Candidate: Misc. Hardware — [{'room': 'Main', 'container': 'Cabinet 9', 'specific': 'Shelf 7'}]\n",
      "Candidate: Gold Linocut Ink  — [{'room': 'Cage', 'container': 'Shelf 1', 'specific': ''}]\n",
      "Candidate: Crescent Wrenches — [{'room': 'Main', 'container': 'Cabinet 11', 'specific': 'Shelf 1'}]\n",
      "Candidate: Screwdrivers — [{'room': 'Main', 'container': 'Cabinet 11', 'specific': 'Shelf 6'}]\n"
     ]
    },
    {
     "name": "stderr",
     "output_type": "stream",
     "text": [
      "\n"
     ]
    },
    {
     "name": "stdout",
     "output_type": "stream",
     "text": [
      "LLM returns: \n",
      " Misc. Hardware \n",
      " Cabinet 9\n",
      "\n",
      " *********************************************************** \n",
      " \n",
      "\n",
      " text =  screws\n",
      "\n",
      " link items =  []\n"
     ]
    },
    {
     "name": "stderr",
     "output_type": "stream",
     "text": [
      "Batches: 100%|██████████| 1/1 [00:00<00:00, 12.15it/s]"
     ]
    },
    {
     "name": "stdout",
     "output_type": "stream",
     "text": [
      "Candidate: Needle Files — [{'room': 'Main', 'container': 'Cabinet 11', 'specific': 'Shelf 3'}, {'room': 'Cage', 'container': '5c', 'specific': 'Stack 12|-2'}]\n",
      "Candidate: Screws — [{'room': 'Main', 'container': 'Cabinet 9', 'specific': 'Shelf 8'}]\n",
      "Candidate: Crescent Wrenches — [{'room': 'Main', 'container': 'Cabinet 11', 'specific': 'Shelf 1'}]\n",
      "Candidate: Glue Sticks — [{'room': 'Main', 'container': 'Cabinet 5', 'specific': 'Shelf 2'}, {'room': 'Cage', 'container': '5c', 'specific': 'Stack 13|-1'}, {'room': 'Backstock', 'container': '', 'specific': ''}]\n",
      "Candidate: Light Kit, GVM — [{'room': 'Studio', 'container': 'Studio 3', 'specific': 'Shelf 2'}]\n"
     ]
    },
    {
     "name": "stderr",
     "output_type": "stream",
     "text": [
      "\n"
     ]
    },
    {
     "name": "stdout",
     "output_type": "stream",
     "text": [
      "LLM returns: \n",
      " Needle Files \n",
      " Cabinet 11\n",
      "\n",
      " *********************************************************** \n",
      " \n",
      "\n",
      " text =  nuts and bolts\n",
      "\n",
      " link items =  []\n"
     ]
    },
    {
     "name": "stderr",
     "output_type": "stream",
     "text": [
      "Batches: 100%|██████████| 1/1 [00:00<00:00,  9.57it/s]"
     ]
    },
    {
     "name": "stdout",
     "output_type": "stream",
     "text": [
      "Candidate: Glue Sticks — [{'room': 'Main', 'container': 'Cabinet 5', 'specific': 'Shelf 2'}, {'room': 'Cage', 'container': '5c', 'specific': 'Stack 13|-1'}, {'room': 'Backstock', 'container': '', 'specific': ''}]\n",
      "Candidate: Needle Files — [{'room': 'Main', 'container': 'Cabinet 11', 'specific': 'Shelf 3'}, {'room': 'Cage', 'container': '5c', 'specific': 'Stack 12|-2'}]\n",
      "Candidate: Crescent Wrenches — [{'room': 'Main', 'container': 'Cabinet 11', 'specific': 'Shelf 1'}]\n",
      "Candidate: Instant Epoxy (Syringe) — [{'room': 'Main', 'container': 'Cabinet 5', 'specific': ''}, {'room': 'Cage', 'container': '5d', 'specific': ''}]\n",
      "Candidate: Spare Deburring Blades — [{'room': 'Main', 'container': 'Cabinet 11', 'specific': 'Shelf 3'}]\n"
     ]
    },
    {
     "name": "stderr",
     "output_type": "stream",
     "text": [
      "\n"
     ]
    },
    {
     "name": "stdout",
     "output_type": "stream",
     "text": [
      "LLM returns: \n",
      " Spare Deburring Blades \n",
      " Cabinet 11\n",
      "\n",
      " *********************************************************** \n",
      " \n",
      "\n",
      " text =  Ceramic magnets-\n",
      "\n",
      " link items =  []\n"
     ]
    },
    {
     "name": "stderr",
     "output_type": "stream",
     "text": [
      "Batches: 100%|██████████| 1/1 [00:00<00:00,  9.44it/s]"
     ]
    },
    {
     "name": "stdout",
     "output_type": "stream",
     "text": [
      "Candidate: Paint Pens — [{'room': 'Main', 'container': 'Cabinet 4', 'specific': 'Shelf 2'}]\n",
      "Candidate: Ceramic Magnets — [{'room': 'Main', 'container': 'Cabinet 2', 'specific': 'Shelf 1'}, {'room': 'Cage', 'container': '5c', 'specific': 'Stack 14|-2'}]\n",
      "Candidate: Medium Metal Magnets — [{'room': 'Main', 'container': 'Cabinet 2', 'specific': 'Shelf 1'}, {'room': 'Cage', 'container': '5c', 'specific': 'Stack 14|-3'}]\n",
      "Candidate: Proficiency Buttons (Stewards Only) — [{'room': 'Cage', 'container': '8b', 'specific': None}]\n",
      "Candidate: Screws — [{'room': 'Main', 'container': 'Cabinet 9', 'specific': 'Shelf 8'}]\n"
     ]
    },
    {
     "name": "stderr",
     "output_type": "stream",
     "text": [
      "\n"
     ]
    },
    {
     "name": "stdout",
     "output_type": "stream",
     "text": [
      "LLM returns: \n",
      " Ceramic Magnets \n",
      " Cabinet 2\n",
      "\n",
      " *********************************************************** \n",
      " \n",
      "\n",
      " text =  small magnets-\n",
      "\n",
      " link items =  []\n"
     ]
    },
    {
     "name": "stderr",
     "output_type": "stream",
     "text": [
      "Batches: 100%|██████████| 1/1 [00:00<00:00, 10.34it/s]"
     ]
    },
    {
     "name": "stdout",
     "output_type": "stream",
     "text": [
      "Candidate: Medium Metal Magnets — [{'room': 'Main', 'container': 'Cabinet 2', 'specific': 'Shelf 1'}, {'room': 'Cage', 'container': '5c', 'specific': 'Stack 14|-3'}]\n",
      "Candidate: Ceramic Magnets — [{'room': 'Main', 'container': 'Cabinet 2', 'specific': 'Shelf 1'}, {'room': 'Cage', 'container': '5c', 'specific': 'Stack 14|-2'}]\n",
      "Candidate: Paint Pens — [{'room': 'Main', 'container': 'Cabinet 4', 'specific': 'Shelf 2'}]\n",
      "Candidate: Spare Embroidery Machine Power Cables — [{'room': 'Cage', 'container': '3b', 'specific': None}]\n",
      "Candidate: Screws — [{'room': 'Main', 'container': 'Cabinet 9', 'specific': 'Shelf 8'}]\n"
     ]
    },
    {
     "name": "stderr",
     "output_type": "stream",
     "text": [
      "\n"
     ]
    },
    {
     "name": "stdout",
     "output_type": "stream",
     "text": [
      "LLM returns: \n",
      " Ceramic Magnets \n",
      " Cabinet 2\n",
      "\n",
      " *********************************************************** \n",
      " \n",
      "\n",
      " text =  medium magnets-\n",
      "\n",
      " link items =  []\n"
     ]
    },
    {
     "name": "stderr",
     "output_type": "stream",
     "text": [
      "Batches: 100%|██████████| 1/1 [00:00<00:00, 18.39it/s]"
     ]
    },
    {
     "name": "stdout",
     "output_type": "stream",
     "text": [
      "Candidate: Ceramic Magnets — [{'room': 'Main', 'container': 'Cabinet 2', 'specific': 'Shelf 1'}, {'room': 'Cage', 'container': '5c', 'specific': 'Stack 14|-2'}]\n",
      "Candidate: Medium Metal Magnets — [{'room': 'Main', 'container': 'Cabinet 2', 'specific': 'Shelf 1'}, {'room': 'Cage', 'container': '5c', 'specific': 'Stack 14|-3'}]\n",
      "Candidate: Paint Pens — [{'room': 'Main', 'container': 'Cabinet 4', 'specific': 'Shelf 2'}]\n",
      "Candidate: Screws — [{'room': 'Main', 'container': 'Cabinet 9', 'specific': 'Shelf 8'}]\n",
      "Candidate: Spare Embroidery Machine Power Cables — [{'room': 'Cage', 'container': '3b', 'specific': None}]\n"
     ]
    },
    {
     "name": "stderr",
     "output_type": "stream",
     "text": [
      "\n"
     ]
    },
    {
     "name": "stdout",
     "output_type": "stream",
     "text": [
      "LLM returns: \n",
      " Medium Metal Magnets \n",
      " Cabinet 2\n",
      "\n",
      " *********************************************************** \n",
      " \n",
      "\n",
      " text =  ziploc bags -\n",
      "\n",
      " link items =  []\n"
     ]
    },
    {
     "name": "stderr",
     "output_type": "stream",
     "text": [
      "Batches: 100%|██████████| 1/1 [00:00<00:00,  6.40it/s]"
     ]
    },
    {
     "name": "stdout",
     "output_type": "stream",
     "text": [
      "Candidate: Ziploc Plastic Bags (Quart) — [{'room': 'Main', 'container': 'Cabinet 2', 'specific': 'Shelf 2'}, {'room': 'Cage', 'container': '5b', 'specific': '|5'}, {'room': 'Cage', 'container': '8e', 'specific': '|1'}]\n",
      "Candidate: Leather Letter Stamping Set — [{'room': 'Main', 'container': 'Cabinet 9', 'specific': 'Shelf 4'}]\n",
      "Candidate: Plastic Trash Bags — [{'room': 'Cage', 'container': '8e', 'specific': ''}]\n",
      "Candidate: Crafting Books — [{'room': 'Main', 'container': 'Fabrics', 'specific': None}]\n",
      "Candidate: Fabric Rolls — [{'room': 'Main', 'container': 'Fabrics', 'specific': None}, {'room': 'Backstock', 'container': 'Floor', 'specific': '|0'}]\n"
     ]
    },
    {
     "name": "stderr",
     "output_type": "stream",
     "text": [
      "\n"
     ]
    },
    {
     "name": "stdout",
     "output_type": "stream",
     "text": [
      "LLM returns: \n",
      " Ziploc Plastic Bags (Quart) \n",
      " Cabinet 2\n",
      "\n",
      " *********************************************************** \n",
      " \n",
      "\n",
      " text =  block letter sticker sheets -\n",
      "\n",
      " link items =  []\n"
     ]
    },
    {
     "name": "stderr",
     "output_type": "stream",
     "text": [
      "Batches: 100%|██████████| 1/1 [00:00<00:00, 16.34it/s]"
     ]
    },
    {
     "name": "stdout",
     "output_type": "stream",
     "text": [
      "Candidate: Small Zip Ties — [{'room': 'Main', 'container': 'Cabinet 2', 'specific': 'Shelf 4'}, {'room': 'Cage', 'container': '5c', 'specific': 'Stack 2|-1'}]\n",
      "Candidate: Extra Signage — [{'room': 'Cage', 'container': '8d', 'specific': ''}]\n",
      "Candidate: Suede Lace — [{'room': 'Main', 'container': 'Cabinet 2', 'specific': 'Shelf 21'}]\n",
      "Candidate: PTFE Tape — [{'room': 'Cage', 'container': '8d', 'specific': ''}]\n",
      "Candidate: Black Ribbon — [{'room': 'Main', 'container': 'Cabinet 6', 'specific': 'Shelf 6'}]\n"
     ]
    },
    {
     "name": "stderr",
     "output_type": "stream",
     "text": [
      "\n"
     ]
    },
    {
     "name": "stdout",
     "output_type": "stream",
     "text": [
      "LLM returns: \n",
      " Extra Signage \n",
      " Cage/Crypt/Other\n",
      "\n",
      " *********************************************************** \n",
      " \n",
      "\n",
      " text =  Glitter Letter Sticker Sheets -\n",
      "\n",
      " link items =  []\n"
     ]
    },
    {
     "name": "stderr",
     "output_type": "stream",
     "text": [
      "Batches: 100%|██████████| 1/1 [00:00<00:00,  4.71it/s]\n"
     ]
    },
    {
     "name": "stdout",
     "output_type": "stream",
     "text": [
      "Candidate: Small Zip Ties — [{'room': 'Main', 'container': 'Cabinet 2', 'specific': 'Shelf 4'}, {'room': 'Cage', 'container': '5c', 'specific': 'Stack 2|-1'}]\n",
      "Candidate: Extra Signage — [{'room': 'Cage', 'container': '8d', 'specific': ''}]\n",
      "Candidate: Suede Lace — [{'room': 'Main', 'container': 'Cabinet 2', 'specific': 'Shelf 21'}]\n",
      "Candidate: PTFE Tape — [{'room': 'Cage', 'container': '8d', 'specific': ''}]\n",
      "Candidate: DeWalt ShopVac Replacement Air Filter — [{'room': 'Cage', 'container': '8b', 'specific': ''}]\n",
      "LLM returns: \n",
      "  \n",
      " Cabinet 7\n",
      "\n",
      " *********************************************************** \n",
      " \n",
      "\n",
      " text =  Round Letter Sticker Sheets -\n",
      "\n",
      " link items =  []\n"
     ]
    },
    {
     "name": "stderr",
     "output_type": "stream",
     "text": [
      "Batches: 100%|██████████| 1/1 [00:00<00:00,  9.11it/s]"
     ]
    },
    {
     "name": "stdout",
     "output_type": "stream",
     "text": [
      "Candidate: Small Zip Ties — [{'room': 'Main', 'container': 'Cabinet 2', 'specific': 'Shelf 4'}, {'room': 'Cage', 'container': '5c', 'specific': 'Stack 2|-1'}]\n",
      "Candidate: Extra Signage — [{'room': 'Cage', 'container': '8d', 'specific': ''}]\n",
      "Candidate: Suede Lace — [{'room': 'Main', 'container': 'Cabinet 2', 'specific': 'Shelf 21'}]\n",
      "Candidate: PTFE Tape — [{'room': 'Cage', 'container': '8d', 'specific': ''}]\n",
      "Candidate: Printer — [{'room': 'Cage', 'container': '8d', 'specific': None}]\n"
     ]
    },
    {
     "name": "stderr",
     "output_type": "stream",
     "text": [
      "\n"
     ]
    },
    {
     "name": "stdout",
     "output_type": "stream",
     "text": [
      "LLM returns: \n",
      "  \n",
      " Cabinet 5\n",
      "\n",
      " *********************************************************** \n",
      " \n",
      "\n",
      " text =  Flower Sticker Sheets -\n",
      "\n",
      " link items =  []\n"
     ]
    },
    {
     "name": "stderr",
     "output_type": "stream",
     "text": [
      "Batches: 100%|██████████| 1/1 [00:00<00:00,  4.92it/s]\n"
     ]
    },
    {
     "name": "stdout",
     "output_type": "stream",
     "text": [
      "Candidate: Extra Signage — [{'room': 'Cage', 'container': '8d', 'specific': ''}]\n",
      "Candidate: Small Zip Ties — [{'room': 'Main', 'container': 'Cabinet 2', 'specific': 'Shelf 4'}, {'room': 'Cage', 'container': '5c', 'specific': 'Stack 2|-1'}]\n",
      "Candidate: Suede Lace — [{'room': 'Main', 'container': 'Cabinet 2', 'specific': 'Shelf 21'}]\n",
      "Candidate: Iron Rest Pad — [{'room': 'Cage', 'container': '3b', 'specific': ''}]\n",
      "Candidate: Large Embroidery Hoops — [{'room': 'Main', 'container': 'Cabinet 1', 'specific': 'Shelf 8'}, {'room': 'Cage', 'container': '5d', 'specific': 'Stack 8|-3'}]\n",
      "LLM returns: \n",
      "  \n",
      " Cabinet 7\n",
      "\n",
      " *********************************************************** \n",
      " \n",
      "\n",
      " text =  Wooden Dowels (1/4\" x 12\") -\n",
      "\n",
      " link items =  ['HOPELF 100PCS Dowel Rods - 1/4 x 12 Inch Bamboo Sticks - for Crafts, Cake Dowels and DIYers']\n"
     ]
    },
    {
     "name": "stderr",
     "output_type": "stream",
     "text": [
      "Batches: 100%|██████████| 1/1 [00:00<00:00,  3.64it/s]\n"
     ]
    },
    {
     "name": "stdout",
     "output_type": "stream",
     "text": [
      "Candidate: Large Wooden Dowels (1/4\" x 12\") — [{'room': 'Main', 'container': 'Cabinet 2', 'specific': 'Shelf 6'}, {'room': 'Cage', 'container': '5d', 'specific': 'Stack 14|-2'}]\n",
      "Candidate: Highlighters — [{'room': 'Main', 'container': 'Cabinet 4', 'specific': 'Shelf 7'}]\n",
      "Candidate: Large Carpenter Square (16\" x 24\") — [{'room': 'Cage', 'container': 'Pegboard', 'specific': ''}]\n",
      "Candidate: Fabric Glue — [{'room': 'Main', 'container': 'Cabinet 5', 'specific': 'Shelf 1'}, {'room': 'Cage', 'container': '5d', 'specific': 'Stack 4|3'}]\n",
      "Candidate: Cricut Power + Data Cables — [{'room': 'Cage', 'container': '1d', 'specific': ''}]\n",
      "LLM returns: \n",
      " Large Wooden Dowels (1/4\" x 12\") \n",
      " Cabinet 2\n",
      "\n",
      " *********************************************************** \n",
      " \n",
      "\n",
      " text =  Wooden Dowels (1/8\" x 12\") -\n",
      "\n",
      " link items =  []\n"
     ]
    },
    {
     "name": "stderr",
     "output_type": "stream",
     "text": [
      "Batches: 100%|██████████| 1/1 [00:00<00:00, 11.41it/s]"
     ]
    },
    {
     "name": "stdout",
     "output_type": "stream",
     "text": [
      "Candidate: Large Wooden Dowels (1/4\" x 12\") — [{'room': 'Main', 'container': 'Cabinet 2', 'specific': 'Shelf 6'}, {'room': 'Cage', 'container': '5d', 'specific': 'Stack 14|-2'}]\n",
      "Candidate: Highlighters — [{'room': 'Main', 'container': 'Cabinet 4', 'specific': 'Shelf 7'}]\n",
      "Candidate: Large Carpenter Square (16\" x 24\") — [{'room': 'Cage', 'container': 'Pegboard', 'specific': ''}]\n",
      "Candidate: Cricut Power + Data Cables — [{'room': 'Cage', 'container': '1d', 'specific': ''}]\n",
      "Candidate: Fabric Glue — [{'room': 'Main', 'container': 'Cabinet 5', 'specific': 'Shelf 1'}, {'room': 'Cage', 'container': '5d', 'specific': 'Stack 4|3'}]\n"
     ]
    },
    {
     "name": "stderr",
     "output_type": "stream",
     "text": [
      "\n"
     ]
    },
    {
     "name": "stdout",
     "output_type": "stream",
     "text": [
      "LLM returns: \n",
      " Large Wooden Dowels (1/4\" x 12\") \n",
      " Cabinet 2\n",
      "\n",
      " *********************************************************** \n",
      " \n",
      "\n",
      " text =  Colored Googly Eyes -\n",
      "\n",
      " link items =  []\n"
     ]
    },
    {
     "name": "stderr",
     "output_type": "stream",
     "text": [
      "Batches: 100%|██████████| 1/1 [00:00<00:00, 10.60it/s]"
     ]
    },
    {
     "name": "stdout",
     "output_type": "stream",
     "text": [
      "Candidate: Pencils — [{'room': 'Main', 'container': 'Cabinet 4', 'specific': 'Shelf 7'}, {'room': 'Cage', 'container': '5c', 'specific': 'Stack 9|-3'}, {'room': 'Backstock', 'container': '', 'specific': ''}]\n",
      "Candidate: Paper Clips — [{'room': 'Main', 'container': 'Cabinet 3', 'specific': 'Shelf 21'}, {'room': 'Cage', 'container': '5c', 'specific': 'Stack 16|-3'}]\n",
      "Candidate: Domed Tacks — [{'room': 'Main', 'container': 'Pegboard 1', 'specific': 'C1'}]\n",
      "Candidate: Coping Saw — [{'room': 'Cage', 'container': 'Pegboard', 'specific': None}]\n",
      "Candidate: Silver Duct Tape — [{'room': 'Main', 'container': 'Cabinet 5', 'specific': 'Top'}, {'room': 'Cage', 'container': '5e', 'specific': '|16'}]\n"
     ]
    },
    {
     "name": "stderr",
     "output_type": "stream",
     "text": [
      "\n"
     ]
    },
    {
     "name": "stdout",
     "output_type": "stream",
     "text": [
      "LLM returns: \n",
      " Paper Clips \n",
      " Cabinet 3\n",
      "\n",
      " *********************************************************** \n",
      " \n",
      "\n",
      " text =  Pipe Cleaners -\n",
      "\n",
      " link items =  []\n"
     ]
    },
    {
     "name": "stderr",
     "output_type": "stream",
     "text": [
      "Batches: 100%|██████████| 1/1 [00:00<00:00, 11.78it/s]"
     ]
    },
    {
     "name": "stdout",
     "output_type": "stream",
     "text": [
      "Candidate: Key Rings — [{'room': 'Main', 'container': 'Cabinet 3', 'specific': 'Shelf 9'}, {'room': 'Cage', 'container': '5c', 'specific': 'Stack 4|-3'}]\n",
      "Candidate: Allen Keys — [{'room': 'Main', 'container': 'Cabinet 11', 'specific': 'Shelf 4'}]\n",
      "Candidate: Clean Finish Polishing Compound — [{'room': 'Cage', 'container': '7c', 'specific': None}]\n",
      "Candidate: Super Glue — [{'room': 'Main', 'container': 'Cabinet 5', 'specific': 'Shelf 1'}, {'room': 'Cage', 'container': '5d', 'specific': 'Stack 7|-2'}]\n",
      "Candidate: Spray Bottles — [{'room': 'Cage', 'container': '8e', 'specific': ''}]\n"
     ]
    },
    {
     "name": "stderr",
     "output_type": "stream",
     "text": [
      "\n"
     ]
    },
    {
     "name": "stdout",
     "output_type": "stream",
     "text": [
      "LLM returns: \n",
      " Key Rings \n",
      " Cabinet 3\n",
      "\n",
      " *********************************************************** \n",
      " \n",
      "\n",
      " text =  plastic straws -\n",
      "\n",
      " link items =  []\n"
     ]
    },
    {
     "name": "stderr",
     "output_type": "stream",
     "text": [
      "Batches: 100%|██████████| 1/1 [00:00<00:00,  8.30it/s]"
     ]
    },
    {
     "name": "stdout",
     "output_type": "stream",
     "text": [
      "Candidate: Clothes Pins — [{'room': 'Main', 'container': 'Cabinet 2', 'specific': 'Shelf 15'}, {'room': 'Cage', 'container': '5c', 'specific': 'Stack 17|-1'}]\n",
      "Candidate: Tiny Thread — [{'room': 'Main', 'container': 'Pegboard 1', 'specific': 'C8'}, {'room': 'Cage', 'container': '5e', 'specific': 'Pegboard Bins|-2'}]\n",
      "Candidate: Fabric Rolls — [{'room': 'Main', 'container': 'Fabrics', 'specific': None}, {'room': 'Backstock', 'container': 'Floor', 'specific': '|0'}]\n",
      "Candidate: Plastic Bobbins — [{'room': 'Main', 'container': 'Pegboard 1', 'specific': 'Bottom'}, {'room': 'Cage', 'container': '5e', 'specific': 'Pegboard Bins|-3'}]\n",
      "Candidate: Dawn Dish Soap — [{'room': 'Cage', 'container': '8e', 'specific': ''}]\n"
     ]
    },
    {
     "name": "stderr",
     "output_type": "stream",
     "text": [
      "\n"
     ]
    },
    {
     "name": "stdout",
     "output_type": "stream",
     "text": [
      "LLM returns: \n",
      " Clothes Pins \n",
      " Cabinet 2\n",
      "\n",
      " *********************************************************** \n",
      " \n",
      "\n",
      " text =  Multicolor Pom Poms -\n",
      "\n",
      " link items =  []\n"
     ]
    },
    {
     "name": "stderr",
     "output_type": "stream",
     "text": [
      "Batches: 100%|██████████| 1/1 [00:00<00:00,  8.65it/s]"
     ]
    },
    {
     "name": "stdout",
     "output_type": "stream",
     "text": [
      "Candidate: Tassels — [{'room': 'Main', 'container': 'Pegboard 1', 'specific': 'C7'}, {'room': 'Cage', 'container': '5e', 'specific': 'Pegboard Bins|-3'}]\n",
      "Candidate: Brown Ribbon — [{'room': 'Main', 'container': 'Cabinet 6', 'specific': 'Shelf 5'}]\n",
      "Candidate: Micro-SD to SD Adapters — [{'room': 'Cage', 'container': '8d', 'specific': ''}]\n",
      "Candidate: Packing Tape — [{'room': 'Main', 'container': 'Cabinet 5', 'specific': 'Shelf 2'}, {'room': 'Cage', 'container': '5e', 'specific': '|11'}, {'room': 'Cage', 'container': '8d', 'specific': '|2'}]\n",
      "Candidate: Letter Sticker Sheets — [{'room': 'Main', 'container': 'Cabinet 2', 'specific': 'Shelf 5'}]\n"
     ]
    },
    {
     "name": "stderr",
     "output_type": "stream",
     "text": [
      "\n"
     ]
    },
    {
     "name": "stdout",
     "output_type": "stream",
     "text": [
      "LLM returns: \n",
      " Tassels \n",
      " Pegboard 1\n",
      "\n",
      " *********************************************************** \n",
      " \n",
      "\n",
      " text =  feathers -\n",
      "\n",
      " link items =  []\n"
     ]
    },
    {
     "name": "stderr",
     "output_type": "stream",
     "text": [
      "Batches: 100%|██████████| 1/1 [00:00<00:00, 11.64it/s]"
     ]
    },
    {
     "name": "stdout",
     "output_type": "stream",
     "text": [
      "Candidate: Nylon Stocking — [{'room': 'Main', 'container': 'Cabinet 1', 'specific': 'Shelf 16'}, {'room': 'Cage', 'container': '5c', 'specific': 'Stack 28|-2'}]\n",
      "Candidate: Mixed Beads — [{'room': 'Main', 'container': 'Cabinet 3', 'specific': 'Shelf 12'}]\n",
      "Candidate: AxiDraw Supplies — [{'room': 'Cage', 'container': '1d', 'specific': None}]\n",
      "Candidate: Straight Knitting Needles — [{'room': 'Main', 'container': 'Cabinet 1', 'specific': 'Shelf 4'}, {'room': 'Cage', 'container': '5c', 'specific': 'Stack 24|-3'}]\n",
      "Candidate: Ear Plugs — [{'room': 'Cage', 'container': '8c', 'specific': None}]\n"
     ]
    },
    {
     "name": "stderr",
     "output_type": "stream",
     "text": [
      "\n"
     ]
    },
    {
     "name": "stdout",
     "output_type": "stream",
     "text": [
      "LLM returns: \n",
      "  \n",
      " Fabric\n",
      "\n",
      " *********************************************************** \n",
      " \n",
      "\n",
      " text =  feathers -\n",
      "\n",
      " link items =  ['Coceca 300pcs Colorful Feathers 3-5 Inches Bulk Feathers Assorted Colors for Crafts DIY, Art Projects, Party Decorations, Dream Catchers']\n"
     ]
    },
    {
     "name": "stderr",
     "output_type": "stream",
     "text": [
      "Batches: 100%|██████████| 1/1 [00:00<00:00, 10.96it/s]"
     ]
    },
    {
     "name": "stdout",
     "output_type": "stream",
     "text": [
      "Candidate: Nylon Stocking — [{'room': 'Main', 'container': 'Cabinet 1', 'specific': 'Shelf 16'}, {'room': 'Cage', 'container': '5c', 'specific': 'Stack 28|-2'}]\n",
      "Candidate: Ratchet Kit — [{'room': 'Cage', 'container': '2b', 'specific': None}]\n",
      "Candidate: Circular Knitting Needles — [{'room': 'Main', 'container': 'Cabinet 1', 'specific': 'Shelf 4'}, {'room': 'Cage', 'container': '5c', 'specific': 'Stack 24|-3'}]\n",
      "Candidate: Ironing mat — [{'room': 'Cage', 'container': '3c', 'specific': None}]\n",
      "Candidate: Mixed Beads — [{'room': 'Main', 'container': 'Cabinet 3', 'specific': 'Shelf 12'}]\n"
     ]
    },
    {
     "name": "stderr",
     "output_type": "stream",
     "text": [
      "\n"
     ]
    },
    {
     "name": "stdout",
     "output_type": "stream",
     "text": [
      "LLM returns: \n",
      "  \n",
      " Fabric\n",
      "\n",
      " *********************************************************** \n",
      " \n",
      "\n",
      " text =  foam sheets -\n",
      "\n",
      " link items =  []\n"
     ]
    },
    {
     "name": "stderr",
     "output_type": "stream",
     "text": [
      "Batches: 100%|██████████| 1/1 [00:00<00:00, 14.57it/s]"
     ]
    },
    {
     "name": "stdout",
     "output_type": "stream",
     "text": [
      "Candidate: Large Embroidery Hoops — [{'room': 'Main', 'container': 'Cabinet 1', 'specific': 'Shelf 8'}, {'room': 'Cage', 'container': '5d', 'specific': 'Stack 8|-3'}]\n",
      "Candidate: Cotton Battening — [{'room': 'Cage', 'container': '4a', 'specific': None}]\n",
      "Candidate: Dixie Cups (for painting) — [{'room': 'Main', 'container': 'Cabinet 16', 'specific': '(by paint sink)'}]\n",
      "Candidate: Misc. Wood Stock — [{'room': 'Outdoor Storage', 'container': 'A3', 'specific': None}]\n",
      "Candidate: Coping Saw — [{'room': 'Cage', 'container': 'Pegboard', 'specific': None}]\n"
     ]
    },
    {
     "name": "stderr",
     "output_type": "stream",
     "text": [
      "\n"
     ]
    },
    {
     "name": "stdout",
     "output_type": "stream",
     "text": [
      "LLM returns: \n",
      "  \n",
      " Cabinet 7\n",
      "\n",
      " *********************************************************** \n",
      " \n",
      "\n",
      " text =  polymer clay -\n",
      "\n",
      " link items =  []\n"
     ]
    },
    {
     "name": "stderr",
     "output_type": "stream",
     "text": [
      "Batches: 100%|██████████| 1/1 [00:00<00:00,  9.20it/s]"
     ]
    },
    {
     "name": "stdout",
     "output_type": "stream",
     "text": [
      "Candidate: Gold Linocut Ink  — [{'room': 'Cage', 'container': 'Shelf 1', 'specific': ''}]\n",
      "Candidate: Spare Stranded-core wire — [{'room': 'Other', 'container': '', 'specific': None}]\n",
      "Candidate: KimTech Wipes — [{'room': 'Laser3D', 'container': 'leftmost cabinet', 'specific': ''}]\n",
      "Candidate: Pipe Cleaners — [{'room': 'Main', 'container': 'Cabinet 2', 'specific': 'Shelf 8'}, {'room': 'Cage', 'container': '5d', 'specific': 'Stack 13|-3'}]\n",
      "Candidate: Oil Pastel Sets — [{'room': 'Main', 'container': 'Cabinet 4', 'specific': 'Shelf 24'}, {'room': 'Cage', 'container': '5e', 'specific': '|1'}]\n"
     ]
    },
    {
     "name": "stderr",
     "output_type": "stream",
     "text": [
      "\n"
     ]
    },
    {
     "name": "stdout",
     "output_type": "stream",
     "text": [
      "LLM returns: \n",
      "  \n",
      " Cabinet 9\n",
      "\n",
      " *********************************************************** \n",
      " \n",
      "\n",
      " text =  polymer clay -\n",
      "\n",
      " link items =  []\n"
     ]
    },
    {
     "name": "stderr",
     "output_type": "stream",
     "text": [
      "Batches: 100%|██████████| 1/1 [00:00<00:00, 17.91it/s]"
     ]
    },
    {
     "name": "stdout",
     "output_type": "stream",
     "text": [
      "Candidate: Gold Linocut Ink  — [{'room': 'Cage', 'container': 'Shelf 1', 'specific': ''}]\n",
      "Candidate: Spare Stranded-core wire — [{'room': 'Other', 'container': '', 'specific': None}]\n",
      "Candidate: KimTech Wipes — [{'room': 'Laser3D', 'container': 'leftmost cabinet', 'specific': ''}]\n",
      "Candidate: Pipe Cleaners — [{'room': 'Main', 'container': 'Cabinet 2', 'specific': 'Shelf 8'}, {'room': 'Cage', 'container': '5d', 'specific': 'Stack 13|-3'}]\n",
      "Candidate: Oil Pastel Sets — [{'room': 'Main', 'container': 'Cabinet 4', 'specific': 'Shelf 24'}, {'room': 'Cage', 'container': '5e', 'specific': '|1'}]\n"
     ]
    },
    {
     "name": "stderr",
     "output_type": "stream",
     "text": [
      "\n"
     ]
    },
    {
     "name": "stdout",
     "output_type": "stream",
     "text": [
      "LLM returns: \n",
      "  \n",
      " Cabinet 9\n",
      "\n",
      " *********************************************************** \n",
      " \n",
      "\n",
      " text =  rhinestones -\n",
      "\n",
      " link items =  []\n"
     ]
    },
    {
     "name": "stderr",
     "output_type": "stream",
     "text": [
      "Batches: 100%|██████████| 1/1 [00:00<00:00, 25.08it/s]"
     ]
    },
    {
     "name": "stdout",
     "output_type": "stream",
     "text": [
      "Candidate: Graphite Sketch Pencil Kit — [{'room': 'Cage', 'container': '1b', 'specific': ''}]\n",
      "Candidate: Pony Beads — [{'room': 'Main', 'container': 'Cabinet 3', 'specific': 'Shelf 13'}, {'room': 'Cage', 'container': '5e', 'specific': '|4'}]\n",
      "Candidate: Clay Carving Tools — [{'room': 'Main', 'container': 'Cabinet 9', 'specific': 'Shelf 2'}]\n",
      "Candidate: Pipe Wrenches — [{'room': 'Main', 'container': 'Cabinet 11', 'specific': 'Shelf 7'}]\n",
      "Candidate: Mixed Beads — [{'room': 'Main', 'container': 'Cabinet 3', 'specific': 'Shelf 12'}]\n"
     ]
    },
    {
     "name": "stderr",
     "output_type": "stream",
     "text": [
      "\n"
     ]
    },
    {
     "name": "stdout",
     "output_type": "stream",
     "text": [
      "LLM returns: \n",
      " Mixed Beads \n",
      " Cabinet 3\n",
      "\n",
      " *********************************************************** \n",
      " \n",
      "\n",
      " text =  rhinestone sticker sheets -\n",
      "\n",
      " link items =  []\n"
     ]
    },
    {
     "name": "stderr",
     "output_type": "stream",
     "text": [
      "Batches: 100%|██████████| 1/1 [00:00<00:00, 14.10it/s]"
     ]
    },
    {
     "name": "stdout",
     "output_type": "stream",
     "text": [
      "Candidate: Graphite Sketch Pencil Kit — [{'room': 'Cage', 'container': '1b', 'specific': ''}]\n",
      "Candidate: Extra Signage — [{'room': 'Cage', 'container': '8d', 'specific': ''}]\n",
      "Candidate: Suede Lace — [{'room': 'Main', 'container': 'Cabinet 2', 'specific': 'Shelf 21'}]\n",
      "Candidate: Small Zip Ties — [{'room': 'Main', 'container': 'Cabinet 2', 'specific': 'Shelf 4'}, {'room': 'Cage', 'container': '5c', 'specific': 'Stack 2|-1'}]\n",
      "Candidate: Iron Rest Pad — [{'room': 'Cage', 'container': '3b', 'specific': ''}]\n"
     ]
    },
    {
     "name": "stderr",
     "output_type": "stream",
     "text": [
      "\n"
     ]
    },
    {
     "name": "stdout",
     "output_type": "stream",
     "text": [
      "LLM returns: \n",
      "  \n",
      " Cabinet 3\n",
      "\n",
      " *********************************************************** \n",
      " \n",
      "\n",
      " text =  pattern washi tape -\n",
      "\n",
      " link items =  ['60 Rolls Washi Tape Set - Decorative Adhesive Masking Tape for Scrapbooking Supplies,DIY Crafts,Bullet Journals,Gift Wrapping,Party Decorations and Planners,Each Roll 5.4yd Total 328yd']\n"
     ]
    },
    {
     "name": "stderr",
     "output_type": "stream",
     "text": [
      "Batches: 100%|██████████| 1/1 [00:00<00:00,  5.44it/s]"
     ]
    },
    {
     "name": "stdout",
     "output_type": "stream",
     "text": [
      "Candidate: 3.5 mm Male to XLR Female Cable Short — [{'room': 'Studio', 'container': 'Studio 2', 'specific': 'Shelf 8'}]\n",
      "Candidate: Various Wheels — [{'room': 'The Crypt', 'container': '2d', 'specific': None}]\n",
      "Candidate: Plastic Bins/Boxes/Organizers — [{'room': 'Cage', 'container': '6a, 6b, 6c, 6d', 'specific': ''}]\n",
      "Candidate: Rhinestones — [{'room': 'Main', 'container': 'Cabinet 2', 'specific': 'Shelf 19'}, {'room': 'Cage', 'container': '5d', 'specific': 'Stack 12|-3'}]\n",
      "Candidate: Staples — [{'room': 'Main', 'container': 'Cabinet 3', 'specific': 'Shelf 16'}, {'room': 'Cage', 'container': '5c', 'specific': 'Stack 13|-2'}]\n"
     ]
    },
    {
     "name": "stderr",
     "output_type": "stream",
     "text": [
      "\n"
     ]
    },
    {
     "name": "stdout",
     "output_type": "stream",
     "text": [
      "LLM returns: \n",
      "  \n",
      " Cabinet 5\n",
      "\n",
      " *********************************************************** \n",
      " \n",
      "\n",
      " text =  solid washi tape -\n",
      "\n",
      " link items =  []\n"
     ]
    },
    {
     "name": "stderr",
     "output_type": "stream",
     "text": [
      "Batches: 100%|██████████| 1/1 [00:00<00:00, 13.94it/s]"
     ]
    },
    {
     "name": "stdout",
     "output_type": "stream",
     "text": [
      "Candidate: Rhinestones — [{'room': 'Main', 'container': 'Cabinet 2', 'specific': 'Shelf 19'}, {'room': 'Cage', 'container': '5d', 'specific': 'Stack 12|-3'}]\n",
      "Candidate: Seam Rippers — [{'room': 'Main', 'container': 'Pegboard 1', 'specific': 'E5'}, {'room': 'Cage', 'container': '5c', 'specific': 'Stack 7|-3'}]\n",
      "Candidate: Scotch Tape — [{'room': 'Main', 'container': 'Cabinet 5', 'specific': 'Shelf 2'}, {'room': 'Cage', 'container': '5c', 'specific': 'Stack 14|0'}, {'room': 'Cage', 'container': '5c', 'specific': 'Stack 7'}, {'room': 'Cage', 'container': '5c', 'specific': 'Stack 6'}]\n",
      "Candidate: 3.5 mm Male to XLR Male Cable Short — [{'room': 'Studio', 'container': 'Studio 2', 'specific': 'Shelf 8'}]\n",
      "Candidate: Color Gel Pens — [{'room': 'Main', 'container': 'Cabinet 4', 'specific': 'Shelf 13'}]\n"
     ]
    },
    {
     "name": "stderr",
     "output_type": "stream",
     "text": [
      "\n"
     ]
    },
    {
     "name": "stdout",
     "output_type": "stream",
     "text": [
      "LLM returns: \n",
      " Scotch Tape \n",
      " Cabinet 5\n",
      "\n",
      " *********************************************************** \n",
      " \n",
      "\n",
      " text =  key rings -\n",
      "\n",
      " link items =  []\n"
     ]
    },
    {
     "name": "stderr",
     "output_type": "stream",
     "text": [
      "Batches: 100%|██████████| 1/1 [00:00<00:00, 16.04it/s]"
     ]
    },
    {
     "name": "stdout",
     "output_type": "stream",
     "text": [
      "Candidate: Ink Pads — [{'room': 'Main', 'container': 'Cabinet 4', 'specific': 'Shelf 17'}, {'room': 'Cage', 'container': '5c', 'specific': 'Stack 20|-3'}]\n",
      "Candidate: QR Code Labels — [{'room': 'Cage', 'container': '8d', 'specific': ''}]\n",
      "Candidate: Microphone Stand, Cowboy Studio (w/ Boom Arm) — [{'room': 'Studio', 'container': 'Next to A', 'specific': None}]\n",
      "Candidate: PVC Cutter — [{'room': 'Cage', 'container': '2d', 'specific': ''}]\n",
      "Candidate: Pressure Zone Microphone — [{'room': 'Studio', 'container': 'Studio 1', 'specific': 'Shelf 3'}]\n"
     ]
    },
    {
     "name": "stderr",
     "output_type": "stream",
     "text": [
      "\n"
     ]
    },
    {
     "name": "stdout",
     "output_type": "stream",
     "text": [
      "LLM returns: \n",
      "  \n",
      " Cabinet 3\n",
      "\n",
      " *********************************************************** \n",
      " \n",
      "\n",
      " text =  Vacuum!\n",
      "\n",
      " link items =  []\n"
     ]
    },
    {
     "name": "stderr",
     "output_type": "stream",
     "text": [
      "Batches: 100%|██████████| 1/1 [00:00<00:00,  7.17it/s]"
     ]
    },
    {
     "name": "stdout",
     "output_type": "stream",
     "text": [
      "Candidate: Audio Cable — [{'room': 'Outdoor Storage', 'container': 'C5', 'specific': None}]\n",
      "Candidate: Microfiber Cloth — [{'room': 'Studio', 'container': 'Studio 5', 'specific': 'Shelf 4'}]\n",
      "Candidate: Green Bucket for Disposed Battery — [{'room': 'Other', 'container': '', 'specific': ''}]\n",
      "Candidate: Cutting Board Oil — [{'room': 'Cage', 'container': '7c', 'specific': None}]\n",
      "Candidate: Super Glue — [{'room': 'Main', 'container': 'Cabinet 5', 'specific': 'Shelf 1'}, {'room': 'Cage', 'container': '5d', 'specific': 'Stack 7|-2'}]\n"
     ]
    },
    {
     "name": "stderr",
     "output_type": "stream",
     "text": [
      "\n"
     ]
    },
    {
     "name": "stdout",
     "output_type": "stream",
     "text": [
      "LLM returns: \n",
      " Super Glue \n",
      " Cage/Crypt/Other\n",
      "\n",
      " *********************************************************** \n",
      " \n",
      "\n",
      " text =  Paint brush drying rack\n",
      "\n",
      " link items =  []\n"
     ]
    },
    {
     "name": "stderr",
     "output_type": "stream",
     "text": [
      "Batches: 100%|██████████| 1/1 [00:00<00:00,  7.05it/s]"
     ]
    },
    {
     "name": "stdout",
     "output_type": "stream",
     "text": [
      "Candidate: Sand Paper Splint — [{'room': 'Main', 'container': 'Cabinet 11', 'specific': 'Top'}, {'room': 'Backstock', 'container': 'Shelf 2', 'specific': '|3'}]\n",
      "Candidate: Spray Paint Gun Wrench — [{'room': 'Cage', 'container': 'Inside Spray Paint Gun Kit', 'specific': None}]\n",
      "Candidate: Acrylic Paint — [{'room': 'Main', 'container': 'Cabinet 4', 'specific': 'Shelf 3'}, {'room': 'Cage', 'container': '5e', 'specific': '|-3'}]\n",
      "Candidate: Small Paint Brushes — [{'room': 'Main', 'container': 'Cabinet 4', 'specific': 'Shelf 9'}, {'room': 'Cage', 'container': '5c', 'specific': 'Stack 19|-3'}]\n",
      "Candidate: Spray Bottles — [{'room': 'Cage', 'container': '8e', 'specific': ''}]\n"
     ]
    },
    {
     "name": "stderr",
     "output_type": "stream",
     "text": [
      "\n"
     ]
    },
    {
     "name": "stdout",
     "output_type": "stream",
     "text": [
      "LLM returns: \n",
      " Acrylic Paint \n",
      " Cabinet 4\n",
      "\n",
      " *********************************************************** \n",
      " \n",
      "\n",
      " text =  plate/palette drying rack\n",
      "\n",
      " link items =  []\n"
     ]
    },
    {
     "name": "stderr",
     "output_type": "stream",
     "text": [
      "Batches: 100%|██████████| 1/1 [00:00<00:00,  9.79it/s]"
     ]
    },
    {
     "name": "stdout",
     "output_type": "stream",
     "text": [
      "Candidate: Sand Paper Splint — [{'room': 'Main', 'container': 'Cabinet 11', 'specific': 'Top'}, {'room': 'Backstock', 'container': 'Shelf 2', 'specific': '|3'}]\n",
      "Candidate: Microphone Kit, MXL Genesis — [{'room': 'Studio', 'container': 'Studio 4', 'specific': 'Drawer 3'}]\n",
      "Candidate: Chip Brushes — [{'room': 'Main', 'container': 'cabinet 4 shelf 12', 'specific': None}]\n",
      "Candidate: Spare Computer Mice — [{'room': 'The Crypt', 'container': '2c', 'specific': None}]\n",
      "Candidate: Cardboard — [{'room': 'Main', 'container': 'Fabrics Area', 'specific': None}]\n"
     ]
    },
    {
     "name": "stderr",
     "output_type": "stream",
     "text": [
      "\n"
     ]
    },
    {
     "name": "stdout",
     "output_type": "stream",
     "text": [
      "LLM returns: \n",
      " Chip Brushes \n",
      " Cabinet 4\n",
      "\n",
      " *********************************************************** \n",
      " \n",
      "\n",
      " text =  Waterjet splash guard\n",
      "\n",
      " link items =  ['***PROTOMAX NOZZLE SPLASH GUARD; OMAX #317384']\n"
     ]
    },
    {
     "name": "stderr",
     "output_type": "stream",
     "text": [
      "Batches: 100%|██████████| 1/1 [00:00<00:00,  5.59it/s]"
     ]
    },
    {
     "name": "stdout",
     "output_type": "stream",
     "text": [
      "Candidate: Skein Winder — [{'room': 'Main', 'container': 'Fabric', 'specific': ''}]\n",
      "Candidate: Lino Blocks — [{'room': 'Cage', 'container': 'Shelf 1E', 'specific': ''}]\n",
      "Candidate: Pressure Zone Microphone — [{'room': 'Studio', 'container': 'Studio 1', 'specific': 'Shelf 3'}]\n",
      "Candidate: Hair Ties — [{'room': 'Cage', 'container': '8c', 'specific': None}]\n",
      "Candidate: Vacuum (Detachable Handle) — [{'room': 'Cage', 'container': 'Next to 8e', 'specific': None}]\n"
     ]
    },
    {
     "name": "stderr",
     "output_type": "stream",
     "text": [
      "\n"
     ]
    },
    {
     "name": "stdout",
     "output_type": "stream",
     "text": [
      "LLM returns: \n",
      " Hair Ties \n",
      " Cage/Crypt/Other\n",
      "\n",
      " *********************************************************** \n",
      " \n",
      "\n",
      " text =  clorox wipes\n",
      "\n",
      " link items =  []\n"
     ]
    },
    {
     "name": "stderr",
     "output_type": "stream",
     "text": [
      "Batches: 100%|██████████| 1/1 [00:00<00:00, 16.41it/s]"
     ]
    },
    {
     "name": "stdout",
     "output_type": "stream",
     "text": [
      "Candidate: Jacquard Loom Digital Weaving Screwdriver Kit — [{'room': 'The Crypt', 'container': '1e', 'specific': None}]\n",
      "Candidate: Fabric Shears — [{'room': 'Other', 'container': '', 'specific': ''}]\n",
      "Candidate: Air Dry Clay — [{'room': 'Main', 'container': 'Cabinet 2', 'specific': 'shelf 18'}, {'room': 'Backstock', 'container': '5', 'specific': 'b'}]\n",
      "Candidate: Phone Gimbal — [{'room': 'Studio', 'container': 'Studio 1', 'specific': 'Shelf 1'}]\n",
      "Candidate: Protractors — [{'room': 'Main', 'container': 'Cabinet 3', 'specific': 'Shelf 2'}, {'room': 'Cage', 'container': '5c', 'specific': 'Stack 3|-3'}]\n"
     ]
    },
    {
     "name": "stderr",
     "output_type": "stream",
     "text": [
      "\n"
     ]
    },
    {
     "name": "stdout",
     "output_type": "stream",
     "text": [
      "LLM returns: \n",
      " Jacquard Loom Digital Weaving Screwdriver Kit \n",
      " Cage/Crypt/Other\n",
      "\n",
      " *********************************************************** \n",
      " \n",
      "\n",
      " text =  sand paper\n",
      "\n",
      " link items =  []\n"
     ]
    },
    {
     "name": "stderr",
     "output_type": "stream",
     "text": [
      "Batches: 100%|██████████| 1/1 [00:00<00:00, 14.74it/s]"
     ]
    },
    {
     "name": "stdout",
     "output_type": "stream",
     "text": [
      "Candidate: Digital Soldering Station — [{'room': 'Other', 'container': '', 'specific': None}]\n",
      "Candidate: Pegboard Hardware — [{'room': 'Cage', 'container': 'Pegboard', 'specific': ''}]\n",
      "Candidate: Specialty Sewing Machine Needles — [{'room': 'Main', 'container': 'Pegboard', 'specific': None}, {'room': 'Cage', 'container': '5e', 'specific': 'Pegboard Bins|-3'}]\n",
      "Candidate: Laser Cutter Spare Lenses — [{'room': 'Cage', 'container': 'Repair Cart', 'specific': ''}]\n",
      "Candidate: Parchment Paper — [{'room': 'Cage', 'container': '4c', 'specific': ''}]\n"
     ]
    },
    {
     "name": "stderr",
     "output_type": "stream",
     "text": [
      "\n"
     ]
    },
    {
     "name": "stdout",
     "output_type": "stream",
     "text": [
      "LLM returns: \n",
      "  \n",
      " Cabinet 11\n",
      "\n",
      " *********************************************************** \n",
      " \n",
      "\n",
      " text =  levels\n",
      "\n",
      " link items =  []\n"
     ]
    },
    {
     "name": "stderr",
     "output_type": "stream",
     "text": [
      "Batches: 100%|██████████| 1/1 [00:00<00:00, 14.06it/s]"
     ]
    },
    {
     "name": "stdout",
     "output_type": "stream",
     "text": [
      "Candidate: Hacksaw — [{'room': 'Cage', 'container': 'Pegboard', 'specific': None}]\n",
      "Candidate: Medium Levels (24\") — [{'room': 'Cage', 'container': 'Pegboard', 'specific': ''}]\n",
      "Candidate: Form Resin Color Base — [{'room': 'Laser3D', 'container': 'Cabinet 3', 'specific': ''}]\n",
      "Candidate: Extra Large Clamps (36\") — [{'room': 'Cage', 'container': 'Pegboard', 'specific': ''}]\n",
      "Candidate: Microphone, Sony — [{'room': 'Studio', 'container': 'Studio 2', 'specific': 'Shelf 1'}]\n"
     ]
    },
    {
     "name": "stderr",
     "output_type": "stream",
     "text": [
      "\n"
     ]
    },
    {
     "name": "stdout",
     "output_type": "stream",
     "text": [
      "LLM returns: \n",
      " Medium Levels (24\") \n",
      " Cage/Crypt/Other\n",
      "\n",
      " *********************************************************** \n",
      " \n",
      "\n",
      " text =  x acto knives\n",
      "\n",
      " link items =  []\n"
     ]
    },
    {
     "name": "stderr",
     "output_type": "stream",
     "text": [
      "Batches: 100%|██████████| 1/1 [00:00<00:00,  6.73it/s]"
     ]
    },
    {
     "name": "stdout",
     "output_type": "stream",
     "text": [
      "Candidate: Spray Paint — [{'room': 'Other', 'container': 'Spray Paint Booth', 'specific': 'Flammable'}]\n",
      "Candidate: Sticky Notes — [{'room': 'Main', 'container': 'Cabinet 3', 'specific': 'Shelf 24'}, {'room': 'Cage', 'container': '8d', 'specific': '|-2'}, {'room': 'Cage', 'container': '5c', 'specific': 'Stack 18|-2'}]\n",
      "Candidate: Large Files — [{'room': 'Main', 'container': 'Cabinet 11', 'specific': 'Shelf 3'}]\n",
      "Candidate: Rubber Rollers — [{'room': 'Cage', 'container': 'Shelf 1E', 'specific': 'within lino kit'}]\n",
      "Candidate: Extra Lino Cutter Blades — [{'room': 'Cage', 'container': 'Shelf 1E', 'specific': ''}]\n"
     ]
    },
    {
     "name": "stderr",
     "output_type": "stream",
     "text": [
      "\n"
     ]
    },
    {
     "name": "stdout",
     "output_type": "stream",
     "text": [
      "LLM returns: \n",
      " Large Files \n",
      " Cabinet 11\n",
      "\n",
      " *********************************************************** \n",
      " \n",
      "\n",
      " text =  fabric glue -\n",
      "\n",
      " link items =  []\n"
     ]
    },
    {
     "name": "stderr",
     "output_type": "stream",
     "text": [
      "Batches: 100%|██████████| 1/1 [00:00<00:00,  5.70it/s]"
     ]
    },
    {
     "name": "stdout",
     "output_type": "stream",
     "text": [
      "Candidate: Leather Sewing Machine — [{'room': 'Cage', 'container': 'Floor', 'specific': None}]\n",
      "Candidate: Zippers — [{'room': 'Main', 'container': 'Cabinet 1', 'specific': 'Shelf 14'}, {'room': 'Cage', 'container': '5c', 'specific': 'Stack 23|-3'}]\n",
      "Candidate: Matte Mod Podge — [{'room': 'Main', 'container': 'Cabinet 5', 'specific': 'Shelf 1'}, {'room': 'Cage', 'container': '5e', 'specific': ''}]\n",
      "Candidate: Tacky Glue — [{'room': 'Main', 'container': 'Cabinet 5', 'specific': 'Shelf 1'}, {'room': 'Cage', 'container': '5d', 'specific': 'Stack 4|1'}]\n",
      "Candidate: Seam Rippers — [{'room': 'Main', 'container': 'Pegboard 1', 'specific': 'E5'}, {'room': 'Cage', 'container': '5c', 'specific': 'Stack 7|-3'}]\n"
     ]
    },
    {
     "name": "stderr",
     "output_type": "stream",
     "text": [
      "\n"
     ]
    },
    {
     "name": "stdout",
     "output_type": "stream",
     "text": [
      "LLM returns: \n",
      " Tacky Glue \n",
      " Cabinet 5\n",
      "\n",
      " *********************************************************** \n",
      " \n",
      "\n",
      " text =  box cutters\n",
      "\n",
      " link items =  []\n"
     ]
    },
    {
     "name": "stderr",
     "output_type": "stream",
     "text": [
      "Batches: 100%|██████████| 1/1 [00:00<00:00,  9.61it/s]"
     ]
    },
    {
     "name": "stdout",
     "output_type": "stream",
     "text": [
      "Candidate: Ryoba Saw — [{'room': 'Cage', 'container': 'Pegboard', 'specific': None}]\n",
      "Candidate: Wall Hanging Supplies — [{'room': 'Cage', 'container': '8d', 'specific': None}]\n",
      "Candidate: More Misc Electronics (Breadboard Circuit Components) — [{'room': 'Main', 'container': 'Black Pegboard 2', 'specific': None}]\n",
      "Candidate: Sewing Machine Needles — [{'room': 'Main', 'container': 'Pegboard 1', 'specific': 'F1'}, {'room': 'Cage', 'container': '5e', 'specific': 'Pegboard Bins|-3'}]\n",
      "Candidate: Extra Lino Cutter Blades — [{'room': 'Cage', 'container': 'Shelf 1E', 'specific': ''}]\n"
     ]
    },
    {
     "name": "stderr",
     "output_type": "stream",
     "text": [
      "\n"
     ]
    },
    {
     "name": "stdout",
     "output_type": "stream",
     "text": [
      "LLM returns: \n",
      "  \n",
      " Cabinet 11\n",
      "\n",
      " *********************************************************** \n",
      " \n",
      "\n",
      " text =  needle files\n",
      "\n",
      " link items =  []\n"
     ]
    },
    {
     "name": "stderr",
     "output_type": "stream",
     "text": [
      "Batches: 100%|██████████| 1/1 [00:00<00:00, 10.29it/s]"
     ]
    },
    {
     "name": "stdout",
     "output_type": "stream",
     "text": [
      "Candidate: Wood Carving Tools — [{'room': 'Main', 'container': 'Cabinet 9', 'specific': 'Shelf 3'}]\n",
      "Candidate: Plastic Scrapers — [{'room': 'Main', 'container': 'Cabinet 4', 'specific': 'Shelf 14'}, {'room': 'Cage', 'container': '5c', 'specific': 'Stack 20|-2'}]\n",
      "Candidate: Spool Pins — [{'room': 'Main', 'container': 'Pegboard 1', 'specific': 'D5'}]\n",
      "Candidate: Curtain Rings — [{'room': 'Main', 'container': 'Pegboard 1', 'specific': 'C5'}, {'room': 'Cage', 'container': '5e', 'specific': 'Pegboard Bins|-3'}]\n",
      "Candidate: Bias tape — [{'room': 'Main', 'container': 'Cabinet 1', 'specific': 'Shelf 13'}]\n"
     ]
    },
    {
     "name": "stderr",
     "output_type": "stream",
     "text": [
      "\n"
     ]
    },
    {
     "name": "stdout",
     "output_type": "stream",
     "text": [
      "LLM returns: \n",
      " Wood Carving Tools \n",
      " Cabinet 9\n",
      "\n",
      " *********************************************************** \n",
      " \n",
      "\n",
      " text =  hole deburrer\n",
      "\n",
      " link items =  ['Noga Ng1200 Rotodrive Countersink']\n"
     ]
    },
    {
     "name": "stderr",
     "output_type": "stream",
     "text": [
      "Batches: 100%|██████████| 1/1 [00:00<00:00,  4.96it/s]\n"
     ]
    },
    {
     "name": "stdout",
     "output_type": "stream",
     "text": [
      "Candidate: Pressure Zone Microphone — [{'room': 'Studio', 'container': 'Studio 1', 'specific': 'Shelf 3'}]\n",
      "Candidate: 607 Wisteria Violet Thread — [{'room': 'Main', 'container': '', 'specific': ''}]\n",
      "Candidate: Nails — [{'room': 'Main', 'container': 'Cabinet 9', 'specific': 'Shelf 6'}]\n",
      "Candidate: USB-C to Mini-USB Cable, Camera Gimbal Kit — [{'room': 'Studio', 'container': 'Studio 5', 'specific': 'Shelf 2'}]\n",
      "Candidate: 507 Emerald Green Thread — [{'room': 'Main', 'container': '', 'specific': ''}]\n",
      "LLM returns: \n",
      "  \n",
      " Cabinet 11\n",
      "\n",
      " *********************************************************** \n",
      " \n",
      "\n",
      " text =  leather and suede glue -\n",
      "\n",
      " link items =  []\n"
     ]
    },
    {
     "name": "stderr",
     "output_type": "stream",
     "text": [
      "Batches: 100%|██████████| 1/1 [00:00<00:00, 12.85it/s]"
     ]
    },
    {
     "name": "stdout",
     "output_type": "stream",
     "text": [
      "Candidate: Impact Driver Bit Kits — [{'room': 'Cage', 'container': '2c', 'specific': None}]\n",
      "Candidate: Leather Sewing Machine — [{'room': 'Cage', 'container': 'Floor', 'specific': None}]\n",
      "Candidate: Matte Mod Podge — [{'room': 'Main', 'container': 'Cabinet 5', 'specific': 'Shelf 1'}, {'room': 'Cage', 'container': '5e', 'specific': ''}]\n",
      "Candidate: Zippers — [{'room': 'Main', 'container': 'Cabinet 1', 'specific': 'Shelf 14'}, {'room': 'Cage', 'container': '5c', 'specific': 'Stack 23|-3'}]\n",
      "Candidate: Leather Decorative Stamp Head — [{'room': 'Cage', 'container': '', 'specific': ''}]\n"
     ]
    },
    {
     "name": "stderr",
     "output_type": "stream",
     "text": [
      "\n"
     ]
    },
    {
     "name": "stdout",
     "output_type": "stream",
     "text": [
      "LLM returns: \n",
      " Matte Mod Podge \n",
      " Cabinet 5\n",
      "\n",
      " *********************************************************** \n",
      " \n",
      "\n",
      " text =  deburring tool\n",
      "\n",
      " link items =  []\n"
     ]
    },
    {
     "name": "stderr",
     "output_type": "stream",
     "text": [
      "Batches: 100%|██████████| 1/1 [00:00<00:00,  8.52it/s]"
     ]
    },
    {
     "name": "stdout",
     "output_type": "stream",
     "text": [
      "Candidate: Hole Deburring Tool — [{'room': 'Main', 'container': 'Cabinet 11', 'specific': 'Shelf 3'}, {'room': 'Cage', 'container': '5c', 'specific': 'Stack 25|1'}]\n",
      "Candidate: Radius Gauge — [{'room': 'Main', 'container': 'Cabinet 11', 'specific': 'Shelf 2'}]\n",
      "Candidate: Deburring Tool — [{'room': 'Main', 'container': 'Cabinet 11', 'specific': 'Shelf 3'}, {'room': 'Cage', 'container': '5c', 'specific': 'Stack 25|2'}]\n",
      "Candidate: Crescent Wrenches — [{'room': 'Main', 'container': 'Cabinet 11', 'specific': 'Shelf 1'}]\n",
      "Candidate: Round Nose Pliers — [{'room': 'Main', 'container': 'Cabinet 3', 'specific': 'Shelf 3'}, {'room': 'Cage', 'container': '5c', 'specific': 'Stack 12|0'}]\n"
     ]
    },
    {
     "name": "stderr",
     "output_type": "stream",
     "text": [
      "\n"
     ]
    },
    {
     "name": "stdout",
     "output_type": "stream",
     "text": [
      "LLM returns: \n",
      " Deburring Tool \n",
      " Cabinet 11\n",
      "\n",
      " *********************************************************** \n",
      " \n",
      "\n",
      " text =  mallet\n",
      "\n",
      " link items =  []\n"
     ]
    },
    {
     "name": "stderr",
     "output_type": "stream",
     "text": [
      "Batches: 100%|██████████| 1/1 [00:00<00:00,  9.15it/s]"
     ]
    },
    {
     "name": "stdout",
     "output_type": "stream",
     "text": [
      "Candidate: Rubber Cement — [{'room': 'Cage', 'container': 'Flamable', 'specific': ''}]\n",
      "Candidate: Laminator Sheets (Legal, 11.5\" x 17.5\") — [{'room': 'Cage', 'container': '1b', 'specific': ''}]\n",
      "Candidate: Chisel Sharpener — [{'room': 'Cage', 'container': '1c', 'specific': ''}]\n",
      "Candidate: Soldering Irons — [{'room': 'Electronics', 'container': None, 'specific': None}]\n",
      "Candidate: Raffia — [{'room': 'Main', 'container': 'Cabinet 2', 'specific': 'Shelf 21'}, {'room': 'Cage', 'container': '5c', 'specific': 'Stack 28|-3'}]\n"
     ]
    },
    {
     "name": "stderr",
     "output_type": "stream",
     "text": [
      "\n"
     ]
    },
    {
     "name": "stdout",
     "output_type": "stream",
     "text": [
      "LLM returns: \n",
      "  \n",
      " Cabinet 11\n",
      "\n",
      " *********************************************************** \n",
      " \n",
      "\n",
      " text =  quilt basting spray -\n",
      "\n",
      " link items =  []\n"
     ]
    },
    {
     "name": "stderr",
     "output_type": "stream",
     "text": [
      "Batches: 100%|██████████| 1/1 [00:00<00:00, 21.43it/s]"
     ]
    },
    {
     "name": "stdout",
     "output_type": "stream",
     "text": [
      "Candidate: Pencil sharpener — [{'room': 'Main', 'container': 'Counter', 'specific': 'by the lockers'}]\n",
      "Candidate: Ball Bearings — [{'room': 'Cage', 'container': 'Movable Shelves', 'specific': None}]\n",
      "Candidate: Halogen Modeling Light Bulb, Impact — [{'room': 'Studio', 'container': 'Studio 3', 'specific': 'Shelf 4'}]\n",
      "Candidate: Wood Polish & Conditioner — [{'room': 'Cage', 'container': '7c', 'specific': None}]\n",
      "Candidate: Cricut Lint Roller — [{'room': 'Cage', 'container': '1d', 'specific': ''}, {'room': 'Backstock', 'container': 'Shelf 2', 'specific': '|1'}]\n"
     ]
    },
    {
     "name": "stderr",
     "output_type": "stream",
     "text": [
      "\n"
     ]
    },
    {
     "name": "stdout",
     "output_type": "stream",
     "text": [
      "LLM returns: \n",
      "  \n",
      " Spraypaint\n",
      "\n",
      " *********************************************************** \n",
      " \n",
      "\n",
      " text =  small clamps\n",
      "\n",
      " link items =  []\n"
     ]
    },
    {
     "name": "stderr",
     "output_type": "stream",
     "text": [
      "Batches: 100%|██████████| 1/1 [00:00<00:00, 12.82it/s]"
     ]
    },
    {
     "name": "stdout",
     "output_type": "stream",
     "text": [
      "Candidate: Eyelets — [{'room': 'Main', 'container': 'Cabinet 3', 'specific': 'Shelf 9'}, {'room': 'Cage', 'container': '5d', 'specific': 'Stack 3|-1'}]\n",
      "Candidate: Pliers — [{'room': 'Main', 'container': 'Cabinet 11', 'specific': 'Shelf 8'}]\n",
      "Candidate: Drying Rack — [{'room': 'Main', 'container': 'Sink by fabric', 'specific': ''}]\n",
      "Candidate: Large Clamps (12\") — [{'room': 'Main', 'container': 'Cabinet 11', 'specific': 'Shelf 9'}, {'room': 'Backstock', 'container': 'Shelf 2', 'specific': '|0'}]\n",
      "Candidate: Ink for Dip Pens — [{'room': 'Main', 'container': 'Cabinet 4', 'specific': 'Shelf 22'}, {'room': 'Cage', 'container': '5c', 'specific': 'Stack 20|2'}]\n"
     ]
    },
    {
     "name": "stderr",
     "output_type": "stream",
     "text": [
      "\n"
     ]
    },
    {
     "name": "stdout",
     "output_type": "stream",
     "text": [
      "LLM returns: \n",
      " Large Clamps (12\") \n",
      " Cabinet 11\n",
      "\n",
      " *********************************************************** \n",
      " \n",
      "\n",
      " text =  large clamps\n",
      "\n",
      " link items =  []\n"
     ]
    },
    {
     "name": "stderr",
     "output_type": "stream",
     "text": [
      "Batches: 100%|██████████| 1/1 [00:00<00:00, 10.70it/s]"
     ]
    },
    {
     "name": "stdout",
     "output_type": "stream",
     "text": [
      "Candidate: Pliers — [{'room': 'Main', 'container': 'Cabinet 11', 'specific': 'Shelf 8'}]\n",
      "Candidate: Eyelets — [{'room': 'Main', 'container': 'Cabinet 3', 'specific': 'Shelf 9'}, {'room': 'Cage', 'container': '5d', 'specific': 'Stack 3|-1'}]\n",
      "Candidate: Soldering Tip Tinner — [{'room': 'Backstock', 'container': 'Shelf 2', 'specific': ''}]\n",
      "Candidate: Drying Rack — [{'room': 'Main', 'container': 'Sink by fabric', 'specific': ''}]\n",
      "Candidate: Large Clamps (12\") — [{'room': 'Main', 'container': 'Cabinet 11', 'specific': 'Shelf 9'}, {'room': 'Backstock', 'container': 'Shelf 2', 'specific': '|0'}]\n"
     ]
    },
    {
     "name": "stderr",
     "output_type": "stream",
     "text": [
      "\n"
     ]
    },
    {
     "name": "stdout",
     "output_type": "stream",
     "text": [
      "LLM returns: \n",
      " Large Clamps (12\") \n",
      " Cabinet 11\n",
      "\n",
      " *********************************************************** \n",
      " \n",
      "\n",
      " text =  tacky glue -\n",
      "\n",
      " link items =  []\n"
     ]
    },
    {
     "name": "stderr",
     "output_type": "stream",
     "text": [
      "Batches: 100%|██████████| 1/1 [00:00<00:00, 18.04it/s]"
     ]
    },
    {
     "name": "stdout",
     "output_type": "stream",
     "text": [
      "Candidate: Zippers — [{'room': 'Main', 'container': 'Cabinet 1', 'specific': 'Shelf 14'}, {'room': 'Cage', 'container': '5c', 'specific': 'Stack 23|-3'}]\n",
      "Candidate: Leather Sewing Machine — [{'room': 'Cage', 'container': 'Floor', 'specific': None}]\n",
      "Candidate: Tacky Glue — [{'room': 'Main', 'container': 'Cabinet 5', 'specific': 'Shelf 1'}, {'room': 'Cage', 'container': '5d', 'specific': 'Stack 4|1'}]\n",
      "Candidate: Gaff Tape — [{'room': 'Studio', 'container': 'A2', 'specific': None}, {'room': 'Outdoor Storage', 'container': '', 'specific': '|3'}]\n",
      "Candidate: Matte Mod Podge — [{'room': 'Main', 'container': 'Cabinet 5', 'specific': 'Shelf 1'}, {'room': 'Cage', 'container': '5e', 'specific': ''}]\n"
     ]
    },
    {
     "name": "stderr",
     "output_type": "stream",
     "text": [
      "\n"
     ]
    },
    {
     "name": "stdout",
     "output_type": "stream",
     "text": [
      "LLM returns: \n",
      " Tacky Glue \n",
      " Cabinet 5\n",
      "\n",
      " *********************************************************** \n",
      " \n",
      "\n",
      " text =  white glue -\n",
      "\n",
      " link items =  []\n"
     ]
    },
    {
     "name": "stderr",
     "output_type": "stream",
     "text": [
      "Batches: 100%|██████████| 1/1 [00:00<00:00, 19.28it/s]"
     ]
    },
    {
     "name": "stdout",
     "output_type": "stream",
     "text": [
      "Candidate: Matte Mod Podge — [{'room': 'Main', 'container': 'Cabinet 5', 'specific': 'Shelf 1'}, {'room': 'Cage', 'container': '5e', 'specific': ''}]\n",
      "Candidate: Tacky Glue — [{'room': 'Main', 'container': 'Cabinet 5', 'specific': 'Shelf 1'}, {'room': 'Cage', 'container': '5d', 'specific': 'Stack 4|1'}]\n",
      "Candidate: Leather Sewing Machine — [{'room': 'Cage', 'container': 'Floor', 'specific': None}]\n",
      "Candidate: Zippers — [{'room': 'Main', 'container': 'Cabinet 1', 'specific': 'Shelf 14'}, {'room': 'Cage', 'container': '5c', 'specific': 'Stack 23|-3'}]\n",
      "Candidate: Gaff Tape — [{'room': 'Studio', 'container': 'A2', 'specific': None}, {'room': 'Outdoor Storage', 'container': '', 'specific': '|3'}]\n"
     ]
    },
    {
     "name": "stderr",
     "output_type": "stream",
     "text": [
      "\n"
     ]
    },
    {
     "name": "stdout",
     "output_type": "stream",
     "text": [
      "LLM returns: \n",
      " Tacky Glue \n",
      " Cabinet 5\n",
      "\n",
      " *********************************************************** \n",
      " \n",
      "\n",
      " text =  glue sticks -\n",
      "\n",
      " link items =  []\n"
     ]
    },
    {
     "name": "stderr",
     "output_type": "stream",
     "text": [
      "Batches: 100%|██████████| 1/1 [00:00<00:00, 18.42it/s]"
     ]
    },
    {
     "name": "stdout",
     "output_type": "stream",
     "text": [
      "Candidate: Leatherworking Tools — [{'room': 'Main', 'container': 'Cabinet 9', 'specific': 'Shelf 4'}]\n",
      "Candidate: Nuts and Bolts — [{'room': 'Main', 'container': 'Cabinet 9', 'specific': 'Shelf 9'}]\n",
      "Candidate: Wood Glue — [{'room': 'Main', 'container': 'Cabinet 5', 'specific': 'Shelf 1'}]\n",
      "Candidate: Matte Mod Podge — [{'room': 'Main', 'container': 'Cabinet 5', 'specific': 'Shelf 1'}, {'room': 'Cage', 'container': '5e', 'specific': ''}]\n",
      "Candidate: Zippers — [{'room': 'Main', 'container': 'Cabinet 1', 'specific': 'Shelf 14'}, {'room': 'Cage', 'container': '5c', 'specific': 'Stack 23|-3'}]\n"
     ]
    },
    {
     "name": "stderr",
     "output_type": "stream",
     "text": [
      "\n"
     ]
    },
    {
     "name": "stdout",
     "output_type": "stream",
     "text": [
      "LLM returns: \n",
      " Wood Glue \n",
      " Cabinet 5\n",
      "\n",
      " *********************************************************** \n",
      " \n",
      "\n",
      " text =  scotch tape -\n",
      "\n",
      " link items =  []\n"
     ]
    },
    {
     "name": "stderr",
     "output_type": "stream",
     "text": [
      "Batches: 100%|██████████| 1/1 [00:00<00:00,  9.76it/s]"
     ]
    },
    {
     "name": "stdout",
     "output_type": "stream",
     "text": [
      "Candidate: 3.5 mm Male to XLR Male Cable Short — [{'room': 'Studio', 'container': 'Studio 2', 'specific': 'Shelf 8'}]\n",
      "Candidate: 3.5 mm Male to XLR Female Cable Short — [{'room': 'Studio', 'container': 'Studio 2', 'specific': 'Shelf 8'}]\n",
      "Candidate: Seam Rippers — [{'room': 'Main', 'container': 'Pegboard 1', 'specific': 'E5'}, {'room': 'Cage', 'container': '5c', 'specific': 'Stack 7|-3'}]\n",
      "Candidate: Blue Masking Tape (2\") — [{'room': 'Main', 'container': 'Cabinet 5', 'specific': 'Top'}, {'room': 'Cage', 'container': '5e', 'specific': '|-3'}]\n",
      "Candidate: Color Gel Pens — [{'room': 'Main', 'container': 'Cabinet 4', 'specific': 'Shelf 13'}]\n"
     ]
    },
    {
     "name": "stderr",
     "output_type": "stream",
     "text": [
      "\n"
     ]
    },
    {
     "name": "stdout",
     "output_type": "stream",
     "text": [
      "LLM returns: \n",
      " Blue Masking Tape (2\") \n",
      " Cabinet 5\n",
      "\n",
      " *********************************************************** \n",
      " \n",
      "\n",
      " text =  packing tape dispenser -\n",
      "\n",
      " link items =  []\n"
     ]
    },
    {
     "name": "stderr",
     "output_type": "stream",
     "text": [
      "Batches: 100%|██████████| 1/1 [00:00<00:00,  9.59it/s]"
     ]
    },
    {
     "name": "stdout",
     "output_type": "stream",
     "text": [
      "Candidate: Small Hot Glue Guns — [{'room': 'Main', 'container': 'Cabinet 5', 'specific': 'Shelf 2'}, {'room': 'Cage', 'container': '5d', 'specific': 'Stack 5|2'}]\n",
      "Candidate: 3.5 mm Male to XLR Female Cable Short — [{'room': 'Studio', 'container': 'Studio 2', 'specific': 'Shelf 8'}]\n",
      "Candidate: Scotch Tape — [{'room': 'Main', 'container': 'Cabinet 5', 'specific': 'Shelf 2'}, {'room': 'Cage', 'container': '5c', 'specific': 'Stack 14|0'}, {'room': 'Cage', 'container': '5c', 'specific': 'Stack 7'}, {'room': 'Cage', 'container': '5c', 'specific': 'Stack 6'}]\n",
      "Candidate: Jump Rings — [{'room': 'Main', 'container': 'Cabinet 3', 'specific': 'Shelf 9'}, {'room': 'Cage', 'container': '5d', 'specific': 'Stack 3|-2'}]\n",
      "Candidate: Blue Masking Tape (2\") — [{'room': 'Main', 'container': 'Cabinet 5', 'specific': 'Top'}, {'room': 'Cage', 'container': '5e', 'specific': '|-3'}]\n"
     ]
    },
    {
     "name": "stderr",
     "output_type": "stream",
     "text": [
      "\n"
     ]
    },
    {
     "name": "stdout",
     "output_type": "stream",
     "text": [
      "LLM returns: \n",
      " Scotch Tape \n",
      " Cabinet 5\n",
      "\n",
      " *********************************************************** \n",
      " \n",
      "\n",
      " text =  packing tape -\n",
      "\n",
      " link items =  []\n"
     ]
    },
    {
     "name": "stderr",
     "output_type": "stream",
     "text": [
      "Batches: 100%|██████████| 1/1 [00:00<00:00, 17.36it/s]"
     ]
    },
    {
     "name": "stdout",
     "output_type": "stream",
     "text": [
      "Candidate: 3.5 mm Male to XLR Female Cable Short — [{'room': 'Studio', 'container': 'Studio 2', 'specific': 'Shelf 8'}]\n",
      "Candidate: 3.5 mm Male to XLR Male Cable Short — [{'room': 'Studio', 'container': 'Studio 2', 'specific': 'Shelf 8'}]\n",
      "Candidate: Small Hot Glue Guns — [{'room': 'Main', 'container': 'Cabinet 5', 'specific': 'Shelf 2'}, {'room': 'Cage', 'container': '5d', 'specific': 'Stack 5|2'}]\n",
      "Candidate: Seam Rippers — [{'room': 'Main', 'container': 'Pegboard 1', 'specific': 'E5'}, {'room': 'Cage', 'container': '5c', 'specific': 'Stack 7|-3'}]\n",
      "Candidate: Color Gel Pens — [{'room': 'Main', 'container': 'Cabinet 4', 'specific': 'Shelf 13'}]\n"
     ]
    },
    {
     "name": "stderr",
     "output_type": "stream",
     "text": [
      "\n"
     ]
    },
    {
     "name": "stdout",
     "output_type": "stream",
     "text": [
      "LLM returns: \n",
      " Small Hot Glue Guns \n",
      " Cabinet 5\n",
      "\n",
      " *********************************************************** \n",
      " \n",
      "\n",
      " text =  electrical tape -\n",
      "\n",
      " link items =  []\n"
     ]
    },
    {
     "name": "stderr",
     "output_type": "stream",
     "text": [
      "Batches: 100%|██████████| 1/1 [00:00<00:00,  6.39it/s]"
     ]
    },
    {
     "name": "stdout",
     "output_type": "stream",
     "text": [
      "Candidate: Blue Masking Tape (2\") — [{'room': 'Main', 'container': 'Cabinet 5', 'specific': 'Top'}, {'room': 'Cage', 'container': '5e', 'specific': '|-3'}]\n",
      "Candidate: 3.5 mm Male to XLR Male Cable Short — [{'room': 'Studio', 'container': 'Studio 2', 'specific': 'Shelf 8'}]\n",
      "Candidate: Scotch Tape — [{'room': 'Main', 'container': 'Cabinet 5', 'specific': 'Shelf 2'}, {'room': 'Cage', 'container': '5c', 'specific': 'Stack 14|0'}, {'room': 'Cage', 'container': '5c', 'specific': 'Stack 7'}, {'room': 'Cage', 'container': '5c', 'specific': 'Stack 6'}]\n",
      "Candidate: Color Gel Pens — [{'room': 'Main', 'container': 'Cabinet 4', 'specific': 'Shelf 13'}]\n",
      "Candidate: Seam Rippers — [{'room': 'Main', 'container': 'Pegboard 1', 'specific': 'E5'}, {'room': 'Cage', 'container': '5c', 'specific': 'Stack 7|-3'}]\n"
     ]
    },
    {
     "name": "stderr",
     "output_type": "stream",
     "text": [
      "\n"
     ]
    },
    {
     "name": "stdout",
     "output_type": "stream",
     "text": [
      "LLM returns: \n",
      " Blue Masking Tape (2\") \n",
      " Cabinet 5\n",
      "\n",
      " *********************************************************** \n",
      " \n",
      "\n",
      " text =  multicolor duck tape -\n",
      "\n",
      " link items =  ['GiftExpress 12 Assorted Colored Duct Tapes 10 Yards x 2 Inch Rolls,12 Multi Purposes Bright Colors Tapes Great Do It Yourself Art Kit Home School']\n"
     ]
    },
    {
     "name": "stderr",
     "output_type": "stream",
     "text": [
      "Batches: 100%|██████████| 1/1 [00:00<00:00,  6.44it/s]"
     ]
    },
    {
     "name": "stdout",
     "output_type": "stream",
     "text": [
      "Candidate: Beige Masking Tape (1\") — [{'room': 'Main', 'container': 'Cabinet 5', 'specific': 'Top'}, {'room': 'Cage', 'container': '5e', 'specific': '|-3'}]\n",
      "Candidate: Color Gel Pens — [{'room': 'Main', 'container': 'Cabinet 4', 'specific': 'Shelf 13'}]\n",
      "Candidate: 3.5 mm Male to XLR Female Cable Short — [{'room': 'Studio', 'container': 'Studio 2', 'specific': 'Shelf 8'}]\n",
      "Candidate: Ratchet Kit — [{'room': 'Cage', 'container': '2b', 'specific': None}]\n",
      "Candidate: Staples — [{'room': 'Main', 'container': 'Cabinet 3', 'specific': 'Shelf 16'}, {'room': 'Cage', 'container': '5c', 'specific': 'Stack 13|-2'}]\n"
     ]
    },
    {
     "name": "stderr",
     "output_type": "stream",
     "text": [
      "\n"
     ]
    },
    {
     "name": "stdout",
     "output_type": "stream",
     "text": [
      "LLM returns: \n",
      " Beige Masking Tape (1\") \n",
      " Cabinet 5\n",
      "\n",
      " *********************************************************** \n",
      " \n",
      "\n",
      " text =  spring clamps\n",
      "\n",
      " link items =  []\n"
     ]
    },
    {
     "name": "stderr",
     "output_type": "stream",
     "text": [
      "Batches: 100%|██████████| 1/1 [00:00<00:00,  7.66it/s]"
     ]
    },
    {
     "name": "stdout",
     "output_type": "stream",
     "text": [
      "Candidate: Ink for Dip Pens — [{'room': 'Main', 'container': 'Cabinet 4', 'specific': 'Shelf 22'}, {'room': 'Cage', 'container': '5c', 'specific': 'Stack 20|2'}]\n",
      "Candidate: Large Clamps (12\") — [{'room': 'Main', 'container': 'Cabinet 11', 'specific': 'Shelf 9'}, {'room': 'Backstock', 'container': 'Shelf 2', 'specific': '|0'}]\n",
      "Candidate: Eyelets — [{'room': 'Main', 'container': 'Cabinet 3', 'specific': 'Shelf 9'}, {'room': 'Cage', 'container': '5d', 'specific': 'Stack 3|-1'}]\n",
      "Candidate: Rod, 15 mm x 14\"  — [{'room': 'Studio', 'container': 'A3', 'specific': None}]\n",
      "Candidate: Drying Rack — [{'room': 'Main', 'container': 'Sink by fabric', 'specific': ''}]\n"
     ]
    },
    {
     "name": "stderr",
     "output_type": "stream",
     "text": [
      "\n"
     ]
    },
    {
     "name": "stdout",
     "output_type": "stream",
     "text": [
      "LLM returns: \n",
      " Large Clamps (12\") \n",
      " Cabinet 11\n",
      "\n",
      " *********************************************************** \n",
      " \n",
      "\n",
      " text =  red buttons -\n",
      "\n",
      " link items =  []\n"
     ]
    },
    {
     "name": "stderr",
     "output_type": "stream",
     "text": [
      "Batches: 100%|██████████| 1/1 [00:00<00:00,  9.90it/s]"
     ]
    },
    {
     "name": "stdout",
     "output_type": "stream",
     "text": [
      "Candidate: White Paracord — [{'room': 'Main', 'container': 'Pegboard 1', 'specific': 'Front'}]\n",
      "Candidate: Orange Buttons — [{'room': 'Main', 'container': 'Pegboard 1', 'specific': 'A2'}, {'room': 'Cage', 'container': '5d', 'specific': 'Stack 10|-2'}]\n",
      "Candidate: Red Buttons — [{'room': 'Main', 'container': 'Pegboard 1', 'specific': 'A1'}, {'room': 'Cage', 'container': '5d', 'specific': 'Stack 10|-2'}]\n",
      "Candidate: Purple Buttons — [{'room': 'Main', 'container': 'Pegboard 1', 'specific': 'A6'}, {'room': 'Cage', 'container': '5d', 'specific': 'Stack 10|-2'}]\n",
      "Candidate: Yellow Buttons — [{'room': 'Main', 'container': 'Pegboard 1', 'specific': 'A3'}, {'room': 'Cage', 'container': '5d', 'specific': 'Stack 10|-2'}]\n"
     ]
    },
    {
     "name": "stderr",
     "output_type": "stream",
     "text": [
      "\n"
     ]
    },
    {
     "name": "stdout",
     "output_type": "stream",
     "text": [
      "LLM returns: \n",
      " Red Buttons \n",
      " Pegboard 1\n",
      "\n",
      " *********************************************************** \n",
      " \n",
      "\n",
      " text =  orange buttons -\n",
      "\n",
      " link items =  []\n"
     ]
    },
    {
     "name": "stderr",
     "output_type": "stream",
     "text": [
      "Batches: 100%|██████████| 1/1 [00:00<00:00, 16.56it/s]"
     ]
    },
    {
     "name": "stdout",
     "output_type": "stream",
     "text": [
      "Candidate: Red Buttons — [{'room': 'Main', 'container': 'Pegboard 1', 'specific': 'A1'}, {'room': 'Cage', 'container': '5d', 'specific': 'Stack 10|-2'}]\n",
      "Candidate: Orange Buttons — [{'room': 'Main', 'container': 'Pegboard 1', 'specific': 'A2'}, {'room': 'Cage', 'container': '5d', 'specific': 'Stack 10|-2'}]\n",
      "Candidate: Purple Buttons — [{'room': 'Main', 'container': 'Pegboard 1', 'specific': 'A6'}, {'room': 'Cage', 'container': '5d', 'specific': 'Stack 10|-2'}]\n",
      "Candidate: Metallic Cardstock — [{'room': 'Main', 'container': 'Cabinet 7', 'specific': ''}, {'room': 'Backstock', 'container': 'Shelf 4', 'specific': '|-1'}]\n",
      "Candidate: Yellow Buttons — [{'room': 'Main', 'container': 'Pegboard 1', 'specific': 'A3'}, {'room': 'Cage', 'container': '5d', 'specific': 'Stack 10|-2'}]\n"
     ]
    },
    {
     "name": "stderr",
     "output_type": "stream",
     "text": [
      "\n"
     ]
    },
    {
     "name": "stdout",
     "output_type": "stream",
     "text": [
      "LLM returns: \n",
      " Orange Buttons \n",
      " Pegboard 1\n",
      "\n",
      " *********************************************************** \n",
      " \n",
      "\n",
      " text =  yellow buttons -\n",
      "\n",
      " link items =  []\n"
     ]
    },
    {
     "name": "stderr",
     "output_type": "stream",
     "text": [
      "Batches: 100%|██████████| 1/1 [00:00<00:00, 18.09it/s]"
     ]
    },
    {
     "name": "stdout",
     "output_type": "stream",
     "text": [
      "Candidate: Orange Buttons — [{'room': 'Main', 'container': 'Pegboard 1', 'specific': 'A2'}, {'room': 'Cage', 'container': '5d', 'specific': 'Stack 10|-2'}]\n",
      "Candidate: Red Buttons — [{'room': 'Main', 'container': 'Pegboard 1', 'specific': 'A1'}, {'room': 'Cage', 'container': '5d', 'specific': 'Stack 10|-2'}]\n",
      "Candidate: White Paracord — [{'room': 'Main', 'container': 'Pegboard 1', 'specific': 'Front'}]\n",
      "Candidate: Grey Buttons — [{'room': 'Main', 'container': 'Pegboard 1', 'specific': 'B2'}, {'room': 'Cage', 'container': '5d', 'specific': 'Stack 10|-2'}]\n",
      "Candidate: Yellow Buttons — [{'room': 'Main', 'container': 'Pegboard 1', 'specific': 'A3'}, {'room': 'Cage', 'container': '5d', 'specific': 'Stack 10|-2'}]\n"
     ]
    },
    {
     "name": "stderr",
     "output_type": "stream",
     "text": [
      "\n"
     ]
    },
    {
     "name": "stdout",
     "output_type": "stream",
     "text": [
      "LLM returns: \n",
      " Yellow Buttons \n",
      " Pegboard 1\n",
      "\n",
      " *********************************************************** \n",
      " \n",
      "\n",
      " text =  green buttons -\n",
      "\n",
      " link items =  ['About 400 Wood Coconut Shell Button Resin Buttons, Sewing DIY Craft Buttons, Hand-Painted Decorative Buttons']\n"
     ]
    },
    {
     "name": "stderr",
     "output_type": "stream",
     "text": [
      "Batches: 100%|██████████| 1/1 [00:00<00:00,  6.74it/s]"
     ]
    },
    {
     "name": "stdout",
     "output_type": "stream",
     "text": [
      "Candidate: Beige Buttons — [{'room': 'Main', 'container': 'Pegboard 1', 'specific': 'B5'}, {'room': 'Cage', 'container': '5d', 'specific': 'Stack 10|-2'}]\n",
      "Candidate: Metal Plates (For Button Making) — [{'room': 'Cage', 'container': '1c', 'specific': None}]\n",
      "Candidate: Iron — [{'room': 'Cage', 'container': '3c', 'specific': None}]\n",
      "Candidate: Loose Large Button Making Supplies (2.25\") — [{'room': 'Cage', 'container': '1c', 'specific': None}, {'room': 'Backstock', 'container': 'Floor', 'specific': '|-3'}]\n",
      "Candidate: Laminator — [{'room': 'Cage', 'container': '1b', 'specific': ''}]\n"
     ]
    },
    {
     "name": "stderr",
     "output_type": "stream",
     "text": [
      "\n"
     ]
    },
    {
     "name": "stdout",
     "output_type": "stream",
     "text": [
      "LLM returns: \n",
      " Beige Buttons \n",
      " Pegboard 1\n",
      "\n",
      " *********************************************************** \n",
      " \n",
      "\n",
      " text =  blue buttons -\n",
      "\n",
      " link items =  []\n"
     ]
    },
    {
     "name": "stderr",
     "output_type": "stream",
     "text": [
      "Batches: 100%|██████████| 1/1 [00:00<00:00, 14.95it/s]"
     ]
    },
    {
     "name": "stdout",
     "output_type": "stream",
     "text": [
      "Candidate: Green Buttons — [{'room': 'Main', 'container': 'Pegboard 1', 'specific': 'A4'}, {'room': 'Cage', 'container': '5d', 'specific': 'Stack 10|-2'}]\n",
      "Candidate: Orange Buttons — [{'room': 'Main', 'container': 'Pegboard 1', 'specific': 'A2'}, {'room': 'Cage', 'container': '5d', 'specific': 'Stack 10|-2'}]\n",
      "Candidate: White Paracord — [{'room': 'Main', 'container': 'Pegboard 1', 'specific': 'Front'}]\n",
      "Candidate: Metallic Cardstock — [{'room': 'Main', 'container': 'Cabinet 7', 'specific': ''}, {'room': 'Backstock', 'container': 'Shelf 4', 'specific': '|-1'}]\n",
      "Candidate: Purple Buttons — [{'room': 'Main', 'container': 'Pegboard 1', 'specific': 'A6'}, {'room': 'Cage', 'container': '5d', 'specific': 'Stack 10|-2'}]\n"
     ]
    },
    {
     "name": "stderr",
     "output_type": "stream",
     "text": [
      "\n"
     ]
    },
    {
     "name": "stdout",
     "output_type": "stream",
     "text": [
      "LLM returns: \n",
      " Green Buttons \n",
      " Pegboard 1\n",
      "\n",
      " *********************************************************** \n",
      " \n",
      "\n",
      " text =  purple buttons -\n",
      "\n",
      " link items =  []\n"
     ]
    },
    {
     "name": "stderr",
     "output_type": "stream",
     "text": [
      "Batches: 100%|██████████| 1/1 [00:00<00:00, 16.04it/s]"
     ]
    },
    {
     "name": "stdout",
     "output_type": "stream",
     "text": [
      "Candidate: Metallic Cardstock — [{'room': 'Main', 'container': 'Cabinet 7', 'specific': ''}, {'room': 'Backstock', 'container': 'Shelf 4', 'specific': '|-1'}]\n",
      "Candidate: Purple Buttons — [{'room': 'Main', 'container': 'Pegboard 1', 'specific': 'A6'}, {'room': 'Cage', 'container': '5d', 'specific': 'Stack 10|-2'}]\n",
      "Candidate: Red Buttons — [{'room': 'Main', 'container': 'Pegboard 1', 'specific': 'A1'}, {'room': 'Cage', 'container': '5d', 'specific': 'Stack 10|-2'}]\n",
      "Candidate: Green Buttons — [{'room': 'Main', 'container': 'Pegboard 1', 'specific': 'A4'}, {'room': 'Cage', 'container': '5d', 'specific': 'Stack 10|-2'}]\n",
      "Candidate: Yellow Buttons — [{'room': 'Main', 'container': 'Pegboard 1', 'specific': 'A3'}, {'room': 'Cage', 'container': '5d', 'specific': 'Stack 10|-2'}]\n"
     ]
    },
    {
     "name": "stderr",
     "output_type": "stream",
     "text": [
      "\n"
     ]
    },
    {
     "name": "stdout",
     "output_type": "stream",
     "text": [
      "LLM returns: \n",
      " Purple Buttons \n",
      " Pegboard 1\n",
      "\n",
      " *********************************************************** \n",
      " \n",
      "\n",
      " text =  pink buttons -\n",
      "\n",
      " link items =  []\n"
     ]
    },
    {
     "name": "stderr",
     "output_type": "stream",
     "text": [
      "Batches: 100%|██████████| 1/1 [00:00<00:00, 18.44it/s]"
     ]
    },
    {
     "name": "stdout",
     "output_type": "stream",
     "text": [
      "Candidate: Purple Buttons — [{'room': 'Main', 'container': 'Pegboard 1', 'specific': 'A6'}, {'room': 'Cage', 'container': '5d', 'specific': 'Stack 10|-2'}]\n",
      "Candidate: Red Buttons — [{'room': 'Main', 'container': 'Pegboard 1', 'specific': 'A1'}, {'room': 'Cage', 'container': '5d', 'specific': 'Stack 10|-2'}]\n",
      "Candidate: Metallic Cardstock — [{'room': 'Main', 'container': 'Cabinet 7', 'specific': ''}, {'room': 'Backstock', 'container': 'Shelf 4', 'specific': '|-1'}]\n",
      "Candidate: White Paracord — [{'room': 'Main', 'container': 'Pegboard 1', 'specific': 'Front'}]\n",
      "Candidate: Yellow Buttons — [{'room': 'Main', 'container': 'Pegboard 1', 'specific': 'A3'}, {'room': 'Cage', 'container': '5d', 'specific': 'Stack 10|-2'}]\n"
     ]
    },
    {
     "name": "stderr",
     "output_type": "stream",
     "text": [
      "\n"
     ]
    },
    {
     "name": "stdout",
     "output_type": "stream",
     "text": [
      "LLM returns: \n",
      " Red Buttons \n",
      " Pegboard 1\n",
      "\n",
      " *********************************************************** \n",
      " \n",
      "\n",
      " text =  large buttons -\n",
      "\n",
      " link items =  []\n"
     ]
    },
    {
     "name": "stderr",
     "output_type": "stream",
     "text": [
      "Batches: 100%|██████████| 1/1 [00:00<00:00,  7.65it/s]"
     ]
    },
    {
     "name": "stdout",
     "output_type": "stream",
     "text": [
      "Candidate: Pink Buttons — [{'room': 'Main', 'container': 'Pegboard 1', 'specific': 'A7'}, {'room': 'Cage', 'container': '5d', 'specific': 'Stack 10|-2'}]\n",
      "Candidate: Small Button Maker (1\") — [{'room': 'Cage', 'container': '1c', 'specific': None}]\n",
      "Candidate: Pre-Packaged Sets of 50 Large Buttons (2.25\") — [{'room': 'Cage', 'container': '1c', 'specific': None}]\n",
      "Candidate: Iron — [{'room': 'Cage', 'container': '3c', 'specific': None}]\n",
      "Candidate: Beige Buttons — [{'room': 'Main', 'container': 'Pegboard 1', 'specific': 'B5'}, {'room': 'Cage', 'container': '5d', 'specific': 'Stack 10|-2'}]\n"
     ]
    },
    {
     "name": "stderr",
     "output_type": "stream",
     "text": [
      "\n"
     ]
    },
    {
     "name": "stdout",
     "output_type": "stream",
     "text": [
      "LLM returns: \n",
      " Pink Buttons \n",
      " Pegboard 1\n",
      "\n",
      " *********************************************************** \n",
      " \n",
      "\n",
      " text =  black buttons -\n",
      "\n",
      " link items =  []\n"
     ]
    },
    {
     "name": "stderr",
     "output_type": "stream",
     "text": [
      "Batches: 100%|██████████| 1/1 [00:00<00:00,  4.62it/s]\n"
     ]
    },
    {
     "name": "stdout",
     "output_type": "stream",
     "text": [
      "Candidate: Large Buttons — [{'room': 'Main', 'container': 'Pegboard 1', 'specific': 'G3, G5'}, {'room': 'Cage', 'container': '5d', 'specific': 'Stack 10|-3'}]\n",
      "Candidate: Grey Buttons — [{'room': 'Main', 'container': 'Pegboard 1', 'specific': 'B2'}, {'room': 'Cage', 'container': '5d', 'specific': 'Stack 10|-2'}]\n",
      "Candidate: Black Buttons — [{'room': 'Main', 'container': 'Pegboard 1', 'specific': 'B1'}, {'room': 'Cage', 'container': '5d', 'specific': 'Stack 10|-2'}]\n",
      "Candidate: White Buttons — [{'room': 'Main', 'container': 'Pegboard 1', 'specific': 'B3'}, {'room': 'Cage', 'container': '5d', 'specific': 'Stack 10|-2'}]\n",
      "Candidate: Orange Buttons — [{'room': 'Main', 'container': 'Pegboard 1', 'specific': 'A2'}, {'room': 'Cage', 'container': '5d', 'specific': 'Stack 10|-2'}]\n",
      "LLM returns: \n",
      " Black Buttons \n",
      " Pegboard 1\n",
      "\n",
      " *********************************************************** \n",
      " \n",
      "\n",
      " text =  gray buttons -\n",
      "\n",
      " link items =  ['600-700Pcs Gray Buttons for Crafts Bulk Assorted Size Grey Craft Buttons for Art, DIY Crafting, Christmas Decoration']\n"
     ]
    },
    {
     "name": "stderr",
     "output_type": "stream",
     "text": [
      "Batches: 100%|██████████| 1/1 [00:00<00:00,  9.07it/s]"
     ]
    },
    {
     "name": "stdout",
     "output_type": "stream",
     "text": [
      "Candidate: Black Buttons — [{'room': 'Main', 'container': 'Pegboard 1', 'specific': 'B1'}, {'room': 'Cage', 'container': '5d', 'specific': 'Stack 10|-2'}]\n",
      "Candidate: Metal Plates (For Button Making) — [{'room': 'Cage', 'container': '1c', 'specific': None}]\n",
      "Candidate: Pink Buttons — [{'room': 'Main', 'container': 'Pegboard 1', 'specific': 'A7'}, {'room': 'Cage', 'container': '5d', 'specific': 'Stack 10|-2'}]\n",
      "Candidate: Laminator — [{'room': 'Cage', 'container': '1b', 'specific': ''}]\n",
      "Candidate: Iron — [{'room': 'Cage', 'container': '3c', 'specific': None}]\n"
     ]
    },
    {
     "name": "stderr",
     "output_type": "stream",
     "text": [
      "\n"
     ]
    },
    {
     "name": "stdout",
     "output_type": "stream",
     "text": [
      "LLM returns: \n",
      " Black Buttons \n",
      " Pegboard 1\n",
      "\n",
      " *********************************************************** \n",
      " \n",
      "\n",
      " text =  white buttons -\n",
      "\n",
      " link items =  []\n"
     ]
    },
    {
     "name": "stderr",
     "output_type": "stream",
     "text": [
      "Batches: 100%|██████████| 1/1 [00:00<00:00, 10.23it/s]"
     ]
    },
    {
     "name": "stdout",
     "output_type": "stream",
     "text": [
      "Candidate: Grey Buttons — [{'room': 'Main', 'container': 'Pegboard 1', 'specific': 'B2'}, {'room': 'Cage', 'container': '5d', 'specific': 'Stack 10|-2'}]\n",
      "Candidate: Orange Buttons — [{'room': 'Main', 'container': 'Pegboard 1', 'specific': 'A2'}, {'room': 'Cage', 'container': '5d', 'specific': 'Stack 10|-2'}]\n",
      "Candidate: Red Buttons — [{'room': 'Main', 'container': 'Pegboard 1', 'specific': 'A1'}, {'room': 'Cage', 'container': '5d', 'specific': 'Stack 10|-2'}]\n",
      "Candidate: Black Buttons — [{'room': 'Main', 'container': 'Pegboard 1', 'specific': 'B1'}, {'room': 'Cage', 'container': '5d', 'specific': 'Stack 10|-2'}]\n",
      "Candidate: Purple Buttons — [{'room': 'Main', 'container': 'Pegboard 1', 'specific': 'A6'}, {'room': 'Cage', 'container': '5d', 'specific': 'Stack 10|-2'}]\n"
     ]
    },
    {
     "name": "stderr",
     "output_type": "stream",
     "text": [
      "\n"
     ]
    },
    {
     "name": "stdout",
     "output_type": "stream",
     "text": [
      "LLM returns: \n",
      " Grey Buttons \n",
      " Pegboard 1\n",
      "\n",
      " *********************************************************** \n",
      " \n",
      "\n",
      " text =  brown buttons -\n",
      "\n",
      " link items =  []\n"
     ]
    },
    {
     "name": "stderr",
     "output_type": "stream",
     "text": [
      "Batches: 100%|██████████| 1/1 [00:00<00:00, 11.19it/s]"
     ]
    },
    {
     "name": "stdout",
     "output_type": "stream",
     "text": [
      "Candidate: White Buttons — [{'room': 'Main', 'container': 'Pegboard 1', 'specific': 'B3'}, {'room': 'Cage', 'container': '5d', 'specific': 'Stack 10|-2'}]\n",
      "Candidate: Red Buttons — [{'room': 'Main', 'container': 'Pegboard 1', 'specific': 'A1'}, {'room': 'Cage', 'container': '5d', 'specific': 'Stack 10|-2'}]\n",
      "Candidate: Purple Buttons — [{'room': 'Main', 'container': 'Pegboard 1', 'specific': 'A6'}, {'room': 'Cage', 'container': '5d', 'specific': 'Stack 10|-2'}]\n",
      "Candidate: Yellow Buttons — [{'room': 'Main', 'container': 'Pegboard 1', 'specific': 'A3'}, {'room': 'Cage', 'container': '5d', 'specific': 'Stack 10|-2'}]\n",
      "Candidate: Brown Buttons — [{'room': 'Main', 'container': 'Pegboard 1', 'specific': 'B4'}, {'room': 'Cage', 'container': '5d', 'specific': 'Stack 10|-2'}]\n"
     ]
    },
    {
     "name": "stderr",
     "output_type": "stream",
     "text": [
      "\n"
     ]
    },
    {
     "name": "stdout",
     "output_type": "stream",
     "text": [
      "LLM returns: \n",
      " Brown Buttons \n",
      " Pegboard 1\n",
      "\n",
      " *********************************************************** \n",
      " \n",
      "\n",
      " text =  beige buttons -\n",
      "\n",
      " link items =  []\n"
     ]
    },
    {
     "name": "stderr",
     "output_type": "stream",
     "text": [
      "Batches: 100%|██████████| 1/1 [00:00<00:00,  8.08it/s]"
     ]
    },
    {
     "name": "stdout",
     "output_type": "stream",
     "text": [
      "Candidate: Brown Buttons — [{'room': 'Main', 'container': 'Pegboard 1', 'specific': 'B4'}, {'room': 'Cage', 'container': '5d', 'specific': 'Stack 10|-2'}]\n",
      "Candidate: Red Buttons — [{'room': 'Main', 'container': 'Pegboard 1', 'specific': 'A1'}, {'room': 'Cage', 'container': '5d', 'specific': 'Stack 10|-2'}]\n",
      "Candidate: Purple Buttons — [{'room': 'Main', 'container': 'Pegboard 1', 'specific': 'A6'}, {'room': 'Cage', 'container': '5d', 'specific': 'Stack 10|-2'}]\n",
      "Candidate: White Buttons — [{'room': 'Main', 'container': 'Pegboard 1', 'specific': 'B3'}, {'room': 'Cage', 'container': '5d', 'specific': 'Stack 10|-2'}]\n",
      "Candidate: Yellow Buttons — [{'room': 'Main', 'container': 'Pegboard 1', 'specific': 'A3'}, {'room': 'Cage', 'container': '5d', 'specific': 'Stack 10|-2'}]\n"
     ]
    },
    {
     "name": "stderr",
     "output_type": "stream",
     "text": [
      "\n"
     ]
    },
    {
     "name": "stdout",
     "output_type": "stream",
     "text": [
      "LLM returns: \n",
      " Brown Buttons \n",
      " Pegboard 1\n",
      "\n",
      " *********************************************************** \n",
      " \n",
      "\n",
      " text =  wooden buttons -\n",
      "\n",
      " link items =  []\n"
     ]
    },
    {
     "name": "stderr",
     "output_type": "stream",
     "text": [
      "Batches: 100%|██████████| 1/1 [00:00<00:00, 21.11it/s]"
     ]
    },
    {
     "name": "stdout",
     "output_type": "stream",
     "text": [
      "Candidate: Beige Buttons — [{'room': 'Main', 'container': 'Pegboard 1', 'specific': 'B5'}, {'room': 'Cage', 'container': '5d', 'specific': 'Stack 10|-2'}]\n",
      "Candidate: White Buttons — [{'room': 'Main', 'container': 'Pegboard 1', 'specific': 'B3'}, {'room': 'Cage', 'container': '5d', 'specific': 'Stack 10|-2'}]\n",
      "Candidate: Yellow Buttons — [{'room': 'Main', 'container': 'Pegboard 1', 'specific': 'A3'}, {'room': 'Cage', 'container': '5d', 'specific': 'Stack 10|-2'}]\n",
      "Candidate: Red Buttons — [{'room': 'Main', 'container': 'Pegboard 1', 'specific': 'A1'}, {'room': 'Cage', 'container': '5d', 'specific': 'Stack 10|-2'}]\n",
      "Candidate: Grey Buttons — [{'room': 'Main', 'container': 'Pegboard 1', 'specific': 'B2'}, {'room': 'Cage', 'container': '5d', 'specific': 'Stack 10|-2'}]\n"
     ]
    },
    {
     "name": "stderr",
     "output_type": "stream",
     "text": [
      "\n"
     ]
    },
    {
     "name": "stdout",
     "output_type": "stream",
     "text": [
      "LLM returns: \n",
      " Beige Buttons \n",
      " Pegboard 1\n",
      "\n",
      " *********************************************************** \n",
      " \n",
      "\n",
      " text =  plastic clips -\n",
      "\n",
      " link items =  []\n"
     ]
    },
    {
     "name": "stderr",
     "output_type": "stream",
     "text": [
      "Batches: 100%|██████████| 1/1 [00:00<00:00, 18.55it/s]"
     ]
    },
    {
     "name": "stdout",
     "output_type": "stream",
     "text": [
      "Candidate: Plastic Bobbins — [{'room': 'Main', 'container': 'Pegboard 1', 'specific': 'Bottom'}, {'room': 'Cage', 'container': '5e', 'specific': 'Pegboard Bins|-3'}]\n",
      "Candidate: Jewelry Clasps and Closures — [{'room': 'Main', 'container': 'Cabinet 3', 'specific': 'Shelf 9'}, {'room': 'Cage', 'container': '5d', 'specific': 'Stack 3|-3'}]\n",
      "Candidate: Isopropyl Alcohol — [{'room': 'Cage', 'container': 'Flammable', 'specific': ''}, {'room': 'Laser3D', 'container': 'Cabinet 4', 'specific': '|1'}]\n",
      "Candidate: Iron Rest Pad — [{'room': 'Cage', 'container': '3b', 'specific': ''}]\n",
      "Candidate: Ziploc Plastic Bags (Gallon) — [{'room': 'Main', 'container': 'Cabinet 2', 'specific': 'Shelf 2'}, {'room': 'Cage', 'container': '5b', 'specific': '|12'}, {'room': 'Cage', 'container': '8e', 'specific': '|1'}]\n"
     ]
    },
    {
     "name": "stderr",
     "output_type": "stream",
     "text": [
      "\n"
     ]
    },
    {
     "name": "stdout",
     "output_type": "stream",
     "text": [
      "LLM returns: \n",
      " Plastic Bobbins \n",
      " Pegboard 1\n",
      "\n",
      " *********************************************************** \n",
      " \n",
      "\n",
      " text =  hook & eye closures -\n",
      "\n",
      " link items =  []\n"
     ]
    },
    {
     "name": "stderr",
     "output_type": "stream",
     "text": [
      "Batches: 100%|██████████| 1/1 [00:00<00:00, 10.59it/s]"
     ]
    },
    {
     "name": "stdout",
     "output_type": "stream",
     "text": [
      "Candidate: Wooden Buttons — [{'room': 'Main', 'container': 'Pegboard 1', 'specific': 'B6'}, {'room': 'Cage', 'container': '5d', 'specific': 'Stack 10|-3'}]\n",
      "Candidate: Thin White Elastic Band — [{'room': 'Main', 'container': 'Cabinet 1', 'specific': 'Shelf 13'}, {'room': 'Cage', 'container': '5c', 'specific': 'Stack 26|-3'}]\n",
      "Candidate: Paper Clips — [{'room': 'Main', 'container': 'Cabinet 3', 'specific': 'Shelf 21'}, {'room': 'Cage', 'container': '5c', 'specific': 'Stack 16|-3'}]\n",
      "Candidate: Loom Tension Box — [{'room': 'The Crypt', 'container': '1e', 'specific': None}]\n",
      "Candidate: Assorted Metal Jewelry Chain — [{'room': 'Main', 'container': 'Cabinet 3', 'specific': 'Shelf 5'}, {'room': 'Cage', 'container': '5d', 'specific': 'Stack 2|-2'}]\n"
     ]
    },
    {
     "name": "stderr",
     "output_type": "stream",
     "text": [
      "\n"
     ]
    },
    {
     "name": "stdout",
     "output_type": "stream",
     "text": [
      "LLM returns: \n",
      " Wooden Buttons \n",
      " Pegboard 1\n",
      "\n",
      " *********************************************************** \n",
      " \n",
      "\n",
      " text =  domed tacks -\n",
      "\n",
      " link items =  []\n"
     ]
    },
    {
     "name": "stderr",
     "output_type": "stream",
     "text": [
      "Batches: 100%|██████████| 1/1 [00:00<00:00,  5.72it/s]"
     ]
    },
    {
     "name": "stdout",
     "output_type": "stream",
     "text": [
      "Candidate: Hook and Eye Closures — [{'room': 'Main', 'container': 'Pegboard 1', 'specific': 'B8'}]\n",
      "Candidate: Dot Stickers — [{'room': 'Cage', 'container': '8d', 'specific': ''}]\n",
      "Candidate: Felting Finger Guards — [{'room': 'Main', 'container': 'Cabinet 1', 'specific': 'Shelf 12'}]\n",
      "Candidate: Zippers — [{'room': 'Main', 'container': 'Cabinet 1', 'specific': 'Shelf 14'}, {'room': 'Cage', 'container': '5c', 'specific': 'Stack 23|-3'}]\n",
      "Candidate: Silicon for Molds — [{'room': 'Cage', 'container': '7c', 'specific': None}]\n"
     ]
    },
    {
     "name": "stderr",
     "output_type": "stream",
     "text": [
      "\n"
     ]
    },
    {
     "name": "stdout",
     "output_type": "stream",
     "text": [
      "LLM returns: \n",
      "  \n",
      " Cabinet 11\n",
      "\n",
      " *********************************************************** \n",
      " \n",
      "\n",
      " text =  plastic grommets -\n",
      "\n",
      " link items =  ['ORXPLUS Tools Durable Plastic Snap Grommets Ideal for Tarps, Banners, and DIY Projects, 18-pcs']\n"
     ]
    },
    {
     "name": "stderr",
     "output_type": "stream",
     "text": [
      "Batches: 100%|██████████| 1/1 [00:00<00:00,  8.69it/s]"
     ]
    },
    {
     "name": "stdout",
     "output_type": "stream",
     "text": [
      "Candidate: Chalk Pastel Sets — [{'room': 'Main', 'container': 'Cabinet 4', 'specific': 'Shelf 24'}, {'room': 'Cage', 'container': '5e', 'specific': '|1'}]\n",
      "Candidate: Medium Clamps (6\") — [{'room': 'Main', 'container': 'Cabinet 11', 'specific': 'Shelf 9'}, {'room': 'Backstock', 'container': 'Shelf 2', 'specific': '|2'}]\n",
      "Candidate: Safety Eyes — [{'room': 'Main', 'container': 'Pegboard 1', 'specific': ''}]\n",
      "Candidate: Isopropyl Alcohol — [{'room': 'Cage', 'container': 'Flammable', 'specific': ''}, {'room': 'Laser3D', 'container': 'Cabinet 4', 'specific': '|1'}]\n",
      "Candidate: Plastic Bobbins — [{'room': 'Main', 'container': 'Pegboard 1', 'specific': 'Bottom'}, {'room': 'Cage', 'container': '5e', 'specific': 'Pegboard Bins|-3'}]\n"
     ]
    },
    {
     "name": "stderr",
     "output_type": "stream",
     "text": [
      "\n"
     ]
    },
    {
     "name": "stdout",
     "output_type": "stream",
     "text": [
      "LLM returns: \n",
      " Plastic Bobbins \n",
      " Pegboard 1\n",
      "\n",
      " *********************************************************** \n",
      " \n",
      "\n",
      " text =  metal grommets -\n",
      "\n",
      " link items =  []\n"
     ]
    },
    {
     "name": "stderr",
     "output_type": "stream",
     "text": [
      "Batches: 100%|██████████| 1/1 [00:00<00:00, 24.34it/s]"
     ]
    },
    {
     "name": "stdout",
     "output_type": "stream",
     "text": [
      "Candidate: Wood Shaver — [{'room': 'Main', 'container': 'Cabinet 9', 'specific': 'Shelf 3'}]\n",
      "Candidate: Safety Eyes — [{'room': 'Main', 'container': 'Pegboard 1', 'specific': ''}]\n",
      "Candidate: Chalk Pastel Sets — [{'room': 'Main', 'container': 'Cabinet 4', 'specific': 'Shelf 24'}, {'room': 'Cage', 'container': '5e', 'specific': '|1'}]\n",
      "Candidate: Fold Over Elastic — [{'room': 'Main', 'container': 'Cabinet 1', 'specific': 'Shelf 13'}, {'room': 'Cage', 'container': '5c', 'specific': 'Stack 26|-3'}]\n",
      "Candidate: Large Paper — [{'room': 'Cage', 'container': '4c', 'specific': ''}]\n"
     ]
    },
    {
     "name": "stderr",
     "output_type": "stream",
     "text": [
      "\n"
     ]
    },
    {
     "name": "stdout",
     "output_type": "stream",
     "text": [
      "LLM returns: \n",
      " Safety Eyes \n",
      " Pegboard 1\n",
      "\n",
      " *********************************************************** \n",
      " \n",
      "\n",
      " text =  safety pins -\n",
      "\n",
      " link items =  []\n"
     ]
    },
    {
     "name": "stderr",
     "output_type": "stream",
     "text": [
      "Batches: 100%|██████████| 1/1 [00:00<00:00, 10.60it/s]"
     ]
    },
    {
     "name": "stdout",
     "output_type": "stream",
     "text": [
      "Candidate: Rubber Bands — [{'room': 'Main', 'container': 'Cabinet 3', 'specific': 'Shelf 19'}, {'room': 'Cage', 'container': '5d', 'specific': 'Stack 15|-3'}]\n",
      "Candidate: Cotton Swabs/Q-Tips — [{'room': 'Main', 'container': 'Cabinet 2', 'specific': 'Shelf 12'}, {'room': 'Cage', 'container': '5c', 'specific': 'Stack 15|-3'}]\n",
      "Candidate: Velcro — [{'room': 'Main', 'container': 'Cabinet 1', 'specific': 'Shelf 17'}, {'room': 'Cage', 'container': '5d', 'specific': 'Stack 6|-3'}]\n",
      "Candidate: Domed Tacks — [{'room': 'Main', 'container': 'Pegboard 1', 'specific': 'C1'}]\n",
      "Candidate:  Stencils — [{'room': 'Main', 'container': 'Cabinet 3', 'specific': 'Shelf 22'}, {'room': 'Backstock', 'container': 'Shelf 2', 'specific': '|11'}]\n"
     ]
    },
    {
     "name": "stderr",
     "output_type": "stream",
     "text": [
      "\n"
     ]
    },
    {
     "name": "stdout",
     "output_type": "stream",
     "text": [
      "LLM returns: \n",
      " Domed Tacks \n",
      " Pegboard 1\n",
      "\n",
      " *********************************************************** \n",
      " \n",
      "\n",
      " text =  curtain rings -\n",
      "\n",
      " link items =  []\n"
     ]
    },
    {
     "name": "stderr",
     "output_type": "stream",
     "text": [
      "Batches: 100%|██████████| 1/1 [00:00<00:00, 17.79it/s]"
     ]
    },
    {
     "name": "stdout",
     "output_type": "stream",
     "text": [
      "Candidate: Sewing Needles — [{'room': 'Main', 'container': 'Pegboard 1', 'specific': 'E1'}, {'room': 'Cage', 'container': '5e', 'specific': 'Pegboard Bins|-3'}]\n",
      "Candidate: Crafting Books — [{'room': 'Main', 'container': 'Fabrics', 'specific': None}]\n",
      "Candidate: Thin White Elastic Band — [{'room': 'Main', 'container': 'Cabinet 1', 'specific': 'Shelf 13'}, {'room': 'Cage', 'container': '5c', 'specific': 'Stack 26|-3'}]\n",
      "Candidate: Microphone Stand, Cowboy Studio (w/ Boom Arm) — [{'room': 'Studio', 'container': 'Next to A', 'specific': None}]\n",
      "Candidate: Assorted Metal Jewelry Chain — [{'room': 'Main', 'container': 'Cabinet 3', 'specific': 'Shelf 5'}, {'room': 'Cage', 'container': '5d', 'specific': 'Stack 2|-2'}]\n"
     ]
    },
    {
     "name": "stderr",
     "output_type": "stream",
     "text": [
      "\n"
     ]
    },
    {
     "name": "stdout",
     "output_type": "stream",
     "text": [
      "LLM returns: \n",
      " Sewing Needles \n",
      " Pegboard 1\n",
      "\n",
      " *********************************************************** \n",
      " \n",
      "\n",
      " text =  tassels -\n",
      "\n",
      " link items =  []\n"
     ]
    },
    {
     "name": "stderr",
     "output_type": "stream",
     "text": [
      "Batches: 100%|██████████| 1/1 [00:00<00:00, 15.27it/s]"
     ]
    },
    {
     "name": "stdout",
     "output_type": "stream",
     "text": [
      "Candidate: Candle Making Supplies — [{'room': 'Main', 'container': 'Cabinet 2', 'specific': 'Shelf 16'}, {'room': 'Backstock', 'container': 'Shelf 2', 'specific': '|-3'}]\n",
      "Candidate: AxiDraw Supplies — [{'room': 'Cage', 'container': '1d', 'specific': None}]\n",
      "Candidate: Instant Epoxy (Syringe) — [{'room': 'Main', 'container': 'Cabinet 5', 'specific': ''}, {'room': 'Cage', 'container': '5d', 'specific': ''}]\n",
      "Candidate: USB-A to USB-B — [{'room': 'Cage', 'container': '8d', 'specific': 'Spare USB Cables'}]\n",
      "Candidate: Plywood Stock — [{'room': 'Outdoor Storage', 'container': 'Blue stock rack', 'specific': None}]\n"
     ]
    },
    {
     "name": "stderr",
     "output_type": "stream",
     "text": [
      "\n"
     ]
    },
    {
     "name": "stdout",
     "output_type": "stream",
     "text": [
      "LLM returns: \n",
      "  \n",
      " Cabinet 6\n",
      "\n",
      " *********************************************************** \n",
      " \n",
      "\n",
      " text =  baby thread -\n",
      "\n",
      " link items =  []\n"
     ]
    },
    {
     "name": "stderr",
     "output_type": "stream",
     "text": [
      "Batches: 100%|██████████| 1/1 [00:00<00:00, 25.65it/s]"
     ]
    },
    {
     "name": "stdout",
     "output_type": "stream",
     "text": [
      "Candidate: Cord Stoppers — [{'room': 'Main', 'container': 'Pegboard 1', 'specific': 'C6'}]\n",
      "Candidate: Printing Press Cart — [{'room': 'Cage', 'container': 'Floor', 'specific': None}]\n",
      "Candidate: Watercolor Paper — [{'room': 'Main', 'container': 'Cabinet 7', 'specific': ''}]\n",
      "Candidate: 206 Harvest Gold Thread — [{'room': 'Main', 'container': '', 'specific': ''}]\n",
      "Candidate: Keychain Clasps — [{'room': 'Main', 'container': 'Cabinet 3', 'specific': 'Shelf 9'}, {'room': 'Cage', 'container': '5d', 'specific': 'Stack 3|-3'}]\n"
     ]
    },
    {
     "name": "stderr",
     "output_type": "stream",
     "text": [
      "\n"
     ]
    },
    {
     "name": "stdout",
     "output_type": "stream",
     "text": [
      "LLM returns: \n",
      " Cord Stoppers \n",
      " Pegboard 1\n",
      "\n",
      " *********************************************************** \n",
      " \n",
      "\n",
      " text =  embroidery needles -\n",
      "\n",
      " link items =  []\n"
     ]
    },
    {
     "name": "stderr",
     "output_type": "stream",
     "text": [
      "Batches: 100%|██████████| 1/1 [00:00<00:00, 15.17it/s]"
     ]
    },
    {
     "name": "stdout",
     "output_type": "stream",
     "text": [
      "Candidate: Plastic Scrapers — [{'room': 'Main', 'container': 'Cabinet 4', 'specific': 'Shelf 14'}, {'room': 'Cage', 'container': '5c', 'specific': 'Stack 20|-2'}]\n",
      "Candidate: Spool Pins — [{'room': 'Main', 'container': 'Pegboard 1', 'specific': 'D5'}]\n",
      "Candidate: Curtain Rings — [{'room': 'Main', 'container': 'Pegboard 1', 'specific': 'C5'}, {'room': 'Cage', 'container': '5e', 'specific': 'Pegboard Bins|-3'}]\n",
      "Candidate: Bias tape — [{'room': 'Main', 'container': 'Cabinet 1', 'specific': 'Shelf 13'}]\n",
      "Candidate: Fabric Scissors — [{'room': 'Main', 'container': 'Cabinet 1', 'specific': 'Shelf 1'}, {'room': 'Cage', 'container': '5d', 'specific': 'Stack 1|-3'}]\n"
     ]
    },
    {
     "name": "stderr",
     "output_type": "stream",
     "text": [
      "\n"
     ]
    },
    {
     "name": "stdout",
     "output_type": "stream",
     "text": [
      "LLM returns: \n",
      " Curtain Rings \n",
      " Pegboard 1\n",
      "\n",
      " *********************************************************** \n",
      " \n",
      "\n",
      " text =  needle threaders -\n",
      "\n",
      " link items =  []\n"
     ]
    },
    {
     "name": "stderr",
     "output_type": "stream",
     "text": [
      "Batches: 100%|██████████| 1/1 [00:00<00:00, 23.58it/s]"
     ]
    },
    {
     "name": "stdout",
     "output_type": "stream",
     "text": [
      "Candidate: Pins — [{'room': 'Main', 'container': 'Cabinet 1', 'specific': 'Shelf 3'}, {'room': 'Cage', 'container': '5c', 'specific': 'Stack 2|-3'}]\n",
      "Candidate: Spool Pins — [{'room': 'Main', 'container': 'Pegboard 1', 'specific': 'D5'}]\n",
      "Candidate: Curtain Rings — [{'room': 'Main', 'container': 'Pegboard 1', 'specific': 'C5'}, {'room': 'Cage', 'container': '5e', 'specific': 'Pegboard Bins|-3'}]\n",
      "Candidate: Bias tape — [{'room': 'Main', 'container': 'Cabinet 1', 'specific': 'Shelf 13'}]\n",
      "Candidate: Plastic Scrapers — [{'room': 'Main', 'container': 'Cabinet 4', 'specific': 'Shelf 14'}, {'room': 'Cage', 'container': '5c', 'specific': 'Stack 20|-2'}]\n"
     ]
    },
    {
     "name": "stderr",
     "output_type": "stream",
     "text": [
      "\n"
     ]
    },
    {
     "name": "stdout",
     "output_type": "stream",
     "text": [
      "LLM returns: \n",
      " Spool Pins \n",
      " Pegboard 1\n",
      "\n",
      " *********************************************************** \n",
      " \n",
      "\n",
      " text =  gum erasers -\n",
      "\n",
      " link items =  []\n"
     ]
    },
    {
     "name": "stderr",
     "output_type": "stream",
     "text": [
      "Batches: 100%|██████████| 1/1 [00:00<00:00,  8.72it/s]"
     ]
    },
    {
     "name": "stdout",
     "output_type": "stream",
     "text": [
      "Candidate: Thimbles — [{'room': 'Main', 'container': 'Pegboard 1', 'specific': 'D4'}]\n",
      "Candidate: Protractors — [{'room': 'Main', 'container': 'Cabinet 3', 'specific': 'Shelf 2'}, {'room': 'Cage', 'container': '5c', 'specific': 'Stack 3|-3'}]\n",
      "Candidate: Electrical Tape — [{'room': 'Main', 'container': 'Electronics Bench', 'specific': ''}, {'room': 'Cage', 'container': '5c', 'specific': 'Stack 13|-3'}]\n",
      "Candidate: Silver Duct Tape — [{'room': 'Main', 'container': 'Cabinet 5', 'specific': 'Top'}, {'room': 'Cage', 'container': '5e', 'specific': '|16'}]\n",
      "Candidate: Small Wooden Dowels (1/8\" x 12\") — [{'room': 'Main', 'container': 'Cabinet 2', 'specific': 'Shelf 6'}, {'room': 'Cage', 'container': '5d', 'specific': 'Stack 14|-3'}]\n"
     ]
    },
    {
     "name": "stderr",
     "output_type": "stream",
     "text": [
      "\n"
     ]
    },
    {
     "name": "stdout",
     "output_type": "stream",
     "text": [
      "LLM returns: \n",
      "  \n",
      " Cabinet 7\n",
      "\n",
      " *********************************************************** \n",
      " \n",
      "\n",
      " text =  seam guides -\n",
      "\n",
      " link items =  []\n"
     ]
    },
    {
     "name": "stderr",
     "output_type": "stream",
     "text": [
      "Batches: 100%|██████████| 1/1 [00:00<00:00,  4.51it/s]\n"
     ]
    },
    {
     "name": "stdout",
     "output_type": "stream",
     "text": [
      "Candidate: Plastic Needles — [{'room': 'Main', 'container': 'Pegboard 1', 'specific': 'D2'}, {'room': 'Cage', 'container': '5e', 'specific': 'Pegboard Bins|-3'}]\n",
      "Candidate: Thread Cutters — [{'room': 'Main', 'container': 'Pegboard 1', 'specific': 'E7'}, {'room': 'Cage', 'container': '5c', 'specific': 'Stack 7|13'}]\n",
      "Candidate: Button Sewing Foot — [{'room': 'Main', 'container': 'Pegboard 1', 'specific': 'J8'}]\n",
      "Candidate: Even Feed Walking Foot — [{'room': 'Main', 'container': 'Pegboard 1', 'specific': 'L7'}]\n",
      "Candidate: Adjustable Button Rotary Cutter (1\" - 2.25\") — [{'room': 'Cage', 'container': '1c', 'specific': None}]\n",
      "LLM returns: \n",
      " Even Feed Walking Foot \n",
      " Pegboard 1\n",
      "\n",
      " *********************************************************** \n",
      " \n",
      "\n",
      " text =  plastic buckles -\n",
      "\n",
      " link items =  []\n"
     ]
    },
    {
     "name": "stderr",
     "output_type": "stream",
     "text": [
      "Batches: 100%|██████████| 1/1 [00:00<00:00,  6.85it/s]"
     ]
    },
    {
     "name": "stdout",
     "output_type": "stream",
     "text": [
      "Candidate: Leather Clasps — [{'room': 'Cage', 'container': '7a', 'specific': ''}]\n",
      "Candidate: Embroidery Needles — [{'room': 'Main', 'container': 'Pegboard 1', 'specific': 'D1'}, {'room': 'Cage', 'container': '5e', 'specific': 'Pegboard Bins|-3'}]\n",
      "Candidate: Plastic Bobbins — [{'room': 'Main', 'container': 'Pegboard 1', 'specific': 'Bottom'}, {'room': 'Cage', 'container': '5e', 'specific': 'Pegboard Bins|-3'}]\n",
      "Candidate: Fabric Rolls — [{'room': 'Main', 'container': 'Fabrics', 'specific': None}, {'room': 'Backstock', 'container': 'Floor', 'specific': '|0'}]\n",
      "Candidate: Chisel Sharpener — [{'room': 'Cage', 'container': '1c', 'specific': ''}]\n"
     ]
    },
    {
     "name": "stderr",
     "output_type": "stream",
     "text": [
      "\n"
     ]
    },
    {
     "name": "stdout",
     "output_type": "stream",
     "text": [
      "LLM returns: \n",
      " Leather Clasps \n",
      " Cage/Crypt/Other\n",
      "\n",
      " *********************************************************** \n",
      " \n",
      "\n",
      " text =  curved needles -\n",
      "\n",
      " link items =  []\n"
     ]
    },
    {
     "name": "stderr",
     "output_type": "stream",
     "text": [
      "Batches: 100%|██████████| 1/1 [00:00<00:00,  5.62it/s]"
     ]
    },
    {
     "name": "stdout",
     "output_type": "stream",
     "text": [
      "Candidate: Light Stand, Cowboy Studio (w/ Boom Arm) — [{'room': 'Studio', 'container': 'Next to Studio 5', 'specific': None}]\n",
      "Candidate: Tiny Thread — [{'room': 'Main', 'container': 'Pegboard 1', 'specific': 'C8'}, {'room': 'Cage', 'container': '5e', 'specific': 'Pegboard Bins|-2'}]\n",
      "Candidate: Spool Pins — [{'room': 'Main', 'container': 'Pegboard 1', 'specific': 'D5'}]\n",
      "Candidate: Felting Foam — [{'room': 'Main', 'container': 'Cabinet 1', 'specific': 'Shelf 15'}]\n",
      "Candidate: Curtain Rings — [{'room': 'Main', 'container': 'Pegboard 1', 'specific': 'C5'}, {'room': 'Cage', 'container': '5e', 'specific': 'Pegboard Bins|-3'}]\n"
     ]
    },
    {
     "name": "stderr",
     "output_type": "stream",
     "text": [
      "\n"
     ]
    },
    {
     "name": "stdout",
     "output_type": "stream",
     "text": [
      "LLM returns: \n",
      " Tiny Thread \n",
      " Pegboard 1\n",
      "\n",
      " *********************************************************** \n",
      " \n",
      "\n",
      " text =  fabric tape -\n",
      "\n",
      " link items =  []\n"
     ]
    },
    {
     "name": "stderr",
     "output_type": "stream",
     "text": [
      "Batches: 100%|██████████| 1/1 [00:00<00:00, 11.36it/s]"
     ]
    },
    {
     "name": "stdout",
     "output_type": "stream",
     "text": [
      "Candidate: Seam Rippers — [{'room': 'Main', 'container': 'Pegboard 1', 'specific': 'E5'}, {'room': 'Cage', 'container': '5c', 'specific': 'Stack 7|-3'}]\n",
      "Candidate: Leather Sewing Machine — [{'room': 'Cage', 'container': 'Floor', 'specific': None}]\n",
      "Candidate: 3.5 mm Male to XLR Male Cable Short — [{'room': 'Studio', 'container': 'Studio 2', 'specific': 'Shelf 8'}]\n",
      "Candidate: 3.5 mm Male to XLR Female Cable Short — [{'room': 'Studio', 'container': 'Studio 2', 'specific': 'Shelf 8'}]\n",
      "Candidate: Rhinestones — [{'room': 'Main', 'container': 'Cabinet 2', 'specific': 'Shelf 19'}, {'room': 'Cage', 'container': '5d', 'specific': 'Stack 12|-3'}]\n"
     ]
    },
    {
     "name": "stderr",
     "output_type": "stream",
     "text": [
      "\n"
     ]
    },
    {
     "name": "stdout",
     "output_type": "stream",
     "text": [
      "LLM returns: \n",
      "  \n",
      " Cabinet 5\n",
      "\n",
      " *********************************************************** \n",
      " \n",
      "\n",
      " text =  macrame cord -\n",
      "\n",
      " link items =  []\n"
     ]
    },
    {
     "name": "stderr",
     "output_type": "stream",
     "text": [
      "Batches: 100%|██████████| 1/1 [00:00<00:00, 11.84it/s]"
     ]
    },
    {
     "name": "stdout",
     "output_type": "stream",
     "text": [
      "Candidate: Metal Bobbins — [{'room': 'Main', 'container': 'Pegboard 1', 'specific': 'Bottom'}, {'room': 'Cage', 'container': '5e', 'specific': 'Pegboard Bins|-3'}]\n",
      "Candidate: Pre-Moistened Cloths — [{'room': 'Studio', 'container': 'Studio 5', 'specific': 'Shelf 4'}]\n",
      "Candidate: Hammer drill — [{'room': 'Cage', 'container': '2d', 'specific': None}]\n",
      "Candidate: Laser Cutter Rotary Attachment — [{'room': 'Cage', 'container': '1d', 'specific': None}]\n",
      "Candidate: Thick Blue Wire — [{'room': 'The Crypt', 'container': '1c', 'specific': ''}]\n"
     ]
    },
    {
     "name": "stderr",
     "output_type": "stream",
     "text": [
      "\n"
     ]
    },
    {
     "name": "stdout",
     "output_type": "stream",
     "text": [
      "LLM returns: \n",
      " Metal Bobbins \n",
      " Pegboard 1\n",
      "\n",
      " *********************************************************** \n",
      " \n",
      "\n",
      " text =  black paracord -\n",
      "\n",
      " link items =  []\n"
     ]
    },
    {
     "name": "stderr",
     "output_type": "stream",
     "text": [
      "Batches: 100%|██████████| 1/1 [00:00<00:00, 13.49it/s]"
     ]
    },
    {
     "name": "stdout",
     "output_type": "stream",
     "text": [
      "Candidate: Macrame Cord — [{'room': 'Main', 'container': 'Pegboard 1', 'specific': 'Front'}, {'room': 'Cage', 'container': '5E', 'specific': 'near polyester thread'}]\n",
      "Candidate: Grey Cardstock — [{'room': 'Main', 'container': 'Cabinet 7', 'specific': ''}, {'room': 'Cage', 'container': '8d', 'specific': '|-1'}, {'room': 'Backstock', 'container': 'Shelf 4|-1', 'specific': ''}]\n",
      "Candidate: Blue Ribbon — [{'room': 'Main', 'container': 'Cabinet 6', 'specific': 'Shelf 3'}]\n",
      "Candidate: Popsicle Sticks — [{'room': 'Main', 'container': 'Cabinet 2', 'specific': 'Shelf 3'}, {'room': 'Cage', 'container': '5c', 'specific': 'Stack 22|-3'}]\n",
      "Candidate: Blending Stumps/Tortillons — [{'room': 'Main', 'container': 'Cabinet 4', 'specific': 'Shelf 11'}, {'room': 'Cage', 'container': '5c', 'specific': 'Stack 10|-3'}]\n"
     ]
    },
    {
     "name": "stderr",
     "output_type": "stream",
     "text": [
      "\n"
     ]
    },
    {
     "name": "stdout",
     "output_type": "stream",
     "text": [
      "LLM returns: \n",
      " Macrame Cord \n",
      " Pegboard 1\n",
      "\n",
      " *********************************************************** \n",
      " \n",
      "\n",
      " text =  white paracord -\n",
      "\n",
      " link items =  []\n"
     ]
    },
    {
     "name": "stderr",
     "output_type": "stream",
     "text": [
      "Batches: 100%|██████████| 1/1 [00:00<00:00,  3.19it/s]\n"
     ]
    },
    {
     "name": "stdout",
     "output_type": "stream",
     "text": [
      "Candidate: Grey Cardstock — [{'room': 'Main', 'container': 'Cabinet 7', 'specific': ''}, {'room': 'Cage', 'container': '8d', 'specific': '|-1'}, {'room': 'Backstock', 'container': 'Shelf 4|-1', 'specific': ''}]\n",
      "Candidate: Macrame Cord — [{'room': 'Main', 'container': 'Pegboard 1', 'specific': 'Front'}, {'room': 'Cage', 'container': '5E', 'specific': 'near polyester thread'}]\n",
      "Candidate: Multicolored Ribbon — [{'room': 'Main', 'container': 'Cabinet 6', 'specific': 'Shelf 5'}]\n",
      "Candidate: Rope — [{'room': 'Main', 'container': 'Cabinet 2', 'specific': 'Shelf 21'}]\n",
      "Candidate: White Ribbon — [{'room': 'Main', 'container': 'Cabinet 6', 'specific': 'Shelf 6'}]\n",
      "LLM returns: \n",
      " Macrame Cord \n",
      " Pegboard 1\n",
      "\n",
      " *********************************************************** \n",
      " \n",
      "\n",
      " text =  watercolor paper -\n",
      "\n",
      " link items =  []\n"
     ]
    },
    {
     "name": "stderr",
     "output_type": "stream",
     "text": [
      "Batches: 100%|██████████| 1/1 [00:00<00:00,  4.97it/s]\n"
     ]
    },
    {
     "name": "stdout",
     "output_type": "stream",
     "text": [
      "Candidate: Scrap Cardstock Paper — [{'room': 'Main', 'container': 'Cabinet 7', 'specific': 'Top'}]\n",
      "Candidate: Pegboard Hardware — [{'room': 'Cage', 'container': 'Pegboard', 'specific': ''}]\n",
      "Candidate: Digital Soldering Station — [{'room': 'Other', 'container': '', 'specific': None}]\n",
      "Candidate: Gray Ribbon — [{'room': 'Main', 'container': 'Cabinet 6', 'specific': 'Shelf 6'}]\n",
      "Candidate: Black Acrylic Paint — [{'room': 'Cage', 'container': '5c', 'specific': 'Stack 21|-3'}]\n",
      "LLM returns: \n",
      " Scrap Cardstock Paper \n",
      " Cabinet 7\n",
      "\n",
      " *********************************************************** \n",
      " \n",
      "\n",
      " text =  manila drawing paper -\n",
      "\n",
      " link items =  []\n"
     ]
    },
    {
     "name": "stderr",
     "output_type": "stream",
     "text": [
      "Batches: 100%|██████████| 1/1 [00:00<00:00,  4.57it/s]\n"
     ]
    },
    {
     "name": "stdout",
     "output_type": "stream",
     "text": [
      "Candidate: Pegboard Hardware — [{'room': 'Cage', 'container': 'Pegboard', 'specific': ''}]\n",
      "Candidate: 3D Scanner — [{'room': 'The Crypt', 'container': '1d', 'specific': ''}]\n",
      "Candidate: Sew-on Metal Snaps — [{'room': 'Main', 'container': 'Pegboard 1', 'specific': 'C3'}]\n",
      "Candidate: Outdoor Timer — [{'room': 'The Crypt', 'container': '2d', 'specific': ''}]\n",
      "Candidate: Parchment Paper — [{'room': 'Cage', 'container': '4c', 'specific': ''}]\n",
      "LLM returns: \n",
      "  \n",
      " Cabinet 7\n",
      "\n",
      " *********************************************************** \n",
      " \n",
      "\n",
      " text =  black color paper -\n",
      "\n",
      " link items =  []\n"
     ]
    },
    {
     "name": "stderr",
     "output_type": "stream",
     "text": [
      "Batches: 100%|██████████| 1/1 [00:00<00:00, 11.94it/s]"
     ]
    },
    {
     "name": "stdout",
     "output_type": "stream",
     "text": [
      "Candidate: Gray Ribbon — [{'room': 'Main', 'container': 'Cabinet 6', 'specific': 'Shelf 6'}]\n",
      "Candidate: Extra Signage — [{'room': 'Cage', 'container': '8d', 'specific': ''}]\n",
      "Candidate: Scrap Cardstock Paper — [{'room': 'Main', 'container': 'Cabinet 7', 'specific': 'Top'}]\n",
      "Candidate: White Acrylic Paint — [{'room': 'Cage', 'container': '5c', 'specific': 'Stack 21|-3'}]\n",
      "Candidate: Digital Soldering Station — [{'room': 'Other', 'container': '', 'specific': None}]\n"
     ]
    },
    {
     "name": "stderr",
     "output_type": "stream",
     "text": [
      "\n"
     ]
    },
    {
     "name": "stdout",
     "output_type": "stream",
     "text": [
      "LLM returns: \n",
      " Scrap Cardstock Paper \n",
      " Cabinet 7\n",
      "\n",
      " *********************************************************** \n",
      " \n",
      "\n",
      " text =  patterned paper -\n",
      "\n",
      " link items =  []\n"
     ]
    },
    {
     "name": "stderr",
     "output_type": "stream",
     "text": [
      "Batches: 100%|██████████| 1/1 [00:00<00:00, 24.49it/s]"
     ]
    },
    {
     "name": "stdout",
     "output_type": "stream",
     "text": [
      "Candidate: Pegboard Hardware — [{'room': 'Cage', 'container': 'Pegboard', 'specific': ''}]\n",
      "Candidate: Iron Rest Pad — [{'room': 'Cage', 'container': '3b', 'specific': ''}]\n",
      "Candidate: Outdoor Timer — [{'room': 'The Crypt', 'container': '2d', 'specific': ''}]\n",
      "Candidate: Extra Signage — [{'room': 'Cage', 'container': '8d', 'specific': ''}]\n",
      "Candidate: Seaweed Salad — [{'room': 'Other', 'container': 'Refrigerator', 'specific': ''}]\n"
     ]
    },
    {
     "name": "stderr",
     "output_type": "stream",
     "text": [
      "\n"
     ]
    },
    {
     "name": "stdout",
     "output_type": "stream",
     "text": [
      "LLM returns: \n",
      "  \n",
      " Cabinet 7\n",
      "\n",
      " *********************************************************** \n",
      " \n",
      "\n",
      " text =  vellum -\n",
      "\n",
      " link items =  []\n"
     ]
    },
    {
     "name": "stderr",
     "output_type": "stream",
     "text": [
      "Batches: 100%|██████████| 1/1 [00:00<00:00, 17.90it/s]"
     ]
    },
    {
     "name": "stdout",
     "output_type": "stream",
     "text": [
      "Candidate: Wood Sealer — [{'room': 'Cage', 'container': '7', 'specific': None}]\n",
      "Candidate: Spool Hugging Net — [{'room': 'Main', 'container': 'Pegboard 1', 'specific': 'J3'}]\n",
      "Candidate: Seed Beads — [{'room': 'Main', 'container': 'Cabinet 3', 'specific': 'Shelf 10'}, {'room': 'Cage', 'container': '5d', 'specific': 'Stack 8|-3'}]\n",
      "Candidate: Soldering Irons — [{'room': 'Electronics', 'container': None, 'specific': None}]\n",
      "Candidate: Graphite Sketch Pencil Kit — [{'room': 'Cage', 'container': '1b', 'specific': ''}]\n"
     ]
    },
    {
     "name": "stderr",
     "output_type": "stream",
     "text": [
      "\n"
     ]
    },
    {
     "name": "stdout",
     "output_type": "stream",
     "text": [
      "LLM returns: \n",
      "  \n",
      " Cabinet 7\n",
      "\n",
      " *********************************************************** \n",
      " \n",
      "\n",
      " text =  colored cardstock -\n",
      "\n",
      " link items =  ['Neenah Astrodesigns Cardstock Pack 8.5\"X11\" 72/Pkg - 18 Bold & Vivid Colors']\n"
     ]
    },
    {
     "name": "stderr",
     "output_type": "stream",
     "text": [
      "Batches: 100%|██████████| 1/1 [00:00<00:00,  9.60it/s]"
     ]
    },
    {
     "name": "stdout",
     "output_type": "stream",
     "text": [
      "Candidate: Black Paracord — [{'room': 'Main', 'container': 'Pegboard 1', 'specific': 'Front'}]\n",
      "Candidate: 126 Pumpkin Thread — [{'room': 'Main', 'container': '', 'specific': ''}]\n",
      "Candidate: White Cardstock — [{'room': 'Cage', 'container': '', 'specific': ''}]\n",
      "Candidate: Red Cardstock — [{'room': 'Main', 'container': 'Cabinet 7', 'specific': ''}, {'room': 'Cage', 'container': '8d', 'specific': ''}]\n",
      "Candidate: Blue Buttons — [{'room': 'Main', 'container': 'Pegboard 1', 'specific': 'A5'}, {'room': 'Cage', 'container': '5d', 'specific': 'Stack 10|-2'}]\n"
     ]
    },
    {
     "name": "stderr",
     "output_type": "stream",
     "text": [
      "\n"
     ]
    },
    {
     "name": "stdout",
     "output_type": "stream",
     "text": [
      "LLM returns: \n",
      " Red Cardstock \n",
      " Cabinet 7\n",
      "\n",
      " *********************************************************** \n",
      " \n",
      "\n",
      " text =  kraft cardstock -\n",
      "\n",
      " link items =  []\n"
     ]
    },
    {
     "name": "stderr",
     "output_type": "stream",
     "text": [
      "Batches: 100%|██████████| 1/1 [00:00<00:00,  8.32it/s]"
     ]
    },
    {
     "name": "stdout",
     "output_type": "stream",
     "text": [
      "Candidate: Red Cardstock — [{'room': 'Main', 'container': 'Cabinet 7', 'specific': ''}, {'room': 'Cage', 'container': '8d', 'specific': ''}]\n",
      "Candidate: 126 Pumpkin Thread — [{'room': 'Main', 'container': '', 'specific': ''}]\n",
      "Candidate: White Cardstock — [{'room': 'Cage', 'container': '', 'specific': ''}]\n",
      "Candidate: Scrap Books/Magazines — [{'room': 'Main', 'container': 'Cabinet 7', 'specific': 'Top'}]\n",
      "Candidate: Black Paracord — [{'room': 'Main', 'container': 'Pegboard 1', 'specific': 'Front'}]\n"
     ]
    },
    {
     "name": "stderr",
     "output_type": "stream",
     "text": [
      "\n"
     ]
    },
    {
     "name": "stdout",
     "output_type": "stream",
     "text": [
      "LLM returns: \n",
      " Red Cardstock \n",
      " Cabinet 7\n",
      "\n",
      " *********************************************************** \n",
      " \n",
      "\n",
      " text =  metallic cardstock -\n",
      "\n",
      " link items =  []\n"
     ]
    },
    {
     "name": "stderr",
     "output_type": "stream",
     "text": [
      "Batches: 100%|██████████| 1/1 [00:00<00:00,  6.14it/s]"
     ]
    },
    {
     "name": "stdout",
     "output_type": "stream",
     "text": [
      "Candidate: Blue Buttons — [{'room': 'Main', 'container': 'Pegboard 1', 'specific': 'A5'}, {'room': 'Cage', 'container': '5d', 'specific': 'Stack 10|-2'}]\n",
      "Candidate: Red Cardstock — [{'room': 'Main', 'container': 'Cabinet 7', 'specific': ''}, {'room': 'Cage', 'container': '8d', 'specific': ''}]\n",
      "Candidate: White Cardstock — [{'room': 'Cage', 'container': '', 'specific': ''}]\n",
      "Candidate: 126 Pumpkin Thread — [{'room': 'Main', 'container': '', 'specific': ''}]\n",
      "Candidate: Black Paracord — [{'room': 'Main', 'container': 'Pegboard 1', 'specific': 'Front'}]\n"
     ]
    },
    {
     "name": "stderr",
     "output_type": "stream",
     "text": [
      "\n"
     ]
    },
    {
     "name": "stdout",
     "output_type": "stream",
     "text": [
      "LLM returns: \n",
      " Red Cardstock \n",
      " Cabinet 7\n",
      "\n",
      " *********************************************************** \n",
      " \n",
      "\n",
      " text =  shimmer cardstock -\n",
      "\n",
      " link items =  []\n"
     ]
    },
    {
     "name": "stderr",
     "output_type": "stream",
     "text": [
      "Batches: 100%|██████████| 1/1 [00:00<00:00, 15.29it/s]"
     ]
    },
    {
     "name": "stdout",
     "output_type": "stream",
     "text": [
      "Candidate: 126 Pumpkin Thread — [{'room': 'Main', 'container': '', 'specific': ''}]\n",
      "Candidate: White Cardstock — [{'room': 'Cage', 'container': '', 'specific': ''}]\n",
      "Candidate: Red Cardstock — [{'room': 'Main', 'container': 'Cabinet 7', 'specific': ''}, {'room': 'Cage', 'container': '8d', 'specific': ''}]\n",
      "Candidate: Scrap Books/Magazines — [{'room': 'Main', 'container': 'Cabinet 7', 'specific': 'Top'}]\n",
      "Candidate: Black Paracord — [{'room': 'Main', 'container': 'Pegboard 1', 'specific': 'Front'}]\n"
     ]
    },
    {
     "name": "stderr",
     "output_type": "stream",
     "text": [
      "\n"
     ]
    },
    {
     "name": "stdout",
     "output_type": "stream",
     "text": [
      "LLM returns: \n",
      " Red Cardstock \n",
      " Cabinet 7\n",
      "\n",
      " *********************************************************** \n",
      " \n",
      "\n",
      " text =  pegboard pins -\n",
      "\n",
      " link items =  []\n"
     ]
    },
    {
     "name": "stderr",
     "output_type": "stream",
     "text": [
      "Batches: 100%|██████████| 1/1 [00:00<00:00, 18.91it/s]"
     ]
    },
    {
     "name": "stdout",
     "output_type": "stream",
     "text": [
      "Candidate: Extra Large Metal Ruler (72\") — [{'room': 'Cage', 'container': 'Pegboard', 'specific': ''}]\n",
      "Candidate: Sawhorses — [{'room': 'Outdoor Storage', 'container': None, 'specific': None}]\n",
      "Candidate: Black Cardstock — [{'room': 'Cage', 'container': '', 'specific': ''}]\n",
      "Candidate:  Stencils — [{'room': 'Main', 'container': 'Cabinet 3', 'specific': 'Shelf 22'}, {'room': 'Backstock', 'container': 'Shelf 2', 'specific': '|11'}]\n",
      "Candidate: Velcro — [{'room': 'Main', 'container': 'Cabinet 1', 'specific': 'Shelf 17'}, {'room': 'Cage', 'container': '5d', 'specific': 'Stack 6|-3'}]\n"
     ]
    },
    {
     "name": "stderr",
     "output_type": "stream",
     "text": [
      "\n"
     ]
    },
    {
     "name": "stdout",
     "output_type": "stream",
     "text": [
      "LLM returns: \n",
      " Extra Large Metal Ruler (72\") \n",
      " Cage/Crypt/Other\n",
      "\n",
      " *********************************************************** \n",
      " \n",
      "\n",
      " text =  edge stich foot -\n",
      "\n",
      " link items =  []\n"
     ]
    },
    {
     "name": "stderr",
     "output_type": "stream",
     "text": [
      "Batches: 100%|██████████| 1/1 [00:00<00:00,  8.12it/s]"
     ]
    },
    {
     "name": "stdout",
     "output_type": "stream",
     "text": [
      "Candidate: Even Feed Walking Foot — [{'room': 'Main', 'container': 'Pegboard 1', 'specific': 'L7'}]\n",
      "Candidate: Gum Eraser — [{'room': 'Main', 'container': 'Pegboard 1', 'specific': 'D7'}, {'room': 'Cage', 'container': '5e', 'specific': 'Pegboard Bins|2'}]\n",
      "Candidate: Misc. Hemmer Feet — [{'room': 'Main', 'container': 'Pegboard 1', 'specific': 'K6'}]\n",
      "Candidate: Edge Stitch Foot — [{'room': 'Main', 'container': 'Pegboard 1', 'specific': 'J5'}]\n",
      "Candidate: Foam Sheets — [{'room': 'Main', 'container': 'Cabinet 2', 'specific': 'Shelf 17'}, {'room': 'Cage', 'container': '5d', 'specific': 'Stack 16|-3'}, {'room': 'Cage', 'container': '5b', 'specific': 'Right of Ziplocs'}]\n"
     ]
    },
    {
     "name": "stderr",
     "output_type": "stream",
     "text": [
      "\n"
     ]
    },
    {
     "name": "stdout",
     "output_type": "stream",
     "text": [
      "LLM returns: \n",
      " Edge Stitch Foot \n",
      " Pegboard 1\n",
      "\n",
      " *********************************************************** \n",
      " \n",
      "\n",
      " text =  binder foot -\n",
      "\n",
      " link items =  []\n"
     ]
    },
    {
     "name": "stderr",
     "output_type": "stream",
     "text": [
      "Batches: 100%|██████████| 1/1 [00:00<00:00, 19.55it/s]"
     ]
    },
    {
     "name": "stdout",
     "output_type": "stream",
     "text": [
      "Candidate: Embroidery Darning Foot — [{'room': 'Main', 'container': 'Pegboard 1', 'specific': 'K1'}]\n",
      "Candidate: Edge Stitch Foot — [{'room': 'Main', 'container': 'Pegboard 1', 'specific': 'J5'}]\n",
      "Candidate: Misc. Hemmer Feet — [{'room': 'Main', 'container': 'Pegboard 1', 'specific': 'K6'}]\n",
      "Candidate: Foam Sheets — [{'room': 'Main', 'container': 'Cabinet 2', 'specific': 'Shelf 17'}, {'room': 'Cage', 'container': '5d', 'specific': 'Stack 16|-3'}, {'room': 'Cage', 'container': '5b', 'specific': 'Right of Ziplocs'}]\n",
      "Candidate: Craft Paper — [{'room': 'Main', 'container': 'near lockers', 'specific': ''}, {'room': 'The Crypt', 'container': 'Floor', 'specific': '|1'}]\n"
     ]
    },
    {
     "name": "stderr",
     "output_type": "stream",
     "text": [
      "\n"
     ]
    },
    {
     "name": "stdout",
     "output_type": "stream",
     "text": [
      "LLM returns: \n",
      " Edge Stitch Foot \n",
      " Pegboard 1\n",
      "\n",
      " *********************************************************** \n",
      " \n",
      "\n",
      " text =  hemmer foot -\n",
      "\n",
      " link items =  [\"Baby Lock Hemmer Foot Set - Moore's Sewing\"]\n"
     ]
    },
    {
     "name": "stderr",
     "output_type": "stream",
     "text": [
      "Batches: 100%|██████████| 1/1 [00:00<00:00,  6.96it/s]"
     ]
    },
    {
     "name": "stdout",
     "output_type": "stream",
     "text": [
      "Candidate: Craft Paper — [{'room': 'Main', 'container': 'near lockers', 'specific': ''}, {'room': 'The Crypt', 'container': 'Floor', 'specific': '|1'}]\n",
      "Candidate: Baby Lock Sewing Machine 10 — [{'room': 'Cage', 'container': '3d', 'specific': ''}]\n",
      "Candidate: Baby Lock Sewing Machine 07 — [{'room': 'Cage', 'container': '3d', 'specific': ''}]\n",
      "Candidate: Baby Lock Sewing Machine 05 — [{'room': 'Cage', 'container': '3d', 'specific': ''}]\n",
      "Candidate: Baby Lock Sewing Machine 12 — [{'room': 'Cage', 'container': '3d', 'specific': ''}]\n"
     ]
    },
    {
     "name": "stderr",
     "output_type": "stream",
     "text": [
      "\n"
     ]
    },
    {
     "name": "stdout",
     "output_type": "stream",
     "text": [
      "LLM returns: \n",
      "  \n",
      " Pegboard 1\n",
      "\n",
      " *********************************************************** \n",
      " \n",
      "\n",
      " text =  Gold chain UPDATED LINK\n",
      "\n",
      " link items =  []\n"
     ]
    },
    {
     "name": "stderr",
     "output_type": "stream",
     "text": [
      "Batches: 100%|██████████| 1/1 [00:00<00:00,  4.01it/s]\n"
     ]
    },
    {
     "name": "stdout",
     "output_type": "stream",
     "text": [
      "Candidate: Safety Pins — [{'room': 'Main', 'container': 'Cabinet 3', 'specific': 'Shelf 20'}, {'room': 'Main', 'container': 'Pegboard 1', 'specific': 'C4|-3'}, {'room': 'Cage', 'container': '5c', 'specific': 'Stack 18|-3'}]\n",
      "Candidate: 205 Yellow Thread — [{'room': 'Main', 'container': '', 'specific': ''}]\n",
      "Candidate: Baby Lock Sewing Machine 01 — [{'room': 'Cage', 'container': '3d', 'specific': None}]\n",
      "Candidate: 001 White Thread — [{'room': 'Main', 'container': '', 'specific': ''}]\n",
      "Candidate: Plastic/Metal Wire Cutters — [{'room': 'Laser3D', 'container': 'Main Table', 'specific': ''}, {'room': 'Cage', 'container': '5c', 'specific': 'Stack 5|-1'}]\n",
      "LLM returns: \n",
      " Safety Pins \n",
      " Cabinet 3\n",
      "\n",
      " *********************************************************** \n",
      " \n",
      "\n",
      " text =  Nails UPDATED LINK\n",
      "\n",
      " link items =  []\n"
     ]
    },
    {
     "name": "stderr",
     "output_type": "stream",
     "text": [
      "Batches: 100%|██████████| 1/1 [00:00<00:00,  3.35it/s]\n"
     ]
    },
    {
     "name": "stdout",
     "output_type": "stream",
     "text": [
      "Candidate: Pipe Wrenches — [{'room': 'Main', 'container': 'Cabinet 11', 'specific': 'Shelf 7'}]\n",
      "Candidate: Ear Plugs — [{'room': 'Cage', 'container': '8c', 'specific': None}]\n",
      "Candidate: Even Feed Walking Foot — [{'room': 'Main', 'container': 'Pegboard 1', 'specific': 'L7'}]\n",
      "Candidate: Edge Stitch Foot — [{'room': 'Main', 'container': 'Pegboard 1', 'specific': 'J5'}]\n",
      "Candidate: Hoses — [{'room': 'Main', 'container': 'Cabinet 9', 'specific': 'Shelf 5'}]\n",
      "LLM returns: \n",
      " Pipe Wrenches \n",
      " Cabinet 11\n",
      "\n",
      " *********************************************************** \n",
      " \n",
      "\n",
      " text =  sew on metal snaps\n",
      "\n",
      " link items =  []\n"
     ]
    },
    {
     "name": "stderr",
     "output_type": "stream",
     "text": [
      "Batches: 100%|██████████| 1/1 [00:00<00:00,  5.82it/s]"
     ]
    },
    {
     "name": "stdout",
     "output_type": "stream",
     "text": [
      "Candidate: Medium Clamps (6\") — [{'room': 'Main', 'container': 'Cabinet 11', 'specific': 'Shelf 9'}, {'room': 'Backstock', 'container': 'Shelf 2', 'specific': '|2'}]\n",
      "Candidate: Scale (5 kg) — [{'room': 'Cage', 'container': '2b', 'specific': ''}]\n",
      "Candidate: Adjustable Button Rotary Cutter (1\" - 2.25\") — [{'room': 'Cage', 'container': '1c', 'specific': None}]\n",
      "Candidate: Thread Cutters — [{'room': 'Main', 'container': 'Pegboard 1', 'specific': 'E7'}, {'room': 'Cage', 'container': '5c', 'specific': 'Stack 7|13'}]\n",
      "Candidate: Large Paper — [{'room': 'Cage', 'container': '4c', 'specific': ''}]\n"
     ]
    },
    {
     "name": "stderr",
     "output_type": "stream",
     "text": [
      "\n"
     ]
    },
    {
     "name": "stdout",
     "output_type": "stream",
     "text": [
      "LLM returns: \n",
      " Thread Cutters \n",
      " Pegboard 1\n",
      "\n",
      " *********************************************************** \n",
      " \n",
      "\n",
      " text =  SLS Nylon Powder\n",
      "\n",
      " link items =  []\n"
     ]
    },
    {
     "name": "stderr",
     "output_type": "stream",
     "text": [
      "Batches: 100%|██████████| 1/1 [00:00<00:00,  7.92it/s]"
     ]
    },
    {
     "name": "stdout",
     "output_type": "stream",
     "text": [
      "Candidate: Black Cotton Thread — [{'room': 'Cage', 'container': '5c', 'specific': 'Stack 1|-3'}]\n",
      "Candidate: White Cotton Thread — [{'room': 'Cage', 'container': '5c', 'specific': 'Stack 1|-3'}]\n",
      "Candidate: T-pins — [{'room': 'Main', 'container': 'Pegboard 1', 'specific': 'F5'}]\n",
      "Candidate: Keychain Clasps — [{'room': 'Main', 'container': 'Cabinet 3', 'specific': 'Shelf 9'}, {'room': 'Cage', 'container': '5d', 'specific': 'Stack 3|-3'}]\n",
      "Candidate: Watercolor Paper — [{'room': 'Main', 'container': 'Cabinet 7', 'specific': ''}]\n"
     ]
    },
    {
     "name": "stderr",
     "output_type": "stream",
     "text": [
      "\n"
     ]
    },
    {
     "name": "stdout",
     "output_type": "stream",
     "text": [
      "LLM returns: \n",
      "  \n",
      " Laser3D\n",
      "\n",
      " *********************************************************** \n",
      " \n",
      "\n",
      " text =  Silica desiccant beads for 3D printers\n",
      "\n",
      " link items =  ['Dry & Dry 20 Gram [50 Packets] Blue Indicating(Blue to Pink) Silica Gel Packets Desiccant Silica Gel Packets - Rechargeable Silica Packets, Silica Gel, Silica Gel Packs']\n"
     ]
    },
    {
     "name": "stderr",
     "output_type": "stream",
     "text": [
      "Batches: 100%|██████████| 1/1 [00:00<00:00,  6.51it/s]"
     ]
    },
    {
     "name": "stdout",
     "output_type": "stream",
     "text": [
      "Candidate: Colored Pencils — [{'room': 'Main', 'container': 'Cabinet 4', 'specific': 'Shelf 10'}]\n",
      "Candidate: Mixer, Mackie  — [{'room': 'Studio', 'container': 'Sound Booth', 'specific': None}]\n",
      "Candidate: Push Pins — [{'room': 'Main', 'container': 'Cabinet 3', 'specific': 'Shelf 23'}, {'room': 'Cage', 'container': '5c', 'specific': 'Stack 16|-3'}]\n",
      "Candidate: Pony Beads — [{'room': 'Main', 'container': 'Cabinet 3', 'specific': 'Shelf 13'}, {'room': 'Cage', 'container': '5e', 'specific': '|4'}]\n",
      "Candidate: Ethanol — [{'room': 'Cage', 'container': 'Flammable', 'specific': None}]\n"
     ]
    },
    {
     "name": "stderr",
     "output_type": "stream",
     "text": [
      "\n"
     ]
    },
    {
     "name": "stdout",
     "output_type": "stream",
     "text": [
      "LLM returns: \n",
      "  \n",
      " Laser3D\n",
      "\n",
      " *********************************************************** \n",
      " \n"
     ]
    },
    {
     "ename": "KeyboardInterrupt",
     "evalue": "",
     "output_type": "error",
     "traceback": [
      "\u001b[31m---------------------------------------------------------------------------\u001b[39m",
      "\u001b[31mKeyboardInterrupt\u001b[39m                         Traceback (most recent call last)",
      "\u001b[36mCell\u001b[39m\u001b[36m \u001b[39m\u001b[32mIn[26]\u001b[39m\u001b[32m, line 14\u001b[39m\n\u001b[32m     11\u001b[39m \u001b[38;5;28mprint\u001b[39m (\u001b[33m\"\u001b[39m\u001b[38;5;130;01m\\n\u001b[39;00m\u001b[33m *********************************************************** \u001b[39m\u001b[38;5;130;01m\\n\u001b[39;00m\u001b[33m \u001b[39m\u001b[33m\"\u001b[39m)\n\u001b[32m     13\u001b[39m \u001b[38;5;66;03m# Split text vs links\u001b[39;00m\n\u001b[32m---> \u001b[39m\u001b[32m14\u001b[39m user_request_text, links_items_list = \u001b[43mlink_find_split\u001b[49m\u001b[43m(\u001b[49m\u001b[43mreq\u001b[49m\u001b[43m[\u001b[49m\u001b[33;43m\"\u001b[39;49m\u001b[33;43mitem\u001b[39;49m\u001b[33;43m\"\u001b[39;49m\u001b[43m]\u001b[49m\u001b[43m)\u001b[49m\n\u001b[32m     15\u001b[39m \u001b[38;5;28mprint\u001b[39m (\u001b[33m\"\u001b[39m\u001b[38;5;130;01m\\n\u001b[39;00m\u001b[33m text = \u001b[39m\u001b[33m\"\u001b[39m, user_request_text)\n\u001b[32m     16\u001b[39m \u001b[38;5;28mprint\u001b[39m (\u001b[33m\"\u001b[39m\u001b[38;5;130;01m\\n\u001b[39;00m\u001b[33m link items = \u001b[39m\u001b[33m\"\u001b[39m, links_items_list)\n",
      "\u001b[36mCell\u001b[39m\u001b[36m \u001b[39m\u001b[32mIn[3]\u001b[39m\u001b[32m, line 95\u001b[39m, in \u001b[36mlink_find_split\u001b[39m\u001b[34m(user_request)\u001b[39m\n\u001b[32m     92\u001b[39m urls = url_pattern.findall(user_request)\n\u001b[32m     93\u001b[39m user_request_text = url_pattern.sub(\u001b[33m\"\u001b[39m\u001b[33m\"\u001b[39m, user_request).strip()\n\u001b[32m---> \u001b[39m\u001b[32m95\u001b[39m link_titles = \u001b[43mlink_parser\u001b[49m\u001b[43m(\u001b[49m\u001b[43murls\u001b[49m\u001b[43m)\u001b[49m\n\u001b[32m     96\u001b[39m \u001b[38;5;28;01mreturn\u001b[39;00m user_request_text, link_titles\n",
      "\u001b[36mCell\u001b[39m\u001b[36m \u001b[39m\u001b[32mIn[3]\u001b[39m\u001b[32m, line 67\u001b[39m, in \u001b[36mlink_parser\u001b[39m\u001b[34m(urls, timeout, sleep_sec)\u001b[39m\n\u001b[32m     64\u001b[39m seen.add(u)\n\u001b[32m     66\u001b[39m \u001b[38;5;28;01mtry\u001b[39;00m:\n\u001b[32m---> \u001b[39m\u001b[32m67\u001b[39m     r = \u001b[43mrequests\u001b[49m\u001b[43m.\u001b[49m\u001b[43mget\u001b[49m\u001b[43m(\u001b[49m\u001b[43mu\u001b[49m\u001b[43m,\u001b[49m\u001b[43m \u001b[49m\u001b[43mheaders\u001b[49m\u001b[43m=\u001b[49m\u001b[43m_HEADERS\u001b[49m\u001b[43m,\u001b[49m\u001b[43m \u001b[49m\u001b[43mtimeout\u001b[49m\u001b[43m=\u001b[49m\u001b[43mtimeout\u001b[49m\u001b[43m)\u001b[49m\n\u001b[32m     68\u001b[39m     \u001b[38;5;66;03m# DEBUG: show status; uncomment next line to dump HTML if needed\u001b[39;00m\n\u001b[32m     69\u001b[39m     \u001b[38;5;66;03m# print(\"DEBUG status:\", r.status_code, \"URL:\", u)\u001b[39;00m\n\u001b[32m     70\u001b[39m     \u001b[38;5;28;01mif\u001b[39;00m r.status_code != \u001b[32m200\u001b[39m \u001b[38;5;129;01mor\u001b[39;00m \u001b[38;5;129;01mnot\u001b[39;00m r.text:\n",
      "\u001b[36mFile \u001b[39m\u001b[32m~/Downloads/MakerspaceInventoryRestockAnalysis/.venv/lib/python3.13/site-packages/requests/api.py:73\u001b[39m, in \u001b[36mget\u001b[39m\u001b[34m(url, params, **kwargs)\u001b[39m\n\u001b[32m     62\u001b[39m \u001b[38;5;28;01mdef\u001b[39;00m\u001b[38;5;250m \u001b[39m\u001b[34mget\u001b[39m(url, params=\u001b[38;5;28;01mNone\u001b[39;00m, **kwargs):\n\u001b[32m     63\u001b[39m \u001b[38;5;250m    \u001b[39m\u001b[33mr\u001b[39m\u001b[33;03m\"\"\"Sends a GET request.\u001b[39;00m\n\u001b[32m     64\u001b[39m \n\u001b[32m     65\u001b[39m \u001b[33;03m    :param url: URL for the new :class:`Request` object.\u001b[39;00m\n\u001b[32m   (...)\u001b[39m\u001b[32m     70\u001b[39m \u001b[33;03m    :rtype: requests.Response\u001b[39;00m\n\u001b[32m     71\u001b[39m \u001b[33;03m    \"\"\"\u001b[39;00m\n\u001b[32m---> \u001b[39m\u001b[32m73\u001b[39m     \u001b[38;5;28;01mreturn\u001b[39;00m \u001b[43mrequest\u001b[49m\u001b[43m(\u001b[49m\u001b[33;43m\"\u001b[39;49m\u001b[33;43mget\u001b[39;49m\u001b[33;43m\"\u001b[39;49m\u001b[43m,\u001b[49m\u001b[43m \u001b[49m\u001b[43murl\u001b[49m\u001b[43m,\u001b[49m\u001b[43m \u001b[49m\u001b[43mparams\u001b[49m\u001b[43m=\u001b[49m\u001b[43mparams\u001b[49m\u001b[43m,\u001b[49m\u001b[43m \u001b[49m\u001b[43m*\u001b[49m\u001b[43m*\u001b[49m\u001b[43mkwargs\u001b[49m\u001b[43m)\u001b[49m\n",
      "\u001b[36mFile \u001b[39m\u001b[32m~/Downloads/MakerspaceInventoryRestockAnalysis/.venv/lib/python3.13/site-packages/requests/api.py:59\u001b[39m, in \u001b[36mrequest\u001b[39m\u001b[34m(method, url, **kwargs)\u001b[39m\n\u001b[32m     55\u001b[39m \u001b[38;5;66;03m# By using the 'with' statement we are sure the session is closed, thus we\u001b[39;00m\n\u001b[32m     56\u001b[39m \u001b[38;5;66;03m# avoid leaving sockets open which can trigger a ResourceWarning in some\u001b[39;00m\n\u001b[32m     57\u001b[39m \u001b[38;5;66;03m# cases, and look like a memory leak in others.\u001b[39;00m\n\u001b[32m     58\u001b[39m \u001b[38;5;28;01mwith\u001b[39;00m sessions.Session() \u001b[38;5;28;01mas\u001b[39;00m session:\n\u001b[32m---> \u001b[39m\u001b[32m59\u001b[39m     \u001b[38;5;28;01mreturn\u001b[39;00m \u001b[43msession\u001b[49m\u001b[43m.\u001b[49m\u001b[43mrequest\u001b[49m\u001b[43m(\u001b[49m\u001b[43mmethod\u001b[49m\u001b[43m=\u001b[49m\u001b[43mmethod\u001b[49m\u001b[43m,\u001b[49m\u001b[43m \u001b[49m\u001b[43murl\u001b[49m\u001b[43m=\u001b[49m\u001b[43murl\u001b[49m\u001b[43m,\u001b[49m\u001b[43m \u001b[49m\u001b[43m*\u001b[49m\u001b[43m*\u001b[49m\u001b[43mkwargs\u001b[49m\u001b[43m)\u001b[49m\n",
      "\u001b[36mFile \u001b[39m\u001b[32m~/Downloads/MakerspaceInventoryRestockAnalysis/.venv/lib/python3.13/site-packages/requests/sessions.py:589\u001b[39m, in \u001b[36mSession.request\u001b[39m\u001b[34m(self, method, url, params, data, headers, cookies, files, auth, timeout, allow_redirects, proxies, hooks, stream, verify, cert, json)\u001b[39m\n\u001b[32m    584\u001b[39m send_kwargs = {\n\u001b[32m    585\u001b[39m     \u001b[33m\"\u001b[39m\u001b[33mtimeout\u001b[39m\u001b[33m\"\u001b[39m: timeout,\n\u001b[32m    586\u001b[39m     \u001b[33m\"\u001b[39m\u001b[33mallow_redirects\u001b[39m\u001b[33m\"\u001b[39m: allow_redirects,\n\u001b[32m    587\u001b[39m }\n\u001b[32m    588\u001b[39m send_kwargs.update(settings)\n\u001b[32m--> \u001b[39m\u001b[32m589\u001b[39m resp = \u001b[38;5;28;43mself\u001b[39;49m\u001b[43m.\u001b[49m\u001b[43msend\u001b[49m\u001b[43m(\u001b[49m\u001b[43mprep\u001b[49m\u001b[43m,\u001b[49m\u001b[43m \u001b[49m\u001b[43m*\u001b[49m\u001b[43m*\u001b[49m\u001b[43msend_kwargs\u001b[49m\u001b[43m)\u001b[49m\n\u001b[32m    591\u001b[39m \u001b[38;5;28;01mreturn\u001b[39;00m resp\n",
      "\u001b[36mFile \u001b[39m\u001b[32m~/Downloads/MakerspaceInventoryRestockAnalysis/.venv/lib/python3.13/site-packages/requests/sessions.py:703\u001b[39m, in \u001b[36mSession.send\u001b[39m\u001b[34m(self, request, **kwargs)\u001b[39m\n\u001b[32m    700\u001b[39m start = preferred_clock()\n\u001b[32m    702\u001b[39m \u001b[38;5;66;03m# Send the request\u001b[39;00m\n\u001b[32m--> \u001b[39m\u001b[32m703\u001b[39m r = \u001b[43madapter\u001b[49m\u001b[43m.\u001b[49m\u001b[43msend\u001b[49m\u001b[43m(\u001b[49m\u001b[43mrequest\u001b[49m\u001b[43m,\u001b[49m\u001b[43m \u001b[49m\u001b[43m*\u001b[49m\u001b[43m*\u001b[49m\u001b[43mkwargs\u001b[49m\u001b[43m)\u001b[49m\n\u001b[32m    705\u001b[39m \u001b[38;5;66;03m# Total elapsed time of the request (approximately)\u001b[39;00m\n\u001b[32m    706\u001b[39m elapsed = preferred_clock() - start\n",
      "\u001b[36mFile \u001b[39m\u001b[32m~/Downloads/MakerspaceInventoryRestockAnalysis/.venv/lib/python3.13/site-packages/requests/adapters.py:644\u001b[39m, in \u001b[36mHTTPAdapter.send\u001b[39m\u001b[34m(self, request, stream, timeout, verify, cert, proxies)\u001b[39m\n\u001b[32m    641\u001b[39m     timeout = TimeoutSauce(connect=timeout, read=timeout)\n\u001b[32m    643\u001b[39m \u001b[38;5;28;01mtry\u001b[39;00m:\n\u001b[32m--> \u001b[39m\u001b[32m644\u001b[39m     resp = \u001b[43mconn\u001b[49m\u001b[43m.\u001b[49m\u001b[43murlopen\u001b[49m\u001b[43m(\u001b[49m\n\u001b[32m    645\u001b[39m \u001b[43m        \u001b[49m\u001b[43mmethod\u001b[49m\u001b[43m=\u001b[49m\u001b[43mrequest\u001b[49m\u001b[43m.\u001b[49m\u001b[43mmethod\u001b[49m\u001b[43m,\u001b[49m\n\u001b[32m    646\u001b[39m \u001b[43m        \u001b[49m\u001b[43murl\u001b[49m\u001b[43m=\u001b[49m\u001b[43murl\u001b[49m\u001b[43m,\u001b[49m\n\u001b[32m    647\u001b[39m \u001b[43m        \u001b[49m\u001b[43mbody\u001b[49m\u001b[43m=\u001b[49m\u001b[43mrequest\u001b[49m\u001b[43m.\u001b[49m\u001b[43mbody\u001b[49m\u001b[43m,\u001b[49m\n\u001b[32m    648\u001b[39m \u001b[43m        \u001b[49m\u001b[43mheaders\u001b[49m\u001b[43m=\u001b[49m\u001b[43mrequest\u001b[49m\u001b[43m.\u001b[49m\u001b[43mheaders\u001b[49m\u001b[43m,\u001b[49m\n\u001b[32m    649\u001b[39m \u001b[43m        \u001b[49m\u001b[43mredirect\u001b[49m\u001b[43m=\u001b[49m\u001b[38;5;28;43;01mFalse\u001b[39;49;00m\u001b[43m,\u001b[49m\n\u001b[32m    650\u001b[39m \u001b[43m        \u001b[49m\u001b[43massert_same_host\u001b[49m\u001b[43m=\u001b[49m\u001b[38;5;28;43;01mFalse\u001b[39;49;00m\u001b[43m,\u001b[49m\n\u001b[32m    651\u001b[39m \u001b[43m        \u001b[49m\u001b[43mpreload_content\u001b[49m\u001b[43m=\u001b[49m\u001b[38;5;28;43;01mFalse\u001b[39;49;00m\u001b[43m,\u001b[49m\n\u001b[32m    652\u001b[39m \u001b[43m        \u001b[49m\u001b[43mdecode_content\u001b[49m\u001b[43m=\u001b[49m\u001b[38;5;28;43;01mFalse\u001b[39;49;00m\u001b[43m,\u001b[49m\n\u001b[32m    653\u001b[39m \u001b[43m        \u001b[49m\u001b[43mretries\u001b[49m\u001b[43m=\u001b[49m\u001b[38;5;28;43mself\u001b[39;49m\u001b[43m.\u001b[49m\u001b[43mmax_retries\u001b[49m\u001b[43m,\u001b[49m\n\u001b[32m    654\u001b[39m \u001b[43m        \u001b[49m\u001b[43mtimeout\u001b[49m\u001b[43m=\u001b[49m\u001b[43mtimeout\u001b[49m\u001b[43m,\u001b[49m\n\u001b[32m    655\u001b[39m \u001b[43m        \u001b[49m\u001b[43mchunked\u001b[49m\u001b[43m=\u001b[49m\u001b[43mchunked\u001b[49m\u001b[43m,\u001b[49m\n\u001b[32m    656\u001b[39m \u001b[43m    \u001b[49m\u001b[43m)\u001b[49m\n\u001b[32m    658\u001b[39m \u001b[38;5;28;01mexcept\u001b[39;00m (ProtocolError, \u001b[38;5;167;01mOSError\u001b[39;00m) \u001b[38;5;28;01mas\u001b[39;00m err:\n\u001b[32m    659\u001b[39m     \u001b[38;5;28;01mraise\u001b[39;00m \u001b[38;5;167;01mConnectionError\u001b[39;00m(err, request=request)\n",
      "\u001b[36mFile \u001b[39m\u001b[32m~/Downloads/MakerspaceInventoryRestockAnalysis/.venv/lib/python3.13/site-packages/urllib3/connectionpool.py:787\u001b[39m, in \u001b[36mHTTPConnectionPool.urlopen\u001b[39m\u001b[34m(self, method, url, body, headers, retries, redirect, assert_same_host, timeout, pool_timeout, release_conn, chunked, body_pos, preload_content, decode_content, **response_kw)\u001b[39m\n\u001b[32m    784\u001b[39m response_conn = conn \u001b[38;5;28;01mif\u001b[39;00m \u001b[38;5;129;01mnot\u001b[39;00m release_conn \u001b[38;5;28;01melse\u001b[39;00m \u001b[38;5;28;01mNone\u001b[39;00m\n\u001b[32m    786\u001b[39m \u001b[38;5;66;03m# Make the request on the HTTPConnection object\u001b[39;00m\n\u001b[32m--> \u001b[39m\u001b[32m787\u001b[39m response = \u001b[38;5;28;43mself\u001b[39;49m\u001b[43m.\u001b[49m\u001b[43m_make_request\u001b[49m\u001b[43m(\u001b[49m\n\u001b[32m    788\u001b[39m \u001b[43m    \u001b[49m\u001b[43mconn\u001b[49m\u001b[43m,\u001b[49m\n\u001b[32m    789\u001b[39m \u001b[43m    \u001b[49m\u001b[43mmethod\u001b[49m\u001b[43m,\u001b[49m\n\u001b[32m    790\u001b[39m \u001b[43m    \u001b[49m\u001b[43murl\u001b[49m\u001b[43m,\u001b[49m\n\u001b[32m    791\u001b[39m \u001b[43m    \u001b[49m\u001b[43mtimeout\u001b[49m\u001b[43m=\u001b[49m\u001b[43mtimeout_obj\u001b[49m\u001b[43m,\u001b[49m\n\u001b[32m    792\u001b[39m \u001b[43m    \u001b[49m\u001b[43mbody\u001b[49m\u001b[43m=\u001b[49m\u001b[43mbody\u001b[49m\u001b[43m,\u001b[49m\n\u001b[32m    793\u001b[39m \u001b[43m    \u001b[49m\u001b[43mheaders\u001b[49m\u001b[43m=\u001b[49m\u001b[43mheaders\u001b[49m\u001b[43m,\u001b[49m\n\u001b[32m    794\u001b[39m \u001b[43m    \u001b[49m\u001b[43mchunked\u001b[49m\u001b[43m=\u001b[49m\u001b[43mchunked\u001b[49m\u001b[43m,\u001b[49m\n\u001b[32m    795\u001b[39m \u001b[43m    \u001b[49m\u001b[43mretries\u001b[49m\u001b[43m=\u001b[49m\u001b[43mretries\u001b[49m\u001b[43m,\u001b[49m\n\u001b[32m    796\u001b[39m \u001b[43m    \u001b[49m\u001b[43mresponse_conn\u001b[49m\u001b[43m=\u001b[49m\u001b[43mresponse_conn\u001b[49m\u001b[43m,\u001b[49m\n\u001b[32m    797\u001b[39m \u001b[43m    \u001b[49m\u001b[43mpreload_content\u001b[49m\u001b[43m=\u001b[49m\u001b[43mpreload_content\u001b[49m\u001b[43m,\u001b[49m\n\u001b[32m    798\u001b[39m \u001b[43m    \u001b[49m\u001b[43mdecode_content\u001b[49m\u001b[43m=\u001b[49m\u001b[43mdecode_content\u001b[49m\u001b[43m,\u001b[49m\n\u001b[32m    799\u001b[39m \u001b[43m    \u001b[49m\u001b[43m*\u001b[49m\u001b[43m*\u001b[49m\u001b[43mresponse_kw\u001b[49m\u001b[43m,\u001b[49m\n\u001b[32m    800\u001b[39m \u001b[43m\u001b[49m\u001b[43m)\u001b[49m\n\u001b[32m    802\u001b[39m \u001b[38;5;66;03m# Everything went great!\u001b[39;00m\n\u001b[32m    803\u001b[39m clean_exit = \u001b[38;5;28;01mTrue\u001b[39;00m\n",
      "\u001b[36mFile \u001b[39m\u001b[32m~/Downloads/MakerspaceInventoryRestockAnalysis/.venv/lib/python3.13/site-packages/urllib3/connectionpool.py:534\u001b[39m, in \u001b[36mHTTPConnectionPool._make_request\u001b[39m\u001b[34m(self, conn, method, url, body, headers, retries, timeout, chunked, response_conn, preload_content, decode_content, enforce_content_length)\u001b[39m\n\u001b[32m    532\u001b[39m \u001b[38;5;66;03m# Receive the response from the server\u001b[39;00m\n\u001b[32m    533\u001b[39m \u001b[38;5;28;01mtry\u001b[39;00m:\n\u001b[32m--> \u001b[39m\u001b[32m534\u001b[39m     response = \u001b[43mconn\u001b[49m\u001b[43m.\u001b[49m\u001b[43mgetresponse\u001b[49m\u001b[43m(\u001b[49m\u001b[43m)\u001b[49m\n\u001b[32m    535\u001b[39m \u001b[38;5;28;01mexcept\u001b[39;00m (BaseSSLError, \u001b[38;5;167;01mOSError\u001b[39;00m) \u001b[38;5;28;01mas\u001b[39;00m e:\n\u001b[32m    536\u001b[39m     \u001b[38;5;28mself\u001b[39m._raise_timeout(err=e, url=url, timeout_value=read_timeout)\n",
      "\u001b[36mFile \u001b[39m\u001b[32m~/Downloads/MakerspaceInventoryRestockAnalysis/.venv/lib/python3.13/site-packages/urllib3/connection.py:565\u001b[39m, in \u001b[36mHTTPConnection.getresponse\u001b[39m\u001b[34m(self)\u001b[39m\n\u001b[32m    562\u001b[39m _shutdown = \u001b[38;5;28mgetattr\u001b[39m(\u001b[38;5;28mself\u001b[39m.sock, \u001b[33m\"\u001b[39m\u001b[33mshutdown\u001b[39m\u001b[33m\"\u001b[39m, \u001b[38;5;28;01mNone\u001b[39;00m)\n\u001b[32m    564\u001b[39m \u001b[38;5;66;03m# Get the response from http.client.HTTPConnection\u001b[39;00m\n\u001b[32m--> \u001b[39m\u001b[32m565\u001b[39m httplib_response = \u001b[38;5;28;43msuper\u001b[39;49m\u001b[43m(\u001b[49m\u001b[43m)\u001b[49m\u001b[43m.\u001b[49m\u001b[43mgetresponse\u001b[49m\u001b[43m(\u001b[49m\u001b[43m)\u001b[49m\n\u001b[32m    567\u001b[39m \u001b[38;5;28;01mtry\u001b[39;00m:\n\u001b[32m    568\u001b[39m     assert_header_parsing(httplib_response.msg)\n",
      "\u001b[36mFile \u001b[39m\u001b[32m/opt/homebrew/Cellar/python@3.13/3.13.2/Frameworks/Python.framework/Versions/3.13/lib/python3.13/http/client.py:1430\u001b[39m, in \u001b[36mHTTPConnection.getresponse\u001b[39m\u001b[34m(self)\u001b[39m\n\u001b[32m   1428\u001b[39m \u001b[38;5;28;01mtry\u001b[39;00m:\n\u001b[32m   1429\u001b[39m     \u001b[38;5;28;01mtry\u001b[39;00m:\n\u001b[32m-> \u001b[39m\u001b[32m1430\u001b[39m         \u001b[43mresponse\u001b[49m\u001b[43m.\u001b[49m\u001b[43mbegin\u001b[49m\u001b[43m(\u001b[49m\u001b[43m)\u001b[49m\n\u001b[32m   1431\u001b[39m     \u001b[38;5;28;01mexcept\u001b[39;00m \u001b[38;5;167;01mConnectionError\u001b[39;00m:\n\u001b[32m   1432\u001b[39m         \u001b[38;5;28mself\u001b[39m.close()\n",
      "\u001b[36mFile \u001b[39m\u001b[32m/opt/homebrew/Cellar/python@3.13/3.13.2/Frameworks/Python.framework/Versions/3.13/lib/python3.13/http/client.py:331\u001b[39m, in \u001b[36mHTTPResponse.begin\u001b[39m\u001b[34m(self)\u001b[39m\n\u001b[32m    329\u001b[39m \u001b[38;5;66;03m# read until we get a non-100 response\u001b[39;00m\n\u001b[32m    330\u001b[39m \u001b[38;5;28;01mwhile\u001b[39;00m \u001b[38;5;28;01mTrue\u001b[39;00m:\n\u001b[32m--> \u001b[39m\u001b[32m331\u001b[39m     version, status, reason = \u001b[38;5;28;43mself\u001b[39;49m\u001b[43m.\u001b[49m\u001b[43m_read_status\u001b[49m\u001b[43m(\u001b[49m\u001b[43m)\u001b[49m\n\u001b[32m    332\u001b[39m     \u001b[38;5;28;01mif\u001b[39;00m status != CONTINUE:\n\u001b[32m    333\u001b[39m         \u001b[38;5;28;01mbreak\u001b[39;00m\n",
      "\u001b[36mFile \u001b[39m\u001b[32m/opt/homebrew/Cellar/python@3.13/3.13.2/Frameworks/Python.framework/Versions/3.13/lib/python3.13/http/client.py:292\u001b[39m, in \u001b[36mHTTPResponse._read_status\u001b[39m\u001b[34m(self)\u001b[39m\n\u001b[32m    291\u001b[39m \u001b[38;5;28;01mdef\u001b[39;00m\u001b[38;5;250m \u001b[39m\u001b[34m_read_status\u001b[39m(\u001b[38;5;28mself\u001b[39m):\n\u001b[32m--> \u001b[39m\u001b[32m292\u001b[39m     line = \u001b[38;5;28mstr\u001b[39m(\u001b[38;5;28;43mself\u001b[39;49m\u001b[43m.\u001b[49m\u001b[43mfp\u001b[49m\u001b[43m.\u001b[49m\u001b[43mreadline\u001b[49m\u001b[43m(\u001b[49m\u001b[43m_MAXLINE\u001b[49m\u001b[43m \u001b[49m\u001b[43m+\u001b[49m\u001b[43m \u001b[49m\u001b[32;43m1\u001b[39;49m\u001b[43m)\u001b[49m, \u001b[33m\"\u001b[39m\u001b[33miso-8859-1\u001b[39m\u001b[33m\"\u001b[39m)\n\u001b[32m    293\u001b[39m     \u001b[38;5;28;01mif\u001b[39;00m \u001b[38;5;28mlen\u001b[39m(line) > _MAXLINE:\n\u001b[32m    294\u001b[39m         \u001b[38;5;28;01mraise\u001b[39;00m LineTooLong(\u001b[33m\"\u001b[39m\u001b[33mstatus line\u001b[39m\u001b[33m\"\u001b[39m)\n",
      "\u001b[36mFile \u001b[39m\u001b[32m/opt/homebrew/Cellar/python@3.13/3.13.2/Frameworks/Python.framework/Versions/3.13/lib/python3.13/socket.py:719\u001b[39m, in \u001b[36mSocketIO.readinto\u001b[39m\u001b[34m(self, b)\u001b[39m\n\u001b[32m    717\u001b[39m     \u001b[38;5;28;01mraise\u001b[39;00m \u001b[38;5;167;01mOSError\u001b[39;00m(\u001b[33m\"\u001b[39m\u001b[33mcannot read from timed out object\u001b[39m\u001b[33m\"\u001b[39m)\n\u001b[32m    718\u001b[39m \u001b[38;5;28;01mtry\u001b[39;00m:\n\u001b[32m--> \u001b[39m\u001b[32m719\u001b[39m     \u001b[38;5;28;01mreturn\u001b[39;00m \u001b[38;5;28;43mself\u001b[39;49m\u001b[43m.\u001b[49m\u001b[43m_sock\u001b[49m\u001b[43m.\u001b[49m\u001b[43mrecv_into\u001b[49m\u001b[43m(\u001b[49m\u001b[43mb\u001b[49m\u001b[43m)\u001b[49m\n\u001b[32m    720\u001b[39m \u001b[38;5;28;01mexcept\u001b[39;00m timeout:\n\u001b[32m    721\u001b[39m     \u001b[38;5;28mself\u001b[39m._timeout_occurred = \u001b[38;5;28;01mTrue\u001b[39;00m\n",
      "\u001b[36mFile \u001b[39m\u001b[32m/opt/homebrew/Cellar/python@3.13/3.13.2/Frameworks/Python.framework/Versions/3.13/lib/python3.13/ssl.py:1304\u001b[39m, in \u001b[36mSSLSocket.recv_into\u001b[39m\u001b[34m(self, buffer, nbytes, flags)\u001b[39m\n\u001b[32m   1300\u001b[39m     \u001b[38;5;28;01mif\u001b[39;00m flags != \u001b[32m0\u001b[39m:\n\u001b[32m   1301\u001b[39m         \u001b[38;5;28;01mraise\u001b[39;00m \u001b[38;5;167;01mValueError\u001b[39;00m(\n\u001b[32m   1302\u001b[39m           \u001b[33m\"\u001b[39m\u001b[33mnon-zero flags not allowed in calls to recv_into() on \u001b[39m\u001b[38;5;132;01m%s\u001b[39;00m\u001b[33m\"\u001b[39m %\n\u001b[32m   1303\u001b[39m           \u001b[38;5;28mself\u001b[39m.\u001b[34m__class__\u001b[39m)\n\u001b[32m-> \u001b[39m\u001b[32m1304\u001b[39m     \u001b[38;5;28;01mreturn\u001b[39;00m \u001b[38;5;28;43mself\u001b[39;49m\u001b[43m.\u001b[49m\u001b[43mread\u001b[49m\u001b[43m(\u001b[49m\u001b[43mnbytes\u001b[49m\u001b[43m,\u001b[49m\u001b[43m \u001b[49m\u001b[43mbuffer\u001b[49m\u001b[43m)\u001b[49m\n\u001b[32m   1305\u001b[39m \u001b[38;5;28;01melse\u001b[39;00m:\n\u001b[32m   1306\u001b[39m     \u001b[38;5;28;01mreturn\u001b[39;00m \u001b[38;5;28msuper\u001b[39m().recv_into(buffer, nbytes, flags)\n",
      "\u001b[36mFile \u001b[39m\u001b[32m/opt/homebrew/Cellar/python@3.13/3.13.2/Frameworks/Python.framework/Versions/3.13/lib/python3.13/ssl.py:1138\u001b[39m, in \u001b[36mSSLSocket.read\u001b[39m\u001b[34m(self, len, buffer)\u001b[39m\n\u001b[32m   1136\u001b[39m \u001b[38;5;28;01mtry\u001b[39;00m:\n\u001b[32m   1137\u001b[39m     \u001b[38;5;28;01mif\u001b[39;00m buffer \u001b[38;5;129;01mis\u001b[39;00m \u001b[38;5;129;01mnot\u001b[39;00m \u001b[38;5;28;01mNone\u001b[39;00m:\n\u001b[32m-> \u001b[39m\u001b[32m1138\u001b[39m         \u001b[38;5;28;01mreturn\u001b[39;00m \u001b[38;5;28;43mself\u001b[39;49m\u001b[43m.\u001b[49m\u001b[43m_sslobj\u001b[49m\u001b[43m.\u001b[49m\u001b[43mread\u001b[49m\u001b[43m(\u001b[49m\u001b[38;5;28;43mlen\u001b[39;49m\u001b[43m,\u001b[49m\u001b[43m \u001b[49m\u001b[43mbuffer\u001b[49m\u001b[43m)\u001b[49m\n\u001b[32m   1139\u001b[39m     \u001b[38;5;28;01melse\u001b[39;00m:\n\u001b[32m   1140\u001b[39m         \u001b[38;5;28;01mreturn\u001b[39;00m \u001b[38;5;28mself\u001b[39m._sslobj.read(\u001b[38;5;28mlen\u001b[39m)\n",
      "\u001b[31mKeyboardInterrupt\u001b[39m: "
     ]
    }
   ],
   "source": [
    "# MAIN PROGRAM - 'for' LOOP GOING OVER ALL RESTOCKS AND CREATING DATA FOR GRAPH\n",
    "\n",
    "restocks_final_data = []\n",
    "\n",
    "\n",
    "for req in restock_requests:    \n",
    "    #  Skip unapproved requests\n",
    "    if req[\"is_approved\"] is False:\n",
    "        continue\n",
    "\n",
    "    print (\"\\n *********************************************************** \\n \")\n",
    "\n",
    "    # Split text vs links\n",
    "    user_request_text, links_items_list = link_find_split(req[\"item\"])\n",
    "    print (\"\\n text = \", user_request_text)\n",
    "    print (\"\\n link items = \", links_items_list)\n",
    "    \n",
    "    # Build query string for embedding\n",
    "    if len(links_items_list) != 0:\n",
    "        # join all link titles into one string \n",
    "        extracted_vector = embed_normalize([\"\".join(links_items_list)])[0]\n",
    "    else:\n",
    "        extracted_vector = embed_normalize([user_request_text])[0]\n",
    "\n",
    "    # Find top 5 inventory matches\n",
    "    five_possible_matches = find_five_inventory_match(extracted_vector, names_matrix, uuid_list, inventory_lookup)\n",
    "\n",
    "    final_item_uuid, final_item_name, final_item_location = llm_match(user_request_text, links_items_list, five_possible_matches)\n",
    "\n",
    "    print (\"LLM returns: \\n\", final_item_name, \"\\n\", final_item_location)\n",
    "\n",
    "    # Collect results (you can expand tuple into dict later for CSV/graph)\n",
    "    restocks_final_data.append([final_item_uuid, final_item_name, final_item_location, req[\"timestamp_sent\"], req[\"timestamp_completed\"]])\n"
   ]
  },
  {
   "cell_type": "code",
   "execution_count": 27,
   "metadata": {},
   "outputs": [
    {
     "name": "stdout",
     "output_type": "stream",
     "text": [
      "284\n"
     ]
    }
   ],
   "source": [
    "print (len(restocks_final_data))"
   ]
  },
  {
   "cell_type": "code",
   "execution_count": 29,
   "metadata": {},
   "outputs": [
    {
     "name": "stdout",
     "output_type": "stream",
     "text": [
      "Wrote 284 rows to restock_data_partial_1756796661.csv\n"
     ]
    }
   ],
   "source": [
    "csv_path = f\"restock_data_partial_{int(time.time())}.csv\"\n",
    "\n",
    "with open(csv_path, \"w\", newline=\"\", encoding=\"utf-8\") as f:\n",
    "    writer = csv.writer(f)\n",
    "    # adjust the header if your inner lists have a different shape/order\n",
    "    writer.writerow([\"uuid\", \"name\", \"location\", \"timestamp_sent\", \"timestamp_completed\"])\n",
    "    writer.writerows(restocks_final_data)\n",
    "\n",
    "print(f\"Wrote {len(restocks_final_data)} rows to {csv_path}\")\n",
    "\n"
   ]
  },
  {
   "cell_type": "code",
   "execution_count": 30,
   "metadata": {},
   "outputs": [
    {
     "name": "stdout",
     "output_type": "stream",
     "text": [
      "\n",
      " *********************************************************** \n",
      " \n",
      "\n",
      " text =  Bins for paper overstock (Long underbed box 56 qt):\n",
      "\n",
      " link items =  []\n"
     ]
    },
    {
     "name": "stderr",
     "output_type": "stream",
     "text": [
      "Batches: 100%|██████████| 1/1 [00:00<00:00,  1.41it/s]\n"
     ]
    },
    {
     "name": "stdout",
     "output_type": "stream",
     "text": [
      "Candidate: Tote Bags — [{'room': 'Cage', 'container': '4b', 'specific': ''}]\n",
      "Candidate: Ryoba Saw — [{'room': 'Cage', 'container': 'Pegboard', 'specific': None}]\n",
      "Candidate: Scrap Books/Magazines — [{'room': 'Main', 'container': 'Cabinet 7', 'specific': 'Top'}]\n",
      "Candidate: Top or Bottom Flag, O-Connor  — [{'room': 'Studio', 'container': 'Studio 5', 'specific': 'Shelf 2'}]\n",
      "Candidate: Plastic Trash Bags — [{'room': 'Cage', 'container': '8e', 'specific': ''}]\n",
      "LLM returns: \n",
      " Tote Bags \n",
      " Cage/Crypt/Other\n",
      "\n",
      " *********************************************************** \n",
      " \n",
      "\n",
      " text =  Storage bins:\n",
      "\n",
      " link items =  ['Shoe Racks & Storage Solutions at The Container Store - The Container Store']\n"
     ]
    },
    {
     "name": "stderr",
     "output_type": "stream",
     "text": [
      "Batches: 100%|██████████| 1/1 [00:00<00:00,  5.70it/s]"
     ]
    },
    {
     "name": "stdout",
     "output_type": "stream",
     "text": [
      "Candidate: Paper Towels — [{'room': 'Cage', 'container': '8e', 'specific': None}]\n",
      "Candidate: Foam Sheets — [{'room': 'Main', 'container': 'Cabinet 2', 'specific': 'Shelf 17'}, {'room': 'Cage', 'container': '5d', 'specific': 'Stack 16|-3'}, {'room': 'Cage', 'container': '5b', 'specific': 'Right of Ziplocs'}]\n",
      "Candidate: Sand Paper Splint — [{'room': 'Main', 'container': 'Cabinet 11', 'specific': 'Top'}, {'room': 'Backstock', 'container': 'Shelf 2', 'specific': '|3'}]\n",
      "Candidate: Sewing Machine Spool Holder — [{'room': 'Main', 'container': 'Pegboard 1', 'specific': 'J2'}]\n",
      "Candidate: Leather Roll (Workshops / Training Only) — [{'room': 'Cage', 'container': '7a', 'specific': None}]\n"
     ]
    },
    {
     "name": "stderr",
     "output_type": "stream",
     "text": [
      "\n"
     ]
    },
    {
     "name": "stdout",
     "output_type": "stream",
     "text": [
      "LLM returns: \n",
      " Paper Towels \n",
      " Cage/Crypt/Other\n",
      "\n",
      " *********************************************************** \n",
      " \n",
      "\n",
      " text =  Flowers for cabinet signs!\n",
      "\n",
      " link items =  []\n"
     ]
    },
    {
     "name": "stderr",
     "output_type": "stream",
     "text": [
      "Batches: 100%|██████████| 1/1 [00:00<00:00,  4.62it/s]\n"
     ]
    },
    {
     "name": "stdout",
     "output_type": "stream",
     "text": [
      "Candidate: USB-C Power Cable — [{'room': 'Cage', 'container': '8d', 'specific': ''}]\n",
      "Candidate: Suede Lace — [{'room': 'Main', 'container': 'Cabinet 2', 'specific': 'Shelf 21'}]\n",
      "Candidate: LFP8000 Vivid Light Magenta Ink — [{'room': 'The Crypt', 'container': '3', 'specific': ''}]\n",
      "Candidate: Paint Sponges — [{'room': 'Main', 'container': 'Cabinet 4', 'specific': 'Shelf 15'}, {'room': 'Cage', 'container': '5d', 'specific': 'Stack 9|-3'}, {'room': 'Backstock', 'container': 'Shelf 2', 'specific': '|-3'}]\n",
      "Candidate: Leather Sewing Machine Materials — [{'room': 'Cage', 'container': '7c', 'specific': ''}]\n",
      "LLM returns: \n",
      " Paint Sponges \n",
      " Cabinet 4\n",
      "\n",
      " *********************************************************** \n",
      " \n",
      "\n",
      " text =  letter size laminating pouches -\n",
      "\n",
      " link items =  []\n"
     ]
    },
    {
     "name": "stderr",
     "output_type": "stream",
     "text": [
      "Batches: 100%|██████████| 1/1 [00:00<00:00,  5.02it/s]\n"
     ]
    },
    {
     "name": "stdout",
     "output_type": "stream",
     "text": [
      "Candidate: Printer — [{'room': 'Cage', 'container': '8d', 'specific': None}]\n",
      "Candidate: Plastic Sheeting — [{'room': 'Cage', 'container': '1a', 'specific': ''}]\n",
      "Candidate: Laminator Sheets (Legal, 11.5\" x 17.5\") — [{'room': 'Cage', 'container': '1b', 'specific': ''}]\n",
      "Candidate: Laminator Sheets (Business Card Size) — [{'room': 'Cage', 'container': '1b', 'specific': ''}]\n",
      "Candidate: Laminator Sheets (Half Letter, 6\" x 9\") — [{'room': 'Cage', 'container': '1b', 'specific': ''}]\n",
      "LLM returns: \n",
      " Laminator Sheets (Legal, 11.5\" x 17.5\") \n",
      " Cage/Crypt/Other\n",
      "\n",
      " *********************************************************** \n",
      " \n",
      "\n",
      " text =  Whiteboards:\n",
      "\n",
      " link items =  []\n"
     ]
    },
    {
     "name": "stderr",
     "output_type": "stream",
     "text": [
      "Batches: 100%|██████████| 1/1 [00:00<00:00,  2.84it/s]\n"
     ]
    },
    {
     "name": "stdout",
     "output_type": "stream",
     "text": [
      "Candidate: USB Flash Drives — [{'room': 'Cage', 'container': '8d', 'specific': None}]\n",
      "Candidate: Spool Winder — [{'room': 'Laser3D', 'container': 'Cabinet 2', 'specific': ''}]\n",
      "Candidate: Grey Buttons — [{'room': 'Main', 'container': 'Pegboard 1', 'specific': 'B2'}, {'room': 'Cage', 'container': '5d', 'specific': 'Stack 10|-2'}]\n",
      "Candidate: Multicolored Ribbon — [{'room': 'Main', 'container': 'Cabinet 6', 'specific': 'Shelf 5'}]\n",
      "Candidate: Rope — [{'room': 'Main', 'container': 'Cabinet 2', 'specific': 'Shelf 21'}]\n",
      "LLM returns: \n",
      " Grey Buttons \n",
      " Cage/Crypt/Other\n",
      "\n",
      " *********************************************************** \n",
      " \n",
      "\n",
      " text =  Dry erase markers for overnight lockers:\n",
      "\n",
      " link items =  []\n"
     ]
    },
    {
     "name": "stderr",
     "output_type": "stream",
     "text": [
      "Batches: 100%|██████████| 1/1 [00:00<00:00,  7.80it/s]"
     ]
    },
    {
     "name": "stdout",
     "output_type": "stream",
     "text": [
      "Candidate: Einstein Wall Art — [{'room': 'The Crypt', 'container': '3a', 'specific': ''}]\n",
      "Candidate: Origami Books — [{'room': 'Main', 'container': 'Fabrics', 'specific': None}]\n",
      "Candidate: Black Ballpoint Pens — [{'room': 'Main', 'container': 'Cabinet 4', 'specific': 'Shelf 13'}, {'room': 'Cage', 'container': '5c', 'specific': 'Stack 9|-1'}]\n",
      "Candidate: Tailors Chalk — [{'room': 'Main', 'container': 'Pegboard 1', 'specific': 'D6'}, {'room': 'Cage', 'container': '5e', 'specific': 'Pegboard Bins|-3'}]\n",
      "Candidate: Silver Sharpies — [{'room': 'Main', 'container': 'Cabinet 4', 'specific': 'Shelf 1'}, {'room': 'Cage', 'container': '5c', 'specific': 'Stack 11|-2'}, {'room': 'Cage', 'container': '8d|-2', 'specific': ''}]\n"
     ]
    },
    {
     "name": "stderr",
     "output_type": "stream",
     "text": [
      "\n"
     ]
    },
    {
     "name": "stdout",
     "output_type": "stream",
     "text": [
      "LLM returns: \n",
      " Silver Sharpies \n",
      " Cabinet 4\n",
      "\n",
      " *********************************************************** \n",
      " \n",
      "\n",
      " text =  Beige masking tape (1 inch)\n",
      "\n",
      " link items =  []\n"
     ]
    },
    {
     "name": "stderr",
     "output_type": "stream",
     "text": [
      "Batches: 100%|██████████| 1/1 [00:00<00:00,  5.93it/s]"
     ]
    },
    {
     "name": "stdout",
     "output_type": "stream",
     "text": [
      "Candidate: Glue Dots — [{'room': 'Main', 'container': 'Cabinet 5', 'specific': 'Shelf 2'}, {'room': 'Cage', 'container': '8d', 'specific': '|-3'}]\n",
      "Candidate: Cellophane — [{'room': 'Cage', 'container': '5b', 'specific': ''}, {'room': 'Cage', 'container': '', 'specific': ''}]\n",
      "Candidate: Paint Thinner (For use with Spray Paint Gun Only) — [{'room': 'Cage', 'container': 'Flammable', 'specific': None}]\n",
      "Candidate: Color Gel Pens — [{'room': 'Main', 'container': 'Cabinet 4', 'specific': 'Shelf 13'}]\n",
      "Candidate: Seam Rippers — [{'room': 'Main', 'container': 'Pegboard 1', 'specific': 'E5'}, {'room': 'Cage', 'container': '5c', 'specific': 'Stack 7|-3'}]\n"
     ]
    },
    {
     "name": "stderr",
     "output_type": "stream",
     "text": [
      "\n"
     ]
    },
    {
     "name": "stdout",
     "output_type": "stream",
     "text": [
      "LLM returns: \n",
      " Glue Dots \n",
      " Cabinet 5\n",
      "\n",
      " *********************************************************** \n",
      " \n",
      "\n",
      " text =  Label maker label tape\n",
      "\n",
      " link items =  []\n"
     ]
    },
    {
     "name": "stderr",
     "output_type": "stream",
     "text": [
      "Batches: 100%|██████████| 1/1 [00:00<00:00,  7.39it/s]"
     ]
    },
    {
     "name": "stdout",
     "output_type": "stream",
     "text": [
      "Candidate: Label Maker — [{'room': 'Cage', 'container': '8d', 'specific': None}]\n",
      "Candidate: Face Shield — [{'room': 'Cage', 'container': '8c', 'specific': None}]\n",
      "Candidate: Jump Rings — [{'room': 'Main', 'container': 'Cabinet 3', 'specific': 'Shelf 9'}, {'room': 'Cage', 'container': '5d', 'specific': 'Stack 3|-2'}]\n",
      "Candidate: 3.5 mm Male to XLR Female Cable Short — [{'room': 'Studio', 'container': 'Studio 2', 'specific': 'Shelf 8'}]\n",
      "Candidate: 3.5 mm Male to XLR Male Cable Short — [{'room': 'Studio', 'container': 'Studio 2', 'specific': 'Shelf 8'}]\n"
     ]
    },
    {
     "name": "stderr",
     "output_type": "stream",
     "text": [
      "\n"
     ]
    },
    {
     "name": "stdout",
     "output_type": "stream",
     "text": [
      "LLM returns: \n",
      "  \n",
      " Cabinet 5\n",
      "\n",
      " *********************************************************** \n",
      " \n",
      "\n",
      " text =  Small cutting mats\n",
      "\n",
      " link items =  []\n"
     ]
    },
    {
     "name": "stderr",
     "output_type": "stream",
     "text": [
      "Batches: 100%|██████████| 1/1 [00:00<00:00, 23.92it/s]"
     ]
    },
    {
     "name": "stdout",
     "output_type": "stream",
     "text": [
      "Candidate: Cricut Power + Data Cables — [{'room': 'Cage', 'container': '1d', 'specific': ''}]\n",
      "Candidate: Single Hole Punchers — [{'room': 'Main', 'container': 'Cabinet 3', 'specific': 'Shelf 17'}, {'room': 'Cage', 'container': '5c', 'specific': 'Stack 17|6'}]\n",
      "Candidate: Spare Serger Thread — [{'room': 'Cage', 'container': '3c', 'specific': None}]\n",
      "Candidate: Vinyl  — [{'room': 'Cage', 'container': '1d', 'specific': None}]\n",
      "Candidate: Small Cricut Cutting Mats (30\" x 30\") — [{'room': 'Cage', 'container': '1d', 'specific': None}]\n"
     ]
    },
    {
     "name": "stderr",
     "output_type": "stream",
     "text": [
      "\n"
     ]
    },
    {
     "name": "stdout",
     "output_type": "stream",
     "text": [
      "LLM returns: \n",
      " Small Cricut Cutting Mats (30\" x 30\") \n",
      " Cage/Crypt/Other\n",
      "\n",
      " *********************************************************** \n",
      " \n",
      "\n",
      " text =  Cricut cutting mats\n",
      "\n",
      " link items =  []\n"
     ]
    },
    {
     "name": "stderr",
     "output_type": "stream",
     "text": [
      "Batches: 100%|██████████| 1/1 [00:00<00:00,  6.94it/s]"
     ]
    },
    {
     "name": "stdout",
     "output_type": "stream",
     "text": [
      "Candidate: Vinyl  — [{'room': 'Cage', 'container': '1d', 'specific': None}]\n",
      "Candidate: Small Cricut Cutting Mats (30\" x 30\") — [{'room': 'Cage', 'container': '1d', 'specific': None}]\n",
      "Candidate: Cricut Power + Data Cables — [{'room': 'Cage', 'container': '1d', 'specific': ''}]\n",
      "Candidate: Single Hole Punchers — [{'room': 'Main', 'container': 'Cabinet 3', 'specific': 'Shelf 17'}, {'room': 'Cage', 'container': '5c', 'specific': 'Stack 17|6'}]\n",
      "Candidate: Spare Serger Thread — [{'room': 'Cage', 'container': '3c', 'specific': None}]\n"
     ]
    },
    {
     "name": "stderr",
     "output_type": "stream",
     "text": [
      "\n"
     ]
    },
    {
     "name": "stdout",
     "output_type": "stream",
     "text": [
      "LLM returns: \n",
      " Small Cricut Cutting Mats (30\" x 30\") \n",
      " Cage/Crypt/Other\n",
      "\n",
      " *********************************************************** \n",
      " \n",
      "\n",
      " text =  Keychain clasps\n",
      "\n",
      " link items =  []\n"
     ]
    },
    {
     "name": "stderr",
     "output_type": "stream",
     "text": [
      "Batches: 100%|██████████| 1/1 [00:00<00:00, 11.12it/s]"
     ]
    },
    {
     "name": "stdout",
     "output_type": "stream",
     "text": [
      "Candidate: Plastic/Metal Wire Cutters — [{'room': 'Laser3D', 'container': 'Main Table', 'specific': ''}, {'room': 'Cage', 'container': '5c', 'specific': 'Stack 5|-1'}]\n",
      "Candidate: Leather Belts — [{'room': 'Cage', 'container': '7a', 'specific': ''}]\n",
      "Candidate: Assorted Metal Jewelry Chain — [{'room': 'Main', 'container': 'Cabinet 3', 'specific': 'Shelf 5'}, {'room': 'Cage', 'container': '5d', 'specific': 'Stack 2|-2'}]\n",
      "Candidate: Ink Pads — [{'room': 'Main', 'container': 'Cabinet 4', 'specific': 'Shelf 17'}, {'room': 'Cage', 'container': '5c', 'specific': 'Stack 20|-3'}]\n",
      "Candidate: Safety Pins — [{'room': 'Main', 'container': 'Cabinet 3', 'specific': 'Shelf 20'}, {'room': 'Main', 'container': 'Pegboard 1', 'specific': 'C4|-3'}, {'room': 'Cage', 'container': '5c', 'specific': 'Stack 18|-3'}]\n"
     ]
    },
    {
     "name": "stderr",
     "output_type": "stream",
     "text": [
      "\n"
     ]
    },
    {
     "name": "stdout",
     "output_type": "stream",
     "text": [
      "LLM returns: \n",
      " Assorted Metal Jewelry Chain \n",
      " Cabinet 3\n",
      "\n",
      " *********************************************************** \n",
      " \n",
      "\n",
      " text =  Small zip ties\n",
      "\n",
      " link items =  []\n"
     ]
    },
    {
     "name": "stderr",
     "output_type": "stream",
     "text": [
      "Batches: 100%|██████████| 1/1 [00:00<00:00,  5.59it/s]"
     ]
    },
    {
     "name": "stdout",
     "output_type": "stream",
     "text": [
      "Candidate: Small Metal Magnets — [{'room': 'Main', 'container': 'Cabinet 2', 'specific': 'Shelf 1'}, {'room': 'Cage', 'container': '5c', 'specific': 'Stack 14|-3'}]\n",
      "Candidate: Mini Screwdrivers — [{'room': 'Cage', 'container': '5c', 'specific': 'Stack 12'}]\n",
      "Candidate: Crafting Books — [{'room': 'Main', 'container': 'Fabrics', 'specific': None}]\n",
      "Candidate: Ear Plugs — [{'room': 'Cage', 'container': '8c', 'specific': None}]\n",
      "Candidate: Large Straps — [{'room': 'Cage', 'container': '7c', 'specific': None}]\n"
     ]
    },
    {
     "name": "stderr",
     "output_type": "stream",
     "text": [
      "\n"
     ]
    },
    {
     "name": "stdout",
     "output_type": "stream",
     "text": [
      "LLM returns: \n",
      " Small Metal Magnets \n",
      " Cage/Crypt/Other\n",
      "\n",
      " *********************************************************** \n",
      " \n",
      "\n",
      " text =  Black ballpoint pens (unless they've already been ordered)\n",
      "\n",
      " link items =  []\n"
     ]
    },
    {
     "name": "stderr",
     "output_type": "stream",
     "text": [
      "Batches: 100%|██████████| 1/1 [00:00<00:00, 11.31it/s]"
     ]
    },
    {
     "name": "stdout",
     "output_type": "stream",
     "text": [
      "Candidate: Blending Stumps/Tortillons — [{'room': 'Main', 'container': 'Cabinet 4', 'specific': 'Shelf 11'}, {'room': 'Cage', 'container': '5c', 'specific': 'Stack 10|-3'}]\n",
      "Candidate: Markers — [{'room': 'Main', 'container': 'Cabinet 4', 'specific': 'Shelf 4'}]\n",
      "Candidate: Leather Dye — [{'room': 'Main', 'container': 'Cabinet 9', 'specific': 'Shelf 4'}]\n",
      "Candidate: Colored Pencils — [{'room': 'Main', 'container': 'Cabinet 4', 'specific': 'Shelf 10'}]\n",
      "Candidate: Dip Fountain Pens — [{'room': 'Main', 'container': 'Cabinet 4', 'specific': 'Shelf 23'}]\n"
     ]
    },
    {
     "name": "stderr",
     "output_type": "stream",
     "text": [
      "\n"
     ]
    },
    {
     "name": "stdout",
     "output_type": "stream",
     "text": [
      "LLM returns: \n",
      " Dip Fountain Pens \n",
      " Cabinet 4\n",
      "\n",
      " *********************************************************** \n",
      " \n",
      "\n",
      " text =  Erasers\n",
      "\n",
      " link items =  []\n"
     ]
    },
    {
     "name": "stderr",
     "output_type": "stream",
     "text": [
      "Batches: 100%|██████████| 1/1 [00:00<00:00,  7.49it/s]"
     ]
    },
    {
     "name": "stdout",
     "output_type": "stream",
     "text": [
      "Candidate: Protractors — [{'room': 'Main', 'container': 'Cabinet 3', 'specific': 'Shelf 2'}, {'room': 'Cage', 'container': '5c', 'specific': 'Stack 3|-3'}]\n",
      "Candidate: Thimbles — [{'room': 'Main', 'container': 'Pegboard 1', 'specific': 'D4'}]\n",
      "Candidate: Origami Books — [{'room': 'Main', 'container': 'Fabrics', 'specific': None}]\n",
      "Candidate: Isopropyl Alcohol — [{'room': 'Cage', 'container': 'Flammable', 'specific': ''}, {'room': 'Laser3D', 'container': 'Cabinet 4', 'specific': '|1'}]\n",
      "Candidate: Silver Duct Tape — [{'room': 'Main', 'container': 'Cabinet 5', 'specific': 'Top'}, {'room': 'Cage', 'container': '5e', 'specific': '|16'}]\n"
     ]
    },
    {
     "name": "stderr",
     "output_type": "stream",
     "text": [
      "\n"
     ]
    },
    {
     "name": "stdout",
     "output_type": "stream",
     "text": [
      "LLM returns: \n",
      "  \n",
      " Cabinet 7\n",
      "\n",
      " *********************************************************** \n",
      " \n",
      "\n",
      " text =  Blending stumps\n",
      "\n",
      " link items =  []\n"
     ]
    },
    {
     "name": "stderr",
     "output_type": "stream",
     "text": [
      "Batches: 100%|██████████| 1/1 [00:00<00:00,  4.10it/s]\n"
     ]
    },
    {
     "name": "stdout",
     "output_type": "stream",
     "text": [
      "Candidate: Corner Clamps — [{'room': 'Main', 'container': 'Cabinet 11', 'specific': 'Shelf 9'}, {'room': 'Backstock', 'container': 'Shelf 2', 'specific': '|9'}]\n",
      "Candidate: Yarn — [{'room': 'Main', 'container': 'Fabrics', 'specific': ''}, {'room': 'Backstock', 'container': 'Shelf 3', 'specific': '|-3'}]\n",
      "Candidate: Small Crowbar — [{'room': 'Cage', 'container': 'Pegboard', 'specific': ''}]\n",
      "Candidate: Scissors — [{'room': 'Main', 'container': 'Cabinet 3', 'specific': 'Shelf 1'}, {'room': 'Cage', 'container': '5d', 'specific': 'Stack 1|-3'}]\n",
      "Candidate: Misc. Hardware — [{'room': 'Main', 'container': 'Cabinet 9', 'specific': 'Shelf 7'}]\n",
      "LLM returns: \n",
      "  \n",
      " Cabinet 7\n",
      "\n",
      " *********************************************************** \n",
      " \n",
      "\n",
      " text =  Colored sharpies\n",
      "\n",
      " link items =  []\n"
     ]
    },
    {
     "name": "stderr",
     "output_type": "stream",
     "text": [
      "Batches: 100%|██████████| 1/1 [00:00<00:00, 18.10it/s]"
     ]
    },
    {
     "name": "stdout",
     "output_type": "stream",
     "text": [
      "Candidate: Popsicle Sticks — [{'room': 'Main', 'container': 'Cabinet 2', 'specific': 'Shelf 3'}, {'room': 'Cage', 'container': '5c', 'specific': 'Stack 22|-3'}]\n",
      "Candidate: Push Pins — [{'room': 'Main', 'container': 'Cabinet 3', 'specific': 'Shelf 23'}, {'room': 'Cage', 'container': '5c', 'specific': 'Stack 16|-3'}]\n",
      "Candidate: Colored Sharpies — [{'room': 'Main', 'container': 'Cabinet 4', 'specific': 'Shelf 1'}, {'room': 'Cage', 'container': '5c', 'specific': 'Stack 10|-3'}]\n",
      "Candidate: Black Sharpies — [{'room': 'Main', 'container': 'Cabinet 4', 'specific': 'Shelf 1'}, {'room': 'Cage', 'container': '5c', 'specific': 'Stack 11|-3'}, {'room': 'Cage', 'container': '8d', 'specific': '|-3'}]\n",
      "Candidate: (9000) LFP Natural Paper 44x40 — [{'room': 'The Crypt', 'container': '', 'specific': ''}]\n"
     ]
    },
    {
     "name": "stderr",
     "output_type": "stream",
     "text": [
      "\n"
     ]
    },
    {
     "name": "stdout",
     "output_type": "stream",
     "text": [
      "LLM returns: \n",
      " Colored Sharpies \n",
      " Cabinet 4\n",
      "\n",
      " *********************************************************** \n",
      " \n",
      "\n",
      " text =  Measuring tapes\n",
      "\n",
      " link items =  []\n"
     ]
    },
    {
     "name": "stderr",
     "output_type": "stream",
     "text": [
      "Batches: 100%|██████████| 1/1 [00:00<00:00, 20.50it/s]"
     ]
    },
    {
     "name": "stdout",
     "output_type": "stream",
     "text": [
      "Candidate: Jump Rings — [{'room': 'Main', 'container': 'Cabinet 3', 'specific': 'Shelf 9'}, {'room': 'Cage', 'container': '5d', 'specific': 'Stack 3|-2'}]\n",
      "Candidate: Button Sewing Foot — [{'room': 'Main', 'container': 'Pegboard 1', 'specific': 'J8'}]\n",
      "Candidate: HDMI Female to HDMI Female Coupler — [{'room': 'Studio', 'container': 'Studio 2', 'specific': 'Shelf 8'}]\n",
      "Candidate: Label Maker — [{'room': 'Cage', 'container': '8d', 'specific': None}]\n",
      "Candidate: Light Control Aluminum Wrap — [{'room': 'Studio', 'container': 'A3', 'specific': None}]\n"
     ]
    },
    {
     "name": "stderr",
     "output_type": "stream",
     "text": [
      "\n"
     ]
    },
    {
     "name": "stdout",
     "output_type": "stream",
     "text": [
      "LLM returns: \n",
      "  \n",
      " Cabinet 11\n",
      "\n",
      " *********************************************************** \n",
      " \n",
      "\n",
      " text =  White zippers\n",
      "\n",
      " link items =  []\n"
     ]
    },
    {
     "name": "stderr",
     "output_type": "stream",
     "text": [
      "Batches: 100%|██████████| 1/1 [00:00<00:00, 20.47it/s]"
     ]
    },
    {
     "name": "stdout",
     "output_type": "stream",
     "text": [
      "Candidate: Crafting Books — [{'room': 'Main', 'container': 'Fabrics', 'specific': None}]\n",
      "Candidate: Edge Stitch Foot — [{'room': 'Main', 'container': 'Pegboard 1', 'specific': 'J5'}]\n",
      "Candidate: Small Metal Magnets — [{'room': 'Main', 'container': 'Cabinet 2', 'specific': 'Shelf 1'}, {'room': 'Cage', 'container': '5c', 'specific': 'Stack 14|-3'}]\n",
      "Candidate: Grey Buttons — [{'room': 'Main', 'container': 'Pegboard 1', 'specific': 'B2'}, {'room': 'Cage', 'container': '5d', 'specific': 'Stack 10|-2'}]\n",
      "Candidate: Leather Belts — [{'room': 'Cage', 'container': '7a', 'specific': ''}]\n"
     ]
    },
    {
     "name": "stderr",
     "output_type": "stream",
     "text": [
      "\n"
     ]
    },
    {
     "name": "stdout",
     "output_type": "stream",
     "text": [
      "LLM returns: \n",
      " Grey Buttons \n",
      " Pegboard 1\n",
      "\n",
      " *********************************************************** \n",
      " \n",
      "\n",
      " text =  Circular knitting needles\n",
      "\n",
      " link items =  []\n"
     ]
    },
    {
     "name": "stderr",
     "output_type": "stream",
     "text": [
      "Batches: 100%|██████████| 1/1 [00:00<00:00, 25.49it/s]"
     ]
    },
    {
     "name": "stdout",
     "output_type": "stream",
     "text": [
      "Candidate: Needle Nose Pliers — [{'room': 'Main', 'container': 'Cabinet 3', 'specific': 'Shelf 3'}, {'room': 'Main', 'container': 'Cabinet 11', 'specific': 'Shelf 8|2'}, {'room': 'Cage', 'container': '5c', 'specific': 'Stack 12|-2'}]\n",
      "Candidate: Tweezers — [{'room': 'Main', 'container': 'Cabinet 3', 'specific': 'Shelf 3'}, {'room': 'Cage', 'container': '5c', 'specific': 'Stack 5|11'}]\n",
      "Candidate: Spool Pins — [{'room': 'Main', 'container': 'Pegboard 1', 'specific': 'D5'}]\n",
      "Candidate: Plastic Scrapers — [{'room': 'Main', 'container': 'Cabinet 4', 'specific': 'Shelf 14'}, {'room': 'Cage', 'container': '5c', 'specific': 'Stack 20|-2'}]\n",
      "Candidate: Curtain Rings — [{'room': 'Main', 'container': 'Pegboard 1', 'specific': 'C5'}, {'room': 'Cage', 'container': '5e', 'specific': 'Pegboard Bins|-3'}]\n"
     ]
    },
    {
     "name": "stderr",
     "output_type": "stream",
     "text": [
      "\n"
     ]
    },
    {
     "name": "stdout",
     "output_type": "stream",
     "text": [
      "LLM returns: \n",
      "  \n",
      " Fabric\n",
      "\n",
      " *********************************************************** \n",
      " \n",
      "\n",
      " text =  Straight knitting needles\n",
      "\n",
      " link items =  []\n"
     ]
    },
    {
     "name": "stderr",
     "output_type": "stream",
     "text": [
      "Batches: 100%|██████████| 1/1 [00:00<00:00, 21.76it/s]"
     ]
    },
    {
     "name": "stdout",
     "output_type": "stream",
     "text": [
      "Candidate: Tweezers — [{'room': 'Main', 'container': 'Cabinet 3', 'specific': 'Shelf 3'}, {'room': 'Cage', 'container': '5c', 'specific': 'Stack 5|11'}]\n",
      "Candidate: Needle Nose Pliers — [{'room': 'Main', 'container': 'Cabinet 3', 'specific': 'Shelf 3'}, {'room': 'Main', 'container': 'Cabinet 11', 'specific': 'Shelf 8|2'}, {'room': 'Cage', 'container': '5c', 'specific': 'Stack 12|-2'}]\n",
      "Candidate: Spool Pins — [{'room': 'Main', 'container': 'Pegboard 1', 'specific': 'D5'}]\n",
      "Candidate: Curtain Rings — [{'room': 'Main', 'container': 'Pegboard 1', 'specific': 'C5'}, {'room': 'Cage', 'container': '5e', 'specific': 'Pegboard Bins|-3'}]\n",
      "Candidate: Plastic Scrapers — [{'room': 'Main', 'container': 'Cabinet 4', 'specific': 'Shelf 14'}, {'room': 'Cage', 'container': '5c', 'specific': 'Stack 20|-2'}]\n"
     ]
    },
    {
     "name": "stderr",
     "output_type": "stream",
     "text": [
      "\n"
     ]
    },
    {
     "name": "stdout",
     "output_type": "stream",
     "text": [
      "LLM returns: \n",
      "  \n",
      " Fabric\n",
      "\n",
      " *********************************************************** \n",
      " \n",
      "\n",
      " text =  Crochet hooks\n",
      "\n",
      " link items =  []\n"
     ]
    },
    {
     "name": "stderr",
     "output_type": "stream",
     "text": [
      "Batches: 100%|██████████| 1/1 [00:00<00:00, 15.13it/s]"
     ]
    },
    {
     "name": "stdout",
     "output_type": "stream",
     "text": [
      "Candidate: Serger books — [{'room': 'Main', 'container': 'Fabrics', 'specific': None}]\n",
      "Candidate: Loom Tension Box — [{'room': 'The Crypt', 'container': '1e', 'specific': None}]\n",
      "Candidate: Thin White Elastic Band — [{'room': 'Main', 'container': 'Cabinet 1', 'specific': 'Shelf 13'}, {'room': 'Cage', 'container': '5c', 'specific': 'Stack 26|-3'}]\n",
      "Candidate: Tweezers — [{'room': 'Main', 'container': 'Cabinet 3', 'specific': 'Shelf 3'}, {'room': 'Cage', 'container': '5c', 'specific': 'Stack 5|11'}]\n",
      "Candidate: Plastic Clips — [{'room': 'Main', 'container': 'Pegboard 1', 'specific': 'B7'}, {'room': 'Cage', 'container': '5e', 'specific': 'Pegboard Bins|-3'}]\n"
     ]
    },
    {
     "name": "stderr",
     "output_type": "stream",
     "text": [
      "\n"
     ]
    },
    {
     "name": "stdout",
     "output_type": "stream",
     "text": [
      "LLM returns: \n",
      " Serger books \n",
      " Fabric\n",
      "\n",
      " *********************************************************** \n",
      " \n",
      "\n",
      " text =  Thin white elastic band\n",
      "\n",
      " link items =  []\n"
     ]
    },
    {
     "name": "stderr",
     "output_type": "stream",
     "text": [
      "Batches: 100%|██████████| 1/1 [00:00<00:00, 13.81it/s]"
     ]
    },
    {
     "name": "stdout",
     "output_type": "stream",
     "text": [
      "Candidate: Elastic String — [{'room': 'Main', 'container': 'Cabinet 3', 'specific': 'Shelf 4'}, {'room': 'Cage', 'container': '5c', 'specific': 'Stack 27|-3'}]\n",
      "Candidate: Earring Studs — [{'room': 'Main', 'container': 'Cabinet 3', 'specific': 'Shelf 6'}, {'room': 'Cage', 'container': '5d', 'specific': 'Stack 2|-3'}]\n",
      "Candidate: Earring Hooks — [{'room': 'Main', 'container': 'Cabinet 3', 'specific': 'Shelf 6'}, {'room': 'Cage', 'container': '5d', 'specific': 'Stack 2|-3'}]\n",
      "Candidate: Plastic Lacing Cord — [{'room': 'Main', 'container': 'Cabinet 3', 'specific': 'Shelf 7'}, {'room': 'Cage', 'container': '5c', 'specific': 'Stack 21|-3'}]\n",
      "Candidate: Miscellaneous Beads — [{'room': 'Main', 'container': 'Cabinet 3', 'specific': 'Shelf 14'}]\n"
     ]
    },
    {
     "name": "stderr",
     "output_type": "stream",
     "text": [
      "\n"
     ]
    },
    {
     "name": "stdout",
     "output_type": "stream",
     "text": [
      "LLM returns: \n",
      " Elastic String \n",
      " Cabinet 3\n",
      "\n",
      " *********************************************************** \n",
      " \n",
      "\n",
      " text =  Thin black elastic band\n",
      "\n",
      " link items =  []\n"
     ]
    },
    {
     "name": "stderr",
     "output_type": "stream",
     "text": [
      "Batches: 100%|██████████| 1/1 [00:00<00:00, 25.00it/s]"
     ]
    },
    {
     "name": "stdout",
     "output_type": "stream",
     "text": [
      "Candidate: Earring Hooks — [{'room': 'Main', 'container': 'Cabinet 3', 'specific': 'Shelf 6'}, {'room': 'Cage', 'container': '5d', 'specific': 'Stack 2|-3'}]\n",
      "Candidate: Plastic Lacing Cord — [{'room': 'Main', 'container': 'Cabinet 3', 'specific': 'Shelf 7'}, {'room': 'Cage', 'container': '5c', 'specific': 'Stack 21|-3'}]\n",
      "Candidate: Earring Studs — [{'room': 'Main', 'container': 'Cabinet 3', 'specific': 'Shelf 6'}, {'room': 'Cage', 'container': '5d', 'specific': 'Stack 2|-3'}]\n",
      "Candidate: Elastic String — [{'room': 'Main', 'container': 'Cabinet 3', 'specific': 'Shelf 4'}, {'room': 'Cage', 'container': '5c', 'specific': 'Stack 27|-3'}]\n",
      "Candidate: Miscellaneous Beads — [{'room': 'Main', 'container': 'Cabinet 3', 'specific': 'Shelf 14'}]\n"
     ]
    },
    {
     "name": "stderr",
     "output_type": "stream",
     "text": [
      "\n"
     ]
    },
    {
     "name": "stdout",
     "output_type": "stream",
     "text": [
      "LLM returns: \n",
      " Elastic String \n",
      " Cabinet 3\n",
      "\n",
      " *********************************************************** \n",
      " \n",
      "\n",
      " text =  Thick black elastic band\n",
      "\n",
      " link items =  []\n"
     ]
    },
    {
     "name": "stderr",
     "output_type": "stream",
     "text": [
      "Batches: 100%|██████████| 1/1 [00:00<00:00, 20.39it/s]"
     ]
    },
    {
     "name": "stdout",
     "output_type": "stream",
     "text": [
      "Candidate: Plastic Lacing Cord — [{'room': 'Main', 'container': 'Cabinet 3', 'specific': 'Shelf 7'}, {'room': 'Cage', 'container': '5c', 'specific': 'Stack 21|-3'}]\n",
      "Candidate: Earring Hooks — [{'room': 'Main', 'container': 'Cabinet 3', 'specific': 'Shelf 6'}, {'room': 'Cage', 'container': '5d', 'specific': 'Stack 2|-3'}]\n",
      "Candidate: Earring Studs — [{'room': 'Main', 'container': 'Cabinet 3', 'specific': 'Shelf 6'}, {'room': 'Cage', 'container': '5d', 'specific': 'Stack 2|-3'}]\n",
      "Candidate: Elastic String — [{'room': 'Main', 'container': 'Cabinet 3', 'specific': 'Shelf 4'}, {'room': 'Cage', 'container': '5c', 'specific': 'Stack 27|-3'}]\n",
      "Candidate: Ziploc Plastic Bags (Gallon) — [{'room': 'Main', 'container': 'Cabinet 2', 'specific': 'Shelf 2'}, {'room': 'Cage', 'container': '5b', 'specific': '|12'}, {'room': 'Cage', 'container': '8e', 'specific': '|1'}]\n"
     ]
    },
    {
     "name": "stderr",
     "output_type": "stream",
     "text": [
      "\n"
     ]
    },
    {
     "name": "stdout",
     "output_type": "stream",
     "text": [
      "LLM returns: \n",
      "  \n",
      " Cabinet 6\n",
      "\n",
      " *********************************************************** \n",
      " \n",
      "\n",
      " text =  twine\n",
      "\n",
      " link items =  []\n"
     ]
    },
    {
     "name": "stderr",
     "output_type": "stream",
     "text": [
      "Batches: 100%|██████████| 1/1 [00:00<00:00, 20.90it/s]"
     ]
    },
    {
     "name": "stdout",
     "output_type": "stream",
     "text": [
      "Candidate: Quilt Basting Spray  — [{'room': 'Main', 'container': 'Cabinet 5', 'specific': 'Shelf 1'}, {'room': 'Cage', 'container': '5d', 'specific': 'Stack 4|1'}]\n",
      "Candidate: Thread Cutters — [{'room': 'Main', 'container': 'Pegboard 1', 'specific': 'E7'}, {'room': 'Cage', 'container': '5c', 'specific': 'Stack 7|13'}]\n",
      "Candidate: Straight Knitting Needles — [{'room': 'Main', 'container': 'Cabinet 1', 'specific': 'Shelf 4'}, {'room': 'Cage', 'container': '5c', 'specific': 'Stack 24|-3'}]\n",
      "Candidate: Metal Buckle — [{'room': 'Cage', 'container': '7a', 'specific': ''}]\n",
      "Candidate: Extra Lino Cutter Blades — [{'room': 'Cage', 'container': 'Shelf 1E', 'specific': ''}]\n"
     ]
    },
    {
     "name": "stderr",
     "output_type": "stream",
     "text": [
      "\n"
     ]
    },
    {
     "name": "stdout",
     "output_type": "stream",
     "text": [
      "LLM returns: \n",
      " Thread Cutters \n",
      " Pegboard 1\n",
      "\n",
      " *********************************************************** \n",
      " \n",
      "\n",
      " text =  small embroidery hoops\n",
      "\n",
      " link items =  []\n"
     ]
    },
    {
     "name": "stderr",
     "output_type": "stream",
     "text": [
      "Batches: 100%|██████████| 1/1 [00:00<00:00, 19.16it/s]"
     ]
    },
    {
     "name": "stdout",
     "output_type": "stream",
     "text": [
      "Candidate: Circular Knitting Needles — [{'room': 'Main', 'container': 'Cabinet 1', 'specific': 'Shelf 4'}, {'room': 'Cage', 'container': '5c', 'specific': 'Stack 24|-3'}]\n",
      "Candidate: Ratchet Kit — [{'room': 'Cage', 'container': '2b', 'specific': None}]\n",
      "Candidate: Plastic Bags — [{'room': 'Cage', 'container': '4b', 'specific': None}]\n",
      "Candidate: Plastic Scrapers — [{'room': 'Main', 'container': 'Cabinet 4', 'specific': 'Shelf 14'}, {'room': 'Cage', 'container': '5c', 'specific': 'Stack 20|-2'}]\n",
      "Candidate: Permanent Fabric Markers — [{'room': 'Main', 'container': 'Cabinet 1', 'specific': 'Shelf 6'}, {'room': 'Cage', 'container': '5e', 'specific': '|-3'}]\n"
     ]
    },
    {
     "name": "stderr",
     "output_type": "stream",
     "text": [
      "\n"
     ]
    },
    {
     "name": "stdout",
     "output_type": "stream",
     "text": [
      "LLM returns: \n",
      "  \n",
      " Fabric\n",
      "\n",
      " *********************************************************** \n",
      " \n",
      "\n",
      " text =  large embroidery hoops\n",
      "\n",
      " link items =  []\n"
     ]
    },
    {
     "name": "stderr",
     "output_type": "stream",
     "text": [
      "Batches: 100%|██████████| 1/1 [00:00<00:00, 20.55it/s]"
     ]
    },
    {
     "name": "stdout",
     "output_type": "stream",
     "text": [
      "Candidate: Ratchet Kit — [{'room': 'Cage', 'container': '2b', 'specific': None}]\n",
      "Candidate: Circular Knitting Needles — [{'room': 'Main', 'container': 'Cabinet 1', 'specific': 'Shelf 4'}, {'room': 'Cage', 'container': '5c', 'specific': 'Stack 24|-3'}]\n",
      "Candidate: Plastic Bags — [{'room': 'Cage', 'container': '4b', 'specific': None}]\n",
      "Candidate: Plastic Scrapers — [{'room': 'Main', 'container': 'Cabinet 4', 'specific': 'Shelf 14'}, {'room': 'Cage', 'container': '5c', 'specific': 'Stack 20|-2'}]\n",
      "Candidate: Permanent Fabric Markers — [{'room': 'Main', 'container': 'Cabinet 1', 'specific': 'Shelf 6'}, {'room': 'Cage', 'container': '5e', 'specific': '|-3'}]\n"
     ]
    },
    {
     "name": "stderr",
     "output_type": "stream",
     "text": [
      "\n"
     ]
    },
    {
     "name": "stdout",
     "output_type": "stream",
     "text": [
      "LLM returns: \n",
      " Circular Knitting Needles \n",
      " Cabinet 1\n",
      "\n",
      " *********************************************************** \n",
      " \n",
      "\n",
      " text =  Plastic bobbins (for overstock) -\n",
      "\n",
      " link items =  []\n"
     ]
    },
    {
     "name": "stderr",
     "output_type": "stream",
     "text": [
      "Batches: 100%|██████████| 1/1 [00:00<00:00, 10.13it/s]"
     ]
    },
    {
     "name": "stdout",
     "output_type": "stream",
     "text": [
      "Candidate: T-pins — [{'room': 'Main', 'container': 'Pegboard 1', 'specific': 'F5'}]\n",
      "Candidate: Polyester Thread — [{'room': 'Main', 'container': 'Pegboard 1', 'specific': 'Front'}, {'room': 'Cage', 'container': '5e', 'specific': '|-3'}]\n",
      "Candidate: Loom Shuttle — [{'room': 'The Crypt', 'container': '1e', 'specific': None}]\n",
      "Candidate: Misc Plastic Sheet Rolls — [{'room': 'Cage', 'container': '4a 4b', 'specific': ''}]\n",
      "Candidate: Bias tape — [{'room': 'Main', 'container': 'Cabinet 1', 'specific': 'Shelf 13'}]\n"
     ]
    },
    {
     "name": "stderr",
     "output_type": "stream",
     "text": [
      "\n"
     ]
    },
    {
     "name": "stdout",
     "output_type": "stream",
     "text": [
      "LLM returns: \n",
      " T-pins \n",
      " Pegboard 1\n",
      "\n",
      " *********************************************************** \n",
      " \n",
      "\n",
      " text =  purple buttons\n",
      "\n",
      " link items =  []\n"
     ]
    },
    {
     "name": "stderr",
     "output_type": "stream",
     "text": [
      "Batches: 100%|██████████| 1/1 [00:00<00:00, 29.61it/s]"
     ]
    },
    {
     "name": "stdout",
     "output_type": "stream",
     "text": [
      "Candidate: Metallic Cardstock — [{'room': 'Main', 'container': 'Cabinet 7', 'specific': ''}, {'room': 'Backstock', 'container': 'Shelf 4', 'specific': '|-1'}]\n",
      "Candidate: Purple Buttons — [{'room': 'Main', 'container': 'Pegboard 1', 'specific': 'A6'}, {'room': 'Cage', 'container': '5d', 'specific': 'Stack 10|-2'}]\n",
      "Candidate: Red Buttons — [{'room': 'Main', 'container': 'Pegboard 1', 'specific': 'A1'}, {'room': 'Cage', 'container': '5d', 'specific': 'Stack 10|-2'}]\n",
      "Candidate: Green Buttons — [{'room': 'Main', 'container': 'Pegboard 1', 'specific': 'A4'}, {'room': 'Cage', 'container': '5d', 'specific': 'Stack 10|-2'}]\n",
      "Candidate: Yellow Buttons — [{'room': 'Main', 'container': 'Pegboard 1', 'specific': 'A3'}, {'room': 'Cage', 'container': '5d', 'specific': 'Stack 10|-2'}]\n"
     ]
    },
    {
     "name": "stderr",
     "output_type": "stream",
     "text": [
      "\n"
     ]
    },
    {
     "name": "stdout",
     "output_type": "stream",
     "text": [
      "LLM returns: \n",
      " Purple Buttons \n",
      " Pegboard 1\n",
      "\n",
      " *********************************************************** \n",
      " \n",
      "\n",
      " text =  metal bobbins (for overstock) -\n",
      "\n",
      " link items =  []\n"
     ]
    },
    {
     "name": "stderr",
     "output_type": "stream",
     "text": [
      "Batches: 100%|██████████| 1/1 [00:00<00:00, 12.16it/s]"
     ]
    },
    {
     "name": "stdout",
     "output_type": "stream",
     "text": [
      "Candidate: Polyester Thread — [{'room': 'Main', 'container': 'Pegboard 1', 'specific': 'Front'}, {'room': 'Cage', 'container': '5e', 'specific': '|-3'}]\n",
      "Candidate: T-pins — [{'room': 'Main', 'container': 'Pegboard 1', 'specific': 'F5'}]\n",
      "Candidate: Loom Shuttle — [{'room': 'The Crypt', 'container': '1e', 'specific': None}]\n",
      "Candidate: Misc Plastic Sheet Rolls — [{'room': 'Cage', 'container': '4a 4b', 'specific': ''}]\n",
      "Candidate: Bias tape — [{'room': 'Main', 'container': 'Cabinet 1', 'specific': 'Shelf 13'}]\n"
     ]
    },
    {
     "name": "stderr",
     "output_type": "stream",
     "text": [
      "\n"
     ]
    },
    {
     "name": "stdout",
     "output_type": "stream",
     "text": [
      "LLM returns: \n",
      " Polyester Thread \n",
      " Pegboard 1\n",
      "\n",
      " *********************************************************** \n",
      " \n",
      "\n",
      " text =  black pom poms\n",
      "\n",
      " link items =  []\n"
     ]
    },
    {
     "name": "stderr",
     "output_type": "stream",
     "text": [
      "Batches: 100%|██████████| 1/1 [00:00<00:00, 17.60it/s]"
     ]
    },
    {
     "name": "stdout",
     "output_type": "stream",
     "text": [
      "Candidate: Tassels — [{'room': 'Main', 'container': 'Pegboard 1', 'specific': 'C7'}, {'room': 'Cage', 'container': '5e', 'specific': 'Pegboard Bins|-3'}]\n",
      "Candidate: Micro-SD to SD Adapters — [{'room': 'Cage', 'container': '8d', 'specific': ''}]\n",
      "Candidate: Blending Stumps/Tortillons — [{'room': 'Main', 'container': 'Cabinet 4', 'specific': 'Shelf 11'}, {'room': 'Cage', 'container': '5c', 'specific': 'Stack 10|-3'}]\n",
      "Candidate: Prusa Replacement Parts — [{'room': 'Laser3D', 'container': 'Cabinet 8', 'specific': ''}]\n",
      "Candidate: Blue Ribbon — [{'room': 'Main', 'container': 'Cabinet 6', 'specific': 'Shelf 3'}]\n"
     ]
    },
    {
     "name": "stderr",
     "output_type": "stream",
     "text": [
      "\n"
     ]
    },
    {
     "name": "stdout",
     "output_type": "stream",
     "text": [
      "LLM returns: \n",
      " Tassels \n",
      " Pegboard 1\n",
      "\n",
      " *********************************************************** \n",
      " \n",
      "\n",
      " text =  solid washi tape\n",
      "\n",
      " link items =  []\n"
     ]
    },
    {
     "name": "stderr",
     "output_type": "stream",
     "text": [
      "Batches: 100%|██████████| 1/1 [00:00<00:00, 15.26it/s]"
     ]
    },
    {
     "name": "stdout",
     "output_type": "stream",
     "text": [
      "Candidate: Rhinestones — [{'room': 'Main', 'container': 'Cabinet 2', 'specific': 'Shelf 19'}, {'room': 'Cage', 'container': '5d', 'specific': 'Stack 12|-3'}]\n",
      "Candidate: Seam Rippers — [{'room': 'Main', 'container': 'Pegboard 1', 'specific': 'E5'}, {'room': 'Cage', 'container': '5c', 'specific': 'Stack 7|-3'}]\n",
      "Candidate: 3.5 mm Male to XLR Male Cable Short — [{'room': 'Studio', 'container': 'Studio 2', 'specific': 'Shelf 8'}]\n",
      "Candidate: Scotch Tape — [{'room': 'Main', 'container': 'Cabinet 5', 'specific': 'Shelf 2'}, {'room': 'Cage', 'container': '5c', 'specific': 'Stack 14|0'}, {'room': 'Cage', 'container': '5c', 'specific': 'Stack 7'}, {'room': 'Cage', 'container': '5c', 'specific': 'Stack 6'}]\n",
      "Candidate: Color Gel Pens — [{'room': 'Main', 'container': 'Cabinet 4', 'specific': 'Shelf 13'}]\n"
     ]
    },
    {
     "name": "stderr",
     "output_type": "stream",
     "text": [
      "\n"
     ]
    },
    {
     "name": "stdout",
     "output_type": "stream",
     "text": [
      "LLM returns: \n",
      " Scotch Tape \n",
      " Cabinet 5\n",
      "\n",
      " *********************************************************** \n",
      " \n",
      "\n",
      " text =  rhinestones\n",
      "\n",
      " link items =  []\n"
     ]
    },
    {
     "name": "stderr",
     "output_type": "stream",
     "text": [
      "Batches: 100%|██████████| 1/1 [00:00<00:00, 25.45it/s]"
     ]
    },
    {
     "name": "stdout",
     "output_type": "stream",
     "text": [
      "Candidate: Graphite Sketch Pencil Kit — [{'room': 'Cage', 'container': '1b', 'specific': ''}]\n",
      "Candidate: Pony Beads — [{'room': 'Main', 'container': 'Cabinet 3', 'specific': 'Shelf 13'}, {'room': 'Cage', 'container': '5e', 'specific': '|4'}]\n",
      "Candidate: Clay Carving Tools — [{'room': 'Main', 'container': 'Cabinet 9', 'specific': 'Shelf 2'}]\n",
      "Candidate: Mixed Beads — [{'room': 'Main', 'container': 'Cabinet 3', 'specific': 'Shelf 12'}]\n",
      "Candidate: Pipe Wrenches — [{'room': 'Main', 'container': 'Cabinet 11', 'specific': 'Shelf 7'}]\n"
     ]
    },
    {
     "name": "stderr",
     "output_type": "stream",
     "text": [
      "\n"
     ]
    },
    {
     "name": "stdout",
     "output_type": "stream",
     "text": [
      "LLM returns: \n",
      " Mixed Beads \n",
      " Cabinet 3\n",
      "\n",
      " *********************************************************** \n",
      " \n",
      "\n",
      " text =  1\" masking tape -\n",
      "\n",
      " link items =  []\n"
     ]
    },
    {
     "name": "stderr",
     "output_type": "stream",
     "text": [
      "Batches: 100%|██████████| 1/1 [00:00<00:00, 10.55it/s]"
     ]
    },
    {
     "name": "stdout",
     "output_type": "stream",
     "text": [
      "Candidate: Glue Dots — [{'room': 'Main', 'container': 'Cabinet 5', 'specific': 'Shelf 2'}, {'room': 'Cage', 'container': '8d', 'specific': '|-3'}]\n",
      "Candidate: Cellophane — [{'room': 'Cage', 'container': '5b', 'specific': ''}, {'room': 'Cage', 'container': '', 'specific': ''}]\n",
      "Candidate: Paint Thinner (For use with Spray Paint Gun Only) — [{'room': 'Cage', 'container': 'Flammable', 'specific': None}]\n",
      "Candidate: Scotch Tape — [{'room': 'Main', 'container': 'Cabinet 5', 'specific': 'Shelf 2'}, {'room': 'Cage', 'container': '5c', 'specific': 'Stack 14|0'}, {'room': 'Cage', 'container': '5c', 'specific': 'Stack 7'}, {'room': 'Cage', 'container': '5c', 'specific': 'Stack 6'}]\n",
      "Candidate: Color Gel Pens — [{'room': 'Main', 'container': 'Cabinet 4', 'specific': 'Shelf 13'}]\n"
     ]
    },
    {
     "name": "stderr",
     "output_type": "stream",
     "text": [
      "\n"
     ]
    },
    {
     "name": "stdout",
     "output_type": "stream",
     "text": [
      "LLM returns: \n",
      " Scotch Tape \n",
      " Cabinet 5\n",
      "\n",
      " *********************************************************** \n",
      " \n",
      "\n",
      " text =  rhinestone sticker sheets\n",
      "\n",
      " link items =  []\n"
     ]
    },
    {
     "name": "stderr",
     "output_type": "stream",
     "text": [
      "Batches: 100%|██████████| 1/1 [00:00<00:00, 14.06it/s]"
     ]
    },
    {
     "name": "stdout",
     "output_type": "stream",
     "text": [
      "Candidate: Extra Signage — [{'room': 'Cage', 'container': '8d', 'specific': ''}]\n",
      "Candidate: Graphite Sketch Pencil Kit — [{'room': 'Cage', 'container': '1b', 'specific': ''}]\n",
      "Candidate: Small Zip Ties — [{'room': 'Main', 'container': 'Cabinet 2', 'specific': 'Shelf 4'}, {'room': 'Cage', 'container': '5c', 'specific': 'Stack 2|-1'}]\n",
      "Candidate: Suede Lace — [{'room': 'Main', 'container': 'Cabinet 2', 'specific': 'Shelf 21'}]\n",
      "Candidate: Iron Rest Pad — [{'room': 'Cage', 'container': '3b', 'specific': ''}]\n"
     ]
    },
    {
     "name": "stderr",
     "output_type": "stream",
     "text": [
      "\n"
     ]
    },
    {
     "name": "stdout",
     "output_type": "stream",
     "text": [
      "LLM returns: \n",
      "  \n",
      " Cabinet 3\n",
      "\n",
      " *********************************************************** \n",
      " \n",
      "\n",
      " text =  small dowels\n",
      "\n",
      " link items =  []\n"
     ]
    },
    {
     "name": "stderr",
     "output_type": "stream",
     "text": [
      "Batches: 100%|██████████| 1/1 [00:00<00:00, 17.48it/s]"
     ]
    },
    {
     "name": "stdout",
     "output_type": "stream",
     "text": [
      "Candidate: Large Wooden Dowels (1/4\" x 12\") — [{'room': 'Main', 'container': 'Cabinet 2', 'specific': 'Shelf 6'}, {'room': 'Cage', 'container': '5d', 'specific': 'Stack 14|-2'}]\n",
      "Candidate: Highlighters — [{'room': 'Main', 'container': 'Cabinet 4', 'specific': 'Shelf 7'}]\n",
      "Candidate: Medium Metal Magnets — [{'room': 'Main', 'container': 'Cabinet 2', 'specific': 'Shelf 1'}, {'room': 'Cage', 'container': '5c', 'specific': 'Stack 14|-3'}]\n",
      "Candidate: Safety Eyes — [{'room': 'Main', 'container': 'Pegboard 1', 'specific': ''}]\n",
      "Candidate: Small Metal Magnets — [{'room': 'Main', 'container': 'Cabinet 2', 'specific': 'Shelf 1'}, {'room': 'Cage', 'container': '5c', 'specific': 'Stack 14|-3'}]\n"
     ]
    },
    {
     "name": "stderr",
     "output_type": "stream",
     "text": [
      "\n"
     ]
    },
    {
     "name": "stdout",
     "output_type": "stream",
     "text": [
      "LLM returns: \n",
      " Large Wooden Dowels (1/4\" x 12\") \n",
      " Cabinet 2\n",
      "\n",
      " *********************************************************** \n",
      " \n",
      "\n",
      " text =  large dowels\n",
      "\n",
      " link items =  []\n"
     ]
    },
    {
     "name": "stderr",
     "output_type": "stream",
     "text": [
      "Batches: 100%|██████████| 1/1 [00:00<00:00,  6.38it/s]"
     ]
    },
    {
     "name": "stdout",
     "output_type": "stream",
     "text": [
      "Candidate: Highlighters — [{'room': 'Main', 'container': 'Cabinet 4', 'specific': 'Shelf 7'}]\n",
      "Candidate: Large Wooden Dowels (1/4\" x 12\") — [{'room': 'Main', 'container': 'Cabinet 2', 'specific': 'Shelf 6'}, {'room': 'Cage', 'container': '5d', 'specific': 'Stack 14|-2'}]\n",
      "Candidate: Hook and Eye Closures — [{'room': 'Main', 'container': 'Pegboard 1', 'specific': 'B8'}]\n",
      "Candidate: Mini Screwdrivers — [{'room': 'Cage', 'container': '5c', 'specific': 'Stack 12'}]\n",
      "Candidate: Spare Serger Thread — [{'room': 'Cage', 'container': '3c', 'specific': None}]\n"
     ]
    },
    {
     "name": "stderr",
     "output_type": "stream",
     "text": [
      "\n"
     ]
    },
    {
     "name": "stdout",
     "output_type": "stream",
     "text": [
      "LLM returns: \n",
      " Large Wooden Dowels (1/4\" x 12\") \n",
      " Cabinet 2\n",
      "\n",
      " *********************************************************** \n",
      " \n",
      "\n",
      " text =  multicolor duck tape (for overstock) -\n",
      "\n",
      " link items =  []\n"
     ]
    },
    {
     "name": "stderr",
     "output_type": "stream",
     "text": [
      "Batches: 100%|██████████| 1/1 [00:00<00:00,  5.09it/s]\n"
     ]
    },
    {
     "name": "stdout",
     "output_type": "stream",
     "text": [
      "Candidate: Beige Masking Tape (1\") — [{'room': 'Main', 'container': 'Cabinet 5', 'specific': 'Top'}, {'room': 'Cage', 'container': '5e', 'specific': '|-3'}]\n",
      "Candidate: Seam Rippers — [{'room': 'Main', 'container': 'Pegboard 1', 'specific': 'E5'}, {'room': 'Cage', 'container': '5c', 'specific': 'Stack 7|-3'}]\n",
      "Candidate: Key Tags — [{'room': 'Cage', 'container': '8d', 'specific': ''}]\n",
      "Candidate: Scotch Tape — [{'room': 'Main', 'container': 'Cabinet 5', 'specific': 'Shelf 2'}, {'room': 'Cage', 'container': '5c', 'specific': 'Stack 14|0'}, {'room': 'Cage', 'container': '5c', 'specific': 'Stack 7'}, {'room': 'Cage', 'container': '5c', 'specific': 'Stack 6'}]\n",
      "Candidate: 3.5 mm Male to XLR Female Cable Short — [{'room': 'Studio', 'container': 'Studio 2', 'specific': 'Shelf 8'}]\n",
      "LLM returns: \n",
      " Scotch Tape \n",
      " Cabinet 5\n",
      "\n",
      " *********************************************************** \n",
      " \n",
      "\n",
      " text =  rubber bands\n",
      "\n",
      " link items =  []\n"
     ]
    },
    {
     "name": "stderr",
     "output_type": "stream",
     "text": [
      "Batches: 100%|██████████| 1/1 [00:00<00:00,  8.79it/s]"
     ]
    },
    {
     "name": "stdout",
     "output_type": "stream",
     "text": [
      "Candidate: Ziploc Plastic Bags (Gallon) — [{'room': 'Main', 'container': 'Cabinet 2', 'specific': 'Shelf 2'}, {'room': 'Cage', 'container': '5b', 'specific': '|12'}, {'room': 'Cage', 'container': '8e', 'specific': '|1'}]\n",
      "Candidate: Miscellaneous Beads — [{'room': 'Main', 'container': 'Cabinet 3', 'specific': 'Shelf 14'}]\n",
      "Candidate: USB-C to USB-A Adapter — [{'room': 'Cage', 'container': '8d', 'specific': ''}]\n",
      "Candidate: Plastic Bobbins — [{'room': 'Main', 'container': 'Pegboard 1', 'specific': 'Bottom'}, {'room': 'Cage', 'container': '5e', 'specific': 'Pegboard Bins|-3'}]\n",
      "Candidate: Stamps — [{'room': 'Main', 'container': 'Cabinet 4', 'specific': 'Shelf 20, Shelf 21, Shelf 23'}]\n"
     ]
    },
    {
     "name": "stderr",
     "output_type": "stream",
     "text": [
      "\n"
     ]
    },
    {
     "name": "stdout",
     "output_type": "stream",
     "text": [
      "LLM returns: \n",
      " Ziploc Plastic Bags (Gallon) \n",
      " Cabinet 2\n",
      "\n",
      " *********************************************************** \n",
      " \n",
      "\n",
      " text =  mini rubber bands\n",
      "\n",
      " link items =  []\n"
     ]
    },
    {
     "name": "stderr",
     "output_type": "stream",
     "text": [
      "Batches: 100%|██████████| 1/1 [00:00<00:00,  3.82it/s]\n"
     ]
    },
    {
     "name": "stdout",
     "output_type": "stream",
     "text": [
      "Candidate: Miscellaneous Beads — [{'room': 'Main', 'container': 'Cabinet 3', 'specific': 'Shelf 14'}]\n",
      "Candidate: Ziploc Plastic Bags (Gallon) — [{'room': 'Main', 'container': 'Cabinet 2', 'specific': 'Shelf 2'}, {'room': 'Cage', 'container': '5b', 'specific': '|12'}, {'room': 'Cage', 'container': '8e', 'specific': '|1'}]\n",
      "Candidate: USB-C to USB-A Adapter — [{'room': 'Cage', 'container': '8d', 'specific': ''}]\n",
      "Candidate: Earring Hooks — [{'room': 'Main', 'container': 'Cabinet 3', 'specific': 'Shelf 6'}, {'room': 'Cage', 'container': '5d', 'specific': 'Stack 2|-3'}]\n",
      "Candidate: Large Straps — [{'room': 'Cage', 'container': '7c', 'specific': None}]\n",
      "LLM returns: \n",
      " Miscellaneous Beads \n",
      " Cabinet 3\n",
      "\n",
      " *********************************************************** \n",
      " \n",
      "\n",
      " text =  usb c adapters\n",
      "\n",
      " link items =  []\n"
     ]
    },
    {
     "name": "stderr",
     "output_type": "stream",
     "text": [
      "Batches: 100%|██████████| 1/1 [00:00<00:00, 27.45it/s]"
     ]
    },
    {
     "name": "stdout",
     "output_type": "stream",
     "text": [
      "Candidate: Glossy Mod Podge Spray — [{'room': 'Cage', 'container': 'Flammable', 'specific': ''}]\n",
      "Candidate: Wall Tack — [{'room': 'Cage', 'container': '8d', 'specific': ''}]\n",
      "Candidate: Plastic Dividers/Folders — [{'room': 'Cage', 'container': '8d', 'specific': ''}]\n",
      "Candidate: Micro-USB Power Cable — [{'room': 'Cage', 'container': '8d', 'specific': ''}]\n",
      "Candidate: USB-C to HDMI Adapters — [{'room': 'Cage', 'container': '8d', 'specific': ''}]\n"
     ]
    },
    {
     "name": "stderr",
     "output_type": "stream",
     "text": [
      "\n"
     ]
    },
    {
     "name": "stdout",
     "output_type": "stream",
     "text": [
      "LLM returns: \n",
      " USB-C to HDMI Adapters \n",
      " Cage/Crypt/Other\n",
      "\n",
      " *********************************************************** \n",
      " \n",
      "\n",
      " text =  sd card reader\n",
      "\n",
      " link items =  []\n"
     ]
    },
    {
     "name": "stderr",
     "output_type": "stream",
     "text": [
      "Batches: 100%|██████████| 1/1 [00:00<00:00, 24.03it/s]"
     ]
    },
    {
     "name": "stdout",
     "output_type": "stream",
     "text": [
      "Candidate: Whiteboard Cleaner — [{'room': 'Cage', 'container': '8e', 'specific': None}]\n",
      "Candidate: USB-C SD Card Reader — [{'room': 'Cage', 'container': '8d', 'specific': ''}]\n",
      "Candidate: Wall Tape — [{'room': 'Cage', 'container': '8d', 'specific': ''}]\n",
      "Candidate: USB-C to HDMI Adapters — [{'room': 'Cage', 'container': '8d', 'specific': ''}]\n",
      "Candidate: Double Sided Interfacing Tape — [{'room': 'Main', 'container': 'Fabrics', 'specific': ''}]\n"
     ]
    },
    {
     "name": "stderr",
     "output_type": "stream",
     "text": [
      "\n"
     ]
    },
    {
     "name": "stdout",
     "output_type": "stream",
     "text": [
      "LLM returns: \n",
      " USB-C SD Card Reader \n",
      " Cage/Crypt/Other\n",
      "\n",
      " *********************************************************** \n",
      " \n",
      "\n",
      " text =  usb drives\n",
      "\n",
      " link items =  []\n"
     ]
    },
    {
     "name": "stderr",
     "output_type": "stream",
     "text": [
      "Batches: 100%|██████████| 1/1 [00:00<00:00, 14.44it/s]"
     ]
    },
    {
     "name": "stdout",
     "output_type": "stream",
     "text": [
      "Candidate: Label Cassette — [{'room': 'Cage', 'container': '8d', 'specific': None}]\n",
      "Candidate: Plastic Dividers/Folders — [{'room': 'Cage', 'container': '8d', 'specific': ''}]\n",
      "Candidate: USB-C SD Card Reader — [{'room': 'Cage', 'container': '8d', 'specific': ''}]\n",
      "Candidate: USB Replacement Cables — [{'room': 'Cage', 'container': '8d', 'specific': ''}]\n",
      "Candidate: Watercolor Tubes — [{'room': 'Main', 'container': 'Cabinet 4', 'specific': 'Shelf 6'}]\n"
     ]
    },
    {
     "name": "stderr",
     "output_type": "stream",
     "text": [
      "\n"
     ]
    },
    {
     "name": "stdout",
     "output_type": "stream",
     "text": [
      "LLM returns: \n",
      " USB Replacement Cables \n",
      " Cage/Crypt/Other\n",
      "\n",
      " *********************************************************** \n",
      " \n",
      "\n",
      " text =  sd cards\n",
      "\n",
      " link items =  []\n"
     ]
    },
    {
     "name": "stderr",
     "output_type": "stream",
     "text": [
      "Batches: 100%|██████████| 1/1 [00:00<00:00, 36.51it/s]"
     ]
    },
    {
     "name": "stdout",
     "output_type": "stream",
     "text": [
      "Candidate: Wall Tape — [{'room': 'Cage', 'container': '8d', 'specific': ''}]\n",
      "Candidate: Whiteboard Cleaner — [{'room': 'Cage', 'container': '8e', 'specific': None}]\n",
      "Candidate: Double Sided Interfacing Tape — [{'room': 'Main', 'container': 'Fabrics', 'specific': ''}]\n",
      "Candidate: Sound Shield (w/ Microphone Stand Mount) — [{'room': 'Studio', 'container': 'Studio 4', 'specific': 'Slider'}]\n",
      "Candidate: Laser Cutter Wood Stock — [{'room': 'Outdoor Storage', 'container': 'C3, D3, E3', 'specific': None}]\n"
     ]
    },
    {
     "name": "stderr",
     "output_type": "stream",
     "text": [
      "\n"
     ]
    },
    {
     "name": "stdout",
     "output_type": "stream",
     "text": [
      "LLM returns: \n",
      "  \n",
      " Electronics\n",
      "\n",
      " *********************************************************** \n",
      " \n",
      "\n",
      " text =  micro sd to sd adapters\n",
      "\n",
      " link items =  []\n"
     ]
    },
    {
     "name": "stderr",
     "output_type": "stream",
     "text": [
      "Batches: 100%|██████████| 1/1 [00:00<00:00, 29.22it/s]"
     ]
    },
    {
     "name": "stdout",
     "output_type": "stream",
     "text": [
      "Candidate: SD Card — [{'room': 'Cage', 'container': '8d', 'specific': ''}]\n",
      "Candidate: Double Sided Interfacing Tape — [{'room': 'Main', 'container': 'Fabrics', 'specific': ''}]\n",
      "Candidate: Plastic Dividers/Folders — [{'room': 'Cage', 'container': '8d', 'specific': ''}]\n",
      "Candidate: Whiteboard Cleaner — [{'room': 'Cage', 'container': '8e', 'specific': None}]\n",
      "Candidate: USB-C SD Card Reader — [{'room': 'Cage', 'container': '8d', 'specific': ''}]\n"
     ]
    },
    {
     "name": "stderr",
     "output_type": "stream",
     "text": [
      "\n"
     ]
    },
    {
     "name": "stdout",
     "output_type": "stream",
     "text": [
      "LLM returns: \n",
      " SD Card \n",
      " Cage/Crypt/Other\n",
      "\n",
      " *********************************************************** \n",
      " \n",
      "\n",
      " text =  light light black ink\n",
      "\n",
      " link items =  ['Epson T55K900 UltraChrome HD Light Light Black Ink Cartridge (700ml)']\n"
     ]
    },
    {
     "name": "stderr",
     "output_type": "stream",
     "text": [
      "Batches: 100%|██████████| 1/1 [00:00<00:00, 10.83it/s]"
     ]
    },
    {
     "name": "stdout",
     "output_type": "stream",
     "text": [
      "Candidate: LFP8000 Matte Black Ink — [{'room': 'The Crypt', 'container': '3', 'specific': ''}]\n",
      "Candidate: EPSON Printer Toner/Ink Cartridge — [{'room': 'The Crypt', 'container': '3', 'specific': ''}]\n",
      "Candidate: LFP Glossy Paper — [{'room': 'The Crypt', 'container': 'Floor', 'specific': ''}]\n",
      "Candidate: LFP8000 Photo Black Ink — [{'room': 'The Crypt', 'container': '3', 'specific': ''}]\n",
      "Candidate: LFP8000 Vivid Magenta Ink — [{'room': 'The Crypt', 'container': '3', 'specific': ''}]\n"
     ]
    },
    {
     "name": "stderr",
     "output_type": "stream",
     "text": [
      "\n"
     ]
    },
    {
     "name": "stdout",
     "output_type": "stream",
     "text": [
      "LLM returns: \n",
      " EPSON Printer Toner/Ink Cartridge \n",
      " LFP\n",
      "\n",
      " *********************************************************** \n",
      " \n",
      "\n",
      " text =  vivid light magenta ink\n",
      "\n",
      " link items =  ['Epson T55K600 UltraChrome HD Vivid Light Magenta Ink Cartridge (700ml)']\n"
     ]
    },
    {
     "name": "stderr",
     "output_type": "stream",
     "text": [
      "Batches: 100%|██████████| 1/1 [00:00<00:00,  6.83it/s]"
     ]
    },
    {
     "name": "stdout",
     "output_type": "stream",
     "text": [
      "Candidate: LFP8000 Yellow Ink — [{'room': 'The Crypt', 'container': '3', 'specific': ''}]\n",
      "Candidate: LFP8000 Maintenance Box — [{'room': 'The Crypt', 'container': '3', 'specific': ''}]\n",
      "Candidate: LFP8000 Matte Black Ink — [{'room': 'The Crypt', 'container': '3', 'specific': ''}]\n",
      "Candidate: LFP Glossy Paper — [{'room': 'The Crypt', 'container': 'Floor', 'specific': ''}]\n",
      "Candidate: EPSON Printer Toner/Ink Cartridge — [{'room': 'The Crypt', 'container': '3', 'specific': ''}]\n"
     ]
    },
    {
     "name": "stderr",
     "output_type": "stream",
     "text": [
      "\n"
     ]
    },
    {
     "name": "stdout",
     "output_type": "stream",
     "text": [
      "LLM returns: \n",
      "  \n",
      " LFP\n",
      "\n",
      " *********************************************************** \n",
      " \n",
      "\n",
      " text =  Glossy LFP paper (I don't have a link but we have no rolls of glossy, we currently only have matte)\n",
      "\n",
      " link items =  []\n"
     ]
    },
    {
     "name": "stderr",
     "output_type": "stream",
     "text": [
      "Batches: 100%|██████████| 1/1 [00:00<00:00, 16.25it/s]"
     ]
    },
    {
     "name": "stdout",
     "output_type": "stream",
     "text": [
      "Candidate: Leather Seeder Tool — [{'room': 'Studio', 'container': '', 'specific': ''}]\n",
      "Candidate: Spare Drill Bits — [{'room': 'Backstock', 'container': 'Shelf 2', 'specific': ''}]\n",
      "Candidate: LFP Matte Paper — [{'room': 'The Crypt', 'container': 'Floor', 'specific': ''}]\n",
      "Candidate: Outdoor Timer — [{'room': 'The Crypt', 'container': '2d', 'specific': ''}]\n",
      "Candidate: LFP9900 Light Cyan Ink — [{'room': 'The Crypt', 'container': '3B', 'specific': ''}]\n"
     ]
    },
    {
     "name": "stderr",
     "output_type": "stream",
     "text": [
      "\n"
     ]
    },
    {
     "name": "stdout",
     "output_type": "stream",
     "text": [
      "LLM returns: \n",
      " LFP Matte Paper \n",
      " LFP\n",
      "\n",
      " *********************************************************** \n",
      " \n",
      "\n",
      " text =  Coping saw blades\n",
      "\n",
      " link items =  []\n"
     ]
    },
    {
     "name": "stderr",
     "output_type": "stream",
     "text": [
      "Batches: 100%|██████████| 1/1 [00:00<00:00,  9.46it/s]"
     ]
    },
    {
     "name": "stdout",
     "output_type": "stream",
     "text": [
      "Candidate: Small Crowbar — [{'room': 'Cage', 'container': 'Pegboard', 'specific': ''}]\n",
      "Candidate: Dustpan — [{'room': 'Cage', 'container': '8e', 'specific': None}]\n",
      "Candidate: Star/Torx Bit Socket Set — [{'room': 'Cage', 'container': '2b', 'specific': None}]\n",
      "Candidate: Large Files — [{'room': 'Main', 'container': 'Cabinet 11', 'specific': 'Shelf 3'}]\n",
      "Candidate: Fabric Tape — [{'room': 'Main', 'container': 'Pegboard 1', 'specific': 'G7'}, {'room': 'Cage', 'container': '5e', 'specific': 'Pegboard Bins|1'}]\n"
     ]
    },
    {
     "name": "stderr",
     "output_type": "stream",
     "text": [
      "\n"
     ]
    },
    {
     "name": "stdout",
     "output_type": "stream",
     "text": [
      "LLM returns: \n",
      " Fabric Tape \n",
      " Cage/Crypt/Other\n",
      "\n",
      " *********************************************************** \n",
      " \n",
      "\n",
      " text =  Nylon 12 Powder 6 kg (Formlabs SLS)\n",
      "\n",
      "(I don't remember if I already requested this restock. If I'm not mistaken, the numbers add up in such a way that suggests that there may not be spare powder around.)\n",
      "\n",
      " link items =  []\n"
     ]
    },
    {
     "name": "stderr",
     "output_type": "stream",
     "text": [
      "Batches: 100%|██████████| 1/1 [00:00<00:00,  3.96it/s]\n"
     ]
    },
    {
     "name": "stdout",
     "output_type": "stream",
     "text": [
      "Candidate: Black Cotton Thread — [{'room': 'Cage', 'container': '5c', 'specific': 'Stack 1|-3'}]\n",
      "Candidate: Ironing mat — [{'room': 'Cage', 'container': '3c', 'specific': None}]\n",
      "Candidate: Keychain Clasps — [{'room': 'Main', 'container': 'Cabinet 3', 'specific': 'Shelf 9'}, {'room': 'Cage', 'container': '5d', 'specific': 'Stack 3|-3'}]\n",
      "Candidate: Camera Dolly Rails — [{'room': 'Outdoor Storage', 'container': 'A2', 'specific': None}]\n",
      "Candidate: Watercolor Paper — [{'room': 'Main', 'container': 'Cabinet 7', 'specific': ''}]\n",
      "LLM returns: \n",
      "  \n",
      " Laser3D\n",
      "\n",
      " *********************************************************** \n",
      " \n",
      "\n",
      " text =  Staple remover (for overstock)\n",
      "\n",
      " link items =  []\n"
     ]
    },
    {
     "name": "stderr",
     "output_type": "stream",
     "text": [
      "Batches: 100%|██████████| 1/1 [00:00<00:00, 16.95it/s]"
     ]
    },
    {
     "name": "stdout",
     "output_type": "stream",
     "text": [
      "Candidate: Hemmer Foot Set — [{'room': 'Main', 'container': 'Pegboard 1', 'specific': 'K5'}]\n",
      "Candidate: Raffia — [{'room': 'Main', 'container': 'Cabinet 2', 'specific': 'Shelf 21'}, {'room': 'Cage', 'container': '5c', 'specific': 'Stack 28|-3'}]\n",
      "Candidate: Socket Set — [{'room': 'Cage', 'container': '2b', 'specific': ''}]\n",
      "Candidate: Soldering Irons — [{'room': 'Electronics', 'container': None, 'specific': None}]\n",
      "Candidate: Specialty Sewing Machine Needles — [{'room': 'Main', 'container': 'Pegboard', 'specific': None}, {'room': 'Cage', 'container': '5e', 'specific': 'Pegboard Bins|-3'}]\n"
     ]
    },
    {
     "name": "stderr",
     "output_type": "stream",
     "text": [
      "\n"
     ]
    },
    {
     "name": "stdout",
     "output_type": "stream",
     "text": [
      "LLM returns: \n",
      "  \n",
      " Cabinet 11\n",
      "\n",
      " *********************************************************** \n",
      " \n",
      "\n",
      " text =  IIIDMax filament in full color assortment, 30 pack (purchase after fiscal year)\n",
      "\n",
      " link items =  []\n"
     ]
    },
    {
     "name": "stderr",
     "output_type": "stream",
     "text": [
      "Batches: 100%|██████████| 1/1 [00:00<00:00, 11.00it/s]"
     ]
    },
    {
     "name": "stdout",
     "output_type": "stream",
     "text": [
      "Candidate: Laser Cutter Replacement Parts — [{'room': 'Laser3D', 'container': 'In Laser Cutter Side Panel', 'specific': ''}]\n",
      "Candidate: Spare Fuse Sift Sieve — [{'room': 'Laser3D', 'container': 'Cabinet 8', 'specific': ''}]\n",
      "Candidate: Tweezers for Electronics — [{'room': 'Other', 'container': '', 'specific': None}]\n",
      "Candidate: Various Stickers — [{'room': 'Main', 'container': 'Cabinet 2', 'specific': 'Shelf 5'}]\n",
      "Candidate: PLA Filament — [{'room': 'The Crypt', 'container': '', 'specific': ''}]\n"
     ]
    },
    {
     "name": "stderr",
     "output_type": "stream",
     "text": [
      "\n"
     ]
    },
    {
     "name": "stdout",
     "output_type": "stream",
     "text": [
      "LLM returns: \n",
      " Laser Cutter Replacement Parts \n",
      " Laser3D\n",
      "\n",
      " *********************************************************** \n",
      " \n",
      "\n",
      " text =  Craft hinges (after fiscal year)\n",
      "\n",
      " link items =  []\n"
     ]
    },
    {
     "name": "stderr",
     "output_type": "stream",
     "text": [
      "Batches: 100%|██████████| 1/1 [00:00<00:00,  5.05it/s]\n"
     ]
    },
    {
     "name": "stdout",
     "output_type": "stream",
     "text": [
      "Candidate: Ratchets — [{'room': 'The Crypt', 'container': '2b', 'specific': ''}]\n",
      "Candidate: Felting Wool — [{'room': 'Main', 'container': 'Cabinet 1', 'specific': 'Shelf 10/11'}, {'room': 'Cage', 'container': '5d', 'specific': 'Stack 16|-3'}]\n",
      "Candidate: Screwdrivers — [{'room': 'Main', 'container': 'Cabinet 11', 'specific': 'Shelf 6'}]\n",
      "Candidate: Power Cable, Aputure — [{'room': 'Studio', 'container': 'Studio 3', 'specific': 'Shelf 1'}]\n",
      "Candidate: Pegboard Hardware — [{'room': 'Cage', 'container': 'Pegboard', 'specific': ''}]\n",
      "LLM returns: \n",
      " Screwdrivers \n",
      " Cabinet 11\n",
      "\n",
      " *********************************************************** \n",
      " \n",
      "\n",
      " text =  Metallic pigments\n",
      "\n",
      " link items =  []\n"
     ]
    },
    {
     "name": "stderr",
     "output_type": "stream",
     "text": [
      "Batches: 100%|██████████| 1/1 [00:00<00:00, 12.47it/s]"
     ]
    },
    {
     "name": "stdout",
     "output_type": "stream",
     "text": [
      "Candidate: Washable Broad Tip Markers — [{'room': 'Main', 'container': 'Cabinet 4', 'specific': 'Shelf 16'}]\n",
      "Candidate: Powder Pigment — [{'room': 'Main', 'container': 'Cabinet 4', 'specific': 'Shelf 18'}, {'room': 'Cage', 'container': 'Shelf 5', 'specific': 'Stack 19|-3'}]\n",
      "Candidate: Butcher Block Conditioner — [{'room': 'Cage', 'container': '7c', 'specific': None}]\n",
      "Candidate: Leather Grommet Tool — [{'room': 'Main', 'container': 'Cabinet 9', 'specific': 'Shelf 4'}]\n",
      "Candidate: Large Paper — [{'room': 'Cage', 'container': '4c', 'specific': ''}]\n"
     ]
    },
    {
     "name": "stderr",
     "output_type": "stream",
     "text": [
      "\n"
     ]
    },
    {
     "name": "stdout",
     "output_type": "stream",
     "text": [
      "LLM returns: \n",
      " Powder Pigment \n",
      " Cabinet 4\n",
      "\n",
      " *********************************************************** \n",
      " \n",
      "\n",
      " text =  Sewing machine presser foot holder replacements, for future repair and overstock\n",
      "\n",
      " link items =  []\n"
     ]
    },
    {
     "name": "stderr",
     "output_type": "stream",
     "text": [
      "Batches: 100%|██████████| 1/1 [00:00<00:00,  3.71it/s]\n"
     ]
    },
    {
     "name": "stdout",
     "output_type": "stream",
     "text": [
      "Candidate: Craft Hinges — [{'room': 'Main', 'container': 'Cabinet 9', 'specific': 'Shelf 7'}, {'room': 'Cage', 'container': '5c', 'specific': 'Stack 5|2'}]\n",
      "Candidate: Tailor Tape Measure — [{'room': 'Main', 'container': 'Pegboard 1', 'specific': 'E3'}, {'room': 'Cage', 'container': '5e', 'specific': ''}]\n",
      "Candidate: Buttonhole Foot — [{'room': 'Main', 'container': 'Pegboard 1', 'specific': 'J7'}, {'room': 'Cage', 'container': 'Pegboard Bins', 'specific': '|-3'}]\n",
      "Candidate: Craft Paper — [{'room': 'Main', 'container': 'near lockers', 'specific': ''}, {'room': 'The Crypt', 'container': 'Floor', 'specific': '|1'}]\n",
      "Candidate: Brother Sewing Machine 19 — [{'room': 'Cage', 'container': '3e', 'specific': ''}]\n",
      "LLM returns: \n",
      " Buttonhole Foot \n",
      " Pegboard 1\n",
      "\n",
      " *********************************************************** \n",
      " \n",
      "\n",
      " text =  Fabric spray paint (1x black and 1x white):\n",
      "\n",
      " link items =  []\n"
     ]
    },
    {
     "name": "stderr",
     "output_type": "stream",
     "text": [
      "Batches: 100%|██████████| 1/1 [00:00<00:00,  1.91it/s]\n"
     ]
    },
    {
     "name": "stdout",
     "output_type": "stream",
     "text": [
      "Candidate: Ball Bearings — [{'room': 'Cage', 'container': 'Movable Shelves', 'specific': None}]\n",
      "Candidate: Wood Polish & Conditioner — [{'room': 'Cage', 'container': '7c', 'specific': None}]\n",
      "Candidate: Halogen Modeling Light Bulb, Impact — [{'room': 'Studio', 'container': 'Studio 3', 'specific': 'Shelf 4'}]\n",
      "Candidate: Drop Cloths — [{'room': 'Cage', 'container': '1a', 'specific': None}]\n",
      "Candidate: Paint Sponges — [{'room': 'Main', 'container': 'Cabinet 4', 'specific': 'Shelf 15'}, {'room': 'Cage', 'container': '5d', 'specific': 'Stack 9|-3'}, {'room': 'Backstock', 'container': 'Shelf 2', 'specific': '|-3'}]\n",
      "LLM returns: \n",
      "  \n",
      " Spraypaint\n",
      "\n",
      " *********************************************************** \n",
      " \n",
      "\n",
      " text =  usb flash drives -      \n",
      "we only have one left :(\n",
      "\n",
      " link items =  []\n"
     ]
    },
    {
     "name": "stderr",
     "output_type": "stream",
     "text": [
      "Batches: 100%|██████████| 1/1 [00:00<00:00,  3.04it/s]\n"
     ]
    },
    {
     "name": "stdout",
     "output_type": "stream",
     "text": [
      "Candidate: Label Cassette — [{'room': 'Cage', 'container': '8d', 'specific': None}]\n",
      "Candidate: USB Replacement Cables — [{'room': 'Cage', 'container': '8d', 'specific': ''}]\n",
      "Candidate: USB-C SD Card Reader — [{'room': 'Cage', 'container': '8d', 'specific': ''}]\n",
      "Candidate: Plastic Dividers/Folders — [{'room': 'Cage', 'container': '8d', 'specific': ''}]\n",
      "Candidate: USB Adapters — [{'room': 'Cage', 'container': '8d', 'specific': ''}]\n",
      "LLM returns: \n",
      " USB Replacement Cables \n",
      " Cage/Crypt/Other\n",
      "\n",
      " *********************************************************** \n",
      " \n",
      "\n",
      " text =  Polyester thread, follow up with me before purchase\n",
      "\n",
      " link items =  []\n"
     ]
    },
    {
     "name": "stderr",
     "output_type": "stream",
     "text": [
      "Batches: 100%|██████████| 1/1 [00:00<00:00,  5.02it/s]\n"
     ]
    },
    {
     "name": "stdout",
     "output_type": "stream",
     "text": [
      "Candidate: Cotton Thread — [{'room': 'Main', 'container': 'Pegboard 1', 'specific': 'Front'}]\n",
      "Candidate: White Cotton Thread — [{'room': 'Cage', 'container': '5c', 'specific': 'Stack 1|-3'}]\n",
      "Candidate: White Polyester Thread — [{'room': 'Cage', 'container': '5c', 'specific': 'Stack 1'}]\n",
      "Candidate: Watercolor Paper — [{'room': 'Main', 'container': 'Cabinet 7', 'specific': ''}]\n",
      "Candidate: Black Cotton Thread — [{'room': 'Cage', 'container': '5c', 'specific': 'Stack 1|-3'}]\n",
      "LLM returns: \n",
      " Cotton Thread \n",
      " Pegboard 1\n",
      "\n",
      " *********************************************************** \n",
      " \n",
      "\n",
      " text =  Double sided tape\n",
      "\n",
      " link items =  []\n"
     ]
    },
    {
     "name": "stderr",
     "output_type": "stream",
     "text": [
      "Batches: 100%|██████████| 1/1 [00:00<00:00,  9.29it/s]"
     ]
    },
    {
     "name": "stdout",
     "output_type": "stream",
     "text": [
      "Candidate: Scotch Tape — [{'room': 'Main', 'container': 'Cabinet 5', 'specific': 'Shelf 2'}, {'room': 'Cage', 'container': '5c', 'specific': 'Stack 14|0'}, {'room': 'Cage', 'container': '5c', 'specific': 'Stack 7'}, {'room': 'Cage', 'container': '5c', 'specific': 'Stack 6'}]\n",
      "Candidate: LFP9900 Vivid Light Magenta Ink — [{'room': 'The Crypt', 'container': '3B', 'specific': ''}]\n",
      "Candidate: Key Tags — [{'room': 'Cage', 'container': '8d', 'specific': ''}]\n",
      "Candidate: Blue Masking Tape (2\") — [{'room': 'Main', 'container': 'Cabinet 5', 'specific': 'Top'}, {'room': 'Cage', 'container': '5e', 'specific': '|-3'}]\n",
      "Candidate: 3.5 mm Male to XLR Male Cable Short — [{'room': 'Studio', 'container': 'Studio 2', 'specific': 'Shelf 8'}]\n"
     ]
    },
    {
     "name": "stderr",
     "output_type": "stream",
     "text": [
      "\n"
     ]
    },
    {
     "name": "stdout",
     "output_type": "stream",
     "text": [
      "LLM returns: \n",
      " Scotch Tape \n",
      " Cabinet 5\n",
      "\n",
      " *********************************************************** \n",
      " \n",
      "\n",
      " text =  Scotch Tape\n",
      "\n",
      " link items =  []\n"
     ]
    },
    {
     "name": "stderr",
     "output_type": "stream",
     "text": [
      "Batches: 100%|██████████| 1/1 [00:00<00:00,  5.08it/s]\n"
     ]
    },
    {
     "name": "stdout",
     "output_type": "stream",
     "text": [
      "Candidate: 3.5 mm Male to XLR Male Cable Short — [{'room': 'Studio', 'container': 'Studio 2', 'specific': 'Shelf 8'}]\n",
      "Candidate: 3.5 mm Male to XLR Female Cable Short — [{'room': 'Studio', 'container': 'Studio 2', 'specific': 'Shelf 8'}]\n",
      "Candidate: Seam Rippers — [{'room': 'Main', 'container': 'Pegboard 1', 'specific': 'E5'}, {'room': 'Cage', 'container': '5c', 'specific': 'Stack 7|-3'}]\n",
      "Candidate: Blue Masking Tape (2\") — [{'room': 'Main', 'container': 'Cabinet 5', 'specific': 'Top'}, {'room': 'Cage', 'container': '5e', 'specific': '|-3'}]\n",
      "Candidate: Color Gel Pens — [{'room': 'Main', 'container': 'Cabinet 4', 'specific': 'Shelf 13'}]\n",
      "LLM returns: \n",
      " Blue Masking Tape (2\") \n",
      " Cabinet 5\n",
      "\n",
      " *********************************************************** \n",
      " \n",
      "\n",
      " text =  Vacuum pump tube for vacuum former\n",
      "\n",
      " link items =  []\n"
     ]
    },
    {
     "name": "stderr",
     "output_type": "stream",
     "text": [
      "Batches: 100%|██████████| 1/1 [00:00<00:00,  2.96it/s]\n"
     ]
    },
    {
     "name": "stdout",
     "output_type": "stream",
     "text": [
      "Candidate: Spare (Feiyue) Sewing Machine 21 — [{'room': 'The Crypt', 'container': '2b', 'specific': ''}]\n",
      "Candidate: Cutting Board Oil — [{'room': 'Cage', 'container': '7c', 'specific': None}]\n",
      "Candidate: Green Bucket for Disposed Battery — [{'room': 'Other', 'container': '', 'specific': ''}]\n",
      "Candidate: Audio Cable — [{'room': 'Outdoor Storage', 'container': 'C5', 'specific': None}]\n",
      "Candidate: Spare Fuse Air Filter — [{'room': 'Laser3D', 'container': 'Cabinet 3', 'specific': ''}]\n",
      "LLM returns: \n",
      " Cutting Board Oil \n",
      " Cage/Crypt/Other\n",
      "\n",
      " *********************************************************** \n",
      " \n",
      "\n",
      " text =  small & medium magnets -  \n",
      "we ran out of the first batch out already :( & should have overstock\n",
      "\n",
      " link items =  []\n"
     ]
    },
    {
     "name": "stderr",
     "output_type": "stream",
     "text": [
      "Batches: 100%|██████████| 1/1 [00:00<00:00,  1.13it/s]\n"
     ]
    },
    {
     "name": "stdout",
     "output_type": "stream",
     "text": [
      "Candidate: Ceramic Magnets — [{'room': 'Main', 'container': 'Cabinet 2', 'specific': 'Shelf 1'}, {'room': 'Cage', 'container': '5c', 'specific': 'Stack 14|-2'}]\n",
      "Candidate: Medium Metal Magnets — [{'room': 'Main', 'container': 'Cabinet 2', 'specific': 'Shelf 1'}, {'room': 'Cage', 'container': '5c', 'specific': 'Stack 14|-3'}]\n",
      "Candidate: Paint Pens — [{'room': 'Main', 'container': 'Cabinet 4', 'specific': 'Shelf 2'}]\n",
      "Candidate: Metal Plates (For Button Making) — [{'room': 'Cage', 'container': '1c', 'specific': None}]\n",
      "Candidate: Laminator — [{'room': 'Cage', 'container': '1b', 'specific': ''}]\n",
      "LLM returns: \n",
      " Ceramic Magnets \n",
      " Cabinet 2\n",
      "\n",
      " *********************************************************** \n",
      " \n",
      "\n",
      " text =  paper plates\n",
      "\n",
      " link items =  []\n"
     ]
    },
    {
     "name": "stderr",
     "output_type": "stream",
     "text": [
      "Batches: 100%|██████████| 1/1 [00:00<00:00,  4.87it/s]\n"
     ]
    },
    {
     "name": "stdout",
     "output_type": "stream",
     "text": [
      "Candidate: Specialty Sewing Machine Needles — [{'room': 'Main', 'container': 'Pegboard', 'specific': None}, {'room': 'Cage', 'container': '5e', 'specific': 'Pegboard Bins|-3'}]\n",
      "Candidate: Outdoor Timer — [{'room': 'The Crypt', 'container': '2d', 'specific': ''}]\n",
      "Candidate: Proficiency Buttons (Stewards Only) — [{'room': 'Cage', 'container': '8b', 'specific': None}]\n",
      "Candidate: Pegboard Hardware — [{'room': 'Cage', 'container': 'Pegboard', 'specific': ''}]\n",
      "Candidate: Black Acrylic Paint — [{'room': 'Cage', 'container': '5c', 'specific': 'Stack 21|-3'}]\n",
      "LLM returns: \n",
      "  \n",
      " Cabinet 7\n",
      "\n",
      " *********************************************************** \n",
      " \n",
      "\n",
      " text =  black/white filament from IIIDMax. We have 2 unonpened rolls of each currently.\n",
      "\n",
      " link items =  []\n"
     ]
    },
    {
     "name": "stderr",
     "output_type": "stream",
     "text": [
      "Batches: 100%|██████████| 1/1 [00:00<00:00, 13.98it/s]"
     ]
    },
    {
     "name": "stdout",
     "output_type": "stream",
     "text": [
      "Candidate: Laser Cutter Replacement Parts — [{'room': 'Laser3D', 'container': 'In Laser Cutter Side Panel', 'specific': ''}]\n",
      "Candidate: WD-40 — [{'room': 'Cage', 'container': 'Flammable', 'specific': None}]\n",
      "Candidate: Spare Fuse Sift Sieve — [{'room': 'Laser3D', 'container': 'Cabinet 8', 'specific': ''}]\n",
      "Candidate: Keychain Clasps — [{'room': 'Main', 'container': 'Cabinet 3', 'specific': 'Shelf 9'}, {'room': 'Cage', 'container': '5d', 'specific': 'Stack 3|-3'}]\n",
      "Candidate: White Ribbon — [{'room': 'Main', 'container': 'Cabinet 6', 'specific': 'Shelf 6'}]\n"
     ]
    },
    {
     "name": "stderr",
     "output_type": "stream",
     "text": [
      "\n"
     ]
    },
    {
     "name": "stdout",
     "output_type": "stream",
     "text": [
      "LLM returns: \n",
      " Laser Cutter Replacement Parts \n",
      " Laser3D\n",
      "\n",
      " *********************************************************** \n",
      " \n",
      "\n",
      " text =  Spray paint primer, and maybe also spray paint and spray sealants? I don't know what kind of sprays we've typically purchased in the past vs what have just been donated, but we have no primers and our stock of paints/sealants is a bit low\n",
      "\n",
      " link items =  []\n"
     ]
    },
    {
     "name": "stderr",
     "output_type": "stream",
     "text": [
      "Batches: 100%|██████████| 1/1 [00:00<00:00,  6.06it/s]"
     ]
    },
    {
     "name": "stdout",
     "output_type": "stream",
     "text": [
      "Candidate: Halogen Modeling Light Bulb, Impact — [{'room': 'Studio', 'container': 'Studio 3', 'specific': 'Shelf 4'}]\n",
      "Candidate: Hot Wire Foam Cutter — [{'room': 'Cage', 'container': '1b', 'specific': ''}]\n",
      "Candidate: Ball Bearings — [{'room': 'Cage', 'container': 'Movable Shelves', 'specific': None}]\n",
      "Candidate: Spray Paint Gun Fitting — [{'room': 'Cage', 'container': 'Inside Spray Paint Gun Kit', 'specific': None}]\n",
      "Candidate: Spray Paint Gun — [{'room': 'Cage', 'container': 'Inside Spray Paint Gun Kit', 'specific': None}]\n"
     ]
    },
    {
     "name": "stderr",
     "output_type": "stream",
     "text": [
      "\n"
     ]
    },
    {
     "name": "stdout",
     "output_type": "stream",
     "text": [
      "LLM returns: \n",
      "  \n",
      " Spraypaint\n",
      "\n",
      " *********************************************************** \n",
      " \n",
      "\n",
      " text =  brushes for cleaning the sewing machines -\n",
      "\n",
      " link items =  []\n"
     ]
    },
    {
     "name": "stderr",
     "output_type": "stream",
     "text": [
      "Batches: 100%|██████████| 1/1 [00:00<00:00,  7.74it/s]"
     ]
    },
    {
     "name": "stdout",
     "output_type": "stream",
     "text": [
      "Candidate: Art books — [{'room': 'Main', 'container': 'Fabrics', 'specific': None}]\n",
      "Candidate: Spray Bottles — [{'room': 'Cage', 'container': '8e', 'specific': ''}]\n",
      "Candidate: Quilting books — [{'room': 'Main', 'container': 'Fabrics', 'specific': None}]\n",
      "Candidate: Lens Cleaning Kit — [{'room': 'Studio', 'container': 'Studio 5', 'specific': 'Shelf 4'}]\n",
      "Candidate: Bowls — [{'room': 'Main', 'container': 'Cabinet 16', 'specific': None}]\n"
     ]
    },
    {
     "name": "stderr",
     "output_type": "stream",
     "text": [
      "\n"
     ]
    },
    {
     "name": "stdout",
     "output_type": "stream",
     "text": [
      "LLM returns: \n",
      "  \n",
      " Pegboard 1\n",
      "\n",
      " *********************************************************** \n",
      " \n",
      "\n",
      " text =  metal scrapers for 3d printers - not sure if there is a link we buy from already, if not then these are fine\n",
      "\n",
      " link items =  []\n"
     ]
    },
    {
     "name": "stderr",
     "output_type": "stream",
     "text": [
      "Batches: 100%|██████████| 1/1 [00:00<00:00,  8.52it/s]"
     ]
    },
    {
     "name": "stdout",
     "output_type": "stream",
     "text": [
      "Candidate: Isopropyl Alcohol — [{'room': 'Cage', 'container': 'Flammable', 'specific': ''}, {'room': 'Laser3D', 'container': 'Cabinet 4', 'specific': '|1'}]\n",
      "Candidate: Sewing Machine Covers — [{'room': 'Cage', 'container': '3b', 'specific': ''}]\n",
      "Candidate: Large Paper — [{'room': 'Cage', 'container': '4c', 'specific': ''}]\n",
      "Candidate: Scale (5 kg) — [{'room': 'Cage', 'container': '2b', 'specific': ''}]\n",
      "Candidate: Proficiency Buttons (Stewards Only) — [{'room': 'Cage', 'container': '8b', 'specific': None}]\n"
     ]
    },
    {
     "name": "stderr",
     "output_type": "stream",
     "text": [
      "\n"
     ]
    },
    {
     "name": "stdout",
     "output_type": "stream",
     "text": [
      "LLM returns: \n",
      " Isopropyl Alcohol \n",
      " Laser3D\n",
      "\n",
      " *********************************************************** \n",
      " \n",
      "\n",
      " text =  bottles for isopropyl alcohol for 3d printers -\n",
      "\n",
      " link items =  []\n"
     ]
    },
    {
     "name": "stderr",
     "output_type": "stream",
     "text": [
      "Batches: 100%|██████████| 1/1 [00:00<00:00, 15.69it/s]"
     ]
    },
    {
     "name": "stdout",
     "output_type": "stream",
     "text": [
      "Candidate: Glowforge Lantern Kits — [{'room': 'The Crypt', 'container': '1b', 'specific': ''}]\n",
      "Candidate: Form Resin Color Kit — [{'room': 'Laser3D', 'container': 'Cabinet 3', 'specific': None}]\n",
      "Candidate: Out of Order Signs — [{'room': 'Cage', 'container': '8d', 'specific': ''}]\n",
      "Candidate: Form Build Platform — [{'room': 'Laser3D', 'container': 'Cabinet 3', 'specific': ''}]\n",
      "Candidate: Compressed Air — [{'room': 'Cage', 'container': 'Flammable', 'specific': None}]\n"
     ]
    },
    {
     "name": "stderr",
     "output_type": "stream",
     "text": [
      "\n"
     ]
    },
    {
     "name": "stdout",
     "output_type": "stream",
     "text": [
      "LLM returns: \n",
      " Form Resin Color Kit \n",
      " Laser3D\n",
      "\n",
      " *********************************************************** \n",
      " \n",
      "\n",
      " text =  wd40 - we only have 1 can & it's running low\n",
      "\n",
      " link items =  []\n"
     ]
    },
    {
     "name": "stderr",
     "output_type": "stream",
     "text": [
      "Batches: 100%|██████████| 1/1 [00:00<00:00,  4.89it/s]\n"
     ]
    },
    {
     "name": "stdout",
     "output_type": "stream",
     "text": [
      "Candidate: Blue Lino Ink — [{'room': 'Cage', 'container': '1E', 'specific': ''}]\n",
      "Candidate: WD-40 — [{'room': 'Cage', 'container': 'Flammable', 'specific': 'Top Shelf'}]\n",
      "Candidate: Table Top Epoxy Hardener — [{'room': 'Cage', 'container': '7c', 'specific': None}]\n",
      "Candidate: Tape, Console — [{'room': 'Studio', 'container': 'A3', 'specific': None}]\n",
      "Candidate: Loudspeaker (w/ Yoke Mount) — [{'room': 'Outdoor Storage', 'container': None, 'specific': None}]\n",
      "LLM returns: \n",
      " WD-40 \n",
      " Cage/Crypt/Other\n",
      "\n",
      " *********************************************************** \n",
      " \n",
      "\n",
      " text =  Felt sheets (from Amazon)\n",
      "\n",
      " link items =  []\n"
     ]
    },
    {
     "name": "stderr",
     "output_type": "stream",
     "text": [
      "Batches: 100%|██████████| 1/1 [00:00<00:00,  4.43it/s]\n"
     ]
    },
    {
     "name": "stdout",
     "output_type": "stream",
     "text": [
      "Candidate: Dixie Cups (for painting) — [{'room': 'Main', 'container': 'Cabinet 16', 'specific': '(by paint sink)'}]\n",
      "Candidate: Large Embroidery Hoops — [{'room': 'Main', 'container': 'Cabinet 1', 'specific': 'Shelf 8'}, {'room': 'Cage', 'container': '5d', 'specific': 'Stack 8|-3'}]\n",
      "Candidate: Felting Needles — [{'room': 'Main', 'container': 'Cabinet 1', 'specific': 'Shelf 12'}]\n",
      "Candidate: Cotton Battening — [{'room': 'Cage', 'container': '4a', 'specific': None}]\n",
      "Candidate: Pin Cushions — [{'room': 'Main', 'container': 'Cabinet 1', 'specific': 'Shelf 3'}]\n",
      "LLM returns: \n",
      "  \n",
      " Fabric\n",
      "\n",
      " *********************************************************** \n",
      " \n",
      "\n",
      " text =  Scrub daddies (sponges)\n",
      "\n",
      " link items =  []\n"
     ]
    },
    {
     "name": "stderr",
     "output_type": "stream",
     "text": [
      "Batches: 100%|██████████| 1/1 [00:00<00:00,  4.74it/s]\n"
     ]
    },
    {
     "name": "stdout",
     "output_type": "stream",
     "text": [
      "Candidate: USB-A to USB-B — [{'room': 'Cage', 'container': '8d', 'specific': 'Spare USB Cables'}]\n",
      "Candidate: Oil Pastel Sets — [{'room': 'Main', 'container': 'Cabinet 4', 'specific': 'Shelf 24'}, {'room': 'Cage', 'container': '5e', 'specific': '|1'}]\n",
      "Candidate: Welding Contact Tips — [{'room': 'Cage', 'container': 'Repair Cart', 'specific': None}]\n",
      "Candidate: Cleaning Brushes — [{'room': 'Cage', 'container': '8e', 'specific': ''}, {'room': 'Cage', 'container': 'Pegboard', 'specific': '|1'}]\n",
      "Candidate: Fabric Shears — [{'room': 'Other', 'container': '', 'specific': ''}]\n",
      "LLM returns: \n",
      " Cleaning Brushes \n",
      " Cage/Crypt/Other\n",
      "\n",
      " *********************************************************** \n",
      " \n",
      "\n",
      " text =  Ironing pads\n",
      "\n",
      " link items =  []\n"
     ]
    },
    {
     "name": "stderr",
     "output_type": "stream",
     "text": [
      "Batches: 100%|██████████| 1/1 [00:00<00:00, 10.41it/s]"
     ]
    },
    {
     "name": "stdout",
     "output_type": "stream",
     "text": [
      "Candidate: Super Large Measuring Mat Roll — [{'room': 'Cage', 'container': '3a', 'specific': ''}]\n",
      "Candidate: Sergers — [{'room': 'Cage', 'container': '3c', 'specific': None}]\n",
      "Candidate: Plastic Rulers (12\") — [{'room': 'Main', 'container': 'Cabinet 3', 'specific': 'Shelf 2|-1'}, {'room': 'Cage', 'container': '5c', 'specific': 'Stack 3|-3'}]\n",
      "Candidate: Alphabet Beads — [{'room': 'Main', 'container': 'Cabinet 3', 'specific': 'Shelf 11'}, {'room': 'Cage', 'container': '5d', 'specific': 'Stack 8|-3'}]\n",
      "Candidate: Paint Wipes — [{'room': 'Cage', 'container': '8e', 'specific': None}]\n"
     ]
    },
    {
     "name": "stderr",
     "output_type": "stream",
     "text": [
      "\n"
     ]
    },
    {
     "name": "stdout",
     "output_type": "stream",
     "text": [
      "LLM returns: \n",
      "  \n",
      " Fabric\n",
      "\n",
      " *********************************************************** \n",
      " \n",
      "\n",
      " text =  Any brand of retractable iron\n",
      "\n",
      " link items =  []\n"
     ]
    },
    {
     "name": "stderr",
     "output_type": "stream",
     "text": [
      "Batches: 100%|██████████| 1/1 [00:00<00:00, 13.86it/s]"
     ]
    },
    {
     "name": "stdout",
     "output_type": "stream",
     "text": [
      "Candidate: Sergers — [{'room': 'Cage', 'container': '3c', 'specific': None}]\n",
      "Candidate: Paint Wipes — [{'room': 'Cage', 'container': '8e', 'specific': None}]\n",
      "Candidate: Ironing board — [{'room': 'Cage', 'container': '3b', 'specific': None}]\n",
      "Candidate: Super Large Measuring Mat Roll — [{'room': 'Cage', 'container': '3a', 'specific': ''}]\n",
      "Candidate: Alphabet Beads — [{'room': 'Main', 'container': 'Cabinet 3', 'specific': 'Shelf 11'}, {'room': 'Cage', 'container': '5d', 'specific': 'Stack 8|-3'}]\n"
     ]
    },
    {
     "name": "stderr",
     "output_type": "stream",
     "text": [
      "\n"
     ]
    },
    {
     "name": "stdout",
     "output_type": "stream",
     "text": [
      "LLM returns: \n",
      " Ironing board \n",
      " Cage/Crypt/Other\n",
      "\n",
      " *********************************************************** \n",
      " \n",
      "\n",
      " text =  91% isopropyl alcohol\n",
      "\n",
      " link items =  []\n"
     ]
    },
    {
     "name": "stderr",
     "output_type": "stream",
     "text": [
      "Batches: 100%|██████████| 1/1 [00:00<00:00, 10.34it/s]"
     ]
    },
    {
     "name": "stdout",
     "output_type": "stream",
     "text": [
      "Candidate: Form Resin Color Kit — [{'room': 'Laser3D', 'container': 'Cabinet 3', 'specific': None}]\n",
      "Candidate: Glowforge Lantern Kits — [{'room': 'The Crypt', 'container': '1b', 'specific': ''}]\n",
      "Candidate: Compressed Air — [{'room': 'Cage', 'container': 'Flammable', 'specific': None}]\n",
      "Candidate: Clay Carving Tools — [{'room': 'Main', 'container': 'Cabinet 9', 'specific': 'Shelf 2'}]\n",
      "Candidate: Form Resin Cartridge — [{'room': 'Laser3D', 'container': 'Cabinet 3', 'specific': ''}]\n"
     ]
    },
    {
     "name": "stderr",
     "output_type": "stream",
     "text": [
      "\n"
     ]
    },
    {
     "name": "stdout",
     "output_type": "stream",
     "text": [
      "LLM returns: \n",
      " Compressed Air \n",
      " Cage/Crypt/Other\n",
      "\n",
      " *********************************************************** \n",
      " \n",
      "\n",
      " text =  Quick stop powder (for first aid cabinet)\n",
      "\n",
      " link items =  []\n"
     ]
    },
    {
     "name": "stderr",
     "output_type": "stream",
     "text": [
      "Batches: 100%|██████████| 1/1 [00:00<00:00,  5.65it/s]"
     ]
    },
    {
     "name": "stdout",
     "output_type": "stream",
     "text": [
      "Candidate: Washable Broad Tip Markers — [{'room': 'Main', 'container': 'Cabinet 4', 'specific': 'Shelf 16'}]\n",
      "Candidate: Paint Palettes — [{'room': 'Main', 'container': 'Cabinet 4', 'specific': 'Shelf 8'}, {'room': 'Cage', 'container': '5d', 'specific': 'Stack 10|-3'}]\n",
      "Candidate: Large Hot Glue Sticks — [{'room': 'Cage', 'container': '5d', 'specific': 'Stack 4|-3'}]\n",
      "Candidate: Erasers — [{'room': 'Main', 'container': 'Cabinet 4', 'specific': 'Shelf 11'}, {'room': 'Cage', 'container': '5c', 'specific': 'Stack 10|-3'}]\n",
      "Candidate: Round Nose Pliers — [{'room': 'Main', 'container': 'Cabinet 3', 'specific': 'Shelf 3'}, {'room': 'Cage', 'container': '5c', 'specific': 'Stack 12|0'}]\n"
     ]
    },
    {
     "name": "stderr",
     "output_type": "stream",
     "text": [
      "\n"
     ]
    },
    {
     "name": "stdout",
     "output_type": "stream",
     "text": [
      "LLM returns: \n",
      " Large Hot Glue Sticks \n",
      " Cage/Crypt/Other\n",
      "\n",
      " *********************************************************** \n",
      " \n",
      "\n",
      " text =  sandpaper for chisel sharpening\n",
      "\n",
      " link items =  []\n"
     ]
    },
    {
     "name": "stderr",
     "output_type": "stream",
     "text": [
      "Batches: 100%|██████████| 1/1 [00:00<00:00,  7.93it/s]"
     ]
    },
    {
     "name": "stdout",
     "output_type": "stream",
     "text": [
      "Candidate: Isopropyl Alcohol Bottles — [{'room': 'Laser3D', 'container': 'Cabinet 4', 'specific': ''}]\n",
      "Candidate: Scissors Sharpener — [{'room': 'Main', 'container': 'Cabinet 3', 'specific': 'Shelf 1'}]\n",
      "Candidate: Keysight Power Supplies — [{'room': 'Electronics', 'container': None, 'specific': None}]\n",
      "Candidate: 1/4 to 3.5mm Adapter — [{'room': 'Studio', 'container': 'Studio 2', 'specific': 'Shelf 4'}]\n",
      "Candidate: Digital Soldering Station — [{'room': 'Other', 'container': '', 'specific': None}]\n"
     ]
    },
    {
     "name": "stderr",
     "output_type": "stream",
     "text": [
      "\n"
     ]
    },
    {
     "name": "stdout",
     "output_type": "stream",
     "text": [
      "LLM returns: \n",
      "  \n",
      " Cabinet 11\n",
      "\n",
      " *********************************************************** \n",
      " \n",
      "\n",
      " text =  i want more pipe cleaners!!!!!!\n",
      "\n",
      " link items =  []\n"
     ]
    },
    {
     "name": "stderr",
     "output_type": "stream",
     "text": [
      "Batches: 100%|██████████| 1/1 [00:00<00:00,  9.15it/s]"
     ]
    },
    {
     "name": "stdout",
     "output_type": "stream",
     "text": [
      "Candidate: Key Rings — [{'room': 'Main', 'container': 'Cabinet 3', 'specific': 'Shelf 9'}, {'room': 'Cage', 'container': '5c', 'specific': 'Stack 4|-3'}]\n",
      "Candidate: Allen Keys — [{'room': 'Main', 'container': 'Cabinet 11', 'specific': 'Shelf 4'}]\n",
      "Candidate: Super Glue — [{'room': 'Main', 'container': 'Cabinet 5', 'specific': 'Shelf 1'}, {'room': 'Cage', 'container': '5d', 'specific': 'Stack 7|-2'}]\n",
      "Candidate: Spray Bottles — [{'room': 'Cage', 'container': '8e', 'specific': ''}]\n",
      "Candidate: Laser Chiller (Distilled Water) — [{'room': 'Laser3D', 'container': 'Cabinet 4', 'specific': ''}]\n"
     ]
    },
    {
     "name": "stderr",
     "output_type": "stream",
     "text": [
      "\n"
     ]
    },
    {
     "name": "stdout",
     "output_type": "stream",
     "text": [
      "LLM returns: \n",
      " Key Rings \n",
      " Cabinet 3\n",
      "\n",
      " *********************************************************** \n",
      " \n",
      "\n",
      " text =  Feathers -\n",
      "\n",
      " link items =  []\n"
     ]
    },
    {
     "name": "stderr",
     "output_type": "stream",
     "text": [
      "Batches: 100%|██████████| 1/1 [00:00<00:00, 12.44it/s]"
     ]
    },
    {
     "name": "stdout",
     "output_type": "stream",
     "text": [
      "Candidate: Nylon Stocking — [{'room': 'Main', 'container': 'Cabinet 1', 'specific': 'Shelf 16'}, {'room': 'Cage', 'container': '5c', 'specific': 'Stack 28|-2'}]\n",
      "Candidate: Mixed Beads — [{'room': 'Main', 'container': 'Cabinet 3', 'specific': 'Shelf 12'}]\n",
      "Candidate: AxiDraw Supplies — [{'room': 'Cage', 'container': '1d', 'specific': None}]\n",
      "Candidate: Straight Knitting Needles — [{'room': 'Main', 'container': 'Cabinet 1', 'specific': 'Shelf 4'}, {'room': 'Cage', 'container': '5c', 'specific': 'Stack 24|-3'}]\n",
      "Candidate: Ear Plugs — [{'room': 'Cage', 'container': '8c', 'specific': None}]\n"
     ]
    },
    {
     "name": "stderr",
     "output_type": "stream",
     "text": [
      "\n"
     ]
    },
    {
     "name": "stdout",
     "output_type": "stream",
     "text": [
      "LLM returns: \n",
      "  \n",
      " Fabric\n",
      "\n",
      " *********************************************************** \n",
      " \n",
      "\n",
      " text =  Googly eyes (for overstock)--\n",
      "\n",
      " link items =  []\n"
     ]
    },
    {
     "name": "stderr",
     "output_type": "stream",
     "text": [
      "Batches: 100%|██████████| 1/1 [00:00<00:00, 16.58it/s]"
     ]
    },
    {
     "name": "stdout",
     "output_type": "stream",
     "text": [
      "Candidate: Pencils — [{'room': 'Main', 'container': 'Cabinet 4', 'specific': 'Shelf 7'}, {'room': 'Cage', 'container': '5c', 'specific': 'Stack 9|-3'}, {'room': 'Backstock', 'container': '', 'specific': ''}]\n",
      "Candidate: Paper Clips — [{'room': 'Main', 'container': 'Cabinet 3', 'specific': 'Shelf 21'}, {'room': 'Cage', 'container': '5c', 'specific': 'Stack 16|-3'}]\n",
      "Candidate: Domed Tacks — [{'room': 'Main', 'container': 'Pegboard 1', 'specific': 'C1'}]\n",
      "Candidate: Body Cap, Canon C200 — [{'room': 'Studio', 'container': 'Studio 5', 'specific': 'Shelf 5'}]\n",
      "Candidate: USB-A to USB-B — [{'room': 'Cage', 'container': '8d', 'specific': 'Spare USB Cables'}]\n"
     ]
    },
    {
     "name": "stderr",
     "output_type": "stream",
     "text": [
      "\n"
     ]
    },
    {
     "name": "stdout",
     "output_type": "stream",
     "text": [
      "LLM returns: \n",
      " Paper Clips \n",
      " Cabinet 3\n",
      "\n",
      " *********************************************************** \n",
      " \n",
      "\n",
      " text =  Film for the polaroid:\n",
      "\n",
      " link items =  []\n"
     ]
    },
    {
     "name": "stderr",
     "output_type": "stream",
     "text": [
      "Batches: 100%|██████████| 1/1 [00:00<00:00, 13.11it/s]"
     ]
    },
    {
     "name": "stdout",
     "output_type": "stream",
     "text": [
      "Candidate: HDMI Female to HDMI Female Coupler — [{'room': 'Studio', 'container': 'Studio 2', 'specific': 'Shelf 8'}]\n",
      "Candidate: LED Focus Light, Aputure — [{'room': 'Studio', 'container': 'Studio 3', 'specific': 'Shelf 1'}]\n",
      "Candidate: HDMI Cables — [{'room': 'The Crypt', 'container': '1c', 'specific': ''}]\n",
      "Candidate: Light Stand, Impact (13') — [{'room': 'Studio', 'container': 'Next to Studio 2', 'specific': None}]\n",
      "Candidate: Clipboard — [{'room': 'Cage', 'container': '8d', 'specific': ''}]\n"
     ]
    },
    {
     "name": "stderr",
     "output_type": "stream",
     "text": [
      "\n"
     ]
    },
    {
     "name": "stdout",
     "output_type": "stream",
     "text": [
      "LLM returns: \n",
      " LED Focus Light, Aputure \n",
      " Studio\n",
      "\n",
      " *********************************************************** \n",
      " \n",
      "\n",
      " text =  More fabric! Especially more solid colors and large pieces\n",
      "\n",
      " link items =  []\n"
     ]
    },
    {
     "name": "stderr",
     "output_type": "stream",
     "text": [
      "Batches: 100%|██████████| 1/1 [00:00<00:00,  4.21it/s]\n"
     ]
    },
    {
     "name": "stdout",
     "output_type": "stream",
     "text": [
      "Candidate: Scissors — [{'room': 'Main', 'container': 'Cabinet 3', 'specific': 'Shelf 1'}, {'room': 'Cage', 'container': '5d', 'specific': 'Stack 1|-3'}]\n",
      "Candidate: Various Wheels — [{'room': 'The Crypt', 'container': '2d', 'specific': None}]\n",
      "Candidate: Leather Sewing Machine — [{'room': 'Cage', 'container': 'Floor', 'specific': None}]\n",
      "Candidate: Wood Polish & Conditioner — [{'room': 'Cage', 'container': '7c', 'specific': None}]\n",
      "Candidate: Iron Rest Pad — [{'room': 'Cage', 'container': '3b', 'specific': ''}]\n",
      "LLM returns: \n",
      "  \n",
      " Fabric\n",
      "\n",
      " *********************************************************** \n",
      " \n",
      "\n",
      " text =  colored embroidery floss\n",
      "\n",
      " link items =  []\n"
     ]
    },
    {
     "name": "stderr",
     "output_type": "stream",
     "text": [
      "Batches: 100%|██████████| 1/1 [00:00<00:00,  7.60it/s]"
     ]
    },
    {
     "name": "stdout",
     "output_type": "stream",
     "text": [
      "Candidate: Fabric Scissors — [{'room': 'Main', 'container': 'Cabinet 1', 'specific': 'Shelf 1'}, {'room': 'Cage', 'container': '5d', 'specific': 'Stack 1|-3'}]\n",
      "Candidate: Plastic Scrapers — [{'room': 'Main', 'container': 'Cabinet 4', 'specific': 'Shelf 14'}, {'room': 'Cage', 'container': '5c', 'specific': 'Stack 20|-2'}]\n",
      "Candidate: Permanent Fabric Markers — [{'room': 'Main', 'container': 'Cabinet 1', 'specific': 'Shelf 6'}, {'room': 'Cage', 'container': '5e', 'specific': '|-3'}]\n",
      "Candidate: Black Cotton Thread — [{'room': 'Cage', 'container': '5c', 'specific': 'Stack 1|-3'}]\n",
      "Candidate: Straight Stitch Foot — [{'room': 'Main', 'container': 'Pegboard 1', 'specific': 'J6'}]\n"
     ]
    },
    {
     "name": "stderr",
     "output_type": "stream",
     "text": [
      "\n"
     ]
    },
    {
     "name": "stdout",
     "output_type": "stream",
     "text": [
      "LLM returns: \n",
      " Straight Stitch Foot \n",
      " Pegboard 1\n",
      "\n",
      " *********************************************************** \n",
      " \n",
      "\n",
      " text =  super glue-- we're out, even in overstock\n",
      "\n",
      " link items =  []\n"
     ]
    },
    {
     "name": "stderr",
     "output_type": "stream",
     "text": [
      "Batches: 100%|██████████| 1/1 [00:00<00:00,  4.54it/s]\n"
     ]
    },
    {
     "name": "stdout",
     "output_type": "stream",
     "text": [
      "Candidate: Tacky Glue — [{'room': 'Main', 'container': 'Cabinet 5', 'specific': 'Shelf 1'}, {'room': 'Cage', 'container': '5d', 'specific': 'Stack 4|1'}]\n",
      "Candidate: Zippers — [{'room': 'Main', 'container': 'Cabinet 1', 'specific': 'Shelf 14'}, {'room': 'Cage', 'container': '5c', 'specific': 'Stack 23|-3'}]\n",
      "Candidate: Matte Mod Podge — [{'room': 'Main', 'container': 'Cabinet 5', 'specific': 'Shelf 1'}, {'room': 'Cage', 'container': '5e', 'specific': ''}]\n",
      "Candidate: Leather Sewing Machine — [{'room': 'Cage', 'container': 'Floor', 'specific': None}]\n",
      "Candidate: Gaff Tape — [{'room': 'Studio', 'container': 'A2', 'specific': None}, {'room': 'Outdoor Storage', 'container': '', 'specific': '|3'}]\n",
      "LLM returns: \n",
      " Tacky Glue \n",
      " Cabinet 5\n",
      "\n",
      " *********************************************************** \n",
      " \n",
      "\n",
      " text =  \n",
      "\n",
      " link items =  []\n"
     ]
    },
    {
     "name": "stderr",
     "output_type": "stream",
     "text": [
      "Batches: 100%|██████████| 1/1 [00:01<00:00,  1.77s/it]\n"
     ]
    },
    {
     "name": "stdout",
     "output_type": "stream",
     "text": [
      "Candidate: Yellow Ribbon — [{'room': 'Main', 'container': 'Cabinet 6', 'specific': 'Shelf 2'}]\n",
      "Candidate: Adjustable Bridge with Rod Clamps — [{'room': 'Studio', 'container': 'Studio 5', 'specific': 'Shelf 1'}]\n",
      "Candidate: Mixer, Mackie  — [{'room': 'Studio', 'container': 'Sound Booth', 'specific': None}]\n",
      "Candidate: USB-C Power Cable — [{'room': 'Cage', 'container': '8d', 'specific': ''}]\n",
      "Candidate: Scale (4 kg x 0.5 g) — [{'room': 'Cage', 'container': '2b', 'specific': None}]\n",
      "LLM returns: \n",
      " Yellow Ribbon \n",
      " Cabinet 6\n",
      "\n",
      " *********************************************************** \n",
      " \n",
      "\n",
      " text =  metal charms (out in overstock)\n",
      "\n",
      " link items =  []\n"
     ]
    },
    {
     "name": "stderr",
     "output_type": "stream",
     "text": [
      "Batches: 100%|██████████| 1/1 [00:00<00:00, 11.35it/s]"
     ]
    },
    {
     "name": "stdout",
     "output_type": "stream",
     "text": [
      "Candidate: Fold Over Elastic — [{'room': 'Main', 'container': 'Cabinet 1', 'specific': 'Shelf 13'}, {'room': 'Cage', 'container': '5c', 'specific': 'Stack 26|-3'}]\n",
      "Candidate: Pony Beads — [{'room': 'Main', 'container': 'Cabinet 3', 'specific': 'Shelf 13'}, {'room': 'Cage', 'container': '5e', 'specific': '|4'}]\n",
      "Candidate: Colored Sharpies — [{'room': 'Main', 'container': 'Cabinet 4', 'specific': 'Shelf 1'}, {'room': 'Cage', 'container': '5c', 'specific': 'Stack 10|-3'}]\n",
      "Candidate: Metal Charms — [{'room': 'Main', 'container': 'Cabinet 3', 'specific': 'Shelf 6'}, {'room': 'Cage', 'container': '5c', 'specific': 'Stack 4|-3'}]\n",
      "Candidate: Safety Eyes — [{'room': 'Main', 'container': 'Pegboard 1', 'specific': ''}]\n"
     ]
    },
    {
     "name": "stderr",
     "output_type": "stream",
     "text": [
      "\n"
     ]
    },
    {
     "name": "stdout",
     "output_type": "stream",
     "text": [
      "LLM returns: \n",
      " Metal Charms \n",
      " Cabinet 3\n",
      "\n",
      " *********************************************************** \n",
      " \n",
      "\n",
      " text =  Instant epoxy\n",
      "\n",
      " link items =  []\n"
     ]
    },
    {
     "name": "stderr",
     "output_type": "stream",
     "text": [
      "Batches: 100%|██████████| 1/1 [00:00<00:00, 12.12it/s]"
     ]
    },
    {
     "name": "stdout",
     "output_type": "stream",
     "text": [
      "Candidate: 5 in 1 Painter's Tool — [{'room': 'Main', 'container': 'Cabinet 4', 'specific': 'Shelf 14'}]\n",
      "Candidate: Creality Belt Printer [DEPRECATED] — [{'room': 'Outdoor Storage', 'container': '', 'specific': ''}]\n",
      "Candidate: Vacuum Pump OIl — [{'room': 'Cage', 'container': '7c', 'specific': None}]\n",
      "Candidate: Instant Epoxy (Bottled) — [{'room': 'Main', 'container': 'Cabinet 5', 'specific': ''}, {'room': 'Cage', 'container': '5D', 'specific': '7'}]\n",
      "Candidate: Epoxy Resin — [{'room': 'Cage', 'container': '7c', 'specific': ''}]\n"
     ]
    },
    {
     "name": "stderr",
     "output_type": "stream",
     "text": [
      "\n"
     ]
    },
    {
     "name": "stdout",
     "output_type": "stream",
     "text": [
      "LLM returns: \n",
      " Instant Epoxy (Bottled) \n",
      " Cabinet 5\n",
      "\n",
      " *********************************************************** \n",
      " \n",
      "\n",
      " text =  Carbon/Graphite Transfer Paper (super helpful for printmaking -- getting design onto a block)\n",
      "\n",
      " link items =  ['Kingart Graphite Transfer Paper']\n"
     ]
    },
    {
     "name": "stderr",
     "output_type": "stream",
     "text": [
      "Batches: 100%|██████████| 1/1 [00:00<00:00, 11.26it/s]"
     ]
    },
    {
     "name": "stdout",
     "output_type": "stream",
     "text": [
      "Candidate: Leather Seeder Tool — [{'room': 'Studio', 'container': '', 'specific': ''}]\n",
      "Candidate: Googly Eyes — [{'room': 'Main', 'container': 'Cabinet 2', 'specific': 'Shelf 7'}, {'room': 'Cage', 'container': '5d', 'specific': 'Stack 13|-1'}]\n",
      "Candidate: Entrada RagBright Paper 36\" — [{'room': 'The Crypt', 'container': '', 'specific': ''}]\n",
      "Candidate: Cricut Markers — [{'room': 'Cage', 'container': '1d', 'specific': None}]\n",
      "Candidate: Sew-on Metal Snaps — [{'room': 'Main', 'container': 'Pegboard 1', 'specific': 'C3'}]\n"
     ]
    },
    {
     "name": "stderr",
     "output_type": "stream",
     "text": [
      "\n"
     ]
    },
    {
     "name": "stdout",
     "output_type": "stream",
     "text": [
      "LLM returns: \n",
      "  \n",
      " Cabinet 7\n",
      "\n",
      " *********************************************************** \n",
      " \n",
      "\n",
      " text =  Hotend heater cartridge 24V 40W (MK3/S/+)\n",
      "\n",
      " link items =  ['Hotend heater cartridge 24V 40W (MK3/S/+) | Original Prusa 3D printers directly from Josef Prusa']\n"
     ]
    },
    {
     "name": "stderr",
     "output_type": "stream",
     "text": [
      "Batches: 100%|██████████| 1/1 [00:00<00:00, 11.88it/s]"
     ]
    },
    {
     "name": "stdout",
     "output_type": "stream",
     "text": [
      "Candidate: Markforged Replacement Parts — [{'room': 'Laser3D', 'container': 'Cabinet 8', 'specific': ''}]\n",
      "Candidate: LFP8000 Light Black Ink — [{'room': 'The Crypt', 'container': '3', 'specific': ''}]\n",
      "Candidate: LFP Glossy Paper — [{'room': 'The Crypt', 'container': 'Floor', 'specific': ''}]\n",
      "Candidate: Form Resin Cartridge — [{'room': 'Laser3D', 'container': 'Cabinet 3', 'specific': ''}]\n",
      "Candidate: Entrada RagBright Paper 36\" — [{'room': 'The Crypt', 'container': '', 'specific': ''}]\n"
     ]
    },
    {
     "name": "stderr",
     "output_type": "stream",
     "text": [
      "\n"
     ]
    },
    {
     "name": "stdout",
     "output_type": "stream",
     "text": [
      "LLM returns: \n",
      " Markforged Replacement Parts \n",
      " Laser3D\n",
      "\n",
      " *********************************************************** \n",
      " \n",
      "\n",
      " text =  Hotend Heaterblock\n",
      "\n",
      " link items =  ['Hotend heaterblock | Original Prusa 3D printers directly from Josef Prusa']\n"
     ]
    },
    {
     "name": "stderr",
     "output_type": "stream",
     "text": [
      "Batches: 100%|██████████| 1/1 [00:00<00:00,  4.64it/s]\n"
     ]
    },
    {
     "name": "stdout",
     "output_type": "stream",
     "text": [
      "Candidate: Markforged Replacement Parts — [{'room': 'Laser3D', 'container': 'Cabinet 8', 'specific': ''}]\n",
      "Candidate: Prusa MMU — [{'room': 'Laser3D', 'container': 'Cabinet 8', 'specific': ''}]\n",
      "Candidate: Old Digital Desktop Multimeter — [{'room': 'The Crypt', 'container': '1c', 'specific': ''}]\n",
      "Candidate: Entrada RagBright Paper 36\" — [{'room': 'The Crypt', 'container': '', 'specific': ''}]\n",
      "Candidate: Old Computer PSUs — [{'room': 'The Crypt', 'container': '2c', 'specific': ''}]\n",
      "LLM returns: \n",
      " Prusa MMU \n",
      " Laser3D\n",
      "\n",
      " *********************************************************** \n",
      " \n",
      "\n",
      " text =  Hotend Thermistor\n",
      "\n",
      " link items =  ['Hotend thermistor | Original Prusa 3D printers directly from Josef Prusa']\n"
     ]
    },
    {
     "name": "stderr",
     "output_type": "stream",
     "text": [
      "Batches: 100%|██████████| 1/1 [00:00<00:00,  7.07it/s]"
     ]
    },
    {
     "name": "stdout",
     "output_type": "stream",
     "text": [
      "Candidate: Markforged Replacement Parts — [{'room': 'Laser3D', 'container': 'Cabinet 8', 'specific': ''}]\n",
      "Candidate: Prusa Replacement Parts — [{'room': 'Laser3D', 'container': 'Cabinet 8', 'specific': ''}]\n",
      "Candidate: Prusa MMU — [{'room': 'Laser3D', 'container': 'Cabinet 8', 'specific': ''}]\n",
      "Candidate: Old Digital Desktop Multimeter — [{'room': 'The Crypt', 'container': '1c', 'specific': ''}]\n",
      "Candidate: Entrada RagBright Paper 36\" — [{'room': 'The Crypt', 'container': '', 'specific': ''}]\n"
     ]
    },
    {
     "name": "stderr",
     "output_type": "stream",
     "text": [
      "\n"
     ]
    },
    {
     "name": "stdout",
     "output_type": "stream",
     "text": [
      "LLM returns: \n",
      " Prusa Replacement Parts \n",
      " Laser3D\n",
      "\n",
      " *********************************************************** \n",
      " \n",
      "\n",
      " text =  Hotend heatbreak (MK3/S/+, MK2.5/S, MMU2S)\n",
      "\n",
      " link items =  ['Hotend heatbreak (MK3/S/+, MK2.5/S, MMU2S) | Original Prusa 3D printers directly from Josef Prusa']\n"
     ]
    },
    {
     "name": "stderr",
     "output_type": "stream",
     "text": [
      "Batches: 100%|██████████| 1/1 [00:00<00:00,  4.76it/s]\n"
     ]
    },
    {
     "name": "stdout",
     "output_type": "stream",
     "text": [
      "Candidate: Markforged Replacement Parts — [{'room': 'Laser3D', 'container': 'Cabinet 8', 'specific': ''}]\n",
      "Candidate: Prusa Replacement Parts — [{'room': 'Laser3D', 'container': 'Cabinet 8', 'specific': ''}]\n",
      "Candidate: Prusa MMU — [{'room': 'Laser3D', 'container': 'Cabinet 8', 'specific': ''}]\n",
      "Candidate: Old Digital Desktop Multimeter — [{'room': 'The Crypt', 'container': '1c', 'specific': ''}]\n",
      "Candidate: Entrada RagBright Paper 36\" — [{'room': 'The Crypt', 'container': '', 'specific': ''}]\n",
      "LLM returns: \n",
      " Prusa Replacement Parts \n",
      " Laser3D\n",
      "\n",
      " *********************************************************** \n",
      " \n",
      "\n",
      " text =  Brother Needle Plate Screw XF8851001\n",
      "\n",
      " link items =  ['Brother Needle Plate Screw XF8851001 - Pocono Sew & Vac']\n"
     ]
    },
    {
     "name": "stderr",
     "output_type": "stream",
     "text": [
      "Batches: 100%|██████████| 1/1 [00:00<00:00, 17.55it/s]"
     ]
    },
    {
     "name": "stdout",
     "output_type": "stream",
     "text": [
      "Candidate: Brother Sewing Machine 18 — [{'room': 'Cage', 'container': '3e', 'specific': ''}]\n",
      "Candidate: Baby Lock Sewing Machine 17 — [{'room': 'Cage', 'container': '3d', 'specific': ''}]\n",
      "Candidate: Seam Guides — [{'room': 'Main', 'container': 'Pegboard 1', 'specific': 'D8'}, {'room': 'Cage', 'container': '5e', 'specific': 'Pegboard Bins|7'}]\n",
      "Candidate: 12pcs Bearing Separator Puller Set — [{'room': 'The Crypt', 'container': '2d', 'specific': None}]\n",
      "Candidate: Plastic Bags — [{'room': 'Cage', 'container': '4b', 'specific': None}]\n"
     ]
    },
    {
     "name": "stderr",
     "output_type": "stream",
     "text": [
      "\n"
     ]
    },
    {
     "name": "stdout",
     "output_type": "stream",
     "text": [
      "LLM returns: \n",
      " Seam Guides \n",
      " Pegboard 1\n",
      "\n",
      " *********************************************************** \n",
      " \n",
      "\n",
      " text =  colored embroidery floss-- make sure they're on the floss bobbins\n",
      "\n",
      " link items =  []\n"
     ]
    },
    {
     "name": "stderr",
     "output_type": "stream",
     "text": [
      "Batches: 100%|██████████| 1/1 [00:00<00:00, 13.85it/s]"
     ]
    },
    {
     "name": "stdout",
     "output_type": "stream",
     "text": [
      "Candidate: Fabric Scissors — [{'room': 'Main', 'container': 'Cabinet 1', 'specific': 'Shelf 1'}, {'room': 'Cage', 'container': '5d', 'specific': 'Stack 1|-3'}]\n",
      "Candidate: Loom Shuttle — [{'room': 'The Crypt', 'container': '1e', 'specific': None}]\n",
      "Candidate: T-pins — [{'room': 'Main', 'container': 'Pegboard 1', 'specific': 'F5'}]\n",
      "Candidate: Plastic Scrapers — [{'room': 'Main', 'container': 'Cabinet 4', 'specific': 'Shelf 14'}, {'room': 'Cage', 'container': '5c', 'specific': 'Stack 20|-2'}]\n",
      "Candidate: Polyester Thread — [{'room': 'Main', 'container': 'Pegboard 1', 'specific': 'Front'}, {'room': 'Cage', 'container': '5e', 'specific': '|-3'}]\n"
     ]
    },
    {
     "name": "stderr",
     "output_type": "stream",
     "text": [
      "\n"
     ]
    },
    {
     "name": "stdout",
     "output_type": "stream",
     "text": [
      "LLM returns: \n",
      " Polyester Thread \n",
      " Pegboard 1\n",
      "\n",
      " *********************************************************** \n",
      " \n",
      "\n",
      " text =  normal scissors\n",
      "\n",
      " link items =  []\n"
     ]
    },
    {
     "name": "stderr",
     "output_type": "stream",
     "text": [
      "Batches: 100%|██████████| 1/1 [00:00<00:00,  2.73it/s]\n"
     ]
    },
    {
     "name": "stdout",
     "output_type": "stream",
     "text": [
      "Candidate: Yarn — [{'room': 'Main', 'container': 'Fabrics', 'specific': ''}, {'room': 'Backstock', 'container': 'Shelf 3', 'specific': '|-3'}]\n",
      "Candidate: Scissors — [{'room': 'Main', 'container': 'Cabinet 3', 'specific': 'Shelf 1'}, {'room': 'Cage', 'container': '5d', 'specific': 'Stack 1|-3'}]\n",
      "Candidate: 1/4 to 3.5mm Adapter — [{'room': 'Studio', 'container': 'Studio 2', 'specific': 'Shelf 4'}]\n",
      "Candidate: Laser Cutter Cleaning Tools — [{'room': 'Laser3D', 'container': 'In Laser Cutter Side Panel', 'specific': None}]\n",
      "Candidate: Wall Hanging Supplies — [{'room': 'Cage', 'container': '8d', 'specific': None}]\n",
      "LLM returns: \n",
      "  \n",
      " Cabinet 11\n",
      "\n",
      " *********************************************************** \n",
      " \n",
      "\n",
      " text =  11.5 by 17.5 inch laminating pouches\n",
      "\n",
      " link items =  []\n"
     ]
    },
    {
     "name": "stderr",
     "output_type": "stream",
     "text": [
      "Batches: 100%|██████████| 1/1 [00:00<00:00,  4.04it/s]\n"
     ]
    },
    {
     "name": "stdout",
     "output_type": "stream",
     "text": [
      "Candidate: Laminator Sheets (Business Card Size) — [{'room': 'Cage', 'container': '1b', 'specific': ''}]\n",
      "Candidate: Printer — [{'room': 'Cage', 'container': '8d', 'specific': None}]\n",
      "Candidate: Plastic Sheeting — [{'room': 'Cage', 'container': '1a', 'specific': ''}]\n",
      "Candidate: Laminator Sheets (Half Letter, 6\" x 9\") — [{'room': 'Cage', 'container': '1b', 'specific': ''}]\n",
      "Candidate: Laminator Sheets (Legal, 11.5\" x 17.5\") — [{'room': 'Cage', 'container': '1b', 'specific': ''}]\n",
      "LLM returns: \n",
      " Laminator Sheets (Legal, 11.5\" x 17.5\") \n",
      " Cage/Crypt/Other\n",
      "\n",
      " *********************************************************** \n",
      " \n",
      "\n",
      " text =  instant epoxy\n",
      "\n",
      " link items =  []\n"
     ]
    },
    {
     "name": "stderr",
     "output_type": "stream",
     "text": [
      "Batches: 100%|██████████| 1/1 [00:00<00:00, 14.86it/s]"
     ]
    },
    {
     "name": "stdout",
     "output_type": "stream",
     "text": [
      "Candidate: 5 in 1 Painter's Tool — [{'room': 'Main', 'container': 'Cabinet 4', 'specific': 'Shelf 14'}]\n",
      "Candidate: Creality Belt Printer [DEPRECATED] — [{'room': 'Outdoor Storage', 'container': '', 'specific': ''}]\n",
      "Candidate: Vacuum Pump OIl — [{'room': 'Cage', 'container': '7c', 'specific': None}]\n",
      "Candidate: Instant Epoxy (Bottled) — [{'room': 'Main', 'container': 'Cabinet 5', 'specific': ''}, {'room': 'Cage', 'container': '5D', 'specific': '7'}]\n",
      "Candidate: Epoxy Resin — [{'room': 'Cage', 'container': '7c', 'specific': ''}]\n"
     ]
    },
    {
     "name": "stderr",
     "output_type": "stream",
     "text": [
      "\n"
     ]
    },
    {
     "name": "stdout",
     "output_type": "stream",
     "text": [
      "LLM returns: \n",
      " Instant Epoxy (Bottled) \n",
      " Cabinet 5\n",
      "\n",
      " *********************************************************** \n",
      " \n",
      "\n",
      " text =  crepe paper, party streamers\n",
      "\n",
      " link items =  []\n"
     ]
    },
    {
     "name": "stderr",
     "output_type": "stream",
     "text": [
      "Batches: 100%|██████████| 1/1 [00:00<00:00, 10.48it/s]"
     ]
    },
    {
     "name": "stdout",
     "output_type": "stream",
     "text": [
      "Candidate: Jewelry Clasps and Closures — [{'room': 'Main', 'container': 'Cabinet 3', 'specific': 'Shelf 9'}, {'room': 'Cage', 'container': '5d', 'specific': 'Stack 3|-3'}]\n",
      "Candidate: Parchment Paper — [{'room': 'Cage', 'container': '4c', 'specific': ''}]\n",
      "Candidate: Pegboard Hardware — [{'room': 'Cage', 'container': 'Pegboard', 'specific': ''}]\n",
      "Candidate: Scrap Cardstock Paper — [{'room': 'Main', 'container': 'Cabinet 7', 'specific': 'Top'}]\n",
      "Candidate: Sew-on Metal Snaps — [{'room': 'Main', 'container': 'Pegboard 1', 'specific': 'C3'}]\n"
     ]
    },
    {
     "name": "stderr",
     "output_type": "stream",
     "text": [
      "\n"
     ]
    },
    {
     "name": "stdout",
     "output_type": "stream",
     "text": [
      "LLM returns: \n",
      " Scrap Cardstock Paper \n",
      " Cabinet 7\n",
      "\n",
      " *********************************************************** \n",
      " \n",
      "\n",
      " text =  box for new leather working supplies:\n",
      "\n",
      " link items =  []\n"
     ]
    },
    {
     "name": "stderr",
     "output_type": "stream",
     "text": [
      "Batches: 100%|██████████| 1/1 [00:00<00:00,  3.54it/s]\n"
     ]
    },
    {
     "name": "stdout",
     "output_type": "stream",
     "text": [
      "Candidate: Screwdrivers — [{'room': 'Main', 'container': 'Cabinet 11', 'specific': 'Shelf 6'}]\n",
      "Candidate: Leather Roll (Workshops / Training Only) — [{'room': 'Cage', 'container': '7a', 'specific': None}]\n",
      "Candidate: Large Cutting Mats (24\" x 36\") — [{'room': 'Cage', 'container': '1e', 'specific': None}]\n",
      "Candidate: Clear Wood Sealer — [{'room': 'Cage', 'container': '7b', 'specific': ''}]\n",
      "Candidate: Leather Veiner Tool — [{'room': 'Cage', 'container': '', 'specific': ''}]\n",
      "LLM returns: \n",
      "  \n",
      " Cabinet 9\n",
      "\n",
      " *********************************************************** \n",
      " \n",
      "\n",
      " text =  all of the PLA we buy except:\n",
      "black\n",
      "white\n",
      "baby blue\n",
      "vintage rose\n",
      "tan\n",
      "brown\n",
      "yellow\n",
      "violet\n",
      "new army green\n",
      " \n",
      "(I used the names on the boxes)\n",
      "\n",
      " link items =  []\n"
     ]
    },
    {
     "name": "stderr",
     "output_type": "stream",
     "text": [
      "Batches: 100%|██████████| 1/1 [00:00<00:00,  4.47it/s]\n"
     ]
    },
    {
     "name": "stdout",
     "output_type": "stream",
     "text": [
      "Candidate: Orange Ribbon — [{'room': 'Main', 'container': 'Cabinet 6', 'specific': 'Shelf 1'}]\n",
      "Candidate: Push Pins — [{'room': 'Main', 'container': 'Cabinet 3', 'specific': 'Shelf 23'}, {'room': 'Cage', 'container': '5c', 'specific': 'Stack 16|-3'}]\n",
      "Candidate: Suede Lace — [{'room': 'Main', 'container': 'Cabinet 2', 'specific': 'Shelf 21'}]\n",
      "Candidate: Pumpkin Carving Kit — [{'room': 'The Crypt', 'container': '', 'specific': ''}]\n",
      "Candidate: PLA Filament — [{'room': 'The Crypt', 'container': '', 'specific': ''}]\n",
      "LLM returns: \n",
      "  \n",
      " Laser3D\n",
      "\n",
      " *********************************************************** \n",
      " \n",
      "\n",
      " text =  we're out or almost out of all the jewelry chain, especially silver\n",
      "\n",
      " link items =  []\n"
     ]
    },
    {
     "name": "stderr",
     "output_type": "stream",
     "text": [
      "Batches: 100%|██████████| 1/1 [00:00<00:00,  6.90it/s]"
     ]
    },
    {
     "name": "stdout",
     "output_type": "stream",
     "text": [
      "Candidate: Safety Pins — [{'room': 'Main', 'container': 'Cabinet 3', 'specific': 'Shelf 20'}, {'room': 'Main', 'container': 'Pegboard 1', 'specific': 'C4|-3'}, {'room': 'Cage', 'container': '5c', 'specific': 'Stack 18|-3'}]\n",
      "Candidate: honing guide — [{'room': 'Cage', 'container': 'Cabinet 9', 'specific': 'Shelf 3'}]\n",
      "Candidate: Toothpicks — [{'room': 'Main', 'container': 'Cabinet 2', 'specific': 'Shelf 9'}, {'room': 'Cage', 'container': '5c', 'specific': 'Stack 17|-3'}]\n",
      "Candidate: Small Embroidery Hoops — [{'room': 'Main', 'container': 'Cabinet 1', 'specific': 'Shelf 7'}, {'room': 'Cage', 'container': '5d', 'specific': 'Stack 8|-3'}]\n",
      "Candidate: Assorted Metal Jewelry Chain — [{'room': 'Main', 'container': 'Cabinet 3', 'specific': 'Shelf 5'}, {'room': 'Cage', 'container': '5d', 'specific': 'Stack 2|-2'}]\n"
     ]
    },
    {
     "name": "stderr",
     "output_type": "stream",
     "text": [
      "\n"
     ]
    },
    {
     "name": "stdout",
     "output_type": "stream",
     "text": [
      "LLM returns: \n",
      " Assorted Metal Jewelry Chain \n",
      " Cabinet 3\n",
      "\n",
      " *********************************************************** \n",
      " \n",
      "\n",
      " text =  Jewelry wire! Especially silver and black\n",
      "\n",
      " link items =  []\n"
     ]
    },
    {
     "name": "stderr",
     "output_type": "stream",
     "text": [
      "Batches: 100%|██████████| 1/1 [00:00<00:00,  3.55it/s]\n"
     ]
    },
    {
     "name": "stdout",
     "output_type": "stream",
     "text": [
      "Candidate: Toothpicks — [{'room': 'Main', 'container': 'Cabinet 2', 'specific': 'Shelf 9'}, {'room': 'Cage', 'container': '5c', 'specific': 'Stack 17|-3'}]\n",
      "Candidate: Small Embroidery Hoops — [{'room': 'Main', 'container': 'Cabinet 1', 'specific': 'Shelf 7'}, {'room': 'Cage', 'container': '5d', 'specific': 'Stack 8|-3'}]\n",
      "Candidate: Tweezers for Electronics — [{'room': 'Other', 'container': '', 'specific': None}]\n",
      "Candidate: honing guide — [{'room': 'Cage', 'container': 'Cabinet 9', 'specific': 'Shelf 3'}]\n",
      "Candidate: Safety Pins — [{'room': 'Main', 'container': 'Cabinet 3', 'specific': 'Shelf 20'}, {'room': 'Main', 'container': 'Pegboard 1', 'specific': 'C4|-3'}, {'room': 'Cage', 'container': '5c', 'specific': 'Stack 18|-3'}]\n",
      "LLM returns: \n",
      " Safety Pins \n",
      " Cabinet 3\n",
      "\n",
      " *********************************************************** \n",
      " \n",
      "\n",
      " text =  colorful cellophane\n",
      "\n",
      "example ^ thank you!\n",
      "\n",
      " link items =  ['10 Yards Holographic Cellophane Wrap Paper Roll for Flowers']\n"
     ]
    },
    {
     "name": "stderr",
     "output_type": "stream",
     "text": [
      "Batches: 100%|██████████| 1/1 [00:00<00:00,  6.07it/s]"
     ]
    },
    {
     "name": "stdout",
     "output_type": "stream",
     "text": [
      "Candidate: Various Wheels — [{'room': 'The Crypt', 'container': '2d', 'specific': None}]\n",
      "Candidate: Large Zip Ties — [{'room': 'Main', 'container': 'Shelf 2', 'specific': 'Cabinet 4'}, {'room': 'Cage', 'container': '5c', 'specific': 'Stack 2|-3'}]\n",
      "Candidate: Pegboard Hardware — [{'room': 'Cage', 'container': 'Pegboard', 'specific': ''}]\n",
      "Candidate: Leather Seeder Tool — [{'room': 'Studio', 'container': '', 'specific': ''}]\n",
      "Candidate: Plastic Bins/Boxes/Organizers — [{'room': 'Cage', 'container': '6a, 6b, 6c, 6d', 'specific': ''}]\n"
     ]
    },
    {
     "name": "stderr",
     "output_type": "stream",
     "text": [
      "\n"
     ]
    },
    {
     "name": "stdout",
     "output_type": "stream",
     "text": [
      "LLM returns: \n",
      "  \n",
      " Cabinet 7\n",
      "\n",
      " *********************************************************** \n",
      " \n",
      "\n",
      " text =  double sided tape\n",
      "\n",
      " link items =  []\n"
     ]
    },
    {
     "name": "stderr",
     "output_type": "stream",
     "text": [
      "Batches: 100%|██████████| 1/1 [00:00<00:00,  2.01it/s]\n"
     ]
    },
    {
     "name": "stdout",
     "output_type": "stream",
     "text": [
      "Candidate: Scotch Tape — [{'room': 'Main', 'container': 'Cabinet 5', 'specific': 'Shelf 2'}, {'room': 'Cage', 'container': '5c', 'specific': 'Stack 14|0'}, {'room': 'Cage', 'container': '5c', 'specific': 'Stack 7'}, {'room': 'Cage', 'container': '5c', 'specific': 'Stack 6'}]\n",
      "Candidate: LFP9900 Vivid Light Magenta Ink — [{'room': 'The Crypt', 'container': '3B', 'specific': ''}]\n",
      "Candidate: Key Tags — [{'room': 'Cage', 'container': '8d', 'specific': ''}]\n",
      "Candidate: Blue Masking Tape (2\") — [{'room': 'Main', 'container': 'Cabinet 5', 'specific': 'Top'}, {'room': 'Cage', 'container': '5e', 'specific': '|-3'}]\n",
      "Candidate: 3.5 mm Male to XLR Male Cable Short — [{'room': 'Studio', 'container': 'Studio 2', 'specific': 'Shelf 8'}]\n",
      "LLM returns: \n",
      " Scotch Tape \n",
      " Cabinet 5\n",
      "\n",
      " *********************************************************** \n",
      " \n",
      "\n",
      " text =  New magnet for laser cutter focusing tool.\n",
      "\n",
      " link items =  []\n"
     ]
    },
    {
     "name": "stderr",
     "output_type": "stream",
     "text": [
      "Batches: 100%|██████████| 1/1 [00:00<00:00,  4.45it/s]\n"
     ]
    },
    {
     "name": "stdout",
     "output_type": "stream",
     "text": [
      "Candidate: Sand Paper — [{'room': 'Main', 'container': 'Cabinet 11', 'specific': 'Top'}, {'room': 'Cage', 'container': '5c', 'specific': 'Stack 3|-2'}]\n",
      "Candidate: 3D Printer Bed Scrapers — [{'room': 'Laser3D', 'container': 'Main Table', 'specific': ''}, {'room': 'Laser3D', 'container': 'Cabinet 3|-2', 'specific': ''}]\n",
      "Candidate: Magliner — [{'room': 'Cage', 'container': 'Floor', 'specific': None}]\n",
      "Candidate: Wood Veneer — [{'room': 'Outdoor Storage', 'container': 'C1, D1, E1', 'specific': ''}]\n",
      "Candidate: White Out — [{'room': 'Main', 'container': 'Cabinet 4', 'specific': 'Shelf 11'}]\n",
      "LLM returns: \n",
      " 3D Printer Bed Scrapers \n",
      " Laser3D\n",
      "\n",
      " *********************************************************** \n",
      " \n",
      "\n",
      " text =  Paracord(white and black\n",
      "\n",
      " link items =  []\n"
     ]
    },
    {
     "name": "stderr",
     "output_type": "stream",
     "text": [
      "Batches: 100%|██████████| 1/1 [00:00<00:00,  7.20it/s]"
     ]
    },
    {
     "name": "stdout",
     "output_type": "stream",
     "text": [
      "Candidate: Macrame Cord — [{'room': 'Main', 'container': 'Pegboard 1', 'specific': 'Front'}, {'room': 'Cage', 'container': '5E', 'specific': 'near polyester thread'}]\n",
      "Candidate: Grey Cardstock — [{'room': 'Main', 'container': 'Cabinet 7', 'specific': ''}, {'room': 'Cage', 'container': '8d', 'specific': '|-1'}, {'room': 'Backstock', 'container': 'Shelf 4|-1', 'specific': ''}]\n",
      "Candidate: Black Sharpies — [{'room': 'Main', 'container': 'Cabinet 4', 'specific': 'Shelf 1'}, {'room': 'Cage', 'container': '5c', 'specific': 'Stack 11|-3'}, {'room': 'Cage', 'container': '8d', 'specific': '|-3'}]\n",
      "Candidate: Popsicle Sticks — [{'room': 'Main', 'container': 'Cabinet 2', 'specific': 'Shelf 3'}, {'room': 'Cage', 'container': '5c', 'specific': 'Stack 22|-3'}]\n",
      "Candidate: Background, Black (10' x 24') — [{'room': 'Studio', 'container': 'A5', 'specific': None}]\n"
     ]
    },
    {
     "name": "stderr",
     "output_type": "stream",
     "text": [
      "\n"
     ]
    },
    {
     "name": "stdout",
     "output_type": "stream",
     "text": [
      "LLM returns: \n",
      " Macrame Cord \n",
      " Pegboard 1\n",
      "\n",
      " *********************************************************** \n",
      " \n",
      "\n",
      " text =  Foam clay( this one is very good\n",
      "\n",
      " link items =  []\n"
     ]
    },
    {
     "name": "stderr",
     "output_type": "stream",
     "text": [
      "Batches: 100%|██████████| 1/1 [00:00<00:00,  7.45it/s]"
     ]
    },
    {
     "name": "stdout",
     "output_type": "stream",
     "text": [
      "Candidate: Cotton Battening — [{'room': 'Cage', 'container': '4a', 'specific': None}]\n",
      "Candidate: Misc. Wood Stock — [{'room': 'Outdoor Storage', 'container': 'A3', 'specific': None}]\n",
      "Candidate: Gold Linocut Ink  — [{'room': 'Cage', 'container': 'Shelf 1', 'specific': ''}]\n",
      "Candidate: Large Embroidery Hoops — [{'room': 'Main', 'container': 'Cabinet 1', 'specific': 'Shelf 8'}, {'room': 'Cage', 'container': '5d', 'specific': 'Stack 8|-3'}]\n",
      "Candidate: KimTech Wipes — [{'room': 'Laser3D', 'container': 'leftmost cabinet', 'specific': ''}]\n"
     ]
    },
    {
     "name": "stderr",
     "output_type": "stream",
     "text": [
      "\n"
     ]
    },
    {
     "name": "stdout",
     "output_type": "stream",
     "text": [
      "LLM returns: \n",
      "  \n",
      " Cabinet 9\n",
      "\n",
      " *********************************************************** \n",
      " \n",
      "\n",
      " text =  Polyfill\n",
      "\n",
      " link items =  []\n"
     ]
    },
    {
     "name": "stderr",
     "output_type": "stream",
     "text": [
      "Batches: 100%|██████████| 1/1 [00:00<00:00,  8.36it/s]"
     ]
    },
    {
     "name": "stdout",
     "output_type": "stream",
     "text": [
      "Candidate: Curved Needles — [{'room': 'Main', 'container': 'Pegboard 1', 'specific': 'G1'}, {'room': 'Cage', 'container': '5e', 'specific': 'Pegboard Bins|-2'}]\n",
      "Candidate: Iron Rest Pad — [{'room': 'Cage', 'container': '3b', 'specific': ''}]\n",
      "Candidate: Digital Soldering Station — [{'room': 'Other', 'container': '', 'specific': None}]\n",
      "Candidate: Various Wheels — [{'room': 'The Crypt', 'container': '2d', 'specific': None}]\n",
      "Candidate: Seam Rippers — [{'room': 'Main', 'container': 'Pegboard 1', 'specific': 'E5'}, {'room': 'Cage', 'container': '5c', 'specific': 'Stack 7|-3'}]\n"
     ]
    },
    {
     "name": "stderr",
     "output_type": "stream",
     "text": [
      "\n"
     ]
    },
    {
     "name": "stdout",
     "output_type": "stream",
     "text": [
      "LLM returns: \n",
      "  \n",
      " Fabric\n",
      "\n",
      " *********************************************************** \n",
      " \n",
      "\n",
      " text =  Macrame cord ( white, light brown, blue)\n",
      "\n",
      " link items =  []\n"
     ]
    },
    {
     "name": "stderr",
     "output_type": "stream",
     "text": [
      "Batches: 100%|██████████| 1/1 [00:00<00:00,  5.66it/s]"
     ]
    },
    {
     "name": "stdout",
     "output_type": "stream",
     "text": [
      "Candidate: Metal Bobbins — [{'room': 'Main', 'container': 'Pegboard 1', 'specific': 'Bottom'}, {'room': 'Cage', 'container': '5e', 'specific': 'Pegboard Bins|-3'}]\n",
      "Candidate: Pink Ribbon — [{'room': 'Main', 'container': 'Cabinet 6', 'specific': 'Shelf 4'}]\n",
      "Candidate: White Ribbon — [{'room': 'Main', 'container': 'Cabinet 6', 'specific': 'Shelf 6'}]\n",
      "Candidate: White Buttons — [{'room': 'Main', 'container': 'Pegboard 1', 'specific': 'B3'}, {'room': 'Cage', 'container': '5d', 'specific': 'Stack 10|-2'}]\n",
      "Candidate: Holiday Decorations — [{'room': 'The Crypt', 'container': '1a, 2a', 'specific': ''}]\n"
     ]
    },
    {
     "name": "stderr",
     "output_type": "stream",
     "text": [
      "\n"
     ]
    },
    {
     "name": "stdout",
     "output_type": "stream",
     "text": [
      "LLM returns: \n",
      " White Buttons \n",
      " Pegboard 1\n",
      "\n",
      " *********************************************************** \n",
      " \n",
      "\n",
      " text =  zip ties, cabinet 2 shelf 4 (my cabinet)\n",
      "\n",
      " link items =  []\n"
     ]
    },
    {
     "name": "stderr",
     "output_type": "stream",
     "text": [
      "Batches: 100%|██████████| 1/1 [00:00<00:00,  4.90it/s]\n"
     ]
    },
    {
     "name": "stdout",
     "output_type": "stream",
     "text": [
      "Candidate: Small Metal Magnets — [{'room': 'Main', 'container': 'Cabinet 2', 'specific': 'Shelf 1'}, {'room': 'Cage', 'container': '5c', 'specific': 'Stack 14|-3'}]\n",
      "Candidate: Mini Screwdrivers — [{'room': 'Cage', 'container': '5c', 'specific': 'Stack 12'}]\n",
      "Candidate: Spare Fuse Vacuum Attachments — [{'room': 'Laser3D', 'container': 'Cabinet 3', 'specific': ''}]\n",
      "Candidate: Crafting Books — [{'room': 'Main', 'container': 'Fabrics', 'specific': None}]\n",
      "Candidate: Ear Plugs — [{'room': 'Cage', 'container': '8c', 'specific': None}]\n",
      "LLM returns: \n",
      " Small Metal Magnets \n",
      " Cabinet 2\n",
      "\n",
      " *********************************************************** \n",
      " \n",
      "\n",
      " text =  Pipe cleaners\n",
      "\n",
      " link items =  []\n"
     ]
    },
    {
     "name": "stderr",
     "output_type": "stream",
     "text": [
      "Batches: 100%|██████████| 1/1 [00:00<00:00, 12.55it/s]"
     ]
    },
    {
     "name": "stdout",
     "output_type": "stream",
     "text": [
      "Candidate: Key Rings — [{'room': 'Main', 'container': 'Cabinet 3', 'specific': 'Shelf 9'}, {'room': 'Cage', 'container': '5c', 'specific': 'Stack 4|-3'}]\n",
      "Candidate: Allen Keys — [{'room': 'Main', 'container': 'Cabinet 11', 'specific': 'Shelf 4'}]\n",
      "Candidate: Super Glue — [{'room': 'Main', 'container': 'Cabinet 5', 'specific': 'Shelf 1'}, {'room': 'Cage', 'container': '5d', 'specific': 'Stack 7|-2'}]\n",
      "Candidate: Spray Bottles — [{'room': 'Cage', 'container': '8e', 'specific': ''}]\n",
      "Candidate: Clean Finish Polishing Compound — [{'room': 'Cage', 'container': '7c', 'specific': None}]\n"
     ]
    },
    {
     "name": "stderr",
     "output_type": "stream",
     "text": [
      "\n"
     ]
    },
    {
     "name": "stdout",
     "output_type": "stream",
     "text": [
      "LLM returns: \n",
      " Key Rings \n",
      " Cabinet 3\n",
      "\n",
      " *********************************************************** \n",
      " \n",
      "\n",
      " text =  Foam sheets\n",
      "\n",
      " link items =  []\n"
     ]
    },
    {
     "name": "stderr",
     "output_type": "stream",
     "text": [
      "Batches: 100%|██████████| 1/1 [00:00<00:00,  9.45it/s]"
     ]
    },
    {
     "name": "stdout",
     "output_type": "stream",
     "text": [
      "Candidate: Large Embroidery Hoops — [{'room': 'Main', 'container': 'Cabinet 1', 'specific': 'Shelf 8'}, {'room': 'Cage', 'container': '5d', 'specific': 'Stack 8|-3'}]\n",
      "Candidate: Dixie Cups (for painting) — [{'room': 'Main', 'container': 'Cabinet 16', 'specific': '(by paint sink)'}]\n",
      "Candidate: Misc. Wood Stock — [{'room': 'Outdoor Storage', 'container': 'A3', 'specific': None}]\n",
      "Candidate: Cotton Battening — [{'room': 'Cage', 'container': '4a', 'specific': None}]\n",
      "Candidate: Coping Saw — [{'room': 'Cage', 'container': 'Pegboard', 'specific': None}]\n"
     ]
    },
    {
     "name": "stderr",
     "output_type": "stream",
     "text": [
      "\n"
     ]
    },
    {
     "name": "stdout",
     "output_type": "stream",
     "text": [
      "LLM returns: \n",
      " Cotton Battening \n",
      " Cage/Crypt/Other\n",
      "\n",
      " *********************************************************** \n",
      " \n",
      "\n",
      " text =  Mixed Beads\n",
      "\n",
      " link items =  []\n"
     ]
    },
    {
     "name": "stderr",
     "output_type": "stream",
     "text": [
      "Batches: 100%|██████████| 1/1 [00:00<00:00,  5.16it/s]"
     ]
    },
    {
     "name": "stdout",
     "output_type": "stream",
     "text": [
      "Candidate: Iron-On Patches — [{'room': 'Main', 'container': 'Cabinet 1', 'specific': 'Shelf 14'}]\n",
      "Candidate: Pony Beads — [{'room': 'Main', 'container': 'Cabinet 3', 'specific': 'Shelf 13'}, {'room': 'Cage', 'container': '5e', 'specific': '|4'}]\n",
      "Candidate: Metal Charms — [{'room': 'Main', 'container': 'Cabinet 3', 'specific': 'Shelf 6'}, {'room': 'Cage', 'container': '5c', 'specific': 'Stack 4|-3'}]\n",
      "Candidate: Seed Beads — [{'room': 'Main', 'container': 'Cabinet 3', 'specific': 'Shelf 10'}, {'room': 'Cage', 'container': '5d', 'specific': 'Stack 8|-3'}]\n",
      "Candidate: Mixed Beads — [{'room': 'Main', 'container': 'Cabinet 3', 'specific': 'Shelf 12'}]\n"
     ]
    },
    {
     "name": "stderr",
     "output_type": "stream",
     "text": [
      "\n"
     ]
    },
    {
     "name": "stdout",
     "output_type": "stream",
     "text": [
      "LLM returns: \n",
      " Mixed Beads \n",
      " Cabinet 3\n",
      "\n",
      " *********************************************************** \n",
      " \n",
      "\n",
      " text =  Jewelry chains\n",
      "\n",
      " link items =  []\n"
     ]
    },
    {
     "name": "stderr",
     "output_type": "stream",
     "text": [
      "Batches: 100%|██████████| 1/1 [00:00<00:00, 18.85it/s]"
     ]
    },
    {
     "name": "stdout",
     "output_type": "stream",
     "text": [
      "Candidate: Safety Pins — [{'room': 'Main', 'container': 'Cabinet 3', 'specific': 'Shelf 20'}, {'room': 'Main', 'container': 'Pegboard 1', 'specific': 'C4|-3'}, {'room': 'Cage', 'container': '5c', 'specific': 'Stack 18|-3'}]\n",
      "Candidate: Assorted Metal Jewelry Chain — [{'room': 'Main', 'container': 'Cabinet 3', 'specific': 'Shelf 5'}, {'room': 'Cage', 'container': '5d', 'specific': 'Stack 2|-2'}]\n",
      "Candidate: Toothpicks — [{'room': 'Main', 'container': 'Cabinet 2', 'specific': 'Shelf 9'}, {'room': 'Cage', 'container': '5c', 'specific': 'Stack 17|-3'}]\n",
      "Candidate: Small Embroidery Hoops — [{'room': 'Main', 'container': 'Cabinet 1', 'specific': 'Shelf 7'}, {'room': 'Cage', 'container': '5d', 'specific': 'Stack 8|-3'}]\n",
      "Candidate: honing guide — [{'room': 'Cage', 'container': 'Cabinet 9', 'specific': 'Shelf 3'}]\n"
     ]
    },
    {
     "name": "stderr",
     "output_type": "stream",
     "text": [
      "\n"
     ]
    },
    {
     "name": "stdout",
     "output_type": "stream",
     "text": [
      "LLM returns: \n",
      " Assorted Metal Jewelry Chain \n",
      " Cabinet 3\n",
      "\n",
      " *********************************************************** \n",
      " \n",
      "\n",
      " text =  Various colored duct tapes are very low on the stick\n",
      "\n",
      " link items =  []\n"
     ]
    },
    {
     "name": "stderr",
     "output_type": "stream",
     "text": [
      "Batches: 100%|██████████| 1/1 [00:00<00:00,  6.12it/s]"
     ]
    },
    {
     "name": "stdout",
     "output_type": "stream",
     "text": [
      "Candidate: Color Gel Pens — [{'room': 'Main', 'container': 'Cabinet 4', 'specific': 'Shelf 13'}]\n",
      "Candidate: Beige Masking Tape (1\") — [{'room': 'Main', 'container': 'Cabinet 5', 'specific': 'Top'}, {'room': 'Cage', 'container': '5e', 'specific': '|-3'}]\n",
      "Candidate: Cellophane — [{'room': 'Cage', 'container': '5b', 'specific': ''}, {'room': 'Cage', 'container': '', 'specific': ''}]\n",
      "Candidate: Glue Dots — [{'room': 'Main', 'container': 'Cabinet 5', 'specific': 'Shelf 2'}, {'room': 'Cage', 'container': '8d', 'specific': '|-3'}]\n",
      "Candidate: Key Tags — [{'room': 'Cage', 'container': '8d', 'specific': ''}]\n"
     ]
    },
    {
     "name": "stderr",
     "output_type": "stream",
     "text": [
      "\n"
     ]
    },
    {
     "name": "stdout",
     "output_type": "stream",
     "text": [
      "LLM returns: \n",
      " Beige Masking Tape (1\") \n",
      " Cabinet 5\n",
      "\n",
      " *********************************************************** \n",
      " \n",
      "\n",
      " text =  Fabric scissors\n",
      "\n",
      " link items =  []\n"
     ]
    },
    {
     "name": "stderr",
     "output_type": "stream",
     "text": [
      "Batches: 100%|██████████| 1/1 [00:00<00:00,  2.93it/s]\n"
     ]
    },
    {
     "name": "stdout",
     "output_type": "stream",
     "text": [
      "Candidate: Scissors — [{'room': 'Main', 'container': 'Cabinet 3', 'specific': 'Shelf 1'}, {'room': 'Cage', 'container': '5d', 'specific': 'Stack 1|-3'}]\n",
      "Candidate: Yarn — [{'room': 'Main', 'container': 'Fabrics', 'specific': ''}, {'room': 'Backstock', 'container': 'Shelf 3', 'specific': '|-3'}]\n",
      "Candidate: Wall Hanging Supplies — [{'room': 'Cage', 'container': '8d', 'specific': None}]\n",
      "Candidate: 1/4 to 3.5mm Adapter — [{'room': 'Studio', 'container': 'Studio 2', 'specific': 'Shelf 4'}]\n",
      "Candidate: Leather Sewing Machine — [{'room': 'Cage', 'container': 'Floor', 'specific': None}]\n",
      "LLM returns: \n",
      "  \n",
      " Pegboard 1\n",
      "\n",
      " *********************************************************** \n",
      " \n",
      "\n",
      " text =  KN95 Masks in cage (with the PPE)\n",
      "\n",
      " link items =  []\n"
     ]
    },
    {
     "name": "stderr",
     "output_type": "stream",
     "text": [
      "Batches: 100%|██████████| 1/1 [00:00<00:00,  3.60it/s]\n"
     ]
    },
    {
     "name": "stdout",
     "output_type": "stream",
     "text": [
      "Candidate: Hair Ties — [{'room': 'Cage', 'container': '8c', 'specific': None}]\n",
      "Candidate: Work Gloves — [{'room': 'Cage', 'container': '8c', 'specific': None}]\n",
      "Candidate: Rai Wandeler — [{'room': 'Laser3D', 'container': 'Bucket Hat', 'specific': \"Plz don't check out :(\"}]\n",
      "Candidate: Camera Baseplate — [{'room': 'Studio', 'container': 'Studio 5', 'specific': 'Shelf 5'}]\n",
      "Candidate: Rear Lens Cap, Lens Kit — [{'room': 'Studio', 'container': 'Studio 5', 'specific': 'Shelf 4'}]\n",
      "LLM returns: \n",
      " Work Gloves \n",
      " Cage/Crypt/Other\n",
      "\n",
      " *********************************************************** \n",
      " \n",
      "\n",
      " text =  Laminator carrier sleeve\n",
      "\n",
      " link items =  []\n"
     ]
    },
    {
     "name": "stderr",
     "output_type": "stream",
     "text": [
      "Batches: 100%|██████████| 1/1 [00:00<00:00,  3.35it/s]\n"
     ]
    },
    {
     "name": "stdout",
     "output_type": "stream",
     "text": [
      "Candidate: Laminator Sheets (Legal, 11.5\" x 17.5\") — [{'room': 'Cage', 'container': '1b', 'specific': ''}]\n",
      "Candidate: Plastic Sheeting — [{'room': 'Cage', 'container': '1a', 'specific': ''}]\n",
      "Candidate: Printer — [{'room': 'Cage', 'container': '8d', 'specific': None}]\n",
      "Candidate: Laminator Sheets (Half Letter, 6\" x 9\") — [{'room': 'Cage', 'container': '1b', 'specific': ''}]\n",
      "Candidate: Laminator Sheets (Business Card Size) — [{'room': 'Cage', 'container': '1b', 'specific': ''}]\n",
      "LLM returns: \n",
      " Laminator Sheets (Legal, 11.5\" x 17.5\") \n",
      " Cage/Crypt/Other\n",
      "\n",
      " *********************************************************** \n",
      " \n",
      "\n",
      " text =  LFP matte paper\n",
      "\n",
      " link items =  ['Epson Enhanced Matte S450440 Replacement for Epson Enhanced S041596 | B&H Photo Video']\n"
     ]
    },
    {
     "name": "stderr",
     "output_type": "stream",
     "text": [
      "Batches: 100%|██████████| 1/1 [00:00<00:00,  6.04it/s]"
     ]
    },
    {
     "name": "stdout",
     "output_type": "stream",
     "text": [
      "Candidate: LFP8000 Photo Black Ink — [{'room': 'The Crypt', 'container': '3', 'specific': ''}]\n",
      "Candidate: Spare Drill Bits — [{'room': 'Backstock', 'container': 'Shelf 2', 'specific': ''}]\n",
      "Candidate: LFP Matte Paper — [{'room': 'The Crypt', 'container': 'Floor', 'specific': ''}]\n",
      "Candidate: LFP Glossy Paper — [{'room': 'The Crypt', 'container': 'Floor', 'specific': ''}]\n",
      "Candidate: LFP9900 Light Cyan Ink — [{'room': 'The Crypt', 'container': '3B', 'specific': ''}]\n"
     ]
    },
    {
     "name": "stderr",
     "output_type": "stream",
     "text": [
      "\n"
     ]
    },
    {
     "name": "stdout",
     "output_type": "stream",
     "text": [
      "LLM returns: \n",
      " LFP Matte Paper \n",
      " LFP\n",
      "\n",
      " *********************************************************** \n",
      " \n",
      "\n",
      " text =  Rubber/linoleum carving blocks for printmaking (cabinet 9 shelf 1)\n",
      "\n",
      " link items =  []\n"
     ]
    },
    {
     "name": "stderr",
     "output_type": "stream",
     "text": [
      "Batches: 100%|██████████| 1/1 [00:00<00:00,  4.28it/s]\n"
     ]
    },
    {
     "name": "stdout",
     "output_type": "stream",
     "text": [
      "Candidate: Nuts — [{'room': 'Main', 'container': '', 'specific': ''}, {'room': 'Main', 'container': 'Cabinet 9', 'specific': ''}]\n",
      "Candidate: Iron Rest Pad — [{'room': 'Cage', 'container': '3b', 'specific': ''}]\n",
      "Candidate: Outdoor Timer — [{'room': 'The Crypt', 'container': '2d', 'specific': ''}]\n",
      "Candidate: Misc. Hardware — [{'room': 'Main', 'container': 'Cabinet 9', 'specific': 'Shelf 7'}]\n",
      "Candidate: Pegboard Hardware — [{'room': 'Cage', 'container': 'Pegboard', 'specific': ''}]\n",
      "LLM returns: \n",
      " Nuts \n",
      " Cabinet 9\n",
      "\n",
      " *********************************************************** \n",
      " \n",
      "\n",
      " text =  Black sharpies\n",
      "\n",
      " link items =  []\n"
     ]
    },
    {
     "name": "stderr",
     "output_type": "stream",
     "text": [
      "Batches: 100%|██████████| 1/1 [00:00<00:00,  3.90it/s]\n"
     ]
    },
    {
     "name": "stdout",
     "output_type": "stream",
     "text": [
      "Candidate: Popsicle Sticks — [{'room': 'Main', 'container': 'Cabinet 2', 'specific': 'Shelf 3'}, {'room': 'Cage', 'container': '5c', 'specific': 'Stack 22|-3'}]\n",
      "Candidate: Colored Sharpies — [{'room': 'Main', 'container': 'Cabinet 4', 'specific': 'Shelf 1'}, {'room': 'Cage', 'container': '5c', 'specific': 'Stack 10|-3'}]\n",
      "Candidate: Push Pins — [{'room': 'Main', 'container': 'Cabinet 3', 'specific': 'Shelf 23'}, {'room': 'Cage', 'container': '5c', 'specific': 'Stack 16|-3'}]\n",
      "Candidate: Black Sharpies — [{'room': 'Main', 'container': 'Cabinet 4', 'specific': 'Shelf 1'}, {'room': 'Cage', 'container': '5c', 'specific': 'Stack 11|-3'}, {'room': 'Cage', 'container': '8d', 'specific': '|-3'}]\n",
      "Candidate: Small Wooden Dowels (1/8\" x 12\") — [{'room': 'Main', 'container': 'Cabinet 2', 'specific': 'Shelf 6'}, {'room': 'Cage', 'container': '5d', 'specific': 'Stack 14|-3'}]\n",
      "LLM returns: \n",
      " Black Sharpies \n",
      " Cabinet 4\n",
      "\n",
      " *********************************************************** \n",
      " \n",
      "\n",
      " text =  need ribbon, white, colors, thin and thick\n",
      "\n",
      " link items =  []\n"
     ]
    },
    {
     "name": "stderr",
     "output_type": "stream",
     "text": [
      "Batches: 100%|██████████| 1/1 [00:00<00:00, 10.15it/s]"
     ]
    },
    {
     "name": "stdout",
     "output_type": "stream",
     "text": [
      "Candidate: Multicolored Ribbon — [{'room': 'Main', 'container': 'Cabinet 6', 'specific': 'Shelf 5'}]\n",
      "Candidate: Brown Ribbon — [{'room': 'Main', 'container': 'Cabinet 6', 'specific': 'Shelf 5'}]\n",
      "Candidate: White Ribbon — [{'room': 'Main', 'container': 'Cabinet 6', 'specific': 'Shelf 6'}]\n",
      "Candidate: Green Ribbon — [{'room': 'Main', 'container': 'Cabinet 6', 'specific': 'Shelf 2'}]\n",
      "Candidate: Red Ribbon — [{'room': 'Main', 'container': 'Cabinet 6', 'specific': 'Shelf 1'}]\n"
     ]
    },
    {
     "name": "stderr",
     "output_type": "stream",
     "text": [
      "\n"
     ]
    },
    {
     "name": "stdout",
     "output_type": "stream",
     "text": [
      "LLM returns: \n",
      " Multicolored Ribbon \n",
      " Cabinet 6\n",
      "\n",
      " *********************************************************** \n",
      " \n",
      "\n",
      " text =  Felting Wool,  out of yellow orange\n",
      "\n",
      " link items =  []\n"
     ]
    },
    {
     "name": "stderr",
     "output_type": "stream",
     "text": [
      "Batches: 100%|██████████| 1/1 [00:00<00:00,  4.23it/s]\n"
     ]
    },
    {
     "name": "stdout",
     "output_type": "stream",
     "text": [
      "Candidate: Pin Cushions — [{'room': 'Main', 'container': 'Cabinet 1', 'specific': 'Shelf 3'}]\n",
      "Candidate: Cotton Battening — [{'room': 'Cage', 'container': '4a', 'specific': None}]\n",
      "Candidate: Dixie Cups (for painting) — [{'room': 'Main', 'container': 'Cabinet 16', 'specific': '(by paint sink)'}]\n",
      "Candidate: Felting Needles — [{'room': 'Main', 'container': 'Cabinet 1', 'specific': 'Shelf 12'}]\n",
      "Candidate: Felting Foam — [{'room': 'Main', 'container': 'Cabinet 1', 'specific': 'Shelf 15'}]\n",
      "LLM returns: \n",
      "  \n",
      " Fabric\n",
      "\n",
      " *********************************************************** \n",
      " \n",
      "\n",
      " text =  Low grit sand paper (below 100)\n",
      "\n",
      " link items =  []\n"
     ]
    },
    {
     "name": "stderr",
     "output_type": "stream",
     "text": [
      "Batches: 100%|██████████| 1/1 [00:00<00:00,  5.46it/s]"
     ]
    },
    {
     "name": "stdout",
     "output_type": "stream",
     "text": [
      "Candidate: Digital Soldering Station — [{'room': 'Other', 'container': '', 'specific': None}]\n",
      "Candidate: Pegboard Hardware — [{'room': 'Cage', 'container': 'Pegboard', 'specific': ''}]\n",
      "Candidate: Laser Cutter Spare Lenses — [{'room': 'Cage', 'container': 'Repair Cart', 'specific': ''}]\n",
      "Candidate: Specialty Sewing Machine Needles — [{'room': 'Main', 'container': 'Pegboard', 'specific': None}, {'room': 'Cage', 'container': '5e', 'specific': 'Pegboard Bins|-3'}]\n",
      "Candidate: Leather Seeder Tool — [{'room': 'Studio', 'container': '', 'specific': ''}]\n"
     ]
    },
    {
     "name": "stderr",
     "output_type": "stream",
     "text": [
      "\n"
     ]
    },
    {
     "name": "stdout",
     "output_type": "stream",
     "text": [
      "LLM returns: \n",
      "  \n",
      " Cabinet 11\n",
      "\n",
      " *********************************************************** \n",
      " \n",
      "\n",
      " text =  Paintbrush comb (used to better clean large paintbrushes and elongates bristle life)\n",
      "\n",
      " link items =  []\n"
     ]
    },
    {
     "name": "stderr",
     "output_type": "stream",
     "text": [
      "Batches: 100%|██████████| 1/1 [00:00<00:00,  3.34it/s]\n"
     ]
    },
    {
     "name": "stdout",
     "output_type": "stream",
     "text": [
      "Candidate: Small Paint Brushes — [{'room': 'Main', 'container': 'Cabinet 4', 'specific': 'Shelf 9'}, {'room': 'Cage', 'container': '5c', 'specific': 'Stack 19|-3'}]\n",
      "Candidate: Acrylic Paint — [{'room': 'Main', 'container': 'Cabinet 4', 'specific': 'Shelf 3'}, {'room': 'Cage', 'container': '5e', 'specific': '|-3'}]\n",
      "Candidate: Spray Bottles — [{'room': 'Cage', 'container': '8e', 'specific': ''}]\n",
      "Candidate: Spray Paint Gun Wrench — [{'room': 'Cage', 'container': 'Inside Spray Paint Gun Kit', 'specific': None}]\n",
      "Candidate: Art books — [{'room': 'Main', 'container': 'Fabrics', 'specific': None}]\n",
      "LLM returns: \n",
      " Small Paint Brushes \n",
      " Cabinet 4\n",
      "\n",
      " *********************************************************** \n",
      " \n",
      "\n",
      " text =  Red/Crimson construction paper\n",
      "\n",
      " link items =  []\n"
     ]
    },
    {
     "name": "stderr",
     "output_type": "stream",
     "text": [
      "Batches: 100%|██████████| 1/1 [00:00<00:00,  4.80it/s]\n"
     ]
    },
    {
     "name": "stdout",
     "output_type": "stream",
     "text": [
      "Candidate: Pegboard Hardware — [{'room': 'Cage', 'container': 'Pegboard', 'specific': ''}]\n",
      "Candidate: Outdoor Timer — [{'room': 'The Crypt', 'container': '2d', 'specific': ''}]\n",
      "Candidate: Leather Seeder Tool — [{'room': 'Studio', 'container': '', 'specific': ''}]\n",
      "Candidate: 126 Pumpkin Thread — [{'room': 'Main', 'container': '', 'specific': ''}]\n",
      "Candidate: Gray Ribbon — [{'room': 'Main', 'container': 'Cabinet 6', 'specific': 'Shelf 6'}]\n",
      "LLM returns: \n",
      "  \n",
      " Cabinet 7\n",
      "\n",
      " *********************************************************** \n",
      " \n",
      "\n",
      " text =  Safety pins, fabric tape, tailors chalk\n",
      "\n",
      " link items =  []\n"
     ]
    },
    {
     "name": "stderr",
     "output_type": "stream",
     "text": [
      "Batches: 100%|██████████| 1/1 [00:00<00:00,  4.78it/s]\n"
     ]
    },
    {
     "name": "stdout",
     "output_type": "stream",
     "text": [
      "Candidate: Embroidery Floss — [{'room': 'Main', 'container': 'Cabinet 1', 'specific': 'Shelf 9'}, {'room': 'Cage', 'container': '5e', 'specific': '|-3'}]\n",
      "Candidate: Seam Rippers — [{'room': 'Main', 'container': 'Pegboard 1', 'specific': 'E5'}, {'room': 'Cage', 'container': '5c', 'specific': 'Stack 7|-3'}]\n",
      "Candidate: Cotton Swabs/Q-Tips — [{'room': 'Main', 'container': 'Cabinet 2', 'specific': 'Shelf 12'}, {'room': 'Cage', 'container': '5c', 'specific': 'Stack 15|-3'}]\n",
      "Candidate: Rubber Bands — [{'room': 'Main', 'container': 'Cabinet 3', 'specific': 'Shelf 19'}, {'room': 'Cage', 'container': '5d', 'specific': 'Stack 15|-3'}]\n",
      "Candidate: 3.5 mm Male to XLR Female Cable Short — [{'room': 'Studio', 'container': 'Studio 2', 'specific': 'Shelf 8'}]\n",
      "LLM returns: \n",
      " Seam Rippers \n",
      " Pegboard 1\n",
      "\n",
      " *********************************************************** \n",
      " \n",
      "\n",
      " text =  Please disregard first restock form for thread.\n",
      "Polyester thread: 058x2. 339, 707, 406x2, 517, 800x2, 323, 807x2, 205x2, 005, 202x2, 804, 843\n",
      "\n",
      " link items =  []\n"
     ]
    },
    {
     "name": "stderr",
     "output_type": "stream",
     "text": [
      "Batches: 100%|██████████| 1/1 [00:00<00:00,  2.71it/s]\n"
     ]
    },
    {
     "name": "stdout",
     "output_type": "stream",
     "text": [
      "Candidate: Cotton Thread — [{'room': 'Main', 'container': 'Pegboard 1', 'specific': 'Front'}]\n",
      "Candidate: White Cotton Thread — [{'room': 'Cage', 'container': '5c', 'specific': 'Stack 1|-3'}]\n",
      "Candidate: White Polyester Thread — [{'room': 'Cage', 'container': '5c', 'specific': 'Stack 1'}]\n",
      "Candidate: LFP9900 Maintenance Box — [{'room': 'The Crypt', 'container': '3B', 'specific': ''}]\n",
      "Candidate: Watercolor Paper — [{'room': 'Main', 'container': 'Cabinet 7', 'specific': ''}]\n",
      "LLM returns: \n",
      " Cotton Thread \n",
      " Pegboard 1\n",
      "\n",
      " *********************************************************** \n",
      " \n",
      "\n",
      " text =  Straight stitch foot\n",
      "\n",
      " link items =  []\n"
     ]
    },
    {
     "name": "stderr",
     "output_type": "stream",
     "text": [
      "Batches: 100%|██████████| 1/1 [00:00<00:00,  3.60it/s]\n"
     ]
    },
    {
     "name": "stdout",
     "output_type": "stream",
     "text": [
      "Candidate: Misc. Hemmer Feet — [{'room': 'Main', 'container': 'Pegboard 1', 'specific': 'K6'}]\n",
      "Candidate: Even Feed Walking Foot — [{'room': 'Main', 'container': 'Pegboard 1', 'specific': 'L7'}]\n",
      "Candidate: Straight Stitch Foot — [{'room': 'Main', 'container': 'Pegboard 1', 'specific': 'J6'}]\n",
      "Candidate: Edge Stitch Foot — [{'room': 'Main', 'container': 'Pegboard 1', 'specific': 'J5'}]\n",
      "Candidate: Foam Sheets — [{'room': 'Main', 'container': 'Cabinet 2', 'specific': 'Shelf 17'}, {'room': 'Cage', 'container': '5d', 'specific': 'Stack 16|-3'}, {'room': 'Cage', 'container': '5b', 'specific': 'Right of Ziplocs'}]\n",
      "LLM returns: \n",
      " Straight Stitch Foot \n",
      " Pegboard 1\n",
      "\n",
      " *********************************************************** \n",
      " \n",
      "\n",
      " text =  Safety pins\n",
      "\n",
      " link items =  []\n"
     ]
    },
    {
     "name": "stderr",
     "output_type": "stream",
     "text": [
      "Batches: 100%|██████████| 1/1 [00:00<00:00,  6.87it/s]"
     ]
    },
    {
     "name": "stdout",
     "output_type": "stream",
     "text": [
      "Candidate: Rubber Bands — [{'room': 'Main', 'container': 'Cabinet 3', 'specific': 'Shelf 19'}, {'room': 'Cage', 'container': '5d', 'specific': 'Stack 15|-3'}]\n",
      "Candidate: Domed Tacks — [{'room': 'Main', 'container': 'Pegboard 1', 'specific': 'C1'}]\n",
      "Candidate: Cotton Swabs/Q-Tips — [{'room': 'Main', 'container': 'Cabinet 2', 'specific': 'Shelf 12'}, {'room': 'Cage', 'container': '5c', 'specific': 'Stack 15|-3'}]\n",
      "Candidate:  Stencils — [{'room': 'Main', 'container': 'Cabinet 3', 'specific': 'Shelf 22'}, {'room': 'Backstock', 'container': 'Shelf 2', 'specific': '|11'}]\n",
      "Candidate: Filtration Mask — [{'room': 'Cage', 'container': '8c', 'specific': None}]\n"
     ]
    },
    {
     "name": "stderr",
     "output_type": "stream",
     "text": [
      "\n"
     ]
    },
    {
     "name": "stdout",
     "output_type": "stream",
     "text": [
      "LLM returns: \n",
      " Domed Tacks \n",
      " Pegboard 1\n",
      "\n",
      " *********************************************************** \n",
      " \n",
      "\n",
      " text =  Embroidery/sewing machine thread\n",
      "\n",
      "Restock of colors: 202, 205, 406, 807, 339 058, 323\n",
      "\n",
      " link items =  []\n"
     ]
    },
    {
     "name": "stderr",
     "output_type": "stream",
     "text": [
      "Batches: 100%|██████████| 1/1 [00:00<00:00,  6.64it/s]"
     ]
    },
    {
     "name": "stdout",
     "output_type": "stream",
     "text": [
      "Candidate: 406 Ultra Marine Thread — [{'room': 'Main', 'container': '', 'specific': ''}]\n",
      "Candidate: Permanent Fabric Markers — [{'room': 'Main', 'container': 'Cabinet 1', 'specific': 'Shelf 6'}, {'room': 'Cage', 'container': '5e', 'specific': '|-3'}]\n",
      "Candidate: Fabric Scissors — [{'room': 'Main', 'container': 'Cabinet 1', 'specific': 'Shelf 1'}, {'room': 'Cage', 'container': '5d', 'specific': 'Stack 1|-3'}]\n",
      "Candidate: Plastic Scrapers — [{'room': 'Main', 'container': 'Cabinet 4', 'specific': 'Shelf 14'}, {'room': 'Cage', 'container': '5c', 'specific': 'Stack 20|-2'}]\n",
      "Candidate: Brother Sewing Machine 18 — [{'room': 'Cage', 'container': '3e', 'specific': ''}]\n"
     ]
    },
    {
     "name": "stderr",
     "output_type": "stream",
     "text": [
      "\n"
     ]
    },
    {
     "name": "stdout",
     "output_type": "stream",
     "text": [
      "LLM returns: \n",
      "  \n",
      " Pegboard 1\n",
      "\n",
      " *********************************************************** \n",
      " \n",
      "\n",
      " text =  Metallic cardstock\n",
      "\n",
      " link items =  []\n"
     ]
    },
    {
     "name": "stderr",
     "output_type": "stream",
     "text": [
      "Batches: 100%|██████████| 1/1 [00:00<00:00,  4.22it/s]\n"
     ]
    },
    {
     "name": "stdout",
     "output_type": "stream",
     "text": [
      "Candidate: Blue Buttons — [{'room': 'Main', 'container': 'Pegboard 1', 'specific': 'A5'}, {'room': 'Cage', 'container': '5d', 'specific': 'Stack 10|-2'}]\n",
      "Candidate: Red Cardstock — [{'room': 'Main', 'container': 'Cabinet 7', 'specific': ''}, {'room': 'Cage', 'container': '8d', 'specific': ''}]\n",
      "Candidate: White Cardstock — [{'room': 'Cage', 'container': '', 'specific': ''}]\n",
      "Candidate: 126 Pumpkin Thread — [{'room': 'Main', 'container': '', 'specific': ''}]\n",
      "Candidate: Black Paracord — [{'room': 'Main', 'container': 'Pegboard 1', 'specific': 'Front'}]\n",
      "LLM returns: \n",
      " Red Cardstock \n",
      " Cabinet 7\n",
      "\n",
      " *********************************************************** \n",
      " \n",
      "\n",
      " text =  Electronics wire cutters\n",
      "\n",
      " link items =  ['Small Wire Cutters 10 Pack- KAIHAOWIN 170 Wire Flush Cutters Wire Clippers Nippers Clean Cut Pliers Side Cutter Diagonal Cutting Pliers for Electronic Floral Heating Wire Model Sprue Soft Copper, Blue']\n"
     ]
    },
    {
     "name": "stderr",
     "output_type": "stream",
     "text": [
      "Batches: 100%|██████████| 1/1 [00:00<00:00,  4.10it/s]\n"
     ]
    },
    {
     "name": "stdout",
     "output_type": "stream",
     "text": [
      "Candidate: Cricut Replacement Blades — [{'room': 'Cage', 'container': '1d', 'specific': ''}]\n",
      "Candidate: Toothpicks — [{'room': 'Main', 'container': 'Cabinet 2', 'specific': 'Shelf 9'}, {'room': 'Cage', 'container': '5c', 'specific': 'Stack 17|-3'}]\n",
      "Candidate: Multimeter Kit 8 — [{'room': 'Cage', 'container': '2b', 'specific': ''}]\n",
      "Candidate: Spare Multimeter Probes — [{'room': 'Cage', 'container': '2b', 'specific': None}]\n",
      "Candidate: Ryoba Saw — [{'room': 'Cage', 'container': 'Pegboard', 'specific': None}]\n",
      "LLM returns: \n",
      "  \n",
      " Electronics\n",
      "\n",
      " *********************************************************** \n",
      " \n",
      "\n",
      " text =  Super glue\n",
      "\n",
      " link items =  []\n"
     ]
    },
    {
     "name": "stderr",
     "output_type": "stream",
     "text": [
      "Batches: 100%|██████████| 1/1 [00:00<00:00,  4.22it/s]\n"
     ]
    },
    {
     "name": "stdout",
     "output_type": "stream",
     "text": [
      "Candidate: Tacky Glue — [{'room': 'Main', 'container': 'Cabinet 5', 'specific': 'Shelf 1'}, {'room': 'Cage', 'container': '5d', 'specific': 'Stack 4|1'}]\n",
      "Candidate: Matte Mod Podge — [{'room': 'Main', 'container': 'Cabinet 5', 'specific': 'Shelf 1'}, {'room': 'Cage', 'container': '5e', 'specific': ''}]\n",
      "Candidate: Zippers — [{'room': 'Main', 'container': 'Cabinet 1', 'specific': 'Shelf 14'}, {'room': 'Cage', 'container': '5c', 'specific': 'Stack 23|-3'}]\n",
      "Candidate: Leather Sewing Machine — [{'room': 'Cage', 'container': 'Floor', 'specific': None}]\n",
      "Candidate: Packing Tape Dispenser — [{'room': 'Cage', 'container': 'Pegboard', 'specific': ''}, {'room': 'Cage', 'container': '8d', 'specific': '|2'}]\n",
      "LLM returns: \n",
      " Tacky Glue \n",
      " Cabinet 5\n",
      "\n",
      " *********************************************************** \n",
      " \n",
      "\n",
      " text =  Elmers glue\n",
      "\n",
      " link items =  []\n"
     ]
    },
    {
     "name": "stderr",
     "output_type": "stream",
     "text": [
      "Batches: 100%|██████████| 1/1 [00:00<00:00, 17.01it/s]"
     ]
    },
    {
     "name": "stdout",
     "output_type": "stream",
     "text": [
      "Candidate: Leatherworking Tools — [{'room': 'Main', 'container': 'Cabinet 9', 'specific': 'Shelf 4'}]\n",
      "Candidate: Gaff Tape — [{'room': 'Studio', 'container': 'A2', 'specific': None}, {'room': 'Outdoor Storage', 'container': '', 'specific': '|3'}]\n",
      "Candidate: Zippers — [{'room': 'Main', 'container': 'Cabinet 1', 'specific': 'Shelf 14'}, {'room': 'Cage', 'container': '5c', 'specific': 'Stack 23|-3'}]\n",
      "Candidate: Tacky Glue — [{'room': 'Main', 'container': 'Cabinet 5', 'specific': 'Shelf 1'}, {'room': 'Cage', 'container': '5d', 'specific': 'Stack 4|1'}]\n",
      "Candidate: Matte Mod Podge — [{'room': 'Main', 'container': 'Cabinet 5', 'specific': 'Shelf 1'}, {'room': 'Cage', 'container': '5e', 'specific': ''}]\n"
     ]
    },
    {
     "name": "stderr",
     "output_type": "stream",
     "text": [
      "\n"
     ]
    },
    {
     "name": "stdout",
     "output_type": "stream",
     "text": [
      "LLM returns: \n",
      " Tacky Glue \n",
      " Cabinet 5\n",
      "\n",
      " *********************************************************** \n",
      " \n",
      "\n",
      " text =  Large zipties\n",
      "\n",
      " link items =  []\n"
     ]
    },
    {
     "name": "stderr",
     "output_type": "stream",
     "text": [
      "Batches: 100%|██████████| 1/1 [00:00<00:00, 16.35it/s]"
     ]
    },
    {
     "name": "stdout",
     "output_type": "stream",
     "text": [
      "Candidate: Crafting Books — [{'room': 'Main', 'container': 'Fabrics', 'specific': None}]\n",
      "Candidate: Small Metal Magnets — [{'room': 'Main', 'container': 'Cabinet 2', 'specific': 'Shelf 1'}, {'room': 'Cage', 'container': '5c', 'specific': 'Stack 14|-3'}]\n",
      "Candidate: Mini Screwdrivers — [{'room': 'Cage', 'container': '5c', 'specific': 'Stack 12'}]\n",
      "Candidate: Edge Stitch Foot — [{'room': 'Main', 'container': 'Pegboard 1', 'specific': 'J5'}]\n",
      "Candidate: Wrenches — [{'room': 'Main', 'container': 'Cabinet 11', 'specific': 'Shelf 1'}]\n"
     ]
    },
    {
     "name": "stderr",
     "output_type": "stream",
     "text": [
      "\n"
     ]
    },
    {
     "name": "stdout",
     "output_type": "stream",
     "text": [
      "LLM returns: \n",
      " Wrenches \n",
      " Cabinet 11\n",
      "\n",
      " *********************************************************** \n",
      " \n",
      "\n",
      " text =  Elmers glue sticks\n",
      "\n",
      " link items =  []\n"
     ]
    },
    {
     "name": "stderr",
     "output_type": "stream",
     "text": [
      "Batches: 100%|██████████| 1/1 [00:00<00:00,  1.86it/s]\n"
     ]
    },
    {
     "name": "stdout",
     "output_type": "stream",
     "text": [
      "Candidate: Leatherworking Tools — [{'room': 'Main', 'container': 'Cabinet 9', 'specific': 'Shelf 4'}]\n",
      "Candidate: Nuts and Bolts — [{'room': 'Main', 'container': 'Cabinet 9', 'specific': 'Shelf 9'}]\n",
      "Candidate: Wood Glue — [{'room': 'Main', 'container': 'Cabinet 5', 'specific': 'Shelf 1'}]\n",
      "Candidate: Gaff Tape — [{'room': 'Studio', 'container': 'A2', 'specific': None}, {'room': 'Outdoor Storage', 'container': '', 'specific': '|3'}]\n",
      "Candidate: Zippers — [{'room': 'Main', 'container': 'Cabinet 1', 'specific': 'Shelf 14'}, {'room': 'Cage', 'container': '5c', 'specific': 'Stack 23|-3'}]\n",
      "LLM returns: \n",
      " Wood Glue \n",
      " Cabinet 5\n",
      "\n",
      " *********************************************************** \n",
      " \n",
      "\n",
      " text =  1.75 mm TPU Filament 90A\n",
      "I would pick between these maybe:\n",
      "- Bambu Lab Brand: \n",
      "- Cheaper Overture: \n",
      "\n",
      "Thank You!\n",
      "Abe\n",
      "\n",
      " link items =  ['TPU 95A HF', 'OVERTURE TPU Filament 1.75mm Flexible Roll, 95A Soft 3D Printer Filament, 1kg Spool (2.2 lbs), Fit Most FDM Printer (TPU Black)']\n"
     ]
    },
    {
     "name": "stderr",
     "output_type": "stream",
     "text": [
      "Batches: 100%|██████████| 1/1 [00:00<00:00,  4.84it/s]\n"
     ]
    },
    {
     "name": "stdout",
     "output_type": "stream",
     "text": [
      "Candidate: Laser Cutter Replacement Parts — [{'room': 'Laser3D', 'container': 'In Laser Cutter Side Panel', 'specific': ''}]\n",
      "Candidate: PLA Filament — [{'room': 'The Crypt', 'container': '', 'specific': ''}]\n",
      "Candidate: Plastic Lacing Cord — [{'room': 'Main', 'container': 'Cabinet 3', 'specific': 'Shelf 7'}, {'room': 'Cage', 'container': '5c', 'specific': 'Stack 21|-3'}]\n",
      "Candidate: Earring Studs — [{'room': 'Main', 'container': 'Cabinet 3', 'specific': 'Shelf 6'}, {'room': 'Cage', 'container': '5d', 'specific': 'Stack 2|-3'}]\n",
      "Candidate: LFP Matte Paper — [{'room': 'The Crypt', 'container': 'Floor', 'specific': ''}]\n",
      "LLM returns: \n",
      " Laser Cutter Replacement Parts \n",
      " Laser3D\n",
      "\n",
      " *********************************************************** \n",
      " \n",
      "\n",
      " text =  glue sticks,\n",
      "\n",
      " link items =  []\n"
     ]
    },
    {
     "name": "stderr",
     "output_type": "stream",
     "text": [
      "Batches: 100%|██████████| 1/1 [00:00<00:00,  5.62it/s]"
     ]
    },
    {
     "name": "stdout",
     "output_type": "stream",
     "text": [
      "Candidate: Leatherworking Tools — [{'room': 'Main', 'container': 'Cabinet 9', 'specific': 'Shelf 4'}]\n",
      "Candidate: Nuts and Bolts — [{'room': 'Main', 'container': 'Cabinet 9', 'specific': 'Shelf 9'}]\n",
      "Candidate: Wood Glue — [{'room': 'Main', 'container': 'Cabinet 5', 'specific': 'Shelf 1'}]\n",
      "Candidate: Matte Mod Podge — [{'room': 'Main', 'container': 'Cabinet 5', 'specific': 'Shelf 1'}, {'room': 'Cage', 'container': '5e', 'specific': ''}]\n",
      "Candidate: Tacky Glue — [{'room': 'Main', 'container': 'Cabinet 5', 'specific': 'Shelf 1'}, {'room': 'Cage', 'container': '5d', 'specific': 'Stack 4|1'}]\n"
     ]
    },
    {
     "name": "stderr",
     "output_type": "stream",
     "text": [
      "\n"
     ]
    },
    {
     "name": "stdout",
     "output_type": "stream",
     "text": [
      "LLM returns: \n",
      " Tacky Glue \n",
      " Cabinet 5\n",
      "\n",
      " *********************************************************** \n",
      " \n",
      "\n",
      " text =  pencils,\n",
      "\n",
      " link items =  []\n"
     ]
    },
    {
     "name": "stderr",
     "output_type": "stream",
     "text": [
      "Batches: 100%|██████████| 1/1 [00:00<00:00,  5.88it/s]"
     ]
    },
    {
     "name": "stdout",
     "output_type": "stream",
     "text": [
      "Candidate: Small Wooden Dowels (1/8\" x 12\") — [{'room': 'Main', 'container': 'Cabinet 2', 'specific': 'Shelf 6'}, {'room': 'Cage', 'container': '5d', 'specific': 'Stack 14|-3'}]\n",
      "Candidate: Black Sharpies — [{'room': 'Main', 'container': 'Cabinet 4', 'specific': 'Shelf 1'}, {'room': 'Cage', 'container': '5c', 'specific': 'Stack 11|-3'}, {'room': 'Cage', 'container': '8d', 'specific': '|-3'}]\n",
      "Candidate: Scissors Sharpener — [{'room': 'Main', 'container': 'Cabinet 3', 'specific': 'Shelf 1'}]\n",
      "Candidate: Silver Duct Tape — [{'room': 'Main', 'container': 'Cabinet 5', 'specific': 'Top'}, {'room': 'Cage', 'container': '5e', 'specific': '|16'}]\n",
      "Candidate: (9000) LFP Natural Paper 44x40 — [{'room': 'The Crypt', 'container': '', 'specific': ''}]\n"
     ]
    },
    {
     "name": "stderr",
     "output_type": "stream",
     "text": [
      "\n"
     ]
    },
    {
     "name": "stdout",
     "output_type": "stream",
     "text": [
      "LLM returns: \n",
      " Black Sharpies \n",
      " Cabinet 4\n",
      "\n",
      " *********************************************************** \n",
      " \n",
      "\n",
      " text =  8.5 x 11 laminator pouches\n",
      "\n",
      " link items =  []\n"
     ]
    },
    {
     "name": "stderr",
     "output_type": "stream",
     "text": [
      "Batches: 100%|██████████| 1/1 [00:00<00:00,  7.72it/s]"
     ]
    },
    {
     "name": "stdout",
     "output_type": "stream",
     "text": [
      "Candidate: Printer — [{'room': 'Cage', 'container': '8d', 'specific': None}]\n",
      "Candidate: Plastic Sheeting — [{'room': 'Cage', 'container': '1a', 'specific': ''}]\n",
      "Candidate: Laminator Sheets (Business Card Size) — [{'room': 'Cage', 'container': '1b', 'specific': ''}]\n",
      "Candidate: Laminator Sheets (Legal, 11.5\" x 17.5\") — [{'room': 'Cage', 'container': '1b', 'specific': ''}]\n",
      "Candidate: Laminator Sheets (Half Letter, 6\" x 9\") — [{'room': 'Cage', 'container': '1b', 'specific': ''}]\n"
     ]
    },
    {
     "name": "stderr",
     "output_type": "stream",
     "text": [
      "\n"
     ]
    },
    {
     "name": "stdout",
     "output_type": "stream",
     "text": [
      "LLM returns: \n",
      " Laminator Sheets (Legal, 11.5\" x 17.5\") \n",
      " Cage/Crypt/Other\n",
      "\n",
      " *********************************************************** \n",
      " \n",
      "\n",
      " text =  Thin blue tape\n",
      "\n",
      " link items =  []\n"
     ]
    },
    {
     "name": "stderr",
     "output_type": "stream",
     "text": [
      "Batches: 100%|██████████| 1/1 [00:00<00:00,  4.91it/s]\n"
     ]
    },
    {
     "name": "stdout",
     "output_type": "stream",
     "text": [
      "Candidate: Cellophane — [{'room': 'Cage', 'container': '5b', 'specific': ''}, {'room': 'Cage', 'container': '', 'specific': ''}]\n",
      "Candidate: 3.5 mm Male to XLR Male Cable Short — [{'room': 'Studio', 'container': 'Studio 2', 'specific': 'Shelf 8'}]\n",
      "Candidate: Scotch Tape — [{'room': 'Main', 'container': 'Cabinet 5', 'specific': 'Shelf 2'}, {'room': 'Cage', 'container': '5c', 'specific': 'Stack 14|0'}, {'room': 'Cage', 'container': '5c', 'specific': 'Stack 7'}, {'room': 'Cage', 'container': '5c', 'specific': 'Stack 6'}]\n",
      "Candidate: Seam Rippers — [{'room': 'Main', 'container': 'Pegboard 1', 'specific': 'E5'}, {'room': 'Cage', 'container': '5c', 'specific': 'Stack 7|-3'}]\n",
      "Candidate: Paint Thinner (For use with Spray Paint Gun Only) — [{'room': 'Cage', 'container': 'Flammable', 'specific': None}]\n",
      "LLM returns: \n",
      " Scotch Tape \n",
      " Cabinet 5\n",
      "\n",
      " *********************************************************** \n",
      " \n",
      "\n",
      " text =  watercolor paper\n",
      "\n",
      " link items =  []\n"
     ]
    },
    {
     "name": "stderr",
     "output_type": "stream",
     "text": [
      "Batches: 100%|██████████| 1/1 [00:00<00:00,  9.11it/s]"
     ]
    },
    {
     "name": "stdout",
     "output_type": "stream",
     "text": [
      "Candidate: Scrap Cardstock Paper — [{'room': 'Main', 'container': 'Cabinet 7', 'specific': 'Top'}]\n",
      "Candidate: Pegboard Hardware — [{'room': 'Cage', 'container': 'Pegboard', 'specific': ''}]\n",
      "Candidate: Gray Ribbon — [{'room': 'Main', 'container': 'Cabinet 6', 'specific': 'Shelf 6'}]\n",
      "Candidate: Digital Soldering Station — [{'room': 'Other', 'container': '', 'specific': None}]\n",
      "Candidate: Black Acrylic Paint — [{'room': 'Cage', 'container': '5c', 'specific': 'Stack 21|-3'}]\n"
     ]
    },
    {
     "name": "stderr",
     "output_type": "stream",
     "text": [
      "\n"
     ]
    },
    {
     "name": "stdout",
     "output_type": "stream",
     "text": [
      "LLM returns: \n",
      " Scrap Cardstock Paper \n",
      " Cabinet 7\n",
      "\n",
      " *********************************************************** \n",
      " \n",
      "\n",
      " text =  zip ties\n",
      "\n",
      " link items =  []\n"
     ]
    },
    {
     "name": "stderr",
     "output_type": "stream",
     "text": [
      "Batches: 100%|██████████| 1/1 [00:00<00:00, 14.75it/s]"
     ]
    },
    {
     "name": "stdout",
     "output_type": "stream",
     "text": [
      "Candidate: Small Metal Magnets — [{'room': 'Main', 'container': 'Cabinet 2', 'specific': 'Shelf 1'}, {'room': 'Cage', 'container': '5c', 'specific': 'Stack 14|-3'}]\n",
      "Candidate: Mini Screwdrivers — [{'room': 'Cage', 'container': '5c', 'specific': 'Stack 12'}]\n",
      "Candidate: Crafting Books — [{'room': 'Main', 'container': 'Fabrics', 'specific': None}]\n",
      "Candidate: Ear Plugs — [{'room': 'Cage', 'container': '8c', 'specific': None}]\n",
      "Candidate: Edge Stitch Foot — [{'room': 'Main', 'container': 'Pegboard 1', 'specific': 'J5'}]\n"
     ]
    },
    {
     "name": "stderr",
     "output_type": "stream",
     "text": [
      "\n"
     ]
    },
    {
     "name": "stdout",
     "output_type": "stream",
     "text": [
      "LLM returns: \n",
      " Small Metal Magnets \n",
      " Cage/Crypt/Other\n",
      "\n",
      " *********************************************************** \n",
      " \n",
      "\n",
      " text =  Light black \n",
      "Light light black \n",
      "Cyan \n",
      "Vivid magenta \n",
      "Vivid light magenta\n",
      "\n",
      " link items =  ['LFP  re-purchasing links']\n"
     ]
    },
    {
     "name": "stderr",
     "output_type": "stream",
     "text": [
      "Batches: 100%|██████████| 1/1 [00:00<00:00,  3.81it/s]\n"
     ]
    },
    {
     "name": "stdout",
     "output_type": "stream",
     "text": [
      "Candidate: Anvil — [{'room': 'Outdoor Storage', 'container': 'Floor', 'specific': None}]\n",
      "Candidate: LFP9900 Light Light Black — [{'room': 'The Crypt', 'container': '3B', 'specific': ''}]\n",
      "Candidate: LFP8000 Light Cyan Ink — [{'room': 'The Crypt', 'container': '3', 'specific': ''}]\n",
      "Candidate: LFP9900 Green Ink  — [{'room': 'The Crypt', 'container': '3B', 'specific': ''}]\n",
      "Candidate: Leather Seeder Tool — [{'room': 'Studio', 'container': '', 'specific': ''}]\n",
      "LLM returns: \n",
      " LFP9900 Light Light Black \n",
      " LFP\n",
      "\n",
      " *********************************************************** \n",
      " \n",
      "\n",
      " text =  Small hot glue sticks\n",
      "\n",
      " link items =  []\n"
     ]
    },
    {
     "name": "stderr",
     "output_type": "stream",
     "text": [
      "Batches: 100%|██████████| 1/1 [00:00<00:00,  6.28it/s]"
     ]
    },
    {
     "name": "stdout",
     "output_type": "stream",
     "text": [
      "Candidate: Nuts and Bolts — [{'room': 'Main', 'container': 'Cabinet 9', 'specific': 'Shelf 9'}]\n",
      "Candidate: Wood Glue — [{'room': 'Main', 'container': 'Cabinet 5', 'specific': 'Shelf 1'}]\n",
      "Candidate: Leatherworking Tools — [{'room': 'Main', 'container': 'Cabinet 9', 'specific': 'Shelf 4'}]\n",
      "Candidate: Large Hot Glue Sticks — [{'room': 'Cage', 'container': '5d', 'specific': 'Stack 4|-3'}]\n",
      "Candidate: Fabric Pen Refills — [{'room': 'Main', 'container': 'Pegboard 1', 'specific': 'I1'}]\n"
     ]
    },
    {
     "name": "stderr",
     "output_type": "stream",
     "text": [
      "\n"
     ]
    },
    {
     "name": "stdout",
     "output_type": "stream",
     "text": [
      "LLM returns: \n",
      " Wood Glue \n",
      " Cabinet 5\n",
      "\n",
      " *********************************************************** \n",
      " \n",
      "\n",
      " text =  Small hot glue guns\n",
      "\n",
      " link items =  []\n"
     ]
    },
    {
     "name": "stderr",
     "output_type": "stream",
     "text": [
      "Batches: 100%|██████████| 1/1 [00:00<00:00,  8.22it/s]"
     ]
    },
    {
     "name": "stdout",
     "output_type": "stream",
     "text": [
      "Candidate: Large Hot Glue Sticks — [{'room': 'Cage', 'container': '5d', 'specific': 'Stack 4|-3'}]\n",
      "Candidate: Fabric Pen Refills — [{'room': 'Main', 'container': 'Pegboard 1', 'specific': 'I1'}]\n",
      "Candidate: Nuts and Bolts — [{'room': 'Main', 'container': 'Cabinet 9', 'specific': 'Shelf 9'}]\n",
      "Candidate: Wood Glue — [{'room': 'Main', 'container': 'Cabinet 5', 'specific': 'Shelf 1'}]\n",
      "Candidate: Leatherworking Tools — [{'room': 'Main', 'container': 'Cabinet 9', 'specific': 'Shelf 4'}]\n"
     ]
    },
    {
     "name": "stderr",
     "output_type": "stream",
     "text": [
      "\n"
     ]
    },
    {
     "name": "stdout",
     "output_type": "stream",
     "text": [
      "LLM returns: \n",
      " Wood Glue \n",
      " Cabinet 5\n",
      "\n",
      " *********************************************************** \n",
      " \n",
      "\n",
      " text =  Tacky glue\n",
      "\n",
      " link items =  []\n"
     ]
    },
    {
     "name": "stderr",
     "output_type": "stream",
     "text": [
      "Batches: 100%|██████████| 1/1 [00:00<00:00,  3.07it/s]\n"
     ]
    },
    {
     "name": "stdout",
     "output_type": "stream",
     "text": [
      "Candidate: Zippers — [{'room': 'Main', 'container': 'Cabinet 1', 'specific': 'Shelf 14'}, {'room': 'Cage', 'container': '5c', 'specific': 'Stack 23|-3'}]\n",
      "Candidate: Leather Sewing Machine — [{'room': 'Cage', 'container': 'Floor', 'specific': None}]\n",
      "Candidate: Tacky Glue — [{'room': 'Main', 'container': 'Cabinet 5', 'specific': 'Shelf 1'}, {'room': 'Cage', 'container': '5d', 'specific': 'Stack 4|1'}]\n",
      "Candidate: Matte Mod Podge — [{'room': 'Main', 'container': 'Cabinet 5', 'specific': 'Shelf 1'}, {'room': 'Cage', 'container': '5e', 'specific': ''}]\n",
      "Candidate: Gaff Tape — [{'room': 'Studio', 'container': 'A2', 'specific': None}, {'room': 'Outdoor Storage', 'container': '', 'specific': '|3'}]\n",
      "LLM returns: \n",
      " Tacky Glue \n",
      " Cabinet 5\n",
      "\n",
      " *********************************************************** \n",
      " \n",
      "\n",
      " text =  Leather and suede glue\n",
      "\n",
      " link items =  []\n"
     ]
    },
    {
     "name": "stderr",
     "output_type": "stream",
     "text": [
      "Batches: 100%|██████████| 1/1 [00:00<00:00,  7.77it/s]"
     ]
    },
    {
     "name": "stdout",
     "output_type": "stream",
     "text": [
      "Candidate: Impact Driver Bit Kits — [{'room': 'Cage', 'container': '2c', 'specific': None}]\n",
      "Candidate: Leather Sewing Machine — [{'room': 'Cage', 'container': 'Floor', 'specific': None}]\n",
      "Candidate: Matte Mod Podge — [{'room': 'Main', 'container': 'Cabinet 5', 'specific': 'Shelf 1'}, {'room': 'Cage', 'container': '5e', 'specific': ''}]\n",
      "Candidate: Screwdrivers — [{'room': 'Main', 'container': 'Cabinet 11', 'specific': 'Shelf 6'}]\n",
      "Candidate: Leather Decorative Stamp Head — [{'room': 'Cage', 'container': '', 'specific': ''}]\n"
     ]
    },
    {
     "name": "stderr",
     "output_type": "stream",
     "text": [
      "\n"
     ]
    },
    {
     "name": "stdout",
     "output_type": "stream",
     "text": [
      "LLM returns: \n",
      " Matte Mod Podge \n",
      " Cabinet 5\n",
      "\n",
      " *********************************************************** \n",
      " \n",
      "\n",
      " text =  Pencils\n",
      "\n",
      " link items =  []\n"
     ]
    },
    {
     "name": "stderr",
     "output_type": "stream",
     "text": [
      "Batches: 100%|██████████| 1/1 [00:00<00:00, 11.75it/s]"
     ]
    },
    {
     "name": "stdout",
     "output_type": "stream",
     "text": [
      "Candidate: Small Wooden Dowels (1/8\" x 12\") — [{'room': 'Main', 'container': 'Cabinet 2', 'specific': 'Shelf 6'}, {'room': 'Cage', 'container': '5d', 'specific': 'Stack 14|-3'}]\n",
      "Candidate: Black Sharpies — [{'room': 'Main', 'container': 'Cabinet 4', 'specific': 'Shelf 1'}, {'room': 'Cage', 'container': '5c', 'specific': 'Stack 11|-3'}, {'room': 'Cage', 'container': '8d', 'specific': '|-3'}]\n",
      "Candidate: Scissors Sharpener — [{'room': 'Main', 'container': 'Cabinet 3', 'specific': 'Shelf 1'}]\n",
      "Candidate: (9000) LFP Natural Paper 44x40 — [{'room': 'The Crypt', 'container': '', 'specific': ''}]\n",
      "Candidate: Silver Duct Tape — [{'room': 'Main', 'container': 'Cabinet 5', 'specific': 'Top'}, {'room': 'Cage', 'container': '5e', 'specific': '|16'}]\n"
     ]
    },
    {
     "name": "stderr",
     "output_type": "stream",
     "text": [
      "\n"
     ]
    },
    {
     "name": "stdout",
     "output_type": "stream",
     "text": [
      "LLM returns: \n",
      " Black Sharpies \n",
      " Cabinet 4\n",
      "\n",
      " *********************************************************** \n",
      " \n",
      "\n",
      " text =  Glue sticks\n",
      "\n",
      " link items =  []\n"
     ]
    },
    {
     "name": "stderr",
     "output_type": "stream",
     "text": [
      "Batches: 100%|██████████| 1/1 [00:00<00:00, 10.10it/s]"
     ]
    },
    {
     "name": "stdout",
     "output_type": "stream",
     "text": [
      "Candidate: Leatherworking Tools — [{'room': 'Main', 'container': 'Cabinet 9', 'specific': 'Shelf 4'}]\n",
      "Candidate: Nuts and Bolts — [{'room': 'Main', 'container': 'Cabinet 9', 'specific': 'Shelf 9'}]\n",
      "Candidate: Wood Glue — [{'room': 'Main', 'container': 'Cabinet 5', 'specific': 'Shelf 1'}]\n",
      "Candidate: Matte Mod Podge — [{'room': 'Main', 'container': 'Cabinet 5', 'specific': 'Shelf 1'}, {'room': 'Cage', 'container': '5e', 'specific': ''}]\n",
      "Candidate: Packing Tape Dispenser — [{'room': 'Cage', 'container': 'Pegboard', 'specific': ''}, {'room': 'Cage', 'container': '8d', 'specific': '|2'}]\n"
     ]
    },
    {
     "name": "stderr",
     "output_type": "stream",
     "text": [
      "\n"
     ]
    },
    {
     "name": "stdout",
     "output_type": "stream",
     "text": [
      "LLM returns: \n",
      " Wood Glue \n",
      " Cabinet 5\n",
      "\n",
      " *********************************************************** \n",
      " \n",
      "\n",
      " text =  electrical tape\n",
      "\n",
      " link items =  []\n"
     ]
    },
    {
     "name": "stderr",
     "output_type": "stream",
     "text": [
      "Batches: 100%|██████████| 1/1 [00:00<00:00, 13.16it/s]"
     ]
    },
    {
     "name": "stdout",
     "output_type": "stream",
     "text": [
      "Candidate: Blue Masking Tape (2\") — [{'room': 'Main', 'container': 'Cabinet 5', 'specific': 'Top'}, {'room': 'Cage', 'container': '5e', 'specific': '|-3'}]\n",
      "Candidate: 3.5 mm Male to XLR Male Cable Short — [{'room': 'Studio', 'container': 'Studio 2', 'specific': 'Shelf 8'}]\n",
      "Candidate: Scotch Tape — [{'room': 'Main', 'container': 'Cabinet 5', 'specific': 'Shelf 2'}, {'room': 'Cage', 'container': '5c', 'specific': 'Stack 14|0'}, {'room': 'Cage', 'container': '5c', 'specific': 'Stack 7'}, {'room': 'Cage', 'container': '5c', 'specific': 'Stack 6'}]\n",
      "Candidate: Color Gel Pens — [{'room': 'Main', 'container': 'Cabinet 4', 'specific': 'Shelf 13'}]\n",
      "Candidate: Seam Rippers — [{'room': 'Main', 'container': 'Pegboard 1', 'specific': 'E5'}, {'room': 'Cage', 'container': '5c', 'specific': 'Stack 7|-3'}]\n"
     ]
    },
    {
     "name": "stderr",
     "output_type": "stream",
     "text": [
      "\n"
     ]
    },
    {
     "name": "stdout",
     "output_type": "stream",
     "text": [
      "LLM returns: \n",
      " Blue Masking Tape (2\") \n",
      " Cabinet 5\n",
      "\n",
      " *********************************************************** \n",
      " \n",
      "\n",
      " text =  black ballpoint pens\n",
      "\n",
      " link items =  []\n"
     ]
    },
    {
     "name": "stderr",
     "output_type": "stream",
     "text": [
      "Batches: 100%|██████████| 1/1 [00:00<00:00, 17.22it/s]"
     ]
    },
    {
     "name": "stdout",
     "output_type": "stream",
     "text": [
      "Candidate: Blending Stumps/Tortillons — [{'room': 'Main', 'container': 'Cabinet 4', 'specific': 'Shelf 11'}, {'room': 'Cage', 'container': '5c', 'specific': 'Stack 10|-3'}]\n",
      "Candidate: Markers — [{'room': 'Main', 'container': 'Cabinet 4', 'specific': 'Shelf 4'}]\n",
      "Candidate: Leather Dye — [{'room': 'Main', 'container': 'Cabinet 9', 'specific': 'Shelf 4'}]\n",
      "Candidate: Dip Fountain Pens — [{'room': 'Main', 'container': 'Cabinet 4', 'specific': 'Shelf 23'}]\n",
      "Candidate: Colored Pencils — [{'room': 'Main', 'container': 'Cabinet 4', 'specific': 'Shelf 10'}]\n"
     ]
    },
    {
     "name": "stderr",
     "output_type": "stream",
     "text": [
      "\n"
     ]
    },
    {
     "name": "stdout",
     "output_type": "stream",
     "text": [
      "LLM returns: \n",
      " Dip Fountain Pens \n",
      " Cabinet 4\n",
      "\n",
      " *********************************************************** \n",
      " \n",
      "\n",
      " text =  medium paint brushes\n",
      "\n",
      " link items =  ['KINJOEK 30 PCS 1.5 Inch Paint Brushes Bulk, Chip Paintbrush Set for Wall House Trim, Professional Multi-Purpose Home Repair Tool Painting Brush for DIY Varnishes Cabinet Deck Fence Edge Door Craft']\n"
     ]
    },
    {
     "name": "stderr",
     "output_type": "stream",
     "text": [
      "Batches: 100%|██████████| 1/1 [00:00<00:00,  9.90it/s]"
     ]
    },
    {
     "name": "stdout",
     "output_type": "stream",
     "text": [
      "Candidate: Small Paint Brushes — [{'room': 'Main', 'container': 'Cabinet 4', 'specific': 'Shelf 9'}, {'room': 'Cage', 'container': '5c', 'specific': 'Stack 19|-3'}]\n",
      "Candidate: Acrylic Paint — [{'room': 'Main', 'container': 'Cabinet 4', 'specific': 'Shelf 3'}, {'room': 'Cage', 'container': '5e', 'specific': '|-3'}]\n",
      "Candidate: Bowls — [{'room': 'Main', 'container': 'Cabinet 16', 'specific': None}]\n",
      "Candidate: Art books — [{'room': 'Main', 'container': 'Fabrics', 'specific': None}]\n",
      "Candidate: Spray Bottles — [{'room': 'Cage', 'container': '8e', 'specific': ''}]\n"
     ]
    },
    {
     "name": "stderr",
     "output_type": "stream",
     "text": [
      "\n"
     ]
    },
    {
     "name": "stdout",
     "output_type": "stream",
     "text": [
      "LLM returns: \n",
      " Small Paint Brushes \n",
      " Cabinet 4\n",
      "\n",
      " *********************************************************** \n",
      " \n",
      "\n",
      " text =  Safety pins (we just got some and I put them out on the floor but we don't have any in backstock so I think we should get more)\n",
      "\n",
      " link items =  []\n"
     ]
    },
    {
     "name": "stderr",
     "output_type": "stream",
     "text": [
      "Batches: 100%|██████████| 1/1 [00:00<00:00, 16.39it/s]"
     ]
    },
    {
     "name": "stdout",
     "output_type": "stream",
     "text": [
      "Candidate: Rubber Bands — [{'room': 'Main', 'container': 'Cabinet 3', 'specific': 'Shelf 19'}, {'room': 'Cage', 'container': '5d', 'specific': 'Stack 15|-3'}]\n",
      "Candidate: Cotton Swabs/Q-Tips — [{'room': 'Main', 'container': 'Cabinet 2', 'specific': 'Shelf 12'}, {'room': 'Cage', 'container': '5c', 'specific': 'Stack 15|-3'}]\n",
      "Candidate:  Stencils — [{'room': 'Main', 'container': 'Cabinet 3', 'specific': 'Shelf 22'}, {'room': 'Backstock', 'container': 'Shelf 2', 'specific': '|11'}]\n",
      "Candidate: Velcro — [{'room': 'Main', 'container': 'Cabinet 1', 'specific': 'Shelf 17'}, {'room': 'Cage', 'container': '5d', 'specific': 'Stack 6|-3'}]\n",
      "Candidate: Plastic Clips — [{'room': 'Main', 'container': 'Pegboard 1', 'specific': 'B7'}, {'room': 'Cage', 'container': '5e', 'specific': 'Pegboard Bins|-3'}]\n"
     ]
    },
    {
     "name": "stderr",
     "output_type": "stream",
     "text": [
      "\n"
     ]
    },
    {
     "name": "stdout",
     "output_type": "stream",
     "text": [
      "LLM returns: \n",
      " Plastic Clips \n",
      " Pegboard 1\n",
      "\n",
      " *********************************************************** \n",
      " \n",
      "\n",
      " text =  thicker craft wire\n",
      "\n",
      " link items =  []\n"
     ]
    },
    {
     "name": "stderr",
     "output_type": "stream",
     "text": [
      "Batches: 100%|██████████| 1/1 [00:00<00:00, 20.85it/s]"
     ]
    },
    {
     "name": "stdout",
     "output_type": "stream",
     "text": [
      "Candidate: Thick Black Elastic Band — [{'room': 'Main', 'container': 'Cabinet 1', 'specific': 'Shelf 13'}, {'room': 'Cage', 'container': '5c', 'specific': 'Stack 26|-3'}]\n",
      "Candidate: Holiday Decorations — [{'room': 'The Crypt', 'container': '1a, 2a', 'specific': ''}]\n",
      "Candidate: Toothpicks — [{'room': 'Main', 'container': 'Cabinet 2', 'specific': 'Shelf 9'}, {'room': 'Cage', 'container': '5c', 'specific': 'Stack 17|-3'}]\n",
      "Candidate: Cricut Replacement Blades — [{'room': 'Cage', 'container': '1d', 'specific': ''}]\n",
      "Candidate: Plastic Jewelry Cord — [{'room': 'Main', 'container': 'Cabinet 3', 'specific': 'Shelf 4'}, {'room': 'Cage', 'container': '5c', 'specific': 'Stack 27|-2'}]\n"
     ]
    },
    {
     "name": "stderr",
     "output_type": "stream",
     "text": [
      "\n"
     ]
    },
    {
     "name": "stdout",
     "output_type": "stream",
     "text": [
      "LLM returns: \n",
      " Plastic Jewelry Cord \n",
      " Cabinet 3\n",
      "\n",
      " *********************************************************** \n",
      " \n",
      "\n",
      " text =  Boom mic adapter!\n",
      "\n",
      " link items =  []\n"
     ]
    },
    {
     "name": "stderr",
     "output_type": "stream",
     "text": [
      "Batches: 100%|██████████| 1/1 [00:00<00:00, 18.61it/s]"
     ]
    },
    {
     "name": "stdout",
     "output_type": "stream",
     "text": [
      "Candidate: Shotgun Microphone (w/ Basket and Windscreen) — [{'room': 'Studio', 'container': 'Studio 4', 'specific': 'Drawer 1'}]\n",
      "Candidate: Light Stand, Neewer — [{'room': 'Studio', 'container': 'Studio 3', 'specific': 'Shelf 5'}]\n",
      "Candidate: Light Stand, Neewer Ravelli — [{'room': 'Studio', 'container': 'Next to A', 'specific': None}]\n",
      "Candidate: Microphone Bag, Rode NT-USB Microphone — [{'room': 'Studio', 'container': 'Studio 4', 'specific': 'Drawer 2'}]\n",
      "Candidate: Microphone Clip — [{'room': 'Studio', 'container': 'Studio 2', 'specific': 'Shelf 6'}]\n"
     ]
    },
    {
     "name": "stderr",
     "output_type": "stream",
     "text": [
      "\n"
     ]
    },
    {
     "name": "stdout",
     "output_type": "stream",
     "text": [
      "LLM returns: \n",
      " Microphone Clip \n",
      " Studio\n",
      "\n",
      " *********************************************************** \n",
      " \n",
      "\n",
      " text =  Vacuform plastic sheets\n",
      "\n",
      " link items =  []\n"
     ]
    },
    {
     "name": "stderr",
     "output_type": "stream",
     "text": [
      "Batches: 100%|██████████| 1/1 [00:00<00:00, 17.21it/s]"
     ]
    },
    {
     "name": "stdout",
     "output_type": "stream",
     "text": [
      "Candidate: Large Embroidery Hoops — [{'room': 'Main', 'container': 'Cabinet 1', 'specific': 'Shelf 8'}, {'room': 'Cage', 'container': '5d', 'specific': 'Stack 8|-3'}]\n",
      "Candidate: Iron Rest Pad — [{'room': 'Cage', 'container': '3b', 'specific': ''}]\n",
      "Candidate: Plastic Bins/Boxes/Organizers — [{'room': 'Cage', 'container': '6a, 6b, 6c, 6d', 'specific': ''}]\n",
      "Candidate: Dixie Cups (for painting) — [{'room': 'Main', 'container': 'Cabinet 16', 'specific': '(by paint sink)'}]\n",
      "Candidate: Laminator Sheets (Business Card Size) — [{'room': 'Cage', 'container': '1b', 'specific': ''}]\n"
     ]
    },
    {
     "name": "stderr",
     "output_type": "stream",
     "text": [
      "\n"
     ]
    },
    {
     "name": "stdout",
     "output_type": "stream",
     "text": [
      "LLM returns: \n",
      " Laminator Sheets (Business Card Size) \n",
      " Cage/Crypt/Other\n",
      "\n",
      " *********************************************************** \n",
      " \n",
      "\n",
      " text =  embroidery needles, tailor tape measure\n",
      "\n",
      " link items =  []\n"
     ]
    },
    {
     "name": "stderr",
     "output_type": "stream",
     "text": [
      "Batches: 100%|██████████| 1/1 [00:00<00:00, 10.12it/s]"
     ]
    },
    {
     "name": "stdout",
     "output_type": "stream",
     "text": [
      "Candidate: Plastic Scrapers — [{'room': 'Main', 'container': 'Cabinet 4', 'specific': 'Shelf 14'}, {'room': 'Cage', 'container': '5c', 'specific': 'Stack 20|-2'}]\n",
      "Candidate: Button Sewing Foot — [{'room': 'Main', 'container': 'Pegboard 1', 'specific': 'J8'}]\n",
      "Candidate: Spool Pins — [{'room': 'Main', 'container': 'Pegboard 1', 'specific': 'D5'}]\n",
      "Candidate: Bias tape — [{'room': 'Main', 'container': 'Cabinet 1', 'specific': 'Shelf 13'}]\n",
      "Candidate: Curtain Rings — [{'room': 'Main', 'container': 'Pegboard 1', 'specific': 'C5'}, {'room': 'Cage', 'container': '5e', 'specific': 'Pegboard Bins|-3'}]\n"
     ]
    },
    {
     "name": "stderr",
     "output_type": "stream",
     "text": [
      "\n"
     ]
    },
    {
     "name": "stdout",
     "output_type": "stream",
     "text": [
      "LLM returns: \n",
      " Button Sewing Foot \n",
      " Pegboard 1\n",
      "\n",
      " *********************************************************** \n",
      " \n",
      "\n",
      " text =  small hot glue sticks and glue sticks\n",
      "\n",
      " link items =  []\n"
     ]
    },
    {
     "name": "stderr",
     "output_type": "stream",
     "text": [
      "Batches: 100%|██████████| 1/1 [00:00<00:00,  4.29it/s]\n"
     ]
    },
    {
     "name": "stdout",
     "output_type": "stream",
     "text": [
      "Candidate: Nuts and Bolts — [{'room': 'Main', 'container': 'Cabinet 9', 'specific': 'Shelf 9'}]\n",
      "Candidate: Wood Glue — [{'room': 'Main', 'container': 'Cabinet 5', 'specific': 'Shelf 1'}]\n",
      "Candidate: Leatherworking Tools — [{'room': 'Main', 'container': 'Cabinet 9', 'specific': 'Shelf 4'}]\n",
      "Candidate: Large Hot Glue Sticks — [{'room': 'Cage', 'container': '5d', 'specific': 'Stack 4|-3'}]\n",
      "Candidate: Fabric Pen Refills — [{'room': 'Main', 'container': 'Pegboard 1', 'specific': 'I1'}]\n",
      "LLM returns: \n",
      " Wood Glue \n",
      " Cabinet 5\n",
      "\n",
      " *********************************************************** \n",
      " \n",
      "\n",
      " text =  White PLA filament\n",
      "\n",
      " link items =  []\n"
     ]
    },
    {
     "name": "stderr",
     "output_type": "stream",
     "text": [
      "Batches: 100%|██████████| 1/1 [00:00<00:00, 14.19it/s]"
     ]
    },
    {
     "name": "stdout",
     "output_type": "stream",
     "text": [
      "Candidate: Laser Cutter Replacement Parts — [{'room': 'Laser3D', 'container': 'In Laser Cutter Side Panel', 'specific': ''}]\n",
      "Candidate: Black Cotton Thread — [{'room': 'Cage', 'container': '5c', 'specific': 'Stack 1|-3'}]\n",
      "Candidate: Spare Fuse Sift Sieve — [{'room': 'Laser3D', 'container': 'Cabinet 8', 'specific': ''}]\n",
      "Candidate: White Cotton Thread — [{'room': 'Cage', 'container': '5c', 'specific': 'Stack 1|-3'}]\n",
      "Candidate: PLA Filament — [{'room': 'The Crypt', 'container': '', 'specific': ''}]\n"
     ]
    },
    {
     "name": "stderr",
     "output_type": "stream",
     "text": [
      "\n"
     ]
    },
    {
     "name": "stdout",
     "output_type": "stream",
     "text": [
      "LLM returns: \n",
      " Laser Cutter Replacement Parts \n",
      " Laser3D\n",
      "\n",
      " *********************************************************** \n",
      " \n",
      "\n",
      " text =  Woolery white loom thread (I hope i linked the right one.....)\n",
      "\n",
      " link items =  ['Maysville 8/4 Cotton Rug Warp Yarn']\n"
     ]
    },
    {
     "name": "stderr",
     "output_type": "stream",
     "text": [
      "Batches: 100%|██████████| 1/1 [00:00<00:00, 16.55it/s]"
     ]
    },
    {
     "name": "stdout",
     "output_type": "stream",
     "text": [
      "Candidate: Straight Knitting Needles — [{'room': 'Main', 'container': 'Cabinet 1', 'specific': 'Shelf 4'}, {'room': 'Cage', 'container': '5c', 'specific': 'Stack 24|-3'}]\n",
      "Candidate: Watercolor Paper — [{'room': 'Main', 'container': 'Cabinet 7', 'specific': ''}]\n",
      "Candidate: Felt Sheets — [{'room': 'Main', 'container': 'Fabrics', 'specific': ''}]\n",
      "Candidate: Black Cotton Thread — [{'room': 'Cage', 'container': '5c', 'specific': 'Stack 1|-3'}]\n",
      "Candidate: Keychain Clasps — [{'room': 'Main', 'container': 'Cabinet 3', 'specific': 'Shelf 9'}, {'room': 'Cage', 'container': '5d', 'specific': 'Stack 3|-3'}]\n"
     ]
    },
    {
     "name": "stderr",
     "output_type": "stream",
     "text": [
      "\n"
     ]
    },
    {
     "name": "stdout",
     "output_type": "stream",
     "text": [
      "LLM returns: \n",
      " Felt Sheets \n",
      " Fabric\n",
      "\n",
      " *********************************************************** \n",
      " \n",
      "\n",
      " text =  linoleum block printing sheets\n",
      "\n",
      " link items =  []\n"
     ]
    },
    {
     "name": "stderr",
     "output_type": "stream",
     "text": [
      "Batches: 100%|██████████| 1/1 [00:00<00:00, 10.79it/s]"
     ]
    },
    {
     "name": "stdout",
     "output_type": "stream",
     "text": [
      "Candidate: Nuts — [{'room': 'Main', 'container': '', 'specific': ''}, {'room': 'Main', 'container': 'Cabinet 9', 'specific': ''}]\n",
      "Candidate: Extra Lino Cutters — [{'room': 'Cage', 'container': 'Shelf 1E', 'specific': ''}]\n",
      "Candidate: Laminator Sheets (Business Card Size) — [{'room': 'Cage', 'container': '1b', 'specific': ''}]\n",
      "Candidate: Printer — [{'room': 'Cage', 'container': '8d', 'specific': None}]\n",
      "Candidate: Plastic Sheeting — [{'room': 'Cage', 'container': '1a', 'specific': ''}]\n"
     ]
    },
    {
     "name": "stderr",
     "output_type": "stream",
     "text": [
      "\n"
     ]
    },
    {
     "name": "stdout",
     "output_type": "stream",
     "text": [
      "LLM returns: \n",
      " Nuts \n",
      " Cabinet 9\n",
      "\n",
      " *********************************************************** \n",
      " \n",
      "\n",
      " text =  Needle nose pliers\n",
      "\n",
      " link items =  []\n"
     ]
    },
    {
     "name": "stderr",
     "output_type": "stream",
     "text": [
      "Batches: 100%|██████████| 1/1 [00:00<00:00,  5.90it/s]"
     ]
    },
    {
     "name": "stdout",
     "output_type": "stream",
     "text": [
      "Candidate: Round Nose Pliers — [{'room': 'Main', 'container': 'Cabinet 3', 'specific': 'Shelf 3'}, {'room': 'Cage', 'container': '5c', 'specific': 'Stack 12|0'}]\n",
      "Candidate: Glossy Mod Podge — [{'room': 'Main', 'container': 'Cabinet 5', 'specific': 'Shelf 1'}, {'room': 'Cage', 'container': '5e', 'specific': '|-3'}]\n",
      "Candidate: Nut Drivers — [{'room': 'Main', 'container': 'Cabinet 11', 'specific': 'Shelf 6'}]\n",
      "Candidate: Tiny Thread — [{'room': 'Main', 'container': 'Pegboard 1', 'specific': 'C8'}, {'room': 'Cage', 'container': '5e', 'specific': 'Pegboard Bins|-2'}]\n",
      "Candidate: Pins — [{'room': 'Main', 'container': 'Cabinet 1', 'specific': 'Shelf 3'}, {'room': 'Cage', 'container': '5c', 'specific': 'Stack 2|-3'}]\n"
     ]
    },
    {
     "name": "stderr",
     "output_type": "stream",
     "text": [
      "\n"
     ]
    },
    {
     "name": "stdout",
     "output_type": "stream",
     "text": [
      "LLM returns: \n",
      " Nut Drivers \n",
      " Cabinet 11\n",
      "\n",
      " *********************************************************** \n",
      " \n",
      "\n",
      " text =  PVC pipe cutter\n",
      "\n",
      " link items =  []\n"
     ]
    },
    {
     "name": "stderr",
     "output_type": "stream",
     "text": [
      "Batches: 100%|██████████| 1/1 [00:00<00:00, 15.72it/s]"
     ]
    },
    {
     "name": "stdout",
     "output_type": "stream",
     "text": [
      "Candidate: Hammers — [{'room': 'Main', 'container': 'Cabinet 11', 'specific': 'Shelf 5'}, {'room': 'Backstock', 'container': 'Shelf 2', 'specific': '|0'}]\n",
      "Candidate: Laser Chiller (Distilled Water) — [{'room': 'Laser3D', 'container': 'Cabinet 4', 'specific': ''}]\n",
      "Candidate: Epoxy Resin Hardener — [{'room': 'Cage', 'container': '7c', 'specific': ''}]\n",
      "Candidate: More Misc Electronics (Breadboard Circuit Components) — [{'room': 'Main', 'container': 'Black Pegboard 2', 'specific': None}]\n",
      "Candidate: Cricut Replacement Blades — [{'room': 'Cage', 'container': '1d', 'specific': ''}]\n"
     ]
    },
    {
     "name": "stderr",
     "output_type": "stream",
     "text": [
      "\n"
     ]
    },
    {
     "name": "stdout",
     "output_type": "stream",
     "text": [
      "LLM returns: \n",
      " Hammers \n",
      " Cabinet 11\n",
      "\n",
      " *********************************************************** \n",
      " \n",
      "\n",
      " text =  Lino blocks. Have been out of stock or missing in storage for at least a month now.\n",
      "\n",
      " link items =  []\n"
     ]
    },
    {
     "name": "stderr",
     "output_type": "stream",
     "text": [
      "Batches: 100%|██████████| 1/1 [00:00<00:00, 13.54it/s]"
     ]
    },
    {
     "name": "stdout",
     "output_type": "stream",
     "text": [
      "Candidate: Extra Lino Cutters — [{'room': 'Cage', 'container': 'Shelf 1E', 'specific': ''}]\n",
      "Candidate: Nuts — [{'room': 'Main', 'container': '', 'specific': ''}, {'room': 'Main', 'container': 'Cabinet 9', 'specific': ''}]\n",
      "Candidate: Extra Lino Cutter Blades — [{'room': 'Cage', 'container': 'Shelf 1E', 'specific': ''}]\n",
      "Candidate: Mini Shop Vacuum — [{'room': 'Cage', 'container': 'Floor', 'specific': None}]\n",
      "Candidate: Camera Dolly Rails — [{'room': 'Outdoor Storage', 'container': 'A2', 'specific': None}]\n"
     ]
    },
    {
     "name": "stderr",
     "output_type": "stream",
     "text": [
      "\n"
     ]
    },
    {
     "name": "stdout",
     "output_type": "stream",
     "text": [
      "LLM returns: \n",
      " Nuts \n",
      " Cabinet 9\n",
      "\n",
      " *********************************************************** \n",
      " \n",
      "\n",
      " text =  Vellum\n",
      "\n",
      " link items =  []\n"
     ]
    },
    {
     "name": "stderr",
     "output_type": "stream",
     "text": [
      "Batches: 100%|██████████| 1/1 [00:00<00:00, 20.85it/s]"
     ]
    },
    {
     "name": "stdout",
     "output_type": "stream",
     "text": [
      "Candidate: Wood Sealer — [{'room': 'Cage', 'container': '7', 'specific': None}]\n",
      "Candidate: Spool Hugging Net — [{'room': 'Main', 'container': 'Pegboard 1', 'specific': 'J3'}]\n",
      "Candidate: Ink Pads — [{'room': 'Main', 'container': 'Cabinet 4', 'specific': 'Shelf 17'}, {'room': 'Cage', 'container': '5c', 'specific': 'Stack 20|-3'}]\n",
      "Candidate: Soldering Irons — [{'room': 'Electronics', 'container': None, 'specific': None}]\n",
      "Candidate: Mixer, Mackie  — [{'room': 'Studio', 'container': 'Sound Booth', 'specific': None}]\n"
     ]
    },
    {
     "name": "stderr",
     "output_type": "stream",
     "text": [
      "\n"
     ]
    },
    {
     "name": "stdout",
     "output_type": "stream",
     "text": [
      "LLM returns: \n",
      "  \n",
      " Cabinet 7\n",
      "\n",
      " *********************************************************** \n",
      " \n",
      "\n",
      " text =  one of each color ink. I'm nervous we are running low because I see more empty cartridges and can't get into backstock right now!\n",
      "\n",
      " link items =  []\n"
     ]
    },
    {
     "name": "stderr",
     "output_type": "stream",
     "text": [
      "Batches: 100%|██████████| 1/1 [00:00<00:00, 14.35it/s]"
     ]
    },
    {
     "name": "stdout",
     "output_type": "stream",
     "text": [
      "Candidate: LFP9900 Photo Black Ink — [{'room': 'The Crypt', 'container': '3B', 'specific': ''}]\n",
      "Candidate: EPSON Printer Toner/Ink Cartridge — [{'room': 'The Crypt', 'container': '3', 'specific': ''}]\n",
      "Candidate: LFP9900 Orange Ink — [{'room': 'The Crypt', 'container': '3B', 'specific': ''}]\n",
      "Candidate: LFP8000 Yellow Ink — [{'room': 'The Crypt', 'container': '3', 'specific': ''}]\n",
      "Candidate: LFP9900 Light Cyan Ink — [{'room': 'The Crypt', 'container': '3B', 'specific': ''}]\n"
     ]
    },
    {
     "name": "stderr",
     "output_type": "stream",
     "text": [
      "\n"
     ]
    },
    {
     "name": "stdout",
     "output_type": "stream",
     "text": [
      "LLM returns: \n",
      " EPSON Printer Toner/Ink Cartridge \n",
      " LFP\n",
      "\n",
      " *********************************************************** \n",
      " \n",
      "\n",
      " text =  3dp Filament. 8 spools left, 2 orange, the rest glow in th dark.\n",
      "\n",
      " link items =  []\n"
     ]
    },
    {
     "name": "stderr",
     "output_type": "stream",
     "text": [
      "Batches: 100%|██████████| 1/1 [00:00<00:00,  4.03it/s]\n"
     ]
    },
    {
     "name": "stdout",
     "output_type": "stream",
     "text": [
      "Candidate: Laser Cutter Replacement Parts — [{'room': 'Laser3D', 'container': 'In Laser Cutter Side Panel', 'specific': ''}]\n",
      "Candidate: Darning Plate — [{'room': 'Main', 'container': 'Pegboard 1', 'specific': 'K3'}]\n",
      "Candidate: PLA Filament — [{'room': 'The Crypt', 'container': '', 'specific': ''}]\n",
      "Candidate: Spare Fuse Sift Sieve — [{'room': 'Laser3D', 'container': 'Cabinet 8', 'specific': ''}]\n",
      "Candidate: Various Stickers — [{'room': 'Main', 'container': 'Cabinet 2', 'specific': 'Shelf 5'}]\n",
      "LLM returns: \n",
      " Laser Cutter Replacement Parts \n",
      " Laser3D\n",
      "\n",
      " *********************************************************** \n",
      " \n",
      "\n",
      " text =  \n",
      "\n",
      " link items =  []\n"
     ]
    },
    {
     "name": "stderr",
     "output_type": "stream",
     "text": [
      "Batches: 100%|██████████| 1/1 [00:00<00:00,  2.66it/s]\n"
     ]
    },
    {
     "name": "stdout",
     "output_type": "stream",
     "text": [
      "Candidate: Yellow Ribbon — [{'room': 'Main', 'container': 'Cabinet 6', 'specific': 'Shelf 2'}]\n",
      "Candidate: Adjustable Bridge with Rod Clamps — [{'room': 'Studio', 'container': 'Studio 5', 'specific': 'Shelf 1'}]\n",
      "Candidate: Mixer, Mackie  — [{'room': 'Studio', 'container': 'Sound Booth', 'specific': None}]\n",
      "Candidate: USB-C Power Cable — [{'room': 'Cage', 'container': '8d', 'specific': ''}]\n",
      "Candidate: Scale (4 kg x 0.5 g) — [{'room': 'Cage', 'container': '2b', 'specific': None}]\n",
      "LLM returns: \n",
      " Yellow Ribbon \n",
      " Cabinet 6\n",
      "\n",
      " *********************************************************** \n",
      " \n",
      "\n",
      " text =  \n",
      "\n",
      " link items =  []\n"
     ]
    },
    {
     "name": "stderr",
     "output_type": "stream",
     "text": [
      "Batches: 100%|██████████| 1/1 [00:00<00:00,  6.06it/s]"
     ]
    },
    {
     "name": "stdout",
     "output_type": "stream",
     "text": [
      "Candidate: Yellow Ribbon — [{'room': 'Main', 'container': 'Cabinet 6', 'specific': 'Shelf 2'}]\n",
      "Candidate: Adjustable Bridge with Rod Clamps — [{'room': 'Studio', 'container': 'Studio 5', 'specific': 'Shelf 1'}]\n",
      "Candidate: Mixer, Mackie  — [{'room': 'Studio', 'container': 'Sound Booth', 'specific': None}]\n",
      "Candidate: USB-C Power Cable — [{'room': 'Cage', 'container': '8d', 'specific': ''}]\n",
      "Candidate: Scale (4 kg x 0.5 g) — [{'room': 'Cage', 'container': '2b', 'specific': None}]\n"
     ]
    },
    {
     "name": "stderr",
     "output_type": "stream",
     "text": [
      "\n"
     ]
    },
    {
     "name": "stdout",
     "output_type": "stream",
     "text": [
      "LLM returns: \n",
      " Yellow Ribbon \n",
      " Cabinet 6\n",
      "\n",
      " *********************************************************** \n",
      " \n",
      "\n",
      " text =  Rhinestones\n",
      "\n",
      " link items =  []\n"
     ]
    },
    {
     "name": "stderr",
     "output_type": "stream",
     "text": [
      "Batches: 100%|██████████| 1/1 [00:00<00:00,  5.11it/s]\n"
     ]
    },
    {
     "name": "stdout",
     "output_type": "stream",
     "text": [
      "Candidate: Graphite Sketch Pencil Kit — [{'room': 'Cage', 'container': '1b', 'specific': ''}]\n",
      "Candidate: Pony Beads — [{'room': 'Main', 'container': 'Cabinet 3', 'specific': 'Shelf 13'}, {'room': 'Cage', 'container': '5e', 'specific': '|4'}]\n",
      "Candidate: Clay Carving Tools — [{'room': 'Main', 'container': 'Cabinet 9', 'specific': 'Shelf 2'}]\n",
      "Candidate: Mixed Beads — [{'room': 'Main', 'container': 'Cabinet 3', 'specific': 'Shelf 12'}]\n",
      "Candidate: Pipe Wrenches — [{'room': 'Main', 'container': 'Cabinet 11', 'specific': 'Shelf 7'}]\n",
      "LLM returns: \n",
      " Mixed Beads \n",
      " Cabinet 3\n",
      "\n",
      " *********************************************************** \n",
      " \n",
      "\n",
      " text =  3D printer filament from BambuLabs, possibly some combination of bulk pricing for PLA classic ( PLA matte ( PLA metallic ( and PLA galaxy ( Obviously this is a lot of choices, but hopefully we can get a good assortment of colors and some of the intricate types too. We should have 44 slots available on the bambus for different colors, but we should probably order at least double as many rolls to have backups available. As a side note, we need to buy at least 48 rolls including the spool, but the remaining can be spoolless refill rolls (which are cheaper and easier for us to store)\n",
      "\n",
      " link items =  ['PLA Basic', 'PLA Metal', 'PLA Galaxy']\n"
     ]
    },
    {
     "name": "stderr",
     "output_type": "stream",
     "text": [
      "Batches: 100%|██████████| 1/1 [00:00<00:00,  4.33it/s]\n"
     ]
    },
    {
     "name": "stdout",
     "output_type": "stream",
     "text": [
      "Candidate: Laser Cutter Replacement Parts — [{'room': 'Laser3D', 'container': 'In Laser Cutter Side Panel', 'specific': ''}]\n",
      "Candidate: Wood Shaver — [{'room': 'Main', 'container': 'Cabinet 9', 'specific': 'Shelf 3'}]\n",
      "Candidate: Prusa Replacement Parts — [{'room': 'Laser3D', 'container': 'Cabinet 8', 'specific': ''}]\n",
      "Candidate: Boom Pole — [{'room': 'Studio', 'container': 'Next to Studio 5', 'specific': None}]\n",
      "Candidate: Phone Gimbal Tripod — [{'room': 'Studio', 'container': 'Studio 1', 'specific': 'Shelf 1'}]\n",
      "LLM returns: \n",
      " Prusa Replacement Parts \n",
      " Laser3D\n",
      "\n",
      " *********************************************************** \n",
      " \n",
      "\n",
      " text =  boxes for lino kits\n",
      "\n",
      " link items =  ['STERILITE 19638606 Large Clip Box, Clear with Blue Aquarium Latches 2 pieces (Large)']\n"
     ]
    },
    {
     "name": "stderr",
     "output_type": "stream",
     "text": [
      "Batches: 100%|██████████| 1/1 [00:00<00:00,  5.12it/s]\n"
     ]
    },
    {
     "name": "stdout",
     "output_type": "stream",
     "text": [
      "Candidate: Plastic Bobbins — [{'room': 'Main', 'container': 'Pegboard 1', 'specific': 'Bottom'}, {'room': 'Cage', 'container': '5e', 'specific': 'Pegboard Bins|-3'}]\n",
      "Candidate: Tote Bags — [{'room': 'Cage', 'container': '4b', 'specific': ''}]\n",
      "Candidate: Spare Black/White PLA Spools — [{'room': 'Laser3D', 'container': 'Cabinet 2', 'specific': ''}]\n",
      "Candidate: Dust Blower — [{'room': 'Studio', 'container': 'Studio 5', 'specific': 'Shelf 4'}]\n",
      "Candidate: Small Hot Glue Guns — [{'room': 'Main', 'container': 'Cabinet 5', 'specific': 'Shelf 2'}, {'room': 'Cage', 'container': '5d', 'specific': 'Stack 5|2'}]\n",
      "LLM returns: \n",
      "  \n",
      " Cabinet 9\n",
      "\n",
      " *********************************************************** \n",
      " \n",
      "\n",
      " text =  Monofilament illusion cord \n",
      "clear/transparent\n",
      ".015 in\n",
      "0.40mm\n",
      "164ft (50m)\n",
      "\n",
      " link items =  []\n"
     ]
    },
    {
     "name": "stderr",
     "output_type": "stream",
     "text": [
      "Batches: 100%|██████████| 1/1 [00:00<00:00,  9.11it/s]"
     ]
    },
    {
     "name": "stdout",
     "output_type": "stream",
     "text": [
      "Candidate: Holiday Decorations — [{'room': 'The Crypt', 'container': '1a, 2a', 'specific': ''}]\n",
      "Candidate: USB to XLR Female Cable, 10' — [{'room': 'Studio', 'container': 'Studio 2', 'specific': 'Shelf 8'}]\n",
      "Candidate: 6.35 mm Male to 6.35 mm Male Cable, 10' — [{'room': 'Studio', 'container': 'Sound Booth', 'specific': None}]\n",
      "Candidate: Laser Cutter Replacement Parts — [{'room': 'Laser3D', 'container': 'In Laser Cutter Side Panel', 'specific': ''}]\n",
      "Candidate: 3.5 mm Male to 3.5 mm Male Cable, 8' — [{'room': 'Studio', 'container': 'Studio 2', 'specific': 'Shelf 8'}]\n"
     ]
    },
    {
     "name": "stderr",
     "output_type": "stream",
     "text": [
      "\n"
     ]
    },
    {
     "name": "stdout",
     "output_type": "stream",
     "text": [
      "LLM returns: \n",
      "  \n",
      " Pegboard 1\n",
      "\n",
      " *********************************************************** \n",
      " \n",
      "\n",
      " text =  wood glue\n",
      "\n",
      " link items =  []\n"
     ]
    },
    {
     "name": "stderr",
     "output_type": "stream",
     "text": [
      "Batches: 100%|██████████| 1/1 [00:00<00:00,  6.52it/s]"
     ]
    },
    {
     "name": "stdout",
     "output_type": "stream",
     "text": [
      "Candidate: Matte Mod Podge — [{'room': 'Main', 'container': 'Cabinet 5', 'specific': 'Shelf 1'}, {'room': 'Cage', 'container': '5e', 'specific': ''}]\n",
      "Candidate: Tacky Glue — [{'room': 'Main', 'container': 'Cabinet 5', 'specific': 'Shelf 1'}, {'room': 'Cage', 'container': '5d', 'specific': 'Stack 4|1'}]\n",
      "Candidate: Leather Sewing Machine — [{'room': 'Cage', 'container': 'Floor', 'specific': None}]\n",
      "Candidate: Zippers — [{'room': 'Main', 'container': 'Cabinet 1', 'specific': 'Shelf 14'}, {'room': 'Cage', 'container': '5c', 'specific': 'Stack 23|-3'}]\n",
      "Candidate: Leatherworking Tools — [{'room': 'Main', 'container': 'Cabinet 9', 'specific': 'Shelf 4'}]\n"
     ]
    },
    {
     "name": "stderr",
     "output_type": "stream",
     "text": [
      "\n"
     ]
    },
    {
     "name": "stdout",
     "output_type": "stream",
     "text": [
      "LLM returns: \n",
      " Tacky Glue \n",
      " Cabinet 5\n",
      "\n",
      " *********************************************************** \n",
      " \n",
      "\n",
      " text =  rhinestones\n",
      "\n",
      " link items =  []\n"
     ]
    },
    {
     "name": "stderr",
     "output_type": "stream",
     "text": [
      "Batches: 100%|██████████| 1/1 [00:00<00:00,  4.36it/s]\n"
     ]
    },
    {
     "name": "stdout",
     "output_type": "stream",
     "text": [
      "Candidate: Graphite Sketch Pencil Kit — [{'room': 'Cage', 'container': '1b', 'specific': ''}]\n",
      "Candidate: Pony Beads — [{'room': 'Main', 'container': 'Cabinet 3', 'specific': 'Shelf 13'}, {'room': 'Cage', 'container': '5e', 'specific': '|4'}]\n",
      "Candidate: Clay Carving Tools — [{'room': 'Main', 'container': 'Cabinet 9', 'specific': 'Shelf 2'}]\n",
      "Candidate: Mixed Beads — [{'room': 'Main', 'container': 'Cabinet 3', 'specific': 'Shelf 12'}]\n",
      "Candidate: Pipe Wrenches — [{'room': 'Main', 'container': 'Cabinet 11', 'specific': 'Shelf 7'}]\n",
      "LLM returns: \n",
      " Mixed Beads \n",
      " Cabinet 3\n",
      "\n",
      " *********************************************************** \n",
      " \n",
      "\n",
      " text =  Air dry modeling clay\n",
      "\n",
      " link items =  []\n"
     ]
    },
    {
     "name": "stderr",
     "output_type": "stream",
     "text": [
      "Batches: 100%|██████████| 1/1 [00:00<00:00,  6.85it/s]"
     ]
    },
    {
     "name": "stdout",
     "output_type": "stream",
     "text": [
      "Candidate: Gold Linocut Ink  — [{'room': 'Cage', 'container': 'Shelf 1', 'specific': ''}]\n",
      "Candidate: KimTech Wipes — [{'room': 'Laser3D', 'container': 'leftmost cabinet', 'specific': ''}]\n",
      "Candidate: Spare Stranded-core wire — [{'room': 'Other', 'container': '', 'specific': None}]\n",
      "Candidate: Sand Paper Splint — [{'room': 'Main', 'container': 'Cabinet 11', 'specific': 'Top'}, {'room': 'Backstock', 'container': 'Shelf 2', 'specific': '|3'}]\n",
      "Candidate: Oil Pastel Sets — [{'room': 'Main', 'container': 'Cabinet 4', 'specific': 'Shelf 24'}, {'room': 'Cage', 'container': '5e', 'specific': '|1'}]\n"
     ]
    },
    {
     "name": "stderr",
     "output_type": "stream",
     "text": [
      "\n"
     ]
    },
    {
     "name": "stdout",
     "output_type": "stream",
     "text": [
      "LLM returns: \n",
      "  \n",
      " Cabinet 9\n",
      "\n",
      " *********************************************************** \n",
      " \n",
      "\n",
      " text =  wood glue\n",
      "\n",
      " link items =  []\n"
     ]
    },
    {
     "name": "stderr",
     "output_type": "stream",
     "text": [
      "Batches: 100%|██████████| 1/1 [00:00<00:00,  7.80it/s]"
     ]
    },
    {
     "name": "stdout",
     "output_type": "stream",
     "text": [
      "Candidate: Matte Mod Podge — [{'room': 'Main', 'container': 'Cabinet 5', 'specific': 'Shelf 1'}, {'room': 'Cage', 'container': '5e', 'specific': ''}]\n",
      "Candidate: Tacky Glue — [{'room': 'Main', 'container': 'Cabinet 5', 'specific': 'Shelf 1'}, {'room': 'Cage', 'container': '5d', 'specific': 'Stack 4|1'}]\n",
      "Candidate: Leather Sewing Machine — [{'room': 'Cage', 'container': 'Floor', 'specific': None}]\n",
      "Candidate: Zippers — [{'room': 'Main', 'container': 'Cabinet 1', 'specific': 'Shelf 14'}, {'room': 'Cage', 'container': '5c', 'specific': 'Stack 23|-3'}]\n",
      "Candidate: Leatherworking Tools — [{'room': 'Main', 'container': 'Cabinet 9', 'specific': 'Shelf 4'}]\n"
     ]
    },
    {
     "name": "stderr",
     "output_type": "stream",
     "text": [
      "\n"
     ]
    },
    {
     "name": "stdout",
     "output_type": "stream",
     "text": [
      "LLM returns: \n",
      " Tacky Glue \n",
      " Cabinet 5\n",
      "\n",
      " *********************************************************** \n",
      " \n",
      "\n",
      " text =  Rhinestone stickers\n",
      "\n",
      " link items =  ['Google']\n"
     ]
    },
    {
     "name": "stderr",
     "output_type": "stream",
     "text": [
      "Batches: 100%|██████████| 1/1 [00:00<00:00,  5.21it/s]"
     ]
    },
    {
     "name": "stdout",
     "output_type": "stream",
     "text": [
      "Candidate: Spare Soldering Iron Tips — [{'room': 'Backstock', 'container': 'Shelf 2', 'specific': None}]\n",
      "Candidate: Rubbing Compound Heavy Duty Cleaner — [{'room': 'Cage', 'container': '7', 'specific': None}]\n",
      "Candidate: Wood Stain — [{'room': 'Cage', 'container': 'Flammable', 'specific': ''}]\n",
      "Candidate: Bike Pump — [{'room': 'Cage', 'container': '2b', 'specific': None}]\n",
      "Candidate: Soldering Irons — [{'room': 'Electronics', 'container': None, 'specific': None}]\n"
     ]
    },
    {
     "name": "stderr",
     "output_type": "stream",
     "text": [
      "\n"
     ]
    },
    {
     "name": "stdout",
     "output_type": "stream",
     "text": [
      "LLM returns: \n",
      "  \n",
      " Cabinet 3\n",
      "\n",
      " *********************************************************** \n",
      " \n",
      "\n",
      " text =  \n",
      "\n",
      " link items =  []\n"
     ]
    },
    {
     "name": "stderr",
     "output_type": "stream",
     "text": [
      "Batches: 100%|██████████| 1/1 [00:00<00:00,  9.89it/s]"
     ]
    },
    {
     "name": "stdout",
     "output_type": "stream",
     "text": [
      "Candidate: Yellow Ribbon — [{'room': 'Main', 'container': 'Cabinet 6', 'specific': 'Shelf 2'}]\n",
      "Candidate: Adjustable Bridge with Rod Clamps — [{'room': 'Studio', 'container': 'Studio 5', 'specific': 'Shelf 1'}]\n",
      "Candidate: Mixer, Mackie  — [{'room': 'Studio', 'container': 'Sound Booth', 'specific': None}]\n",
      "Candidate: USB-C Power Cable — [{'room': 'Cage', 'container': '8d', 'specific': ''}]\n",
      "Candidate: Scale (4 kg x 0.5 g) — [{'room': 'Cage', 'container': '2b', 'specific': None}]\n"
     ]
    },
    {
     "name": "stderr",
     "output_type": "stream",
     "text": [
      "\n"
     ]
    },
    {
     "name": "stdout",
     "output_type": "stream",
     "text": [
      "LLM returns: \n",
      " Yellow Ribbon \n",
      " Cabinet 6\n",
      "\n",
      " *********************************************************** \n",
      " \n",
      "\n",
      " text =  \n",
      "\n",
      " link items =  []\n"
     ]
    },
    {
     "name": "stderr",
     "output_type": "stream",
     "text": [
      "Batches: 100%|██████████| 1/1 [00:00<00:00, 13.14it/s]"
     ]
    },
    {
     "name": "stdout",
     "output_type": "stream",
     "text": [
      "Candidate: Yellow Ribbon — [{'room': 'Main', 'container': 'Cabinet 6', 'specific': 'Shelf 2'}]\n",
      "Candidate: Adjustable Bridge with Rod Clamps — [{'room': 'Studio', 'container': 'Studio 5', 'specific': 'Shelf 1'}]\n",
      "Candidate: Mixer, Mackie  — [{'room': 'Studio', 'container': 'Sound Booth', 'specific': None}]\n",
      "Candidate: USB-C Power Cable — [{'room': 'Cage', 'container': '8d', 'specific': ''}]\n",
      "Candidate: Scale (4 kg x 0.5 g) — [{'room': 'Cage', 'container': '2b', 'specific': None}]\n"
     ]
    },
    {
     "name": "stderr",
     "output_type": "stream",
     "text": [
      "\n"
     ]
    },
    {
     "name": "stdout",
     "output_type": "stream",
     "text": [
      "LLM returns: \n",
      " Yellow Ribbon \n",
      " Cabinet 6\n",
      "\n",
      " *********************************************************** \n",
      " \n",
      "\n",
      " text =  Black paracord\n",
      "\n",
      " link items =  []\n"
     ]
    },
    {
     "name": "stderr",
     "output_type": "stream",
     "text": [
      "Batches: 100%|██████████| 1/1 [00:00<00:00,  9.07it/s]"
     ]
    },
    {
     "name": "stdout",
     "output_type": "stream",
     "text": [
      "Candidate: Macrame Cord — [{'room': 'Main', 'container': 'Pegboard 1', 'specific': 'Front'}, {'room': 'Cage', 'container': '5E', 'specific': 'near polyester thread'}]\n",
      "Candidate: Grey Cardstock — [{'room': 'Main', 'container': 'Cabinet 7', 'specific': ''}, {'room': 'Cage', 'container': '8d', 'specific': '|-1'}, {'room': 'Backstock', 'container': 'Shelf 4|-1', 'specific': ''}]\n",
      "Candidate: Popsicle Sticks — [{'room': 'Main', 'container': 'Cabinet 2', 'specific': 'Shelf 3'}, {'room': 'Cage', 'container': '5c', 'specific': 'Stack 22|-3'}]\n",
      "Candidate: Blue Ribbon — [{'room': 'Main', 'container': 'Cabinet 6', 'specific': 'Shelf 3'}]\n",
      "Candidate: Blending Stumps/Tortillons — [{'room': 'Main', 'container': 'Cabinet 4', 'specific': 'Shelf 11'}, {'room': 'Cage', 'container': '5c', 'specific': 'Stack 10|-3'}]\n"
     ]
    },
    {
     "name": "stderr",
     "output_type": "stream",
     "text": [
      "\n"
     ]
    },
    {
     "name": "stdout",
     "output_type": "stream",
     "text": [
      "LLM returns: \n",
      " Macrame Cord \n",
      " Pegboard 1\n",
      "\n",
      " *********************************************************** \n",
      " \n",
      "\n",
      " text =  Kim wipes\n",
      "\n",
      " link items =  []\n"
     ]
    },
    {
     "name": "stderr",
     "output_type": "stream",
     "text": [
      "Batches: 100%|██████████| 1/1 [00:00<00:00, 11.61it/s]"
     ]
    },
    {
     "name": "stdout",
     "output_type": "stream",
     "text": [
      "Candidate: Phone Gimbal — [{'room': 'Studio', 'container': 'Studio 1', 'specific': 'Shelf 1'}]\n",
      "Candidate: Air Dry Clay — [{'room': 'Main', 'container': 'Cabinet 2', 'specific': 'shelf 18'}, {'room': 'Backstock', 'container': '5', 'specific': 'b'}]\n",
      "Candidate: Fabric Shears — [{'room': 'Other', 'container': '', 'specific': ''}]\n",
      "Candidate: Protractors — [{'room': 'Main', 'container': 'Cabinet 3', 'specific': 'Shelf 2'}, {'room': 'Cage', 'container': '5c', 'specific': 'Stack 3|-3'}]\n",
      "Candidate: Jacquard Loom Digital Weaving Screwdriver Kit — [{'room': 'The Crypt', 'container': '1e', 'specific': None}]\n"
     ]
    },
    {
     "name": "stderr",
     "output_type": "stream",
     "text": [
      "\n"
     ]
    },
    {
     "name": "stdout",
     "output_type": "stream",
     "text": [
      "LLM returns: \n",
      "  \n",
      " Electronics\n",
      "\n",
      " *********************************************************** \n",
      " \n",
      "\n",
      " text =  washi tape\n",
      "\n",
      " link items =  []\n"
     ]
    },
    {
     "name": "stderr",
     "output_type": "stream",
     "text": [
      "Batches: 100%|██████████| 1/1 [00:00<00:00,  2.55it/s]\n"
     ]
    },
    {
     "name": "stdout",
     "output_type": "stream",
     "text": [
      "Candidate: Rhinestones — [{'room': 'Main', 'container': 'Cabinet 2', 'specific': 'Shelf 19'}, {'room': 'Cage', 'container': '5d', 'specific': 'Stack 12|-3'}]\n",
      "Candidate: Seam Rippers — [{'room': 'Main', 'container': 'Pegboard 1', 'specific': 'E5'}, {'room': 'Cage', 'container': '5c', 'specific': 'Stack 7|-3'}]\n",
      "Candidate: 3.5 mm Male to XLR Male Cable Short — [{'room': 'Studio', 'container': 'Studio 2', 'specific': 'Shelf 8'}]\n",
      "Candidate: LR44 Batteries — [{'room': 'Cage', 'container': '8d', 'specific': ''}]\n",
      "Candidate: Blue Masking Tape (2\") — [{'room': 'Main', 'container': 'Cabinet 5', 'specific': 'Top'}, {'room': 'Cage', 'container': '5e', 'specific': '|-3'}]\n",
      "LLM returns: \n",
      " Blue Masking Tape (2\") \n",
      " Cabinet 5\n",
      "\n",
      " *********************************************************** \n",
      " \n",
      "\n",
      " text =  Isopropyl alcohol for the 3D printers\n",
      "\n",
      " link items =  []\n"
     ]
    },
    {
     "name": "stderr",
     "output_type": "stream",
     "text": [
      "Batches: 100%|██████████| 1/1 [00:00<00:00, 12.09it/s]"
     ]
    },
    {
     "name": "stdout",
     "output_type": "stream",
     "text": [
      "Candidate: Form Resin Color Kit — [{'room': 'Laser3D', 'container': 'Cabinet 3', 'specific': None}]\n",
      "Candidate: Glowforge Lantern Kits — [{'room': 'The Crypt', 'container': '1b', 'specific': ''}]\n",
      "Candidate: Form Build Platform — [{'room': 'Laser3D', 'container': 'Cabinet 3', 'specific': ''}]\n",
      "Candidate: Form Old Resin Cartridge (<50ml left) — [{'room': 'Laser3D', 'container': 'Cabinet 3', 'specific': ''}]\n",
      "Candidate: E4 Hammer Stand Supplies (For E4 Class Only!) — [{'room': 'Laser3D', 'container': 'Cabinet 5', 'specific': ''}]\n"
     ]
    },
    {
     "name": "stderr",
     "output_type": "stream",
     "text": [
      "\n"
     ]
    },
    {
     "name": "stdout",
     "output_type": "stream",
     "text": [
      "LLM returns: \n",
      " Form Resin Color Kit \n",
      " Laser3D\n",
      "\n",
      " *********************************************************** \n",
      " \n",
      "\n",
      " text =  Small Grommets\n",
      "\n",
      " link items =  []\n"
     ]
    },
    {
     "name": "stderr",
     "output_type": "stream",
     "text": [
      "Batches: 100%|██████████| 1/1 [00:00<00:00,  3.53it/s]\n"
     ]
    },
    {
     "name": "stdout",
     "output_type": "stream",
     "text": [
      "Candidate: Safety Eyes — [{'room': 'Main', 'container': 'Pegboard 1', 'specific': ''}]\n",
      "Candidate: Wood Shaver — [{'room': 'Main', 'container': 'Cabinet 9', 'specific': 'Shelf 3'}]\n",
      "Candidate: Chalk Pastel Sets — [{'room': 'Main', 'container': 'Cabinet 4', 'specific': 'Shelf 24'}, {'room': 'Cage', 'container': '5e', 'specific': '|1'}]\n",
      "Candidate: Miscellaneous Beads — [{'room': 'Main', 'container': 'Cabinet 3', 'specific': 'Shelf 14'}]\n",
      "Candidate: Nitrile Gloves, Medium — [{'room': 'Cage', 'container': '8e', 'specific': None}]\n",
      "LLM returns: \n",
      " Safety Eyes \n",
      " Pegboard 1\n",
      "\n",
      " *********************************************************** \n",
      " \n",
      "\n",
      " text =  (Missing parts on embroidery machine - cant use without) \n",
      "(cover plate , only need one but cheaper to get 2) \n",
      "(screw for bottom panel - don't see alternative in screw case)\n",
      "\n",
      " link items =  ['Needle Plate Screw, Brother #XA1120051']\n"
     ]
    },
    {
     "name": "stderr",
     "output_type": "stream",
     "text": [
      "Batches: 100%|██████████| 1/1 [00:00<00:00,  3.97it/s]\n"
     ]
    },
    {
     "name": "stdout",
     "output_type": "stream",
     "text": [
      "Candidate: Brother Sewing Machine 18 — [{'room': 'Cage', 'container': '3e', 'specific': ''}]\n",
      "Candidate: Baby Lock Sewing Machine 17 — [{'room': 'Cage', 'container': '3d', 'specific': ''}]\n",
      "Candidate: Seam Guides — [{'room': 'Main', 'container': 'Pegboard 1', 'specific': 'D8'}, {'room': 'Cage', 'container': '5e', 'specific': 'Pegboard Bins|7'}]\n",
      "Candidate: Plastic Bags — [{'room': 'Cage', 'container': '4b', 'specific': None}]\n",
      "Candidate: Light Kit, GVM — [{'room': 'Studio', 'container': 'Studio 3', 'specific': 'Shelf 2'}]\n",
      "LLM returns: \n",
      " Seam Guides \n",
      " Pegboard 1\n",
      "\n",
      " *********************************************************** \n",
      " \n",
      "\n",
      " text =  Ceramic magnets  (cabinet 2)\n",
      "\n",
      " link items =  []\n"
     ]
    },
    {
     "name": "stderr",
     "output_type": "stream",
     "text": [
      "Batches: 100%|██████████| 1/1 [00:00<00:00,  3.74it/s]\n"
     ]
    },
    {
     "name": "stdout",
     "output_type": "stream",
     "text": [
      "Candidate: Paint Pens — [{'room': 'Main', 'container': 'Cabinet 4', 'specific': 'Shelf 2'}]\n",
      "Candidate: Medium Metal Magnets — [{'room': 'Main', 'container': 'Cabinet 2', 'specific': 'Shelf 1'}, {'room': 'Cage', 'container': '5c', 'specific': 'Stack 14|-3'}]\n",
      "Candidate: Ceramic Magnets — [{'room': 'Main', 'container': 'Cabinet 2', 'specific': 'Shelf 1'}, {'room': 'Cage', 'container': '5c', 'specific': 'Stack 14|-2'}]\n",
      "Candidate: Proficiency Buttons (Stewards Only) — [{'room': 'Cage', 'container': '8b', 'specific': None}]\n",
      "Candidate: Kim Wipes — [{'room': 'Laser3D', 'container': 'Main Table', 'specific': None}, {'room': 'Laser3D', 'container': 'Cabinet 4', 'specific': '|1'}, {'room': 'Studio', 'container': 'A3', 'specific': '|6'}]\n",
      "LLM returns: \n",
      " Ceramic Magnets \n",
      " Cabinet 2\n",
      "\n",
      " *********************************************************** \n",
      " \n",
      "\n",
      " text =  sandpaper--especially fine (over 400 grit)\n",
      "\n",
      " link items =  []\n"
     ]
    },
    {
     "name": "stderr",
     "output_type": "stream",
     "text": [
      "Batches: 100%|██████████| 1/1 [00:00<00:00, 13.98it/s]"
     ]
    },
    {
     "name": "stdout",
     "output_type": "stream",
     "text": [
      "Candidate: Digital Soldering Station — [{'room': 'Other', 'container': '', 'specific': None}]\n",
      "Candidate: Oil Pastel Sets — [{'room': 'Main', 'container': 'Cabinet 4', 'specific': 'Shelf 24'}, {'room': 'Cage', 'container': '5e', 'specific': '|1'}]\n",
      "Candidate: Drop Cloths — [{'room': 'Cage', 'container': '1a', 'specific': None}]\n",
      "Candidate: Laser Cutter Spare Lenses — [{'room': 'Cage', 'container': 'Repair Cart', 'specific': ''}]\n",
      "Candidate: Butcher Block Conditioner — [{'room': 'Cage', 'container': '7c', 'specific': None}]\n"
     ]
    },
    {
     "name": "stderr",
     "output_type": "stream",
     "text": [
      "\n"
     ]
    },
    {
     "name": "stdout",
     "output_type": "stream",
     "text": [
      "LLM returns: \n",
      "  \n",
      " Cabinet 11\n",
      "\n",
      " *********************************************************** \n",
      " \n",
      "\n",
      " text =  Canon M50 battery charger\n",
      "\n",
      " link items =  []\n"
     ]
    },
    {
     "name": "stderr",
     "output_type": "stream",
     "text": [
      "Batches: 100%|██████████| 1/1 [00:00<00:00,  5.61it/s]"
     ]
    },
    {
     "name": "stdout",
     "output_type": "stream",
     "text": [
      "Candidate: Lens Cap, Canon M50 — [{'room': 'Studio', 'container': 'Studio 5', 'specific': 'Shelf 4'}]\n",
      "Candidate: Camera Kit, Canon C200 — [{'room': 'Studio', 'container': 'Studio 5', 'specific': 'Shelf 5'}]\n",
      "Candidate: Body Cap, Nikon — [{'room': 'Studio', 'container': 'Studio 5', 'specific': 'Shelf 4'}]\n",
      "Candidate: Battery Charger, Canon M50 — [{'room': 'Studio', 'container': 'Studio 5', 'specific': 'Shelf 4'}]\n",
      "Candidate: Rear Lens Cap, Canon M50 — [{'room': 'Studio', 'container': 'Studio 5', 'specific': 'Shelf 4'}]\n"
     ]
    },
    {
     "name": "stderr",
     "output_type": "stream",
     "text": [
      "\n"
     ]
    },
    {
     "name": "stdout",
     "output_type": "stream",
     "text": [
      "LLM returns: \n",
      " Battery Charger, Canon M50 \n",
      " Studio\n",
      "\n",
      " *********************************************************** \n",
      " \n",
      "\n",
      " text =  Pattern paper /parchment paper\n",
      "\n",
      " link items =  []\n"
     ]
    },
    {
     "name": "stderr",
     "output_type": "stream",
     "text": [
      "Batches: 100%|██████████| 1/1 [00:00<00:00,  6.36it/s]"
     ]
    },
    {
     "name": "stdout",
     "output_type": "stream",
     "text": [
      "Candidate: Black Acrylic Paint — [{'room': 'Cage', 'container': '5c', 'specific': 'Stack 21|-3'}]\n",
      "Candidate: Pegboard Hardware — [{'room': 'Cage', 'container': 'Pegboard', 'specific': ''}]\n",
      "Candidate: Outdoor Timer — [{'room': 'The Crypt', 'container': '2d', 'specific': ''}]\n",
      "Candidate: Scrap Cardstock Paper — [{'room': 'Main', 'container': 'Cabinet 7', 'specific': 'Top'}]\n",
      "Candidate: Gray Ribbon — [{'room': 'Main', 'container': 'Cabinet 6', 'specific': 'Shelf 6'}]\n"
     ]
    },
    {
     "name": "stderr",
     "output_type": "stream",
     "text": [
      "\n"
     ]
    },
    {
     "name": "stdout",
     "output_type": "stream",
     "text": [
      "LLM returns: \n",
      " Scrap Cardstock Paper \n",
      " Cabinet 7\n",
      "\n",
      " *********************************************************** \n",
      " \n",
      "\n",
      " text =  Card stock paper (all colors)\n",
      "\n",
      " link items =  []\n"
     ]
    },
    {
     "name": "stderr",
     "output_type": "stream",
     "text": [
      "Batches: 100%|██████████| 1/1 [00:00<00:00,  7.20it/s]"
     ]
    },
    {
     "name": "stdout",
     "output_type": "stream",
     "text": [
      "Candidate: Red Cardstock — [{'room': 'Main', 'container': 'Cabinet 7', 'specific': ''}, {'room': 'Cage', 'container': '8d', 'specific': ''}]\n",
      "Candidate: 126 Pumpkin Thread — [{'room': 'Main', 'container': '', 'specific': ''}]\n",
      "Candidate: Scrap Books/Magazines — [{'room': 'Main', 'container': 'Cabinet 7', 'specific': 'Top'}]\n",
      "Candidate: White Cardstock — [{'room': 'Cage', 'container': '', 'specific': ''}]\n",
      "Candidate: Black Paracord — [{'room': 'Main', 'container': 'Pegboard 1', 'specific': 'Front'}]\n"
     ]
    },
    {
     "name": "stderr",
     "output_type": "stream",
     "text": [
      "\n"
     ]
    },
    {
     "name": "stdout",
     "output_type": "stream",
     "text": [
      "LLM returns: \n",
      " Red Cardstock \n",
      " Cabinet 7\n",
      "\n",
      " *********************************************************** \n",
      " \n",
      "\n",
      " text =  Rhinestones (cabinet 2)\n",
      "\n",
      " link items =  []\n"
     ]
    },
    {
     "name": "stderr",
     "output_type": "stream",
     "text": [
      "Batches: 100%|██████████| 1/1 [00:00<00:00,  7.62it/s]"
     ]
    },
    {
     "name": "stdout",
     "output_type": "stream",
     "text": [
      "Candidate: Graphite Sketch Pencil Kit — [{'room': 'Cage', 'container': '1b', 'specific': ''}]\n",
      "Candidate: Pony Beads — [{'room': 'Main', 'container': 'Cabinet 3', 'specific': 'Shelf 13'}, {'room': 'Cage', 'container': '5e', 'specific': '|4'}]\n",
      "Candidate: Safety Pins — [{'room': 'Main', 'container': 'Cabinet 3', 'specific': 'Shelf 20'}, {'room': 'Main', 'container': 'Pegboard 1', 'specific': 'C4|-3'}, {'room': 'Cage', 'container': '5c', 'specific': 'Stack 18|-3'}]\n",
      "Candidate: Sticky Notes — [{'room': 'Main', 'container': 'Cabinet 3', 'specific': 'Shelf 24'}, {'room': 'Cage', 'container': '8d', 'specific': '|-2'}, {'room': 'Cage', 'container': '5c', 'specific': 'Stack 18|-2'}]\n",
      "Candidate: Sewing Needles — [{'room': 'Main', 'container': 'Pegboard 1', 'specific': 'E1'}, {'room': 'Cage', 'container': '5e', 'specific': 'Pegboard Bins|-3'}]\n"
     ]
    },
    {
     "name": "stderr",
     "output_type": "stream",
     "text": [
      "\n"
     ]
    },
    {
     "name": "stdout",
     "output_type": "stream",
     "text": [
      "LLM returns: \n",
      " Pony Beads \n",
      " Cabinet 3\n",
      "\n",
      " *********************************************************** \n",
      " \n",
      "\n",
      " text =  clothes pins (cabinet 2)\n",
      "\n",
      " link items =  []\n"
     ]
    },
    {
     "name": "stderr",
     "output_type": "stream",
     "text": [
      "Batches: 100%|██████████| 1/1 [00:00<00:00,  3.24it/s]\n"
     ]
    },
    {
     "name": "stdout",
     "output_type": "stream",
     "text": [
      "Candidate: Cotton Swabs/Q-Tips — [{'room': 'Main', 'container': 'Cabinet 2', 'specific': 'Shelf 12'}, {'room': 'Cage', 'container': '5c', 'specific': 'Stack 15|-3'}]\n",
      "Candidate: Plastic Clips — [{'room': 'Main', 'container': 'Pegboard 1', 'specific': 'B7'}, {'room': 'Cage', 'container': '5e', 'specific': 'Pegboard Bins|-3'}]\n",
      "Candidate: Rubber Bands — [{'room': 'Main', 'container': 'Cabinet 3', 'specific': 'Shelf 19'}, {'room': 'Cage', 'container': '5d', 'specific': 'Stack 15|-3'}]\n",
      "Candidate: Velcro — [{'room': 'Main', 'container': 'Cabinet 1', 'specific': 'Shelf 17'}, {'room': 'Cage', 'container': '5d', 'specific': 'Stack 6|-3'}]\n",
      "Candidate:  Stencils — [{'room': 'Main', 'container': 'Cabinet 3', 'specific': 'Shelf 22'}, {'room': 'Backstock', 'container': 'Shelf 2', 'specific': '|11'}]\n",
      "LLM returns: \n",
      " Cotton Swabs/Q-Tips \n",
      " Cabinet 2\n",
      "\n",
      " *********************************************************** \n",
      " \n",
      "\n",
      " text =  Wood glue\n",
      "\n",
      " link items =  []\n"
     ]
    },
    {
     "name": "stderr",
     "output_type": "stream",
     "text": [
      "Batches: 100%|██████████| 1/1 [00:00<00:00,  3.52it/s]\n"
     ]
    },
    {
     "name": "stdout",
     "output_type": "stream",
     "text": [
      "Candidate: Matte Mod Podge — [{'room': 'Main', 'container': 'Cabinet 5', 'specific': 'Shelf 1'}, {'room': 'Cage', 'container': '5e', 'specific': ''}]\n",
      "Candidate: Tacky Glue — [{'room': 'Main', 'container': 'Cabinet 5', 'specific': 'Shelf 1'}, {'room': 'Cage', 'container': '5d', 'specific': 'Stack 4|1'}]\n",
      "Candidate: Leather Sewing Machine — [{'room': 'Cage', 'container': 'Floor', 'specific': None}]\n",
      "Candidate: Zippers — [{'room': 'Main', 'container': 'Cabinet 1', 'specific': 'Shelf 14'}, {'room': 'Cage', 'container': '5c', 'specific': 'Stack 23|-3'}]\n",
      "Candidate: Leatherworking Tools — [{'room': 'Main', 'container': 'Cabinet 9', 'specific': 'Shelf 4'}]\n",
      "LLM returns: \n",
      " Tacky Glue \n",
      " Cabinet 5\n",
      "\n",
      " *********************************************************** \n",
      " \n",
      "\n",
      " text =  Towels/rags (for paint and stain)\n",
      "\n",
      " link items =  []\n"
     ]
    },
    {
     "name": "stderr",
     "output_type": "stream",
     "text": [
      "Batches: 100%|██████████| 1/1 [00:00<00:00,  5.36it/s]"
     ]
    },
    {
     "name": "stdout",
     "output_type": "stream",
     "text": [
      "Candidate: Chip Brushes — [{'room': 'Main', 'container': 'cabinet 4 shelf 12', 'specific': None}]\n",
      "Candidate: Cardboard — [{'room': 'Main', 'container': 'Fabrics Area', 'specific': None}]\n",
      "Candidate: Spare Computer Mice — [{'room': 'The Crypt', 'container': '2c', 'specific': None}]\n",
      "Candidate: Fabric Spray Paint — [{'room': 'Other', 'container': 'Spray Paint Booth', 'specific': 'Flammable'}]\n",
      "Candidate: Fabric Shears — [{'room': 'Other', 'container': '', 'specific': ''}]\n"
     ]
    },
    {
     "name": "stderr",
     "output_type": "stream",
     "text": [
      "\n"
     ]
    },
    {
     "name": "stdout",
     "output_type": "stream",
     "text": [
      "LLM returns: \n",
      " Chip Brushes \n",
      " Cabinet 4\n",
      "\n",
      " *********************************************************** \n",
      " \n",
      "\n",
      " text =  \n",
      "\n",
      " link items =  []\n"
     ]
    },
    {
     "name": "stderr",
     "output_type": "stream",
     "text": [
      "Batches: 100%|██████████| 1/1 [00:00<00:00,  5.94it/s]"
     ]
    },
    {
     "name": "stdout",
     "output_type": "stream",
     "text": [
      "Candidate: Yellow Ribbon — [{'room': 'Main', 'container': 'Cabinet 6', 'specific': 'Shelf 2'}]\n",
      "Candidate: Adjustable Bridge with Rod Clamps — [{'room': 'Studio', 'container': 'Studio 5', 'specific': 'Shelf 1'}]\n",
      "Candidate: Mixer, Mackie  — [{'room': 'Studio', 'container': 'Sound Booth', 'specific': None}]\n",
      "Candidate: USB-C Power Cable — [{'room': 'Cage', 'container': '8d', 'specific': ''}]\n",
      "Candidate: Scale (4 kg x 0.5 g) — [{'room': 'Cage', 'container': '2b', 'specific': None}]\n"
     ]
    },
    {
     "name": "stderr",
     "output_type": "stream",
     "text": [
      "\n"
     ]
    },
    {
     "name": "stdout",
     "output_type": "stream",
     "text": [
      "LLM returns: \n",
      " Yellow Ribbon \n",
      " Cabinet 6\n",
      "\n",
      " *********************************************************** \n",
      " \n",
      "\n",
      " text =  Seam Rippers\n",
      "\n",
      " link items =  []\n"
     ]
    },
    {
     "name": "stderr",
     "output_type": "stream",
     "text": [
      "Batches: 100%|██████████| 1/1 [00:00<00:00,  4.67it/s]\n"
     ]
    },
    {
     "name": "stdout",
     "output_type": "stream",
     "text": [
      "Candidate: Thread Cutters — [{'room': 'Main', 'container': 'Pegboard 1', 'specific': 'E7'}, {'room': 'Cage', 'container': '5c', 'specific': 'Stack 7|13'}]\n",
      "Candidate: Plastic Needles — [{'room': 'Main', 'container': 'Pegboard 1', 'specific': 'D2'}, {'room': 'Cage', 'container': '5e', 'specific': 'Pegboard Bins|-3'}]\n",
      "Candidate: Fabric Spray Paint — [{'room': 'Other', 'container': 'Spray Paint Booth', 'specific': 'Flammable'}]\n",
      "Candidate: Scissors — [{'room': 'Main', 'container': 'Cabinet 3', 'specific': 'Shelf 1'}, {'room': 'Cage', 'container': '5d', 'specific': 'Stack 1|-3'}]\n",
      "Candidate: Crafting Books — [{'room': 'Main', 'container': 'Fabrics', 'specific': None}]\n",
      "LLM returns: \n",
      " Thread Cutters \n",
      " Pegboard 1\n",
      "\n",
      " *********************************************************** \n",
      " \n",
      "\n",
      " text =  Color card stock and Kraft card stock and regular white card stock\n",
      "\n",
      " link items =  []\n"
     ]
    },
    {
     "name": "stderr",
     "output_type": "stream",
     "text": [
      "Batches: 100%|██████████| 1/1 [00:00<00:00,  6.19it/s]"
     ]
    },
    {
     "name": "stdout",
     "output_type": "stream",
     "text": [
      "Candidate: Red Cardstock — [{'room': 'Main', 'container': 'Cabinet 7', 'specific': ''}, {'room': 'Cage', 'container': '8d', 'specific': ''}]\n",
      "Candidate: 126 Pumpkin Thread — [{'room': 'Main', 'container': '', 'specific': ''}]\n",
      "Candidate: White Cardstock — [{'room': 'Cage', 'container': '', 'specific': ''}]\n",
      "Candidate: Black Paracord — [{'room': 'Main', 'container': 'Pegboard 1', 'specific': 'Front'}]\n",
      "Candidate: Scrap Books/Magazines — [{'room': 'Main', 'container': 'Cabinet 7', 'specific': 'Top'}]\n"
     ]
    },
    {
     "name": "stderr",
     "output_type": "stream",
     "text": [
      "\n"
     ]
    },
    {
     "name": "stdout",
     "output_type": "stream",
     "text": [
      "LLM returns: \n",
      " Red Cardstock \n",
      " Cabinet 7\n",
      "\n",
      " *********************************************************** \n",
      " \n",
      "\n",
      " text =  Calipers - We have none!\n",
      "\n",
      " link items =  []\n"
     ]
    },
    {
     "name": "stderr",
     "output_type": "stream",
     "text": [
      "Batches: 100%|██████████| 1/1 [00:00<00:00,  6.67it/s]"
     ]
    },
    {
     "name": "stdout",
     "output_type": "stream",
     "text": [
      "Candidate: Welding Canisters — [{'room': 'Cage', 'container': 'Wall', 'specific': None}]\n",
      "Candidate: Jewelry Wire Cutters — [{'room': 'Main', 'container': 'Cabinet 3', 'specific': 'Shelf 3'}, {'room': 'Cage', 'container': '5c', 'specific': 'Stack 4|4'}]\n",
      "Candidate: Isopropyl Alcohol — [{'room': 'Cage', 'container': 'Flammable', 'specific': ''}, {'room': 'Laser3D', 'container': 'Cabinet 4', 'specific': '|1'}]\n",
      "Candidate: PTFE Tape — [{'room': 'Cage', 'container': '8d', 'specific': ''}]\n",
      "Candidate: Caution Tape — [{'room': 'Cage', 'container': '8b', 'specific': None}]\n"
     ]
    },
    {
     "name": "stderr",
     "output_type": "stream",
     "text": [
      "\n"
     ]
    },
    {
     "name": "stdout",
     "output_type": "stream",
     "text": [
      "LLM returns: \n",
      "  \n",
      " Cabinet 11\n",
      "\n",
      " *********************************************************** \n",
      " \n",
      "\n",
      " text =  1 pack (containing 2 boxes) of these boxes for lino kits:\n",
      "\n",
      " link items =  ['404 Not Found']\n"
     ]
    },
    {
     "name": "stderr",
     "output_type": "stream",
     "text": [
      "Batches: 100%|██████████| 1/1 [00:00<00:00,  7.55it/s]"
     ]
    },
    {
     "name": "stdout",
     "output_type": "stream",
     "text": [
      "Candidate: Rubbing Compound Heavy Duty Cleaner — [{'room': 'Cage', 'container': '7', 'specific': None}]\n",
      "Candidate: 399 Warm Gray Thread — [{'room': 'Main', 'container': '', 'specific': ''}]\n",
      "Candidate: Cold Shoe Adaptor — [{'room': 'Studio', 'container': 'Studio 1', 'specific': 'Shelf 1'}]\n",
      "Candidate: USB to USB-C Cable, Phone Gimbal Kit — [{'room': 'Studio', 'container': 'Studio 1', 'specific': 'Shelf 1'}]\n",
      "Candidate: Shock Mount — [{'room': 'Studio', 'container': 'Studio 2', 'specific': 'Shelf 6'}]\n"
     ]
    },
    {
     "name": "stderr",
     "output_type": "stream",
     "text": [
      "\n"
     ]
    },
    {
     "name": "stdout",
     "output_type": "stream",
     "text": [
      "LLM returns: \n",
      "  \n",
      " Cabinet 9\n",
      "\n",
      " *********************************************************** \n",
      " \n",
      "\n",
      " text =  3 rollers (for 3 additional lino kits). These are 4 inch wide, matching the other ones we have\n",
      "\n",
      " link items =  ['Speedball Soft Rubber Brayer - Black, 4\"']\n"
     ]
    },
    {
     "name": "stderr",
     "output_type": "stream",
     "text": [
      "Batches: 100%|██████████| 1/1 [00:00<00:00,  4.38it/s]\n"
     ]
    },
    {
     "name": "stdout",
     "output_type": "stream",
     "text": [
      "Candidate: Ziploc Plastic Bags (Gallon) — [{'room': 'Main', 'container': 'Cabinet 2', 'specific': 'Shelf 2'}, {'room': 'Cage', 'container': '5b', 'specific': '|12'}, {'room': 'Cage', 'container': '8e', 'specific': '|1'}]\n",
      "Candidate: Miscellaneous Beads — [{'room': 'Main', 'container': 'Cabinet 3', 'specific': 'Shelf 14'}]\n",
      "Candidate: Plastic Lacing Cord — [{'room': 'Main', 'container': 'Cabinet 3', 'specific': 'Shelf 7'}, {'room': 'Cage', 'container': '5c', 'specific': 'Stack 21|-3'}]\n",
      "Candidate: USB-C to USB-A Adapter — [{'room': 'Cage', 'container': '8d', 'specific': ''}]\n",
      "Candidate: Loom Hooks — [{'room': 'The Crypt', 'container': '', 'specific': None}]\n",
      "LLM returns: \n",
      "  \n",
      " Cabinet 9\n",
      "\n",
      " *********************************************************** \n",
      " \n",
      "\n",
      " text =  6 sets of 5 cutters.\n",
      "\n",
      " link items =  ['Speedball Linoleum Cutters - Lino Cutter No. 1, Set of 5 Cutters', 'Speedball Soft Rubber Brayer - Black, 4\"']\n"
     ]
    },
    {
     "name": "stderr",
     "output_type": "stream",
     "text": [
      "Batches: 100%|██████████| 1/1 [00:00<00:00,  9.90it/s]"
     ]
    },
    {
     "name": "stdout",
     "output_type": "stream",
     "text": [
      "Candidate: Extra Lino Cutter Blades — [{'room': 'Cage', 'container': 'Shelf 1E', 'specific': ''}]\n",
      "Candidate: Rubber Rollers — [{'room': 'Cage', 'container': 'Shelf 1E', 'specific': 'within lino kit'}]\n",
      "Candidate: More Misc Electronics (Breadboard Circuit Components) — [{'room': 'Main', 'container': 'Black Pegboard 2', 'specific': None}]\n",
      "Candidate: Laser Cutter Cleaning Tools — [{'room': 'Laser3D', 'container': 'In Laser Cutter Side Panel', 'specific': None}]\n",
      "Candidate: Ziploc Plastic Bags (Gallon) — [{'room': 'Main', 'container': 'Cabinet 2', 'specific': 'Shelf 2'}, {'room': 'Cage', 'container': '5b', 'specific': '|12'}, {'room': 'Cage', 'container': '8e', 'specific': '|1'}]\n"
     ]
    },
    {
     "name": "stderr",
     "output_type": "stream",
     "text": [
      "\n"
     ]
    },
    {
     "name": "stdout",
     "output_type": "stream",
     "text": [
      "LLM returns: \n",
      "  \n",
      " Cabinet 9\n",
      "\n",
      " *********************************************************** \n",
      " \n",
      "\n",
      " text =  large embroider hoops: \n",
      " for replacement hoops\n",
      "     for just the screws (order 5 pack)\n",
      "\n",
      " link items =  []\n"
     ]
    },
    {
     "name": "stderr",
     "output_type": "stream",
     "text": [
      "Batches: 100%|██████████| 1/1 [00:00<00:00, 11.95it/s]"
     ]
    },
    {
     "name": "stdout",
     "output_type": "stream",
     "text": [
      "Candidate: Ratchet Kit — [{'room': 'Cage', 'container': '2b', 'specific': None}]\n",
      "Candidate: Circular Knitting Needles — [{'room': 'Main', 'container': 'Cabinet 1', 'specific': 'Shelf 4'}, {'room': 'Cage', 'container': '5c', 'specific': 'Stack 24|-3'}]\n",
      "Candidate: Plastic Bags — [{'room': 'Cage', 'container': '4b', 'specific': None}]\n",
      "Candidate: Spare Embroidery Machine Power Cables — [{'room': 'Cage', 'container': '3b', 'specific': None}]\n",
      "Candidate: Needle Files — [{'room': 'Main', 'container': 'Cabinet 11', 'specific': 'Shelf 3'}, {'room': 'Cage', 'container': '5c', 'specific': 'Stack 12|-2'}]\n"
     ]
    },
    {
     "name": "stderr",
     "output_type": "stream",
     "text": [
      "\n"
     ]
    },
    {
     "name": "stdout",
     "output_type": "stream",
     "text": [
      "LLM returns: \n",
      "  \n",
      " Fabric\n",
      "\n",
      " *********************************************************** \n",
      " \n",
      "\n",
      " text =  Colorful sharpies\n",
      "\n",
      " link items =  []\n"
     ]
    },
    {
     "name": "stderr",
     "output_type": "stream",
     "text": [
      "Batches: 100%|██████████| 1/1 [00:00<00:00, 10.59it/s]"
     ]
    },
    {
     "name": "stdout",
     "output_type": "stream",
     "text": [
      "Candidate: Push Pins — [{'room': 'Main', 'container': 'Cabinet 3', 'specific': 'Shelf 23'}, {'room': 'Cage', 'container': '5c', 'specific': 'Stack 16|-3'}]\n",
      "Candidate: Popsicle Sticks — [{'room': 'Main', 'container': 'Cabinet 2', 'specific': 'Shelf 3'}, {'room': 'Cage', 'container': '5c', 'specific': 'Stack 22|-3'}]\n",
      "Candidate: Colored Sharpies — [{'room': 'Main', 'container': 'Cabinet 4', 'specific': 'Shelf 1'}, {'room': 'Cage', 'container': '5c', 'specific': 'Stack 10|-3'}]\n",
      "Candidate: Black Sharpies — [{'room': 'Main', 'container': 'Cabinet 4', 'specific': 'Shelf 1'}, {'room': 'Cage', 'container': '5c', 'specific': 'Stack 11|-3'}, {'room': 'Cage', 'container': '8d', 'specific': '|-3'}]\n",
      "Candidate: (9000) LFP Natural Paper 44x40 — [{'room': 'The Crypt', 'container': '', 'specific': ''}]\n"
     ]
    },
    {
     "name": "stderr",
     "output_type": "stream",
     "text": [
      "\n"
     ]
    },
    {
     "name": "stdout",
     "output_type": "stream",
     "text": [
      "LLM returns: \n",
      " Colored Sharpies \n",
      " Cabinet 4\n",
      "\n",
      " *********************************************************** \n",
      " \n",
      "\n",
      " text =  Fuse powder\n",
      "We currently have less than half of what we bought previously remaining, so it’d be a good time to buy more\n",
      "\n",
      " link items =  []\n"
     ]
    },
    {
     "name": "stderr",
     "output_type": "stream",
     "text": [
      "Batches: 100%|██████████| 1/1 [00:00<00:00,  5.15it/s]"
     ]
    },
    {
     "name": "stdout",
     "output_type": "stream",
     "text": [
      "Candidate: Spare Fuse Sift Tank — [{'room': 'Laser3D', 'container': 'Cabinet 8', 'specific': ''}]\n",
      "Candidate: Fuse Cleaning Supplies — [{'room': 'Laser3D', 'container': 'Cabinet 8', 'specific': ''}]\n",
      "Candidate: Waterjet Abrasive — [{'room': 'Laser3D', 'container': 'Cabinet 7', 'specific': ''}, {'room': 'Outdoor Storage', 'container': 'D4', 'specific': '|-3'}]\n",
      "Candidate: Cotton Balls — [{'room': 'Main', 'container': 'Cabinet 2', 'specific': 'Shelf 22'}, {'room': 'Cage', 'container': '5d', 'specific': 'Stack 11|-3'}]\n",
      "Candidate: Erasers — [{'room': 'Main', 'container': 'Cabinet 4', 'specific': 'Shelf 11'}, {'room': 'Cage', 'container': '5c', 'specific': 'Stack 10|-3'}]\n"
     ]
    },
    {
     "name": "stderr",
     "output_type": "stream",
     "text": [
      "\n"
     ]
    },
    {
     "name": "stdout",
     "output_type": "stream",
     "text": [
      "LLM returns: \n",
      " Fuse Cleaning Supplies \n",
      " Laser3D\n",
      "\n",
      " *********************************************************** \n",
      " \n",
      "\n",
      " text =  SD Cards for the Studio Cameras\n",
      "Currently the Nikon doesn’t have any SD cards and the smaller Canon has one but we have no spare.\n",
      "\n",
      " link items =  []\n"
     ]
    },
    {
     "name": "stderr",
     "output_type": "stream",
     "text": [
      "Batches: 100%|██████████| 1/1 [00:00<00:00, 10.54it/s]"
     ]
    },
    {
     "name": "stdout",
     "output_type": "stream",
     "text": [
      "Candidate: Wall Tape — [{'room': 'Cage', 'container': '8d', 'specific': ''}]\n",
      "Candidate: Battery, Canon M50 — [{'room': 'Studio', 'container': 'Studio 5', 'specific': 'Shelf 4'}]\n",
      "Candidate: Double Sided Interfacing Tape — [{'room': 'Main', 'container': 'Fabrics', 'specific': ''}]\n",
      "Candidate: Whiteboard Cleaner — [{'room': 'Cage', 'container': '8e', 'specific': None}]\n",
      "Candidate: Laser Cutter Wood Stock — [{'room': 'Outdoor Storage', 'container': 'C3, D3, E3', 'specific': None}]\n"
     ]
    },
    {
     "name": "stderr",
     "output_type": "stream",
     "text": [
      "\n"
     ]
    },
    {
     "name": "stdout",
     "output_type": "stream",
     "text": [
      "LLM returns: \n",
      " Battery, Canon M50 \n",
      " Studio\n",
      "\n",
      " *********************************************************** \n",
      " \n",
      "\n",
      " text =  fabric interfacing\n",
      "\n",
      " link items =  []\n"
     ]
    },
    {
     "name": "stderr",
     "output_type": "stream",
     "text": [
      "Batches: 100%|██████████| 1/1 [00:00<00:00,  6.56it/s]"
     ]
    },
    {
     "name": "stdout",
     "output_type": "stream",
     "text": [
      "Candidate: Leather Sewing Machine — [{'room': 'Cage', 'container': 'Floor', 'specific': None}]\n",
      "Candidate: Large Zip Ties — [{'room': 'Main', 'container': 'Shelf 2', 'specific': 'Cabinet 4'}, {'room': 'Cage', 'container': '5c', 'specific': 'Stack 2|-3'}]\n",
      "Candidate: Seam Rippers — [{'room': 'Main', 'container': 'Pegboard 1', 'specific': 'E5'}, {'room': 'Cage', 'container': '5c', 'specific': 'Stack 7|-3'}]\n",
      "Candidate: Scissors — [{'room': 'Main', 'container': 'Cabinet 3', 'specific': 'Shelf 1'}, {'room': 'Cage', 'container': '5d', 'specific': 'Stack 1|-3'}]\n",
      "Candidate: Lens Cleaning Brush — [{'room': 'Studio', 'container': 'Studio 5', 'specific': 'Shelf 4'}]\n"
     ]
    },
    {
     "name": "stderr",
     "output_type": "stream",
     "text": [
      "\n"
     ]
    },
    {
     "name": "stdout",
     "output_type": "stream",
     "text": [
      "LLM returns: \n",
      "  \n",
      " Fabric\n",
      "\n",
      " *********************************************************** \n",
      " \n",
      "\n",
      " text =  embroidery backing fabric\n",
      "\n",
      " link items =  []\n"
     ]
    },
    {
     "name": "stderr",
     "output_type": "stream",
     "text": [
      "Batches: 100%|██████████| 1/1 [00:00<00:00,  9.15it/s]"
     ]
    },
    {
     "name": "stdout",
     "output_type": "stream",
     "text": [
      "Candidate: Plastic Scrapers — [{'room': 'Main', 'container': 'Cabinet 4', 'specific': 'Shelf 14'}, {'room': 'Cage', 'container': '5c', 'specific': 'Stack 20|-2'}]\n",
      "Candidate: Permanent Fabric Markers — [{'room': 'Main', 'container': 'Cabinet 1', 'specific': 'Shelf 6'}, {'room': 'Cage', 'container': '5e', 'specific': '|-3'}]\n",
      "Candidate: Fabric Scissors — [{'room': 'Main', 'container': 'Cabinet 1', 'specific': 'Shelf 1'}, {'room': 'Cage', 'container': '5d', 'specific': 'Stack 1|-3'}]\n",
      "Candidate: Leather Sewing Machine — [{'room': 'Cage', 'container': 'Floor', 'specific': None}]\n",
      "Candidate: Seam Rippers — [{'room': 'Main', 'container': 'Pegboard 1', 'specific': 'E5'}, {'room': 'Cage', 'container': '5c', 'specific': 'Stack 7|-3'}]\n"
     ]
    },
    {
     "name": "stderr",
     "output_type": "stream",
     "text": [
      "\n"
     ]
    },
    {
     "name": "stdout",
     "output_type": "stream",
     "text": [
      "LLM returns: \n",
      "  \n",
      " Fabric\n",
      "\n",
      " *********************************************************** \n",
      " \n",
      "\n",
      " text =  Plastic Ruler (12'') there are none in cabinet 3 (only protractors) and cannot find any in the cage\n",
      "\n",
      " link items =  []\n"
     ]
    },
    {
     "name": "stderr",
     "output_type": "stream",
     "text": [
      "Batches: 100%|██████████| 1/1 [00:00<00:00, 12.35it/s]"
     ]
    },
    {
     "name": "stdout",
     "output_type": "stream",
     "text": [
      "Candidate: Fabric Glue — [{'room': 'Main', 'container': 'Cabinet 5', 'specific': 'Shelf 1'}, {'room': 'Cage', 'container': '5d', 'specific': 'Stack 4|3'}]\n",
      "Candidate: Spare Coping Saw Blades — [{'room': 'Cage', 'container': 'Pegboard', 'specific': ''}]\n",
      "Candidate: Medium Metal Ruler (18\") — [{'room': 'Cage', 'container': 'Pegboard', 'specific': ''}]\n",
      "Candidate: Large Metal Ruler (24\") — [{'room': 'Cage', 'container': 'Pegboard', 'specific': ''}]\n",
      "Candidate: Large Wooden Dowels (1/4\" x 12\") — [{'room': 'Main', 'container': 'Cabinet 2', 'specific': 'Shelf 6'}, {'room': 'Cage', 'container': '5d', 'specific': 'Stack 14|-2'}]\n"
     ]
    },
    {
     "name": "stderr",
     "output_type": "stream",
     "text": [
      "\n"
     ]
    },
    {
     "name": "stdout",
     "output_type": "stream",
     "text": [
      "LLM returns: \n",
      " Medium Metal Ruler (18\") \n",
      " Cage/Crypt/Other\n",
      "\n",
      " *********************************************************** \n",
      " \n",
      "\n",
      " text =  PLA for Bambus\n",
      "\n",
      " link items =  []\n"
     ]
    },
    {
     "name": "stderr",
     "output_type": "stream",
     "text": [
      "Batches: 100%|██████████| 1/1 [00:00<00:00,  4.29it/s]\n"
     ]
    },
    {
     "name": "stdout",
     "output_type": "stream",
     "text": [
      "Candidate: Laser Cutter Replacement Parts — [{'room': 'Laser3D', 'container': 'In Laser Cutter Side Panel', 'specific': ''}]\n",
      "Candidate: 607 Wisteria Violet Thread — [{'room': 'Main', 'container': '', 'specific': ''}]\n",
      "Candidate: Prusa Replacement Parts — [{'room': 'Laser3D', 'container': 'Cabinet 8', 'specific': ''}]\n",
      "Candidate: Felt Sheets — [{'room': 'Main', 'container': 'Fabrics', 'specific': ''}]\n",
      "Candidate: Blue Ribbon — [{'room': 'Main', 'container': 'Cabinet 6', 'specific': 'Shelf 3'}]\n",
      "LLM returns: \n",
      " Prusa Replacement Parts \n",
      " Laser3D\n",
      "\n",
      " *********************************************************** \n",
      " \n",
      "\n",
      " text =  Soldering lead tips\n",
      "\n",
      " link items =  []\n"
     ]
    },
    {
     "name": "stderr",
     "output_type": "stream",
     "text": [
      "Batches: 100%|██████████| 1/1 [00:00<00:00,  7.66it/s]"
     ]
    },
    {
     "name": "stdout",
     "output_type": "stream",
     "text": [
      "Candidate: Crochet Hooks — [{'room': 'Main', 'container': 'Cabinet 1', 'specific': 'Shelf 5'}, {'room': 'Cage', 'container': '5c', 'specific': 'Stack 25|-3'}]\n",
      "Candidate: Analog Loom Replacement Parts — [{'room': 'The Crypt', 'container': '1e', 'specific': ''}]\n",
      "Candidate: Vice Grips — [{'room': 'Main', 'container': 'Cabinet 11', 'specific': 'Shelf 7'}]\n",
      "Candidate: Paint Wipes — [{'room': 'Cage', 'container': '8e', 'specific': None}]\n",
      "Candidate: AxiDraw — [{'room': 'Cage', 'container': '1d', 'specific': None}]\n"
     ]
    },
    {
     "name": "stderr",
     "output_type": "stream",
     "text": [
      "\n"
     ]
    },
    {
     "name": "stdout",
     "output_type": "stream",
     "text": [
      "LLM returns: \n",
      "  \n",
      " Electronics\n",
      "\n",
      " *********************************************************** \n",
      " \n",
      "\n",
      " text =  1 soldering fan (for 1 regular soldering kit):\n",
      "\n",
      " link items =  []\n"
     ]
    },
    {
     "name": "stderr",
     "output_type": "stream",
     "text": [
      "Batches: 100%|██████████| 1/1 [00:00<00:00,  7.27it/s]"
     ]
    },
    {
     "name": "stdout",
     "output_type": "stream",
     "text": [
      "Candidate: honing guide — [{'room': 'Cage', 'container': 'Cabinet 9', 'specific': 'Shelf 3'}]\n",
      "Candidate: Paint Wipes — [{'room': 'Cage', 'container': '8e', 'specific': None}]\n",
      "Candidate: Replacement Sewing Machine Ankle — [{'room': 'Cage', 'container': 'Repair Cart', 'specific': ''}]\n",
      "Candidate: De-Soldering Pumps — [{'room': 'Backstock', 'container': 'Shelf 2', 'specific': None}]\n",
      "Candidate: Crochet Hooks — [{'room': 'Main', 'container': 'Cabinet 1', 'specific': 'Shelf 5'}, {'room': 'Cage', 'container': '5c', 'specific': 'Stack 25|-3'}]\n"
     ]
    },
    {
     "name": "stderr",
     "output_type": "stream",
     "text": [
      "\n"
     ]
    },
    {
     "name": "stdout",
     "output_type": "stream",
     "text": [
      "LLM returns: \n",
      "  \n",
      " Electronics\n",
      "\n",
      " *********************************************************** \n",
      " \n",
      "\n",
      " text =  1 soldering cleaner (for 1 regular soldering kit):\n",
      "\n",
      " link items =  []\n"
     ]
    },
    {
     "name": "stderr",
     "output_type": "stream",
     "text": [
      "Batches: 100%|██████████| 1/1 [00:00<00:00,  6.89it/s]"
     ]
    },
    {
     "name": "stdout",
     "output_type": "stream",
     "text": [
      "Candidate: Vice Grips — [{'room': 'Main', 'container': 'Cabinet 11', 'specific': 'Shelf 7'}]\n",
      "Candidate: honing guide — [{'room': 'Cage', 'container': 'Cabinet 9', 'specific': 'Shelf 3'}]\n",
      "Candidate: Paint Wipes — [{'room': 'Cage', 'container': '8e', 'specific': None}]\n",
      "Candidate: Erasers — [{'room': 'Main', 'container': 'Cabinet 4', 'specific': 'Shelf 11'}, {'room': 'Cage', 'container': '5c', 'specific': 'Stack 10|-3'}]\n",
      "Candidate: Transmitter, Lectrosonics — [{'room': 'Studio', 'container': 'Studio 2', 'specific': 'Shelf 2'}]\n"
     ]
    },
    {
     "name": "stderr",
     "output_type": "stream",
     "text": [
      "\n"
     ]
    },
    {
     "name": "stdout",
     "output_type": "stream",
     "text": [
      "LLM returns: \n",
      "  \n",
      " Electronics\n",
      "\n",
      " *********************************************************** \n",
      " \n",
      "\n",
      " text =  10 soldering third hands (for 4 jewelry soldering kits + regular soldering kits since they are way better than clamps) :\n",
      "\n",
      " link items =  []\n"
     ]
    },
    {
     "name": "stderr",
     "output_type": "stream",
     "text": [
      "Batches: 100%|██████████| 1/1 [00:00<00:00,  6.10it/s]"
     ]
    },
    {
     "name": "stdout",
     "output_type": "stream",
     "text": [
      "Candidate: honing guide — [{'room': 'Cage', 'container': 'Cabinet 9', 'specific': 'Shelf 3'}]\n",
      "Candidate: Paint Wipes — [{'room': 'Cage', 'container': '8e', 'specific': None}]\n",
      "Candidate: Crochet Hooks — [{'room': 'Main', 'container': 'Cabinet 1', 'specific': 'Shelf 5'}, {'room': 'Cage', 'container': '5c', 'specific': 'Stack 25|-3'}]\n",
      "Candidate: Analog Loom Replacement Parts — [{'room': 'The Crypt', 'container': '1e', 'specific': ''}]\n",
      "Candidate: AxiDraw — [{'room': 'Cage', 'container': '1d', 'specific': None}]\n"
     ]
    },
    {
     "name": "stderr",
     "output_type": "stream",
     "text": [
      "\n"
     ]
    },
    {
     "name": "stdout",
     "output_type": "stream",
     "text": [
      "LLM returns: \n",
      "  \n",
      " Electronics\n",
      "\n",
      " *********************************************************** \n",
      " \n",
      "\n",
      " text =  post it notes:\n",
      "\n",
      " link items =  []\n"
     ]
    },
    {
     "name": "stderr",
     "output_type": "stream",
     "text": [
      "Batches: 100%|██████████| 1/1 [00:00<00:00, 13.44it/s]"
     ]
    },
    {
     "name": "stdout",
     "output_type": "stream",
     "text": [
      "Candidate: Flashlight — [{'room': 'Cage', 'container': '8d', 'specific': 'In Batteries Drawer'}]\n",
      "Candidate: lens kit — [{'room': 'Studio', 'container': '', 'specific': ''}]\n",
      "Candidate: Wood Stain — [{'room': 'Cage', 'container': 'Flammable', 'specific': ''}]\n",
      "Candidate: 005 Silver Thread — [{'room': 'Main', 'container': '', 'specific': ''}]\n",
      "Candidate: Parchment Paper — [{'room': 'Cage', 'container': '4c', 'specific': ''}]\n"
     ]
    },
    {
     "name": "stderr",
     "output_type": "stream",
     "text": [
      "\n"
     ]
    },
    {
     "name": "stdout",
     "output_type": "stream",
     "text": [
      "LLM returns: \n",
      "  \n",
      " Cabinet 7\n",
      "\n",
      " *********************************************************** \n",
      " \n",
      "\n",
      " text =  lead free solder, much thinner version:\n",
      "\n",
      " link items =  []\n"
     ]
    },
    {
     "name": "stderr",
     "output_type": "stream",
     "text": [
      "Batches: 100%|██████████| 1/1 [00:00<00:00,  3.55it/s]\n"
     ]
    },
    {
     "name": "stdout",
     "output_type": "stream",
     "text": [
      "Candidate: Vice Grips — [{'room': 'Main', 'container': 'Cabinet 11', 'specific': 'Shelf 7'}]\n",
      "Candidate: De-Soldering Pumps — [{'room': 'Backstock', 'container': 'Shelf 2', 'specific': None}]\n",
      "Candidate: Paint Wipes — [{'room': 'Cage', 'container': '8e', 'specific': None}]\n",
      "Candidate: honing guide — [{'room': 'Cage', 'container': 'Cabinet 9', 'specific': 'Shelf 3'}]\n",
      "Candidate: Analog Loom Replacement Parts — [{'room': 'The Crypt', 'container': '1e', 'specific': ''}]\n",
      "LLM returns: \n",
      "  \n",
      " Electronics\n",
      "\n",
      " *********************************************************** \n",
      " \n",
      "\n",
      " text =  11\" x 17\" 25 sheets somerset enhanced watercolor paper,  or something similar\n",
      "\n",
      " link items =  ['Canson Somerset Enhanced Watercolor 240gsm - 11x17 - 25-Sheets | Digital Technology Group']\n"
     ]
    },
    {
     "name": "stderr",
     "output_type": "stream",
     "text": [
      "Batches: 100%|██████████| 1/1 [00:00<00:00,  3.86it/s]\n"
     ]
    },
    {
     "name": "stdout",
     "output_type": "stream",
     "text": [
      "Candidate: Scrap Cardstock Paper — [{'room': 'Main', 'container': 'Cabinet 7', 'specific': 'Top'}]\n",
      "Candidate: Various Stickers — [{'room': 'Main', 'container': 'Cabinet 2', 'specific': 'Shelf 5'}]\n",
      "Candidate: Colored Pencil Kit — [{'room': 'Cage', 'container': '1b', 'specific': ''}]\n",
      "Candidate: Leather Seeder Tool — [{'room': 'Studio', 'container': '', 'specific': ''}]\n",
      "Candidate: Packing Tape — [{'room': 'Main', 'container': 'Cabinet 5', 'specific': 'Shelf 2'}, {'room': 'Cage', 'container': '5e', 'specific': '|11'}, {'room': 'Cage', 'container': '8d', 'specific': '|2'}]\n",
      "LLM returns: \n",
      " Scrap Cardstock Paper \n",
      " Cabinet 7\n",
      "\n",
      " *********************************************************** \n",
      " \n",
      "\n",
      " text =  Wooden Dowels (large and small) included link but not sure if it's the same we stock\n",
      "\n",
      " link items =  []\n"
     ]
    },
    {
     "name": "stderr",
     "output_type": "stream",
     "text": [
      "Batches: 100%|██████████| 1/1 [00:00<00:00,  8.60it/s]"
     ]
    },
    {
     "name": "stdout",
     "output_type": "stream",
     "text": [
      "Candidate: Large Wooden Dowels (1/4\" x 12\") — [{'room': 'Main', 'container': 'Cabinet 2', 'specific': 'Shelf 6'}, {'room': 'Cage', 'container': '5d', 'specific': 'Stack 14|-2'}]\n",
      "Candidate: Highlighters — [{'room': 'Main', 'container': 'Cabinet 4', 'specific': 'Shelf 7'}]\n",
      "Candidate: Mini Shop Vacuum — [{'room': 'Cage', 'container': 'Floor', 'specific': None}]\n",
      "Candidate: Camera Dolly Rails — [{'room': 'Outdoor Storage', 'container': 'A2', 'specific': None}]\n",
      "Candidate: High Density Foam — [{'room': 'Outdoor Storage', 'container': 'A2', 'specific': None}]\n"
     ]
    },
    {
     "name": "stderr",
     "output_type": "stream",
     "text": [
      "\n"
     ]
    },
    {
     "name": "stdout",
     "output_type": "stream",
     "text": [
      "LLM returns: \n",
      " Large Wooden Dowels (1/4\" x 12\") \n",
      " Cabinet 2\n",
      "\n",
      " *********************************************************** \n",
      " \n",
      "\n",
      " text =  Fuse Nylon Powder\n",
      "\n",
      " link items =  []\n"
     ]
    },
    {
     "name": "stderr",
     "output_type": "stream",
     "text": [
      "Batches: 100%|██████████| 1/1 [00:00<00:00,  4.27it/s]\n"
     ]
    },
    {
     "name": "stdout",
     "output_type": "stream",
     "text": [
      "Candidate: Spare Fuse Sift Tank — [{'room': 'Laser3D', 'container': 'Cabinet 8', 'specific': ''}]\n",
      "Candidate: Erasers — [{'room': 'Main', 'container': 'Cabinet 4', 'specific': 'Shelf 11'}, {'room': 'Cage', 'container': '5c', 'specific': 'Stack 10|-3'}]\n",
      "Candidate: Cotton Balls — [{'room': 'Main', 'container': 'Cabinet 2', 'specific': 'Shelf 22'}, {'room': 'Cage', 'container': '5d', 'specific': 'Stack 11|-3'}]\n",
      "Candidate: Fuse Cleaning Supplies — [{'room': 'Laser3D', 'container': 'Cabinet 8', 'specific': ''}]\n",
      "Candidate: Spare Fuse Exhaust Air Filter — [{'room': 'Laser3D', 'container': 'Cabinet 8', 'specific': ''}]\n",
      "LLM returns: \n",
      " Spare Fuse Sift Tank \n",
      " Laser3D\n",
      "\n",
      " *********************************************************** \n",
      " \n",
      "\n",
      " text =  3d printer filament from Bambu\n",
      "\n",
      " link items =  []\n"
     ]
    },
    {
     "name": "stderr",
     "output_type": "stream",
     "text": [
      "Batches: 100%|██████████| 1/1 [00:00<00:00,  5.60it/s]"
     ]
    },
    {
     "name": "stdout",
     "output_type": "stream",
     "text": [
      "Candidate: Laser Cutter Replacement Parts — [{'room': 'Laser3D', 'container': 'In Laser Cutter Side Panel', 'specific': ''}]\n",
      "Candidate: Spare Fuse Sift Sieve — [{'room': 'Laser3D', 'container': 'Cabinet 8', 'specific': ''}]\n",
      "Candidate: FLSun SR [DEPRECATED] — [{'room': 'Outdoor Storage', 'container': '', 'specific': ''}]\n",
      "Candidate: Nuts — [{'room': 'Main', 'container': '', 'specific': ''}, {'room': 'Main', 'container': 'Cabinet 9', 'specific': ''}]\n",
      "Candidate: Lino Blocks — [{'room': 'Cage', 'container': 'Shelf 1E', 'specific': ''}]\n"
     ]
    },
    {
     "name": "stderr",
     "output_type": "stream",
     "text": [
      "\n"
     ]
    },
    {
     "name": "stdout",
     "output_type": "stream",
     "text": [
      "LLM returns: \n",
      " Laser Cutter Replacement Parts \n",
      " Laser3D\n",
      "\n",
      " *********************************************************** \n",
      " \n",
      "\n",
      " text =  Air hose nozzles\n",
      "\n",
      " link items =  []\n"
     ]
    },
    {
     "name": "stderr",
     "output_type": "stream",
     "text": [
      "Batches: 100%|██████████| 1/1 [00:00<00:00,  4.55it/s]\n"
     ]
    },
    {
     "name": "stdout",
     "output_type": "stream",
     "text": [
      "Candidate: Skein Winder — [{'room': 'Main', 'container': 'Fabric', 'specific': ''}]\n",
      "Candidate: Portable Stand — [{'room': 'Studio', 'container': None, 'specific': None}]\n",
      "Candidate: Super Glue — [{'room': 'Main', 'container': 'Cabinet 5', 'specific': 'Shelf 1'}, {'room': 'Cage', 'container': '5d', 'specific': 'Stack 7|-2'}]\n",
      "Candidate: Spray Paint Gun Kit — [{'room': 'Cage', 'container': '1b', 'specific': None}]\n",
      "Candidate: Laser Chiller (Distilled Water) — [{'room': 'Laser3D', 'container': 'Cabinet 4', 'specific': ''}]\n",
      "LLM returns: \n",
      " Spray Paint Gun Kit \n",
      " Cage/Crypt/Other\n",
      "\n",
      " *********************************************************** \n",
      " \n",
      "\n",
      " text =  Glossy Modge Podge\n",
      "\n",
      " link items =  []\n"
     ]
    },
    {
     "name": "stderr",
     "output_type": "stream",
     "text": [
      "Batches: 100%|██████████| 1/1 [00:00<00:00,  4.69it/s]\n"
     ]
    },
    {
     "name": "stdout",
     "output_type": "stream",
     "text": [
      "Candidate: Rubber Mallets — [{'room': 'Main', 'container': 'Cabinet 11', 'specific': 'Shelf 5'}, {'room': 'Backstock', 'container': 'Shelf 2', 'specific': '|2'}]\n",
      "Candidate: Cricut Lint Roller — [{'room': 'Cage', 'container': '1d', 'specific': ''}, {'room': 'Backstock', 'container': 'Shelf 2', 'specific': '|1'}]\n",
      "Candidate: Spring Clamps — [{'room': 'Main', 'container': 'Cabinet 11', 'specific': 'Shelf 9'}, {'room': 'Backstock', 'container': 'Shelf 2', 'specific': '|9'}]\n",
      "Candidate: Power Cable, Impact — [{'room': 'Studio', 'container': 'Studio 3', 'specific': 'Shelf 4'}]\n",
      "Candidate: Work Mat — [{'room': 'Studio', 'container': 'Studio 1 and 2', 'specific': None}]\n",
      "LLM returns: \n",
      "  \n",
      " Cabinet 5\n",
      "\n",
      " *********************************************************** \n",
      " \n",
      "\n",
      " text =  Matte Modge Podge\n",
      "\n",
      " link items =  []\n"
     ]
    },
    {
     "name": "stderr",
     "output_type": "stream",
     "text": [
      "Batches: 100%|██████████| 1/1 [00:00<00:00,  7.09it/s]"
     ]
    },
    {
     "name": "stdout",
     "output_type": "stream",
     "text": [
      "Candidate: Spring Clamps — [{'room': 'Main', 'container': 'Cabinet 11', 'specific': 'Shelf 9'}, {'room': 'Backstock', 'container': 'Shelf 2', 'specific': '|9'}]\n",
      "Candidate: Rubber Mallets — [{'room': 'Main', 'container': 'Cabinet 11', 'specific': 'Shelf 5'}, {'room': 'Backstock', 'container': 'Shelf 2', 'specific': '|2'}]\n",
      "Candidate: SD Card Case — [{'room': 'Studio', 'container': 'Cabinet 15', 'specific': 'Shelf 5'}]\n",
      "Candidate: Microphone, NOS Sound — [{'room': 'Studio', 'container': 'Studio 1', 'specific': 'Shelf 3'}]\n",
      "Candidate: SD Card Case — [{'room': 'Studio', 'container': 'Cabinet 15', 'specific': 'Shelf 4'}]\n"
     ]
    },
    {
     "name": "stderr",
     "output_type": "stream",
     "text": [
      "\n"
     ]
    },
    {
     "name": "stdout",
     "output_type": "stream",
     "text": [
      "LLM returns: \n",
      "  \n",
      " Cabinet 5\n",
      "\n",
      " *********************************************************** \n",
      " \n",
      "\n",
      " text =  Super Glue\n",
      "\n",
      " link items =  []\n"
     ]
    },
    {
     "name": "stderr",
     "output_type": "stream",
     "text": [
      "Batches: 100%|██████████| 1/1 [00:00<00:00,  5.64it/s]"
     ]
    },
    {
     "name": "stdout",
     "output_type": "stream",
     "text": [
      "Candidate: Tacky Glue — [{'room': 'Main', 'container': 'Cabinet 5', 'specific': 'Shelf 1'}, {'room': 'Cage', 'container': '5d', 'specific': 'Stack 4|1'}]\n",
      "Candidate: Matte Mod Podge — [{'room': 'Main', 'container': 'Cabinet 5', 'specific': 'Shelf 1'}, {'room': 'Cage', 'container': '5e', 'specific': ''}]\n",
      "Candidate: Zippers — [{'room': 'Main', 'container': 'Cabinet 1', 'specific': 'Shelf 14'}, {'room': 'Cage', 'container': '5c', 'specific': 'Stack 23|-3'}]\n",
      "Candidate: Leather Sewing Machine — [{'room': 'Cage', 'container': 'Floor', 'specific': None}]\n",
      "Candidate: Packing Tape Dispenser — [{'room': 'Cage', 'container': 'Pegboard', 'specific': ''}, {'room': 'Cage', 'container': '8d', 'specific': '|2'}]\n"
     ]
    },
    {
     "name": "stderr",
     "output_type": "stream",
     "text": [
      "\n"
     ]
    },
    {
     "name": "stdout",
     "output_type": "stream",
     "text": [
      "LLM returns: \n",
      " Tacky Glue \n",
      " Cabinet 5\n",
      "\n",
      " *********************************************************** \n",
      " \n",
      "\n",
      " text =  SD cards 256G for Nikon Z7II (I am so sorry, I still have 2 of these that I'm giving back as soon as possible, but otherwise I don't know where the rest are)\n",
      "\n",
      " link items =  []\n"
     ]
    },
    {
     "name": "stderr",
     "output_type": "stream",
     "text": [
      "Batches: 100%|██████████| 1/1 [00:00<00:00,  7.63it/s]"
     ]
    },
    {
     "name": "stdout",
     "output_type": "stream",
     "text": [
      "Candidate: Wall Tape — [{'room': 'Cage', 'container': '8d', 'specific': ''}]\n",
      "Candidate: Sound Shield (w/ Microphone Stand Mount) — [{'room': 'Studio', 'container': 'Studio 4', 'specific': 'Slider'}]\n",
      "Candidate: Laser Cutter Wood Stock — [{'room': 'Outdoor Storage', 'container': 'C3, D3, E3', 'specific': None}]\n",
      "Candidate: SD Card, 128 GB  — [{'room': 'Studio', 'container': 'Studio 5', 'specific': 'Shelf 4'}]\n",
      "Candidate: Double Sided Interfacing Tape — [{'room': 'Main', 'container': 'Fabrics', 'specific': ''}]\n"
     ]
    },
    {
     "name": "stderr",
     "output_type": "stream",
     "text": [
      "\n"
     ]
    },
    {
     "name": "stdout",
     "output_type": "stream",
     "text": [
      "LLM returns: \n",
      " SD Card, 128 GB  \n",
      " Studio\n",
      "\n",
      " *********************************************************** \n",
      " \n",
      "\n",
      " text =  Heat shrink for the electronics bench\n",
      "\n",
      " link items =  []\n"
     ]
    },
    {
     "name": "stderr",
     "output_type": "stream",
     "text": [
      "Batches: 100%|██████████| 1/1 [00:00<00:00,  4.96it/s]\n"
     ]
    },
    {
     "name": "stdout",
     "output_type": "stream",
     "text": [
      "Candidate: Wire Strippers and Clippers — [{'room': 'Electronics', 'container': None, 'specific': None}]\n",
      "Candidate: Old Computer PSUs — [{'room': 'The Crypt', 'container': '2c', 'specific': ''}]\n",
      "Candidate: Sand Paper Splint — [{'room': 'Main', 'container': 'Cabinet 11', 'specific': 'Top'}, {'room': 'Backstock', 'container': 'Shelf 2', 'specific': '|3'}]\n",
      "Candidate: Drill — [{'room': 'Cage', 'container': '2c', 'specific': None}]\n",
      "Candidate: Couplers for Air Supply — [{'room': 'Other', 'container': '', 'specific': None}]\n",
      "LLM returns: \n",
      " Wire Strippers and Clippers \n",
      " Electronics\n",
      "\n",
      " *********************************************************** \n",
      " \n",
      "\n",
      " text =  Brothread colors 800, 307, 399, and 415\n",
      "\n",
      " link items =  []\n"
     ]
    },
    {
     "name": "stderr",
     "output_type": "stream",
     "text": [
      "Batches: 100%|██████████| 1/1 [00:00<00:00,  5.37it/s]"
     ]
    },
    {
     "name": "stdout",
     "output_type": "stream",
     "text": [
      "Candidate: 406 Ultra Marine Thread — [{'room': 'Main', 'container': '', 'specific': ''}]\n",
      "Candidate: 333 Amber Red Thread — [{'room': 'Main', 'container': '', 'specific': ''}]\n",
      "Candidate: 542 Seacrest Thread — [{'room': 'Main', 'container': '', 'specific': ''}]\n",
      "Candidate: 399 Warm Gray Thread — [{'room': 'Main', 'container': '', 'specific': ''}]\n",
      "Candidate: 613 Violet Thread — [{'room': 'Main', 'container': '', 'specific': ''}]\n"
     ]
    },
    {
     "name": "stderr",
     "output_type": "stream",
     "text": [
      "\n"
     ]
    },
    {
     "name": "stdout",
     "output_type": "stream",
     "text": [
      "LLM returns: \n",
      "  \n",
      " Pegboard 1\n",
      "\n",
      " *********************************************************** \n",
      " \n",
      "\n",
      " text =  Wooden Dowels Large:  and small:\n",
      "\n",
      " link items =  []\n"
     ]
    },
    {
     "name": "stderr",
     "output_type": "stream",
     "text": [
      "Batches: 100%|██████████| 1/1 [00:00<00:00,  7.29it/s]"
     ]
    },
    {
     "name": "stdout",
     "output_type": "stream",
     "text": [
      "Candidate: Highlighters — [{'room': 'Main', 'container': 'Cabinet 4', 'specific': 'Shelf 7'}]\n",
      "Candidate: Large Wooden Dowels (1/4\" x 12\") — [{'room': 'Main', 'container': 'Cabinet 2', 'specific': 'Shelf 6'}, {'room': 'Cage', 'container': '5d', 'specific': 'Stack 14|-2'}]\n",
      "Candidate: Large Carpenter Square (16\" x 24\") — [{'room': 'Cage', 'container': 'Pegboard', 'specific': ''}]\n",
      "Candidate: Misc. Hardware — [{'room': 'Main', 'container': 'Cabinet 9', 'specific': 'Shelf 7'}]\n",
      "Candidate: Large Levels (48\") — [{'room': 'Cage', 'container': 'Pegboard', 'specific': ''}]\n"
     ]
    },
    {
     "name": "stderr",
     "output_type": "stream",
     "text": [
      "\n"
     ]
    },
    {
     "name": "stdout",
     "output_type": "stream",
     "text": [
      "LLM returns: \n",
      " Large Wooden Dowels (1/4\" x 12\") \n",
      " Cabinet 2\n",
      "\n",
      " *********************************************************** \n",
      " \n",
      "\n",
      " text =  Red and Black Cardstock\n",
      "\n",
      " link items =  []\n"
     ]
    },
    {
     "name": "stderr",
     "output_type": "stream",
     "text": [
      "Batches: 100%|██████████| 1/1 [00:00<00:00,  4.17it/s]\n"
     ]
    },
    {
     "name": "stdout",
     "output_type": "stream",
     "text": [
      "Candidate: 126 Pumpkin Thread — [{'room': 'Main', 'container': '', 'specific': ''}]\n",
      "Candidate: White Cardstock — [{'room': 'Cage', 'container': '', 'specific': ''}]\n",
      "Candidate: Red Cardstock — [{'room': 'Main', 'container': 'Cabinet 7', 'specific': ''}, {'room': 'Cage', 'container': '8d', 'specific': ''}]\n",
      "Candidate: Black Paracord — [{'room': 'Main', 'container': 'Pegboard 1', 'specific': 'Front'}]\n",
      "Candidate: Blue Buttons — [{'room': 'Main', 'container': 'Pegboard 1', 'specific': 'A5'}, {'room': 'Cage', 'container': '5d', 'specific': 'Stack 10|-2'}]\n",
      "LLM returns: \n",
      " Red Cardstock \n",
      " Cabinet 7\n",
      "\n",
      " *********************************************************** \n",
      " \n",
      "\n",
      " text =  6mm diameter x 2mm height magnets\n",
      "\n",
      " link items =  []\n"
     ]
    },
    {
     "name": "stderr",
     "output_type": "stream",
     "text": [
      "Batches: 100%|██████████| 1/1 [00:00<00:00,  7.38it/s]"
     ]
    },
    {
     "name": "stdout",
     "output_type": "stream",
     "text": [
      "Candidate: Medium Metal Magnets — [{'room': 'Main', 'container': 'Cabinet 2', 'specific': 'Shelf 1'}, {'room': 'Cage', 'container': '5c', 'specific': 'Stack 14|-3'}]\n",
      "Candidate: Ceramic Magnets — [{'room': 'Main', 'container': 'Cabinet 2', 'specific': 'Shelf 1'}, {'room': 'Cage', 'container': '5c', 'specific': 'Stack 14|-2'}]\n",
      "Candidate: Paint Pens — [{'room': 'Main', 'container': 'Cabinet 4', 'specific': 'Shelf 2'}]\n",
      "Candidate: Spare Coping Saw Blades — [{'room': 'Cage', 'container': 'Pegboard', 'specific': ''}]\n",
      "Candidate: Fabric Glue — [{'room': 'Main', 'container': 'Cabinet 5', 'specific': 'Shelf 1'}, {'room': 'Cage', 'container': '5d', 'specific': 'Stack 4|3'}]\n"
     ]
    },
    {
     "name": "stderr",
     "output_type": "stream",
     "text": [
      "\n"
     ]
    },
    {
     "name": "stdout",
     "output_type": "stream",
     "text": [
      "LLM returns: \n",
      " Medium Metal Magnets \n",
      " Cabinet 2\n",
      "\n",
      " *********************************************************** \n",
      " \n",
      "\n",
      " text =  Fabric tape\n",
      "\n",
      " link items =  []\n"
     ]
    },
    {
     "name": "stderr",
     "output_type": "stream",
     "text": [
      "Batches: 100%|██████████| 1/1 [00:00<00:00,  5.22it/s]"
     ]
    },
    {
     "name": "stdout",
     "output_type": "stream",
     "text": [
      "Candidate: Seam Rippers — [{'room': 'Main', 'container': 'Pegboard 1', 'specific': 'E5'}, {'room': 'Cage', 'container': '5c', 'specific': 'Stack 7|-3'}]\n",
      "Candidate: Leather Sewing Machine — [{'room': 'Cage', 'container': 'Floor', 'specific': None}]\n",
      "Candidate: 3.5 mm Male to XLR Female Cable Short — [{'room': 'Studio', 'container': 'Studio 2', 'specific': 'Shelf 8'}]\n",
      "Candidate: 3.5 mm Male to XLR Male Cable Short — [{'room': 'Studio', 'container': 'Studio 2', 'specific': 'Shelf 8'}]\n",
      "Candidate: Rhinestones — [{'room': 'Main', 'container': 'Cabinet 2', 'specific': 'Shelf 19'}, {'room': 'Cage', 'container': '5d', 'specific': 'Stack 12|-3'}]\n"
     ]
    },
    {
     "name": "stderr",
     "output_type": "stream",
     "text": [
      "\n"
     ]
    },
    {
     "name": "stdout",
     "output_type": "stream",
     "text": [
      "LLM returns: \n",
      "  \n",
      " Cabinet 5\n",
      "\n",
      " *********************************************************** \n",
      " \n",
      "\n",
      " text =  \n",
      "\n",
      " link items =  []\n"
     ]
    },
    {
     "name": "stderr",
     "output_type": "stream",
     "text": [
      "Batches: 100%|██████████| 1/1 [00:00<00:00,  8.59it/s]"
     ]
    },
    {
     "name": "stdout",
     "output_type": "stream",
     "text": [
      "Candidate: Yellow Ribbon — [{'room': 'Main', 'container': 'Cabinet 6', 'specific': 'Shelf 2'}]\n",
      "Candidate: Adjustable Bridge with Rod Clamps — [{'room': 'Studio', 'container': 'Studio 5', 'specific': 'Shelf 1'}]\n",
      "Candidate: Mixer, Mackie  — [{'room': 'Studio', 'container': 'Sound Booth', 'specific': None}]\n",
      "Candidate: USB-C Power Cable — [{'room': 'Cage', 'container': '8d', 'specific': ''}]\n",
      "Candidate: Scale (4 kg x 0.5 g) — [{'room': 'Cage', 'container': '2b', 'specific': None}]\n"
     ]
    },
    {
     "name": "stderr",
     "output_type": "stream",
     "text": [
      "\n"
     ]
    },
    {
     "name": "stdout",
     "output_type": "stream",
     "text": [
      "LLM returns: \n",
      " Yellow Ribbon \n",
      " Cabinet 6\n",
      "\n",
      " *********************************************************** \n",
      " \n",
      "\n",
      " text =  grey cardstock\n",
      "\n",
      " link items =  []\n"
     ]
    },
    {
     "name": "stderr",
     "output_type": "stream",
     "text": [
      "Batches: 100%|██████████| 1/1 [00:00<00:00,  8.18it/s]"
     ]
    },
    {
     "name": "stdout",
     "output_type": "stream",
     "text": [
      "Candidate: Black Paracord — [{'room': 'Main', 'container': 'Pegboard 1', 'specific': 'Front'}]\n",
      "Candidate: Red Cardstock — [{'room': 'Main', 'container': 'Cabinet 7', 'specific': ''}, {'room': 'Cage', 'container': '8d', 'specific': ''}]\n",
      "Candidate: White Cardstock — [{'room': 'Cage', 'container': '', 'specific': ''}]\n",
      "Candidate: 126 Pumpkin Thread — [{'room': 'Main', 'container': '', 'specific': ''}]\n",
      "Candidate: Scrap Books/Magazines — [{'room': 'Main', 'container': 'Cabinet 7', 'specific': 'Top'}]\n"
     ]
    },
    {
     "name": "stderr",
     "output_type": "stream",
     "text": [
      "\n"
     ]
    },
    {
     "name": "stdout",
     "output_type": "stream",
     "text": [
      "LLM returns: \n",
      " Red Cardstock \n",
      " Cabinet 7\n",
      "\n",
      " *********************************************************** \n",
      " \n",
      "\n",
      " text =  variety of colored duct tape\n",
      "\n",
      " link items =  []\n"
     ]
    },
    {
     "name": "stderr",
     "output_type": "stream",
     "text": [
      "Batches: 100%|██████████| 1/1 [00:00<00:00, 15.31it/s]"
     ]
    },
    {
     "name": "stdout",
     "output_type": "stream",
     "text": [
      "Candidate: Beige Masking Tape (1\") — [{'room': 'Main', 'container': 'Cabinet 5', 'specific': 'Top'}, {'room': 'Cage', 'container': '5e', 'specific': '|-3'}]\n",
      "Candidate: Color Gel Pens — [{'room': 'Main', 'container': 'Cabinet 4', 'specific': 'Shelf 13'}]\n",
      "Candidate: Seam Rippers — [{'room': 'Main', 'container': 'Pegboard 1', 'specific': 'E5'}, {'room': 'Cage', 'container': '5c', 'specific': 'Stack 7|-3'}]\n",
      "Candidate: Glue Dots — [{'room': 'Main', 'container': 'Cabinet 5', 'specific': 'Shelf 2'}, {'room': 'Cage', 'container': '8d', 'specific': '|-3'}]\n",
      "Candidate: Rhinestones — [{'room': 'Main', 'container': 'Cabinet 2', 'specific': 'Shelf 19'}, {'room': 'Cage', 'container': '5d', 'specific': 'Stack 12|-3'}]\n"
     ]
    },
    {
     "name": "stderr",
     "output_type": "stream",
     "text": [
      "\n"
     ]
    },
    {
     "name": "stdout",
     "output_type": "stream",
     "text": [
      "LLM returns: \n",
      " Beige Masking Tape (1\") \n",
      " Cabinet 5\n",
      "\n",
      " *********************************************************** \n",
      " \n",
      "\n",
      " text =  fabric glue\n",
      "\n",
      " link items =  []\n"
     ]
    },
    {
     "name": "stderr",
     "output_type": "stream",
     "text": [
      "Batches: 100%|██████████| 1/1 [00:00<00:00, 15.92it/s]"
     ]
    },
    {
     "name": "stdout",
     "output_type": "stream",
     "text": [
      "Candidate: Leather Sewing Machine — [{'room': 'Cage', 'container': 'Floor', 'specific': None}]\n",
      "Candidate: Zippers — [{'room': 'Main', 'container': 'Cabinet 1', 'specific': 'Shelf 14'}, {'room': 'Cage', 'container': '5c', 'specific': 'Stack 23|-3'}]\n",
      "Candidate: Seam Rippers — [{'room': 'Main', 'container': 'Pegboard 1', 'specific': 'E5'}, {'room': 'Cage', 'container': '5c', 'specific': 'Stack 7|-3'}]\n",
      "Candidate: Matte Mod Podge — [{'room': 'Main', 'container': 'Cabinet 5', 'specific': 'Shelf 1'}, {'room': 'Cage', 'container': '5e', 'specific': ''}]\n",
      "Candidate: Tacky Glue — [{'room': 'Main', 'container': 'Cabinet 5', 'specific': 'Shelf 1'}, {'room': 'Cage', 'container': '5d', 'specific': 'Stack 4|1'}]\n"
     ]
    },
    {
     "name": "stderr",
     "output_type": "stream",
     "text": [
      "\n"
     ]
    },
    {
     "name": "stdout",
     "output_type": "stream",
     "text": [
      "LLM returns: \n",
      " Tacky Glue \n",
      " Cabinet 5\n",
      "\n",
      " *********************************************************** \n",
      " \n",
      "\n",
      " text =  spool huggers,\n",
      "\n",
      " link items =  []\n"
     ]
    },
    {
     "name": "stderr",
     "output_type": "stream",
     "text": [
      "Batches: 100%|██████████| 1/1 [00:00<00:00, 20.54it/s]"
     ]
    },
    {
     "name": "stdout",
     "output_type": "stream",
     "text": [
      "Candidate: Rotary Blade — [{'room': 'Cage', 'container': '5c', 'specific': 'Stack 6'}]\n",
      "Candidate: Spare Vacuform Tubing — [{'room': 'The Crypt', 'container': '2b', 'specific': ''}]\n",
      "Candidate: Darning Plate — [{'room': 'Main', 'container': 'Pegboard 1', 'specific': 'K3'}]\n",
      "Candidate: Sewing Machine Screw Drivers — [{'room': 'Main', 'container': 'Pegboard 1', 'specific': 'J1'}]\n",
      "Candidate: PLA Filament — [{'room': 'The Crypt', 'container': '', 'specific': ''}]\n"
     ]
    },
    {
     "name": "stderr",
     "output_type": "stream",
     "text": [
      "\n"
     ]
    },
    {
     "name": "stdout",
     "output_type": "stream",
     "text": [
      "LLM returns: \n",
      " PLA Filament \n",
      " Laser3D\n",
      "\n",
      " *********************************************************** \n",
      " \n",
      "\n",
      " text =  Micro SD Cards for the Bambu's\n",
      "\n",
      " link items =  []\n"
     ]
    },
    {
     "name": "stderr",
     "output_type": "stream",
     "text": [
      "Batches: 100%|██████████| 1/1 [00:00<00:00,  9.28it/s]"
     ]
    },
    {
     "name": "stdout",
     "output_type": "stream",
     "text": [
      "Candidate: Double Sided Interfacing Tape — [{'room': 'Main', 'container': 'Fabrics', 'specific': ''}]\n",
      "Candidate: Wall Tape — [{'room': 'Cage', 'container': '8d', 'specific': ''}]\n",
      "Candidate: Whiteboard Cleaner — [{'room': 'Cage', 'container': '8e', 'specific': None}]\n",
      "Candidate: SD Card — [{'room': 'Cage', 'container': '8d', 'specific': ''}]\n",
      "Candidate: Sound Shield (w/ Microphone Stand Mount) — [{'room': 'Studio', 'container': 'Studio 4', 'specific': 'Slider'}]\n"
     ]
    },
    {
     "name": "stderr",
     "output_type": "stream",
     "text": [
      "\n"
     ]
    },
    {
     "name": "stdout",
     "output_type": "stream",
     "text": [
      "LLM returns: \n",
      "  \n",
      " Laser3D\n",
      "\n",
      " *********************************************************** \n",
      " \n",
      "\n",
      " text =  Ceramic Magnets\n",
      "\n",
      " link items =  []\n"
     ]
    },
    {
     "name": "stderr",
     "output_type": "stream",
     "text": [
      "Batches: 100%|██████████| 1/1 [00:00<00:00, 11.86it/s]"
     ]
    },
    {
     "name": "stdout",
     "output_type": "stream",
     "text": [
      "Candidate: Paint Pens — [{'room': 'Main', 'container': 'Cabinet 4', 'specific': 'Shelf 2'}]\n",
      "Candidate: Ceramic Magnets — [{'room': 'Main', 'container': 'Cabinet 2', 'specific': 'Shelf 1'}, {'room': 'Cage', 'container': '5c', 'specific': 'Stack 14|-2'}]\n",
      "Candidate: Medium Metal Magnets — [{'room': 'Main', 'container': 'Cabinet 2', 'specific': 'Shelf 1'}, {'room': 'Cage', 'container': '5c', 'specific': 'Stack 14|-3'}]\n",
      "Candidate: Proficiency Buttons (Stewards Only) — [{'room': 'Cage', 'container': '8b', 'specific': None}]\n",
      "Candidate: Fold Over Elastic — [{'room': 'Main', 'container': 'Cabinet 1', 'specific': 'Shelf 13'}, {'room': 'Cage', 'container': '5c', 'specific': 'Stack 26|-3'}]\n"
     ]
    },
    {
     "name": "stderr",
     "output_type": "stream",
     "text": [
      "\n"
     ]
    },
    {
     "name": "stdout",
     "output_type": "stream",
     "text": [
      "LLM returns: \n",
      " Ceramic Magnets \n",
      " Cabinet 2\n",
      "\n",
      " *********************************************************** \n",
      " \n",
      "\n",
      " text =  Nylon Stocking\n",
      "\n",
      "\n",
      "some in cabinet, none in cage\n",
      "\n",
      " link items =  []\n"
     ]
    },
    {
     "name": "stderr",
     "output_type": "stream",
     "text": [
      "Batches: 100%|██████████| 1/1 [00:00<00:00,  4.09it/s]\n"
     ]
    },
    {
     "name": "stdout",
     "output_type": "stream",
     "text": [
      "Candidate: T-pins — [{'room': 'Main', 'container': 'Pegboard 1', 'specific': 'F5'}]\n",
      "Candidate: Ironing mat — [{'room': 'Cage', 'container': '3c', 'specific': None}]\n",
      "Candidate: Tote Bags — [{'room': 'Cage', 'container': '4b', 'specific': ''}]\n",
      "Candidate: Mini Shop Vacuum — [{'room': 'Cage', 'container': 'Floor', 'specific': None}]\n",
      "Candidate: Large Wooden Dowels (1/4\" x 12\") — [{'room': 'Main', 'container': 'Cabinet 2', 'specific': 'Shelf 6'}, {'room': 'Cage', 'container': '5d', 'specific': 'Stack 14|-2'}]\n",
      "LLM returns: \n",
      "  \n",
      " Fabric\n",
      "\n",
      " *********************************************************** \n",
      " \n",
      "\n",
      " text =  French curve ruler for sewing/pattern making\n",
      "\n",
      "Amazon link:\n",
      "\n",
      " link items =  []\n"
     ]
    },
    {
     "name": "stderr",
     "output_type": "stream",
     "text": [
      "Batches: 100%|██████████| 1/1 [00:00<00:00,  3.89it/s]\n"
     ]
    },
    {
     "name": "stdout",
     "output_type": "stream",
     "text": [
      "Candidate: Spare Cutting Blades — [{'room': 'Main', 'container': 'Cabinet 11', 'specific': 'Shelf 3'}, {'room': 'Cage', 'container': '5c', 'specific': 'Stack 8|-2'}]\n",
      "Candidate: Adjustable Button Rotary Cutter (1\" - 2.25\") — [{'room': 'Cage', 'container': '1c', 'specific': None}]\n",
      "Candidate: Rick Racks — [{'room': 'Main', 'container': 'Pegboard 1', 'specific': 'L1'}]\n",
      "Candidate: Butcher Paper — [{'room': 'Main', 'container': 'near lockers', 'specific': ''}, {'room': 'The Crypt', 'container': 'Floor', 'specific': '|1'}]\n",
      "Candidate: Spool Pins — [{'room': 'Main', 'container': 'Pegboard 1', 'specific': 'D5'}]\n",
      "LLM returns: \n",
      " Spare Cutting Blades \n",
      " Cabinet 11\n",
      "\n",
      " *********************************************************** \n",
      " \n",
      "\n",
      " text =  White acrylic paint!\n",
      "\n",
      " link items =  []\n"
     ]
    },
    {
     "name": "stderr",
     "output_type": "stream",
     "text": [
      "Batches: 100%|██████████| 1/1 [00:00<00:00,  3.68it/s]\n"
     ]
    },
    {
     "name": "stdout",
     "output_type": "stream",
     "text": [
      "Candidate: Black Polyester Thread — [{'room': 'Cage', 'container': '5c', 'specific': 'Stack 1'}]\n",
      "Candidate: Pipe Cleaners — [{'room': 'Main', 'container': 'Cabinet 2', 'specific': 'Shelf 8'}, {'room': 'Cage', 'container': '5d', 'specific': 'Stack 13|-3'}]\n",
      "Candidate: White Acrylic Paint — [{'room': 'Cage', 'container': '5c', 'specific': 'Stack 21|-3'}]\n",
      "Candidate: Drop Cloths — [{'room': 'Cage', 'container': '1a', 'specific': None}]\n",
      "Candidate: Halogen Modeling Light Bulb, Impact — [{'room': 'Studio', 'container': 'Studio 3', 'specific': 'Shelf 4'}]\n",
      "LLM returns: \n",
      "  \n",
      " Cabinet 4\n",
      "\n",
      " *********************************************************** \n",
      " \n",
      "\n",
      " text =  Cardstock (White/Red/Grey/Black)\n",
      "\n",
      " link items =  []\n"
     ]
    },
    {
     "name": "stderr",
     "output_type": "stream",
     "text": [
      "Batches: 100%|██████████| 1/1 [00:00<00:00,  8.08it/s]"
     ]
    },
    {
     "name": "stdout",
     "output_type": "stream",
     "text": [
      "Candidate: 126 Pumpkin Thread — [{'room': 'Main', 'container': '', 'specific': ''}]\n",
      "Candidate: Red Cardstock — [{'room': 'Main', 'container': 'Cabinet 7', 'specific': ''}, {'room': 'Cage', 'container': '8d', 'specific': ''}]\n",
      "Candidate: White Cardstock — [{'room': 'Cage', 'container': '', 'specific': ''}]\n",
      "Candidate: Black Paracord — [{'room': 'Main', 'container': 'Pegboard 1', 'specific': 'Front'}]\n",
      "Candidate: Blue Buttons — [{'room': 'Main', 'container': 'Pegboard 1', 'specific': 'A5'}, {'room': 'Cage', 'container': '5d', 'specific': 'Stack 10|-2'}]\n"
     ]
    },
    {
     "name": "stderr",
     "output_type": "stream",
     "text": [
      "\n"
     ]
    },
    {
     "name": "stdout",
     "output_type": "stream",
     "text": [
      "LLM returns: \n",
      " Red Cardstock \n",
      " Cabinet 7\n",
      "\n",
      " *********************************************************** \n",
      " \n",
      "\n",
      " text =  Sequins  (cabinet 2)\n",
      "\n",
      " link items =  []\n"
     ]
    },
    {
     "name": "stderr",
     "output_type": "stream",
     "text": [
      "Batches: 100%|██████████| 1/1 [00:00<00:00, 10.21it/s]"
     ]
    },
    {
     "name": "stdout",
     "output_type": "stream",
     "text": [
      "Candidate: AxiDraw Supplies — [{'room': 'Cage', 'container': '1d', 'specific': None}]\n",
      "Candidate: Plywood Stock — [{'room': 'Outdoor Storage', 'container': 'Blue stock rack', 'specific': None}]\n",
      "Candidate: LED Light, Neewer — [{'room': 'Studio', 'container': 'Studio 3', 'specific': 'Shelf 5'}]\n",
      "Candidate: Sticky Notes — [{'room': 'Main', 'container': 'Cabinet 3', 'specific': 'Shelf 24'}, {'room': 'Cage', 'container': '8d', 'specific': '|-2'}, {'room': 'Cage', 'container': '5c', 'specific': 'Stack 18|-2'}]\n",
      "Candidate: Power Cable, Aputure — [{'room': 'Studio', 'container': 'Studio 3', 'specific': 'Shelf 1'}]\n"
     ]
    },
    {
     "name": "stderr",
     "output_type": "stream",
     "text": [
      "\n"
     ]
    },
    {
     "name": "stdout",
     "output_type": "stream",
     "text": [
      "LLM returns: \n",
      "  \n",
      " Cabinet 2\n",
      "\n",
      " *********************************************************** \n",
      " \n",
      "\n",
      " text =  Origami paper (\n",
      "\n",
      " link items =  []\n"
     ]
    },
    {
     "name": "stderr",
     "output_type": "stream",
     "text": [
      "Batches: 100%|██████████| 1/1 [00:00<00:00,  7.96it/s]"
     ]
    },
    {
     "name": "stdout",
     "output_type": "stream",
     "text": [
      "Candidate: Seaweed Salad — [{'room': 'Other', 'container': 'Refrigerator', 'specific': ''}]\n",
      "Candidate: Stapler — [{'room': 'Main', 'container': 'Cabinet 3', 'specific': 'Shelf 16'}]\n",
      "Candidate: Pegboard Hardware — [{'room': 'Cage', 'container': 'Pegboard', 'specific': ''}]\n",
      "Candidate: Cardboard — [{'room': 'Main', 'container': 'Fabrics Area', 'specific': None}]\n",
      "Candidate: Digital Soldering Station — [{'room': 'Other', 'container': '', 'specific': None}]\n"
     ]
    },
    {
     "name": "stderr",
     "output_type": "stream",
     "text": [
      "\n"
     ]
    },
    {
     "name": "stdout",
     "output_type": "stream",
     "text": [
      "LLM returns: \n",
      "  \n",
      " Cabinet 7\n",
      "\n",
      " *********************************************************** \n",
      " \n",
      "\n",
      " text =  Lightning to usb-c cable.\n",
      "\n",
      "The audio studio keyboard and mouse frequently run out of power, and there is no lightning cable that I know of in the space. Having either wired keyboard/mouse options or a cable permanently living in the audio studio would rectify this.,\n",
      "\n",
      " link items =  []\n"
     ]
    },
    {
     "name": "stderr",
     "output_type": "stream",
     "text": [
      "Batches: 100%|██████████| 1/1 [00:00<00:00,  7.88it/s]"
     ]
    },
    {
     "name": "stdout",
     "output_type": "stream",
     "text": [
      "Candidate: Micro-USB Power Cable — [{'room': 'Cage', 'container': '8d', 'specific': ''}]\n",
      "Candidate: USB-A SD Card Reader — [{'room': 'Cage', 'container': '8d', 'specific': ''}]\n",
      "Candidate: Pocket Light (w/ Diffuser, USB-C Cable, and Bag) — [{'room': 'Studio', 'container': 'Studio 1', 'specific': 'Shelf 1'}]\n",
      "Candidate: Lightning Power Cable — [{'room': 'Cage', 'container': '8d', 'specific': ''}]\n",
      "Candidate: Windscreen, Rode Wireless Microphone Kit — [{'room': 'Studio', 'container': 'Studio 2', 'specific': 'Shelf 9'}]\n"
     ]
    },
    {
     "name": "stderr",
     "output_type": "stream",
     "text": [
      "\n"
     ]
    },
    {
     "name": "stdout",
     "output_type": "stream",
     "text": [
      "LLM returns: \n",
      "  \n",
      " Electronics\n",
      "\n",
      " *********************************************************** \n",
      " \n",
      "\n",
      " text =  Glue Sticks\n",
      "\n",
      " link items =  []\n"
     ]
    },
    {
     "name": "stderr",
     "output_type": "stream",
     "text": [
      "Batches: 100%|██████████| 1/1 [00:00<00:00,  9.76it/s]"
     ]
    },
    {
     "name": "stdout",
     "output_type": "stream",
     "text": [
      "Candidate: Leatherworking Tools — [{'room': 'Main', 'container': 'Cabinet 9', 'specific': 'Shelf 4'}]\n",
      "Candidate: Nuts and Bolts — [{'room': 'Main', 'container': 'Cabinet 9', 'specific': 'Shelf 9'}]\n",
      "Candidate: Wood Glue — [{'room': 'Main', 'container': 'Cabinet 5', 'specific': 'Shelf 1'}]\n",
      "Candidate: Matte Mod Podge — [{'room': 'Main', 'container': 'Cabinet 5', 'specific': 'Shelf 1'}, {'room': 'Cage', 'container': '5e', 'specific': ''}]\n",
      "Candidate: Packing Tape Dispenser — [{'room': 'Cage', 'container': 'Pegboard', 'specific': ''}, {'room': 'Cage', 'container': '8d', 'specific': '|2'}]\n"
     ]
    },
    {
     "name": "stderr",
     "output_type": "stream",
     "text": [
      "\n"
     ]
    },
    {
     "name": "stdout",
     "output_type": "stream",
     "text": [
      "LLM returns: \n",
      " Wood Glue \n",
      " Cabinet 5\n",
      "\n",
      " *********************************************************** \n",
      " \n",
      "\n",
      " text =  Small Hot Glue Sticks\n",
      "\n",
      " link items =  []\n"
     ]
    },
    {
     "name": "stderr",
     "output_type": "stream",
     "text": [
      "Batches: 100%|██████████| 1/1 [00:00<00:00, 11.67it/s]"
     ]
    },
    {
     "name": "stdout",
     "output_type": "stream",
     "text": [
      "Candidate: Nuts and Bolts — [{'room': 'Main', 'container': 'Cabinet 9', 'specific': 'Shelf 9'}]\n",
      "Candidate: Wood Glue — [{'room': 'Main', 'container': 'Cabinet 5', 'specific': 'Shelf 1'}]\n",
      "Candidate: Leatherworking Tools — [{'room': 'Main', 'container': 'Cabinet 9', 'specific': 'Shelf 4'}]\n",
      "Candidate: Large Hot Glue Sticks — [{'room': 'Cage', 'container': '5d', 'specific': 'Stack 4|-3'}]\n",
      "Candidate: Fabric Pen Refills — [{'room': 'Main', 'container': 'Pegboard 1', 'specific': 'I1'}]\n"
     ]
    },
    {
     "name": "stderr",
     "output_type": "stream",
     "text": [
      "\n"
     ]
    },
    {
     "ename": "KeyboardInterrupt",
     "evalue": "",
     "output_type": "error",
     "traceback": [
      "\u001b[31m---------------------------------------------------------------------------\u001b[39m",
      "\u001b[31mKeyboardInterrupt\u001b[39m                         Traceback (most recent call last)",
      "\u001b[36mCell\u001b[39m\u001b[36m \u001b[39m\u001b[32mIn[30]\u001b[39m\u001b[32m, line 34\u001b[39m\n\u001b[32m     31\u001b[39m \u001b[38;5;66;03m# Find top 5 inventory matches\u001b[39;00m\n\u001b[32m     32\u001b[39m five_possible_matches = find_five_inventory_match(extracted_vector, names_matrix, uuid_list, inventory_lookup)\n\u001b[32m---> \u001b[39m\u001b[32m34\u001b[39m final_item_uuid, final_item_name, final_item_location = \u001b[43mllm_match\u001b[49m\u001b[43m(\u001b[49m\u001b[43muser_request_text\u001b[49m\u001b[43m,\u001b[49m\u001b[43m \u001b[49m\u001b[43mlinks_items_list\u001b[49m\u001b[43m,\u001b[49m\u001b[43m \u001b[49m\u001b[43mfive_possible_matches\u001b[49m\u001b[43m)\u001b[49m\n\u001b[32m     36\u001b[39m \u001b[38;5;28mprint\u001b[39m (\u001b[33m\"\u001b[39m\u001b[33mLLM returns: \u001b[39m\u001b[38;5;130;01m\\n\u001b[39;00m\u001b[33m\"\u001b[39m, final_item_name, \u001b[33m\"\u001b[39m\u001b[38;5;130;01m\\n\u001b[39;00m\u001b[33m\"\u001b[39m, final_item_location)\n\u001b[32m     38\u001b[39m \u001b[38;5;66;03m# Collect results (you can expand tuple into dict later for CSV/graph)\u001b[39;00m\n",
      "\u001b[36mCell\u001b[39m\u001b[36m \u001b[39m\u001b[32mIn[16]\u001b[39m\u001b[32m, line 95\u001b[39m, in \u001b[36mllm_match\u001b[39m\u001b[34m(comment_text, extracted_item_names, five_candidates)\u001b[39m\n\u001b[32m     75\u001b[39m payload = {\n\u001b[32m     76\u001b[39m     \u001b[33m\"\u001b[39m\u001b[33mREQUEST\u001b[39m\u001b[33m\"\u001b[39m: {\n\u001b[32m     77\u001b[39m         \u001b[33m\"\u001b[39m\u001b[33mcomment\u001b[39m\u001b[33m\"\u001b[39m: comment_text \u001b[38;5;129;01mor\u001b[39;00m \u001b[33m\"\u001b[39m\u001b[33m\"\u001b[39m,\n\u001b[32m   (...)\u001b[39m\u001b[32m     91\u001b[39m     \u001b[33m\"\u001b[39m\u001b[33mLOCATION_GUIDE\u001b[39m\u001b[33m\"\u001b[39m: LOCATION_GUIDE,\n\u001b[32m     92\u001b[39m }\n\u001b[32m     94\u001b[39m \u001b[38;5;28;01mtry\u001b[39;00m:\n\u001b[32m---> \u001b[39m\u001b[32m95\u001b[39m     resp = \u001b[43m_oai_client\u001b[49m\u001b[43m.\u001b[49m\u001b[43mchat\u001b[49m\u001b[43m.\u001b[49m\u001b[43mcompletions\u001b[49m\u001b[43m.\u001b[49m\u001b[43mcreate\u001b[49m\u001b[43m(\u001b[49m\n\u001b[32m     96\u001b[39m \u001b[43m        \u001b[49m\u001b[43mmodel\u001b[49m\u001b[43m=\u001b[49m\u001b[33;43m\"\u001b[39;49m\u001b[33;43mo3\u001b[39;49m\u001b[33;43m\"\u001b[39;49m\u001b[43m,\u001b[49m\n\u001b[32m     97\u001b[39m \u001b[43m        \u001b[49m\u001b[43mresponse_format\u001b[49m\u001b[43m=\u001b[49m\u001b[43m{\u001b[49m\u001b[33;43m\"\u001b[39;49m\u001b[33;43mtype\u001b[39;49m\u001b[33;43m\"\u001b[39;49m\u001b[43m:\u001b[49m\u001b[43m \u001b[49m\u001b[33;43m\"\u001b[39;49m\u001b[33;43mjson_object\u001b[39;49m\u001b[33;43m\"\u001b[39;49m\u001b[43m}\u001b[49m\u001b[43m,\u001b[49m\u001b[43m   \u001b[49m\u001b[38;5;66;43;03m# enforce JSON-only reply\u001b[39;49;00m\n\u001b[32m     98\u001b[39m \u001b[43m        \u001b[49m\u001b[43mmessages\u001b[49m\u001b[43m=\u001b[49m\u001b[43m[\u001b[49m\n\u001b[32m     99\u001b[39m \u001b[43m            \u001b[49m\u001b[43m{\u001b[49m\u001b[33;43m\"\u001b[39;49m\u001b[33;43mrole\u001b[39;49m\u001b[33;43m\"\u001b[39;49m\u001b[43m:\u001b[49m\u001b[43m \u001b[49m\u001b[33;43m\"\u001b[39;49m\u001b[33;43msystem\u001b[39;49m\u001b[33;43m\"\u001b[39;49m\u001b[43m,\u001b[49m\u001b[43m \u001b[49m\u001b[33;43m\"\u001b[39;49m\u001b[33;43mcontent\u001b[39;49m\u001b[33;43m\"\u001b[39;49m\u001b[43m:\u001b[49m\u001b[43m \u001b[49m\u001b[43msystem_instructions\u001b[49m\u001b[43m}\u001b[49m\u001b[43m,\u001b[49m\n\u001b[32m    100\u001b[39m \u001b[43m            \u001b[49m\u001b[43m{\u001b[49m\u001b[33;43m\"\u001b[39;49m\u001b[33;43mrole\u001b[39;49m\u001b[33;43m\"\u001b[39;49m\u001b[43m:\u001b[49m\u001b[43m \u001b[49m\u001b[33;43m\"\u001b[39;49m\u001b[33;43muser\u001b[39;49m\u001b[33;43m\"\u001b[39;49m\u001b[43m,\u001b[49m\u001b[43m \u001b[49m\u001b[33;43m\"\u001b[39;49m\u001b[33;43mcontent\u001b[39;49m\u001b[33;43m\"\u001b[39;49m\u001b[43m:\u001b[49m\u001b[43m \u001b[49m\u001b[43mjson\u001b[49m\u001b[43m.\u001b[49m\u001b[43mdumps\u001b[49m\u001b[43m(\u001b[49m\u001b[43mpayload\u001b[49m\u001b[43m,\u001b[49m\u001b[43m \u001b[49m\u001b[43mensure_ascii\u001b[49m\u001b[43m=\u001b[49m\u001b[38;5;28;43;01mFalse\u001b[39;49;00m\u001b[43m)\u001b[49m\u001b[43m}\u001b[49m\u001b[43m,\u001b[49m\n\u001b[32m    101\u001b[39m \u001b[43m        \u001b[49m\u001b[43m]\u001b[49m\u001b[43m,\u001b[49m\n\u001b[32m    102\u001b[39m \u001b[43m        \u001b[49m\u001b[38;5;66;43;03m# temperature=0,\u001b[39;49;00m\n\u001b[32m    103\u001b[39m \u001b[43m    \u001b[49m\u001b[43m)\u001b[49m\n\u001b[32m    105\u001b[39m     raw: Optional[\u001b[38;5;28mstr\u001b[39m] = \u001b[38;5;28mgetattr\u001b[39m(resp, \u001b[33m\"\u001b[39m\u001b[33moutput_text\u001b[39m\u001b[33m\"\u001b[39m, \u001b[38;5;28;01mNone\u001b[39;00m) \u001b[38;5;129;01mor\u001b[39;00m (resp.choices[\u001b[32m0\u001b[39m].message.content \u001b[38;5;129;01mor\u001b[39;00m \u001b[33m\"\u001b[39m\u001b[33m\"\u001b[39m).strip()\n\u001b[32m    106\u001b[39m     \u001b[38;5;28;01mif\u001b[39;00m \u001b[38;5;129;01mnot\u001b[39;00m raw:\n",
      "\u001b[36mFile \u001b[39m\u001b[32m~/Downloads/MakerspaceInventoryRestockAnalysis/.venv/lib/python3.13/site-packages/openai/_utils/_utils.py:287\u001b[39m, in \u001b[36mrequired_args.<locals>.inner.<locals>.wrapper\u001b[39m\u001b[34m(*args, **kwargs)\u001b[39m\n\u001b[32m    285\u001b[39m             msg = \u001b[33mf\u001b[39m\u001b[33m\"\u001b[39m\u001b[33mMissing required argument: \u001b[39m\u001b[38;5;132;01m{\u001b[39;00mquote(missing[\u001b[32m0\u001b[39m])\u001b[38;5;132;01m}\u001b[39;00m\u001b[33m\"\u001b[39m\n\u001b[32m    286\u001b[39m     \u001b[38;5;28;01mraise\u001b[39;00m \u001b[38;5;167;01mTypeError\u001b[39;00m(msg)\n\u001b[32m--> \u001b[39m\u001b[32m287\u001b[39m \u001b[38;5;28;01mreturn\u001b[39;00m \u001b[43mfunc\u001b[49m\u001b[43m(\u001b[49m\u001b[43m*\u001b[49m\u001b[43margs\u001b[49m\u001b[43m,\u001b[49m\u001b[43m \u001b[49m\u001b[43m*\u001b[49m\u001b[43m*\u001b[49m\u001b[43mkwargs\u001b[49m\u001b[43m)\u001b[49m\n",
      "\u001b[36mFile \u001b[39m\u001b[32m~/Downloads/MakerspaceInventoryRestockAnalysis/.venv/lib/python3.13/site-packages/openai/resources/chat/completions/completions.py:1147\u001b[39m, in \u001b[36mCompletions.create\u001b[39m\u001b[34m(self, messages, model, audio, frequency_penalty, function_call, functions, logit_bias, logprobs, max_completion_tokens, max_tokens, metadata, modalities, n, parallel_tool_calls, prediction, presence_penalty, prompt_cache_key, reasoning_effort, response_format, safety_identifier, seed, service_tier, stop, store, stream, stream_options, temperature, tool_choice, tools, top_logprobs, top_p, user, verbosity, web_search_options, extra_headers, extra_query, extra_body, timeout)\u001b[39m\n\u001b[32m   1101\u001b[39m \u001b[38;5;129m@required_args\u001b[39m([\u001b[33m\"\u001b[39m\u001b[33mmessages\u001b[39m\u001b[33m\"\u001b[39m, \u001b[33m\"\u001b[39m\u001b[33mmodel\u001b[39m\u001b[33m\"\u001b[39m], [\u001b[33m\"\u001b[39m\u001b[33mmessages\u001b[39m\u001b[33m\"\u001b[39m, \u001b[33m\"\u001b[39m\u001b[33mmodel\u001b[39m\u001b[33m\"\u001b[39m, \u001b[33m\"\u001b[39m\u001b[33mstream\u001b[39m\u001b[33m\"\u001b[39m])\n\u001b[32m   1102\u001b[39m \u001b[38;5;28;01mdef\u001b[39;00m\u001b[38;5;250m \u001b[39m\u001b[34mcreate\u001b[39m(\n\u001b[32m   1103\u001b[39m     \u001b[38;5;28mself\u001b[39m,\n\u001b[32m   (...)\u001b[39m\u001b[32m   1144\u001b[39m     timeout: \u001b[38;5;28mfloat\u001b[39m | httpx.Timeout | \u001b[38;5;28;01mNone\u001b[39;00m | NotGiven = NOT_GIVEN,\n\u001b[32m   1145\u001b[39m ) -> ChatCompletion | Stream[ChatCompletionChunk]:\n\u001b[32m   1146\u001b[39m     validate_response_format(response_format)\n\u001b[32m-> \u001b[39m\u001b[32m1147\u001b[39m     \u001b[38;5;28;01mreturn\u001b[39;00m \u001b[38;5;28;43mself\u001b[39;49m\u001b[43m.\u001b[49m\u001b[43m_post\u001b[49m\u001b[43m(\u001b[49m\n\u001b[32m   1148\u001b[39m \u001b[43m        \u001b[49m\u001b[33;43m\"\u001b[39;49m\u001b[33;43m/chat/completions\u001b[39;49m\u001b[33;43m\"\u001b[39;49m\u001b[43m,\u001b[49m\n\u001b[32m   1149\u001b[39m \u001b[43m        \u001b[49m\u001b[43mbody\u001b[49m\u001b[43m=\u001b[49m\u001b[43mmaybe_transform\u001b[49m\u001b[43m(\u001b[49m\n\u001b[32m   1150\u001b[39m \u001b[43m            \u001b[49m\u001b[43m{\u001b[49m\n\u001b[32m   1151\u001b[39m \u001b[43m                \u001b[49m\u001b[33;43m\"\u001b[39;49m\u001b[33;43mmessages\u001b[39;49m\u001b[33;43m\"\u001b[39;49m\u001b[43m:\u001b[49m\u001b[43m \u001b[49m\u001b[43mmessages\u001b[49m\u001b[43m,\u001b[49m\n\u001b[32m   1152\u001b[39m \u001b[43m                \u001b[49m\u001b[33;43m\"\u001b[39;49m\u001b[33;43mmodel\u001b[39;49m\u001b[33;43m\"\u001b[39;49m\u001b[43m:\u001b[49m\u001b[43m \u001b[49m\u001b[43mmodel\u001b[49m\u001b[43m,\u001b[49m\n\u001b[32m   1153\u001b[39m \u001b[43m                \u001b[49m\u001b[33;43m\"\u001b[39;49m\u001b[33;43maudio\u001b[39;49m\u001b[33;43m\"\u001b[39;49m\u001b[43m:\u001b[49m\u001b[43m \u001b[49m\u001b[43maudio\u001b[49m\u001b[43m,\u001b[49m\n\u001b[32m   1154\u001b[39m \u001b[43m                \u001b[49m\u001b[33;43m\"\u001b[39;49m\u001b[33;43mfrequency_penalty\u001b[39;49m\u001b[33;43m\"\u001b[39;49m\u001b[43m:\u001b[49m\u001b[43m \u001b[49m\u001b[43mfrequency_penalty\u001b[49m\u001b[43m,\u001b[49m\n\u001b[32m   1155\u001b[39m \u001b[43m                \u001b[49m\u001b[33;43m\"\u001b[39;49m\u001b[33;43mfunction_call\u001b[39;49m\u001b[33;43m\"\u001b[39;49m\u001b[43m:\u001b[49m\u001b[43m \u001b[49m\u001b[43mfunction_call\u001b[49m\u001b[43m,\u001b[49m\n\u001b[32m   1156\u001b[39m \u001b[43m                \u001b[49m\u001b[33;43m\"\u001b[39;49m\u001b[33;43mfunctions\u001b[39;49m\u001b[33;43m\"\u001b[39;49m\u001b[43m:\u001b[49m\u001b[43m \u001b[49m\u001b[43mfunctions\u001b[49m\u001b[43m,\u001b[49m\n\u001b[32m   1157\u001b[39m \u001b[43m                \u001b[49m\u001b[33;43m\"\u001b[39;49m\u001b[33;43mlogit_bias\u001b[39;49m\u001b[33;43m\"\u001b[39;49m\u001b[43m:\u001b[49m\u001b[43m \u001b[49m\u001b[43mlogit_bias\u001b[49m\u001b[43m,\u001b[49m\n\u001b[32m   1158\u001b[39m \u001b[43m                \u001b[49m\u001b[33;43m\"\u001b[39;49m\u001b[33;43mlogprobs\u001b[39;49m\u001b[33;43m\"\u001b[39;49m\u001b[43m:\u001b[49m\u001b[43m \u001b[49m\u001b[43mlogprobs\u001b[49m\u001b[43m,\u001b[49m\n\u001b[32m   1159\u001b[39m \u001b[43m                \u001b[49m\u001b[33;43m\"\u001b[39;49m\u001b[33;43mmax_completion_tokens\u001b[39;49m\u001b[33;43m\"\u001b[39;49m\u001b[43m:\u001b[49m\u001b[43m \u001b[49m\u001b[43mmax_completion_tokens\u001b[49m\u001b[43m,\u001b[49m\n\u001b[32m   1160\u001b[39m \u001b[43m                \u001b[49m\u001b[33;43m\"\u001b[39;49m\u001b[33;43mmax_tokens\u001b[39;49m\u001b[33;43m\"\u001b[39;49m\u001b[43m:\u001b[49m\u001b[43m \u001b[49m\u001b[43mmax_tokens\u001b[49m\u001b[43m,\u001b[49m\n\u001b[32m   1161\u001b[39m \u001b[43m                \u001b[49m\u001b[33;43m\"\u001b[39;49m\u001b[33;43mmetadata\u001b[39;49m\u001b[33;43m\"\u001b[39;49m\u001b[43m:\u001b[49m\u001b[43m \u001b[49m\u001b[43mmetadata\u001b[49m\u001b[43m,\u001b[49m\n\u001b[32m   1162\u001b[39m \u001b[43m                \u001b[49m\u001b[33;43m\"\u001b[39;49m\u001b[33;43mmodalities\u001b[39;49m\u001b[33;43m\"\u001b[39;49m\u001b[43m:\u001b[49m\u001b[43m \u001b[49m\u001b[43mmodalities\u001b[49m\u001b[43m,\u001b[49m\n\u001b[32m   1163\u001b[39m \u001b[43m                \u001b[49m\u001b[33;43m\"\u001b[39;49m\u001b[33;43mn\u001b[39;49m\u001b[33;43m\"\u001b[39;49m\u001b[43m:\u001b[49m\u001b[43m \u001b[49m\u001b[43mn\u001b[49m\u001b[43m,\u001b[49m\n\u001b[32m   1164\u001b[39m \u001b[43m                \u001b[49m\u001b[33;43m\"\u001b[39;49m\u001b[33;43mparallel_tool_calls\u001b[39;49m\u001b[33;43m\"\u001b[39;49m\u001b[43m:\u001b[49m\u001b[43m \u001b[49m\u001b[43mparallel_tool_calls\u001b[49m\u001b[43m,\u001b[49m\n\u001b[32m   1165\u001b[39m \u001b[43m                \u001b[49m\u001b[33;43m\"\u001b[39;49m\u001b[33;43mprediction\u001b[39;49m\u001b[33;43m\"\u001b[39;49m\u001b[43m:\u001b[49m\u001b[43m \u001b[49m\u001b[43mprediction\u001b[49m\u001b[43m,\u001b[49m\n\u001b[32m   1166\u001b[39m \u001b[43m                \u001b[49m\u001b[33;43m\"\u001b[39;49m\u001b[33;43mpresence_penalty\u001b[39;49m\u001b[33;43m\"\u001b[39;49m\u001b[43m:\u001b[49m\u001b[43m \u001b[49m\u001b[43mpresence_penalty\u001b[49m\u001b[43m,\u001b[49m\n\u001b[32m   1167\u001b[39m \u001b[43m                \u001b[49m\u001b[33;43m\"\u001b[39;49m\u001b[33;43mprompt_cache_key\u001b[39;49m\u001b[33;43m\"\u001b[39;49m\u001b[43m:\u001b[49m\u001b[43m \u001b[49m\u001b[43mprompt_cache_key\u001b[49m\u001b[43m,\u001b[49m\n\u001b[32m   1168\u001b[39m \u001b[43m                \u001b[49m\u001b[33;43m\"\u001b[39;49m\u001b[33;43mreasoning_effort\u001b[39;49m\u001b[33;43m\"\u001b[39;49m\u001b[43m:\u001b[49m\u001b[43m \u001b[49m\u001b[43mreasoning_effort\u001b[49m\u001b[43m,\u001b[49m\n\u001b[32m   1169\u001b[39m \u001b[43m                \u001b[49m\u001b[33;43m\"\u001b[39;49m\u001b[33;43mresponse_format\u001b[39;49m\u001b[33;43m\"\u001b[39;49m\u001b[43m:\u001b[49m\u001b[43m \u001b[49m\u001b[43mresponse_format\u001b[49m\u001b[43m,\u001b[49m\n\u001b[32m   1170\u001b[39m \u001b[43m                \u001b[49m\u001b[33;43m\"\u001b[39;49m\u001b[33;43msafety_identifier\u001b[39;49m\u001b[33;43m\"\u001b[39;49m\u001b[43m:\u001b[49m\u001b[43m \u001b[49m\u001b[43msafety_identifier\u001b[49m\u001b[43m,\u001b[49m\n\u001b[32m   1171\u001b[39m \u001b[43m                \u001b[49m\u001b[33;43m\"\u001b[39;49m\u001b[33;43mseed\u001b[39;49m\u001b[33;43m\"\u001b[39;49m\u001b[43m:\u001b[49m\u001b[43m \u001b[49m\u001b[43mseed\u001b[49m\u001b[43m,\u001b[49m\n\u001b[32m   1172\u001b[39m \u001b[43m                \u001b[49m\u001b[33;43m\"\u001b[39;49m\u001b[33;43mservice_tier\u001b[39;49m\u001b[33;43m\"\u001b[39;49m\u001b[43m:\u001b[49m\u001b[43m \u001b[49m\u001b[43mservice_tier\u001b[49m\u001b[43m,\u001b[49m\n\u001b[32m   1173\u001b[39m \u001b[43m                \u001b[49m\u001b[33;43m\"\u001b[39;49m\u001b[33;43mstop\u001b[39;49m\u001b[33;43m\"\u001b[39;49m\u001b[43m:\u001b[49m\u001b[43m \u001b[49m\u001b[43mstop\u001b[49m\u001b[43m,\u001b[49m\n\u001b[32m   1174\u001b[39m \u001b[43m                \u001b[49m\u001b[33;43m\"\u001b[39;49m\u001b[33;43mstore\u001b[39;49m\u001b[33;43m\"\u001b[39;49m\u001b[43m:\u001b[49m\u001b[43m \u001b[49m\u001b[43mstore\u001b[49m\u001b[43m,\u001b[49m\n\u001b[32m   1175\u001b[39m \u001b[43m                \u001b[49m\u001b[33;43m\"\u001b[39;49m\u001b[33;43mstream\u001b[39;49m\u001b[33;43m\"\u001b[39;49m\u001b[43m:\u001b[49m\u001b[43m \u001b[49m\u001b[43mstream\u001b[49m\u001b[43m,\u001b[49m\n\u001b[32m   1176\u001b[39m \u001b[43m                \u001b[49m\u001b[33;43m\"\u001b[39;49m\u001b[33;43mstream_options\u001b[39;49m\u001b[33;43m\"\u001b[39;49m\u001b[43m:\u001b[49m\u001b[43m \u001b[49m\u001b[43mstream_options\u001b[49m\u001b[43m,\u001b[49m\n\u001b[32m   1177\u001b[39m \u001b[43m                \u001b[49m\u001b[33;43m\"\u001b[39;49m\u001b[33;43mtemperature\u001b[39;49m\u001b[33;43m\"\u001b[39;49m\u001b[43m:\u001b[49m\u001b[43m \u001b[49m\u001b[43mtemperature\u001b[49m\u001b[43m,\u001b[49m\n\u001b[32m   1178\u001b[39m \u001b[43m                \u001b[49m\u001b[33;43m\"\u001b[39;49m\u001b[33;43mtool_choice\u001b[39;49m\u001b[33;43m\"\u001b[39;49m\u001b[43m:\u001b[49m\u001b[43m \u001b[49m\u001b[43mtool_choice\u001b[49m\u001b[43m,\u001b[49m\n\u001b[32m   1179\u001b[39m \u001b[43m                \u001b[49m\u001b[33;43m\"\u001b[39;49m\u001b[33;43mtools\u001b[39;49m\u001b[33;43m\"\u001b[39;49m\u001b[43m:\u001b[49m\u001b[43m \u001b[49m\u001b[43mtools\u001b[49m\u001b[43m,\u001b[49m\n\u001b[32m   1180\u001b[39m \u001b[43m                \u001b[49m\u001b[33;43m\"\u001b[39;49m\u001b[33;43mtop_logprobs\u001b[39;49m\u001b[33;43m\"\u001b[39;49m\u001b[43m:\u001b[49m\u001b[43m \u001b[49m\u001b[43mtop_logprobs\u001b[49m\u001b[43m,\u001b[49m\n\u001b[32m   1181\u001b[39m \u001b[43m                \u001b[49m\u001b[33;43m\"\u001b[39;49m\u001b[33;43mtop_p\u001b[39;49m\u001b[33;43m\"\u001b[39;49m\u001b[43m:\u001b[49m\u001b[43m \u001b[49m\u001b[43mtop_p\u001b[49m\u001b[43m,\u001b[49m\n\u001b[32m   1182\u001b[39m \u001b[43m                \u001b[49m\u001b[33;43m\"\u001b[39;49m\u001b[33;43muser\u001b[39;49m\u001b[33;43m\"\u001b[39;49m\u001b[43m:\u001b[49m\u001b[43m \u001b[49m\u001b[43muser\u001b[49m\u001b[43m,\u001b[49m\n\u001b[32m   1183\u001b[39m \u001b[43m                \u001b[49m\u001b[33;43m\"\u001b[39;49m\u001b[33;43mverbosity\u001b[39;49m\u001b[33;43m\"\u001b[39;49m\u001b[43m:\u001b[49m\u001b[43m \u001b[49m\u001b[43mverbosity\u001b[49m\u001b[43m,\u001b[49m\n\u001b[32m   1184\u001b[39m \u001b[43m                \u001b[49m\u001b[33;43m\"\u001b[39;49m\u001b[33;43mweb_search_options\u001b[39;49m\u001b[33;43m\"\u001b[39;49m\u001b[43m:\u001b[49m\u001b[43m \u001b[49m\u001b[43mweb_search_options\u001b[49m\u001b[43m,\u001b[49m\n\u001b[32m   1185\u001b[39m \u001b[43m            \u001b[49m\u001b[43m}\u001b[49m\u001b[43m,\u001b[49m\n\u001b[32m   1186\u001b[39m \u001b[43m            \u001b[49m\u001b[43mcompletion_create_params\u001b[49m\u001b[43m.\u001b[49m\u001b[43mCompletionCreateParamsStreaming\u001b[49m\n\u001b[32m   1187\u001b[39m \u001b[43m            \u001b[49m\u001b[38;5;28;43;01mif\u001b[39;49;00m\u001b[43m \u001b[49m\u001b[43mstream\u001b[49m\n\u001b[32m   1188\u001b[39m \u001b[43m            \u001b[49m\u001b[38;5;28;43;01melse\u001b[39;49;00m\u001b[43m \u001b[49m\u001b[43mcompletion_create_params\u001b[49m\u001b[43m.\u001b[49m\u001b[43mCompletionCreateParamsNonStreaming\u001b[49m\u001b[43m,\u001b[49m\n\u001b[32m   1189\u001b[39m \u001b[43m        \u001b[49m\u001b[43m)\u001b[49m\u001b[43m,\u001b[49m\n\u001b[32m   1190\u001b[39m \u001b[43m        \u001b[49m\u001b[43moptions\u001b[49m\u001b[43m=\u001b[49m\u001b[43mmake_request_options\u001b[49m\u001b[43m(\u001b[49m\n\u001b[32m   1191\u001b[39m \u001b[43m            \u001b[49m\u001b[43mextra_headers\u001b[49m\u001b[43m=\u001b[49m\u001b[43mextra_headers\u001b[49m\u001b[43m,\u001b[49m\u001b[43m \u001b[49m\u001b[43mextra_query\u001b[49m\u001b[43m=\u001b[49m\u001b[43mextra_query\u001b[49m\u001b[43m,\u001b[49m\u001b[43m \u001b[49m\u001b[43mextra_body\u001b[49m\u001b[43m=\u001b[49m\u001b[43mextra_body\u001b[49m\u001b[43m,\u001b[49m\u001b[43m \u001b[49m\u001b[43mtimeout\u001b[49m\u001b[43m=\u001b[49m\u001b[43mtimeout\u001b[49m\n\u001b[32m   1192\u001b[39m \u001b[43m        \u001b[49m\u001b[43m)\u001b[49m\u001b[43m,\u001b[49m\n\u001b[32m   1193\u001b[39m \u001b[43m        \u001b[49m\u001b[43mcast_to\u001b[49m\u001b[43m=\u001b[49m\u001b[43mChatCompletion\u001b[49m\u001b[43m,\u001b[49m\n\u001b[32m   1194\u001b[39m \u001b[43m        \u001b[49m\u001b[43mstream\u001b[49m\u001b[43m=\u001b[49m\u001b[43mstream\u001b[49m\u001b[43m \u001b[49m\u001b[38;5;129;43;01mor\u001b[39;49;00m\u001b[43m \u001b[49m\u001b[38;5;28;43;01mFalse\u001b[39;49;00m\u001b[43m,\u001b[49m\n\u001b[32m   1195\u001b[39m \u001b[43m        \u001b[49m\u001b[43mstream_cls\u001b[49m\u001b[43m=\u001b[49m\u001b[43mStream\u001b[49m\u001b[43m[\u001b[49m\u001b[43mChatCompletionChunk\u001b[49m\u001b[43m]\u001b[49m\u001b[43m,\u001b[49m\n\u001b[32m   1196\u001b[39m \u001b[43m    \u001b[49m\u001b[43m)\u001b[49m\n",
      "\u001b[36mFile \u001b[39m\u001b[32m~/Downloads/MakerspaceInventoryRestockAnalysis/.venv/lib/python3.13/site-packages/openai/_base_client.py:1259\u001b[39m, in \u001b[36mSyncAPIClient.post\u001b[39m\u001b[34m(self, path, cast_to, body, options, files, stream, stream_cls)\u001b[39m\n\u001b[32m   1245\u001b[39m \u001b[38;5;28;01mdef\u001b[39;00m\u001b[38;5;250m \u001b[39m\u001b[34mpost\u001b[39m(\n\u001b[32m   1246\u001b[39m     \u001b[38;5;28mself\u001b[39m,\n\u001b[32m   1247\u001b[39m     path: \u001b[38;5;28mstr\u001b[39m,\n\u001b[32m   (...)\u001b[39m\u001b[32m   1254\u001b[39m     stream_cls: \u001b[38;5;28mtype\u001b[39m[_StreamT] | \u001b[38;5;28;01mNone\u001b[39;00m = \u001b[38;5;28;01mNone\u001b[39;00m,\n\u001b[32m   1255\u001b[39m ) -> ResponseT | _StreamT:\n\u001b[32m   1256\u001b[39m     opts = FinalRequestOptions.construct(\n\u001b[32m   1257\u001b[39m         method=\u001b[33m\"\u001b[39m\u001b[33mpost\u001b[39m\u001b[33m\"\u001b[39m, url=path, json_data=body, files=to_httpx_files(files), **options\n\u001b[32m   1258\u001b[39m     )\n\u001b[32m-> \u001b[39m\u001b[32m1259\u001b[39m     \u001b[38;5;28;01mreturn\u001b[39;00m cast(ResponseT, \u001b[38;5;28;43mself\u001b[39;49m\u001b[43m.\u001b[49m\u001b[43mrequest\u001b[49m\u001b[43m(\u001b[49m\u001b[43mcast_to\u001b[49m\u001b[43m,\u001b[49m\u001b[43m \u001b[49m\u001b[43mopts\u001b[49m\u001b[43m,\u001b[49m\u001b[43m \u001b[49m\u001b[43mstream\u001b[49m\u001b[43m=\u001b[49m\u001b[43mstream\u001b[49m\u001b[43m,\u001b[49m\u001b[43m \u001b[49m\u001b[43mstream_cls\u001b[49m\u001b[43m=\u001b[49m\u001b[43mstream_cls\u001b[49m\u001b[43m)\u001b[49m)\n",
      "\u001b[36mFile \u001b[39m\u001b[32m~/Downloads/MakerspaceInventoryRestockAnalysis/.venv/lib/python3.13/site-packages/openai/_base_client.py:982\u001b[39m, in \u001b[36mSyncAPIClient.request\u001b[39m\u001b[34m(self, cast_to, options, stream, stream_cls)\u001b[39m\n\u001b[32m    980\u001b[39m response = \u001b[38;5;28;01mNone\u001b[39;00m\n\u001b[32m    981\u001b[39m \u001b[38;5;28;01mtry\u001b[39;00m:\n\u001b[32m--> \u001b[39m\u001b[32m982\u001b[39m     response = \u001b[38;5;28;43mself\u001b[39;49m\u001b[43m.\u001b[49m\u001b[43m_client\u001b[49m\u001b[43m.\u001b[49m\u001b[43msend\u001b[49m\u001b[43m(\u001b[49m\n\u001b[32m    983\u001b[39m \u001b[43m        \u001b[49m\u001b[43mrequest\u001b[49m\u001b[43m,\u001b[49m\n\u001b[32m    984\u001b[39m \u001b[43m        \u001b[49m\u001b[43mstream\u001b[49m\u001b[43m=\u001b[49m\u001b[43mstream\u001b[49m\u001b[43m \u001b[49m\u001b[38;5;129;43;01mor\u001b[39;49;00m\u001b[43m \u001b[49m\u001b[38;5;28;43mself\u001b[39;49m\u001b[43m.\u001b[49m\u001b[43m_should_stream_response_body\u001b[49m\u001b[43m(\u001b[49m\u001b[43mrequest\u001b[49m\u001b[43m=\u001b[49m\u001b[43mrequest\u001b[49m\u001b[43m)\u001b[49m\u001b[43m,\u001b[49m\n\u001b[32m    985\u001b[39m \u001b[43m        \u001b[49m\u001b[43m*\u001b[49m\u001b[43m*\u001b[49m\u001b[43mkwargs\u001b[49m\u001b[43m,\u001b[49m\n\u001b[32m    986\u001b[39m \u001b[43m    \u001b[49m\u001b[43m)\u001b[49m\n\u001b[32m    987\u001b[39m \u001b[38;5;28;01mexcept\u001b[39;00m httpx.TimeoutException \u001b[38;5;28;01mas\u001b[39;00m err:\n\u001b[32m    988\u001b[39m     log.debug(\u001b[33m\"\u001b[39m\u001b[33mEncountered httpx.TimeoutException\u001b[39m\u001b[33m\"\u001b[39m, exc_info=\u001b[38;5;28;01mTrue\u001b[39;00m)\n",
      "\u001b[36mFile \u001b[39m\u001b[32m~/Downloads/MakerspaceInventoryRestockAnalysis/.venv/lib/python3.13/site-packages/httpx/_client.py:914\u001b[39m, in \u001b[36mClient.send\u001b[39m\u001b[34m(self, request, stream, auth, follow_redirects)\u001b[39m\n\u001b[32m    910\u001b[39m \u001b[38;5;28mself\u001b[39m._set_timeout(request)\n\u001b[32m    912\u001b[39m auth = \u001b[38;5;28mself\u001b[39m._build_request_auth(request, auth)\n\u001b[32m--> \u001b[39m\u001b[32m914\u001b[39m response = \u001b[38;5;28;43mself\u001b[39;49m\u001b[43m.\u001b[49m\u001b[43m_send_handling_auth\u001b[49m\u001b[43m(\u001b[49m\n\u001b[32m    915\u001b[39m \u001b[43m    \u001b[49m\u001b[43mrequest\u001b[49m\u001b[43m,\u001b[49m\n\u001b[32m    916\u001b[39m \u001b[43m    \u001b[49m\u001b[43mauth\u001b[49m\u001b[43m=\u001b[49m\u001b[43mauth\u001b[49m\u001b[43m,\u001b[49m\n\u001b[32m    917\u001b[39m \u001b[43m    \u001b[49m\u001b[43mfollow_redirects\u001b[49m\u001b[43m=\u001b[49m\u001b[43mfollow_redirects\u001b[49m\u001b[43m,\u001b[49m\n\u001b[32m    918\u001b[39m \u001b[43m    \u001b[49m\u001b[43mhistory\u001b[49m\u001b[43m=\u001b[49m\u001b[43m[\u001b[49m\u001b[43m]\u001b[49m\u001b[43m,\u001b[49m\n\u001b[32m    919\u001b[39m \u001b[43m\u001b[49m\u001b[43m)\u001b[49m\n\u001b[32m    920\u001b[39m \u001b[38;5;28;01mtry\u001b[39;00m:\n\u001b[32m    921\u001b[39m     \u001b[38;5;28;01mif\u001b[39;00m \u001b[38;5;129;01mnot\u001b[39;00m stream:\n",
      "\u001b[36mFile \u001b[39m\u001b[32m~/Downloads/MakerspaceInventoryRestockAnalysis/.venv/lib/python3.13/site-packages/httpx/_client.py:942\u001b[39m, in \u001b[36mClient._send_handling_auth\u001b[39m\u001b[34m(self, request, auth, follow_redirects, history)\u001b[39m\n\u001b[32m    939\u001b[39m request = \u001b[38;5;28mnext\u001b[39m(auth_flow)\n\u001b[32m    941\u001b[39m \u001b[38;5;28;01mwhile\u001b[39;00m \u001b[38;5;28;01mTrue\u001b[39;00m:\n\u001b[32m--> \u001b[39m\u001b[32m942\u001b[39m     response = \u001b[38;5;28;43mself\u001b[39;49m\u001b[43m.\u001b[49m\u001b[43m_send_handling_redirects\u001b[49m\u001b[43m(\u001b[49m\n\u001b[32m    943\u001b[39m \u001b[43m        \u001b[49m\u001b[43mrequest\u001b[49m\u001b[43m,\u001b[49m\n\u001b[32m    944\u001b[39m \u001b[43m        \u001b[49m\u001b[43mfollow_redirects\u001b[49m\u001b[43m=\u001b[49m\u001b[43mfollow_redirects\u001b[49m\u001b[43m,\u001b[49m\n\u001b[32m    945\u001b[39m \u001b[43m        \u001b[49m\u001b[43mhistory\u001b[49m\u001b[43m=\u001b[49m\u001b[43mhistory\u001b[49m\u001b[43m,\u001b[49m\n\u001b[32m    946\u001b[39m \u001b[43m    \u001b[49m\u001b[43m)\u001b[49m\n\u001b[32m    947\u001b[39m     \u001b[38;5;28;01mtry\u001b[39;00m:\n\u001b[32m    948\u001b[39m         \u001b[38;5;28;01mtry\u001b[39;00m:\n",
      "\u001b[36mFile \u001b[39m\u001b[32m~/Downloads/MakerspaceInventoryRestockAnalysis/.venv/lib/python3.13/site-packages/httpx/_client.py:979\u001b[39m, in \u001b[36mClient._send_handling_redirects\u001b[39m\u001b[34m(self, request, follow_redirects, history)\u001b[39m\n\u001b[32m    976\u001b[39m \u001b[38;5;28;01mfor\u001b[39;00m hook \u001b[38;5;129;01min\u001b[39;00m \u001b[38;5;28mself\u001b[39m._event_hooks[\u001b[33m\"\u001b[39m\u001b[33mrequest\u001b[39m\u001b[33m\"\u001b[39m]:\n\u001b[32m    977\u001b[39m     hook(request)\n\u001b[32m--> \u001b[39m\u001b[32m979\u001b[39m response = \u001b[38;5;28;43mself\u001b[39;49m\u001b[43m.\u001b[49m\u001b[43m_send_single_request\u001b[49m\u001b[43m(\u001b[49m\u001b[43mrequest\u001b[49m\u001b[43m)\u001b[49m\n\u001b[32m    980\u001b[39m \u001b[38;5;28;01mtry\u001b[39;00m:\n\u001b[32m    981\u001b[39m     \u001b[38;5;28;01mfor\u001b[39;00m hook \u001b[38;5;129;01min\u001b[39;00m \u001b[38;5;28mself\u001b[39m._event_hooks[\u001b[33m\"\u001b[39m\u001b[33mresponse\u001b[39m\u001b[33m\"\u001b[39m]:\n",
      "\u001b[36mFile \u001b[39m\u001b[32m~/Downloads/MakerspaceInventoryRestockAnalysis/.venv/lib/python3.13/site-packages/httpx/_client.py:1014\u001b[39m, in \u001b[36mClient._send_single_request\u001b[39m\u001b[34m(self, request)\u001b[39m\n\u001b[32m   1009\u001b[39m     \u001b[38;5;28;01mraise\u001b[39;00m \u001b[38;5;167;01mRuntimeError\u001b[39;00m(\n\u001b[32m   1010\u001b[39m         \u001b[33m\"\u001b[39m\u001b[33mAttempted to send an async request with a sync Client instance.\u001b[39m\u001b[33m\"\u001b[39m\n\u001b[32m   1011\u001b[39m     )\n\u001b[32m   1013\u001b[39m \u001b[38;5;28;01mwith\u001b[39;00m request_context(request=request):\n\u001b[32m-> \u001b[39m\u001b[32m1014\u001b[39m     response = \u001b[43mtransport\u001b[49m\u001b[43m.\u001b[49m\u001b[43mhandle_request\u001b[49m\u001b[43m(\u001b[49m\u001b[43mrequest\u001b[49m\u001b[43m)\u001b[49m\n\u001b[32m   1016\u001b[39m \u001b[38;5;28;01massert\u001b[39;00m \u001b[38;5;28misinstance\u001b[39m(response.stream, SyncByteStream)\n\u001b[32m   1018\u001b[39m response.request = request\n",
      "\u001b[36mFile \u001b[39m\u001b[32m~/Downloads/MakerspaceInventoryRestockAnalysis/.venv/lib/python3.13/site-packages/httpx/_transports/default.py:250\u001b[39m, in \u001b[36mHTTPTransport.handle_request\u001b[39m\u001b[34m(self, request)\u001b[39m\n\u001b[32m    237\u001b[39m req = httpcore.Request(\n\u001b[32m    238\u001b[39m     method=request.method,\n\u001b[32m    239\u001b[39m     url=httpcore.URL(\n\u001b[32m   (...)\u001b[39m\u001b[32m    247\u001b[39m     extensions=request.extensions,\n\u001b[32m    248\u001b[39m )\n\u001b[32m    249\u001b[39m \u001b[38;5;28;01mwith\u001b[39;00m map_httpcore_exceptions():\n\u001b[32m--> \u001b[39m\u001b[32m250\u001b[39m     resp = \u001b[38;5;28;43mself\u001b[39;49m\u001b[43m.\u001b[49m\u001b[43m_pool\u001b[49m\u001b[43m.\u001b[49m\u001b[43mhandle_request\u001b[49m\u001b[43m(\u001b[49m\u001b[43mreq\u001b[49m\u001b[43m)\u001b[49m\n\u001b[32m    252\u001b[39m \u001b[38;5;28;01massert\u001b[39;00m \u001b[38;5;28misinstance\u001b[39m(resp.stream, typing.Iterable)\n\u001b[32m    254\u001b[39m \u001b[38;5;28;01mreturn\u001b[39;00m Response(\n\u001b[32m    255\u001b[39m     status_code=resp.status,\n\u001b[32m    256\u001b[39m     headers=resp.headers,\n\u001b[32m    257\u001b[39m     stream=ResponseStream(resp.stream),\n\u001b[32m    258\u001b[39m     extensions=resp.extensions,\n\u001b[32m    259\u001b[39m )\n",
      "\u001b[36mFile \u001b[39m\u001b[32m~/Downloads/MakerspaceInventoryRestockAnalysis/.venv/lib/python3.13/site-packages/httpcore/_sync/connection_pool.py:256\u001b[39m, in \u001b[36mConnectionPool.handle_request\u001b[39m\u001b[34m(self, request)\u001b[39m\n\u001b[32m    253\u001b[39m         closing = \u001b[38;5;28mself\u001b[39m._assign_requests_to_connections()\n\u001b[32m    255\u001b[39m     \u001b[38;5;28mself\u001b[39m._close_connections(closing)\n\u001b[32m--> \u001b[39m\u001b[32m256\u001b[39m     \u001b[38;5;28;01mraise\u001b[39;00m exc \u001b[38;5;28;01mfrom\u001b[39;00m\u001b[38;5;250m \u001b[39m\u001b[38;5;28;01mNone\u001b[39;00m\n\u001b[32m    258\u001b[39m \u001b[38;5;66;03m# Return the response. Note that in this case we still have to manage\u001b[39;00m\n\u001b[32m    259\u001b[39m \u001b[38;5;66;03m# the point at which the response is closed.\u001b[39;00m\n\u001b[32m    260\u001b[39m \u001b[38;5;28;01massert\u001b[39;00m \u001b[38;5;28misinstance\u001b[39m(response.stream, typing.Iterable)\n",
      "\u001b[36mFile \u001b[39m\u001b[32m~/Downloads/MakerspaceInventoryRestockAnalysis/.venv/lib/python3.13/site-packages/httpcore/_sync/connection_pool.py:236\u001b[39m, in \u001b[36mConnectionPool.handle_request\u001b[39m\u001b[34m(self, request)\u001b[39m\n\u001b[32m    232\u001b[39m connection = pool_request.wait_for_connection(timeout=timeout)\n\u001b[32m    234\u001b[39m \u001b[38;5;28;01mtry\u001b[39;00m:\n\u001b[32m    235\u001b[39m     \u001b[38;5;66;03m# Send the request on the assigned connection.\u001b[39;00m\n\u001b[32m--> \u001b[39m\u001b[32m236\u001b[39m     response = \u001b[43mconnection\u001b[49m\u001b[43m.\u001b[49m\u001b[43mhandle_request\u001b[49m\u001b[43m(\u001b[49m\n\u001b[32m    237\u001b[39m \u001b[43m        \u001b[49m\u001b[43mpool_request\u001b[49m\u001b[43m.\u001b[49m\u001b[43mrequest\u001b[49m\n\u001b[32m    238\u001b[39m \u001b[43m    \u001b[49m\u001b[43m)\u001b[49m\n\u001b[32m    239\u001b[39m \u001b[38;5;28;01mexcept\u001b[39;00m ConnectionNotAvailable:\n\u001b[32m    240\u001b[39m     \u001b[38;5;66;03m# In some cases a connection may initially be available to\u001b[39;00m\n\u001b[32m    241\u001b[39m     \u001b[38;5;66;03m# handle a request, but then become unavailable.\u001b[39;00m\n\u001b[32m    242\u001b[39m     \u001b[38;5;66;03m#\u001b[39;00m\n\u001b[32m    243\u001b[39m     \u001b[38;5;66;03m# In this case we clear the connection and try again.\u001b[39;00m\n\u001b[32m    244\u001b[39m     pool_request.clear_connection()\n",
      "\u001b[36mFile \u001b[39m\u001b[32m~/Downloads/MakerspaceInventoryRestockAnalysis/.venv/lib/python3.13/site-packages/httpcore/_sync/connection.py:103\u001b[39m, in \u001b[36mHTTPConnection.handle_request\u001b[39m\u001b[34m(self, request)\u001b[39m\n\u001b[32m    100\u001b[39m     \u001b[38;5;28mself\u001b[39m._connect_failed = \u001b[38;5;28;01mTrue\u001b[39;00m\n\u001b[32m    101\u001b[39m     \u001b[38;5;28;01mraise\u001b[39;00m exc\n\u001b[32m--> \u001b[39m\u001b[32m103\u001b[39m \u001b[38;5;28;01mreturn\u001b[39;00m \u001b[38;5;28;43mself\u001b[39;49m\u001b[43m.\u001b[49m\u001b[43m_connection\u001b[49m\u001b[43m.\u001b[49m\u001b[43mhandle_request\u001b[49m\u001b[43m(\u001b[49m\u001b[43mrequest\u001b[49m\u001b[43m)\u001b[49m\n",
      "\u001b[36mFile \u001b[39m\u001b[32m~/Downloads/MakerspaceInventoryRestockAnalysis/.venv/lib/python3.13/site-packages/httpcore/_sync/http11.py:136\u001b[39m, in \u001b[36mHTTP11Connection.handle_request\u001b[39m\u001b[34m(self, request)\u001b[39m\n\u001b[32m    134\u001b[39m     \u001b[38;5;28;01mwith\u001b[39;00m Trace(\u001b[33m\"\u001b[39m\u001b[33mresponse_closed\u001b[39m\u001b[33m\"\u001b[39m, logger, request) \u001b[38;5;28;01mas\u001b[39;00m trace:\n\u001b[32m    135\u001b[39m         \u001b[38;5;28mself\u001b[39m._response_closed()\n\u001b[32m--> \u001b[39m\u001b[32m136\u001b[39m \u001b[38;5;28;01mraise\u001b[39;00m exc\n",
      "\u001b[36mFile \u001b[39m\u001b[32m~/Downloads/MakerspaceInventoryRestockAnalysis/.venv/lib/python3.13/site-packages/httpcore/_sync/http11.py:106\u001b[39m, in \u001b[36mHTTP11Connection.handle_request\u001b[39m\u001b[34m(self, request)\u001b[39m\n\u001b[32m     95\u001b[39m     \u001b[38;5;28;01mpass\u001b[39;00m\n\u001b[32m     97\u001b[39m \u001b[38;5;28;01mwith\u001b[39;00m Trace(\n\u001b[32m     98\u001b[39m     \u001b[33m\"\u001b[39m\u001b[33mreceive_response_headers\u001b[39m\u001b[33m\"\u001b[39m, logger, request, kwargs\n\u001b[32m     99\u001b[39m ) \u001b[38;5;28;01mas\u001b[39;00m trace:\n\u001b[32m    100\u001b[39m     (\n\u001b[32m    101\u001b[39m         http_version,\n\u001b[32m    102\u001b[39m         status,\n\u001b[32m    103\u001b[39m         reason_phrase,\n\u001b[32m    104\u001b[39m         headers,\n\u001b[32m    105\u001b[39m         trailing_data,\n\u001b[32m--> \u001b[39m\u001b[32m106\u001b[39m     ) = \u001b[38;5;28;43mself\u001b[39;49m\u001b[43m.\u001b[49m\u001b[43m_receive_response_headers\u001b[49m\u001b[43m(\u001b[49m\u001b[43m*\u001b[49m\u001b[43m*\u001b[49m\u001b[43mkwargs\u001b[49m\u001b[43m)\u001b[49m\n\u001b[32m    107\u001b[39m     trace.return_value = (\n\u001b[32m    108\u001b[39m         http_version,\n\u001b[32m    109\u001b[39m         status,\n\u001b[32m    110\u001b[39m         reason_phrase,\n\u001b[32m    111\u001b[39m         headers,\n\u001b[32m    112\u001b[39m     )\n\u001b[32m    114\u001b[39m network_stream = \u001b[38;5;28mself\u001b[39m._network_stream\n",
      "\u001b[36mFile \u001b[39m\u001b[32m~/Downloads/MakerspaceInventoryRestockAnalysis/.venv/lib/python3.13/site-packages/httpcore/_sync/http11.py:177\u001b[39m, in \u001b[36mHTTP11Connection._receive_response_headers\u001b[39m\u001b[34m(self, request)\u001b[39m\n\u001b[32m    174\u001b[39m timeout = timeouts.get(\u001b[33m\"\u001b[39m\u001b[33mread\u001b[39m\u001b[33m\"\u001b[39m, \u001b[38;5;28;01mNone\u001b[39;00m)\n\u001b[32m    176\u001b[39m \u001b[38;5;28;01mwhile\u001b[39;00m \u001b[38;5;28;01mTrue\u001b[39;00m:\n\u001b[32m--> \u001b[39m\u001b[32m177\u001b[39m     event = \u001b[38;5;28;43mself\u001b[39;49m\u001b[43m.\u001b[49m\u001b[43m_receive_event\u001b[49m\u001b[43m(\u001b[49m\u001b[43mtimeout\u001b[49m\u001b[43m=\u001b[49m\u001b[43mtimeout\u001b[49m\u001b[43m)\u001b[49m\n\u001b[32m    178\u001b[39m     \u001b[38;5;28;01mif\u001b[39;00m \u001b[38;5;28misinstance\u001b[39m(event, h11.Response):\n\u001b[32m    179\u001b[39m         \u001b[38;5;28;01mbreak\u001b[39;00m\n",
      "\u001b[36mFile \u001b[39m\u001b[32m~/Downloads/MakerspaceInventoryRestockAnalysis/.venv/lib/python3.13/site-packages/httpcore/_sync/http11.py:217\u001b[39m, in \u001b[36mHTTP11Connection._receive_event\u001b[39m\u001b[34m(self, timeout)\u001b[39m\n\u001b[32m    214\u001b[39m     event = \u001b[38;5;28mself\u001b[39m._h11_state.next_event()\n\u001b[32m    216\u001b[39m \u001b[38;5;28;01mif\u001b[39;00m event \u001b[38;5;129;01mis\u001b[39;00m h11.NEED_DATA:\n\u001b[32m--> \u001b[39m\u001b[32m217\u001b[39m     data = \u001b[38;5;28;43mself\u001b[39;49m\u001b[43m.\u001b[49m\u001b[43m_network_stream\u001b[49m\u001b[43m.\u001b[49m\u001b[43mread\u001b[49m\u001b[43m(\u001b[49m\n\u001b[32m    218\u001b[39m \u001b[43m        \u001b[49m\u001b[38;5;28;43mself\u001b[39;49m\u001b[43m.\u001b[49m\u001b[43mREAD_NUM_BYTES\u001b[49m\u001b[43m,\u001b[49m\u001b[43m \u001b[49m\u001b[43mtimeout\u001b[49m\u001b[43m=\u001b[49m\u001b[43mtimeout\u001b[49m\n\u001b[32m    219\u001b[39m \u001b[43m    \u001b[49m\u001b[43m)\u001b[49m\n\u001b[32m    221\u001b[39m     \u001b[38;5;66;03m# If we feed this case through h11 we'll raise an exception like:\u001b[39;00m\n\u001b[32m    222\u001b[39m     \u001b[38;5;66;03m#\u001b[39;00m\n\u001b[32m    223\u001b[39m     \u001b[38;5;66;03m#     httpcore.RemoteProtocolError: can't handle event type\u001b[39;00m\n\u001b[32m   (...)\u001b[39m\u001b[32m    227\u001b[39m     \u001b[38;5;66;03m# perspective. Instead we handle this case distinctly and treat\u001b[39;00m\n\u001b[32m    228\u001b[39m     \u001b[38;5;66;03m# it as a ConnectError.\u001b[39;00m\n\u001b[32m    229\u001b[39m     \u001b[38;5;28;01mif\u001b[39;00m data == \u001b[33mb\u001b[39m\u001b[33m\"\u001b[39m\u001b[33m\"\u001b[39m \u001b[38;5;129;01mand\u001b[39;00m \u001b[38;5;28mself\u001b[39m._h11_state.their_state == h11.SEND_RESPONSE:\n",
      "\u001b[36mFile \u001b[39m\u001b[32m~/Downloads/MakerspaceInventoryRestockAnalysis/.venv/lib/python3.13/site-packages/httpcore/_backends/sync.py:128\u001b[39m, in \u001b[36mSyncStream.read\u001b[39m\u001b[34m(self, max_bytes, timeout)\u001b[39m\n\u001b[32m    126\u001b[39m \u001b[38;5;28;01mwith\u001b[39;00m map_exceptions(exc_map):\n\u001b[32m    127\u001b[39m     \u001b[38;5;28mself\u001b[39m._sock.settimeout(timeout)\n\u001b[32m--> \u001b[39m\u001b[32m128\u001b[39m     \u001b[38;5;28;01mreturn\u001b[39;00m \u001b[38;5;28;43mself\u001b[39;49m\u001b[43m.\u001b[49m\u001b[43m_sock\u001b[49m\u001b[43m.\u001b[49m\u001b[43mrecv\u001b[49m\u001b[43m(\u001b[49m\u001b[43mmax_bytes\u001b[49m\u001b[43m)\u001b[49m\n",
      "\u001b[36mFile \u001b[39m\u001b[32m/opt/homebrew/Cellar/python@3.13/3.13.2/Frameworks/Python.framework/Versions/3.13/lib/python3.13/ssl.py:1285\u001b[39m, in \u001b[36mSSLSocket.recv\u001b[39m\u001b[34m(self, buflen, flags)\u001b[39m\n\u001b[32m   1281\u001b[39m     \u001b[38;5;28;01mif\u001b[39;00m flags != \u001b[32m0\u001b[39m:\n\u001b[32m   1282\u001b[39m         \u001b[38;5;28;01mraise\u001b[39;00m \u001b[38;5;167;01mValueError\u001b[39;00m(\n\u001b[32m   1283\u001b[39m             \u001b[33m\"\u001b[39m\u001b[33mnon-zero flags not allowed in calls to recv() on \u001b[39m\u001b[38;5;132;01m%s\u001b[39;00m\u001b[33m\"\u001b[39m %\n\u001b[32m   1284\u001b[39m             \u001b[38;5;28mself\u001b[39m.\u001b[34m__class__\u001b[39m)\n\u001b[32m-> \u001b[39m\u001b[32m1285\u001b[39m     \u001b[38;5;28;01mreturn\u001b[39;00m \u001b[38;5;28;43mself\u001b[39;49m\u001b[43m.\u001b[49m\u001b[43mread\u001b[49m\u001b[43m(\u001b[49m\u001b[43mbuflen\u001b[49m\u001b[43m)\u001b[49m\n\u001b[32m   1286\u001b[39m \u001b[38;5;28;01melse\u001b[39;00m:\n\u001b[32m   1287\u001b[39m     \u001b[38;5;28;01mreturn\u001b[39;00m \u001b[38;5;28msuper\u001b[39m().recv(buflen, flags)\n",
      "\u001b[36mFile \u001b[39m\u001b[32m/opt/homebrew/Cellar/python@3.13/3.13.2/Frameworks/Python.framework/Versions/3.13/lib/python3.13/ssl.py:1140\u001b[39m, in \u001b[36mSSLSocket.read\u001b[39m\u001b[34m(self, len, buffer)\u001b[39m\n\u001b[32m   1138\u001b[39m         \u001b[38;5;28;01mreturn\u001b[39;00m \u001b[38;5;28mself\u001b[39m._sslobj.read(\u001b[38;5;28mlen\u001b[39m, buffer)\n\u001b[32m   1139\u001b[39m     \u001b[38;5;28;01melse\u001b[39;00m:\n\u001b[32m-> \u001b[39m\u001b[32m1140\u001b[39m         \u001b[38;5;28;01mreturn\u001b[39;00m \u001b[38;5;28;43mself\u001b[39;49m\u001b[43m.\u001b[49m\u001b[43m_sslobj\u001b[49m\u001b[43m.\u001b[49m\u001b[43mread\u001b[49m\u001b[43m(\u001b[49m\u001b[38;5;28;43mlen\u001b[39;49m\u001b[43m)\u001b[49m\n\u001b[32m   1141\u001b[39m \u001b[38;5;28;01mexcept\u001b[39;00m SSLError \u001b[38;5;28;01mas\u001b[39;00m x:\n\u001b[32m   1142\u001b[39m     \u001b[38;5;28;01mif\u001b[39;00m x.args[\u001b[32m0\u001b[39m] == SSL_ERROR_EOF \u001b[38;5;129;01mand\u001b[39;00m \u001b[38;5;28mself\u001b[39m.suppress_ragged_eofs:\n",
      "\u001b[31mKeyboardInterrupt\u001b[39m: "
     ]
    }
   ],
   "source": [
    "# MAIN PROGRAM - 'for' LOOP GOING OVER ALL RESTOCKS AND CREATING DATA FOR GRAPH\n",
    "\n",
    "i = 0 \n",
    "\n",
    "for req in restock_requests:    \n",
    "    #  Skip unapproved requests\n",
    "\n",
    "    if req[\"is_approved\"] is False:\n",
    "        continue\n",
    "\n",
    "    if i < (284 + 247):\n",
    "        i += 1\n",
    "        continue \n",
    "\n",
    "    print (\"\\n *********************************************************** \\n \")\n",
    "\n",
    "    # Split text vs links\n",
    "    user_request_text, links_items_list = link_find_split(req[\"item\"])\n",
    "    print (\"\\n text = \", user_request_text)\n",
    "    print (\"\\n link items = \", links_items_list)\n",
    "    \n",
    "    # Build query string for embedding\n",
    "    if len(links_items_list) != 0:\n",
    "        # join all link titles into one string \n",
    "        extracted_vector = embed_normalize([\"\".join(links_items_list)])[0]\n",
    "    else:\n",
    "        extracted_vector = embed_normalize([user_request_text])[0]\n",
    "\n",
    "    # Find top 5 inventory matches\n",
    "    five_possible_matches = find_five_inventory_match(extracted_vector, names_matrix, uuid_list, inventory_lookup)\n",
    "\n",
    "    final_item_uuid, final_item_name, final_item_location = llm_match(user_request_text, links_items_list, five_possible_matches)\n",
    "\n",
    "    print (\"LLM returns: \\n\", final_item_name, \"\\n\", final_item_location)\n",
    "\n",
    "    # Collect results (you can expand tuple into dict later for CSV/graph)\n",
    "    restocks_final_data.append([final_item_uuid, final_item_name, final_item_location, req[\"timestamp_sent\"], req[\"timestamp_completed\"]])\n"
   ]
  },
  {
   "cell_type": "code",
   "execution_count": 31,
   "metadata": {},
   "outputs": [
    {
     "name": "stdout",
     "output_type": "stream",
     "text": [
      "247\n"
     ]
    }
   ],
   "source": [
    "print(len(restocks_final_data))"
   ]
  },
  {
   "cell_type": "code",
   "execution_count": 32,
   "metadata": {},
   "outputs": [
    {
     "name": "stdout",
     "output_type": "stream",
     "text": [
      "Wrote 247 rows to restock_data_partial_1756799393.csv\n"
     ]
    }
   ],
   "source": [
    "\n",
    "\n",
    "csv_path = f\"restock_data_partial_{int(time.time())}.csv\"\n",
    "\n",
    "with open(csv_path, \"w\", newline=\"\", encoding=\"utf-8\") as f:\n",
    "    writer = csv.writer(f)\n",
    "    # adjust the header if your inner lists have a different shape/order\n",
    "    writer.writerow([\"uuid\", \"name\", \"location\", \"timestamp_sent\", \"timestamp_completed\"])\n",
    "    writer.writerows(restocks_final_data)\n",
    "\n",
    "print(f\"Wrote {len(restocks_final_data)} rows to {csv_path}\")\n"
   ]
  },
  {
   "cell_type": "code",
   "execution_count": 33,
   "metadata": {},
   "outputs": [
    {
     "name": "stdout",
     "output_type": "stream",
     "text": [
      "\n",
      " *********************************************************** \n",
      " \n",
      "\n",
      " text =  Small Hot Glue Sticks\n",
      "\n",
      " link items =  []\n"
     ]
    },
    {
     "name": "stderr",
     "output_type": "stream",
     "text": [
      "Batches: 100%|██████████| 1/1 [00:00<00:00,  2.72it/s]\n"
     ]
    },
    {
     "name": "stdout",
     "output_type": "stream",
     "text": [
      "Candidate: Nuts and Bolts — [{'room': 'Main', 'container': 'Cabinet 9', 'specific': 'Shelf 9'}]\n",
      "Candidate: Wood Glue — [{'room': 'Main', 'container': 'Cabinet 5', 'specific': 'Shelf 1'}]\n",
      "Candidate: Leatherworking Tools — [{'room': 'Main', 'container': 'Cabinet 9', 'specific': 'Shelf 4'}]\n",
      "Candidate: Large Hot Glue Sticks — [{'room': 'Cage', 'container': '5d', 'specific': 'Stack 4|-3'}]\n",
      "Candidate: Fabric Pen Refills — [{'room': 'Main', 'container': 'Pegboard 1', 'specific': 'I1'}]\n",
      "LLM returns: \n",
      " Wood Glue \n",
      " Cabinet 5\n",
      "\n",
      " *********************************************************** \n",
      " \n",
      "\n",
      " text =  Jewelry Clasps and Closures\n",
      "\n",
      " link items =  []\n"
     ]
    },
    {
     "name": "stderr",
     "output_type": "stream",
     "text": [
      "Batches: 100%|██████████| 1/1 [00:00<00:00,  7.22it/s]"
     ]
    },
    {
     "name": "stdout",
     "output_type": "stream",
     "text": [
      "Candidate: Assorted Metal Jewelry Chain — [{'room': 'Main', 'container': 'Cabinet 3', 'specific': 'Shelf 5'}, {'room': 'Cage', 'container': '5d', 'specific': 'Stack 2|-2'}]\n",
      "Candidate: Plastic/Metal Wire Cutters — [{'room': 'Laser3D', 'container': 'Main Table', 'specific': ''}, {'room': 'Cage', 'container': '5c', 'specific': 'Stack 5|-1'}]\n",
      "Candidate: Leather Belts — [{'room': 'Cage', 'container': '7a', 'specific': ''}]\n",
      "Candidate: Safety Pins — [{'room': 'Main', 'container': 'Cabinet 3', 'specific': 'Shelf 20'}, {'room': 'Main', 'container': 'Pegboard 1', 'specific': 'C4|-3'}, {'room': 'Cage', 'container': '5c', 'specific': 'Stack 18|-3'}]\n",
      "Candidate: Toothpicks — [{'room': 'Main', 'container': 'Cabinet 2', 'specific': 'Shelf 9'}, {'room': 'Cage', 'container': '5c', 'specific': 'Stack 17|-3'}]\n"
     ]
    },
    {
     "name": "stderr",
     "output_type": "stream",
     "text": [
      "\n"
     ]
    },
    {
     "name": "stdout",
     "output_type": "stream",
     "text": [
      "LLM returns: \n",
      " Assorted Metal Jewelry Chain \n",
      " Cabinet 3\n",
      "\n",
      " *********************************************************** \n",
      " \n",
      "\n",
      " text =  Jump Rings\n",
      "\n",
      " link items =  []\n"
     ]
    },
    {
     "name": "stderr",
     "output_type": "stream",
     "text": [
      "Batches: 100%|██████████| 1/1 [00:00<00:00, 11.62it/s]"
     ]
    },
    {
     "name": "stdout",
     "output_type": "stream",
     "text": [
      "Candidate: Microphone Stand, Cowboy Studio (w/ Boom Arm) — [{'room': 'Studio', 'container': 'Next to A', 'specific': None}]\n",
      "Candidate: Ink Pads — [{'room': 'Main', 'container': 'Cabinet 4', 'specific': 'Shelf 17'}, {'room': 'Cage', 'container': '5c', 'specific': 'Stack 20|-3'}]\n",
      "Candidate: Sewing Needles — [{'room': 'Main', 'container': 'Pegboard 1', 'specific': 'E1'}, {'room': 'Cage', 'container': '5e', 'specific': 'Pegboard Bins|-3'}]\n",
      "Candidate: Rotating 4\" x 4\" Filter Tray — [{'room': 'Studio', 'container': 'Studio 5', 'specific': 'Shelf 1'}]\n",
      "Candidate: Stepdown Ring, 100 mm — [{'room': 'Studio', 'container': 'Studio 5', 'specific': 'Shelf 1'}]\n"
     ]
    },
    {
     "name": "stderr",
     "output_type": "stream",
     "text": [
      "\n"
     ]
    },
    {
     "name": "stdout",
     "output_type": "stream",
     "text": [
      "LLM returns: \n",
      "  \n",
      " Cabinet 3\n",
      "\n",
      " *********************************************************** \n",
      " \n",
      "\n",
      " text =  Keychain Clasps\n",
      "\n",
      " link items =  []\n"
     ]
    },
    {
     "name": "stderr",
     "output_type": "stream",
     "text": [
      "Batches: 100%|██████████| 1/1 [00:00<00:00,  4.95it/s]\n"
     ]
    },
    {
     "name": "stdout",
     "output_type": "stream",
     "text": [
      "Candidate: Plastic/Metal Wire Cutters — [{'room': 'Laser3D', 'container': 'Main Table', 'specific': ''}, {'room': 'Cage', 'container': '5c', 'specific': 'Stack 5|-1'}]\n",
      "Candidate: Leather Belts — [{'room': 'Cage', 'container': '7a', 'specific': ''}]\n",
      "Candidate: Assorted Metal Jewelry Chain — [{'room': 'Main', 'container': 'Cabinet 3', 'specific': 'Shelf 5'}, {'room': 'Cage', 'container': '5d', 'specific': 'Stack 2|-2'}]\n",
      "Candidate: Ink Pads — [{'room': 'Main', 'container': 'Cabinet 4', 'specific': 'Shelf 17'}, {'room': 'Cage', 'container': '5c', 'specific': 'Stack 20|-3'}]\n",
      "Candidate: Safety Pins — [{'room': 'Main', 'container': 'Cabinet 3', 'specific': 'Shelf 20'}, {'room': 'Main', 'container': 'Pegboard 1', 'specific': 'C4|-3'}, {'room': 'Cage', 'container': '5c', 'specific': 'Stack 18|-3'}]\n",
      "LLM returns: \n",
      " Assorted Metal Jewelry Chain \n",
      " Cabinet 3\n",
      "\n",
      " *********************************************************** \n",
      " \n",
      "\n",
      " text =  Erasers\n",
      "\n",
      " link items =  []\n"
     ]
    },
    {
     "name": "stderr",
     "output_type": "stream",
     "text": [
      "Batches: 100%|██████████| 1/1 [00:00<00:00,  8.06it/s]"
     ]
    },
    {
     "name": "stdout",
     "output_type": "stream",
     "text": [
      "Candidate: Protractors — [{'room': 'Main', 'container': 'Cabinet 3', 'specific': 'Shelf 2'}, {'room': 'Cage', 'container': '5c', 'specific': 'Stack 3|-3'}]\n",
      "Candidate: Thimbles — [{'room': 'Main', 'container': 'Pegboard 1', 'specific': 'D4'}]\n",
      "Candidate: Origami Books — [{'room': 'Main', 'container': 'Fabrics', 'specific': None}]\n",
      "Candidate: Isopropyl Alcohol — [{'room': 'Cage', 'container': 'Flammable', 'specific': ''}, {'room': 'Laser3D', 'container': 'Cabinet 4', 'specific': '|1'}]\n",
      "Candidate: Silver Duct Tape — [{'room': 'Main', 'container': 'Cabinet 5', 'specific': 'Top'}, {'room': 'Cage', 'container': '5e', 'specific': '|16'}]\n"
     ]
    },
    {
     "name": "stderr",
     "output_type": "stream",
     "text": [
      "\n"
     ]
    },
    {
     "name": "stdout",
     "output_type": "stream",
     "text": [
      "LLM returns: \n",
      "  \n",
      " Cabinet 7\n",
      "\n",
      " *********************************************************** \n",
      " \n",
      "\n",
      " text =  Pins\n",
      "\n",
      " link items =  []\n"
     ]
    },
    {
     "name": "stderr",
     "output_type": "stream",
     "text": [
      "Batches: 100%|██████████| 1/1 [00:00<00:00,  6.41it/s]"
     ]
    },
    {
     "name": "stdout",
     "output_type": "stream",
     "text": [
      "Candidate:  Stencils — [{'room': 'Main', 'container': 'Cabinet 3', 'specific': 'Shelf 22'}, {'room': 'Backstock', 'container': 'Shelf 2', 'specific': '|11'}]\n",
      "Candidate: Velcro — [{'room': 'Main', 'container': 'Cabinet 1', 'specific': 'Shelf 17'}, {'room': 'Cage', 'container': '5d', 'specific': 'Stack 6|-3'}]\n",
      "Candidate: Cotton Swabs/Q-Tips — [{'room': 'Main', 'container': 'Cabinet 2', 'specific': 'Shelf 12'}, {'room': 'Cage', 'container': '5c', 'specific': 'Stack 15|-3'}]\n",
      "Candidate: Rubber Bands — [{'room': 'Main', 'container': 'Cabinet 3', 'specific': 'Shelf 19'}, {'room': 'Cage', 'container': '5d', 'specific': 'Stack 15|-3'}]\n",
      "Candidate: Darning Plate — [{'room': 'Main', 'container': 'Pegboard 1', 'specific': 'K3'}]\n"
     ]
    },
    {
     "name": "stderr",
     "output_type": "stream",
     "text": [
      "\n"
     ]
    },
    {
     "name": "stdout",
     "output_type": "stream",
     "text": [
      "LLM returns: \n",
      " Darning Plate \n",
      " Pegboard 1\n",
      "\n",
      " *********************************************************** \n",
      " \n",
      "\n",
      " text =  Rotary Cutters\n",
      "\n",
      " link items =  []\n"
     ]
    },
    {
     "name": "stderr",
     "output_type": "stream",
     "text": [
      "Batches: 100%|██████████| 1/1 [00:00<00:00,  6.86it/s]"
     ]
    },
    {
     "name": "stdout",
     "output_type": "stream",
     "text": [
      "Candidate: More Misc Electronics (Breadboard Circuit Components) — [{'room': 'Main', 'container': 'Black Pegboard 2', 'specific': None}]\n",
      "Candidate: Fabric Tape — [{'room': 'Main', 'container': 'Pegboard 1', 'specific': 'G7'}, {'room': 'Cage', 'container': '5e', 'specific': 'Pegboard Bins|1'}]\n",
      "Candidate: Sand Paper — [{'room': 'Main', 'container': 'Cabinet 11', 'specific': 'Top'}, {'room': 'Cage', 'container': '5c', 'specific': 'Stack 3|-2'}]\n",
      "Candidate: Wall Hanging Supplies — [{'room': 'Cage', 'container': '8d', 'specific': None}]\n",
      "Candidate: Large Button Maker (2.25\") — [{'room': 'Cage', 'container': '1c', 'specific': None}]\n"
     ]
    },
    {
     "name": "stderr",
     "output_type": "stream",
     "text": [
      "\n"
     ]
    },
    {
     "name": "stdout",
     "output_type": "stream",
     "text": [
      "LLM returns: \n",
      " Fabric Tape \n",
      " Pegboard 1\n",
      "\n",
      " *********************************************************** \n",
      " \n",
      "\n",
      " text =  Elastic String\n",
      "\n",
      " link items =  []\n"
     ]
    },
    {
     "name": "stderr",
     "output_type": "stream",
     "text": [
      "Batches: 100%|██████████| 1/1 [00:00<00:00,  4.41it/s]\n"
     ]
    },
    {
     "name": "stdout",
     "output_type": "stream",
     "text": [
      "Candidate: Bead Stringing Wire — [{'room': 'Main', 'container': 'Cabinet 3', 'specific': 'Shelf 4'}, {'room': 'Cage', 'container': '5c', 'specific': 'Stack 27|-3'}]\n",
      "Candidate: Craft Wire — [{'room': 'Main', 'container': 'Cabinet 3', 'specific': 'Shelf 8'}, {'room': 'Cage', 'container': '5d', 'specific': 'Stack 3|-3'}]\n",
      "Candidate: Plastic Jewelry Cord — [{'room': 'Main', 'container': 'Cabinet 3', 'specific': 'Shelf 4'}, {'room': 'Cage', 'container': '5c', 'specific': 'Stack 27|-2'}]\n",
      "Candidate: Leather Decorative Stamp Head — [{'room': 'Cage', 'container': '', 'specific': ''}]\n",
      "Candidate: Elastic String — [{'room': 'Main', 'container': 'Cabinet 3', 'specific': 'Shelf 4'}, {'room': 'Cage', 'container': '5c', 'specific': 'Stack 27|-3'}]\n",
      "LLM returns: \n",
      " Elastic String \n",
      " Cabinet 3\n",
      "\n",
      " *********************************************************** \n",
      " \n",
      "\n",
      " text =  Plastic Jewelry Cord\n",
      "\n",
      " link items =  []\n"
     ]
    },
    {
     "name": "stderr",
     "output_type": "stream",
     "text": [
      "Batches: 100%|██████████| 1/1 [00:00<00:00,  4.28it/s]\n"
     ]
    },
    {
     "name": "stdout",
     "output_type": "stream",
     "text": [
      "Candidate: Small Embroidery Hoops — [{'room': 'Main', 'container': 'Cabinet 1', 'specific': 'Shelf 7'}, {'room': 'Cage', 'container': '5d', 'specific': 'Stack 8|-3'}]\n",
      "Candidate: Thick White Elastic Band — [{'room': 'Main', 'container': 'Cabinet 1', 'specific': 'Shelf 13'}, {'room': 'Cage', 'container': '5c', 'specific': 'Stack 26|-1'}]\n",
      "Candidate: Toothpicks — [{'room': 'Main', 'container': 'Cabinet 2', 'specific': 'Shelf 9'}, {'room': 'Cage', 'container': '5c', 'specific': 'Stack 17|-3'}]\n",
      "Candidate: Safety Pins — [{'room': 'Main', 'container': 'Cabinet 3', 'specific': 'Shelf 20'}, {'room': 'Main', 'container': 'Pegboard 1', 'specific': 'C4|-3'}, {'room': 'Cage', 'container': '5c', 'specific': 'Stack 18|-3'}]\n",
      "Candidate: Cricut Replacement Blades — [{'room': 'Cage', 'container': '1d', 'specific': ''}]\n",
      "LLM returns: \n",
      " Safety Pins \n",
      " Cabinet 3\n",
      "\n",
      " *********************************************************** \n",
      " \n",
      "\n",
      " text =  Bead Stringing Wire\n",
      "\n",
      " link items =  []\n"
     ]
    },
    {
     "name": "stderr",
     "output_type": "stream",
     "text": [
      "Batches: 100%|██████████| 1/1 [00:00<00:00,  5.27it/s]"
     ]
    },
    {
     "name": "stdout",
     "output_type": "stream",
     "text": [
      "Candidate: Plastic Jewelry Cord — [{'room': 'Main', 'container': 'Cabinet 3', 'specific': 'Shelf 4'}, {'room': 'Cage', 'container': '5c', 'specific': 'Stack 27|-2'}]\n",
      "Candidate: Toothpicks — [{'room': 'Main', 'container': 'Cabinet 2', 'specific': 'Shelf 9'}, {'room': 'Cage', 'container': '5c', 'specific': 'Stack 17|-3'}]\n",
      "Candidate: Small Embroidery Hoops — [{'room': 'Main', 'container': 'Cabinet 1', 'specific': 'Shelf 7'}, {'room': 'Cage', 'container': '5d', 'specific': 'Stack 8|-3'}]\n",
      "Candidate: Thick Black Elastic Band — [{'room': 'Main', 'container': 'Cabinet 1', 'specific': 'Shelf 13'}, {'room': 'Cage', 'container': '5c', 'specific': 'Stack 26|-3'}]\n",
      "Candidate: Seed Beads — [{'room': 'Main', 'container': 'Cabinet 3', 'specific': 'Shelf 10'}, {'room': 'Cage', 'container': '5d', 'specific': 'Stack 8|-3'}]\n"
     ]
    },
    {
     "name": "stderr",
     "output_type": "stream",
     "text": [
      "\n"
     ]
    },
    {
     "name": "stdout",
     "output_type": "stream",
     "text": [
      "LLM returns: \n",
      " Plastic Jewelry Cord \n",
      " Cabinet 3\n",
      "\n",
      " *********************************************************** \n",
      " \n",
      "\n",
      " text =  Spare Solder Wire\n",
      "\n",
      " link items =  []\n"
     ]
    },
    {
     "name": "stderr",
     "output_type": "stream",
     "text": [
      "Batches: 100%|██████████| 1/1 [00:00<00:00, 13.05it/s]"
     ]
    },
    {
     "name": "stdout",
     "output_type": "stream",
     "text": [
      "Candidate: De-Soldering Pumps — [{'room': 'Backstock', 'container': 'Shelf 2', 'specific': None}]\n",
      "Candidate: Felting Mats — [{'room': 'Main', 'container': 'Cabinet 1', 'specific': 'Shelf 23'}]\n",
      "Candidate: Spare Solid core wire — [{'room': 'Other', 'container': '', 'specific': None}]\n",
      "Candidate: Tweezers for Electronics — [{'room': 'Other', 'container': '', 'specific': None}]\n",
      "Candidate: Crochet Hooks — [{'room': 'Main', 'container': 'Cabinet 1', 'specific': 'Shelf 5'}, {'room': 'Cage', 'container': '5c', 'specific': 'Stack 25|-3'}]\n"
     ]
    },
    {
     "name": "stderr",
     "output_type": "stream",
     "text": [
      "\n"
     ]
    },
    {
     "name": "stdout",
     "output_type": "stream",
     "text": [
      "LLM returns: \n",
      "  \n",
      " Electronics\n",
      "\n",
      " *********************************************************** \n",
      " \n",
      "\n",
      " text =  Sticker Paper\n",
      "\n",
      " link items =  []\n"
     ]
    },
    {
     "name": "stderr",
     "output_type": "stream",
     "text": [
      "Batches: 100%|██████████| 1/1 [00:00<00:00,  6.17it/s]"
     ]
    },
    {
     "name": "stdout",
     "output_type": "stream",
     "text": [
      "Candidate: Extra Signage — [{'room': 'Cage', 'container': '8d', 'specific': ''}]\n",
      "Candidate: Suede Lace — [{'room': 'Main', 'container': 'Cabinet 2', 'specific': 'Shelf 21'}]\n",
      "Candidate: Small Zip Ties — [{'room': 'Main', 'container': 'Cabinet 2', 'specific': 'Shelf 4'}, {'room': 'Cage', 'container': '5c', 'specific': 'Stack 2|-1'}]\n",
      "Candidate: PTFE Tape — [{'room': 'Cage', 'container': '8d', 'specific': ''}]\n",
      "Candidate: Pegboard Hardware — [{'room': 'Cage', 'container': 'Pegboard', 'specific': ''}]\n"
     ]
    },
    {
     "name": "stderr",
     "output_type": "stream",
     "text": [
      "\n"
     ]
    },
    {
     "name": "stdout",
     "output_type": "stream",
     "text": [
      "LLM returns: \n",
      "  \n",
      " Cabinet 7\n",
      "\n",
      " *********************************************************** \n",
      " \n",
      "\n",
      " text =  PLA - We have spools 20 left.\n",
      "\n",
      " link items =  []\n"
     ]
    },
    {
     "name": "stderr",
     "output_type": "stream",
     "text": [
      "Batches: 100%|██████████| 1/1 [00:00<00:00,  4.30it/s]\n"
     ]
    },
    {
     "name": "stdout",
     "output_type": "stream",
     "text": [
      "Candidate: PLA Filament — [{'room': 'The Crypt', 'container': '', 'specific': ''}]\n",
      "Candidate: Darning Plate — [{'room': 'Main', 'container': 'Pegboard 1', 'specific': 'K3'}]\n",
      "Candidate: Spare Vacuform Tubing — [{'room': 'The Crypt', 'container': '2b', 'specific': ''}]\n",
      "Candidate: Sewing Machine Screw Drivers — [{'room': 'Main', 'container': 'Pegboard 1', 'specific': 'J1'}]\n",
      "Candidate: Rotary Blade — [{'room': 'Cage', 'container': '5c', 'specific': 'Stack 6'}]\n",
      "LLM returns: \n",
      " PLA Filament \n",
      " Laser3D\n",
      "\n",
      " *********************************************************** \n",
      " \n",
      "\n",
      " text =  Spare Colorful PLA Spools\n",
      "\n",
      " link items =  []\n"
     ]
    },
    {
     "name": "stderr",
     "output_type": "stream",
     "text": [
      "Batches: 100%|██████████| 1/1 [00:00<00:00,  6.07it/s]"
     ]
    },
    {
     "name": "stdout",
     "output_type": "stream",
     "text": [
      "Candidate: PLA Filament — [{'room': 'The Crypt', 'container': '', 'specific': ''}]\n",
      "Candidate: Darning Plate — [{'room': 'Main', 'container': 'Pegboard 1', 'specific': 'K3'}]\n",
      "Candidate: Laser Cutter Replacement Parts — [{'room': 'Laser3D', 'container': 'In Laser Cutter Side Panel', 'specific': ''}]\n",
      "Candidate: Tweezers for Electronics — [{'room': 'Other', 'container': '', 'specific': None}]\n",
      "Candidate: Spare Vacuform Tubing — [{'room': 'The Crypt', 'container': '2b', 'specific': ''}]\n"
     ]
    },
    {
     "name": "stderr",
     "output_type": "stream",
     "text": [
      "\n"
     ]
    },
    {
     "name": "stdout",
     "output_type": "stream",
     "text": [
      "LLM returns: \n",
      " Laser Cutter Replacement Parts \n",
      " Laser3D\n",
      "\n",
      " *********************************************************** \n",
      " \n",
      "\n",
      " text =  Single Hole Punchers\n",
      "\n",
      " link items =  []\n"
     ]
    },
    {
     "name": "stderr",
     "output_type": "stream",
     "text": [
      "Batches: 100%|██████████| 1/1 [00:00<00:00,  4.84it/s]\n"
     ]
    },
    {
     "name": "stdout",
     "output_type": "stream",
     "text": [
      "Candidate: Measuring Tape — [{'room': 'Main', 'container': 'Cabinet 11', 'specific': 'Shelf 2'}, {'room': 'Cage', 'container': '5d', 'specific': 'Stack 15|-3'}]\n",
      "Candidate: Compasses — [{'room': 'Main', 'container': 'Cabinet 3', 'specific': 'Shelf 18'}]\n",
      "Candidate: Radius Gauge — [{'room': 'Main', 'container': 'Cabinet 11', 'specific': 'Shelf 2'}]\n",
      "Candidate: Screws — [{'room': 'Main', 'container': 'Cabinet 9', 'specific': 'Shelf 8'}]\n",
      "Candidate: Impact Driver — [{'room': 'Cage', 'container': '2c', 'specific': None}]\n",
      "LLM returns: \n",
      " Measuring Tape \n",
      " Cabinet 11\n",
      "\n",
      " *********************************************************** \n",
      " \n",
      "\n",
      " text =  Heat Shrinks\n",
      "\n",
      " link items =  []\n"
     ]
    },
    {
     "name": "stderr",
     "output_type": "stream",
     "text": [
      "Batches: 100%|██████████| 1/1 [00:00<00:00,  4.06it/s]\n"
     ]
    },
    {
     "name": "stdout",
     "output_type": "stream",
     "text": [
      "Candidate: Wire Strippers and Clippers — [{'room': 'Electronics', 'container': None, 'specific': None}]\n",
      "Candidate: Drill — [{'room': 'Cage', 'container': '2c', 'specific': None}]\n",
      "Candidate: Old Computer PSUs — [{'room': 'The Crypt', 'container': '2c', 'specific': ''}]\n",
      "Candidate: Nuts and Bolts — [{'room': 'Main', 'container': 'Cabinet 9', 'specific': 'Shelf 9'}]\n",
      "Candidate: Dress Form — [{'room': 'Cage', 'container': 'Next to Shelf 5', 'specific': None}]\n",
      "LLM returns: \n",
      " Wire Strippers and Clippers \n",
      " Electronics\n",
      "\n",
      " *********************************************************** \n",
      " \n",
      "\n",
      " text =  Fabric Tape\n",
      "\n",
      " link items =  []\n"
     ]
    },
    {
     "name": "stderr",
     "output_type": "stream",
     "text": [
      "Batches: 100%|██████████| 1/1 [00:00<00:00,  4.06it/s]\n"
     ]
    },
    {
     "name": "stdout",
     "output_type": "stream",
     "text": [
      "Candidate: Seam Rippers — [{'room': 'Main', 'container': 'Pegboard 1', 'specific': 'E5'}, {'room': 'Cage', 'container': '5c', 'specific': 'Stack 7|-3'}]\n",
      "Candidate: Leather Sewing Machine — [{'room': 'Cage', 'container': 'Floor', 'specific': None}]\n",
      "Candidate: 3.5 mm Male to XLR Female Cable Short — [{'room': 'Studio', 'container': 'Studio 2', 'specific': 'Shelf 8'}]\n",
      "Candidate: 3.5 mm Male to XLR Male Cable Short — [{'room': 'Studio', 'container': 'Studio 2', 'specific': 'Shelf 8'}]\n",
      "Candidate: Rhinestones — [{'room': 'Main', 'container': 'Cabinet 2', 'specific': 'Shelf 19'}, {'room': 'Cage', 'container': '5d', 'specific': 'Stack 12|-3'}]\n",
      "LLM returns: \n",
      "  \n",
      " Cabinet 5\n",
      "\n",
      " *********************************************************** \n",
      " \n",
      "\n",
      " text =  Replacement Filament buffer for Gemini 3d printer (repair department)\n",
      "\n",
      " link items =  ['Filament Buffer']\n"
     ]
    },
    {
     "name": "stderr",
     "output_type": "stream",
     "text": [
      "Batches: 100%|██████████| 1/1 [00:00<00:00,  5.33it/s]"
     ]
    },
    {
     "name": "stdout",
     "output_type": "stream",
     "text": [
      "Candidate: Laser Cutter Replacement Parts — [{'room': 'Laser3D', 'container': 'In Laser Cutter Side Panel', 'specific': ''}]\n",
      "Candidate: Spare Fuse Sift Sieve — [{'room': 'Laser3D', 'container': 'Cabinet 8', 'specific': ''}]\n",
      "Candidate: Laminator Sheets (Legal, 11.5\" x 17.5\") — [{'room': 'Cage', 'container': '1b', 'specific': ''}]\n",
      "Candidate: Various Stickers — [{'room': 'Main', 'container': 'Cabinet 2', 'specific': 'Shelf 5'}]\n",
      "Candidate: Work Gloves — [{'room': 'Cage', 'container': '8c', 'specific': None}]\n"
     ]
    },
    {
     "name": "stderr",
     "output_type": "stream",
     "text": [
      "\n"
     ]
    },
    {
     "name": "stdout",
     "output_type": "stream",
     "text": [
      "LLM returns: \n",
      " Laser Cutter Replacement Parts \n",
      " Laser3D\n",
      "\n",
      " *********************************************************** \n",
      " \n",
      "\n",
      " text =  LFP Glossy Paper\n",
      "\n",
      " link items =  []\n"
     ]
    },
    {
     "name": "stderr",
     "output_type": "stream",
     "text": [
      "Batches: 100%|██████████| 1/1 [00:00<00:00,  7.17it/s]"
     ]
    },
    {
     "name": "stdout",
     "output_type": "stream",
     "text": [
      "Candidate: Leather Seeder Tool — [{'room': 'Studio', 'container': '', 'specific': ''}]\n",
      "Candidate: LFP Matte Paper — [{'room': 'The Crypt', 'container': 'Floor', 'specific': ''}]\n",
      "Candidate: Spare Drill Bits — [{'room': 'Backstock', 'container': 'Shelf 2', 'specific': ''}]\n",
      "Candidate: LFP9900 Light Cyan Ink — [{'room': 'The Crypt', 'container': '3B', 'specific': ''}]\n",
      "Candidate: Outdoor Timer — [{'room': 'The Crypt', 'container': '2d', 'specific': ''}]\n"
     ]
    },
    {
     "name": "stderr",
     "output_type": "stream",
     "text": [
      "\n"
     ]
    },
    {
     "name": "stdout",
     "output_type": "stream",
     "text": [
      "LLM returns: \n",
      " LFP Matte Paper \n",
      " LFP\n",
      "\n",
      " *********************************************************** \n",
      " \n",
      "\n",
      " text =  Key Rings\n",
      "\n",
      " link items =  []\n"
     ]
    },
    {
     "name": "stderr",
     "output_type": "stream",
     "text": [
      "Batches: 100%|██████████| 1/1 [00:00<00:00,  3.65it/s]\n"
     ]
    },
    {
     "name": "stdout",
     "output_type": "stream",
     "text": [
      "Candidate: Ink Pads — [{'room': 'Main', 'container': 'Cabinet 4', 'specific': 'Shelf 17'}, {'room': 'Cage', 'container': '5c', 'specific': 'Stack 20|-3'}]\n",
      "Candidate: Microphone Stand, Cowboy Studio (w/ Boom Arm) — [{'room': 'Studio', 'container': 'Next to A', 'specific': None}]\n",
      "Candidate: QR Code Labels — [{'room': 'Cage', 'container': '8d', 'specific': ''}]\n",
      "Candidate: PVC Cutter — [{'room': 'Cage', 'container': '2d', 'specific': ''}]\n",
      "Candidate: Plastic/Metal Wire Cutters — [{'room': 'Laser3D', 'container': 'Main Table', 'specific': ''}, {'room': 'Cage', 'container': '5c', 'specific': 'Stack 5|-1'}]\n",
      "LLM returns: \n",
      "  \n",
      " Cabinet 3\n",
      "\n",
      " *********************************************************** \n",
      " \n",
      "\n",
      " text =  Grey Cardstock\n",
      "\n",
      " link items =  []\n"
     ]
    },
    {
     "name": "stderr",
     "output_type": "stream",
     "text": [
      "Batches: 100%|██████████| 1/1 [00:00<00:00,  4.74it/s]\n"
     ]
    },
    {
     "name": "stdout",
     "output_type": "stream",
     "text": [
      "Candidate: Black Paracord — [{'room': 'Main', 'container': 'Pegboard 1', 'specific': 'Front'}]\n",
      "Candidate: Red Cardstock — [{'room': 'Main', 'container': 'Cabinet 7', 'specific': ''}, {'room': 'Cage', 'container': '8d', 'specific': ''}]\n",
      "Candidate: White Cardstock — [{'room': 'Cage', 'container': '', 'specific': ''}]\n",
      "Candidate: 126 Pumpkin Thread — [{'room': 'Main', 'container': '', 'specific': ''}]\n",
      "Candidate: Scrap Books/Magazines — [{'room': 'Main', 'container': 'Cabinet 7', 'specific': 'Top'}]\n",
      "LLM returns: \n",
      " Red Cardstock \n",
      " Cabinet 7\n",
      "\n",
      " *********************************************************** \n",
      " \n",
      "\n",
      " text =  Red Cardstock\n",
      "\n",
      " link items =  []\n"
     ]
    },
    {
     "name": "stderr",
     "output_type": "stream",
     "text": [
      "Batches: 100%|██████████| 1/1 [00:00<00:00,  4.36it/s]\n"
     ]
    },
    {
     "name": "stdout",
     "output_type": "stream",
     "text": [
      "Candidate: 126 Pumpkin Thread — [{'room': 'Main', 'container': '', 'specific': ''}]\n",
      "Candidate: White Cardstock — [{'room': 'Cage', 'container': '', 'specific': ''}]\n",
      "Candidate: Red Cardstock — [{'room': 'Main', 'container': 'Cabinet 7', 'specific': ''}, {'room': 'Cage', 'container': '8d', 'specific': ''}]\n",
      "Candidate: Black Paracord — [{'room': 'Main', 'container': 'Pegboard 1', 'specific': 'Front'}]\n",
      "Candidate: Scrap Books/Magazines — [{'room': 'Main', 'container': 'Cabinet 7', 'specific': 'Top'}]\n",
      "LLM returns: \n",
      " Red Cardstock \n",
      " Cabinet 7\n",
      "\n",
      " *********************************************************** \n",
      " \n",
      "\n",
      " text =  White Cardstock\n",
      "\n",
      " link items =  []\n"
     ]
    },
    {
     "name": "stderr",
     "output_type": "stream",
     "text": [
      "Batches: 100%|██████████| 1/1 [00:00<00:00,  3.52it/s]\n"
     ]
    },
    {
     "name": "stdout",
     "output_type": "stream",
     "text": [
      "Candidate: Red Cardstock — [{'room': 'Main', 'container': 'Cabinet 7', 'specific': ''}, {'room': 'Cage', 'container': '8d', 'specific': ''}]\n",
      "Candidate: White Cardstock — [{'room': 'Cage', 'container': '', 'specific': ''}]\n",
      "Candidate: 126 Pumpkin Thread — [{'room': 'Main', 'container': '', 'specific': ''}]\n",
      "Candidate: Black Paracord — [{'room': 'Main', 'container': 'Pegboard 1', 'specific': 'Front'}]\n",
      "Candidate: Scrap Books/Magazines — [{'room': 'Main', 'container': 'Cabinet 7', 'specific': 'Top'}]\n",
      "LLM returns: \n",
      " Red Cardstock \n",
      " Cabinet 7\n",
      "\n",
      " *********************************************************** \n",
      " \n",
      "\n",
      " text =  120 Thread Pegboard\n",
      "\n",
      " link items =  []\n"
     ]
    },
    {
     "name": "stderr",
     "output_type": "stream",
     "text": [
      "Batches: 100%|██████████| 1/1 [00:00<00:00,  7.26it/s]"
     ]
    },
    {
     "name": "stdout",
     "output_type": "stream",
     "text": [
      "Candidate: Black Cardstock — [{'room': 'Cage', 'container': '', 'specific': ''}]\n",
      "Candidate: Extra Large Metal Ruler (72\") — [{'room': 'Cage', 'container': 'Pegboard', 'specific': ''}]\n",
      "Candidate: Sawhorses — [{'room': 'Outdoor Storage', 'container': None, 'specific': None}]\n",
      "Candidate: 323 Light Brown Thread — [{'room': 'Main', 'container': '', 'specific': ''}]\n",
      "Candidate: LFP9900 Maintenance Box — [{'room': 'The Crypt', 'container': '3B', 'specific': ''}]\n"
     ]
    },
    {
     "name": "stderr",
     "output_type": "stream",
     "text": [
      "\n"
     ]
    },
    {
     "name": "stdout",
     "output_type": "stream",
     "text": [
      "LLM returns: \n",
      " 323 Light Brown Thread \n",
      " Pegboard 1\n",
      "\n",
      " *********************************************************** \n",
      " \n",
      "\n",
      " text =  White Acrylic Paint\n",
      "\n",
      " link items =  []\n"
     ]
    },
    {
     "name": "stderr",
     "output_type": "stream",
     "text": [
      "Batches: 100%|██████████| 1/1 [00:00<00:00,  3.22it/s]\n"
     ]
    },
    {
     "name": "stdout",
     "output_type": "stream",
     "text": [
      "Candidate: Black Polyester Thread — [{'room': 'Cage', 'container': '5c', 'specific': 'Stack 1'}]\n",
      "Candidate: Pipe Cleaners — [{'room': 'Main', 'container': 'Cabinet 2', 'specific': 'Shelf 8'}, {'room': 'Cage', 'container': '5d', 'specific': 'Stack 13|-3'}]\n",
      "Candidate: White Acrylic Paint — [{'room': 'Cage', 'container': '5c', 'specific': 'Stack 21|-3'}]\n",
      "Candidate: Drop Cloths — [{'room': 'Cage', 'container': '1a', 'specific': None}]\n",
      "Candidate: Halogen Modeling Light Bulb, Impact — [{'room': 'Studio', 'container': 'Studio 3', 'specific': 'Shelf 4'}]\n",
      "LLM returns: \n",
      "  \n",
      " Cabinet 4\n",
      "\n",
      " *********************************************************** \n",
      " \n",
      "\n",
      " text =  Large Files\n",
      "\n",
      " link items =  []\n"
     ]
    },
    {
     "name": "stderr",
     "output_type": "stream",
     "text": [
      "Batches: 100%|██████████| 1/1 [00:00<00:00,  4.00it/s]\n"
     ]
    },
    {
     "name": "stdout",
     "output_type": "stream",
     "text": [
      "Candidate: Wrenches — [{'room': 'Main', 'container': 'Cabinet 11', 'specific': 'Shelf 1'}]\n",
      "Candidate: Parchment Paper — [{'room': 'Cage', 'container': '4c', 'specific': ''}]\n",
      "Candidate: Wood Carving Tools — [{'room': 'Main', 'container': 'Cabinet 9', 'specific': 'Shelf 3'}]\n",
      "Candidate: Pink Buttons — [{'room': 'Main', 'container': 'Pegboard 1', 'specific': 'A7'}, {'room': 'Cage', 'container': '5d', 'specific': 'Stack 10|-2'}]\n",
      "Candidate: Wall Tape — [{'room': 'Cage', 'container': '8d', 'specific': ''}]\n",
      "LLM returns: \n",
      " Wrenches \n",
      " Cabinet 11\n",
      "\n",
      " *********************************************************** \n",
      " \n",
      "\n",
      " text =  Air Dry Clay\n",
      "\n",
      " link items =  []\n"
     ]
    },
    {
     "name": "stderr",
     "output_type": "stream",
     "text": [
      "Batches: 100%|██████████| 1/1 [00:00<00:00,  2.64it/s]\n"
     ]
    },
    {
     "name": "stdout",
     "output_type": "stream",
     "text": [
      "Candidate: Gold Linocut Ink  — [{'room': 'Cage', 'container': 'Shelf 1', 'specific': ''}]\n",
      "Candidate: KimTech Wipes — [{'room': 'Laser3D', 'container': 'leftmost cabinet', 'specific': ''}]\n",
      "Candidate: Spare Stranded-core wire — [{'room': 'Other', 'container': '', 'specific': None}]\n",
      "Candidate: Digital Soldering Station — [{'room': 'Other', 'container': '', 'specific': None}]\n",
      "Candidate: Sand Paper Splint — [{'room': 'Main', 'container': 'Cabinet 11', 'specific': 'Top'}, {'room': 'Backstock', 'container': 'Shelf 2', 'specific': '|3'}]\n",
      "LLM returns: \n",
      "  \n",
      " Cabinet 9\n",
      "\n",
      " *********************************************************** \n",
      " \n",
      "\n",
      " text =  Cotton Swabs/Q-Tips\n",
      "\n",
      " link items =  []\n"
     ]
    },
    {
     "name": "stderr",
     "output_type": "stream",
     "text": [
      "Batches: 100%|██████████| 1/1 [00:00<00:00,  1.72it/s]\n"
     ]
    },
    {
     "name": "stdout",
     "output_type": "stream",
     "text": [
      "Candidate: Paint Palettes — [{'room': 'Main', 'container': 'Cabinet 4', 'specific': 'Shelf 8'}, {'room': 'Cage', 'container': '5d', 'specific': 'Stack 10|-3'}]\n",
      "Candidate: Round Nose Pliers — [{'room': 'Main', 'container': 'Cabinet 3', 'specific': 'Shelf 3'}, {'room': 'Cage', 'container': '5c', 'specific': 'Stack 12|0'}]\n",
      "Candidate: Black Ballpoint Pens — [{'room': 'Main', 'container': 'Cabinet 4', 'specific': 'Shelf 13'}, {'room': 'Cage', 'container': '5c', 'specific': 'Stack 9|-1'}]\n",
      "Candidate: Fabric Spray Paint — [{'room': 'Other', 'container': 'Spray Paint Booth', 'specific': 'Flammable'}]\n",
      "Candidate: Chip Brushes — [{'room': 'Main', 'container': 'cabinet 4 shelf 12', 'specific': None}]\n",
      "LLM returns: \n",
      " Chip Brushes \n",
      " Cabinet 4\n",
      "\n",
      " *********************************************************** \n",
      " \n",
      "\n",
      " text =  Popsicle Sticks\n",
      "\n",
      " link items =  []\n"
     ]
    },
    {
     "name": "stderr",
     "output_type": "stream",
     "text": [
      "Batches: 100%|██████████| 1/1 [00:00<00:00,  3.13it/s]\n"
     ]
    },
    {
     "name": "stdout",
     "output_type": "stream",
     "text": [
      "Candidate: Stamps — [{'room': 'Main', 'container': 'Cabinet 4', 'specific': 'Shelf 20, Shelf 21, Shelf 23'}]\n",
      "Candidate: Leatherworking Tools — [{'room': 'Main', 'container': 'Cabinet 9', 'specific': 'Shelf 4'}]\n",
      "Candidate: DeWalt ShopVac Replacement Air Filter — [{'room': 'Cage', 'container': '8b', 'specific': ''}]\n",
      "Candidate: PTFE Tape — [{'room': 'Cage', 'container': '8d', 'specific': ''}]\n",
      "Candidate: Ziploc Plastic Bags (Gallon) — [{'room': 'Main', 'container': 'Cabinet 2', 'specific': 'Shelf 2'}, {'room': 'Cage', 'container': '5b', 'specific': '|12'}, {'room': 'Cage', 'container': '8e', 'specific': '|1'}]\n",
      "LLM returns: \n",
      " Ziploc Plastic Bags (Gallon) \n",
      " Cabinet 2\n",
      "\n",
      " *********************************************************** \n",
      " \n",
      "\n",
      " text =  Small Metal Magnets\n",
      "\n",
      " link items =  []\n"
     ]
    },
    {
     "name": "stderr",
     "output_type": "stream",
     "text": [
      "Batches: 100%|██████████| 1/1 [00:00<00:00,  8.57it/s]"
     ]
    },
    {
     "name": "stdout",
     "output_type": "stream",
     "text": [
      "Candidate: Medium Metal Magnets — [{'room': 'Main', 'container': 'Cabinet 2', 'specific': 'Shelf 1'}, {'room': 'Cage', 'container': '5c', 'specific': 'Stack 14|-3'}]\n",
      "Candidate: Ceramic Magnets — [{'room': 'Main', 'container': 'Cabinet 2', 'specific': 'Shelf 1'}, {'room': 'Cage', 'container': '5c', 'specific': 'Stack 14|-2'}]\n",
      "Candidate: Paint Pens — [{'room': 'Main', 'container': 'Cabinet 4', 'specific': 'Shelf 2'}]\n",
      "Candidate: Safety Eyes — [{'room': 'Main', 'container': 'Pegboard 1', 'specific': ''}]\n",
      "Candidate: Spare Embroidery Machine Power Cables — [{'room': 'Cage', 'container': '3b', 'specific': None}]\n"
     ]
    },
    {
     "name": "stderr",
     "output_type": "stream",
     "text": [
      "\n"
     ]
    },
    {
     "name": "stdout",
     "output_type": "stream",
     "text": [
      "LLM returns: \n",
      " Medium Metal Magnets \n",
      " Cabinet 2\n",
      "\n",
      " *********************************************************** \n",
      " \n",
      "\n",
      " text =  Medium Metal Magnets\n",
      "\n",
      " link items =  []\n"
     ]
    },
    {
     "name": "stderr",
     "output_type": "stream",
     "text": [
      "Batches: 100%|██████████| 1/1 [00:00<00:00,  4.14it/s]\n"
     ]
    },
    {
     "name": "stdout",
     "output_type": "stream",
     "text": [
      "Candidate: Ceramic Magnets — [{'room': 'Main', 'container': 'Cabinet 2', 'specific': 'Shelf 1'}, {'room': 'Cage', 'container': '5c', 'specific': 'Stack 14|-2'}]\n",
      "Candidate: Medium Metal Magnets — [{'room': 'Main', 'container': 'Cabinet 2', 'specific': 'Shelf 1'}, {'room': 'Cage', 'container': '5c', 'specific': 'Stack 14|-3'}]\n",
      "Candidate: Paint Pens — [{'room': 'Main', 'container': 'Cabinet 4', 'specific': 'Shelf 2'}]\n",
      "Candidate: Spare Coping Saw Blades — [{'room': 'Cage', 'container': 'Pegboard', 'specific': ''}]\n",
      "Candidate: Safety Eyes — [{'room': 'Main', 'container': 'Pegboard 1', 'specific': ''}]\n",
      "LLM returns: \n",
      " Medium Metal Magnets \n",
      " Cabinet 2\n",
      "\n",
      " *********************************************************** \n",
      " \n",
      "\n",
      " text =  White Acrylic Paint\n",
      "\n",
      " link items =  []\n"
     ]
    },
    {
     "name": "stderr",
     "output_type": "stream",
     "text": [
      "Batches: 100%|██████████| 1/1 [00:00<00:00,  4.43it/s]\n"
     ]
    },
    {
     "name": "stdout",
     "output_type": "stream",
     "text": [
      "Candidate: Black Polyester Thread — [{'room': 'Cage', 'container': '5c', 'specific': 'Stack 1'}]\n",
      "Candidate: Pipe Cleaners — [{'room': 'Main', 'container': 'Cabinet 2', 'specific': 'Shelf 8'}, {'room': 'Cage', 'container': '5d', 'specific': 'Stack 13|-3'}]\n",
      "Candidate: White Acrylic Paint — [{'room': 'Cage', 'container': '5c', 'specific': 'Stack 21|-3'}]\n",
      "Candidate: Drop Cloths — [{'room': 'Cage', 'container': '1a', 'specific': None}]\n",
      "Candidate: Halogen Modeling Light Bulb, Impact — [{'room': 'Studio', 'container': 'Studio 3', 'specific': 'Shelf 4'}]\n",
      "LLM returns: \n",
      "  \n",
      " Cabinet 4\n",
      "\n",
      " *********************************************************** \n",
      " \n",
      "\n",
      " text =  Thread Locker. Please buy blue and red loctite threadlocker\n",
      "\n",
      " link items =  []\n"
     ]
    },
    {
     "name": "stderr",
     "output_type": "stream",
     "text": [
      "Batches: 100%|██████████| 1/1 [00:00<00:00,  3.28it/s]\n"
     ]
    },
    {
     "name": "stdout",
     "output_type": "stream",
     "text": [
      "Candidate: Cutting Fluid — [{'room': 'Cage', 'container': '7c', 'specific': ''}]\n",
      "Candidate: 502 Mint Green Thread — [{'room': 'Main', 'container': '', 'specific': ''}]\n",
      "Candidate: 415 Peacock Blue Thread — [{'room': 'Main', 'container': '', 'specific': ''}]\n",
      "Candidate: Keychain Clasps — [{'room': 'Main', 'container': 'Cabinet 3', 'specific': 'Shelf 9'}, {'room': 'Cage', 'container': '5d', 'specific': 'Stack 3|-3'}]\n",
      "Candidate: 307 Linen Thread — [{'room': 'Main', 'container': '', 'specific': ''}]\n",
      "LLM returns: \n",
      "  \n",
      " Cabinet 5\n",
      "\n",
      " *********************************************************** \n",
      " \n",
      "\n",
      " text =  Fabric Glue\n",
      "\n",
      " link items =  []\n"
     ]
    },
    {
     "name": "stderr",
     "output_type": "stream",
     "text": [
      "Batches: 100%|██████████| 1/1 [00:00<00:00,  9.01it/s]"
     ]
    },
    {
     "name": "stdout",
     "output_type": "stream",
     "text": [
      "Candidate: Leather Sewing Machine — [{'room': 'Cage', 'container': 'Floor', 'specific': None}]\n",
      "Candidate: Zippers — [{'room': 'Main', 'container': 'Cabinet 1', 'specific': 'Shelf 14'}, {'room': 'Cage', 'container': '5c', 'specific': 'Stack 23|-3'}]\n",
      "Candidate: Seam Rippers — [{'room': 'Main', 'container': 'Pegboard 1', 'specific': 'E5'}, {'room': 'Cage', 'container': '5c', 'specific': 'Stack 7|-3'}]\n",
      "Candidate: Matte Mod Podge — [{'room': 'Main', 'container': 'Cabinet 5', 'specific': 'Shelf 1'}, {'room': 'Cage', 'container': '5e', 'specific': ''}]\n",
      "Candidate: Tacky Glue — [{'room': 'Main', 'container': 'Cabinet 5', 'specific': 'Shelf 1'}, {'room': 'Cage', 'container': '5d', 'specific': 'Stack 4|1'}]\n"
     ]
    },
    {
     "name": "stderr",
     "output_type": "stream",
     "text": [
      "\n"
     ]
    },
    {
     "name": "stdout",
     "output_type": "stream",
     "text": [
      "LLM returns: \n",
      " Tacky Glue \n",
      " Cabinet 5\n",
      "\n",
      " *********************************************************** \n",
      " \n",
      "\n",
      " text =  The walking foot in the makerspace doesn’t stay fully in place on the shank, resulting in broken needles. This walking foot stays in place, and includes a gathering foot and an overlock foot (among other awesome sewing machine feet/adapters), both of which are hugely useful and two of my favorite sewing machine feet (and the makerspace does not already have)! I don’t need these since I have this set for my own machine but wanted to share the joy (especially since friends have said they needed a gathering foot for makerspace machines).\n",
      "\n",
      " link items =  []\n"
     ]
    },
    {
     "name": "stderr",
     "output_type": "stream",
     "text": [
      "Batches: 100%|██████████| 1/1 [00:00<00:00,  1.97it/s]\n"
     ]
    },
    {
     "name": "stdout",
     "output_type": "stream",
     "text": [
      "Candidate: Craft Hinges — [{'room': 'Main', 'container': 'Cabinet 9', 'specific': 'Shelf 7'}, {'room': 'Cage', 'container': '5c', 'specific': 'Stack 5|2'}]\n",
      "Candidate: Curtain Rings — [{'room': 'Main', 'container': 'Pegboard 1', 'specific': 'C5'}, {'room': 'Cage', 'container': '5e', 'specific': 'Pegboard Bins|-3'}]\n",
      "Candidate: Bias tape — [{'room': 'Main', 'container': 'Cabinet 1', 'specific': 'Shelf 13'}]\n",
      "Candidate: Buttonhole Foot — [{'room': 'Main', 'container': 'Pegboard 1', 'specific': 'J7'}, {'room': 'Cage', 'container': 'Pegboard Bins', 'specific': '|-3'}]\n",
      "Candidate: Straight Stitch Foot — [{'room': 'Main', 'container': 'Pegboard 1', 'specific': 'J6'}]\n",
      "LLM returns: \n",
      " Buttonhole Foot \n",
      " Pegboard 1\n",
      "\n",
      " *********************************************************** \n",
      " \n",
      "\n",
      " text =  Colored Duct Tape (colors of rainbow)\n",
      "\n",
      " link items =  []\n"
     ]
    },
    {
     "name": "stderr",
     "output_type": "stream",
     "text": [
      "Batches: 100%|██████████| 1/1 [00:00<00:00,  3.76it/s]\n"
     ]
    },
    {
     "name": "stdout",
     "output_type": "stream",
     "text": [
      "Candidate: Beige Masking Tape (1\") — [{'room': 'Main', 'container': 'Cabinet 5', 'specific': 'Top'}, {'room': 'Cage', 'container': '5e', 'specific': '|-3'}]\n",
      "Candidate: Color Gel Pens — [{'room': 'Main', 'container': 'Cabinet 4', 'specific': 'Shelf 13'}]\n",
      "Candidate: Seam Rippers — [{'room': 'Main', 'container': 'Pegboard 1', 'specific': 'E5'}, {'room': 'Cage', 'container': '5c', 'specific': 'Stack 7|-3'}]\n",
      "Candidate: Glue Dots — [{'room': 'Main', 'container': 'Cabinet 5', 'specific': 'Shelf 2'}, {'room': 'Cage', 'container': '8d', 'specific': '|-3'}]\n",
      "Candidate: Various Stickers — [{'room': 'Main', 'container': 'Cabinet 2', 'specific': 'Shelf 5'}]\n",
      "LLM returns: \n",
      " Beige Masking Tape (1\") \n",
      " Cabinet 5\n",
      "\n",
      " *********************************************************** \n",
      " \n",
      "\n",
      " text =  Non-Urgent Inks (Stylus Pro):\n",
      "<span style=\"white-space: pre-line\">\n",
      "<a href=\" Cyan Ink]</a>\n",
      "<a href=\" Orange Ink]</a>\n",
      "<a href=\" Yellow Ink]</a>\n",
      "<a href=\" Light Cyan Ink]</a>\n",
      "<a href=\" Matte Black Ink]</a>\n",
      "<a href=\" Light Black Ink]</a>\n",
      "<a href=\" Light Light Black Ink]</a>\n",
      "</span>\n",
      "\n",
      " link items =  ['Epson T636200 Cyan UltraChrome HDR Ink Cartridge for Select Stylus Pro Printers (700 mL)', 'Epson T636A00 Orange UltraChrome HDR Ink Cartridge for Select Stylus Pro Printers (700 mL)', 'Epson T596400 Yellow UltraChrome HDR Ink Cartridge for Select Stylus Pro Printers (350 mL)', 'Epson T636500 Light Cyan UltraChrome HDR Ink Cartridge for Select Stylus Pro Printers (700 mL)', 'Epson T636800 Matte Black UltraChrome HDR Ink Cartridge for Select Stylus Pro Printers (700 mL)', 'Epson T636700 Light Black UltraChrome HDR Ink Cartridge for Select Stylus Pro Printers (700 mL)', 'Epson T636900 Light Light Black UltraChrome HDR Ink Cartridge for Select Stylus Pro Printers (700 mL)']\n"
     ]
    },
    {
     "name": "stderr",
     "output_type": "stream",
     "text": [
      "Batches: 100%|██████████| 1/1 [00:00<00:00,  2.35it/s]\n"
     ]
    },
    {
     "name": "stdout",
     "output_type": "stream",
     "text": [
      "Candidate: EPSON Printer Toner/Ink Cartridge — [{'room': 'The Crypt', 'container': '3', 'specific': ''}]\n",
      "Candidate: LFP8000 Yellow Ink — [{'room': 'The Crypt', 'container': '3', 'specific': ''}]\n",
      "Candidate: LFP8000 Light Light Black Ink — [{'room': 'The Crypt', 'container': '3', 'specific': ''}]\n",
      "Candidate: LFP8000 Photo Black Ink — [{'room': 'The Crypt', 'container': '3', 'specific': ''}]\n",
      "Candidate: LFP8000 Maintenance Box — [{'room': 'The Crypt', 'container': '3', 'specific': ''}]\n",
      "LLM returns: \n",
      " LFP8000 Yellow Ink \n",
      " LFP\n",
      "\n",
      " *********************************************************** \n",
      " \n",
      "\n",
      " text =  Urgent Inks (Stylus Pro):\n",
      "<span style=\"white-space: pre-line\">\n",
      "<a href=\" Vivid Magenta Ink]</a>\n",
      "<a href=\" Green Ink]</a>\n",
      "<a href=\" Vivid Light Magenta Ink]</a>\n",
      "</span>\n",
      "\n",
      " link items =  ['Epson T636300 Vivid Magenta UltraChrome HDR Ink Cartridge for Select Stylus Pro Printers (700 mL)', 'Epson T636B00 Green UltraChrome HDR Ink Cartridge for Select Stylus Pro Printers (700 mL)', 'Epson T636600 Vivid Light Magenta UltraChrome HDR Ink Cartridge for Select Stylus Pro Printers (700 mL)']\n"
     ]
    },
    {
     "name": "stderr",
     "output_type": "stream",
     "text": [
      "Batches: 100%|██████████| 1/1 [00:00<00:00,  1.99it/s]\n"
     ]
    },
    {
     "name": "stdout",
     "output_type": "stream",
     "text": [
      "Candidate: LFP8000 Yellow Ink — [{'room': 'The Crypt', 'container': '3', 'specific': ''}]\n",
      "Candidate: LFP8000 Maintenance Box — [{'room': 'The Crypt', 'container': '3', 'specific': ''}]\n",
      "Candidate: LFP9900 Photo Black Ink — [{'room': 'The Crypt', 'container': '3B', 'specific': ''}]\n",
      "Candidate: LFP9900 Orange Ink — [{'room': 'The Crypt', 'container': '3B', 'specific': ''}]\n",
      "Candidate: LFP9900 Light Black Ink — [{'room': 'The Crypt', 'container': '3B', 'specific': ''}]\n",
      "LLM returns: \n",
      " LFP8000 Yellow Ink \n",
      " LFP\n",
      "\n",
      " *********************************************************** \n",
      " \n",
      "\n",
      " text =  Black Sharpies\n",
      "\n",
      " link items =  []\n"
     ]
    },
    {
     "name": "stderr",
     "output_type": "stream",
     "text": [
      "Batches: 100%|██████████| 1/1 [00:00<00:00,  2.60it/s]\n"
     ]
    },
    {
     "name": "stdout",
     "output_type": "stream",
     "text": [
      "Candidate: Popsicle Sticks — [{'room': 'Main', 'container': 'Cabinet 2', 'specific': 'Shelf 3'}, {'room': 'Cage', 'container': '5c', 'specific': 'Stack 22|-3'}]\n",
      "Candidate: Colored Sharpies — [{'room': 'Main', 'container': 'Cabinet 4', 'specific': 'Shelf 1'}, {'room': 'Cage', 'container': '5c', 'specific': 'Stack 10|-3'}]\n",
      "Candidate: Push Pins — [{'room': 'Main', 'container': 'Cabinet 3', 'specific': 'Shelf 23'}, {'room': 'Cage', 'container': '5c', 'specific': 'Stack 16|-3'}]\n",
      "Candidate: Black Sharpies — [{'room': 'Main', 'container': 'Cabinet 4', 'specific': 'Shelf 1'}, {'room': 'Cage', 'container': '5c', 'specific': 'Stack 11|-3'}, {'room': 'Cage', 'container': '8d', 'specific': '|-3'}]\n",
      "Candidate: Small Wooden Dowels (1/8\" x 12\") — [{'room': 'Main', 'container': 'Cabinet 2', 'specific': 'Shelf 6'}, {'room': 'Cage', 'container': '5d', 'specific': 'Stack 14|-3'}]\n",
      "LLM returns: \n",
      " Black Sharpies \n",
      " Cabinet 4\n"
     ]
    }
   ],
   "source": [
    "# MAIN PROGRAM - 'for' LOOP GOING OVER ALL RESTOCKS AND CREATING DATA FOR GRAPH\n",
    "\n",
    "i = 0 \n",
    "\n",
    "for req in restock_requests:    \n",
    "    #  Skip unapproved requests\n",
    "\n",
    "    if req[\"is_approved\"] is False:\n",
    "        continue\n",
    "\n",
    "    if i < (284 + 247):\n",
    "        i += 1\n",
    "        continue \n",
    "\n",
    "    print (\"\\n *********************************************************** \\n \")\n",
    "\n",
    "    # Split text vs links\n",
    "    user_request_text, links_items_list = link_find_split(req[\"item\"])\n",
    "    print (\"\\n text = \", user_request_text)\n",
    "    print (\"\\n link items = \", links_items_list)\n",
    "    \n",
    "    # Build query string for embedding\n",
    "    if len(links_items_list) != 0:\n",
    "        # join all link titles into one string \n",
    "        extracted_vector = embed_normalize([\"\".join(links_items_list)])[0]\n",
    "    else:\n",
    "        extracted_vector = embed_normalize([user_request_text])[0]\n",
    "\n",
    "    # Find top 5 inventory matches\n",
    "    five_possible_matches = find_five_inventory_match(extracted_vector, names_matrix, uuid_list, inventory_lookup)\n",
    "\n",
    "    final_item_uuid, final_item_name, final_item_location = llm_match(user_request_text, links_items_list, five_possible_matches)\n",
    "\n",
    "    print (\"LLM returns: \\n\", final_item_name, \"\\n\", final_item_location)\n",
    "\n",
    "    # Collect results (you can expand tuple into dict later for CSV/graph)\n",
    "    restocks_final_data.append([final_item_uuid, final_item_name, final_item_location, req[\"timestamp_sent\"], req[\"timestamp_completed\"]])\n"
   ]
  },
  {
   "cell_type": "code",
   "execution_count": 34,
   "metadata": {},
   "outputs": [
    {
     "name": "stdout",
     "output_type": "stream",
     "text": [
      "286\n",
      "Wrote 286 rows to restock_data_partial_1756800069.csv\n"
     ]
    }
   ],
   "source": [
    "print (len(restocks_final_data))\n",
    "\n",
    "csv_path = f\"restock_data_partial_{int(time.time())}.csv\"\n",
    "\n",
    "with open(csv_path, \"w\", newline=\"\", encoding=\"utf-8\") as f:\n",
    "    writer = csv.writer(f)\n",
    "    # adjust the header if your inner lists have a different shape/order\n",
    "    writer.writerow([\"uuid\", \"name\", \"location\", \"timestamp_sent\", \"timestamp_completed\"])\n",
    "    writer.writerows(restocks_final_data)\n",
    "\n",
    "print(f\"Wrote {len(restocks_final_data)} rows to {csv_path}\")"
   ]
  }
 ],
 "metadata": {
  "kernelspec": {
   "display_name": ".venv",
   "language": "python",
   "name": "python3"
  },
  "language_info": {
   "codemirror_mode": {
    "name": "ipython",
    "version": 3
   },
   "file_extension": ".py",
   "mimetype": "text/x-python",
   "name": "python",
   "nbconvert_exporter": "python",
   "pygments_lexer": "ipython3",
   "version": "3.13.2"
  }
 },
 "nbformat": 4,
 "nbformat_minor": 2
}
