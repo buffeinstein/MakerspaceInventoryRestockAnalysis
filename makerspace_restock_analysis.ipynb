{
 "cells": [
  {
   "cell_type": "code",
   "execution_count": 1,
   "metadata": {},
   "outputs": [
    {
     "name": "stderr",
     "output_type": "stream",
     "text": [
      "/Users/atiwari/Downloads/MakerspaceInventoryRestockAnalysis/.venv/lib/python3.13/site-packages/tqdm/auto.py:21: TqdmWarning: IProgress not found. Please update jupyter and ipywidgets. See https://ipywidgets.readthedocs.io/en/stable/user_install.html\n",
      "  from .autonotebook import tqdm as notebook_tqdm\n"
     ]
    },
    {
     "data": {
      "text/plain": [
       "True"
      ]
     },
     "execution_count": 1,
     "metadata": {},
     "output_type": "execute_result"
    }
   ],
   "source": [
    "import json, csv\n",
    "from typing import List, Dict, Any, Optional, Tuple\n",
    "import time\n",
    "import requests\n",
    "from bs4 import BeautifulSoup\n",
    "import re\n",
    "\n",
    "import numpy as np\n",
    "from sentence_transformers import SentenceTransformer\n",
    "model = SentenceTransformer(\"sentence-transformers/all-MiniLM-L6-v2\")\n",
    "\n",
    "from openai import OpenAI\n",
    "from dotenv import load_dotenv\n",
    "load_dotenv()  \n",
    "\n"
   ]
  },
  {
   "cell_type": "code",
   "execution_count": 7,
   "metadata": {},
   "outputs": [
    {
     "data": {
      "application/vnd.jupyter.widget-view+json": {
       "model_id": "4f0afe2977f14c75a5eae7d722919345",
       "version_major": 2,
       "version_minor": 0
      },
      "text/plain": [
       "Batches:   0%|          | 0/11 [00:00<?, ?it/s]"
      ]
     },
     "metadata": {},
     "output_type": "display_data"
    },
    {
     "name": "stdout",
     "output_type": "stream",
     "text": [
      "Saved matrix of shape (1343, 384), dtype float32 -> embedded_items.npy\n"
     ]
    }
   ],
   "source": [
    "# DO NOT RUN THIS - use uuid_list.csv, InventoryLookup.jsonl, and embedded_items.npy\n",
    "# INITIAL CREATION + UPDATE OF ARTIFACTS\n",
    "\n",
    "'''\n",
    "# def write_json(path: str, lookup: Dict[str, Dict[str, Any]]) -> None:\n",
    "#     with open(path, \"w\", encoding=\"utf-8\") as f:\n",
    "#         # write the entire lookup dict as a single JSON object\n",
    "#         json.dump(lookup, f, ensure_ascii=False, indent=2)\n",
    "\n",
    "# def write_csv(path: str, uuid_list: List[str]) -> None:\n",
    "#    with open(path, \"w\", encoding=\"utf-8\", newline=\"\") as f:\n",
    "#        w = csv.DictWriter(f, fieldnames=[\"row_id\", \"uuid\"])\n",
    "#        w.writeheader()\n",
    "#        for i, u in enumerate(uuid_list):\n",
    "#            w.writerow({\"row_id\": i, \"uuid\": u})\n",
    "\n",
    "# def make_full_name(name, long_name):\n",
    "#    if not long_name:   # catches \"\" and None\n",
    "#        return name\n",
    "#    return name + \" - \" + long_name\n",
    "\n",
    "# def save_npy(path: str, matrix: np.ndarray) -> None:\n",
    "#    np.save(path, matrix)\n",
    "#    print(f\"Saved matrix of shape {matrix.shape}, dtype {matrix.dtype} -> {path}\")\n",
    "\n",
    "# # open inventory database\n",
    "# with open(\"inventory-5-31-25.json\", \"r\", encoding=\"utf-8\") as f:\n",
    "#    inventory_json = json.load(f)   # inventory_json is already a list of dicts\n",
    "\n",
    "# inventory_lookup = {}           # dict[uuid] -> {Name, Long name, Locations}\n",
    "# uuid_list = []                  # list of uuids, in EXACT row order\n",
    "# names_list = []                 # list of full_name strings, same order as UUID_list\n",
    "\n",
    "# for item in inventory_json:\n",
    "#     # inventory_json is a list of dicts, so item is a dict \n",
    "\n",
    "#     # Build fast lookup (N-length dict)\n",
    "#     inventory_lookup[item[\"uuid\"]] = {\n",
    "#         \"name\": item[\"name\"],\n",
    "#         \"long_name\": item[\"long_name\"],\n",
    "#         \"locations\": item[\"locations\"]  # keep structured as list of dicts\n",
    "#     }\n",
    "\n",
    "#     # Build index-aligned lists\n",
    "#     uuid_list.append(item[\"uuid\"])\n",
    "#     names_list.append(make_full_name(item[\"name\"], item[\"long_name\"]))\n",
    "\n",
    "\n",
    "# # Persist inventory_lookup \n",
    "# write_json(\"InventoryLookup.json\", inventory_lookup)  \n",
    "\n",
    "# # Persist uuid_list \n",
    "# write_csv(\"uuid_list.csv\", uuid_list)\n",
    "\n",
    "# # Vectorize names_list -> names_matrix (N x d), then L2-normalize rows\n",
    "# names_matrix = embed_normalize(names_list)           # shape: N x d, d = 384\n",
    "\n",
    "# # Persist names_matrix \n",
    "# save_npy(\"embedded_items.npy\", names_matrix)\n",
    "'''\n",
    "# DO NOT RUN AGAIN\n",
    "# UPDATE OF ARTIFACTS \n",
    "\n",
    "'''\n",
    "# import json, csv\n",
    "\n",
    "# # UPDATE INVENTORY LOOKUP TO INCLUDE DETAILS USEFUL FOR LLM \n",
    "# with open(\"data/inventory-5-31-25.json\", \"r\", encoding=\"utf-8\") as f:\n",
    "#    inventory_json = json.load(f)   # inventory_json is already a list of dicts\n",
    "\n",
    "# with open(\"artifacts/InventoryLookup.json\", \"r\", encoding=\"utf-8\") as f:\n",
    "#     inventory_lookup = json.load(f)\n",
    "\n",
    "# for item in inventory_json:\n",
    "#     uuid = item.get(\"uuid\")\n",
    "#     role = item.get(\"role\")\n",
    "#     if uuid in inventory_lookup and role is not None:\n",
    "#         inventory_lookup[uuid][\"role\"] = role\n",
    "\n",
    "# with open(\"artifacts/InventoryLookup.json\", \"w\", encoding=\"utf-8\") as f:\n",
    "#     json.dump(inventory_lookup, f, indent=2, ensure_ascii=False)\n",
    "\n",
    "# # UPDATE UUID_LIST FOR MORE EFFICIENT STORAGE AND RETRIEVAL\n",
    "# with open(\"artifacts/uuid_list.csv\", \"r\", encoding=\"utf-8\") as f:\n",
    "#     reader = csv.reader(f)\n",
    "#     uuid_list = [row[1] for row in reader]  # each row is a single uuid\n",
    "\n",
    "# with open(\"artifacts/uuid_list.json\", \"w\", encoding=\"utf-8\") as f:\n",
    "#     json.dump(uuid_list, f, indent=2, ensure_ascii=False)\n",
    "'''"
   ]
  },
  {
   "cell_type": "code",
   "execution_count": 2,
   "metadata": {},
   "outputs": [],
   "source": [
    "# LOAD DATA + ARTIFACTS\n",
    "\n",
    "with open(\"artifacts/InventoryLookup.json\", \"r\", encoding=\"utf-8\") as f:\n",
    "    inventory_lookup = json.load(f)\n",
    "\n",
    "# Load uuid_list (list of uuids)\n",
    "with open(\"artifacts/uuid_list.json\", \"r\", encoding=\"utf-8\") as f:\n",
    "    uuid_list = json.load(f)\n",
    "\n",
    "# Load names_matrix (numpy array of embeddings)\n",
    "names_matrix = np.load(\"artifacts/embedded_items.npy\")\n",
    "\n",
    "with open(\"data/restocks-5-31-25.json\", \"r\", encoding=\"utf-8\") as f:\n",
    "    restock_requests = json.load(f)"
   ]
  },
  {
   "cell_type": "code",
   "execution_count": 3,
   "metadata": {},
   "outputs": [],
   "source": [
    "# FUNCTIONS \n",
    "# PARSING RESTOCK REQUESTS AND GETTING ITEM NAMES FROM LINKS\n",
    "\n",
    "def _normalize_amazon_url(u: str) -> str:\n",
    "    # strip trailing punctuation that often sneaks in from chat/markdown\n",
    "    u = u.rstrip(\").,;:]\")\n",
    "    # remove query params\n",
    "    u = u.split(\"?\", 1)[0]\n",
    "    # collapse to canonical dp/ASIN form if present\n",
    "    m = re.search(r\"/dp/([A-Z0-9]{10})\", u)\n",
    "    if m:\n",
    "        asin = m.group(1)\n",
    "        return f\"https://www.amazon.com/dp/{asin}\"\n",
    "    return u\n",
    "\n",
    "_HEADERS = {\n",
    "    \"User-Agent\": (\n",
    "        \"Mozilla/5.0 (Windows NT 10.0; Win64; x64) \"\n",
    "        \"AppleWebKit/537.36 (KHTML, like Gecko) \"\n",
    "        \"Chrome/120.0 Safari/537.36\"\n",
    "    ),\n",
    "    \"Accept-Language\": \"en-US,en;q=0.9\",\n",
    "}\n",
    "\n",
    "def _extract_title_from_html(html_text: str) -> Optional[str]:\n",
    "    soup = BeautifulSoup(html_text, \"html.parser\")\n",
    "\n",
    "    # 1) Amazon product title selectors\n",
    "    for css in [\"#productTitle\", \"#title\", \"span#productTitle\"]:\n",
    "        el = soup.select_one(css)\n",
    "        if el:\n",
    "            txt = el.get_text(strip=True)\n",
    "            if txt:\n",
    "                return txt\n",
    "\n",
    "    # 2) Open Graph\n",
    "    og = soup.find(\"meta\", {\"property\": \"og:title\"})\n",
    "    if og and og.get(\"content\"):\n",
    "        return og[\"content\"].strip()\n",
    "\n",
    "    # 3) Fallback <h1>\n",
    "    h1 = soup.find(\"h1\")\n",
    "    if h1:\n",
    "        txt = h1.get_text(strip=True)\n",
    "        if txt:\n",
    "            return txt\n",
    "\n",
    "    # 4) Fallback <title>\n",
    "    if soup.title:\n",
    "        txt = soup.title.get_text(strip=True)\n",
    "        if txt:\n",
    "            return txt\n",
    "\n",
    "    return None\n",
    "\n",
    "def link_parser(urls: List[str], timeout: float = 10.0, sleep_sec: float = 0.4) -> List[str]:\n",
    "    seen = set()\n",
    "    titles: List[str] = []\n",
    "\n",
    "    for raw_u in urls:\n",
    "        u = _normalize_amazon_url(raw_u)\n",
    "        if u in seen:\n",
    "            continue\n",
    "        seen.add(u)\n",
    "\n",
    "        try:\n",
    "            r = requests.get(u, headers=_HEADERS, timeout=timeout)\n",
    "            # DEBUG: show status; uncomment next line to dump HTML if needed\n",
    "            # print(\"DEBUG status:\", r.status_code, \"URL:\", u)\n",
    "            if r.status_code != 200 or not r.text:\n",
    "                time.sleep(sleep_sec); continue\n",
    "\n",
    "            title = _extract_title_from_html(r.text)\n",
    "            if title:\n",
    "                # Avoid adding useless 'Amazon.com' fallback as a signal\n",
    "                if title.lower().strip() == \"amazon.com\":\n",
    "                    # treat as failure; skip adding\n",
    "                    pass\n",
    "                else:\n",
    "                    titles.append(title)\n",
    "\n",
    "        except requests.RequestException as e:\n",
    "            # DEBUG: print(e)  # uncomment if you want to see the error\n",
    "            pass\n",
    "\n",
    "        time.sleep(sleep_sec)\n",
    "\n",
    "    return titles\n",
    "\n",
    "def link_find_split(user_request: str) -> Tuple[str, List[str]]:\n",
    "    url_pattern = re.compile(r\"https?://\\S+\")\n",
    "    urls = url_pattern.findall(user_request)\n",
    "    user_request_text = url_pattern.sub(\"\", user_request).strip()\n",
    "\n",
    "    link_titles = link_parser(urls)\n",
    "    return user_request_text, link_titles"
   ]
  },
  {
   "cell_type": "code",
   "execution_count": 4,
   "metadata": {},
   "outputs": [],
   "source": [
    "# FUNCTIONS \n",
    "# EMBEDDING THE RESTOCK REQUEST + COMPARING TO INVENTORY \n",
    "\n",
    "def embed_normalize(texts: List[str], batch_size: int = 128) -> np.ndarray:\n",
    "   emb = model.encode(\n",
    "       texts,\n",
    "       batch_size=batch_size,\n",
    "       convert_to_numpy=True,\n",
    "       normalize_embeddings=False,  # we’ll handle normalization ourselves\n",
    "       show_progress_bar=True,\n",
    "   ).astype(np.float32, copy=False)\n",
    "   # L2-normalize rows\n",
    "   norms = np.linalg.norm(emb, axis=1, keepdims=True)\n",
    "   norms[norms == 0] = 1.0  # avoid division by zero\n",
    "   emb = emb / norms\n",
    "   return emb\n",
    "\n",
    "def find_five_inventory_match(\n",
    "    extracted_vector: np.ndarray,\n",
    "    names_matrix: np.ndarray,\n",
    "    uuid_list: List[str],\n",
    "    inventory_lookup: Dict[str, Dict],\n",
    ") -> List[Dict]:\n",
    "    scores = names_matrix @ extracted_vector  # shape (N,)\n",
    "    top_idx = np.argpartition(scores, -5)[-5:]\n",
    "    top_idx = top_idx[np.argsort(scores[top_idx])[::-1]]  # sort descending\n",
    "\n",
    "    matches: List[Dict] = []\n",
    "    for i in top_idx:\n",
    "        uuid = uuid_list[i]\n",
    "        item = inventory_lookup[uuid]\n",
    "\n",
    "        # Shallow copy (top-level only). Nested structures (like locations list) are shared.\n",
    "        d = item.copy()\n",
    "\n",
    "        # Attach retrieval metadata\n",
    "        d[\"uuid\"] = uuid\n",
    "        d[\"score\"] = float(scores[i])\n",
    "\n",
    "        matches.append(d)\n",
    "\n",
    "    return matches\n",
    "\n"
   ]
  },
  {
   "cell_type": "code",
   "execution_count": 16,
   "metadata": {},
   "outputs": [],
   "source": [
    "# # FUNCTIONS \n",
    "# # SETTING UP LLM TO PROCESS SINGLE RESTOCK REQUEST + CANDIDATES \n",
    "\n",
    "\n",
    "_oai_client = OpenAI()\n",
    "\n",
    "# Expect these to exist in your module\n",
    "AREA_LABELS = [\n",
    "   \"Cabinet 1\",\"Cabinet 2\",\"Cabinet 3\", \"Cabinet 4\", \"Cabinet 5\",\"Cabinet 6\",\"Cabinet 7\", \"Cabinet 9\", \"Cabinet 11\", \"Cabinet 15\", \"Pegboard 1\",\"Fabric\", \"LFP\", \"Laser3D\",\n",
    "   \"Electronics\", \"Studio\", \"Spraypaint\", \"Cage/Crypt/Other\"\n",
    "]\n",
    "\n",
    "LOCATION_GUIDE = {\n",
    "    \"Cabinet 3\": [\"jewelry\",\"wire\",\"chain\",\"beads\"],\n",
    "    \"Cabinet 4\": [\"paint (not spraypaint)\",\"acrylic\",\"tempera\",\"gouache\",\"watercolor\"],\n",
    "    \"Cabinet 5\": [\"glue\",\"adhesive\",\"tape\",\"masking tape\",\"painter's tape\"],\n",
    "    \"Cabinet 6\": [\"ribbon\"],\n",
    "    \"Cabinet 7\": [\"paper\",\"cardstock\",\"construction paper\",\"origami paper\"],\n",
    "    \"Cabinet 9\": [\"leather\",\"wood carving\",\"clay\",\"linoleum tools\",\"stamp carving\"],\n",
    "    \"Cabinet 11\": [\"hand tools\",\"pliers\",\"wrenches\",\"screwdrivers\",\"nuts\",\"bolts\",\"sandpaper\"],\n",
    "    \"Fabric\": [\"fabric bolts\",\"stuffing\",\"stabilizer\",\"yarn\",\"felt\",\"sewing fabric\"],\n",
    "    \"Pegboard 1\": [\"safety pins\",\"needles\",\"sewing machine bits\",\"bobbin\",\"thimble\", \"most types of threads (cotton, polyester,twine)\"],\n",
    "    \"Laser3D\": [\"PLA\",\"filament\",\"3d printer\",\"nozzle\",\"laser wood\",\"laser sheet\"],\n",
    "    \"Spraypaint\": [\"spray paint\",\"aerosol\",\"sealant\",\"clear coat\"],\n",
    "    \"LFP\": [\"printer\",\"ink\",\"toner\",\"plotter\",\"large roll paper\",\"rolls\"]\n",
    "}\n",
    "\n",
    "def llm_match(\n",
    "    comment_text: str,\n",
    "    extracted_item_names: List[str],\n",
    "    five_candidates: List[Dict],\n",
    ") -> Tuple[str, str, str]:\n",
    "    \"\"\"\n",
    "    Area-first selector.\n",
    "    Returns (item_uuid, item_name, item_location).\n",
    "    Falls back to (\"\", \"\", \"Cage/Crypt/Other\") on any error.\n",
    "    \"\"\"\n",
    "    # ensure scores are JSON-serializable\n",
    "    for c in five_candidates or []:\n",
    "        if \"score\" in c:\n",
    "            c[\"score\"] = float(c[\"score\"])\n",
    "\n",
    "        # COMMENT OUT LATER   \n",
    "        print(f\"Candidate: {c.get('full_name') or c.get('name')} — {c.get('locations')}\")\n",
    "\n",
    "    # --- SYSTEM INSTRUCTIONS (explicit and strict) ---\n",
    "    system_instructions = (\n",
    "        \"You label Makerspace restock requests.\\n\"\n",
    "        \"\\n\"\n",
    "        \"PRIMARY GOAL:\\n\"\n",
    "        \"• The most important choice is the LOCATION (area). The exact item is secondary.\\n\"\n",
    "        \"\\n\"\n",
    "        \"INPUTS (as JSON):\\n\"\n",
    "        \"• REQUEST: {comment, extracted_item_names}\\n\"\n",
    "        \"• CANDIDATES: exactly 5 items, each with {item_uuid, name, role (M|T), locations, cosine_score}\\n\"\n",
    "        \"• ALLOWED_AREAS: the only valid location labels you may output\\n\"\n",
    "        \"• LOCATION_GUIDE: advisory hints describing what tends to live in each area\\n\"\n",
    "        \"\\n\"\n",
    "        \"DECISION POLICY (follow in order):\\n\"\n",
    "        \"1) Choose the LOCATION strictly from ALLOWED_AREAS.\\n\"\n",
    "        \"   - Use LOCATION_GUIDE strongly to interpret the request.\\n\"\n",
    "        \"   - De-emphasize cosine_score; do not rely on it heavily.\\n\"\n",
    "        \"   - Prefer MATERIALS over TOOLS when ambiguous (role 'M' > 'T').\\n\"\n",
    "        \"   - If multiple candidates are similar and cluster in one area, that area becomes more likely.\\n\"\n",
    "        \"2) After choosing the LOCATION, pick the ITEM from among the 5 candidates that belongs to that LOCATION. \\n\"\n",
    "        \"   - If NONE of the 5 candidates are in the chosen LOCATION, leave item_uuid and name as empty strings.\\n\"\n",
    "        \"\\n\"\n",
    "        \"OUTPUT SPECIFICATION (STRICT):\\n\"\n",
    "        \"• Respond with exactly one JSON object (no extra text) with these keys ONLY:\\n\"\n",
    "        \"  {\\\"item_uuid\\\":\\\"<uuid or empty>\\\",\\\"name\\\":\\\"<candidate name or empty>\\\",\\\"location\\\":\\\"<one of ALLOWED_AREAS>\\\"}\\n\"\n",
    "        \"• Do not invent keys, do not output markdown or explanations.\"\n",
    "    )\n",
    "\n",
    "    # --- USER PAYLOAD (single source of truth for areas & guide) ---\n",
    "    payload = {\n",
    "        \"REQUEST\": {\n",
    "            \"comment\": comment_text or \"\",\n",
    "            \"extracted_item_names\": list(extracted_item_names or []),\n",
    "        },\n",
    "        \"CANDIDATES\": [\n",
    "            {\n",
    "                \"item_uuid\": c.get(\"uuid\") or c.get(\"item_uuid\") or \"\",\n",
    "                \"name\": c.get(\"full_name\") or c.get(\"name\") or \"\",\n",
    "                \"role\": c.get(\"role\") or c.get(\"kind\") or \"\",     # 'M' or 'T' (materials > tools)\n",
    "                \"locations\": c.get(\"locations\"),                   # pass raw locations through\n",
    "                \"cosine_score\": c.get(\"score\", None),\n",
    "            }\n",
    "            for c in (five_candidates or [])\n",
    "        ],\n",
    "        \"ALLOWED_AREAS\": AREA_LABELS,\n",
    "        \"LOCATION_GUIDE\": LOCATION_GUIDE,\n",
    "    }\n",
    "\n",
    "    try:\n",
    "        resp = _oai_client.chat.completions.create(\n",
    "            model=\"o3\",\n",
    "            response_format={\"type\": \"json_object\"},   # enforce JSON-only reply\n",
    "            messages=[\n",
    "                {\"role\": \"system\", \"content\": system_instructions},\n",
    "                {\"role\": \"user\", \"content\": json.dumps(payload, ensure_ascii=False)},\n",
    "            ],\n",
    "            # temperature=0,\n",
    "        )\n",
    "\n",
    "        raw: Optional[str] = getattr(resp, \"output_text\", None) or (resp.choices[0].message.content or \"\").strip()\n",
    "        if not raw:\n",
    "            raise ValueError(\"Empty LLM response\")\n",
    "\n",
    "        data = json.loads(raw)\n",
    "        item_uuid = (data or {}).get(\"item_uuid\") or \"\"\n",
    "        item_name = (data or {}).get(\"name\") or \"\"\n",
    "        item_location = (data or {}).get(\"location\") or \"\"\n",
    "\n",
    "        # Validate location against allowed set\n",
    "        if item_location not in AREA_LABELS:\n",
    "            raise ValueError(f\"Invalid location: {item_location}\")\n",
    "\n",
    "        # If a UUID is present, ensure it came from the 5; otherwise clear both uuid & name\n",
    "        cand_by_uuid = {\n",
    "            (c.get(\"uuid\") or c.get(\"item_uuid\")): c\n",
    "            for c in (five_candidates or [])\n",
    "            if (c.get(\"uuid\") or c.get(\"item_uuid\"))\n",
    "        }\n",
    "        if item_uuid:\n",
    "            if item_uuid not in cand_by_uuid:\n",
    "                item_uuid, item_name = \"\", \"\"\n",
    "            else:\n",
    "                # Canonicalize name from candidate record (source of truth)\n",
    "                src = cand_by_uuid[item_uuid]\n",
    "                canonical = src.get(\"full_name\") or src.get(\"name\") or item_name\n",
    "                item_name = canonical\n",
    "\n",
    "        return item_uuid, item_name, item_location\n",
    "\n",
    "    # except Exception:\n",
    "    #     return \"\", \"\", \"Cage/Crypt/Other\"\n",
    "\n",
    "    except Exception as e:\n",
    "        print(\"[LLM ERROR]\", repr(e))\n",
    "        if raw:\n",
    "            # show a helpful snippet of what the model actually returned\n",
    "            print(\"[LLM RAW][:800]:\", raw[:800])\n",
    "        # show quick context to debug common issues\n",
    "        try:\n",
    "            missing = set(LOCATION_GUIDE.keys()) - set(AREA_LABELS)\n",
    "            if missing:\n",
    "                print(\"[HINT] LOCATION_GUIDE keys missing from AREA_LABELS:\", sorted(missing))\n",
    "        except Exception:\n",
    "            pass\n",
    "        print(\"[HINT] Candidate UUIDs:\", [c.get(\"uuid\") or c.get(\"item_uuid\") for c in (five_candidates or [])])\n",
    "        return \"\", \"\", \"Cage/Crypt/Other\"\n"
   ]
  },
  {
   "cell_type": "code",
   "execution_count": 17,
   "metadata": {},
   "outputs": [
    {
     "name": "stdout",
     "output_type": "stream",
     "text": [
      "\n",
      " *********************************************************** \n",
      " \n",
      "\n",
      " text =  Slightly bigger seed beads (current ones are much smaller than 4 mm)\n",
      "\n",
      " link items =  ['Redtwo 4mm Glass Seed Beads for Jewelry Bracelet Making Kit, Small Beads Friendship Bracelet Kit, Tiny Waist Beads with Letter Beads and Elastic String, DIY Art Craft Girls Gifts.']\n"
     ]
    },
    {
     "name": "stderr",
     "output_type": "stream",
     "text": [
      "Batches: 100%|██████████| 1/1 [00:00<00:00,  4.61it/s]\n"
     ]
    },
    {
     "name": "stdout",
     "output_type": "stream",
     "text": [
      "Candidate: Metal Charms — [{'room': 'Main', 'container': 'Cabinet 3', 'specific': 'Shelf 6'}, {'room': 'Cage', 'container': '5c', 'specific': 'Stack 4|-3'}]\n",
      "Candidate: Pony Beads — [{'room': 'Main', 'container': 'Cabinet 3', 'specific': 'Shelf 13'}, {'room': 'Cage', 'container': '5e', 'specific': '|4'}]\n",
      "Candidate: Iron-On Patches — [{'room': 'Main', 'container': 'Cabinet 1', 'specific': 'Shelf 14'}]\n",
      "Candidate: Seed Beads — [{'room': 'Main', 'container': 'Cabinet 3', 'specific': 'Shelf 10'}, {'room': 'Cage', 'container': '5d', 'specific': 'Stack 8|-3'}]\n",
      "Candidate: honing guide — [{'room': 'Cage', 'container': 'Cabinet 9', 'specific': 'Shelf 3'}]\n",
      "LLM returns: \n",
      " Seed Beads \n",
      " Cabinet 3\n",
      "\n",
      " *********************************************************** \n",
      " \n",
      "\n",
      " text =  fabric stabilizer\n",
      "\n",
      " link items =  []\n"
     ]
    },
    {
     "name": "stderr",
     "output_type": "stream",
     "text": [
      "Batches: 100%|██████████| 1/1 [00:00<00:00,  8.55it/s]"
     ]
    },
    {
     "name": "stdout",
     "output_type": "stream",
     "text": [
      "Candidate: Permanent Fabric Markers — [{'room': 'Main', 'container': 'Cabinet 1', 'specific': 'Shelf 6'}, {'room': 'Cage', 'container': '5e', 'specific': '|-3'}]\n",
      "Candidate: Leather Sewing Machine — [{'room': 'Cage', 'container': 'Floor', 'specific': None}]\n",
      "Candidate: Seam Rippers — [{'room': 'Main', 'container': 'Pegboard 1', 'specific': 'E5'}, {'room': 'Cage', 'container': '5c', 'specific': 'Stack 7|-3'}]\n",
      "Candidate: Scissors — [{'room': 'Main', 'container': 'Cabinet 3', 'specific': 'Shelf 1'}, {'room': 'Cage', 'container': '5d', 'specific': 'Stack 1|-3'}]\n",
      "Candidate: Clear Wood Sealer — [{'room': 'Cage', 'container': '7b', 'specific': ''}]\n"
     ]
    },
    {
     "name": "stderr",
     "output_type": "stream",
     "text": [
      "\n"
     ]
    },
    {
     "name": "stdout",
     "output_type": "stream",
     "text": [
      "LLM returns: \n",
      "  \n",
      " Fabric\n",
      "\n",
      " *********************************************************** \n",
      " \n",
      "\n",
      " text =  black, white, and grey embroidery floss\n",
      "\n",
      " link items =  []\n"
     ]
    },
    {
     "name": "stderr",
     "output_type": "stream",
     "text": [
      "Batches: 100%|██████████| 1/1 [00:00<00:00, 16.86it/s]"
     ]
    },
    {
     "name": "stdout",
     "output_type": "stream",
     "text": [
      "Candidate: Fabric Scissors — [{'room': 'Main', 'container': 'Cabinet 1', 'specific': 'Shelf 1'}, {'room': 'Cage', 'container': '5d', 'specific': 'Stack 1|-3'}]\n",
      "Candidate: Keychain Clasps — [{'room': 'Main', 'container': 'Cabinet 3', 'specific': 'Shelf 9'}, {'room': 'Cage', 'container': '5d', 'specific': 'Stack 3|-3'}]\n",
      "Candidate: Black Cotton Thread — [{'room': 'Cage', 'container': '5c', 'specific': 'Stack 1|-3'}]\n",
      "Candidate: Plastic Scrapers — [{'room': 'Main', 'container': 'Cabinet 4', 'specific': 'Shelf 14'}, {'room': 'Cage', 'container': '5c', 'specific': 'Stack 20|-2'}]\n",
      "Candidate: Permanent Fabric Markers — [{'room': 'Main', 'container': 'Cabinet 1', 'specific': 'Shelf 6'}, {'room': 'Cage', 'container': '5e', 'specific': '|-3'}]\n"
     ]
    },
    {
     "name": "stderr",
     "output_type": "stream",
     "text": [
      "\n"
     ]
    },
    {
     "name": "stdout",
     "output_type": "stream",
     "text": [
      "LLM returns: \n",
      "  \n",
      " Pegboard 1\n",
      "\n",
      " *********************************************************** \n",
      " \n",
      "\n",
      " text =  plastic cover for bobbin compartment on the brother sewing machine\n",
      "\n",
      " link items =  []\n"
     ]
    },
    {
     "name": "stderr",
     "output_type": "stream",
     "text": [
      "Batches: 100%|██████████| 1/1 [00:00<00:00,  8.32it/s]"
     ]
    },
    {
     "name": "stdout",
     "output_type": "stream",
     "text": [
      "Candidate: Singer Sewing Machine 20 — [{'room': 'Cage', 'container': '3e', 'specific': ''}]\n",
      "Candidate: T-pins — [{'room': 'Main', 'container': 'Pegboard 1', 'specific': 'F5'}]\n",
      "Candidate: Brother Sewing Machine 18 — [{'room': 'Cage', 'container': '3e', 'specific': ''}]\n",
      "Candidate: Baby Lock Sewing Machine 17 — [{'room': 'Cage', 'container': '3d', 'specific': ''}]\n",
      "Candidate: Sewing Machine Screw Drivers — [{'room': 'Main', 'container': 'Pegboard 1', 'specific': 'J1'}]\n"
     ]
    },
    {
     "name": "stderr",
     "output_type": "stream",
     "text": [
      "\n"
     ]
    },
    {
     "name": "stdout",
     "output_type": "stream",
     "text": [
      "LLM returns: \n",
      " Sewing Machine Screw Drivers \n",
      " Pegboard 1\n",
      "\n",
      " *********************************************************** \n",
      " \n",
      "\n",
      " text =  Dangling earring hooks\n",
      "\n",
      " link items =  ['Thrilez Hypoallergenic Earring Hooks, 600Pcs Earring Making Kit with Hypoallergenic Earring Hooks, Jump Rings and Clear Rubber Earring Backs for DIY Jewelry Making (Silver and Gold)']\n"
     ]
    },
    {
     "name": "stderr",
     "output_type": "stream",
     "text": [
      "Batches: 100%|██████████| 1/1 [00:00<00:00,  8.20it/s]"
     ]
    },
    {
     "name": "stdout",
     "output_type": "stream",
     "text": [
      "Candidate: Thin White Elastic Band — [{'room': 'Main', 'container': 'Cabinet 1', 'specific': 'Shelf 13'}, {'room': 'Cage', 'container': '5c', 'specific': 'Stack 26|-3'}]\n",
      "Candidate: Thin Black Elastic Band — [{'room': 'Main', 'container': 'Cabinet 1', 'specific': 'Shelf 13'}, {'room': 'Cage', 'container': '5c', 'specific': 'Stack 26|-3'}]\n",
      "Candidate: honing guide — [{'room': 'Cage', 'container': 'Cabinet 9', 'specific': 'Shelf 3'}]\n",
      "Candidate: Toothpicks — [{'room': 'Main', 'container': 'Cabinet 2', 'specific': 'Shelf 9'}, {'room': 'Cage', 'container': '5c', 'specific': 'Stack 17|-3'}]\n",
      "Candidate: Small Embroidery Hoops — [{'room': 'Main', 'container': 'Cabinet 1', 'specific': 'Shelf 7'}, {'room': 'Cage', 'container': '5d', 'specific': 'Stack 8|-3'}]\n"
     ]
    },
    {
     "name": "stderr",
     "output_type": "stream",
     "text": [
      "\n"
     ]
    },
    {
     "name": "stdout",
     "output_type": "stream",
     "text": [
      "LLM returns: \n",
      "  \n",
      " Cabinet 3\n",
      "\n",
      " *********************************************************** \n",
      " \n",
      "\n",
      " text =  Black, White, Red Spray paint. Primer spray paint.\n",
      "\n",
      " link items =  []\n"
     ]
    },
    {
     "name": "stderr",
     "output_type": "stream",
     "text": [
      "Batches: 100%|██████████| 1/1 [00:00<00:00, 14.27it/s]"
     ]
    },
    {
     "name": "stdout",
     "output_type": "stream",
     "text": [
      "Candidate: Halogen Modeling Light Bulb, Impact — [{'room': 'Studio', 'container': 'Studio 3', 'specific': 'Shelf 4'}]\n",
      "Candidate: Ball Bearings — [{'room': 'Cage', 'container': 'Movable Shelves', 'specific': None}]\n",
      "Candidate: White Acrylic Paint — [{'room': 'Cage', 'container': '5c', 'specific': 'Stack 21|-3'}]\n",
      "Candidate: Black Polyester Thread — [{'room': 'Cage', 'container': '5c', 'specific': 'Stack 1'}]\n",
      "Candidate: Pipe Cleaners — [{'room': 'Main', 'container': 'Cabinet 2', 'specific': 'Shelf 8'}, {'room': 'Cage', 'container': '5d', 'specific': 'Stack 13|-3'}]\n"
     ]
    },
    {
     "name": "stderr",
     "output_type": "stream",
     "text": [
      "\n"
     ]
    },
    {
     "name": "stdout",
     "output_type": "stream",
     "text": [
      "LLM returns: \n",
      "  \n",
      " Spraypaint\n",
      "\n",
      " *********************************************************** \n",
      " \n",
      "\n",
      " text =  Stuffing (polyester fiber fill)\n",
      "\n",
      " link items =  []\n"
     ]
    },
    {
     "name": "stderr",
     "output_type": "stream",
     "text": [
      "Batches: 100%|██████████| 1/1 [00:00<00:00, 16.66it/s]"
     ]
    },
    {
     "name": "stdout",
     "output_type": "stream",
     "text": [
      "Candidate: Curved Needles — [{'room': 'Main', 'container': 'Pegboard 1', 'specific': 'G1'}, {'room': 'Cage', 'container': '5e', 'specific': 'Pegboard Bins|-2'}]\n",
      "Candidate: Cotton Thread — [{'room': 'Main', 'container': 'Pegboard 1', 'specific': 'Front'}]\n",
      "Candidate: Ironing mat — [{'room': 'Cage', 'container': '3c', 'specific': None}]\n",
      "Candidate: Leather Sewing Machine — [{'room': 'Cage', 'container': 'Floor', 'specific': None}]\n",
      "Candidate: Various Wheels — [{'room': 'The Crypt', 'container': '2d', 'specific': None}]\n"
     ]
    },
    {
     "name": "stderr",
     "output_type": "stream",
     "text": [
      "\n"
     ]
    },
    {
     "name": "stdout",
     "output_type": "stream",
     "text": [
      "LLM returns: \n",
      "  \n",
      " Fabric\n",
      "\n",
      " *********************************************************** \n",
      " \n",
      "\n",
      " text =  More yarn!!!! Much more yarn\n",
      "\n",
      " link items =  []\n"
     ]
    },
    {
     "name": "stderr",
     "output_type": "stream",
     "text": [
      "Batches: 100%|██████████| 1/1 [00:00<00:00, 20.72it/s]"
     ]
    },
    {
     "name": "stdout",
     "output_type": "stream",
     "text": [
      "Candidate: Straight Knitting Needles — [{'room': 'Main', 'container': 'Cabinet 1', 'specific': 'Shelf 4'}, {'room': 'Cage', 'container': '5c', 'specific': 'Stack 24|-3'}]\n",
      "Candidate: Cross stitch books — [{'room': 'Main', 'container': 'Fabrics', 'specific': None}]\n",
      "Candidate: Embroidery Machine — [{'room': 'Cage', 'container': '3e', 'specific': None}]\n",
      "Candidate: Tweezers — [{'room': 'Main', 'container': 'Cabinet 3', 'specific': 'Shelf 3'}, {'room': 'Cage', 'container': '5c', 'specific': 'Stack 5|11'}]\n",
      "Candidate: Pin Cushions — [{'room': 'Main', 'container': 'Cabinet 1', 'specific': 'Shelf 3'}]\n"
     ]
    },
    {
     "name": "stderr",
     "output_type": "stream",
     "text": [
      "\n"
     ]
    },
    {
     "name": "stdout",
     "output_type": "stream",
     "text": [
      "LLM returns: \n",
      " Cross stitch books \n",
      " Fabric\n",
      "\n",
      " *********************************************************** \n",
      " \n",
      "\n",
      " text =  Felt sheets\n",
      "\n",
      " link items =  ['Simetufy 120 Pcs Felt Fabric Sheets, 8x12 Inch DIY Felt Sheets, 1mm Thick Non-Woven Patchwork Material for Sewing Projects & Decoration - 40 Assorted Colors (20 x 30cm)']\n"
     ]
    },
    {
     "name": "stderr",
     "output_type": "stream",
     "text": [
      "Batches: 100%|██████████| 1/1 [00:00<00:00, 15.34it/s]"
     ]
    },
    {
     "name": "stdout",
     "output_type": "stream",
     "text": [
      "Candidate: Dixie Cups (for painting) — [{'room': 'Main', 'container': 'Cabinet 16', 'specific': '(by paint sink)'}]\n",
      "Candidate: Plastic Sheeting — [{'room': 'Cage', 'container': '1a', 'specific': ''}]\n",
      "Candidate: Printer — [{'room': 'Cage', 'container': '8d', 'specific': None}]\n",
      "Candidate: Laminator Sheets (Business Card Size) — [{'room': 'Cage', 'container': '1b', 'specific': ''}]\n",
      "Candidate: Felting Needles — [{'room': 'Main', 'container': 'Cabinet 1', 'specific': 'Shelf 12'}]\n"
     ]
    },
    {
     "name": "stderr",
     "output_type": "stream",
     "text": [
      "\n"
     ]
    },
    {
     "name": "stdout",
     "output_type": "stream",
     "text": [
      "LLM returns: \n",
      "  \n",
      " Fabric\n",
      "\n",
      " *********************************************************** \n",
      " \n",
      "\n",
      " text =  Thick batting (e.g. for making quilts)\n",
      "\n",
      " link items =  []\n"
     ]
    },
    {
     "name": "stderr",
     "output_type": "stream",
     "text": [
      "Batches: 100%|██████████| 1/1 [00:00<00:00,  5.17it/s]"
     ]
    },
    {
     "name": "stdout",
     "output_type": "stream",
     "text": [
      "Candidate: Plastic Straws — [{'room': 'Main', 'container': 'Cabinet 2', 'specific': 'Shelf 10'}, {'room': 'Cage', 'container': '5d', 'specific': 'Stack 14|-3'}]\n",
      "Candidate: Pencil sharpener — [{'room': 'Main', 'container': 'Counter', 'specific': 'by the lockers'}]\n",
      "Candidate: Felt Sheets — [{'room': 'Main', 'container': 'Fabrics', 'specific': ''}]\n",
      "Candidate: Knitting books — [{'room': 'Main', 'container': 'Fabrics', 'specific': None}]\n",
      "Candidate: Large Embroidery Hoops — [{'room': 'Main', 'container': 'Cabinet 1', 'specific': 'Shelf 8'}, {'room': 'Cage', 'container': '5d', 'specific': 'Stack 8|-3'}]\n"
     ]
    },
    {
     "name": "stderr",
     "output_type": "stream",
     "text": [
      "\n"
     ]
    },
    {
     "name": "stdout",
     "output_type": "stream",
     "text": [
      "LLM returns: \n",
      " Felt Sheets \n",
      " Fabric\n",
      "\n",
      " *********************************************************** \n",
      " \n",
      "\n",
      " text =  large clothes pins\n",
      "\n",
      " link items =  []\n"
     ]
    },
    {
     "name": "stderr",
     "output_type": "stream",
     "text": [
      "Batches: 100%|██████████| 1/1 [00:00<00:00,  9.00it/s]"
     ]
    },
    {
     "name": "stdout",
     "output_type": "stream",
     "text": [
      "Candidate: Cotton Swabs/Q-Tips — [{'room': 'Main', 'container': 'Cabinet 2', 'specific': 'Shelf 12'}, {'room': 'Cage', 'container': '5c', 'specific': 'Stack 15|-3'}]\n",
      "Candidate: Plastic Clips — [{'room': 'Main', 'container': 'Pegboard 1', 'specific': 'B7'}, {'room': 'Cage', 'container': '5e', 'specific': 'Pegboard Bins|-3'}]\n",
      "Candidate: Small Metal Magnets — [{'room': 'Main', 'container': 'Cabinet 2', 'specific': 'Shelf 1'}, {'room': 'Cage', 'container': '5c', 'specific': 'Stack 14|-3'}]\n",
      "Candidate: Mini Screwdrivers — [{'room': 'Cage', 'container': '5c', 'specific': 'Stack 12'}]\n",
      "Candidate: Rubber Bands — [{'room': 'Main', 'container': 'Cabinet 3', 'specific': 'Shelf 19'}, {'room': 'Cage', 'container': '5d', 'specific': 'Stack 15|-3'}]\n"
     ]
    },
    {
     "name": "stderr",
     "output_type": "stream",
     "text": [
      "\n"
     ]
    },
    {
     "name": "stdout",
     "output_type": "stream",
     "text": [
      "LLM returns: \n",
      " Plastic Clips \n",
      " Pegboard 1\n",
      "\n",
      " *********************************************************** \n",
      " \n",
      "\n",
      " text =  Felt squares\n",
      "\n",
      " link items =  ['52PCS Felt Sheets, 8x12 inch Felt Fabric Sheet, 40 Assorted Colors, 1mm Thickness Felt Squares- Ideal for DIY Crafts, Embroidery, Needle Felting, and Sewing Projects']\n"
     ]
    },
    {
     "name": "stderr",
     "output_type": "stream",
     "text": [
      "Batches: 100%|██████████| 1/1 [00:00<00:00, 11.49it/s]"
     ]
    },
    {
     "name": "stdout",
     "output_type": "stream",
     "text": [
      "Candidate: Dixie Cups (for painting) — [{'room': 'Main', 'container': 'Cabinet 16', 'specific': '(by paint sink)'}]\n",
      "Candidate: Plastic Sheeting — [{'room': 'Cage', 'container': '1a', 'specific': ''}]\n",
      "Candidate: Printer — [{'room': 'Cage', 'container': '8d', 'specific': None}]\n",
      "Candidate: Felting Needles — [{'room': 'Main', 'container': 'Cabinet 1', 'specific': 'Shelf 12'}]\n",
      "Candidate: Laminator Sheets (Business Card Size) — [{'room': 'Cage', 'container': '1b', 'specific': ''}]\n"
     ]
    },
    {
     "name": "stderr",
     "output_type": "stream",
     "text": [
      "\n"
     ]
    },
    {
     "name": "stdout",
     "output_type": "stream",
     "text": [
      "LLM returns: \n",
      "  \n",
      " Fabric\n",
      "\n",
      " *********************************************************** \n",
      " \n",
      "\n",
      " text =  Super glue\n",
      "\n",
      " link items =  []\n"
     ]
    },
    {
     "name": "stderr",
     "output_type": "stream",
     "text": [
      "Batches: 100%|██████████| 1/1 [00:00<00:00, 14.52it/s]"
     ]
    },
    {
     "name": "stdout",
     "output_type": "stream",
     "text": [
      "Candidate: Tacky Glue — [{'room': 'Main', 'container': 'Cabinet 5', 'specific': 'Shelf 1'}, {'room': 'Cage', 'container': '5d', 'specific': 'Stack 4|1'}]\n",
      "Candidate: Matte Mod Podge — [{'room': 'Main', 'container': 'Cabinet 5', 'specific': 'Shelf 1'}, {'room': 'Cage', 'container': '5e', 'specific': ''}]\n",
      "Candidate: Zippers — [{'room': 'Main', 'container': 'Cabinet 1', 'specific': 'Shelf 14'}, {'room': 'Cage', 'container': '5c', 'specific': 'Stack 23|-3'}]\n",
      "Candidate: Leather Sewing Machine — [{'room': 'Cage', 'container': 'Floor', 'specific': None}]\n",
      "Candidate: Packing Tape Dispenser — [{'room': 'Cage', 'container': 'Pegboard', 'specific': ''}, {'room': 'Cage', 'container': '8d', 'specific': '|2'}]\n"
     ]
    },
    {
     "name": "stderr",
     "output_type": "stream",
     "text": [
      "\n"
     ]
    },
    {
     "name": "stdout",
     "output_type": "stream",
     "text": [
      "LLM returns: \n",
      " Tacky Glue \n",
      " Cabinet 5\n",
      "\n",
      " *********************************************************** \n",
      " \n",
      "\n",
      " text =  Wire and chains:\n",
      "\n",
      " link items =  ['PAXCOO 6 Pack Jewelry Beading Wire for Jewelry Making Supplies and Craft (24 Gauge)', 'PP OPOUNT 80 Feet Necklace Chains Roll, 8 Colors Jewelry Making Chains 2 mm Metal Chains with Open Jump Rings and Lobster Clasps for Jewelry Making DIY Necklace Bracelet Anklet']\n"
     ]
    },
    {
     "name": "stderr",
     "output_type": "stream",
     "text": [
      "Batches: 100%|██████████| 1/1 [00:00<00:00,  5.00it/s]\n"
     ]
    },
    {
     "name": "stdout",
     "output_type": "stream",
     "text": [
      "Candidate: Toothpicks — [{'room': 'Main', 'container': 'Cabinet 2', 'specific': 'Shelf 9'}, {'room': 'Cage', 'container': '5c', 'specific': 'Stack 17|-3'}]\n",
      "Candidate: Safety Pins — [{'room': 'Main', 'container': 'Cabinet 3', 'specific': 'Shelf 20'}, {'room': 'Main', 'container': 'Pegboard 1', 'specific': 'C4|-3'}, {'room': 'Cage', 'container': '5c', 'specific': 'Stack 18|-3'}]\n",
      "Candidate: Thick Black Elastic Band — [{'room': 'Main', 'container': 'Cabinet 1', 'specific': 'Shelf 13'}, {'room': 'Cage', 'container': '5c', 'specific': 'Stack 26|-3'}]\n",
      "Candidate: Ironing mat — [{'room': 'Cage', 'container': '3c', 'specific': None}]\n",
      "Candidate: Small Embroidery Hoops — [{'room': 'Main', 'container': 'Cabinet 1', 'specific': 'Shelf 7'}, {'room': 'Cage', 'container': '5d', 'specific': 'Stack 8|-3'}]\n",
      "LLM returns: \n",
      " Safety Pins \n",
      " Cabinet 3\n",
      "\n",
      " *********************************************************** \n",
      " \n",
      "\n",
      " text =  Black paint\n",
      "\n",
      " link items =  []\n"
     ]
    },
    {
     "name": "stderr",
     "output_type": "stream",
     "text": [
      "Batches: 100%|██████████| 1/1 [00:00<00:00, 15.19it/s]"
     ]
    },
    {
     "name": "stdout",
     "output_type": "stream",
     "text": [
      "Candidate: White Acrylic Paint — [{'room': 'Cage', 'container': '5c', 'specific': 'Stack 21|-3'}]\n",
      "Candidate: Halogen Modeling Light Bulb, Impact — [{'room': 'Studio', 'container': 'Studio 3', 'specific': 'Shelf 4'}]\n",
      "Candidate: Pipe Cleaners — [{'room': 'Main', 'container': 'Cabinet 2', 'specific': 'Shelf 8'}, {'room': 'Cage', 'container': '5d', 'specific': 'Stack 13|-3'}]\n",
      "Candidate: Black Polyester Thread — [{'room': 'Cage', 'container': '5c', 'specific': 'Stack 1'}]\n",
      "Candidate: Old Hot Plate — [{'room': 'The Crypt', 'container': '2d', 'specific': ''}]\n"
     ]
    },
    {
     "name": "stderr",
     "output_type": "stream",
     "text": [
      "\n"
     ]
    },
    {
     "name": "stdout",
     "output_type": "stream",
     "text": [
      "LLM returns: \n",
      "  \n",
      " Cabinet 4\n",
      "\n",
      " *********************************************************** \n",
      " \n",
      "\n",
      " text =  3D Printer filament (in general)\n",
      "\n",
      " link items =  []\n"
     ]
    },
    {
     "name": "stderr",
     "output_type": "stream",
     "text": [
      "Batches: 100%|██████████| 1/1 [00:00<00:00, 13.98it/s]"
     ]
    },
    {
     "name": "stdout",
     "output_type": "stream",
     "text": [
      "Candidate: Laser Cutter Replacement Parts — [{'room': 'Laser3D', 'container': 'In Laser Cutter Side Panel', 'specific': ''}]\n",
      "Candidate: Spare Fuse Sift Sieve — [{'room': 'Laser3D', 'container': 'Cabinet 8', 'specific': ''}]\n",
      "Candidate: Lino Blocks — [{'room': 'Cage', 'container': 'Shelf 1E', 'specific': ''}]\n",
      "Candidate: Cricut Replacement Blades — [{'room': 'Cage', 'container': '1d', 'specific': ''}]\n",
      "Candidate: Iron Rest Pad — [{'room': 'Cage', 'container': '3b', 'specific': ''}]\n"
     ]
    },
    {
     "name": "stderr",
     "output_type": "stream",
     "text": [
      "\n"
     ]
    },
    {
     "name": "stdout",
     "output_type": "stream",
     "text": [
      "LLM returns: \n",
      " Laser Cutter Replacement Parts \n",
      " Laser3D\n",
      "\n",
      " *********************************************************** \n",
      " \n",
      "\n",
      " text =  Super glue\n",
      "\n",
      " link items =  []\n"
     ]
    },
    {
     "name": "stderr",
     "output_type": "stream",
     "text": [
      "Batches: 100%|██████████| 1/1 [00:00<00:00,  8.40it/s]"
     ]
    },
    {
     "name": "stdout",
     "output_type": "stream",
     "text": [
      "Candidate: Tacky Glue — [{'room': 'Main', 'container': 'Cabinet 5', 'specific': 'Shelf 1'}, {'room': 'Cage', 'container': '5d', 'specific': 'Stack 4|1'}]\n",
      "Candidate: Matte Mod Podge — [{'room': 'Main', 'container': 'Cabinet 5', 'specific': 'Shelf 1'}, {'room': 'Cage', 'container': '5e', 'specific': ''}]\n",
      "Candidate: Zippers — [{'room': 'Main', 'container': 'Cabinet 1', 'specific': 'Shelf 14'}, {'room': 'Cage', 'container': '5c', 'specific': 'Stack 23|-3'}]\n",
      "Candidate: Leather Sewing Machine — [{'room': 'Cage', 'container': 'Floor', 'specific': None}]\n",
      "Candidate: Packing Tape Dispenser — [{'room': 'Cage', 'container': 'Pegboard', 'specific': ''}, {'room': 'Cage', 'container': '8d', 'specific': '|2'}]\n"
     ]
    },
    {
     "name": "stderr",
     "output_type": "stream",
     "text": [
      "\n"
     ]
    },
    {
     "name": "stdout",
     "output_type": "stream",
     "text": [
      "LLM returns: \n",
      " Tacky Glue \n",
      " Cabinet 5\n",
      "\n",
      " *********************************************************** \n",
      " \n",
      "\n",
      " text =  seam rippers\n",
      "\n",
      " link items =  []\n"
     ]
    },
    {
     "name": "stderr",
     "output_type": "stream",
     "text": [
      "Batches: 100%|██████████| 1/1 [00:00<00:00, 14.31it/s]"
     ]
    },
    {
     "name": "stdout",
     "output_type": "stream",
     "text": [
      "Candidate: Thread Cutters — [{'room': 'Main', 'container': 'Pegboard 1', 'specific': 'E7'}, {'room': 'Cage', 'container': '5c', 'specific': 'Stack 7|13'}]\n",
      "Candidate: Plastic Needles — [{'room': 'Main', 'container': 'Pegboard 1', 'specific': 'D2'}, {'room': 'Cage', 'container': '5e', 'specific': 'Pegboard Bins|-3'}]\n",
      "Candidate: Fabric Spray Paint — [{'room': 'Other', 'container': 'Spray Paint Booth', 'specific': 'Flammable'}]\n",
      "Candidate: Scissors — [{'room': 'Main', 'container': 'Cabinet 3', 'specific': 'Shelf 1'}, {'room': 'Cage', 'container': '5d', 'specific': 'Stack 1|-3'}]\n",
      "Candidate: Crafting Books — [{'room': 'Main', 'container': 'Fabrics', 'specific': None}]\n"
     ]
    },
    {
     "name": "stderr",
     "output_type": "stream",
     "text": [
      "\n"
     ]
    },
    {
     "name": "stdout",
     "output_type": "stream",
     "text": [
      "LLM returns: \n",
      " Thread Cutters \n",
      " Pegboard 1\n",
      "\n",
      " *********************************************************** \n",
      " \n",
      "\n",
      " text =  embroidery needles (aka thick sewing needles with large loops)\n",
      "\n",
      " link items =  []\n"
     ]
    },
    {
     "name": "stderr",
     "output_type": "stream",
     "text": [
      "Batches: 100%|██████████| 1/1 [00:00<00:00, 12.83it/s]"
     ]
    },
    {
     "name": "stdout",
     "output_type": "stream",
     "text": [
      "Candidate: Plastic Scrapers — [{'room': 'Main', 'container': 'Cabinet 4', 'specific': 'Shelf 14'}, {'room': 'Cage', 'container': '5c', 'specific': 'Stack 20|-2'}]\n",
      "Candidate: Spool Pins — [{'room': 'Main', 'container': 'Pegboard 1', 'specific': 'D5'}]\n",
      "Candidate: Curtain Rings — [{'room': 'Main', 'container': 'Pegboard 1', 'specific': 'C5'}, {'room': 'Cage', 'container': '5e', 'specific': 'Pegboard Bins|-3'}]\n",
      "Candidate: Bias tape — [{'room': 'Main', 'container': 'Cabinet 1', 'specific': 'Shelf 13'}]\n",
      "Candidate: Needle Nose Pliers — [{'room': 'Main', 'container': 'Cabinet 3', 'specific': 'Shelf 3'}, {'room': 'Main', 'container': 'Cabinet 11', 'specific': 'Shelf 8|2'}, {'room': 'Cage', 'container': '5c', 'specific': 'Stack 12|-2'}]\n"
     ]
    },
    {
     "name": "stderr",
     "output_type": "stream",
     "text": [
      "\n"
     ]
    },
    {
     "name": "stdout",
     "output_type": "stream",
     "text": [
      "LLM returns: \n",
      " Spool Pins \n",
      " Pegboard 1\n"
     ]
    }
   ],
   "source": [
    "# MAIN PROGRAM - 'for' LOOP GOING OVER ALL RESTOCKS AND CREATING DATA FOR GRAPH\n",
    "\n",
    "restocks_final_data = []\n",
    "\n",
    "i = 0\n",
    "for req in restock_requests:\n",
    "    i += 1 \n",
    "    if i == 20:\n",
    "        break\n",
    "    \n",
    "    #  Skip unapproved requests\n",
    "    if req[\"is_approved\"] is False:\n",
    "        i -= 1\n",
    "        continue\n",
    "\n",
    "    print (\"\\n *********************************************************** \\n \")\n",
    "\n",
    "    # Split text vs links\n",
    "    user_request_text, links_items_list = link_find_split(req[\"item\"])\n",
    "    print (\"\\n text = \", user_request_text)\n",
    "    print (\"\\n link items = \", links_items_list)\n",
    "    \n",
    "    # Build query string for embedding\n",
    "    if len(links_items_list) != 0:\n",
    "        # join all link titles into one string \n",
    "        extracted_vector = embed_normalize([\"\".join(links_items_list)])[0]\n",
    "    else:\n",
    "        extracted_vector = embed_normalize([user_request_text])[0]\n",
    "\n",
    "    # Find top 5 inventory matches\n",
    "    five_possible_matches = find_five_inventory_match(extracted_vector, names_matrix, uuid_list, inventory_lookup)\n",
    "\n",
    "    final_item_uuid, final_item_name, final_item_location = llm_match(user_request_text, links_items_list, five_possible_matches)\n",
    "\n",
    "    print (\"LLM returns: \\n\", final_item_name, \"\\n\", final_item_location)\n",
    "\n",
    "    # Collect results (you can expand tuple into dict later for CSV/graph)\n",
    "    restocks_final_data.append([final_item_uuid, final_item_name, final_item_location, req[\"timestamp_sent\"], req[\"timestamp_completed\"]])\n"
   ]
  },
  {
   "cell_type": "code",
   "execution_count": 18,
   "metadata": {},
   "outputs": [
    {
     "name": "stdout",
     "output_type": "stream",
     "text": [
      "0\n"
     ]
    }
   ],
   "source": [
    "\n"
   ]
  }
 ],
 "metadata": {
  "kernelspec": {
   "display_name": ".venv",
   "language": "python",
   "name": "python3"
  },
  "language_info": {
   "codemirror_mode": {
    "name": "ipython",
    "version": 3
   },
   "file_extension": ".py",
   "mimetype": "text/x-python",
   "name": "python",
   "nbconvert_exporter": "python",
   "pygments_lexer": "ipython3",
   "version": "3.13.2"
  }
 },
 "nbformat": 4,
 "nbformat_minor": 2
}
