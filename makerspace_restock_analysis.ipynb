{
 "cells": [
  {
   "cell_type": "code",
   "execution_count": 1,
   "metadata": {},
   "outputs": [],
   "source": [
    "import json, csv\n",
    "from typing import List, Dict, Any\n",
    "import numpy as np\n",
    "from typing import Tuple, List\n",
    "import time\n",
    "from typing import List, Optional\n",
    "import requests\n",
    "from bs4 import BeautifulSoup\n",
    "import re\n",
    "from openai import OpenAI\n",
    "\n",
    "from sentence_transformers import SentenceTransformer\n",
    "model = SentenceTransformer(\"sentence-transformers/all-MiniLM-L6-v2\")"
   ]
  },
  {
   "cell_type": "code",
   "execution_count": 6,
   "metadata": {},
   "outputs": [],
   "source": [
    "# DO NOT NEED TO RUN THIS AGAIN\n",
    "\n",
    "def write_json(path: str, lookup: Dict[str, Dict[str, Any]]) -> None:\n",
    "    with open(path, \"w\", encoding=\"utf-8\") as f:\n",
    "        # write the entire lookup dict as a single JSON object\n",
    "        json.dump(lookup, f, ensure_ascii=False, indent=2)\n",
    "\n",
    "def write_csv(path: str, uuid_list: List[str]) -> None:\n",
    "   with open(path, \"w\", encoding=\"utf-8\", newline=\"\") as f:\n",
    "       w = csv.DictWriter(f, fieldnames=[\"row_id\", \"uuid\"])\n",
    "       w.writeheader()\n",
    "       for i, u in enumerate(uuid_list):\n",
    "           w.writerow({\"row_id\": i, \"uuid\": u})\n",
    "\n",
    "def make_full_name(name, long_name):\n",
    "   if not long_name:   # catches \"\" and None\n",
    "       return name\n",
    "   return name + \" - \" + long_name\n",
    "\n",
    "def save_npy(path: str, matrix: np.ndarray) -> None:\n",
    "   np.save(path, matrix)\n",
    "   print(f\"Saved matrix of shape {matrix.shape}, dtype {matrix.dtype} -> {path}\")"
   ]
  },
  {
   "cell_type": "code",
   "execution_count": 2,
   "metadata": {},
   "outputs": [],
   "source": [
    "def embed_normalize(texts: List[str], batch_size: int = 128) -> np.ndarray:\n",
    "   emb = model.encode(\n",
    "       texts,\n",
    "       batch_size=batch_size,\n",
    "       convert_to_numpy=True,\n",
    "       normalize_embeddings=False,  # we’ll handle normalization ourselves\n",
    "       show_progress_bar=True,\n",
    "   ).astype(np.float32, copy=False)\n",
    "   # L2-normalize rows\n",
    "   norms = np.linalg.norm(emb, axis=1, keepdims=True)\n",
    "   norms[norms == 0] = 1.0  # avoid division by zero\n",
    "   emb = emb / norms\n",
    "   return emb"
   ]
  },
  {
   "cell_type": "code",
   "execution_count": 7,
   "metadata": {},
   "outputs": [
    {
     "data": {
      "application/vnd.jupyter.widget-view+json": {
       "model_id": "4f0afe2977f14c75a5eae7d722919345",
       "version_major": 2,
       "version_minor": 0
      },
      "text/plain": [
       "Batches:   0%|          | 0/11 [00:00<?, ?it/s]"
      ]
     },
     "metadata": {},
     "output_type": "display_data"
    },
    {
     "name": "stdout",
     "output_type": "stream",
     "text": [
      "Saved matrix of shape (1343, 384), dtype float32 -> embedded_items.npy\n"
     ]
    }
   ],
   "source": [
    "# DONT NEED TO RUN THIS AGAIN - use uuid_list.csv, InventoryLookup.jsonl, and embedded_items.npy\n",
    "\n",
    "# open inventory database\n",
    "with open(\"inventory-5-31-25.json\", \"r\", encoding=\"utf-8\") as f:\n",
    "   inventory_json = json.load(f)   # inventory_json is already a list of dicts\n",
    "\n",
    "inventory_lookup = {}           # dict[uuid] -> {Name, Long name, Locations}\n",
    "uuid_list = []                  # list of uuids, in EXACT row order\n",
    "names_list = []                 # list of full_name strings, same order as UUID_list\n",
    "\n",
    "for item in inventory_json:\n",
    "    # inventory_json is a list of dicts, so item is a dict \n",
    "\n",
    "    # Build fast lookup (N-length dict)\n",
    "    inventory_lookup[item[\"uuid\"]] = {\n",
    "        \"name\": item[\"name\"],\n",
    "        \"long_name\": item[\"long_name\"],\n",
    "        \"locations\": item[\"locations\"]  # keep structured as list of dicts\n",
    "    }\n",
    "\n",
    "    # Build index-aligned lists\n",
    "    uuid_list.append(item[\"uuid\"])\n",
    "    names_list.append(make_full_name(item[\"name\"], item[\"long_name\"]))\n",
    "\n",
    "\n",
    "# Persist inventory_lookup \n",
    "write_json(\"InventoryLookup.json\", inventory_lookup)  \n",
    "\n",
    "# Persist uuid_list \n",
    "write_csv(\"uuid_list.csv\", uuid_list)\n",
    "\n",
    "# Vectorize names_list -> names_matrix (N x d), then L2-normalize rows\n",
    "names_matrix = embed_normalize(names_list)           # shape: N x d, d = 384\n",
    "\n",
    "# Persist names_matrix \n",
    "save_npy(\"embedded_items.npy\", names_matrix)\n"
   ]
  },
  {
   "cell_type": "code",
   "execution_count": 3,
   "metadata": {},
   "outputs": [],
   "source": [
    "with open(\"InventoryLookup.json\", \"r\", encoding=\"utf-8\") as f:\n",
    "    inventory_lookup = json.load(f)\n",
    "\n",
    "# Load uuid_list (list of uuids)\n",
    "with open(\"uuid_list.csv\", \"r\", encoding=\"utf-8\") as f:\n",
    "    reader = csv.reader(f)\n",
    "    uuid_list = [row[1] for row in reader]  # each row is a single uuid\n",
    "\n",
    "# Load names_matrix (numpy array of embeddings)\n",
    "names_matrix = np.load(\"embedded_items.npy\")"
   ]
  },
  {
   "cell_type": "code",
   "execution_count": 5,
   "metadata": {},
   "outputs": [],
   "source": [
    "\n",
    "import re, time, requests\n",
    "from typing import List, Tuple, Optional\n",
    "from bs4 import BeautifulSoup\n",
    "\n",
    "# --- Helpers ---\n",
    "\n",
    "def _normalize_amazon_url(u: str) -> str:\n",
    "    # strip trailing punctuation that often sneaks in from chat/markdown\n",
    "    u = u.rstrip(\").,;:]\")\n",
    "    # remove query params\n",
    "    u = u.split(\"?\", 1)[0]\n",
    "    # collapse to canonical dp/ASIN form if present\n",
    "    m = re.search(r\"/dp/([A-Z0-9]{10})\", u)\n",
    "    if m:\n",
    "        asin = m.group(1)\n",
    "        return f\"https://www.amazon.com/dp/{asin}\"\n",
    "    return u\n",
    "\n",
    "_HEADERS = {\n",
    "    \"User-Agent\": (\n",
    "        \"Mozilla/5.0 (Windows NT 10.0; Win64; x64) \"\n",
    "        \"AppleWebKit/537.36 (KHTML, like Gecko) \"\n",
    "        \"Chrome/120.0 Safari/537.36\"\n",
    "    ),\n",
    "    \"Accept-Language\": \"en-US,en;q=0.9\",\n",
    "}\n",
    "\n",
    "def _extract_title_from_html(html_text: str) -> Optional[str]:\n",
    "    soup = BeautifulSoup(html_text, \"html.parser\")\n",
    "\n",
    "    # 1) Amazon product title selectors\n",
    "    for css in [\"#productTitle\", \"#title\", \"span#productTitle\"]:\n",
    "        el = soup.select_one(css)\n",
    "        if el:\n",
    "            txt = el.get_text(strip=True)\n",
    "            if txt:\n",
    "                return txt\n",
    "\n",
    "    # 2) Open Graph\n",
    "    og = soup.find(\"meta\", {\"property\": \"og:title\"})\n",
    "    if og and og.get(\"content\"):\n",
    "        return og[\"content\"].strip()\n",
    "\n",
    "    # 3) Fallback <h1>\n",
    "    h1 = soup.find(\"h1\")\n",
    "    if h1:\n",
    "        txt = h1.get_text(strip=True)\n",
    "        if txt:\n",
    "            return txt\n",
    "\n",
    "    # 4) Fallback <title>\n",
    "    if soup.title:\n",
    "        txt = soup.title.get_text(strip=True)\n",
    "        if txt:\n",
    "            return txt\n",
    "\n",
    "    return None\n",
    "\n",
    "# --- Core functions ---\n",
    "\n",
    "def link_parser(urls: List[str], timeout: float = 10.0, sleep_sec: float = 0.4) -> List[str]:\n",
    "    seen = set()\n",
    "    titles: List[str] = []\n",
    "\n",
    "    for raw_u in urls:\n",
    "        u = _normalize_amazon_url(raw_u)\n",
    "        if u in seen:\n",
    "            continue\n",
    "        seen.add(u)\n",
    "\n",
    "        try:\n",
    "            r = requests.get(u, headers=_HEADERS, timeout=timeout)\n",
    "            # DEBUG: show status; uncomment next line to dump HTML if needed\n",
    "            # print(\"DEBUG status:\", r.status_code, \"URL:\", u)\n",
    "            if r.status_code != 200 or not r.text:\n",
    "                time.sleep(sleep_sec); continue\n",
    "\n",
    "            title = _extract_title_from_html(r.text)\n",
    "            if title:\n",
    "                # Avoid adding useless 'Amazon.com' fallback as a signal\n",
    "                if title.lower().strip() == \"amazon.com\":\n",
    "                    # treat as failure; skip adding\n",
    "                    pass\n",
    "                else:\n",
    "                    titles.append(title)\n",
    "\n",
    "        except requests.RequestException as e:\n",
    "            # DEBUG: print(e)  # uncomment if you want to see the error\n",
    "            pass\n",
    "\n",
    "        time.sleep(sleep_sec)\n",
    "\n",
    "    return titles\n",
    "\n",
    "def link_find_split(user_request: str) -> Tuple[str, List[str]]:\n",
    "    url_pattern = re.compile(r\"https?://\\S+\")\n",
    "    urls = url_pattern.findall(user_request)\n",
    "    user_request_text = url_pattern.sub(\"\", user_request).strip()\n",
    "\n",
    "    link_titles = link_parser(urls)\n",
    "    return user_request_text, link_titles\n"
   ]
  },
  {
   "cell_type": "code",
   "execution_count": 6,
   "metadata": {},
   "outputs": [],
   "source": [
    "def find_three_inventory_match(extracted_vector: np.ndarray,\n",
    "                               names_matrix: np.ndarray,\n",
    "                               uuid_list: List[str],\n",
    "                               inventory_lookup: Dict[str, Dict]) -> List[Dict]:\n",
    "\n",
    "    scores = names_matrix @ extracted_vector  # shape (N,)\n",
    "\n",
    "    # Get top-3 indices\n",
    "    top_idx = np.argpartition(scores, -3)[-3:]  # unsorted top-3\n",
    "    top_idx = top_idx[np.argsort(scores[top_idx])[::-1]]  # sort descending\n",
    "\n",
    "    three_possible_matches: List[Dict] = []\n",
    "    for i in top_idx:\n",
    "        uuid = uuid_list[i]\n",
    "        item_info = inventory_lookup[uuid]\n",
    "        full_name = item_info[\"name\"]\n",
    "        if item_info.get(\"long_name\"):\n",
    "            full_name += \" — \" + item_info[\"long_name\"]\n",
    "\n",
    "        three_possible_matches.append({\n",
    "            \"uuid\": uuid,\n",
    "            \"full_name\": full_name,\n",
    "            \"locations\": item_info[\"locations\"],\n",
    "            \"score\": float(scores[i]),\n",
    "        })\n",
    "\n",
    "    return three_possible_matches\n",
    "\n"
   ]
  },
  {
   "cell_type": "code",
   "execution_count": 11,
   "metadata": {},
   "outputs": [],
   "source": [
    "DEBUG_LLM = True  # flip on for a short run\n",
    "\n",
    "\n",
    "_oai_client = OpenAI(api_key=\"sk-\")\n",
    "\n",
    "AREA_LABELS = [\n",
    "    \"Cabinet 1\",\"Cabinet 2\",\"Cabinet 3\", \"Cabinet 4\", \"Cabinet 5\",\"Cabinet 6\",\"Cabinet 7\", \"Cabinet 9\", \"Cabinet 11\", \"Cabinet 15\", \"Pegboard 1\",\"Fabric\", \"LFP\", \"3D Printer Room\",\n",
    "    \"Electronics\", \"Studio\", \"Spraypaint\", \"Cage/Crypt/Other\"\n",
    "]\n",
    "\n",
    "def llm_match(user_request_text: str,\n",
    "              links_items_list: List[str],\n",
    "              three_possible_matches: List[Dict]) -> Tuple[str, str]:\n",
    "    \"\"\"\n",
    "    Call an LLM to choose ONE candidate uuid and ONE area label.\n",
    "\n",
    "    Returns:\n",
    "        (item_uuid, item_location)\n",
    "        If anything fails, returns (\"\", \"Cage/Crypt/Other\")\n",
    "    \"\"\"\n",
    "    # Ensure scores are JSON-serializable\n",
    "    for c in three_possible_matches or []:\n",
    "        if \"score\" in c:\n",
    "            c[\"score\"] = float(c[\"score\"])\n",
    "\n",
    "    # --- System instructions ---\n",
    "    system_instructions = (\n",
    "        \"You label makerspace restock requests.\\n\"\n",
    "        \"TASK:\\n\"\n",
    "        \"1) Pick exactly ONE inventory item from the provided CANDIDATES by its 'uuid'.\\n\"\n",
    "        \"2) Assign exactly ONE area label from:\\n\"\n",
    "        f\" {AREA_LABELS}.\\n\\n\"\n",
    "        \"INPUT FIELDS YOU WILL RECEIVE:\\n\"\n",
    "        \"- user_request_text: free-text from the steward (links removed)\\n\"\n",
    "        \"- links_items_list: list of product titles parsed from any links\\n\"\n",
    "        \"- three_possible_matches: array of objects with {uuid, full_name, locations, score}\\n\\n\"\n",
    "        \"RULES:\\n\"\n",
    "        \"- Only select a uuid that appears in three_possible_matches.\\n\"\n",
    "        \"- If one of the candidate items is only in the Cage or Crypt, it is most likely not the correct option.\\n\"\n",
    "        \"- If links_items_list contradict user_request_text, favor links_items_list unless clearly off-topic.\\n\"\n",
    "        \"- If candidates are near-ties, prefer the higher score.\\n\"\n",
    "        \"- Area mapping guidance:\\n\"\n",
    "        \" • If any location.container contains 'Cabinet', map to the number cabinet as listed in Area Labels\\n\"\n",
    "        \" • Map location.room (case-insensitive):\\n\"\n",
    "        \"   - 'fabric' → 'Fabric'\\n\"\n",
    "        \"   - 'lfp' → 'LFP'\\n\"\n",
    "        \"   - '3d printer room' / '3d printers' → '3D Printer Room'\\n\"\n",
    "        \"   - 'electronics' → 'Electronics'\\n\"\n",
    "        \"   - 'studio' → 'Studio'\\n\"\n",
    "        \"   - 'spraypaint' / 'spray booth' → 'Spraypaint'\\n\"\n",
    "        \"   - 'cage', 'crypt', 'main', 'shop', 'other' → 'Cage/Crypt/Other'\\n\\n\"\n",
    "        \"OUTPUT:\\n\"\n",
    "        \"Return ONLY this JSON (no prose):\\n\"\n",
    "        '{\"item_uuid\":\"<candidate uuid>\",\"item_location\":\"<one allowed area>\"}'\n",
    "    )\n",
    "\n",
    "    user_payload = {\n",
    "        \"user_request_text\": user_request_text or \"\",\n",
    "        \"links_items_list\": list(links_items_list or []),\n",
    "        \"three_possible_matches\": three_possible_matches or [],\n",
    "    }\n",
    "\n",
    "    schema = {\n",
    "        \"type\": \"object\",\n",
    "        \"properties\": {\n",
    "            \"item_uuid\": {\"type\": \"string\"},\n",
    "            \"item_location\": {\"type\": \"string\", \"enum\": AREA_LABELS},\n",
    "        },\n",
    "        \"required\": [\"item_uuid\", \"item_location\"],\n",
    "        \"additionalProperties\": False,\n",
    "    }\n",
    "\n",
    "    try:\n",
    "        # ---- CALL THE CHAT COMPLETIONS API ----\n",
    "        # NOTE: 'response_format={\"type\": \"json_object\"}' instructs the model to return JSON,\n",
    "        # but the JSON still arrives in choices[0].message.content (string), not as 'output_text'.\n",
    "        resp = _oai_client.chat.completions.create(\n",
    "            model=\"gpt-4o-mini\",\n",
    "            response_format={\"type\": \"json_object\"},\n",
    "            messages=[\n",
    "                {\"role\": \"system\", \"content\": system_instructions},\n",
    "                {\"role\": \"user\", \"content\": json.dumps(user_payload, ensure_ascii=False)},\n",
    "            ],\n",
    "            temperature=0,\n",
    "        )\n",
    "\n",
    "        # --- Unified extraction of raw text (handles both APIs if you later switch back) ---\n",
    "        raw: Optional[str] = getattr(resp, \"output_text\", None)  # Responses API\n",
    "        if not raw:\n",
    "            # Chat Completions API\n",
    "            raw = (resp.choices[0].message.content or \"\").strip()\n",
    "\n",
    "        if DEBUG_LLM:\n",
    "            print(\"[LLM RAW][:300]:\", (raw or \"\")[:300])\n",
    "\n",
    "        if not raw:\n",
    "            raise ValueError(\"Empty LLM response\")\n",
    "\n",
    "        # --- Parse JSON robustly ---\n",
    "        # 1) Try direct JSON\n",
    "        try:\n",
    "            data = json.loads(raw)\n",
    "        except json.JSONDecodeError:\n",
    "            # 2) Fallback: extract first {...} block\n",
    "            m = re.search(r\"\\{[\\s\\S]*\\}\", raw)\n",
    "            if not m:\n",
    "                raise\n",
    "            data = json.loads(m.group(0))\n",
    "\n",
    "        if DEBUG_LLM:\n",
    "            print(\"[LLM PARSED]:\", data)\n",
    "\n",
    "        cand_uuids = {c.get(\"uuid\") for c in (three_possible_matches or []) if c.get(\"uuid\")}\n",
    "        item_uuid = (data or {}).get(\"item_uuid\")\n",
    "        item_location = (data or {}).get(\"item_location\")\n",
    "\n",
    "        # --- Validate against candidates and allowed labels ---\n",
    "        if item_uuid in cand_uuids and item_location in AREA_LABELS:\n",
    "            if DEBUG_LLM:\n",
    "                print(\"[LLM OK]:\", item_uuid, \"→\", item_location)\n",
    "            return item_uuid, item_location\n",
    "\n",
    "        if DEBUG_LLM:\n",
    "            print(\n",
    "                \"[VALIDATION FAIL]:\",\n",
    "                item_uuid,\n",
    "                item_location,\n",
    "                \"; cand_uuids sample:\",\n",
    "                list(cand_uuids)[:3],\n",
    "            )\n",
    "\n",
    "    except Exception as e:\n",
    "        print(\"[LLM ERROR]:\", repr(e))  # <-- do not silently pass\n",
    "\n",
    "    # Sensible fallback\n",
    "    return \"\", \"Cage/Crypt/Other\""
   ]
  },
  {
   "cell_type": "code",
   "execution_count": 14,
   "metadata": {},
   "outputs": [
    {
     "name": "stdout",
     "output_type": "stream",
     "text": [
      "******************************************************\n",
      "message =  https://www.amazon.com/dp/B0BKSJYX9Q/\n",
      "\n",
      " text =  \n",
      "\n",
      " link items =  ['Gute 10Pcs Cast Acrylic Sheet,Colored Acrylic Sheet Plastic Sheet 8 x 8 Inch (.118\" Thick) for Signs, DIY Display Projects, Craft and Easy to Cut（10 Colors,Transparent）']\n"
     ]
    },
    {
     "data": {
      "application/vnd.jupyter.widget-view+json": {
       "model_id": "2e9a2620acea4e3aa33b451a7279dc6c",
       "version_major": 2,
       "version_minor": 0
      },
      "text/plain": [
       "Batches:   0%|          | 0/1 [00:00<?, ?it/s]"
      ]
     },
     "metadata": {},
     "output_type": "display_data"
    },
    {
     "name": "stdout",
     "output_type": "stream",
     "text": [
      "\n",
      " matches = [{'uuid': 'be13f962-3b93-4dcb-a19f-3279cb527ec0', 'full_name': 'Plastic Sheeting — https://a.co/d/05u8q9V', 'locations': [{'room': 'Cage', 'container': '1a', 'specific': ''}], 'score': 0.5975993871688843}, {'uuid': '666279ae-15c8-4257-9a49-b97058051826', 'full_name': 'Printer — EPSON Color Printer', 'locations': [{'room': 'Cage', 'container': '8d', 'specific': None}], 'score': 0.5918001532554626}, {'uuid': '1de6fbb3-4f5f-488f-8587-bd6cfaba5a0c', 'full_name': 'Iron Rest Pad', 'locations': [{'room': 'Cage', 'container': '3b', 'specific': ''}], 'score': 0.5534443855285645}]\n",
      "[LLM RAW][:300]: {\"item_uuid\":\"be13f962-3b93-4dcb-a19f-3279cb527ec0\",\"item_location\":\"Cage/Crypt/Other\"}\n",
      "[LLM PARSED]: {'item_uuid': 'be13f962-3b93-4dcb-a19f-3279cb527ec0', 'item_location': 'Cage/Crypt/Other'}\n",
      "[LLM OK]: be13f962-3b93-4dcb-a19f-3279cb527ec0 → Cage/Crypt/Other\n",
      "LLM RETURNED:\n",
      "be13f962-3b93-4dcb-a19f-3279cb527ec0\n",
      "Cage/Crypt/Other\n",
      "******************************************************\n",
      "message =  Slightly bigger seed beads (current ones are much smaller than 4 mm)\n",
      "https://www.amazon.com/Redtwo-Glass-Seed-Beads-Friendship/dp/B0C5JBWBXB/ref=sr_1_36?crid=3S6EKWKRROIDJ&keywords=seed%2Bbeads&qid=1695956100&sprefix=seed%2Bbeads%2Caps%2C400&sr=8-36&th=1\n",
      "\n",
      " text =  Slightly bigger seed beads (current ones are much smaller than 4 mm)\n",
      "\n",
      " link items =  ['Redtwo 4mm Glass Seed Beads for Jewelry Bracelet Making Kit, Small Beads Friendship Bracelet Kit, Tiny Waist Beads with Letter Beads and Elastic String, DIY Art Craft Girls Gifts.']\n"
     ]
    },
    {
     "data": {
      "application/vnd.jupyter.widget-view+json": {
       "model_id": "80dc3e538d214a0aac83d011add4caee",
       "version_major": 2,
       "version_minor": 0
      },
      "text/plain": [
       "Batches:   0%|          | 0/1 [00:00<?, ?it/s]"
      ]
     },
     "metadata": {},
     "output_type": "display_data"
    },
    {
     "name": "stdout",
     "output_type": "stream",
     "text": [
      "\n",
      " matches = [{'uuid': '801028a8-4677-44f9-9ffe-5ebb239fd2d2', 'full_name': 'Metal Charms', 'locations': [{'room': 'Main', 'container': 'Cabinet 3', 'specific': 'Shelf 6'}, {'room': 'Cage', 'container': '5c', 'specific': 'Stack 4|-3'}], 'score': 0.6526544094085693}, {'uuid': '85c93576-6216-4927-8e78-9f3ebd85e8e4', 'full_name': 'Pony Beads', 'locations': [{'room': 'Main', 'container': 'Cabinet 3', 'specific': 'Shelf 13'}, {'room': 'Cage', 'container': '5e', 'specific': '|4'}], 'score': 0.5851408839225769}, {'uuid': '677b6423-1af3-450b-882c-f5a73c980cf8', 'full_name': 'Iron-On Patches', 'locations': [{'room': 'Main', 'container': 'Cabinet 1', 'specific': 'Shelf 14'}], 'score': 0.5422393679618835}]\n",
      "[LLM RAW][:300]: {\"item_uuid\":\"801028a8-4677-44f9-9ffe-5ebb239fd2d2\",\"item_location\":\"Cabinet 3\"}\n",
      "[LLM PARSED]: {'item_uuid': '801028a8-4677-44f9-9ffe-5ebb239fd2d2', 'item_location': 'Cabinet 3'}\n",
      "[LLM OK]: 801028a8-4677-44f9-9ffe-5ebb239fd2d2 → Cabinet 3\n",
      "LLM RETURNED:\n",
      "801028a8-4677-44f9-9ffe-5ebb239fd2d2\n",
      "Cabinet 3\n",
      "******************************************************\n",
      "message =  Black, white, and greyscale embroidery floss\n",
      "\n",
      " text =  Black, white, and greyscale embroidery floss\n",
      "\n",
      " link items =  []\n"
     ]
    },
    {
     "data": {
      "application/vnd.jupyter.widget-view+json": {
       "model_id": "849eca787fdf48aba6fde7d9abff350b",
       "version_major": 2,
       "version_minor": 0
      },
      "text/plain": [
       "Batches:   0%|          | 0/1 [00:00<?, ?it/s]"
      ]
     },
     "metadata": {},
     "output_type": "display_data"
    },
    {
     "name": "stdout",
     "output_type": "stream",
     "text": [
      "\n",
      " matches = [{'uuid': 'a3a6b195-f3f7-49e8-9b00-bb84948844a6', 'full_name': 'Fabric Scissors', 'locations': [{'room': 'Main', 'container': 'Cabinet 1', 'specific': 'Shelf 1'}, {'room': 'Cage', 'container': '5d', 'specific': 'Stack 1|-3'}], 'score': 0.8324414491653442}, {'uuid': '8f8d4979-d146-47dc-98de-23e7557a2213', 'full_name': 'Plastic Scrapers', 'locations': [{'room': 'Main', 'container': 'Cabinet 4', 'specific': 'Shelf 14'}, {'room': 'Cage', 'container': '5c', 'specific': 'Stack 20|-2'}], 'score': 0.6254764795303345}, {'uuid': '82324c24-bf48-4d01-ac12-bcc5e33b296a', 'full_name': 'Keychain Clasps', 'locations': [{'room': 'Main', 'container': 'Cabinet 3', 'specific': 'Shelf 9'}, {'room': 'Cage', 'container': '5d', 'specific': 'Stack 3|-3'}], 'score': 0.6080145835876465}]\n",
      "[LLM RAW][:300]: {\"item_uuid\":\"a3a6b195-f3f7-49e8-9b00-bb84948844a6\",\"item_location\":\"Cabinet 1\"}\n",
      "[LLM PARSED]: {'item_uuid': 'a3a6b195-f3f7-49e8-9b00-bb84948844a6', 'item_location': 'Cabinet 1'}\n",
      "[LLM OK]: a3a6b195-f3f7-49e8-9b00-bb84948844a6 → Cabinet 1\n",
      "LLM RETURNED:\n",
      "a3a6b195-f3f7-49e8-9b00-bb84948844a6\n",
      "Cabinet 1\n",
      "******************************************************\n",
      "message =  fabric stabilizer\n",
      "\n",
      " text =  fabric stabilizer\n",
      "\n",
      " link items =  []\n"
     ]
    },
    {
     "data": {
      "application/vnd.jupyter.widget-view+json": {
       "model_id": "6e611576b7684b86a687e471b15fa3ee",
       "version_major": 2,
       "version_minor": 0
      },
      "text/plain": [
       "Batches:   0%|          | 0/1 [00:00<?, ?it/s]"
      ]
     },
     "metadata": {},
     "output_type": "display_data"
    },
    {
     "name": "stdout",
     "output_type": "stream",
     "text": [
      "\n",
      " matches = [{'uuid': '3e00df33-2c77-4be9-ad16-81f61734cee6', 'full_name': 'Permanent Fabric Markers', 'locations': [{'room': 'Main', 'container': 'Cabinet 1', 'specific': 'Shelf 6'}, {'room': 'Cage', 'container': '5e', 'specific': '|-3'}], 'score': 0.7638481855392456}, {'uuid': 'db8a11c2-9077-479d-bf17-f597b7b8c850', 'full_name': 'Leather Sewing Machine — Juki Sewing Machine', 'locations': [{'room': 'Cage', 'container': 'Floor', 'specific': None}], 'score': 0.6674359440803528}, {'uuid': '68609062-5506-4ef2-b595-11f629078ef3', 'full_name': 'Seam Rippers', 'locations': [{'room': 'Main', 'container': 'Pegboard 1', 'specific': 'E5'}, {'room': 'Cage', 'container': '5c', 'specific': 'Stack 7|-3'}], 'score': 0.5947514772415161}]\n",
      "[LLM RAW][:300]: {\"item_uuid\":\"3e00df33-2c77-4be9-ad16-81f61734cee6\",\"item_location\":\"Cabinet 1\"}\n",
      "[LLM PARSED]: {'item_uuid': '3e00df33-2c77-4be9-ad16-81f61734cee6', 'item_location': 'Cabinet 1'}\n",
      "[LLM OK]: 3e00df33-2c77-4be9-ad16-81f61734cee6 → Cabinet 1\n",
      "LLM RETURNED:\n",
      "3e00df33-2c77-4be9-ad16-81f61734cee6\n",
      "Cabinet 1\n",
      "******************************************************\n",
      "message =  black, white, and grey embroidery floss\n",
      "\n",
      " text =  black, white, and grey embroidery floss\n",
      "\n",
      " link items =  []\n"
     ]
    },
    {
     "data": {
      "application/vnd.jupyter.widget-view+json": {
       "model_id": "ccd9fddf180e42c99faa84da6188652f",
       "version_major": 2,
       "version_minor": 0
      },
      "text/plain": [
       "Batches:   0%|          | 0/1 [00:00<?, ?it/s]"
      ]
     },
     "metadata": {},
     "output_type": "display_data"
    },
    {
     "name": "stdout",
     "output_type": "stream",
     "text": [
      "\n",
      " matches = [{'uuid': 'a3a6b195-f3f7-49e8-9b00-bb84948844a6', 'full_name': 'Fabric Scissors', 'locations': [{'room': 'Main', 'container': 'Cabinet 1', 'specific': 'Shelf 1'}, {'room': 'Cage', 'container': '5d', 'specific': 'Stack 1|-3'}], 'score': 0.8135348558425903}, {'uuid': '82324c24-bf48-4d01-ac12-bcc5e33b296a', 'full_name': 'Keychain Clasps', 'locations': [{'room': 'Main', 'container': 'Cabinet 3', 'specific': 'Shelf 9'}, {'room': 'Cage', 'container': '5d', 'specific': 'Stack 3|-3'}], 'score': 0.6186760663986206}, {'uuid': '1ce7b2c1-379d-4a23-8f68-e328e511f75b', 'full_name': 'Black Cotton Thread', 'locations': [{'room': 'Cage', 'container': '5c', 'specific': 'Stack 1|-3'}], 'score': 0.613845705986023}]\n",
      "[LLM RAW][:300]: {\"item_uuid\":\"a3a6b195-f3f7-49e8-9b00-bb84948844a6\",\"item_location\":\"Cabinet 1\"}\n",
      "[LLM PARSED]: {'item_uuid': 'a3a6b195-f3f7-49e8-9b00-bb84948844a6', 'item_location': 'Cabinet 1'}\n",
      "[LLM OK]: a3a6b195-f3f7-49e8-9b00-bb84948844a6 → Cabinet 1\n",
      "LLM RETURNED:\n",
      "a3a6b195-f3f7-49e8-9b00-bb84948844a6\n",
      "Cabinet 1\n",
      "******************************************************\n",
      "message =  Embroidery floss\n",
      "\n",
      " text =  Embroidery floss\n",
      "\n",
      " link items =  []\n"
     ]
    },
    {
     "data": {
      "application/vnd.jupyter.widget-view+json": {
       "model_id": "3783dc1939ba40068903f0c972797cce",
       "version_major": 2,
       "version_minor": 0
      },
      "text/plain": [
       "Batches:   0%|          | 0/1 [00:00<?, ?it/s]"
      ]
     },
     "metadata": {},
     "output_type": "display_data"
    },
    {
     "name": "stdout",
     "output_type": "stream",
     "text": [
      "\n",
      " matches = [{'uuid': 'a3a6b195-f3f7-49e8-9b00-bb84948844a6', 'full_name': 'Fabric Scissors', 'locations': [{'room': 'Main', 'container': 'Cabinet 1', 'specific': 'Shelf 1'}, {'room': 'Cage', 'container': '5d', 'specific': 'Stack 1|-3'}], 'score': 1.0000001192092896}, {'uuid': '8f8d4979-d146-47dc-98de-23e7557a2213', 'full_name': 'Plastic Scrapers', 'locations': [{'room': 'Main', 'container': 'Cabinet 4', 'specific': 'Shelf 14'}, {'room': 'Cage', 'container': '5c', 'specific': 'Stack 20|-2'}], 'score': 0.7338425517082214}, {'uuid': '3e00df33-2c77-4be9-ad16-81f61734cee6', 'full_name': 'Permanent Fabric Markers', 'locations': [{'room': 'Main', 'container': 'Cabinet 1', 'specific': 'Shelf 6'}, {'room': 'Cage', 'container': '5e', 'specific': '|-3'}], 'score': 0.6818071603775024}]\n",
      "[LLM RAW][:300]: {\"item_uuid\":\"a3a6b195-f3f7-49e8-9b00-bb84948844a6\",\"item_location\":\"Cabinet 1\"}\n",
      "[LLM PARSED]: {'item_uuid': 'a3a6b195-f3f7-49e8-9b00-bb84948844a6', 'item_location': 'Cabinet 1'}\n",
      "[LLM OK]: a3a6b195-f3f7-49e8-9b00-bb84948844a6 → Cabinet 1\n",
      "LLM RETURNED:\n",
      "a3a6b195-f3f7-49e8-9b00-bb84948844a6\n",
      "Cabinet 1\n",
      "******************************************************\n",
      "message =  plastic cover for bobbin compartment on the brother sewing machine\n",
      "\n",
      " text =  plastic cover for bobbin compartment on the brother sewing machine\n",
      "\n",
      " link items =  []\n"
     ]
    },
    {
     "data": {
      "application/vnd.jupyter.widget-view+json": {
       "model_id": "18d6df8400524dd08d4a9110a46ec8c6",
       "version_major": 2,
       "version_minor": 0
      },
      "text/plain": [
       "Batches:   0%|          | 0/1 [00:00<?, ?it/s]"
      ]
     },
     "metadata": {},
     "output_type": "display_data"
    },
    {
     "name": "stdout",
     "output_type": "stream",
     "text": [
      "\n",
      " matches = [{'uuid': '73d42176-fde4-4f4f-ad14-786bb97c66cd', 'full_name': 'Singer Sewing Machine 20', 'locations': [{'room': 'Cage', 'container': '3e', 'specific': ''}], 'score': 0.6744096279144287}, {'uuid': 'f425db72-a9c6-4fbd-a3a8-38afab8adbb4', 'full_name': 'T-pins', 'locations': [{'room': 'Main', 'container': 'Pegboard 1', 'specific': 'F5'}], 'score': 0.655820906162262}, {'uuid': '78c2d6a0-6927-4f2c-afe3-04aed7e6173d', 'full_name': 'Brother Sewing Machine 18', 'locations': [{'room': 'Cage', 'container': '3e', 'specific': ''}], 'score': 0.6324244737625122}]\n",
      "[LLM RAW][:300]: {\"item_uuid\":\"f425db72-a9c6-4fbd-a3a8-38afab8adbb4\",\"item_location\":\"Pegboard 1\"}\n",
      "[LLM PARSED]: {'item_uuid': 'f425db72-a9c6-4fbd-a3a8-38afab8adbb4', 'item_location': 'Pegboard 1'}\n",
      "[LLM OK]: f425db72-a9c6-4fbd-a3a8-38afab8adbb4 → Pegboard 1\n",
      "LLM RETURNED:\n",
      "f425db72-a9c6-4fbd-a3a8-38afab8adbb4\n",
      "Pegboard 1\n",
      "******************************************************\n",
      "message =  spool pins for SINGER sewing machine and BABYLOCK sewing machine (the spool pins we have do not fit on those brand machines, they only fit on the BROTHER machines)\n",
      "\n",
      " text =  spool pins for SINGER sewing machine and BABYLOCK sewing machine (the spool pins we have do not fit on those brand machines, they only fit on the BROTHER machines)\n",
      "\n",
      " link items =  []\n"
     ]
    },
    {
     "data": {
      "application/vnd.jupyter.widget-view+json": {
       "model_id": "1f4e43ece45a4fd1b8b65935c319549c",
       "version_major": 2,
       "version_minor": 0
      },
      "text/plain": [
       "Batches:   0%|          | 0/1 [00:00<?, ?it/s]"
      ]
     },
     "metadata": {},
     "output_type": "display_data"
    },
    {
     "name": "stdout",
     "output_type": "stream",
     "text": [
      "\n",
      " matches = [{'uuid': '6b40e62f-3af4-4099-8fe5-cf2b4464ec17', 'full_name': 'Darning Plate', 'locations': [{'room': 'Main', 'container': 'Pegboard 1', 'specific': 'K3'}], 'score': 0.6885489821434021}, {'uuid': '0bfef756-b8fc-48eb-a688-0f64db2d46fd', 'full_name': 'Sewing Machine Screw Drivers', 'locations': [{'room': 'Main', 'container': 'Pegboard 1', 'specific': 'J1'}], 'score': 0.6811106204986572}, {'uuid': '14868e71-9eec-4aab-ac73-9ae700dfbde2', 'full_name': 'Plastic Clips', 'locations': [{'room': 'Main', 'container': 'Pegboard 1', 'specific': 'B7'}, {'room': 'Cage', 'container': '5e', 'specific': 'Pegboard Bins|-3'}], 'score': 0.5915634632110596}]\n",
      "[LLM RAW][:300]: {\"item_uuid\":\"6b40e62f-3af4-4099-8fe5-cf2b4464ec17\",\"item_location\":\"Pegboard 1\"}\n",
      "[LLM PARSED]: {'item_uuid': '6b40e62f-3af4-4099-8fe5-cf2b4464ec17', 'item_location': 'Pegboard 1'}\n",
      "[LLM OK]: 6b40e62f-3af4-4099-8fe5-cf2b4464ec17 → Pegboard 1\n",
      "LLM RETURNED:\n",
      "6b40e62f-3af4-4099-8fe5-cf2b4464ec17\n",
      "Pegboard 1\n",
      "******************************************************\n",
      "message =  Dangling earring hooks\n",
      "https://www.amazon.com/Hypoallergenic-Earring-Thrilez-600Pcs-Jewelry/dp/B08JC9W2YT/ref=sr_1_1_sspa?crid=18SH9YYQBCCV2&keywords=earring%2Bhooks&qid=1696460677&sprefix=earring%2Bhooks%2Caps%2C883&sr=8-1-spons&sp_csd=d2lkZ2V0TmFtZT1zcF9hdGY&th=1\n",
      "\n",
      " text =  Dangling earring hooks\n",
      "\n",
      " link items =  ['Thrilez Hypoallergenic Earring Hooks, 600Pcs Earring Making Kit with Hypoallergenic Earring Hooks, Jump Rings and Clear Rubber Earring Backs for DIY Jewelry Making (Silver and Gold)']\n"
     ]
    },
    {
     "data": {
      "application/vnd.jupyter.widget-view+json": {
       "model_id": "6ffe155384e34494864cc5af2da15ab7",
       "version_major": 2,
       "version_minor": 0
      },
      "text/plain": [
       "Batches:   0%|          | 0/1 [00:00<?, ?it/s]"
      ]
     },
     "metadata": {},
     "output_type": "display_data"
    },
    {
     "name": "stdout",
     "output_type": "stream",
     "text": [
      "\n",
      " matches = [{'uuid': '414b1655-517c-492f-a564-97f119358da8', 'full_name': 'Thin White Elastic Band — Mandala Crafts White Elastic Bands 1/4 Flat Elastic Cord Stretch Strap', 'locations': [{'room': 'Main', 'container': 'Cabinet 1', 'specific': 'Shelf 13'}, {'room': 'Cage', 'container': '5c', 'specific': 'Stack 26|-3'}], 'score': 0.6935594081878662}, {'uuid': '0d382ce9-c682-4780-8d9e-0fe8623d0972', 'full_name': 'Thin Black Elastic Band — Mandala Crafts Black Elastic Bands 1/4 Flat Elastic Cord Stretch Strap', 'locations': [{'room': 'Main', 'container': 'Cabinet 1', 'specific': 'Shelf 13'}, {'room': 'Cage', 'container': '5c', 'specific': 'Stack 26|-3'}], 'score': 0.549555242061615}, {'uuid': '41ceb944-016b-4e43-9dc5-14e7deebfbe5', 'full_name': 'honing guide', 'locations': [{'room': 'Cage', 'container': 'Cabinet 9', 'specific': 'Shelf 3'}], 'score': 0.5390617847442627}]\n",
      "[LLM RAW][:300]: {\"item_uuid\":\"414b1655-517c-492f-a564-97f119358da8\",\"item_location\":\"Cabinet 1\"}\n",
      "[LLM PARSED]: {'item_uuid': '414b1655-517c-492f-a564-97f119358da8', 'item_location': 'Cabinet 1'}\n",
      "[LLM OK]: 414b1655-517c-492f-a564-97f119358da8 → Cabinet 1\n",
      "LLM RETURNED:\n",
      "414b1655-517c-492f-a564-97f119358da8\n",
      "Cabinet 1\n",
      "******************************************************\n",
      "message =  Black, White, Red Spray paint. Primer spray paint.\n",
      "\n",
      " text =  Black, White, Red Spray paint. Primer spray paint.\n",
      "\n",
      " link items =  []\n"
     ]
    },
    {
     "data": {
      "application/vnd.jupyter.widget-view+json": {
       "model_id": "be607c6628b245e3866cddc9c7c9ebcd",
       "version_major": 2,
       "version_minor": 0
      },
      "text/plain": [
       "Batches:   0%|          | 0/1 [00:00<?, ?it/s]"
      ]
     },
     "metadata": {},
     "output_type": "display_data"
    },
    {
     "name": "stdout",
     "output_type": "stream",
     "text": [
      "\n",
      " matches = [{'uuid': '25033e881a4e4dafbc4c9fd3be5875f3', 'full_name': 'Halogen Modeling Light Bulb, Impact — Impact VC-500WLN Digital Monolight', 'locations': [{'room': 'Studio', 'container': 'Studio 3', 'specific': 'Shelf 4'}], 'score': 0.758540153503418}, {'uuid': '046eb65bb58941389d7f541dfb1f0d14', 'full_name': 'Ball Bearings', 'locations': [{'room': 'Cage', 'container': 'Movable Shelves', 'specific': None}], 'score': 0.6603063344955444}, {'uuid': 'e4481a23-7e46-4c03-a9e7-1f6203fff2c1', 'full_name': 'White Acrylic Paint', 'locations': [{'room': 'Cage', 'container': '5c', 'specific': 'Stack 21|-3'}], 'score': 0.6570609211921692}]\n",
      "[LLM RAW][:300]: {\"item_uuid\":\"25033e881a4e4dafbc4c9fd3be5875f3\",\"item_location\":\"Studio\"}\n",
      "[LLM PARSED]: {'item_uuid': '25033e881a4e4dafbc4c9fd3be5875f3', 'item_location': 'Studio'}\n",
      "[LLM OK]: 25033e881a4e4dafbc4c9fd3be5875f3 → Studio\n",
      "LLM RETURNED:\n",
      "25033e881a4e4dafbc4c9fd3be5875f3\n",
      "Studio\n",
      "******************************************************\n",
      "message =  Stuffing (polyester fiber fill)\n",
      "\n",
      " text =  Stuffing (polyester fiber fill)\n",
      "\n",
      " link items =  []\n"
     ]
    },
    {
     "data": {
      "application/vnd.jupyter.widget-view+json": {
       "model_id": "beec7b7c77bf4ff19a8552d3d229b609",
       "version_major": 2,
       "version_minor": 0
      },
      "text/plain": [
       "Batches:   0%|          | 0/1 [00:00<?, ?it/s]"
      ]
     },
     "metadata": {},
     "output_type": "display_data"
    },
    {
     "name": "stdout",
     "output_type": "stream",
     "text": [
      "\n",
      " matches = [{'uuid': '368a7a823a9d402ba54e899e86afa00e', 'full_name': 'Curved Needles', 'locations': [{'room': 'Main', 'container': 'Pegboard 1', 'specific': 'G1'}, {'room': 'Cage', 'container': '5e', 'specific': 'Pegboard Bins|-2'}], 'score': 0.5557586550712585}, {'uuid': '817338c4-294d-4f6f-9169-affce4703a05', 'full_name': 'Cotton Thread', 'locations': [{'room': 'Main', 'container': 'Pegboard 1', 'specific': 'Front'}], 'score': 0.5063228607177734}, {'uuid': '5c8561af-c0ea-48c0-a009-d73791241baf', 'full_name': 'Ironing mat', 'locations': [{'room': 'Cage', 'container': '3c', 'specific': None}], 'score': 0.45427650213241577}]\n",
      "[LLM RAW][:300]: {\"item_uuid\":\"368a7a823a9d402ba54e899e86afa00e\",\"item_location\":\"Pegboard 1\"}\n",
      "[LLM PARSED]: {'item_uuid': '368a7a823a9d402ba54e899e86afa00e', 'item_location': 'Pegboard 1'}\n",
      "[LLM OK]: 368a7a823a9d402ba54e899e86afa00e → Pegboard 1\n",
      "LLM RETURNED:\n",
      "368a7a823a9d402ba54e899e86afa00e\n",
      "Pegboard 1\n",
      "******************************************************\n",
      "message =  Earring hooks!!!!!!!\n",
      "\n",
      " text =  Earring hooks!!!!!!!\n",
      "\n",
      " link items =  []\n"
     ]
    },
    {
     "data": {
      "application/vnd.jupyter.widget-view+json": {
       "model_id": "c7d70e64785743aa9e0b9897caf071b9",
       "version_major": 2,
       "version_minor": 0
      },
      "text/plain": [
       "Batches:   0%|          | 0/1 [00:00<?, ?it/s]"
      ]
     },
     "metadata": {},
     "output_type": "display_data"
    },
    {
     "name": "stdout",
     "output_type": "stream",
     "text": [
      "\n",
      " matches = [{'uuid': '414b1655-517c-492f-a564-97f119358da8', 'full_name': 'Thin White Elastic Band — Mandala Crafts White Elastic Bands 1/4 Flat Elastic Cord Stretch Strap', 'locations': [{'room': 'Main', 'container': 'Cabinet 1', 'specific': 'Shelf 13'}, {'room': 'Cage', 'container': '5c', 'specific': 'Stack 26|-3'}], 'score': 0.8512500524520874}, {'uuid': '0d382ce9-c682-4780-8d9e-0fe8623d0972', 'full_name': 'Thin Black Elastic Band — Mandala Crafts Black Elastic Bands 1/4 Flat Elastic Cord Stretch Strap', 'locations': [{'room': 'Main', 'container': 'Cabinet 1', 'specific': 'Shelf 13'}, {'room': 'Cage', 'container': '5c', 'specific': 'Stack 26|-3'}], 'score': 0.668109118938446}, {'uuid': '7a86e67a-c4c7-4077-8fd3-1aebb7c09f52', 'full_name': 'Nitrile Gloves, Large', 'locations': [{'room': 'Cage', 'container': '8e', 'specific': None}], 'score': 0.6544474363327026}]\n",
      "[LLM RAW][:300]: {\"item_uuid\":\"414b1655-517c-492f-a564-97f119358da8\",\"item_location\":\"Cabinet 1\"}\n",
      "[LLM PARSED]: {'item_uuid': '414b1655-517c-492f-a564-97f119358da8', 'item_location': 'Cabinet 1'}\n",
      "[LLM OK]: 414b1655-517c-492f-a564-97f119358da8 → Cabinet 1\n",
      "LLM RETURNED:\n",
      "414b1655-517c-492f-a564-97f119358da8\n",
      "Cabinet 1\n",
      "******************************************************\n",
      "message =  More yarn!!!! Much more yarn\n",
      "\n",
      " text =  More yarn!!!! Much more yarn\n",
      "\n",
      " link items =  []\n"
     ]
    },
    {
     "data": {
      "application/vnd.jupyter.widget-view+json": {
       "model_id": "40801e3b2a444b09bd44af0aa7480f1d",
       "version_major": 2,
       "version_minor": 0
      },
      "text/plain": [
       "Batches:   0%|          | 0/1 [00:00<?, ?it/s]"
      ]
     },
     "metadata": {},
     "output_type": "display_data"
    },
    {
     "name": "stdout",
     "output_type": "stream",
     "text": [
      "\n",
      " matches = [{'uuid': '75793391-42b2-477c-9ac3-95e264a85431', 'full_name': 'Straight Knitting Needles', 'locations': [{'room': 'Main', 'container': 'Cabinet 1', 'specific': 'Shelf 4'}, {'room': 'Cage', 'container': '5c', 'specific': 'Stack 24|-3'}], 'score': 0.7806928157806396}, {'uuid': '53fa5efd-fd71-41ea-9cfd-588ff1fcadd9', 'full_name': 'Cross stitch books', 'locations': [{'room': 'Main', 'container': 'Fabrics', 'specific': None}], 'score': 0.5621188879013062}, {'uuid': 'c401b4ed-4177-4a62-b708-4a09aa7698ef', 'full_name': 'Embroidery Machine — Brother PE800', 'locations': [{'room': 'Cage', 'container': '3e', 'specific': None}], 'score': 0.5455057621002197}]\n",
      "[LLM RAW][:300]: {\"item_uuid\":\"53fa5efd-fd71-41ea-9cfd-588ff1fcadd9\",\"item_location\":\"Fabric\"}\n",
      "[LLM PARSED]: {'item_uuid': '53fa5efd-fd71-41ea-9cfd-588ff1fcadd9', 'item_location': 'Fabric'}\n",
      "[LLM OK]: 53fa5efd-fd71-41ea-9cfd-588ff1fcadd9 → Fabric\n",
      "LLM RETURNED:\n",
      "53fa5efd-fd71-41ea-9cfd-588ff1fcadd9\n",
      "Fabric\n",
      "******************************************************\n",
      "message =  Thicker gauge silver wire for jewelry\n",
      "\n",
      " text =  Thicker gauge silver wire for jewelry\n",
      "\n",
      " link items =  []\n"
     ]
    },
    {
     "data": {
      "application/vnd.jupyter.widget-view+json": {
       "model_id": "a8561723199749c19ded50d0fe51abbb",
       "version_major": 2,
       "version_minor": 0
      },
      "text/plain": [
       "Batches:   0%|          | 0/1 [00:00<?, ?it/s]"
      ]
     },
     "metadata": {},
     "output_type": "display_data"
    },
    {
     "name": "stdout",
     "output_type": "stream",
     "text": [
      "\n",
      " matches = [{'uuid': 'e782c9e05a22413889ed8b772e6b4cbe', 'full_name': 'Toothpicks', 'locations': [{'room': 'Main', 'container': 'Cabinet 2', 'specific': 'Shelf 9'}, {'room': 'Cage', 'container': '5c', 'specific': 'Stack 17|-3'}], 'score': 0.6572243571281433}, {'uuid': '04583c0b-3754-43f4-8fbe-485d15496f5d', 'full_name': 'Small Embroidery Hoops', 'locations': [{'room': 'Main', 'container': 'Cabinet 1', 'specific': 'Shelf 7'}, {'room': 'Cage', 'container': '5d', 'specific': 'Stack 8|-3'}], 'score': 0.5914069414138794}, {'uuid': 'b4f4ac27-ea78-4076-8d17-3e1f7f3e206f', 'full_name': 'Holiday Decorations', 'locations': [{'room': 'The Crypt', 'container': '1a, 2a', 'specific': ''}], 'score': 0.5566718578338623}]\n",
      "[LLM RAW][:300]: {\"item_uuid\":\"e782c9e05a22413889ed8b772e6b4cbe\",\"item_location\":\"Cabinet 2\"}\n",
      "[LLM PARSED]: {'item_uuid': 'e782c9e05a22413889ed8b772e6b4cbe', 'item_location': 'Cabinet 2'}\n",
      "[LLM OK]: e782c9e05a22413889ed8b772e6b4cbe → Cabinet 2\n",
      "LLM RETURNED:\n",
      "e782c9e05a22413889ed8b772e6b4cbe\n",
      "Cabinet 2\n",
      "******************************************************\n",
      "message =  Felt sheets\n",
      "\n",
      "https://www.amazon.com/Superise-Fabric-Sheets-Patchwork-Assorted/dp/B085ZM72DF/ref=sr_1_12_sspa?crid=2MXJC2MEYP14I&keywords=felt%2Bpieces&qid=1697082957&sprefix=felt%2Bpiece%2Caps%2C201&sr=8-12-spons&sp_csd=d2lkZ2V0TmFtZT1zcF9tdGY&th=1\n",
      "\n",
      " text =  Felt sheets\n",
      "\n",
      " link items =  ['Simetufy 8 x 12 Inch Felt Sheets for Crafts, 60 Pcs DIY Craft, 1 mm Thick Non-Woven Squares, Stiff Sheets for School Projects, Decoration, 40 Assorted Colors (20 x 30cm)']\n"
     ]
    },
    {
     "data": {
      "application/vnd.jupyter.widget-view+json": {
       "model_id": "31b1ece958a84206b56966729b316a2c",
       "version_major": 2,
       "version_minor": 0
      },
      "text/plain": [
       "Batches:   0%|          | 0/1 [00:00<?, ?it/s]"
      ]
     },
     "metadata": {},
     "output_type": "display_data"
    },
    {
     "name": "stdout",
     "output_type": "stream",
     "text": [
      "\n",
      " matches = [{'uuid': 'be13f962-3b93-4dcb-a19f-3279cb527ec0', 'full_name': 'Plastic Sheeting — https://a.co/d/05u8q9V', 'locations': [{'room': 'Cage', 'container': '1a', 'specific': ''}], 'score': 0.5813918113708496}, {'uuid': 'b6cd482a-ea64-4009-ace9-dd8a7982ac18', 'full_name': 'Laminator Sheets (Business Card Size)', 'locations': [{'room': 'Cage', 'container': '1b', 'specific': ''}], 'score': 0.5709019303321838}, {'uuid': '666279ae-15c8-4257-9a49-b97058051826', 'full_name': 'Printer — EPSON Color Printer', 'locations': [{'room': 'Cage', 'container': '8d', 'specific': None}], 'score': 0.5684199333190918}]\n",
      "[LLM RAW][:300]: {\"item_uuid\":\"be13f962-3b93-4dcb-a19f-3279cb527ec0\",\"item_location\":\"Cage/Crypt/Other\"}\n",
      "[LLM PARSED]: {'item_uuid': 'be13f962-3b93-4dcb-a19f-3279cb527ec0', 'item_location': 'Cage/Crypt/Other'}\n",
      "[LLM OK]: be13f962-3b93-4dcb-a19f-3279cb527ec0 → Cage/Crypt/Other\n",
      "LLM RETURNED:\n",
      "be13f962-3b93-4dcb-a19f-3279cb527ec0\n",
      "Cage/Crypt/Other\n",
      "******************************************************\n",
      "message =  Thick batting (e.g. for making quilts)\n",
      "\n",
      " text =  Thick batting (e.g. for making quilts)\n",
      "\n",
      " link items =  []\n"
     ]
    },
    {
     "data": {
      "application/vnd.jupyter.widget-view+json": {
       "model_id": "ff3bc756daae448294f2bcc8f7fe346c",
       "version_major": 2,
       "version_minor": 0
      },
      "text/plain": [
       "Batches:   0%|          | 0/1 [00:00<?, ?it/s]"
      ]
     },
     "metadata": {},
     "output_type": "display_data"
    },
    {
     "name": "stdout",
     "output_type": "stream",
     "text": [
      "\n",
      " matches = [{'uuid': 'ac3a2a057d354b518a2d98146efc0aa5', 'full_name': 'Plastic Straws', 'locations': [{'room': 'Main', 'container': 'Cabinet 2', 'specific': 'Shelf 10'}, {'room': 'Cage', 'container': '5d', 'specific': 'Stack 14|-3'}], 'score': 0.5217475295066833}, {'uuid': 'f8c27db7-0110-47db-9bac-bf95fb6cb227', 'full_name': 'Pencil sharpener', 'locations': [{'room': 'Main', 'container': 'Counter', 'specific': 'by the lockers'}], 'score': 0.48910844326019287}, {'uuid': 'ba1659ce-c279-4031-bc70-f75b4498e9f1', 'full_name': 'Felt Sheets', 'locations': [{'room': 'Main', 'container': 'Fabrics', 'specific': ''}], 'score': 0.47718891501426697}]\n",
      "[LLM RAW][:300]: {\"item_uuid\":\"ba1659ce-c279-4031-bc70-f75b4498e9f1\",\"item_location\":\"Fabric\"}\n",
      "[LLM PARSED]: {'item_uuid': 'ba1659ce-c279-4031-bc70-f75b4498e9f1', 'item_location': 'Fabric'}\n",
      "[LLM OK]: ba1659ce-c279-4031-bc70-f75b4498e9f1 → Fabric\n",
      "LLM RETURNED:\n",
      "ba1659ce-c279-4031-bc70-f75b4498e9f1\n",
      "Fabric\n",
      "******************************************************\n",
      "message =  large clothes pins\n",
      "\n",
      " text =  large clothes pins\n",
      "\n",
      " link items =  []\n"
     ]
    },
    {
     "data": {
      "application/vnd.jupyter.widget-view+json": {
       "model_id": "1800e27801f24035aed8835d7b5c3a0f",
       "version_major": 2,
       "version_minor": 0
      },
      "text/plain": [
       "Batches:   0%|          | 0/1 [00:00<?, ?it/s]"
      ]
     },
     "metadata": {},
     "output_type": "display_data"
    },
    {
     "name": "stdout",
     "output_type": "stream",
     "text": [
      "\n",
      " matches = [{'uuid': '0cf4a27348e04cf0bfa24fafbc63238a', 'full_name': 'Cotton Swabs/Q-Tips', 'locations': [{'room': 'Main', 'container': 'Cabinet 2', 'specific': 'Shelf 12'}, {'room': 'Cage', 'container': '5c', 'specific': 'Stack 15|-3'}], 'score': 0.8781173229217529}, {'uuid': '14868e71-9eec-4aab-ac73-9ae700dfbde2', 'full_name': 'Plastic Clips', 'locations': [{'room': 'Main', 'container': 'Pegboard 1', 'specific': 'B7'}, {'room': 'Cage', 'container': '5e', 'specific': 'Pegboard Bins|-3'}], 'score': 0.7136585712432861}, {'uuid': '32819c46-4789-4ce2-8939-d718b141f3e2', 'full_name': 'Small Metal Magnets', 'locations': [{'room': 'Main', 'container': 'Cabinet 2', 'specific': 'Shelf 1'}, {'room': 'Cage', 'container': '5c', 'specific': 'Stack 14|-3'}], 'score': 0.5472893118858337}]\n",
      "[LLM RAW][:300]: {\"item_uuid\":\"14868e71-9eec-4aab-ac73-9ae700dfbde2\",\"item_location\":\"Pegboard 1\"}\n",
      "[LLM PARSED]: {'item_uuid': '14868e71-9eec-4aab-ac73-9ae700dfbde2', 'item_location': 'Pegboard 1'}\n",
      "[LLM OK]: 14868e71-9eec-4aab-ac73-9ae700dfbde2 → Pegboard 1\n",
      "LLM RETURNED:\n",
      "14868e71-9eec-4aab-ac73-9ae700dfbde2\n",
      "Pegboard 1\n",
      "******************************************************\n",
      "message =  Felt squares\n",
      "https://a.co/d/3gPwqoJ\n",
      "\n",
      " text =  Felt squares\n",
      "\n",
      " link items =  ['52PCS Felt Sheets, 8x12 inch Felt Fabric Sheet, 40 Assorted Colors, 1mm Thickness Felt Squares- Ideal for DIY Crafts, Embroidery, Needle Felting, and Sewing Projects']\n"
     ]
    },
    {
     "data": {
      "application/vnd.jupyter.widget-view+json": {
       "model_id": "41cfb4b2a15641508a1c140f8084f1a6",
       "version_major": 2,
       "version_minor": 0
      },
      "text/plain": [
       "Batches:   0%|          | 0/1 [00:00<?, ?it/s]"
      ]
     },
     "metadata": {},
     "output_type": "display_data"
    },
    {
     "name": "stdout",
     "output_type": "stream",
     "text": [
      "\n",
      " matches = [{'uuid': 'dfae79d4-0bd5-458a-a6fa-f2195a1a0bbc', 'full_name': 'Dixie Cups (for painting)', 'locations': [{'room': 'Main', 'container': 'Cabinet 16', 'specific': '(by paint sink)'}], 'score': 0.5603980422019958}, {'uuid': 'be13f962-3b93-4dcb-a19f-3279cb527ec0', 'full_name': 'Plastic Sheeting — https://a.co/d/05u8q9V', 'locations': [{'room': 'Cage', 'container': '1a', 'specific': ''}], 'score': 0.5328481197357178}, {'uuid': '666279ae-15c8-4257-9a49-b97058051826', 'full_name': 'Printer — EPSON Color Printer', 'locations': [{'room': 'Cage', 'container': '8d', 'specific': None}], 'score': 0.5224041938781738}]\n",
      "[LLM RAW][:300]: {\"item_uuid\":\"dfae79d4-0bd5-458a-a6fa-f2195a1a0bbc\",\"item_location\":\"Cabinet 16\"}\n",
      "[LLM PARSED]: {'item_uuid': 'dfae79d4-0bd5-458a-a6fa-f2195a1a0bbc', 'item_location': 'Cabinet 16'}\n",
      "[VALIDATION FAIL]: dfae79d4-0bd5-458a-a6fa-f2195a1a0bbc Cabinet 16 ; cand_uuids sample: ['be13f962-3b93-4dcb-a19f-3279cb527ec0', 'dfae79d4-0bd5-458a-a6fa-f2195a1a0bbc', '666279ae-15c8-4257-9a49-b97058051826']\n",
      "LLM RETURNED:\n",
      "\n",
      "Cage/Crypt/Other\n",
      "******************************************************\n",
      "message =  Super glue\n",
      "\n",
      " text =  Super glue\n",
      "\n",
      " link items =  []\n"
     ]
    },
    {
     "data": {
      "application/vnd.jupyter.widget-view+json": {
       "model_id": "4a79257245144bb48e9124dcc0457eec",
       "version_major": 2,
       "version_minor": 0
      },
      "text/plain": [
       "Batches:   0%|          | 0/1 [00:00<?, ?it/s]"
      ]
     },
     "metadata": {},
     "output_type": "display_data"
    },
    {
     "name": "stdout",
     "output_type": "stream",
     "text": [
      "\n",
      " matches = [{'uuid': 'afde04e1-4135-496c-903e-dd5a2d4a1334', 'full_name': 'Tacky Glue', 'locations': [{'room': 'Main', 'container': 'Cabinet 5', 'specific': 'Shelf 1'}, {'room': 'Cage', 'container': '5d', 'specific': 'Stack 4|1'}], 'score': 1.0}, {'uuid': 'aa3c06aa-9425-4342-9d80-852fb6a2c4a9', 'full_name': 'Matte Mod Podge', 'locations': [{'room': 'Main', 'container': 'Cabinet 5', 'specific': 'Shelf 1'}, {'room': 'Cage', 'container': '5e', 'specific': ''}], 'score': 0.7436313033103943}, {'uuid': '0662010e-3d64-4111-956c-e1e2703ee704', 'full_name': 'Zippers', 'locations': [{'room': 'Main', 'container': 'Cabinet 1', 'specific': 'Shelf 14'}, {'room': 'Cage', 'container': '5c', 'specific': 'Stack 23|-3'}], 'score': 0.7265117764472961}]\n",
      "[LLM RAW][:300]: {\"item_uuid\":\"afde04e1-4135-496c-903e-dd5a2d4a1334\",\"item_location\":\"Cabinet 5\"}\n",
      "[LLM PARSED]: {'item_uuid': 'afde04e1-4135-496c-903e-dd5a2d4a1334', 'item_location': 'Cabinet 5'}\n",
      "[LLM OK]: afde04e1-4135-496c-903e-dd5a2d4a1334 → Cabinet 5\n",
      "LLM RETURNED:\n",
      "afde04e1-4135-496c-903e-dd5a2d4a1334\n",
      "Cabinet 5\n",
      "******************************************************\n",
      "message =  Wire and chains:\n",
      "https://www.amazon.com/Paxcoo-Jewelry-Beading-Making-Supplies/dp/B079234LMQ/ref=sr_1_5?crid=DPOGPXRFFPFP&keywords=jewelry+wire&qid=1697668117&sprefix=jewelry+wir%2Caps%2C134&sr=8-5\n",
      "\n",
      "\n",
      "https://www.amazon.com/PP-OPOUNT-Necklace-Jewelry-Lobster/dp/B09H6XYV9R/ref=sr_1_18?crid=1QNLMD8DLEBZD&keywords=chain%2Bfor%2Bjewelry%2Bmaking&qid=1697668139&sprefix=chain%2Caps%2C128&sr=8-18&th=1\n",
      "\n",
      " text =  Wire and chains:\n",
      "\n",
      " link items =  ['PAXCOO 6 Pack Jewelry Beading Wire for Jewelry Making Supplies and Craft (24 Gauge)', 'PP OPOUNT 80 Feet Necklace Chains Roll, 8 Colors Jewelry Making Chains 2 mm Metal Chains with Open Jump Rings and Lobster Clasps for Jewelry Making DIY Necklace Bracelet Anklet']\n"
     ]
    },
    {
     "data": {
      "application/vnd.jupyter.widget-view+json": {
       "model_id": "32a157b976e441aeb60ddbc52d2f6165",
       "version_major": 2,
       "version_minor": 0
      },
      "text/plain": [
       "Batches:   0%|          | 0/1 [00:00<?, ?it/s]"
      ]
     },
     "metadata": {},
     "output_type": "display_data"
    },
    {
     "name": "stdout",
     "output_type": "stream",
     "text": [
      "\n",
      " matches = [{'uuid': 'e782c9e05a22413889ed8b772e6b4cbe', 'full_name': 'Toothpicks', 'locations': [{'room': 'Main', 'container': 'Cabinet 2', 'specific': 'Shelf 9'}, {'room': 'Cage', 'container': '5c', 'specific': 'Stack 17|-3'}], 'score': 0.5543861985206604}, {'uuid': '36e61fbd-e3bb-416f-bb19-a7158d99f83d', 'full_name': 'Safety Pins', 'locations': [{'room': 'Main', 'container': 'Cabinet 3', 'specific': 'Shelf 20'}, {'room': 'Main', 'container': 'Pegboard 1', 'specific': 'C4|-3'}, {'room': 'Cage', 'container': '5c', 'specific': 'Stack 18|-3'}], 'score': 0.5502777099609375}, {'uuid': 'f6cd1cd1-1f50-449a-b8e3-9a84936d80f2', 'full_name': 'Thick Black Elastic Band — Sunmns 3 Rolls Sewing Stretch Elastic Band Spool, 3/5, 1, 1-1/2 Inch in Width', 'locations': [{'room': 'Main', 'container': 'Cabinet 1', 'specific': 'Shelf 13'}, {'room': 'Cage', 'container': '5c', 'specific': 'Stack 26|-3'}], 'score': 0.5291088819503784}]\n",
      "[LLM RAW][:300]: {\"item_uuid\":\"e782c9e05a22413889ed8b772e6b4cbe\",\"item_location\":\"Cabinet 2\"}\n",
      "[LLM PARSED]: {'item_uuid': 'e782c9e05a22413889ed8b772e6b4cbe', 'item_location': 'Cabinet 2'}\n",
      "[LLM OK]: e782c9e05a22413889ed8b772e6b4cbe → Cabinet 2\n",
      "LLM RETURNED:\n",
      "e782c9e05a22413889ed8b772e6b4cbe\n",
      "Cabinet 2\n",
      "******************************************************\n",
      "message =  silver earring hooks\n",
      "\n",
      " text =  silver earring hooks\n",
      "\n",
      " link items =  []\n"
     ]
    },
    {
     "data": {
      "application/vnd.jupyter.widget-view+json": {
       "model_id": "bd5cf488b29c4fe086ffb93993105f2c",
       "version_major": 2,
       "version_minor": 0
      },
      "text/plain": [
       "Batches:   0%|          | 0/1 [00:00<?, ?it/s]"
      ]
     },
     "metadata": {},
     "output_type": "display_data"
    },
    {
     "name": "stdout",
     "output_type": "stream",
     "text": [
      "\n",
      " matches = [{'uuid': '414b1655-517c-492f-a564-97f119358da8', 'full_name': 'Thin White Elastic Band — Mandala Crafts White Elastic Bands 1/4 Flat Elastic Cord Stretch Strap', 'locations': [{'room': 'Main', 'container': 'Cabinet 1', 'specific': 'Shelf 13'}, {'room': 'Cage', 'container': '5c', 'specific': 'Stack 26|-3'}], 'score': 0.8824325799942017}, {'uuid': '0d382ce9-c682-4780-8d9e-0fe8623d0972', 'full_name': 'Thin Black Elastic Band — Mandala Crafts Black Elastic Bands 1/4 Flat Elastic Cord Stretch Strap', 'locations': [{'room': 'Main', 'container': 'Cabinet 1', 'specific': 'Shelf 13'}, {'room': 'Cage', 'container': '5c', 'specific': 'Stack 26|-3'}], 'score': 0.6176836490631104}, {'uuid': '7a86e67a-c4c7-4077-8fd3-1aebb7c09f52', 'full_name': 'Nitrile Gloves, Large', 'locations': [{'room': 'Cage', 'container': '8e', 'specific': None}], 'score': 0.5422164797782898}]\n",
      "[LLM RAW][:300]: {\"item_uuid\":\"414b1655-517c-492f-a564-97f119358da8\",\"item_location\":\"Cabinet 1\"}\n",
      "[LLM PARSED]: {'item_uuid': '414b1655-517c-492f-a564-97f119358da8', 'item_location': 'Cabinet 1'}\n",
      "[LLM OK]: 414b1655-517c-492f-a564-97f119358da8 → Cabinet 1\n",
      "LLM RETURNED:\n",
      "414b1655-517c-492f-a564-97f119358da8\n",
      "Cabinet 1\n",
      "******************************************************\n",
      "message =  Black paint\n",
      "\n",
      " text =  Black paint\n",
      "\n",
      " link items =  []\n"
     ]
    },
    {
     "data": {
      "application/vnd.jupyter.widget-view+json": {
       "model_id": "165f8052b55c4b82a647224cb07db2bd",
       "version_major": 2,
       "version_minor": 0
      },
      "text/plain": [
       "Batches:   0%|          | 0/1 [00:00<?, ?it/s]"
      ]
     },
     "metadata": {},
     "output_type": "display_data"
    },
    {
     "name": "stdout",
     "output_type": "stream",
     "text": [
      "\n",
      " matches = [{'uuid': 'e4481a23-7e46-4c03-a9e7-1f6203fff2c1', 'full_name': 'White Acrylic Paint', 'locations': [{'room': 'Cage', 'container': '5c', 'specific': 'Stack 21|-3'}], 'score': 0.8270200490951538}, {'uuid': '25033e881a4e4dafbc4c9fd3be5875f3', 'full_name': 'Halogen Modeling Light Bulb, Impact — Impact VC-500WLN Digital Monolight', 'locations': [{'room': 'Studio', 'container': 'Studio 3', 'specific': 'Shelf 4'}], 'score': 0.6742759943008423}, {'uuid': '963d3749-995b-4bda-a18e-b7b17ca9daf3', 'full_name': 'Pipe Cleaners', 'locations': [{'room': 'Main', 'container': 'Cabinet 2', 'specific': 'Shelf 8'}, {'room': 'Cage', 'container': '5d', 'specific': 'Stack 13|-3'}], 'score': 0.6136008501052856}]\n",
      "[LLM RAW][:300]: {\"item_uuid\":\"25033e881a4e4dafbc4c9fd3be5875f3\",\"item_location\":\"Studio\"}\n",
      "[LLM PARSED]: {'item_uuid': '25033e881a4e4dafbc4c9fd3be5875f3', 'item_location': 'Studio'}\n",
      "[LLM OK]: 25033e881a4e4dafbc4c9fd3be5875f3 → Studio\n",
      "LLM RETURNED:\n",
      "25033e881a4e4dafbc4c9fd3be5875f3\n",
      "Studio\n",
      "******************************************************\n",
      "message =  3D Printer filament (in general)\n",
      "\n",
      " text =  3D Printer filament (in general)\n",
      "\n",
      " link items =  []\n"
     ]
    },
    {
     "data": {
      "application/vnd.jupyter.widget-view+json": {
       "model_id": "23f589f51f4440ffb14f0ce9a99c15a4",
       "version_major": 2,
       "version_minor": 0
      },
      "text/plain": [
       "Batches:   0%|          | 0/1 [00:00<?, ?it/s]"
      ]
     },
     "metadata": {},
     "output_type": "display_data"
    },
    {
     "name": "stdout",
     "output_type": "stream",
     "text": [
      "\n",
      " matches = [{'uuid': 'c1ec3785-c59d-444e-9d20-bb3c295c5285', 'full_name': 'Laser Cutter Replacement Parts', 'locations': [{'room': 'Laser3D', 'container': 'In Laser Cutter Side Panel', 'specific': ''}], 'score': 0.6778732538223267}, {'uuid': 'ff48ca56-8627-4268-8815-571d5c75707c', 'full_name': 'Spare Fuse Sift Sieve', 'locations': [{'room': 'Laser3D', 'container': 'Cabinet 8', 'specific': ''}], 'score': 0.5225895643234253}, {'uuid': 'f69ff18e-8166-4563-ac73-c76cb6c9572c', 'full_name': 'Lino Blocks', 'locations': [{'room': 'Cage', 'container': 'Shelf 1E', 'specific': ''}], 'score': 0.42161083221435547}]\n",
      "[LLM RAW][:300]: {\"item_uuid\":\"c1ec3785-c59d-444e-9d20-bb3c295c5285\",\"item_location\":\"Cage/Crypt/Other\"}\n",
      "[LLM PARSED]: {'item_uuid': 'c1ec3785-c59d-444e-9d20-bb3c295c5285', 'item_location': 'Cage/Crypt/Other'}\n",
      "[LLM OK]: c1ec3785-c59d-444e-9d20-bb3c295c5285 → Cage/Crypt/Other\n",
      "LLM RETURNED:\n",
      "c1ec3785-c59d-444e-9d20-bb3c295c5285\n",
      "Cage/Crypt/Other\n",
      "******************************************************\n",
      "message =  Hot glue\n",
      "\n",
      " text =  Hot glue\n",
      "\n",
      " link items =  []\n"
     ]
    },
    {
     "data": {
      "application/vnd.jupyter.widget-view+json": {
       "model_id": "2881b1346aa34e8d81165c7351e9a524",
       "version_major": 2,
       "version_minor": 0
      },
      "text/plain": [
       "Batches:   0%|          | 0/1 [00:00<?, ?it/s]"
      ]
     },
     "metadata": {},
     "output_type": "display_data"
    },
    {
     "name": "stdout",
     "output_type": "stream",
     "text": [
      "\n",
      " matches = [{'uuid': 'afde04e1-4135-496c-903e-dd5a2d4a1334', 'full_name': 'Tacky Glue', 'locations': [{'room': 'Main', 'container': 'Cabinet 5', 'specific': 'Shelf 1'}, {'room': 'Cage', 'container': '5d', 'specific': 'Stack 4|1'}], 'score': 0.8081691265106201}, {'uuid': '9efbdf77-b302-44fc-9911-9b46c09305d5', 'full_name': 'Nuts and Bolts', 'locations': [{'room': 'Main', 'container': 'Cabinet 9', 'specific': 'Shelf 9'}], 'score': 0.8004427552223206}, {'uuid': 'aa3c06aa-9425-4342-9d80-852fb6a2c4a9', 'full_name': 'Matte Mod Podge', 'locations': [{'room': 'Main', 'container': 'Cabinet 5', 'specific': 'Shelf 1'}, {'room': 'Cage', 'container': '5e', 'specific': ''}], 'score': 0.7672039270401001}]\n",
      "[LLM RAW][:300]: {\"item_uuid\":\"afde04e1-4135-496c-903e-dd5a2d4a1334\",\"item_location\":\"Cabinet 5\"}\n",
      "[LLM PARSED]: {'item_uuid': 'afde04e1-4135-496c-903e-dd5a2d4a1334', 'item_location': 'Cabinet 5'}\n",
      "[LLM OK]: afde04e1-4135-496c-903e-dd5a2d4a1334 → Cabinet 5\n",
      "LLM RETURNED:\n",
      "afde04e1-4135-496c-903e-dd5a2d4a1334\n",
      "Cabinet 5\n",
      "******************************************************\n",
      "message =  Super glue\n",
      "\n",
      " text =  Super glue\n",
      "\n",
      " link items =  []\n"
     ]
    },
    {
     "data": {
      "application/vnd.jupyter.widget-view+json": {
       "model_id": "e6281ccf299944daa85646e883adfd8e",
       "version_major": 2,
       "version_minor": 0
      },
      "text/plain": [
       "Batches:   0%|          | 0/1 [00:00<?, ?it/s]"
      ]
     },
     "metadata": {},
     "output_type": "display_data"
    },
    {
     "name": "stdout",
     "output_type": "stream",
     "text": [
      "\n",
      " matches = [{'uuid': 'afde04e1-4135-496c-903e-dd5a2d4a1334', 'full_name': 'Tacky Glue', 'locations': [{'room': 'Main', 'container': 'Cabinet 5', 'specific': 'Shelf 1'}, {'room': 'Cage', 'container': '5d', 'specific': 'Stack 4|1'}], 'score': 1.0}, {'uuid': 'aa3c06aa-9425-4342-9d80-852fb6a2c4a9', 'full_name': 'Matte Mod Podge', 'locations': [{'room': 'Main', 'container': 'Cabinet 5', 'specific': 'Shelf 1'}, {'room': 'Cage', 'container': '5e', 'specific': ''}], 'score': 0.7436313033103943}, {'uuid': '0662010e-3d64-4111-956c-e1e2703ee704', 'full_name': 'Zippers', 'locations': [{'room': 'Main', 'container': 'Cabinet 1', 'specific': 'Shelf 14'}, {'room': 'Cage', 'container': '5c', 'specific': 'Stack 23|-3'}], 'score': 0.7265117764472961}]\n",
      "[LLM RAW][:300]: {\"item_uuid\":\"afde04e1-4135-496c-903e-dd5a2d4a1334\",\"item_location\":\"Cabinet 5\"}\n",
      "[LLM PARSED]: {'item_uuid': 'afde04e1-4135-496c-903e-dd5a2d4a1334', 'item_location': 'Cabinet 5'}\n",
      "[LLM OK]: afde04e1-4135-496c-903e-dd5a2d4a1334 → Cabinet 5\n",
      "LLM RETURNED:\n",
      "afde04e1-4135-496c-903e-dd5a2d4a1334\n",
      "Cabinet 5\n",
      "******************************************************\n",
      "message =  seam rippers\n",
      "\n",
      " text =  seam rippers\n",
      "\n",
      " link items =  []\n"
     ]
    },
    {
     "data": {
      "application/vnd.jupyter.widget-view+json": {
       "model_id": "9ce3a9aa55a3437d9b4bd4c40be9020a",
       "version_major": 2,
       "version_minor": 0
      },
      "text/plain": [
       "Batches:   0%|          | 0/1 [00:00<?, ?it/s]"
      ]
     },
     "metadata": {},
     "output_type": "display_data"
    },
    {
     "name": "stdout",
     "output_type": "stream",
     "text": [
      "\n",
      " matches = [{'uuid': '0c2560e0-19a9-4e0c-a535-83f64667af68', 'full_name': 'Thread Cutters', 'locations': [{'room': 'Main', 'container': 'Pegboard 1', 'specific': 'E7'}, {'room': 'Cage', 'container': '5c', 'specific': 'Stack 7|13'}], 'score': 1.0}, {'uuid': '898a576a-4fc5-486d-b65c-43d27d6591c6', 'full_name': 'Plastic Needles', 'locations': [{'room': 'Main', 'container': 'Pegboard 1', 'specific': 'D2'}, {'room': 'Cage', 'container': '5e', 'specific': 'Pegboard Bins|-3'}], 'score': 0.7252370119094849}, {'uuid': '6e8a27eb4edc4e24a0e0ed39aedbcd44', 'full_name': 'Fabric Spray Paint', 'locations': [{'room': 'Other', 'container': 'Spray Paint Booth', 'specific': 'Flammable'}], 'score': 0.5378786325454712}]\n",
      "[LLM RAW][:300]: {\"item_uuid\":\"0c2560e0-19a9-4e0c-a535-83f64667af68\",\"item_location\":\"Pegboard 1\"}\n",
      "[LLM PARSED]: {'item_uuid': '0c2560e0-19a9-4e0c-a535-83f64667af68', 'item_location': 'Pegboard 1'}\n",
      "[LLM OK]: 0c2560e0-19a9-4e0c-a535-83f64667af68 → Pegboard 1\n",
      "LLM RETURNED:\n",
      "0c2560e0-19a9-4e0c-a535-83f64667af68\n",
      "Pegboard 1\n",
      "******************************************************\n",
      "message =  Canvas\n",
      "\n",
      " text =  Canvas\n",
      "\n",
      " link items =  []\n"
     ]
    },
    {
     "data": {
      "application/vnd.jupyter.widget-view+json": {
       "model_id": "c7ebd63e9bc04a1e815ab1b26a3476f1",
       "version_major": 2,
       "version_minor": 0
      },
      "text/plain": [
       "Batches:   0%|          | 0/1 [00:00<?, ?it/s]"
      ]
     },
     "metadata": {},
     "output_type": "display_data"
    },
    {
     "name": "stdout",
     "output_type": "stream",
     "text": [
      "\n",
      " matches = [{'uuid': 'dc7f1b90-0496-461c-bb28-1a0b0988c630', 'full_name': 'Markers', 'locations': [{'room': 'Main', 'container': 'Cabinet 4', 'specific': 'Shelf 4'}], 'score': 0.5654956102371216}, {'uuid': '70ce1155-84d4-4997-b096-0bac96d45505', 'full_name': 'Small Wooden Dowels (1/8\" x 12\")', 'locations': [{'room': 'Main', 'container': 'Cabinet 2', 'specific': 'Shelf 6'}, {'room': 'Cage', 'container': '5d', 'specific': 'Stack 14|-3'}], 'score': 0.5430508255958557}, {'uuid': '4717e239-847f-4c69-b86b-7696e97cc559', 'full_name': 'Wood Polish & Conditioner — Feed-N-Wax Wood Polish & Conditioner', 'locations': [{'room': 'Cage', 'container': '7c', 'specific': None}], 'score': 0.528671383857727}]\n",
      "[LLM RAW][:300]: {\"item_uuid\":\"dc7f1b90-0496-461c-bb28-1a0b0988c630\",\"item_location\":\"Cabinet 4\"}\n",
      "[LLM PARSED]: {'item_uuid': 'dc7f1b90-0496-461c-bb28-1a0b0988c630', 'item_location': 'Cabinet 4'}\n",
      "[LLM OK]: dc7f1b90-0496-461c-bb28-1a0b0988c630 → Cabinet 4\n",
      "LLM RETURNED:\n",
      "dc7f1b90-0496-461c-bb28-1a0b0988c630\n",
      "Cabinet 4\n",
      "******************************************************\n",
      "message =  embroidery needles (aka thick sewing needles with large loops)\n",
      "\n",
      " text =  embroidery needles (aka thick sewing needles with large loops)\n",
      "\n",
      " link items =  []\n"
     ]
    },
    {
     "data": {
      "application/vnd.jupyter.widget-view+json": {
       "model_id": "50aa44035d684b6ea21819176bb11b1b",
       "version_major": 2,
       "version_minor": 0
      },
      "text/plain": [
       "Batches:   0%|          | 0/1 [00:00<?, ?it/s]"
      ]
     },
     "metadata": {},
     "output_type": "display_data"
    },
    {
     "name": "stdout",
     "output_type": "stream",
     "text": [
      "\n",
      " matches = [{'uuid': '8f8d4979-d146-47dc-98de-23e7557a2213', 'full_name': 'Plastic Scrapers', 'locations': [{'room': 'Main', 'container': 'Cabinet 4', 'specific': 'Shelf 14'}, {'room': 'Cage', 'container': '5c', 'specific': 'Stack 20|-2'}], 'score': 0.863017201423645}, {'uuid': 'd73be226-2872-4449-9d4d-93eed9a427fd', 'full_name': 'Spool Pins', 'locations': [{'room': 'Main', 'container': 'Pegboard 1', 'specific': 'D5'}], 'score': 0.8044041991233826}, {'uuid': '9f127d74-fdb7-4d5b-beda-33ee1030588c', 'full_name': 'Curtain Rings', 'locations': [{'room': 'Main', 'container': 'Pegboard 1', 'specific': 'C5'}, {'room': 'Cage', 'container': '5e', 'specific': 'Pegboard Bins|-3'}], 'score': 0.7865661382675171}]\n",
      "[LLM RAW][:300]: {\"item_uuid\":\"d73be226-2872-4449-9d4d-93eed9a427fd\",\"item_location\":\"Pegboard 1\"}\n",
      "[LLM PARSED]: {'item_uuid': 'd73be226-2872-4449-9d4d-93eed9a427fd', 'item_location': 'Pegboard 1'}\n",
      "[LLM OK]: d73be226-2872-4449-9d4d-93eed9a427fd → Pegboard 1\n",
      "LLM RETURNED:\n",
      "d73be226-2872-4449-9d4d-93eed9a427fd\n",
      "Pegboard 1\n",
      "******************************************************\n",
      "message =  hair ties\n",
      "\n",
      " text =  hair ties\n",
      "\n",
      " link items =  []\n"
     ]
    },
    {
     "data": {
      "application/vnd.jupyter.widget-view+json": {
       "model_id": "99900554866f488680af69b630c181cb",
       "version_major": 2,
       "version_minor": 0
      },
      "text/plain": [
       "Batches:   0%|          | 0/1 [00:00<?, ?it/s]"
      ]
     },
     "metadata": {},
     "output_type": "display_data"
    },
    {
     "name": "stdout",
     "output_type": "stream",
     "text": [
      "\n",
      " matches = [{'uuid': '1f69a450-c18f-41a6-92c9-0f4b56fb09e5', 'full_name': 'Ear Plugs', 'locations': [{'room': 'Cage', 'container': '8c', 'specific': None}], 'score': 1.0}, {'uuid': '32819c46-4789-4ce2-8939-d718b141f3e2', 'full_name': 'Small Metal Magnets', 'locations': [{'room': 'Main', 'container': 'Cabinet 2', 'specific': 'Shelf 1'}, {'room': 'Cage', 'container': '5c', 'specific': 'Stack 14|-3'}], 'score': 0.6224454641342163}, {'uuid': '0cf4a27348e04cf0bfa24fafbc63238a', 'full_name': 'Cotton Swabs/Q-Tips', 'locations': [{'room': 'Main', 'container': 'Cabinet 2', 'specific': 'Shelf 12'}, {'room': 'Cage', 'container': '5c', 'specific': 'Stack 15|-3'}], 'score': 0.5534654259681702}]\n",
      "[LLM RAW][:300]: {\"item_uuid\":\"32819c46-4789-4ce2-8939-d718b141f3e2\",\"item_location\":\"Cabinet 2\"}\n",
      "[LLM PARSED]: {'item_uuid': '32819c46-4789-4ce2-8939-d718b141f3e2', 'item_location': 'Cabinet 2'}\n",
      "[LLM OK]: 32819c46-4789-4ce2-8939-d718b141f3e2 → Cabinet 2\n",
      "LLM RETURNED:\n",
      "32819c46-4789-4ce2-8939-d718b141f3e2\n",
      "Cabinet 2\n",
      "******************************************************\n",
      "message =  Wire/Side cutters.\n",
      "https://www.amazon.com/BOOSDEN-Precision-Clippers-Diagonal-Crafting/dp/B09BPN1PPK/ref=sxin_16_pa_sp_search_thematic_sspa?content-id=amzn1.sym.e70ecb73-7134-44cb-b33c-f20cab138e98%3Aamzn1.sym.e70ecb73-7134-44cb-b33c-f20cab138e98&cv_ct_cx=side%2Bcutters&keywords=side%2Bcutters&pd_rd_i=B09BPN1PPK&pd_rd_r=13811afd-8edd-4b0c-813f-31c881d5f149&pd_rd_w=5dFbQ&pd_rd_wg=tSY0l&pf_rd_p=e70ecb73-7134-44cb-b33c-f20cab138e98&pf_rd_r=KDNAG4ARA26SFDDA7J50&qid=1698783164&sbo=RZvfv%2F%2FHxDF%2BO5021pAnSA%3D%3D&sr=1-1-364cf978-ce2a-480a-9bb0-bdb96faa0f61-spons&sp_csd=d2lkZ2V0TmFtZT1zcF9zZWFyY2hfdGhlbWF0aWM&th=1\n",
      "\n",
      "\n",
      " text =  Wire/Side cutters.\n",
      "\n",
      " link items =  ['BOOSDEN 5\" Wire Cutters, 5 Pack, Precision Cutting Pliers, Ultra Sharp Wire Snips Wire Clippers, Spring Loaded Flush Cutter, Diagonal Cutting Pliers for Jewelry Making Crafting, Wire Cutters Set']\n"
     ]
    },
    {
     "data": {
      "application/vnd.jupyter.widget-view+json": {
       "model_id": "a1395fbc152245129466315ffa02dedf",
       "version_major": 2,
       "version_minor": 0
      },
      "text/plain": [
       "Batches:   0%|          | 0/1 [00:00<?, ?it/s]"
      ]
     },
     "metadata": {},
     "output_type": "display_data"
    },
    {
     "name": "stdout",
     "output_type": "stream",
     "text": [
      "\n",
      " matches = [{'uuid': 'e782c9e05a22413889ed8b772e6b4cbe', 'full_name': 'Toothpicks', 'locations': [{'room': 'Main', 'container': 'Cabinet 2', 'specific': 'Shelf 9'}, {'room': 'Cage', 'container': '5c', 'specific': 'Stack 17|-3'}], 'score': 0.5868029594421387}, {'uuid': '2012e616-3492-441f-86c8-16594a0c4bea', 'full_name': 'Cricut Replacement Blades — Yellow = fine point cut (30° cutting angle)', 'locations': [{'room': 'Cage', 'container': '1d', 'specific': ''}], 'score': 0.5658088326454163}, {'uuid': 'ea43f59e-10a6-43bf-9e5f-43b14e04adcc', 'full_name': 'Ryoba Saw', 'locations': [{'room': 'Cage', 'container': 'Pegboard', 'specific': None}], 'score': 0.5196654796600342}]\n",
      "[LLM RAW][:300]: {\"item_uuid\":\"e782c9e05a22413889ed8b772e6b4cbe\",\"item_location\":\"Cabinet 2\"}\n",
      "[LLM PARSED]: {'item_uuid': 'e782c9e05a22413889ed8b772e6b4cbe', 'item_location': 'Cabinet 2'}\n",
      "[LLM OK]: e782c9e05a22413889ed8b772e6b4cbe → Cabinet 2\n",
      "LLM RETURNED:\n",
      "e782c9e05a22413889ed8b772e6b4cbe\n",
      "Cabinet 2\n",
      "******************************************************\n",
      "message =  plastic embroidery needles\n",
      "\n",
      " text =  plastic embroidery needles\n",
      "\n",
      " link items =  []\n"
     ]
    },
    {
     "data": {
      "application/vnd.jupyter.widget-view+json": {
       "model_id": "c8c92ce1d12a48efbfeadbfd30d73271",
       "version_major": 2,
       "version_minor": 0
      },
      "text/plain": [
       "Batches:   0%|          | 0/1 [00:00<?, ?it/s]"
      ]
     },
     "metadata": {},
     "output_type": "display_data"
    },
    {
     "name": "stdout",
     "output_type": "stream",
     "text": [
      "\n",
      " matches = [{'uuid': '8f8d4979-d146-47dc-98de-23e7557a2213', 'full_name': 'Plastic Scrapers', 'locations': [{'room': 'Main', 'container': 'Cabinet 4', 'specific': 'Shelf 14'}, {'room': 'Cage', 'container': '5c', 'specific': 'Stack 20|-2'}], 'score': 0.9096198081970215}, {'uuid': 'a2615d91-1200-4709-a738-99bd4970f1c6', 'full_name': 'Tiny Thread', 'locations': [{'room': 'Main', 'container': 'Pegboard 1', 'specific': 'C8'}, {'room': 'Cage', 'container': '5e', 'specific': 'Pegboard Bins|-2'}], 'score': 0.823916494846344}, {'uuid': 'd73be226-2872-4449-9d4d-93eed9a427fd', 'full_name': 'Spool Pins', 'locations': [{'room': 'Main', 'container': 'Pegboard 1', 'specific': 'D5'}], 'score': 0.8027684092521667}]\n",
      "[LLM RAW][:300]: {\"item_uuid\":\"d73be226-2872-4449-9d4d-93eed9a427fd\",\"item_location\":\"Pegboard 1\"}\n",
      "[LLM PARSED]: {'item_uuid': 'd73be226-2872-4449-9d4d-93eed9a427fd', 'item_location': 'Pegboard 1'}\n",
      "[LLM OK]: d73be226-2872-4449-9d4d-93eed9a427fd → Pegboard 1\n",
      "LLM RETURNED:\n",
      "d73be226-2872-4449-9d4d-93eed9a427fd\n",
      "Pegboard 1\n",
      "******************************************************\n",
      "message =  Popsicle sticks (refilled the drawer, so there is no more left in overstock)\n",
      "\n",
      " text =  Popsicle sticks (refilled the drawer, so there is no more left in overstock)\n",
      "\n",
      " link items =  []\n"
     ]
    },
    {
     "data": {
      "application/vnd.jupyter.widget-view+json": {
       "model_id": "8137c63355504753a14d6fc3032d04cc",
       "version_major": 2,
       "version_minor": 0
      },
      "text/plain": [
       "Batches:   0%|          | 0/1 [00:00<?, ?it/s]"
      ]
     },
     "metadata": {},
     "output_type": "display_data"
    },
    {
     "name": "stdout",
     "output_type": "stream",
     "text": [
      "\n",
      " matches = [{'uuid': '68c6a718-b99e-46cb-b67f-d3f035c79f91', 'full_name': 'Stamps', 'locations': [{'room': 'Main', 'container': 'Cabinet 4', 'specific': 'Shelf 20, Shelf 21, Shelf 23'}], 'score': 0.6633375883102417}, {'uuid': 'c57f9472-89ca-4b27-9df0-adbd9b34aa02', 'full_name': 'Leatherworking Tools', 'locations': [{'room': 'Main', 'container': 'Cabinet 9', 'specific': 'Shelf 4'}], 'score': 0.49085021018981934}, {'uuid': '9efbdf77-b302-44fc-9911-9b46c09305d5', 'full_name': 'Nuts and Bolts', 'locations': [{'room': 'Main', 'container': 'Cabinet 9', 'specific': 'Shelf 9'}], 'score': 0.4839566946029663}]\n",
      "[LLM RAW][:300]: {\"item_uuid\":\"68c6a718-b99e-46cb-b67f-d3f035c79f91\",\"item_location\":\"Cabinet 4\"}\n",
      "[LLM PARSED]: {'item_uuid': '68c6a718-b99e-46cb-b67f-d3f035c79f91', 'item_location': 'Cabinet 4'}\n",
      "[LLM OK]: 68c6a718-b99e-46cb-b67f-d3f035c79f91 → Cabinet 4\n",
      "LLM RETURNED:\n",
      "68c6a718-b99e-46cb-b67f-d3f035c79f91\n",
      "Cabinet 4\n",
      "******************************************************\n",
      "message =  3 mm thick acrylic for laser cutter. I only need 1 sheet but there are no whole sheets of acrylic in the lasercutting room any more, so I've added extra to the quantity\n",
      "\n",
      " text =  3 mm thick acrylic for laser cutter. I only need 1 sheet but there are no whole sheets of acrylic in the lasercutting room any more, so I've added extra to the quantity\n",
      "\n",
      " link items =  []\n"
     ]
    },
    {
     "data": {
      "application/vnd.jupyter.widget-view+json": {
       "model_id": "29f6cf75bbb84459a44db22dec3364a0",
       "version_major": 2,
       "version_minor": 0
      },
      "text/plain": [
       "Batches:   0%|          | 0/1 [00:00<?, ?it/s]"
      ]
     },
     "metadata": {},
     "output_type": "display_data"
    },
    {
     "name": "stdout",
     "output_type": "stream",
     "text": [
      "\n",
      " matches = [{'uuid': 'c1bd2439-1e6a-4669-8cfc-3e9ea3396ac9', 'full_name': 'Wall Hanging Supplies', 'locations': [{'room': 'Cage', 'container': '8d', 'specific': None}], 'score': 0.5251221656799316}, {'uuid': 'bf604184-375a-48cd-a37d-ed5a2675b2ab', 'full_name': 'Magliner', 'locations': [{'room': 'Cage', 'container': 'Floor', 'specific': None}], 'score': 0.47987136244773865}, {'uuid': 'be13f962-3b93-4dcb-a19f-3279cb527ec0', 'full_name': 'Plastic Sheeting — https://a.co/d/05u8q9V', 'locations': [{'room': 'Cage', 'container': '1a', 'specific': ''}], 'score': 0.4789779782295227}]\n",
      "[LLM RAW][:300]: {\"item_uuid\":\"c1bd2439-1e6a-4669-8cfc-3e9ea3396ac9\",\"item_location\":\"Cage/Crypt/Other\"}\n",
      "[LLM PARSED]: {'item_uuid': 'c1bd2439-1e6a-4669-8cfc-3e9ea3396ac9', 'item_location': 'Cage/Crypt/Other'}\n",
      "[LLM OK]: c1bd2439-1e6a-4669-8cfc-3e9ea3396ac9 → Cage/Crypt/Other\n",
      "LLM RETURNED:\n",
      "c1bd2439-1e6a-4669-8cfc-3e9ea3396ac9\n",
      "Cage/Crypt/Other\n",
      "******************************************************\n",
      "message =  Tooth picks\n",
      "\n",
      " text =  Tooth picks\n",
      "\n",
      " link items =  []\n"
     ]
    },
    {
     "data": {
      "application/vnd.jupyter.widget-view+json": {
       "model_id": "5837e760894a47539ddb6366f08b781c",
       "version_major": 2,
       "version_minor": 0
      },
      "text/plain": [
       "Batches:   0%|          | 0/1 [00:00<?, ?it/s]"
      ]
     },
     "metadata": {},
     "output_type": "display_data"
    },
    {
     "name": "stdout",
     "output_type": "stream",
     "text": [
      "\n",
      " matches = [{'uuid': 'dcdd1861b74947e2bb51ce34aa6e07e8', 'full_name': 'Electrical Tape', 'locations': [{'room': 'Main', 'container': 'Electronics Bench', 'specific': ''}, {'room': 'Cage', 'container': '5c', 'specific': 'Stack 13|-3'}], 'score': 0.7795076370239258}, {'uuid': '4724da87-2ab6-48f7-bc1c-79da226852c0', 'full_name': 'Pipe Wrenches', 'locations': [{'room': 'Main', 'container': 'Cabinet 11', 'specific': 'Shelf 7'}], 'score': 0.4692704677581787}, {'uuid': '6ad40cf4-2639-4ae5-a153-907a8fed4560', 'full_name': 'Yarn', 'locations': [{'room': 'Main', 'container': 'Fabrics', 'specific': ''}, {'room': 'Backstock', 'container': 'Shelf 3', 'specific': '|-3'}], 'score': 0.43299949169158936}]\n",
      "[LLM RAW][:300]: {\"item_uuid\":\"dcdd1861b74947e2bb51ce34aa6e07e8\",\"item_location\":\"Cage/Crypt/Other\"}\n",
      "[LLM PARSED]: {'item_uuid': 'dcdd1861b74947e2bb51ce34aa6e07e8', 'item_location': 'Cage/Crypt/Other'}\n",
      "[LLM OK]: dcdd1861b74947e2bb51ce34aa6e07e8 → Cage/Crypt/Other\n",
      "LLM RETURNED:\n",
      "dcdd1861b74947e2bb51ce34aa6e07e8\n",
      "Cage/Crypt/Other\n",
      "******************************************************\n",
      "message =  https://www.amazon.com/Clyxgs-Double-Alligator-Oscilloscope-Probes/dp/B07RGPHFR3 BNC cables so the signal/ function generators at the electronics benches can be used. \n",
      "\n",
      " text =  BNC cables so the signal/ function generators at the electronics benches can be used.\n",
      "\n",
      " link items =  ['Clyxgs BNC Double Alligator Clip Test Cable Probe Lead Oscilloscope Test, Oscilloscope Probes BNC to Alligator Clip 92cm/36.2in (5pcs）']\n"
     ]
    },
    {
     "data": {
      "application/vnd.jupyter.widget-view+json": {
       "model_id": "cac53d4c5257405ea58d468ec048f8a2",
       "version_major": 2,
       "version_minor": 0
      },
      "text/plain": [
       "Batches:   0%|          | 0/1 [00:00<?, ?it/s]"
      ]
     },
     "metadata": {},
     "output_type": "display_data"
    },
    {
     "name": "stdout",
     "output_type": "stream",
     "text": [
      "\n",
      " matches = [{'uuid': 'a912bce5-9d40-4e98-94cb-ceab354fc33f', 'full_name': 'Multimeter Chargers', 'locations': [{'room': 'Cage', 'container': '2c', 'specific': None}], 'score': 0.4736505150794983}, {'uuid': '07d98fe0-a921-4c44-99bd-f061f68cedaf', 'full_name': 'Eyelets', 'locations': [{'room': 'Main', 'container': 'Cabinet 3', 'specific': 'Shelf 9'}, {'room': 'Cage', 'container': '5d', 'specific': 'Stack 3|-1'}], 'score': 0.4522123634815216}, {'uuid': '87ee967b-d571-415e-bffe-731d44515c5e', 'full_name': 'Drying Rack', 'locations': [{'room': 'Main', 'container': 'Sink by fabric', 'specific': ''}], 'score': 0.4456344246864319}]\n",
      "[LLM RAW][:300]: {\"item_uuid\":\"07d98fe0-a921-4c44-99bd-f061f68cedaf\",\"item_location\":\"Cabinet 3\"}\n",
      "[LLM PARSED]: {'item_uuid': '07d98fe0-a921-4c44-99bd-f061f68cedaf', 'item_location': 'Cabinet 3'}\n",
      "[LLM OK]: 07d98fe0-a921-4c44-99bd-f061f68cedaf → Cabinet 3\n",
      "LLM RETURNED:\n",
      "07d98fe0-a921-4c44-99bd-f061f68cedaf\n",
      "Cabinet 3\n",
      "******************************************************\n",
      "message =  the light brown spray paint bottle\n",
      "\n",
      " text =  the light brown spray paint bottle\n",
      "\n",
      " link items =  []\n"
     ]
    },
    {
     "data": {
      "application/vnd.jupyter.widget-view+json": {
       "model_id": "8c9d1f759ddc458baa83dd3a4d0227ed",
       "version_major": 2,
       "version_minor": 0
      },
      "text/plain": [
       "Batches:   0%|          | 0/1 [00:00<?, ?it/s]"
      ]
     },
     "metadata": {},
     "output_type": "display_data"
    },
    {
     "name": "stdout",
     "output_type": "stream",
     "text": [
      "\n",
      " matches = [{'uuid': '34308710-4f86-43a5-acfa-62aab11e2fa0', 'full_name': 'Out of Order Signs', 'locations': [{'room': 'Cage', 'container': '8d', 'specific': ''}], 'score': 0.6837992668151855}, {'uuid': '25033e881a4e4dafbc4c9fd3be5875f3', 'full_name': 'Halogen Modeling Light Bulb, Impact — Impact VC-500WLN Digital Monolight', 'locations': [{'room': 'Studio', 'container': 'Studio 3', 'specific': 'Shelf 4'}], 'score': 0.6638939380645752}, {'uuid': '046eb65bb58941389d7f541dfb1f0d14', 'full_name': 'Ball Bearings', 'locations': [{'room': 'Cage', 'container': 'Movable Shelves', 'specific': None}], 'score': 0.5717042088508606}]\n",
      "[LLM RAW][:300]: {\"item_uuid\":\"25033e881a4e4dafbc4c9fd3be5875f3\",\"item_location\":\"Studio\"}\n",
      "[LLM PARSED]: {'item_uuid': '25033e881a4e4dafbc4c9fd3be5875f3', 'item_location': 'Studio'}\n",
      "[LLM OK]: 25033e881a4e4dafbc4c9fd3be5875f3 → Studio\n",
      "LLM RETURNED:\n",
      "25033e881a4e4dafbc4c9fd3be5875f3\n",
      "Studio\n",
      "******************************************************\n",
      "message =  Brown Spray Paint in the spray paint booth\n",
      "\n",
      " text =  Brown Spray Paint in the spray paint booth\n",
      "\n",
      " link items =  []\n"
     ]
    },
    {
     "data": {
      "application/vnd.jupyter.widget-view+json": {
       "model_id": "199af30141f046bab27965fa81f10b0d",
       "version_major": 2,
       "version_minor": 0
      },
      "text/plain": [
       "Batches:   0%|          | 0/1 [00:00<?, ?it/s]"
      ]
     },
     "metadata": {},
     "output_type": "display_data"
    },
    {
     "name": "stdout",
     "output_type": "stream",
     "text": [
      "\n",
      " matches = [{'uuid': '25033e881a4e4dafbc4c9fd3be5875f3', 'full_name': 'Halogen Modeling Light Bulb, Impact — Impact VC-500WLN Digital Monolight', 'locations': [{'room': 'Studio', 'container': 'Studio 3', 'specific': 'Shelf 4'}], 'score': 0.6924862861633301}, {'uuid': '046eb65bb58941389d7f541dfb1f0d14', 'full_name': 'Ball Bearings', 'locations': [{'room': 'Cage', 'container': 'Movable Shelves', 'specific': None}], 'score': 0.5967612266540527}, {'uuid': '1139884a-7cac-4ab5-8439-26e28fd75664', 'full_name': 'Spray Paint Gun Fitting —  1/4\" FNPT Quick Disconnect Fitting', 'locations': [{'room': 'Cage', 'container': 'Inside Spray Paint Gun Kit', 'specific': None}], 'score': 0.5507580041885376}]\n",
      "[LLM RAW][:300]: {\"item_uuid\":\"25033e881a4e4dafbc4c9fd3be5875f3\",\"item_location\":\"Studio\"}\n",
      "[LLM PARSED]: {'item_uuid': '25033e881a4e4dafbc4c9fd3be5875f3', 'item_location': 'Studio'}\n",
      "[LLM OK]: 25033e881a4e4dafbc4c9fd3be5875f3 → Studio\n",
      "LLM RETURNED:\n",
      "25033e881a4e4dafbc4c9fd3be5875f3\n",
      "Studio\n",
      "******************************************************\n",
      "message =  necklace chains\n",
      "\n",
      " text =  necklace chains\n",
      "\n",
      " link items =  []\n"
     ]
    },
    {
     "data": {
      "application/vnd.jupyter.widget-view+json": {
       "model_id": "5301d512b4d8490ca688181012d04dd6",
       "version_major": 2,
       "version_minor": 0
      },
      "text/plain": [
       "Batches:   0%|          | 0/1 [00:00<?, ?it/s]"
      ]
     },
     "metadata": {},
     "output_type": "display_data"
    },
    {
     "name": "stdout",
     "output_type": "stream",
     "text": [
      "\n",
      " matches = [{'uuid': '36e61fbd-e3bb-416f-bb19-a7158d99f83d', 'full_name': 'Safety Pins', 'locations': [{'room': 'Main', 'container': 'Cabinet 3', 'specific': 'Shelf 20'}, {'room': 'Main', 'container': 'Pegboard 1', 'specific': 'C4|-3'}, {'room': 'Cage', 'container': '5c', 'specific': 'Stack 18|-3'}], 'score': 0.7329056262969971}, {'uuid': '0d3b5b30-caa4-4f00-ab19-b4c7e49de78e', 'full_name': 'Assorted Metal Jewelry Chain', 'locations': [{'room': 'Main', 'container': 'Cabinet 3', 'specific': 'Shelf 5'}, {'room': 'Cage', 'container': '5d', 'specific': 'Stack 2|-2'}], 'score': 0.6329748034477234}, {'uuid': '7b89f7e5-40c7-40a7-80c3-750ab9394385', 'full_name': 'Plastic/Metal Wire Cutters', 'locations': [{'room': 'Laser3D', 'container': 'Main Table', 'specific': ''}, {'room': 'Cage', 'container': '5c', 'specific': 'Stack 5|-1'}], 'score': 0.6007595062255859}]\n",
      "[LLM RAW][:300]: {\"item_uuid\":\"0d3b5b30-caa4-4f00-ab19-b4c7e49de78e\",\"item_location\":\"Cabinet 3\"}\n",
      "[LLM PARSED]: {'item_uuid': '0d3b5b30-caa4-4f00-ab19-b4c7e49de78e', 'item_location': 'Cabinet 3'}\n",
      "[LLM OK]: 0d3b5b30-caa4-4f00-ab19-b4c7e49de78e → Cabinet 3\n",
      "LLM RETURNED:\n",
      "0d3b5b30-caa4-4f00-ab19-b4c7e49de78e\n",
      "Cabinet 3\n",
      "******************************************************\n",
      "message =  jump rings-- variety of colors\n",
      "\n",
      " text =  jump rings-- variety of colors\n",
      "\n",
      " link items =  []\n"
     ]
    },
    {
     "data": {
      "application/vnd.jupyter.widget-view+json": {
       "model_id": "102795d8e57f44998f063ff387d7f8ad",
       "version_major": 2,
       "version_minor": 0
      },
      "text/plain": [
       "Batches:   0%|          | 0/1 [00:00<?, ?it/s]"
      ]
     },
     "metadata": {},
     "output_type": "display_data"
    },
    {
     "name": "stdout",
     "output_type": "stream",
     "text": [
      "\n",
      " matches = [{'uuid': 'c173001b-2d4b-4e24-818c-d3b1ec4b4e83', 'full_name': 'Microphone Stand, Cowboy Studio (w/ Boom Arm)', 'locations': [{'room': 'Studio', 'container': 'Next to A', 'specific': None}], 'score': 0.7628878355026245}, {'uuid': '2ef826bc-d5aa-480a-a1a6-349be310ed9a', 'full_name': 'Ink Pads', 'locations': [{'room': 'Main', 'container': 'Cabinet 4', 'specific': 'Shelf 17'}, {'room': 'Cage', 'container': '5c', 'specific': 'Stack 20|-3'}], 'score': 0.47827911376953125}, {'uuid': 'c52fd77f-cfb4-44a6-866e-1601743d1ff3', 'full_name': 'Tweezers for Electronics', 'locations': [{'room': 'Other', 'container': '', 'specific': None}], 'score': 0.4613179564476013}]\n",
      "[LLM RAW][:300]: {\"item_uuid\":\"c173001b-2d4b-4e24-818c-d3b1ec4b4e83\",\"item_location\":\"Studio\"}\n",
      "[LLM PARSED]: {'item_uuid': 'c173001b-2d4b-4e24-818c-d3b1ec4b4e83', 'item_location': 'Studio'}\n",
      "[LLM OK]: c173001b-2d4b-4e24-818c-d3b1ec4b4e83 → Studio\n",
      "LLM RETURNED:\n",
      "c173001b-2d4b-4e24-818c-d3b1ec4b4e83\n",
      "Studio\n",
      "******************************************************\n",
      "message =  Silver hooked earring backings\n",
      "\n",
      " text =  Silver hooked earring backings\n",
      "\n",
      " link items =  []\n"
     ]
    },
    {
     "data": {
      "application/vnd.jupyter.widget-view+json": {
       "model_id": "4da4c92e36044eaea0dac4e71d852083",
       "version_major": 2,
       "version_minor": 0
      },
      "text/plain": [
       "Batches:   0%|          | 0/1 [00:00<?, ?it/s]"
      ]
     },
     "metadata": {},
     "output_type": "display_data"
    },
    {
     "name": "stdout",
     "output_type": "stream",
     "text": [
      "\n",
      " matches = [{'uuid': '414b1655-517c-492f-a564-97f119358da8', 'full_name': 'Thin White Elastic Band — Mandala Crafts White Elastic Bands 1/4 Flat Elastic Cord Stretch Strap', 'locations': [{'room': 'Main', 'container': 'Cabinet 1', 'specific': 'Shelf 13'}, {'room': 'Cage', 'container': '5c', 'specific': 'Stack 26|-3'}], 'score': 0.7085049152374268}, {'uuid': '0d382ce9-c682-4780-8d9e-0fe8623d0972', 'full_name': 'Thin Black Elastic Band — Mandala Crafts Black Elastic Bands 1/4 Flat Elastic Cord Stretch Strap', 'locations': [{'room': 'Main', 'container': 'Cabinet 1', 'specific': 'Shelf 13'}, {'room': 'Cage', 'container': '5c', 'specific': 'Stack 26|-3'}], 'score': 0.6066762208938599}, {'uuid': '7a86e67a-c4c7-4077-8fd3-1aebb7c09f52', 'full_name': 'Nitrile Gloves, Large', 'locations': [{'room': 'Cage', 'container': '8e', 'specific': None}], 'score': 0.5387011170387268}]\n",
      "[LLM RAW][:300]: {\"item_uuid\":\"414b1655-517c-492f-a564-97f119358da8\",\"item_location\":\"Cabinet 1\"}\n",
      "[LLM PARSED]: {'item_uuid': '414b1655-517c-492f-a564-97f119358da8', 'item_location': 'Cabinet 1'}\n",
      "[LLM OK]: 414b1655-517c-492f-a564-97f119358da8 → Cabinet 1\n",
      "LLM RETURNED:\n",
      "414b1655-517c-492f-a564-97f119358da8\n",
      "Cabinet 1\n",
      "******************************************************\n",
      "message =  12 in zip ties\n",
      "\n",
      " text =  12 in zip ties\n",
      "\n",
      " link items =  []\n"
     ]
    },
    {
     "data": {
      "application/vnd.jupyter.widget-view+json": {
       "model_id": "267d27ea3a8a4996bb5898c9c8dff443",
       "version_major": 2,
       "version_minor": 0
      },
      "text/plain": [
       "Batches:   0%|          | 0/1 [00:00<?, ?it/s]"
      ]
     },
     "metadata": {},
     "output_type": "display_data"
    },
    {
     "name": "stdout",
     "output_type": "stream",
     "text": [
      "\n",
      " matches = [{'uuid': '3fe9f2ca-27df-4dec-b133-1b830c518f32', 'full_name': 'Mini Screwdrivers', 'locations': [{'room': 'Cage', 'container': '5c', 'specific': 'Stack 12'}], 'score': 0.7414066791534424}, {'uuid': '32819c46-4789-4ce2-8939-d718b141f3e2', 'full_name': 'Small Metal Magnets', 'locations': [{'room': 'Main', 'container': 'Cabinet 2', 'specific': 'Shelf 1'}, {'room': 'Cage', 'container': '5c', 'specific': 'Stack 14|-3'}], 'score': 0.7321010828018188}, {'uuid': '68c0db59-216e-4ad7-922f-ca39e68035e8', 'full_name': 'Crafting Books', 'locations': [{'room': 'Main', 'container': 'Fabrics', 'specific': None}], 'score': 0.5493817329406738}]\n",
      "[LLM RAW][:300]: {\"item_uuid\":\"32819c46-4789-4ce2-8939-d718b141f3e2\",\"item_location\":\"Cabinet 2\"}\n",
      "[LLM PARSED]: {'item_uuid': '32819c46-4789-4ce2-8939-d718b141f3e2', 'item_location': 'Cabinet 2'}\n",
      "[LLM OK]: 32819c46-4789-4ce2-8939-d718b141f3e2 → Cabinet 2\n",
      "LLM RETURNED:\n",
      "32819c46-4789-4ce2-8939-d718b141f3e2\n",
      "Cabinet 2\n",
      "******************************************************\n",
      "message =  Silver colored earring hooks for dangling earrings, there are still gold ones left but no silver\n",
      "\n",
      " text =  Silver colored earring hooks for dangling earrings, there are still gold ones left but no silver\n",
      "\n",
      " link items =  []\n"
     ]
    },
    {
     "data": {
      "application/vnd.jupyter.widget-view+json": {
       "model_id": "764a3da84ec94555ac60f97160458898",
       "version_major": 2,
       "version_minor": 0
      },
      "text/plain": [
       "Batches:   0%|          | 0/1 [00:00<?, ?it/s]"
      ]
     },
     "metadata": {},
     "output_type": "display_data"
    },
    {
     "name": "stdout",
     "output_type": "stream",
     "text": [
      "\n",
      " matches = [{'uuid': '414b1655-517c-492f-a564-97f119358da8', 'full_name': 'Thin White Elastic Band — Mandala Crafts White Elastic Bands 1/4 Flat Elastic Cord Stretch Strap', 'locations': [{'room': 'Main', 'container': 'Cabinet 1', 'specific': 'Shelf 13'}, {'room': 'Cage', 'container': '5c', 'specific': 'Stack 26|-3'}], 'score': 0.7308924794197083}, {'uuid': '0d382ce9-c682-4780-8d9e-0fe8623d0972', 'full_name': 'Thin Black Elastic Band — Mandala Crafts Black Elastic Bands 1/4 Flat Elastic Cord Stretch Strap', 'locations': [{'room': 'Main', 'container': 'Cabinet 1', 'specific': 'Shelf 13'}, {'room': 'Cage', 'container': '5c', 'specific': 'Stack 26|-3'}], 'score': 0.5157128572463989}, {'uuid': '04583c0b-3754-43f4-8fbe-485d15496f5d', 'full_name': 'Small Embroidery Hoops', 'locations': [{'room': 'Main', 'container': 'Cabinet 1', 'specific': 'Shelf 7'}, {'room': 'Cage', 'container': '5d', 'specific': 'Stack 8|-3'}], 'score': 0.49806156754493713}]\n",
      "[LLM RAW][:300]: {\"item_uuid\":\"414b1655-517c-492f-a564-97f119358da8\",\"item_location\":\"Cabinet 1\"}\n",
      "[LLM PARSED]: {'item_uuid': '414b1655-517c-492f-a564-97f119358da8', 'item_location': 'Cabinet 1'}\n",
      "[LLM OK]: 414b1655-517c-492f-a564-97f119358da8 → Cabinet 1\n",
      "LLM RETURNED:\n",
      "414b1655-517c-492f-a564-97f119358da8\n",
      "Cabinet 1\n",
      "******************************************************\n",
      "message =  Yarn (Worsted Weight / Fingering Weight), hopefully white but open to other colors \n",
      "\n",
      " text =  Yarn (Worsted Weight / Fingering Weight), hopefully white but open to other colors\n",
      "\n",
      " link items =  []\n"
     ]
    },
    {
     "data": {
      "application/vnd.jupyter.widget-view+json": {
       "model_id": "a60aceedf66f4998a715c30115883115",
       "version_major": 2,
       "version_minor": 0
      },
      "text/plain": [
       "Batches:   0%|          | 0/1 [00:00<?, ?it/s]"
      ]
     },
     "metadata": {},
     "output_type": "display_data"
    },
    {
     "name": "stdout",
     "output_type": "stream",
     "text": [
      "\n",
      " matches = [{'uuid': '75793391-42b2-477c-9ac3-95e264a85431', 'full_name': 'Straight Knitting Needles', 'locations': [{'room': 'Main', 'container': 'Cabinet 1', 'specific': 'Shelf 4'}, {'room': 'Cage', 'container': '5c', 'specific': 'Stack 24|-3'}], 'score': 0.6334383487701416}, {'uuid': '1ce7b2c1-379d-4a23-8f68-e328e511f75b', 'full_name': 'Black Cotton Thread', 'locations': [{'room': 'Cage', 'container': '5c', 'specific': 'Stack 1|-3'}], 'score': 0.5816715955734253}, {'uuid': '61ffa0b2-edfd-4360-9a07-669b0a058a42', 'full_name': 'White Cotton Thread', 'locations': [{'room': 'Cage', 'container': '5c', 'specific': 'Stack 1|-3'}], 'score': 0.5661208629608154}]\n",
      "[LLM RAW][:300]: {\"item_uuid\":\"75793391-42b2-477c-9ac3-95e264a85431\",\"item_location\":\"Cabinet 1\"}\n",
      "[LLM PARSED]: {'item_uuid': '75793391-42b2-477c-9ac3-95e264a85431', 'item_location': 'Cabinet 1'}\n",
      "[LLM OK]: 75793391-42b2-477c-9ac3-95e264a85431 → Cabinet 1\n",
      "LLM RETURNED:\n",
      "75793391-42b2-477c-9ac3-95e264a85431\n",
      "Cabinet 1\n",
      "******************************************************\n",
      "message =  Sticker paper\n",
      "\n",
      " text =  Sticker paper\n",
      "\n",
      " link items =  []\n"
     ]
    },
    {
     "data": {
      "application/vnd.jupyter.widget-view+json": {
       "model_id": "b274fd8405244803ad4ba155520e2c2a",
       "version_major": 2,
       "version_minor": 0
      },
      "text/plain": [
       "Batches:   0%|          | 0/1 [00:00<?, ?it/s]"
      ]
     },
     "metadata": {},
     "output_type": "display_data"
    },
    {
     "name": "stdout",
     "output_type": "stream",
     "text": [
      "\n",
      " matches = [{'uuid': '28365636-a773-43b9-83f3-d92a77a7e0a9', 'full_name': 'Extra Signage', 'locations': [{'room': 'Cage', 'container': '8d', 'specific': ''}], 'score': 1.0}, {'uuid': '6a43aff1-e3a3-4e49-bc7c-fccb7884223b', 'full_name': 'Suede Lace', 'locations': [{'room': 'Main', 'container': 'Cabinet 2', 'specific': 'Shelf 21'}], 'score': 0.8017363548278809}, {'uuid': 'ae7d243c-2738-4d14-8889-33f820535fdb', 'full_name': 'Small Zip Ties', 'locations': [{'room': 'Main', 'container': 'Cabinet 2', 'specific': 'Shelf 4'}, {'room': 'Cage', 'container': '5c', 'specific': 'Stack 2|-1'}], 'score': 0.7675530910491943}]\n",
      "[LLM RAW][:300]: {\"item_uuid\":\"6a43aff1-e3a3-4e49-bc7c-fccb7884223b\",\"item_location\":\"Cabinet 2\"}\n",
      "[LLM PARSED]: {'item_uuid': '6a43aff1-e3a3-4e49-bc7c-fccb7884223b', 'item_location': 'Cabinet 2'}\n",
      "[LLM OK]: 6a43aff1-e3a3-4e49-bc7c-fccb7884223b → Cabinet 2\n",
      "LLM RETURNED:\n",
      "6a43aff1-e3a3-4e49-bc7c-fccb7884223b\n",
      "Cabinet 2\n",
      "******************************************************\n",
      "message =  butcher paper\n",
      "\n",
      " text =  butcher paper\n",
      "\n",
      " link items =  []\n"
     ]
    },
    {
     "data": {
      "application/vnd.jupyter.widget-view+json": {
       "model_id": "9777430f73cb4e7c8093628331e35df1",
       "version_major": 2,
       "version_minor": 0
      },
      "text/plain": [
       "Batches:   0%|          | 0/1 [00:00<?, ?it/s]"
      ]
     },
     "metadata": {},
     "output_type": "display_data"
    },
    {
     "name": "stdout",
     "output_type": "stream",
     "text": [
      "\n",
      " matches = [{'uuid': '5ba97c30-e20c-434e-8753-38d5f7008528', 'full_name': 'Specialty Sewing Machine Needles', 'locations': [{'room': 'Main', 'container': 'Pegboard', 'specific': None}, {'room': 'Cage', 'container': '5e', 'specific': 'Pegboard Bins|-3'}], 'score': 1.0}, {'uuid': 'e558447a-5c0d-4d0a-8997-81067d1e351c', 'full_name': 'Pegboard Hardware', 'locations': [{'room': 'Cage', 'container': 'Pegboard', 'specific': ''}], 'score': 0.6851712465286255}, {'uuid': 'c1bd2439-1e6a-4669-8cfc-3e9ea3396ac9', 'full_name': 'Wall Hanging Supplies', 'locations': [{'room': 'Cage', 'container': '8d', 'specific': None}], 'score': 0.6806083917617798}]\n",
      "[LLM RAW][:300]: {\"item_uuid\":\"5ba97c30-e20c-434e-8753-38d5f7008528\",\"item_location\":\"Pegboard 1\"}\n",
      "[LLM PARSED]: {'item_uuid': '5ba97c30-e20c-434e-8753-38d5f7008528', 'item_location': 'Pegboard 1'}\n",
      "[LLM OK]: 5ba97c30-e20c-434e-8753-38d5f7008528 → Pegboard 1\n",
      "LLM RETURNED:\n",
      "5ba97c30-e20c-434e-8753-38d5f7008528\n",
      "Pegboard 1\n",
      "******************************************************\n",
      "message =  Blank folding cards (to use to make birthday cards, etc.)\n",
      "\n",
      " text =  Blank folding cards (to use to make birthday cards, etc.)\n",
      "\n",
      " link items =  []\n"
     ]
    },
    {
     "data": {
      "application/vnd.jupyter.widget-view+json": {
       "model_id": "6fb62e1068c245749918d0c467cf0dc3",
       "version_major": 2,
       "version_minor": 0
      },
      "text/plain": [
       "Batches:   0%|          | 0/1 [00:00<?, ?it/s]"
      ]
     },
     "metadata": {},
     "output_type": "display_data"
    },
    {
     "name": "stdout",
     "output_type": "stream",
     "text": [
      "\n",
      " matches = [{'uuid': '6b7668ad-0499-441c-b797-719a39d66999', 'full_name': 'Seaweed Salad', 'locations': [{'room': 'Other', 'container': 'Refrigerator', 'specific': ''}], 'score': 0.4833652973175049}, {'uuid': 'ed208466-304b-4e03-9658-ad1c4edff861', 'full_name': 'Red Cardstock', 'locations': [{'room': 'Main', 'container': 'Cabinet 7', 'specific': ''}, {'room': 'Cage', 'container': '8d', 'specific': ''}], 'score': 0.48002082109451294}, {'uuid': '9d313dcf-ab08-4f47-9284-52d042a02575', 'full_name': 'White Cardstock', 'locations': [{'room': 'Cage', 'container': '', 'specific': ''}], 'score': 0.468491792678833}]\n",
      "[LLM RAW][:300]: {\"item_uuid\":\"ed208466-304b-4e03-9658-ad1c4edff861\",\"item_location\":\"Cabinet 7\"}\n",
      "[LLM PARSED]: {'item_uuid': 'ed208466-304b-4e03-9658-ad1c4edff861', 'item_location': 'Cabinet 7'}\n",
      "[LLM OK]: ed208466-304b-4e03-9658-ad1c4edff861 → Cabinet 7\n",
      "LLM RETURNED:\n",
      "ed208466-304b-4e03-9658-ad1c4edff861\n",
      "Cabinet 7\n",
      "******************************************************\n",
      "message =  fishing line (people keep asking for it)\n",
      "\n",
      " text =  fishing line (people keep asking for it)\n",
      "\n",
      " link items =  []\n"
     ]
    },
    {
     "data": {
      "application/vnd.jupyter.widget-view+json": {
       "model_id": "e7b7ef2662a94f28bfaa8d95b4294389",
       "version_major": 2,
       "version_minor": 0
      },
      "text/plain": [
       "Batches:   0%|          | 0/1 [00:00<?, ?it/s]"
      ]
     },
     "metadata": {},
     "output_type": "display_data"
    },
    {
     "name": "stdout",
     "output_type": "stream",
     "text": [
      "\n",
      " matches = [{'uuid': 'b955bae6-1a10-486b-8661-3bb0835e5b0c', 'full_name': 'Scrap Ribbon', 'locations': [{'room': 'Main', 'container': 'Cabinet 6', 'specific': 'Top'}], 'score': 0.46153169870376587}, {'uuid': '12d12f6e-ed9a-4cc2-bd72-693332007e03', 'full_name': 'Wooden Buttons', 'locations': [{'room': 'Main', 'container': 'Pegboard 1', 'specific': 'B6'}, {'room': 'Cage', 'container': '5d', 'specific': 'Stack 10|-3'}], 'score': 0.37396371364593506}, {'uuid': 'cb403079-c3cd-4fcc-aa19-8a726ed0a039', 'full_name': 'Boom Tripod/Arm, Whirlwind — Whirlwind STNDMTB H Boom 24-40 in', 'locations': [{'room': 'Studio', 'container': 'Next to Studio 5', 'specific': None}], 'score': 0.36976203322410583}]\n",
      "[LLM RAW][:300]: {\"item_uuid\":\"b955bae6-1a10-486b-8661-3bb0835e5b0c\",\"item_location\":\"Cabinet 6\"}\n",
      "[LLM PARSED]: {'item_uuid': 'b955bae6-1a10-486b-8661-3bb0835e5b0c', 'item_location': 'Cabinet 6'}\n",
      "[LLM OK]: b955bae6-1a10-486b-8661-3bb0835e5b0c → Cabinet 6\n",
      "LLM RETURNED:\n",
      "b955bae6-1a10-486b-8661-3bb0835e5b0c\n",
      "Cabinet 6\n",
      "******************************************************\n",
      "message =  Embroidery Stabilizer\n",
      "\n",
      " text =  Embroidery Stabilizer\n",
      "\n",
      " link items =  []\n"
     ]
    },
    {
     "data": {
      "application/vnd.jupyter.widget-view+json": {
       "model_id": "2ab01d529ef04a6e95832e55ccb05669",
       "version_major": 2,
       "version_minor": 0
      },
      "text/plain": [
       "Batches:   0%|          | 0/1 [00:00<?, ?it/s]"
      ]
     },
     "metadata": {},
     "output_type": "display_data"
    },
    {
     "name": "stdout",
     "output_type": "stream",
     "text": [
      "\n",
      " matches = [{'uuid': '3e00df33-2c77-4be9-ad16-81f61734cee6', 'full_name': 'Permanent Fabric Markers', 'locations': [{'room': 'Main', 'container': 'Cabinet 1', 'specific': 'Shelf 6'}, {'room': 'Cage', 'container': '5e', 'specific': '|-3'}], 'score': 1.0}, {'uuid': '8f8d4979-d146-47dc-98de-23e7557a2213', 'full_name': 'Plastic Scrapers', 'locations': [{'room': 'Main', 'container': 'Cabinet 4', 'specific': 'Shelf 14'}, {'room': 'Cage', 'container': '5c', 'specific': 'Stack 20|-2'}], 'score': 0.6884565353393555}, {'uuid': 'a3a6b195-f3f7-49e8-9b00-bb84948844a6', 'full_name': 'Fabric Scissors', 'locations': [{'room': 'Main', 'container': 'Cabinet 1', 'specific': 'Shelf 1'}, {'room': 'Cage', 'container': '5d', 'specific': 'Stack 1|-3'}], 'score': 0.6818070411682129}]\n",
      "[LLM RAW][:300]: {\"item_uuid\":\"3e00df33-2c77-4be9-ad16-81f61734cee6\",\"item_location\":\"Cabinet 1\"}\n",
      "[LLM PARSED]: {'item_uuid': '3e00df33-2c77-4be9-ad16-81f61734cee6', 'item_location': 'Cabinet 1'}\n",
      "[LLM OK]: 3e00df33-2c77-4be9-ad16-81f61734cee6 → Cabinet 1\n",
      "LLM RETURNED:\n",
      "3e00df33-2c77-4be9-ad16-81f61734cee6\n",
      "Cabinet 1\n",
      "******************************************************\n",
      "message =  Fabric scissors. Sometime over Thanksgiving break all but two disapeared\n",
      "\n",
      " text =  Fabric scissors. Sometime over Thanksgiving break all but two disapeared\n",
      "\n",
      " link items =  []\n"
     ]
    },
    {
     "data": {
      "application/vnd.jupyter.widget-view+json": {
       "model_id": "15db5c19319f44d89fe9c59e2d40b85a",
       "version_major": 2,
       "version_minor": 0
      },
      "text/plain": [
       "Batches:   0%|          | 0/1 [00:00<?, ?it/s]"
      ]
     },
     "metadata": {},
     "output_type": "display_data"
    },
    {
     "name": "stdout",
     "output_type": "stream",
     "text": [
      "\n",
      " matches = [{'uuid': 'e78709de-4228-4e1b-9f14-783c9fe5600b', 'full_name': 'Scissors', 'locations': [{'room': 'Main', 'container': 'Cabinet 3', 'specific': 'Shelf 1'}, {'room': 'Cage', 'container': '5d', 'specific': 'Stack 1|-3'}], 'score': 0.81938236951828}, {'uuid': '6ad40cf4-2639-4ae5-a153-907a8fed4560', 'full_name': 'Yarn', 'locations': [{'room': 'Main', 'container': 'Fabrics', 'specific': ''}, {'room': 'Backstock', 'container': 'Shelf 3', 'specific': '|-3'}], 'score': 0.6888132691383362}, {'uuid': 'db8a11c2-9077-479d-bf17-f597b7b8c850', 'full_name': 'Leather Sewing Machine — Juki Sewing Machine', 'locations': [{'room': 'Cage', 'container': 'Floor', 'specific': None}], 'score': 0.5414608716964722}]\n",
      "[LLM RAW][:300]: {\"item_uuid\":\"e78709de-4228-4e1b-9f14-783c9fe5600b\",\"item_location\":\"Cabinet 3\"}\n",
      "[LLM PARSED]: {'item_uuid': 'e78709de-4228-4e1b-9f14-783c9fe5600b', 'item_location': 'Cabinet 3'}\n",
      "[LLM OK]: e78709de-4228-4e1b-9f14-783c9fe5600b → Cabinet 3\n",
      "LLM RETURNED:\n",
      "e78709de-4228-4e1b-9f14-783c9fe5600b\n",
      "Cabinet 3\n",
      "******************************************************\n",
      "message =  White glue\n",
      "\n",
      " text =  White glue\n",
      "\n",
      " link items =  []\n"
     ]
    },
    {
     "data": {
      "application/vnd.jupyter.widget-view+json": {
       "model_id": "22b9774bd59e40938ce60052c0e9c8e1",
       "version_major": 2,
       "version_minor": 0
      },
      "text/plain": [
       "Batches:   0%|          | 0/1 [00:00<?, ?it/s]"
      ]
     },
     "metadata": {},
     "output_type": "display_data"
    },
    {
     "name": "stdout",
     "output_type": "stream",
     "text": [
      "\n",
      " matches = [{'uuid': 'aa3c06aa-9425-4342-9d80-852fb6a2c4a9', 'full_name': 'Matte Mod Podge', 'locations': [{'room': 'Main', 'container': 'Cabinet 5', 'specific': 'Shelf 1'}, {'room': 'Cage', 'container': '5e', 'specific': ''}], 'score': 0.761875331401825}, {'uuid': 'afde04e1-4135-496c-903e-dd5a2d4a1334', 'full_name': 'Tacky Glue', 'locations': [{'room': 'Main', 'container': 'Cabinet 5', 'specific': 'Shelf 1'}, {'room': 'Cage', 'container': '5d', 'specific': 'Stack 4|1'}], 'score': 0.7540759444236755}, {'uuid': 'db8a11c2-9077-479d-bf17-f597b7b8c850', 'full_name': 'Leather Sewing Machine — Juki Sewing Machine', 'locations': [{'room': 'Cage', 'container': 'Floor', 'specific': None}], 'score': 0.7435652613639832}]\n",
      "[LLM RAW][:300]: {\"item_uuid\":\"aa3c06aa-9425-4342-9d80-852fb6a2c4a9\",\"item_location\":\"Cabinet 5\"}\n",
      "[LLM PARSED]: {'item_uuid': 'aa3c06aa-9425-4342-9d80-852fb6a2c4a9', 'item_location': 'Cabinet 5'}\n",
      "[LLM OK]: aa3c06aa-9425-4342-9d80-852fb6a2c4a9 → Cabinet 5\n",
      "LLM RETURNED:\n",
      "aa3c06aa-9425-4342-9d80-852fb6a2c4a9\n",
      "Cabinet 5\n",
      "******************************************************\n",
      "message =  long adjustable stapler (normally in shelf 3 but appears to have gone missing)\n",
      "https://a.co/d/dEPnW30\n",
      "\n",
      " text =  long adjustable stapler (normally in shelf 3 but appears to have gone missing)\n",
      "\n",
      " link items =  ['Business Source Long Reach Stapler (62827) Black-Putty']\n"
     ]
    },
    {
     "data": {
      "application/vnd.jupyter.widget-view+json": {
       "model_id": "c59ef813679547e3aa807a31880c95a6",
       "version_major": 2,
       "version_minor": 0
      },
      "text/plain": [
       "Batches:   0%|          | 0/1 [00:00<?, ?it/s]"
      ]
     },
     "metadata": {},
     "output_type": "display_data"
    },
    {
     "name": "stdout",
     "output_type": "stream",
     "text": [
      "\n",
      " matches = [{'uuid': 'b3f42e51-1240-420c-bce7-51b4257f5d0b', 'full_name': 'Raffia', 'locations': [{'room': 'Main', 'container': 'Cabinet 2', 'specific': 'Shelf 21'}, {'room': 'Cage', 'container': '5c', 'specific': 'Stack 28|-3'}], 'score': 0.6502821445465088}, {'uuid': 'b2a482d5-c4ec-453a-acd5-b6b6b1842192', 'full_name': 'Soldering Irons', 'locations': [{'room': 'Electronics', 'container': None, 'specific': None}], 'score': 0.5744023323059082}, {'uuid': 'd220455e-1171-45ce-b8b0-78dcd7d67c72', 'full_name': 'Socket Set', 'locations': [{'room': 'Cage', 'container': '2b', 'specific': ''}], 'score': 0.5639922618865967}]\n",
      "[LLM RAW][:300]: {\"item_uuid\":\"b2a482d5-c4ec-453a-acd5-b6b6b1842192\",\"item_location\":\"Electronics\"}\n",
      "[LLM PARSED]: {'item_uuid': 'b2a482d5-c4ec-453a-acd5-b6b6b1842192', 'item_location': 'Electronics'}\n",
      "[LLM OK]: b2a482d5-c4ec-453a-acd5-b6b6b1842192 → Electronics\n",
      "LLM RETURNED:\n",
      "b2a482d5-c4ec-453a-acd5-b6b6b1842192\n",
      "Electronics\n",
      "******************************************************\n",
      "message =  Butcher paper\n",
      "\n",
      " text =  Butcher paper\n",
      "\n",
      " link items =  []\n"
     ]
    },
    {
     "data": {
      "application/vnd.jupyter.widget-view+json": {
       "model_id": "575788a2b60840bb8722b75d99fc8b77",
       "version_major": 2,
       "version_minor": 0
      },
      "text/plain": [
       "Batches:   0%|          | 0/1 [00:00<?, ?it/s]"
      ]
     },
     "metadata": {},
     "output_type": "display_data"
    },
    {
     "name": "stdout",
     "output_type": "stream",
     "text": [
      "\n",
      " matches = [{'uuid': '5ba97c30-e20c-434e-8753-38d5f7008528', 'full_name': 'Specialty Sewing Machine Needles', 'locations': [{'room': 'Main', 'container': 'Pegboard', 'specific': None}, {'room': 'Cage', 'container': '5e', 'specific': 'Pegboard Bins|-3'}], 'score': 1.0}, {'uuid': 'e558447a-5c0d-4d0a-8997-81067d1e351c', 'full_name': 'Pegboard Hardware', 'locations': [{'room': 'Cage', 'container': 'Pegboard', 'specific': ''}], 'score': 0.6851712465286255}, {'uuid': 'c1bd2439-1e6a-4669-8cfc-3e9ea3396ac9', 'full_name': 'Wall Hanging Supplies', 'locations': [{'room': 'Cage', 'container': '8d', 'specific': None}], 'score': 0.6806083917617798}]\n",
      "[LLM RAW][:300]: {\"item_uuid\":\"5ba97c30-e20c-434e-8753-38d5f7008528\",\"item_location\":\"Pegboard 1\"}\n",
      "[LLM PARSED]: {'item_uuid': '5ba97c30-e20c-434e-8753-38d5f7008528', 'item_location': 'Pegboard 1'}\n",
      "[LLM OK]: 5ba97c30-e20c-434e-8753-38d5f7008528 → Pegboard 1\n",
      "LLM RETURNED:\n",
      "5ba97c30-e20c-434e-8753-38d5f7008528\n",
      "Pegboard 1\n",
      "******************************************************\n",
      "message =  Electrical tape\n",
      "\n",
      " text =  Electrical tape\n",
      "\n",
      " link items =  []\n"
     ]
    },
    {
     "data": {
      "application/vnd.jupyter.widget-view+json": {
       "model_id": "35c517b16a174f6baed3c1b49eabf16c",
       "version_major": 2,
       "version_minor": 0
      },
      "text/plain": [
       "Batches:   0%|          | 0/1 [00:00<?, ?it/s]"
      ]
     },
     "metadata": {},
     "output_type": "display_data"
    },
    {
     "name": "stdout",
     "output_type": "stream",
     "text": [
      "\n",
      " matches = [{'uuid': '3527a1365517480c944ac6cd47a39a34', 'full_name': 'Blue Masking Tape (2\") — 2 Inch Blue Painters Tape', 'locations': [{'room': 'Main', 'container': 'Cabinet 5', 'specific': 'Top'}, {'room': 'Cage', 'container': '5e', 'specific': '|-3'}], 'score': 1.0}, {'uuid': '9ea656ed65cc473c912c9a7d989c7e7e', 'full_name': '3.5 mm Male to XLR Male Cable Short', 'locations': [{'room': 'Studio', 'container': 'Studio 2', 'specific': 'Shelf 8'}], 'score': 0.7291019558906555}, {'uuid': 'cd81c90cd52e49b79df647fb94d6a113', 'full_name': 'Scotch Tape', 'locations': [{'room': 'Main', 'container': 'Cabinet 5', 'specific': 'Shelf 2'}, {'room': 'Cage', 'container': '5c', 'specific': 'Stack 14|0'}, {'room': 'Cage', 'container': '5c', 'specific': 'Stack 7'}, {'room': 'Cage', 'container': '5c', 'specific': 'Stack 6'}], 'score': 0.7106490135192871}]\n",
      "[LLM RAW][:300]: {\"item_uuid\":\"9ea656ed65cc473c912c9a7d989c7e7e\",\"item_location\":\"Studio\"}\n",
      "[LLM PARSED]: {'item_uuid': '9ea656ed65cc473c912c9a7d989c7e7e', 'item_location': 'Studio'}\n",
      "[LLM OK]: 9ea656ed65cc473c912c9a7d989c7e7e → Studio\n",
      "LLM RETURNED:\n",
      "9ea656ed65cc473c912c9a7d989c7e7e\n",
      "Studio\n",
      "******************************************************\n",
      "message =  Blue Magic Brush on electrical tape -- the contents hardened and are unusable, but not sure if we want to restock this or just regular electrical tape\n",
      "\n",
      " text =  Blue Magic Brush on electrical tape -- the contents hardened and are unusable, but not sure if we want to restock this or just regular electrical tape\n",
      "\n",
      " link items =  []\n"
     ]
    },
    {
     "data": {
      "application/vnd.jupyter.widget-view+json": {
       "model_id": "a987e61efa794836a8e486c89522eb7e",
       "version_major": 2,
       "version_minor": 0
      },
      "text/plain": [
       "Batches:   0%|          | 0/1 [00:00<?, ?it/s]"
      ]
     },
     "metadata": {},
     "output_type": "display_data"
    },
    {
     "name": "stdout",
     "output_type": "stream",
     "text": [
      "\n",
      " matches = [{'uuid': '3527a1365517480c944ac6cd47a39a34', 'full_name': 'Blue Masking Tape (2\") — 2 Inch Blue Painters Tape', 'locations': [{'room': 'Main', 'container': 'Cabinet 5', 'specific': 'Top'}, {'room': 'Cage', 'container': '5e', 'specific': '|-3'}], 'score': 0.5917750597000122}, {'uuid': '0f645fe244db4c4b81ea2bbe2376b061', 'full_name': 'Paint Thinner (For use with Spray Paint Gun Only)', 'locations': [{'room': 'Cage', 'container': 'Flammable', 'specific': None}], 'score': 0.5149356126785278}, {'uuid': '886a3549-b781-4d63-aee0-3442ca17f207', 'full_name': 'Color Gel Pens', 'locations': [{'room': 'Main', 'container': 'Cabinet 4', 'specific': 'Shelf 13'}], 'score': 0.5072246789932251}]\n",
      "[LLM RAW][:300]: {\"item_uuid\":\"3527a1365517480c944ac6cd47a39a34\",\"item_location\":\"Cabinet 5\"}\n",
      "[LLM PARSED]: {'item_uuid': '3527a1365517480c944ac6cd47a39a34', 'item_location': 'Cabinet 5'}\n",
      "[LLM OK]: 3527a1365517480c944ac6cd47a39a34 → Cabinet 5\n",
      "LLM RETURNED:\n",
      "3527a1365517480c944ac6cd47a39a34\n",
      "Cabinet 5\n",
      "******************************************************\n",
      "message =  original tacky glue\n",
      "\n",
      " text =  original tacky glue\n",
      "\n",
      " link items =  []\n"
     ]
    },
    {
     "data": {
      "application/vnd.jupyter.widget-view+json": {
       "model_id": "127a5229f433471495c960e462639db2",
       "version_major": 2,
       "version_minor": 0
      },
      "text/plain": [
       "Batches:   0%|          | 0/1 [00:00<?, ?it/s]"
      ]
     },
     "metadata": {},
     "output_type": "display_data"
    },
    {
     "name": "stdout",
     "output_type": "stream",
     "text": [
      "\n",
      " matches = [{'uuid': '0662010e-3d64-4111-956c-e1e2703ee704', 'full_name': 'Zippers', 'locations': [{'room': 'Main', 'container': 'Cabinet 1', 'specific': 'Shelf 14'}, {'room': 'Cage', 'container': '5c', 'specific': 'Stack 23|-3'}], 'score': 0.9326570630073547}, {'uuid': 'e3c8e302ce0540149d9c8cb33319440d', 'full_name': 'Gaff Tape', 'locations': [{'room': 'Studio', 'container': 'A2', 'specific': None}, {'room': 'Outdoor Storage', 'container': '', 'specific': '|3'}], 'score': 0.7269147634506226}, {'uuid': 'afde04e1-4135-496c-903e-dd5a2d4a1334', 'full_name': 'Tacky Glue', 'locations': [{'room': 'Main', 'container': 'Cabinet 5', 'specific': 'Shelf 1'}, {'room': 'Cage', 'container': '5d', 'specific': 'Stack 4|1'}], 'score': 0.709653913974762}]\n",
      "[LLM RAW][:300]: {\"item_uuid\":\"afde04e1-4135-496c-903e-dd5a2d4a1334\",\"item_location\":\"Cabinet 5\"}\n",
      "[LLM PARSED]: {'item_uuid': 'afde04e1-4135-496c-903e-dd5a2d4a1334', 'item_location': 'Cabinet 5'}\n",
      "[LLM OK]: afde04e1-4135-496c-903e-dd5a2d4a1334 → Cabinet 5\n",
      "LLM RETURNED:\n",
      "afde04e1-4135-496c-903e-dd5a2d4a1334\n",
      "Cabinet 5\n",
      "******************************************************\n",
      "message =  White acrylic paint please\n",
      "\n",
      " text =  White acrylic paint please\n",
      "\n",
      " link items =  []\n"
     ]
    },
    {
     "data": {
      "application/vnd.jupyter.widget-view+json": {
       "model_id": "410e19d50b2c4f0088696f5c7c0936e7",
       "version_major": 2,
       "version_minor": 0
      },
      "text/plain": [
       "Batches:   0%|          | 0/1 [00:00<?, ?it/s]"
      ]
     },
     "metadata": {},
     "output_type": "display_data"
    },
    {
     "name": "stdout",
     "output_type": "stream",
     "text": [
      "\n",
      " matches = [{'uuid': '661bc6f8-63c5-4e2e-9708-37ea19016f0f', 'full_name': 'Black Polyester Thread', 'locations': [{'room': 'Cage', 'container': '5c', 'specific': 'Stack 1'}], 'score': 0.9662585854530334}, {'uuid': '963d3749-995b-4bda-a18e-b7b17ca9daf3', 'full_name': 'Pipe Cleaners', 'locations': [{'room': 'Main', 'container': 'Cabinet 2', 'specific': 'Shelf 8'}, {'room': 'Cage', 'container': '5d', 'specific': 'Stack 13|-3'}], 'score': 0.8711599707603455}, {'uuid': 'e4481a23-7e46-4c03-a9e7-1f6203fff2c1', 'full_name': 'White Acrylic Paint', 'locations': [{'room': 'Cage', 'container': '5c', 'specific': 'Stack 21|-3'}], 'score': 0.8143988847732544}]\n",
      "[LLM RAW][:300]: {\"item_uuid\":\"e4481a23-7e46-4c03-a9e7-1f6203fff2c1\",\"item_location\":\"Cage/Crypt/Other\"}\n",
      "[LLM PARSED]: {'item_uuid': 'e4481a23-7e46-4c03-a9e7-1f6203fff2c1', 'item_location': 'Cage/Crypt/Other'}\n",
      "[LLM OK]: e4481a23-7e46-4c03-a9e7-1f6203fff2c1 → Cage/Crypt/Other\n",
      "LLM RETURNED:\n",
      "e4481a23-7e46-4c03-a9e7-1f6203fff2c1\n",
      "Cage/Crypt/Other\n",
      "******************************************************\n",
      "message =  White rattle can\n",
      "\n",
      " text =  White rattle can\n",
      "\n",
      " link items =  []\n"
     ]
    },
    {
     "data": {
      "application/vnd.jupyter.widget-view+json": {
       "model_id": "a7f3d7b39fd1464baa2445ce6b61364c",
       "version_major": 2,
       "version_minor": 0
      },
      "text/plain": [
       "Batches:   0%|          | 0/1 [00:00<?, ?it/s]"
      ]
     },
     "metadata": {},
     "output_type": "display_data"
    },
    {
     "name": "stdout",
     "output_type": "stream",
     "text": [
      "\n",
      " matches = [{'uuid': '85c93576-6216-4927-8e78-9f3ebd85e8e4', 'full_name': 'Pony Beads', 'locations': [{'room': 'Main', 'container': 'Cabinet 3', 'specific': 'Shelf 13'}, {'room': 'Cage', 'container': '5e', 'specific': '|4'}], 'score': 0.438378244638443}, {'uuid': '2dcbc1b0-649e-4461-9e67-25e0fdd6319b', 'full_name': 'Multicolored Ribbon', 'locations': [{'room': 'Main', 'container': 'Cabinet 6', 'specific': 'Shelf 5'}], 'score': 0.4166910648345947}, {'uuid': '661bc6f8-63c5-4e2e-9708-37ea19016f0f', 'full_name': 'Black Polyester Thread', 'locations': [{'room': 'Cage', 'container': '5c', 'specific': 'Stack 1'}], 'score': 0.3990466296672821}]\n",
      "[LLM RAW][:300]: {\"item_uuid\":\"85c93576-6216-4927-8e78-9f3ebd85e8e4\",\"item_location\":\"Cabinet 3\"}\n",
      "[LLM PARSED]: {'item_uuid': '85c93576-6216-4927-8e78-9f3ebd85e8e4', 'item_location': 'Cabinet 3'}\n",
      "[LLM OK]: 85c93576-6216-4927-8e78-9f3ebd85e8e4 → Cabinet 3\n",
      "LLM RETURNED:\n",
      "85c93576-6216-4927-8e78-9f3ebd85e8e4\n",
      "Cabinet 3\n",
      "******************************************************\n",
      "message =  Black rattle can\n",
      "\n",
      " text =  Black rattle can\n",
      "\n",
      " link items =  []\n"
     ]
    },
    {
     "data": {
      "application/vnd.jupyter.widget-view+json": {
       "model_id": "40a2612e99164c459d36f3f34ae5a5c0",
       "version_major": 2,
       "version_minor": 0
      },
      "text/plain": [
       "Batches:   0%|          | 0/1 [00:00<?, ?it/s]"
      ]
     },
     "metadata": {},
     "output_type": "display_data"
    },
    {
     "name": "stdout",
     "output_type": "stream",
     "text": [
      "\n",
      " matches = [{'uuid': 'b5e4e468-d4ba-41b8-9a62-5d13689a0347', 'full_name': 'Blue Ribbon', 'locations': [{'room': 'Main', 'container': 'Cabinet 6', 'specific': 'Shelf 3'}], 'score': 0.46617215871810913}, {'uuid': 'e4481a23-7e46-4c03-a9e7-1f6203fff2c1', 'full_name': 'White Acrylic Paint', 'locations': [{'room': 'Cage', 'container': '5c', 'specific': 'Stack 21|-3'}], 'score': 0.4210864007472992}, {'uuid': 'e5163fd6-f558-4044-8c7f-5e5292efcab6', 'full_name': 'Coping Saw', 'locations': [{'room': 'Cage', 'container': 'Pegboard', 'specific': None}], 'score': 0.4173394739627838}]\n",
      "[LLM RAW][:300]: {\"item_uuid\":\"b5e4e468-d4ba-41b8-9a62-5d13689a0347\",\"item_location\":\"Cabinet 6\"}\n",
      "[LLM PARSED]: {'item_uuid': 'b5e4e468-d4ba-41b8-9a62-5d13689a0347', 'item_location': 'Cabinet 6'}\n",
      "[LLM OK]: b5e4e468-d4ba-41b8-9a62-5d13689a0347 → Cabinet 6\n",
      "LLM RETURNED:\n",
      "b5e4e468-d4ba-41b8-9a62-5d13689a0347\n",
      "Cabinet 6\n",
      "******************************************************\n",
      "message =  butcher paper \n",
      "\n",
      " text =  butcher paper\n",
      "\n",
      " link items =  []\n"
     ]
    },
    {
     "data": {
      "application/vnd.jupyter.widget-view+json": {
       "model_id": "c5fb17ec1c694fba998676aa9aaa5d91",
       "version_major": 2,
       "version_minor": 0
      },
      "text/plain": [
       "Batches:   0%|          | 0/1 [00:00<?, ?it/s]"
      ]
     },
     "metadata": {},
     "output_type": "display_data"
    },
    {
     "name": "stdout",
     "output_type": "stream",
     "text": [
      "\n",
      " matches = [{'uuid': '5ba97c30-e20c-434e-8753-38d5f7008528', 'full_name': 'Specialty Sewing Machine Needles', 'locations': [{'room': 'Main', 'container': 'Pegboard', 'specific': None}, {'room': 'Cage', 'container': '5e', 'specific': 'Pegboard Bins|-3'}], 'score': 1.0}, {'uuid': 'e558447a-5c0d-4d0a-8997-81067d1e351c', 'full_name': 'Pegboard Hardware', 'locations': [{'room': 'Cage', 'container': 'Pegboard', 'specific': ''}], 'score': 0.6851712465286255}, {'uuid': 'c1bd2439-1e6a-4669-8cfc-3e9ea3396ac9', 'full_name': 'Wall Hanging Supplies', 'locations': [{'room': 'Cage', 'container': '8d', 'specific': None}], 'score': 0.6806083917617798}]\n",
      "[LLM RAW][:300]: {\"item_uuid\":\"5ba97c30-e20c-434e-8753-38d5f7008528\",\"item_location\":\"Pegboard 1\"}\n",
      "[LLM PARSED]: {'item_uuid': '5ba97c30-e20c-434e-8753-38d5f7008528', 'item_location': 'Pegboard 1'}\n",
      "[LLM OK]: 5ba97c30-e20c-434e-8753-38d5f7008528 → Pegboard 1\n",
      "LLM RETURNED:\n",
      "5ba97c30-e20c-434e-8753-38d5f7008528\n",
      "Pegboard 1\n",
      "******************************************************\n",
      "message =  White cardstock\n",
      "\n",
      " text =  White cardstock\n",
      "\n",
      " link items =  []\n"
     ]
    },
    {
     "data": {
      "application/vnd.jupyter.widget-view+json": {
       "model_id": "d220b35219344d359e49130b3b535649",
       "version_major": 2,
       "version_minor": 0
      },
      "text/plain": [
       "Batches:   0%|          | 0/1 [00:00<?, ?it/s]"
      ]
     },
     "metadata": {},
     "output_type": "display_data"
    },
    {
     "name": "stdout",
     "output_type": "stream",
     "text": [
      "\n",
      " matches = [{'uuid': 'ed208466-304b-4e03-9658-ad1c4edff861', 'full_name': 'Red Cardstock', 'locations': [{'room': 'Main', 'container': 'Cabinet 7', 'specific': ''}, {'room': 'Cage', 'container': '8d', 'specific': ''}], 'score': 1.0000001192092896}, {'uuid': '9d313dcf-ab08-4f47-9284-52d042a02575', 'full_name': 'White Cardstock', 'locations': [{'room': 'Cage', 'container': '', 'specific': ''}], 'score': 0.8314437866210938}, {'uuid': 'eb12a0d6-aba6-4fb4-8c10-75feaba4a9af', 'full_name': '126 Pumpkin Thread', 'locations': [{'room': 'Main', 'container': '', 'specific': ''}], 'score': 0.7967814803123474}]\n",
      "[LLM RAW][:300]: {\"item_uuid\":\"ed208466-304b-4e03-9658-ad1c4edff861\",\"item_location\":\"Cabinet 7\"}\n",
      "[LLM PARSED]: {'item_uuid': 'ed208466-304b-4e03-9658-ad1c4edff861', 'item_location': 'Cabinet 7'}\n",
      "[LLM OK]: ed208466-304b-4e03-9658-ad1c4edff861 → Cabinet 7\n",
      "LLM RETURNED:\n",
      "ed208466-304b-4e03-9658-ad1c4edff861\n",
      "Cabinet 7\n",
      "******************************************************\n",
      "message =  Low on many colors of needle felting wool.\n",
      "\n",
      " text =  Low on many colors of needle felting wool.\n",
      "\n",
      " link items =  []\n"
     ]
    },
    {
     "data": {
      "application/vnd.jupyter.widget-view+json": {
       "model_id": "2531de3f658943f99cfe6a74aa42587a",
       "version_major": 2,
       "version_minor": 0
      },
      "text/plain": [
       "Batches:   0%|          | 0/1 [00:00<?, ?it/s]"
      ]
     },
     "metadata": {},
     "output_type": "display_data"
    },
    {
     "name": "stdout",
     "output_type": "stream",
     "text": [
      "\n",
      " matches = [{'uuid': '37e61f53-f3cd-412a-8274-1eee3f6741a3', 'full_name': 'Pin Cushions', 'locations': [{'room': 'Main', 'container': 'Cabinet 1', 'specific': 'Shelf 3'}], 'score': 0.7507694959640503}, {'uuid': '6c06aa1b69ce4e26aa89bc65787d1a65', 'full_name': 'Felting Foam', 'locations': [{'room': 'Main', 'container': 'Cabinet 1', 'specific': 'Shelf 15'}], 'score': 0.636152446269989}, {'uuid': '8f8d4979-d146-47dc-98de-23e7557a2213', 'full_name': 'Plastic Scrapers', 'locations': [{'room': 'Main', 'container': 'Cabinet 4', 'specific': 'Shelf 14'}, {'room': 'Cage', 'container': '5c', 'specific': 'Stack 20|-2'}], 'score': 0.6170669198036194}]\n",
      "[LLM RAW][:300]: {\"item_uuid\":\"37e61f53-f3cd-412a-8274-1eee3f6741a3\",\"item_location\":\"Cabinet 1\"}\n",
      "[LLM PARSED]: {'item_uuid': '37e61f53-f3cd-412a-8274-1eee3f6741a3', 'item_location': 'Cabinet 1'}\n",
      "[LLM OK]: 37e61f53-f3cd-412a-8274-1eee3f6741a3 → Cabinet 1\n",
      "LLM RETURNED:\n",
      "37e61f53-f3cd-412a-8274-1eee3f6741a3\n",
      "Cabinet 1\n",
      "******************************************************\n",
      "message =  Sequins\n",
      "\n",
      " text =  Sequins\n",
      "\n",
      " link items =  []\n"
     ]
    },
    {
     "data": {
      "application/vnd.jupyter.widget-view+json": {
       "model_id": "a2f320869abe423097369c60a99727b2",
       "version_major": 2,
       "version_minor": 0
      },
      "text/plain": [
       "Batches:   0%|          | 0/1 [00:00<?, ?it/s]"
      ]
     },
     "metadata": {},
     "output_type": "display_data"
    },
    {
     "name": "stdout",
     "output_type": "stream",
     "text": [
      "\n",
      " matches = [{'uuid': '58c7b79e-5e7e-42f9-a451-da2eb1ee23bf', 'full_name': 'AxiDraw Supplies', 'locations': [{'room': 'Cage', 'container': '1d', 'specific': None}], 'score': 1.0}, {'uuid': 'd6faacc3-6fc5-46cd-8d57-6324f7c859a9', 'full_name': 'Plywood Stock', 'locations': [{'room': 'Outdoor Storage', 'container': 'Blue stock rack', 'specific': None}], 'score': 0.49491333961486816}, {'uuid': '0263f865-ed8f-4829-820e-749ef7ae680d', 'full_name': 'Nylon Stocking — Flower Stockings Material Tensile Nylon Stocking for Flower Making Accessory Handmade DIY Crafts Wedding Home Decoration Random Mixed Colors Pack of 12pcs 1.5 Meters Stretched', 'locations': [{'room': 'Main', 'container': 'Cabinet 1', 'specific': 'Shelf 16'}, {'room': 'Cage', 'container': '5c', 'specific': 'Stack 28|-2'}], 'score': 0.43864038586616516}]\n",
      "[LLM RAW][:300]: {\"item_uuid\":\"0263f865-ed8f-4829-820e-749ef7ae680d\",\"item_location\":\"Cabinet 1\"}\n",
      "[LLM PARSED]: {'item_uuid': '0263f865-ed8f-4829-820e-749ef7ae680d', 'item_location': 'Cabinet 1'}\n",
      "[LLM OK]: 0263f865-ed8f-4829-820e-749ef7ae680d → Cabinet 1\n",
      "LLM RETURNED:\n",
      "0263f865-ed8f-4829-820e-749ef7ae680d\n",
      "Cabinet 1\n",
      "******************************************************\n",
      "message =  Silver jewelry making wire \n",
      "\n",
      " text =  Silver jewelry making wire\n",
      "\n",
      " link items =  []\n"
     ]
    },
    {
     "data": {
      "application/vnd.jupyter.widget-view+json": {
       "model_id": "7b36c214233c4571a01f95d28d722a38",
       "version_major": 2,
       "version_minor": 0
      },
      "text/plain": [
       "Batches:   0%|          | 0/1 [00:00<?, ?it/s]"
      ]
     },
     "metadata": {},
     "output_type": "display_data"
    },
    {
     "name": "stdout",
     "output_type": "stream",
     "text": [
      "\n",
      " matches = [{'uuid': 'e782c9e05a22413889ed8b772e6b4cbe', 'full_name': 'Toothpicks', 'locations': [{'room': 'Main', 'container': 'Cabinet 2', 'specific': 'Shelf 9'}, {'room': 'Cage', 'container': '5c', 'specific': 'Stack 17|-3'}], 'score': 0.7370356917381287}, {'uuid': '04583c0b-3754-43f4-8fbe-485d15496f5d', 'full_name': 'Small Embroidery Hoops', 'locations': [{'room': 'Main', 'container': 'Cabinet 1', 'specific': 'Shelf 7'}, {'room': 'Cage', 'container': '5d', 'specific': 'Stack 8|-3'}], 'score': 0.6357094645500183}, {'uuid': 'f6cd1cd1-1f50-449a-b8e3-9a84936d80f2', 'full_name': 'Thick Black Elastic Band — Sunmns 3 Rolls Sewing Stretch Elastic Band Spool, 3/5, 1, 1-1/2 Inch in Width', 'locations': [{'room': 'Main', 'container': 'Cabinet 1', 'specific': 'Shelf 13'}, {'room': 'Cage', 'container': '5c', 'specific': 'Stack 26|-3'}], 'score': 0.6324341893196106}]\n",
      "[LLM RAW][:300]: {\"item_uuid\":\"e782c9e05a22413889ed8b772e6b4cbe\",\"item_location\":\"Cabinet 2\"}\n",
      "[LLM PARSED]: {'item_uuid': 'e782c9e05a22413889ed8b772e6b4cbe', 'item_location': 'Cabinet 2'}\n",
      "[LLM OK]: e782c9e05a22413889ed8b772e6b4cbe → Cabinet 2\n",
      "LLM RETURNED:\n",
      "e782c9e05a22413889ed8b772e6b4cbe\n",
      "Cabinet 2\n",
      "******************************************************\n",
      "message =  sequins \n",
      "\n",
      " text =  sequins\n",
      "\n",
      " link items =  []\n"
     ]
    },
    {
     "data": {
      "application/vnd.jupyter.widget-view+json": {
       "model_id": "6979f4244c984dca96a3c412d8ec4e9c",
       "version_major": 2,
       "version_minor": 0
      },
      "text/plain": [
       "Batches:   0%|          | 0/1 [00:00<?, ?it/s]"
      ]
     },
     "metadata": {},
     "output_type": "display_data"
    },
    {
     "name": "stdout",
     "output_type": "stream",
     "text": [
      "\n",
      " matches = [{'uuid': '58c7b79e-5e7e-42f9-a451-da2eb1ee23bf', 'full_name': 'AxiDraw Supplies', 'locations': [{'room': 'Cage', 'container': '1d', 'specific': None}], 'score': 1.0}, {'uuid': 'd6faacc3-6fc5-46cd-8d57-6324f7c859a9', 'full_name': 'Plywood Stock', 'locations': [{'room': 'Outdoor Storage', 'container': 'Blue stock rack', 'specific': None}], 'score': 0.49491333961486816}, {'uuid': '0263f865-ed8f-4829-820e-749ef7ae680d', 'full_name': 'Nylon Stocking — Flower Stockings Material Tensile Nylon Stocking for Flower Making Accessory Handmade DIY Crafts Wedding Home Decoration Random Mixed Colors Pack of 12pcs 1.5 Meters Stretched', 'locations': [{'room': 'Main', 'container': 'Cabinet 1', 'specific': 'Shelf 16'}, {'room': 'Cage', 'container': '5c', 'specific': 'Stack 28|-2'}], 'score': 0.43864038586616516}]\n",
      "[LLM RAW][:300]: {\"item_uuid\":\"58c7b79e-5e7e-42f9-a451-da2eb1ee23bf\",\"item_location\":\"Cage/Crypt/Other\"}\n",
      "[LLM PARSED]: {'item_uuid': '58c7b79e-5e7e-42f9-a451-da2eb1ee23bf', 'item_location': 'Cage/Crypt/Other'}\n",
      "[LLM OK]: 58c7b79e-5e7e-42f9-a451-da2eb1ee23bf → Cage/Crypt/Other\n",
      "LLM RETURNED:\n",
      "58c7b79e-5e7e-42f9-a451-da2eb1ee23bf\n",
      "Cage/Crypt/Other\n",
      "******************************************************\n",
      "message =  Stuffing/polyfill\n",
      "\n",
      " text =  Stuffing/polyfill\n",
      "\n",
      " link items =  []\n"
     ]
    },
    {
     "data": {
      "application/vnd.jupyter.widget-view+json": {
       "model_id": "af31a891d6154a58ac8279d5e42d96bf",
       "version_major": 2,
       "version_minor": 0
      },
      "text/plain": [
       "Batches:   0%|          | 0/1 [00:00<?, ?it/s]"
      ]
     },
     "metadata": {},
     "output_type": "display_data"
    },
    {
     "name": "stdout",
     "output_type": "stream",
     "text": [
      "\n",
      " matches = [{'uuid': '368a7a823a9d402ba54e899e86afa00e', 'full_name': 'Curved Needles', 'locations': [{'room': 'Main', 'container': 'Pegboard 1', 'specific': 'G1'}, {'room': 'Cage', 'container': '5e', 'specific': 'Pegboard Bins|-2'}], 'score': 0.7474737167358398}, {'uuid': '2b26f1ca-bd99-4f47-bb1d-07aeffdd5cba', 'full_name': 'Various Wheels', 'locations': [{'room': 'The Crypt', 'container': '2d', 'specific': None}], 'score': 0.4822844862937927}, {'uuid': '817338c4-294d-4f6f-9169-affce4703a05', 'full_name': 'Cotton Thread', 'locations': [{'room': 'Main', 'container': 'Pegboard 1', 'specific': 'Front'}], 'score': 0.46688687801361084}]\n",
      "[LLM RAW][:300]: {\"item_uuid\":\"368a7a823a9d402ba54e899e86afa00e\",\"item_location\":\"Pegboard 1\"}\n",
      "[LLM PARSED]: {'item_uuid': '368a7a823a9d402ba54e899e86afa00e', 'item_location': 'Pegboard 1'}\n",
      "[LLM OK]: 368a7a823a9d402ba54e899e86afa00e → Pegboard 1\n",
      "LLM RETURNED:\n",
      "368a7a823a9d402ba54e899e86afa00e\n",
      "Pegboard 1\n",
      "******************************************************\n",
      "message =  Pencil Sharpener\n",
      "\n",
      " text =  Pencil Sharpener\n",
      "\n",
      " link items =  []\n"
     ]
    },
    {
     "data": {
      "application/vnd.jupyter.widget-view+json": {
       "model_id": "16ba331f0dfc47c391abd1837dc32af3",
       "version_major": 2,
       "version_minor": 0
      },
      "text/plain": [
       "Batches:   0%|          | 0/1 [00:00<?, ?it/s]"
      ]
     },
     "metadata": {},
     "output_type": "display_data"
    },
    {
     "name": "stdout",
     "output_type": "stream",
     "text": [
      "\n",
      " matches = [{'uuid': '4b8e2a54-245c-4cec-9235-8f31d08ff47e', 'full_name': 'Scissors Sharpener', 'locations': [{'room': 'Main', 'container': 'Cabinet 3', 'specific': 'Shelf 1'}], 'score': 1.0}, {'uuid': 'd38afe7f-81f6-4df5-ac66-93e2be5b8a28', 'full_name': '1/4 to 3.5mm Adapter — Comprehensive Stereo 1/4\" Phone Plug To 3.5mm Stereo Mini Jack Audio Adapter', 'locations': [{'room': 'Studio', 'container': 'Studio 2', 'specific': 'Shelf 4'}], 'score': 0.7928942441940308}, {'uuid': '70ce1155-84d4-4997-b096-0bac96d45505', 'full_name': 'Small Wooden Dowels (1/8\" x 12\")', 'locations': [{'room': 'Main', 'container': 'Cabinet 2', 'specific': 'Shelf 6'}, {'room': 'Cage', 'container': '5d', 'specific': 'Stack 14|-3'}], 'score': 0.7518976330757141}]\n",
      "[LLM RAW][:300]: {\"item_uuid\":\"4b8e2a54-245c-4cec-9235-8f31d08ff47e\",\"item_location\":\"Cabinet 3\"}\n",
      "[LLM PARSED]: {'item_uuid': '4b8e2a54-245c-4cec-9235-8f31d08ff47e', 'item_location': 'Cabinet 3'}\n",
      "[LLM OK]: 4b8e2a54-245c-4cec-9235-8f31d08ff47e → Cabinet 3\n",
      "LLM RETURNED:\n",
      "4b8e2a54-245c-4cec-9235-8f31d08ff47e\n",
      "Cabinet 3\n",
      "******************************************************\n",
      "message =  Backing from embroidery machine\n",
      "\n",
      " text =  Backing from embroidery machine\n",
      "\n",
      " link items =  []\n"
     ]
    },
    {
     "data": {
      "application/vnd.jupyter.widget-view+json": {
       "model_id": "3a2d0da9da4a4f12a5a5878d2106bdc4",
       "version_major": 2,
       "version_minor": 0
      },
      "text/plain": [
       "Batches:   0%|          | 0/1 [00:00<?, ?it/s]"
      ]
     },
     "metadata": {},
     "output_type": "display_data"
    },
    {
     "name": "stdout",
     "output_type": "stream",
     "text": [
      "\n",
      " matches = [{'uuid': '993e8970-a2fd-49ed-9212-187da54e7780', 'full_name': '12pcs Bearing Separator Puller Set', 'locations': [{'room': 'The Crypt', 'container': '2d', 'specific': None}], 'score': 0.6070308089256287}, {'uuid': '3e00df33-2c77-4be9-ad16-81f61734cee6', 'full_name': 'Permanent Fabric Markers', 'locations': [{'room': 'Main', 'container': 'Cabinet 1', 'specific': 'Shelf 6'}, {'room': 'Cage', 'container': '5e', 'specific': '|-3'}], 'score': 0.592904806137085}, {'uuid': '8f8d4979-d146-47dc-98de-23e7557a2213', 'full_name': 'Plastic Scrapers', 'locations': [{'room': 'Main', 'container': 'Cabinet 4', 'specific': 'Shelf 14'}, {'room': 'Cage', 'container': '5c', 'specific': 'Stack 20|-2'}], 'score': 0.587527334690094}]\n",
      "[LLM RAW][:300]: {\"item_uuid\":\"3e00df33-2c77-4be9-ad16-81f61734cee6\",\"item_location\":\"Cabinet 1\"}\n",
      "[LLM PARSED]: {'item_uuid': '3e00df33-2c77-4be9-ad16-81f61734cee6', 'item_location': 'Cabinet 1'}\n",
      "[LLM OK]: 3e00df33-2c77-4be9-ad16-81f61734cee6 → Cabinet 1\n",
      "LLM RETURNED:\n",
      "3e00df33-2c77-4be9-ad16-81f61734cee6\n",
      "Cabinet 1\n",
      "******************************************************\n",
      "message =  Chalk\n",
      "\n",
      " text =  Chalk\n",
      "\n",
      " link items =  []\n"
     ]
    },
    {
     "data": {
      "application/vnd.jupyter.widget-view+json": {
       "model_id": "7d4cfefe51ca42058676bfa6b861195f",
       "version_major": 2,
       "version_minor": 0
      },
      "text/plain": [
       "Batches:   0%|          | 0/1 [00:00<?, ?it/s]"
      ]
     },
     "metadata": {},
     "output_type": "display_data"
    },
    {
     "name": "stdout",
     "output_type": "stream",
     "text": [
      "\n",
      " matches = [{'uuid': '02d79bd7-51d4-413f-b769-92b6011364fa', 'full_name': 'Embroidery Floss', 'locations': [{'room': 'Main', 'container': 'Cabinet 1', 'specific': 'Shelf 9'}, {'room': 'Cage', 'container': '5e', 'specific': '|-3'}], 'score': 0.7730478644371033}, {'uuid': '42c9551d-1e80-4dc9-99ff-5af5bd38d989', 'full_name': 'Big Metal Grommets', 'locations': [{'room': 'Main', 'container': 'Cabinet 9', 'specific': 'Shelf 4'}, {'room': 'Cage', 'container': '5c', 'specific': 'Stack 24|0'}], 'score': 0.7209970951080322}, {'uuid': '5eb1a299-e5db-4151-9e93-2d07a0d9d2b5', 'full_name': 'Digital Soldering Station — Weller WESD51 Digital Soldering Station', 'locations': [{'room': 'Other', 'container': '', 'specific': None}], 'score': 0.5760694146156311}]\n",
      "[LLM RAW][:300]: {\"item_uuid\":\"02d79bd7-51d4-413f-b769-92b6011364fa\",\"item_location\":\"Cabinet 1\"}\n",
      "[LLM PARSED]: {'item_uuid': '02d79bd7-51d4-413f-b769-92b6011364fa', 'item_location': 'Cabinet 1'}\n",
      "[LLM OK]: 02d79bd7-51d4-413f-b769-92b6011364fa → Cabinet 1\n",
      "LLM RETURNED:\n",
      "02d79bd7-51d4-413f-b769-92b6011364fa\n",
      "Cabinet 1\n",
      "******************************************************\n",
      "message =  Rubber bands\n",
      "\n",
      " text =  Rubber bands\n",
      "\n",
      " link items =  []\n"
     ]
    },
    {
     "data": {
      "application/vnd.jupyter.widget-view+json": {
       "model_id": "4aca1939bddf4d3db45c1c45dddc37ee",
       "version_major": 2,
       "version_minor": 0
      },
      "text/plain": [
       "Batches:   0%|          | 0/1 [00:00<?, ?it/s]"
      ]
     },
     "metadata": {},
     "output_type": "display_data"
    },
    {
     "name": "stdout",
     "output_type": "stream",
     "text": [
      "\n",
      " matches = [{'uuid': '3923b5db-d92c-4502-a9f1-babd14c65684', 'full_name': 'Ziploc Plastic Bags (Gallon)', 'locations': [{'room': 'Main', 'container': 'Cabinet 2', 'specific': 'Shelf 2'}, {'room': 'Cage', 'container': '5b', 'specific': '|12'}, {'room': 'Cage', 'container': '8e', 'specific': '|1'}], 'score': 1.0}, {'uuid': 'a8dc7af5-a7b5-4388-9981-c8c84d2a6f3b', 'full_name': 'Miscellaneous Beads', 'locations': [{'room': 'Main', 'container': 'Cabinet 3', 'specific': 'Shelf 14'}], 'score': 0.9008969664573669}, {'uuid': '4681c94c-54be-4cf5-9c31-fe9b1f48c599', 'full_name': 'USB-C to USB-A Adapter', 'locations': [{'room': 'Cage', 'container': '8d', 'specific': ''}], 'score': 0.5946309566497803}]\n",
      "[LLM RAW][:300]: {\"item_uuid\":\"a8dc7af5-a7b5-4388-9981-c8c84d2a6f3b\",\"item_location\":\"Cabinet 3\"}\n",
      "[LLM PARSED]: {'item_uuid': 'a8dc7af5-a7b5-4388-9981-c8c84d2a6f3b', 'item_location': 'Cabinet 3'}\n",
      "[LLM OK]: a8dc7af5-a7b5-4388-9981-c8c84d2a6f3b → Cabinet 3\n",
      "LLM RETURNED:\n",
      "a8dc7af5-a7b5-4388-9981-c8c84d2a6f3b\n",
      "Cabinet 3\n",
      "******************************************************\n",
      "message =  Ribbon of various colors-- we're not out, we just have a lot less than normal\n",
      "\n",
      " text =  Ribbon of various colors-- we're not out, we just have a lot less than normal\n",
      "\n",
      " link items =  []\n"
     ]
    },
    {
     "data": {
      "application/vnd.jupyter.widget-view+json": {
       "model_id": "5c41918baec74fcd96b2a5cbfec80537",
       "version_major": 2,
       "version_minor": 0
      },
      "text/plain": [
       "Batches:   0%|          | 0/1 [00:00<?, ?it/s]"
      ]
     },
     "metadata": {},
     "output_type": "display_data"
    },
    {
     "name": "stdout",
     "output_type": "stream",
     "text": [
      "\n",
      " matches = [{'uuid': '2ebcd326-eeaf-4c72-8254-1fadf4a4d8e0', 'full_name': 'White Ribbon', 'locations': [{'room': 'Main', 'container': 'Cabinet 6', 'specific': 'Shelf 6'}], 'score': 0.7285234928131104}, {'uuid': '2dcbc1b0-649e-4461-9e67-25e0fdd6319b', 'full_name': 'Multicolored Ribbon', 'locations': [{'room': 'Main', 'container': 'Cabinet 6', 'specific': 'Shelf 5'}], 'score': 0.7275324463844299}, {'uuid': 'b2296511-8d2f-4cb7-8165-0e34f7656d5b', 'full_name': 'Red Ribbon', 'locations': [{'room': 'Main', 'container': 'Cabinet 6', 'specific': 'Shelf 1'}], 'score': 0.7133848071098328}]\n",
      "[LLM RAW][:300]: {\"item_uuid\":\"2ebcd326-eeaf-4c72-8254-1fadf4a4d8e0\",\"item_location\":\"Cabinet 6\"}\n",
      "[LLM PARSED]: {'item_uuid': '2ebcd326-eeaf-4c72-8254-1fadf4a4d8e0', 'item_location': 'Cabinet 6'}\n",
      "[LLM OK]: 2ebcd326-eeaf-4c72-8254-1fadf4a4d8e0 → Cabinet 6\n",
      "LLM RETURNED:\n",
      "2ebcd326-eeaf-4c72-8254-1fadf4a4d8e0\n",
      "Cabinet 6\n",
      "******************************************************\n",
      "message =  Ribbon of various colors-- we're not out, we just have a lot less than normal\n",
      "\n",
      " text =  Ribbon of various colors-- we're not out, we just have a lot less than normal\n",
      "\n",
      " link items =  []\n"
     ]
    },
    {
     "data": {
      "application/vnd.jupyter.widget-view+json": {
       "model_id": "6c2cf3bb1a38471daa89aba07fe7e718",
       "version_major": 2,
       "version_minor": 0
      },
      "text/plain": [
       "Batches:   0%|          | 0/1 [00:00<?, ?it/s]"
      ]
     },
     "metadata": {},
     "output_type": "display_data"
    },
    {
     "name": "stdout",
     "output_type": "stream",
     "text": [
      "\n",
      " matches = [{'uuid': '2ebcd326-eeaf-4c72-8254-1fadf4a4d8e0', 'full_name': 'White Ribbon', 'locations': [{'room': 'Main', 'container': 'Cabinet 6', 'specific': 'Shelf 6'}], 'score': 0.7285234928131104}, {'uuid': '2dcbc1b0-649e-4461-9e67-25e0fdd6319b', 'full_name': 'Multicolored Ribbon', 'locations': [{'room': 'Main', 'container': 'Cabinet 6', 'specific': 'Shelf 5'}], 'score': 0.7275324463844299}, {'uuid': 'b2296511-8d2f-4cb7-8165-0e34f7656d5b', 'full_name': 'Red Ribbon', 'locations': [{'room': 'Main', 'container': 'Cabinet 6', 'specific': 'Shelf 1'}], 'score': 0.7133848071098328}]\n",
      "[LLM RAW][:300]: {\"item_uuid\":\"2dcbc1b0-649e-4461-9e67-25e0fdd6319b\",\"item_location\":\"Cabinet 6\"}\n",
      "[LLM PARSED]: {'item_uuid': '2dcbc1b0-649e-4461-9e67-25e0fdd6319b', 'item_location': 'Cabinet 6'}\n",
      "[LLM OK]: 2dcbc1b0-649e-4461-9e67-25e0fdd6319b → Cabinet 6\n",
      "LLM RETURNED:\n",
      "2dcbc1b0-649e-4461-9e67-25e0fdd6319b\n",
      "Cabinet 6\n",
      "******************************************************\n",
      "message =  Magazines\n",
      "\n",
      " text =  Magazines\n",
      "\n",
      " link items =  []\n"
     ]
    },
    {
     "data": {
      "application/vnd.jupyter.widget-view+json": {
       "model_id": "cfba1a7292964ad0a061d7faa2d551db",
       "version_major": 2,
       "version_minor": 0
      },
      "text/plain": [
       "Batches:   0%|          | 0/1 [00:00<?, ?it/s]"
      ]
     },
     "metadata": {},
     "output_type": "display_data"
    },
    {
     "name": "stdout",
     "output_type": "stream",
     "text": [
      "\n",
      " matches = [{'uuid': '8e8c1283-bacd-4fd6-8468-7f6c79b6aa33', 'full_name': 'Printer Paper (White/Colored) — Printer Paper (Letter, 8.5\" x 11\")', 'locations': [{'room': 'Main', 'container': 'Cabinet 7', 'specific': ''}, {'room': 'Backstock', 'container': 'Shelf 4|-3', 'specific': ''}], 'score': 0.6227244138717651}, {'uuid': '2ba8d334-36e0-4d55-98d9-f9696637cc94', 'full_name': 'Spare Soldering Iron Tips', 'locations': [{'room': 'Backstock', 'container': 'Shelf 2', 'specific': None}], 'score': 0.471279114484787}, {'uuid': '0d8cae8d-223b-4cc5-affe-3bdfdd2fa107', 'full_name': 'Loom Thread', 'locations': [{'room': 'The Crypt', 'container': '1e', 'specific': None}], 'score': 0.41815969347953796}]\n",
      "[LLM RAW][:300]: {\"item_uuid\":\"8e8c1283-bacd-4fd6-8468-7f6c79b6aa33\",\"item_location\":\"Cabinet 7\"}\n",
      "[LLM PARSED]: {'item_uuid': '8e8c1283-bacd-4fd6-8468-7f6c79b6aa33', 'item_location': 'Cabinet 7'}\n",
      "[LLM OK]: 8e8c1283-bacd-4fd6-8468-7f6c79b6aa33 → Cabinet 7\n",
      "LLM RETURNED:\n",
      "8e8c1283-bacd-4fd6-8468-7f6c79b6aa33\n",
      "Cabinet 7\n",
      "******************************************************\n",
      "message =  yarn\n",
      "\n",
      " text =  yarn\n",
      "\n",
      " link items =  []\n"
     ]
    },
    {
     "data": {
      "application/vnd.jupyter.widget-view+json": {
       "model_id": "3a496db23f8242b08f2c8e12b08b6d5c",
       "version_major": 2,
       "version_minor": 0
      },
      "text/plain": [
       "Batches:   0%|          | 0/1 [00:00<?, ?it/s]"
      ]
     },
     "metadata": {},
     "output_type": "display_data"
    },
    {
     "name": "stdout",
     "output_type": "stream",
     "text": [
      "\n",
      " matches = [{'uuid': '75793391-42b2-477c-9ac3-95e264a85431', 'full_name': 'Straight Knitting Needles', 'locations': [{'room': 'Main', 'container': 'Cabinet 1', 'specific': 'Shelf 4'}, {'room': 'Cage', 'container': '5c', 'specific': 'Stack 24|-3'}], 'score': 1.0}, {'uuid': '53fa5efd-fd71-41ea-9cfd-588ff1fcadd9', 'full_name': 'Cross stitch books', 'locations': [{'room': 'Main', 'container': 'Fabrics', 'specific': None}], 'score': 0.6875190138816833}, {'uuid': 'c401b4ed-4177-4a62-b708-4a09aa7698ef', 'full_name': 'Embroidery Machine — Brother PE800', 'locations': [{'room': 'Cage', 'container': '3e', 'specific': None}], 'score': 0.6051087379455566}]\n",
      "[LLM RAW][:300]: {\"item_uuid\":\"53fa5efd-fd71-41ea-9cfd-588ff1fcadd9\",\"item_location\":\"Fabric\"}\n",
      "[LLM PARSED]: {'item_uuid': '53fa5efd-fd71-41ea-9cfd-588ff1fcadd9', 'item_location': 'Fabric'}\n",
      "[LLM OK]: 53fa5efd-fd71-41ea-9cfd-588ff1fcadd9 → Fabric\n",
      "LLM RETURNED:\n",
      "53fa5efd-fd71-41ea-9cfd-588ff1fcadd9\n",
      "Fabric\n",
      "******************************************************\n",
      "message =  beading wire\n",
      "\n",
      " text =  beading wire\n",
      "\n",
      " link items =  []\n"
     ]
    },
    {
     "data": {
      "application/vnd.jupyter.widget-view+json": {
       "model_id": "1a3ffa3797fe4c2c9d153e92e741548c",
       "version_major": 2,
       "version_minor": 0
      },
      "text/plain": [
       "Batches:   0%|          | 0/1 [00:00<?, ?it/s]"
      ]
     },
     "metadata": {},
     "output_type": "display_data"
    },
    {
     "name": "stdout",
     "output_type": "stream",
     "text": [
      "\n",
      " matches = [{'uuid': '51d2642b-f83b-4dbd-99a1-60e819969c94', 'full_name': 'Plastic Jewelry Cord', 'locations': [{'room': 'Main', 'container': 'Cabinet 3', 'specific': 'Shelf 4'}, {'room': 'Cage', 'container': '5c', 'specific': 'Stack 27|-2'}], 'score': 0.8372424244880676}, {'uuid': 'f6cd1cd1-1f50-449a-b8e3-9a84936d80f2', 'full_name': 'Thick Black Elastic Band — Sunmns 3 Rolls Sewing Stretch Elastic Band Spool, 3/5, 1, 1-1/2 Inch in Width', 'locations': [{'room': 'Main', 'container': 'Cabinet 1', 'specific': 'Shelf 13'}, {'room': 'Cage', 'container': '5c', 'specific': 'Stack 26|-3'}], 'score': 0.6218982338905334}, {'uuid': 'e782c9e05a22413889ed8b772e6b4cbe', 'full_name': 'Toothpicks', 'locations': [{'room': 'Main', 'container': 'Cabinet 2', 'specific': 'Shelf 9'}, {'room': 'Cage', 'container': '5c', 'specific': 'Stack 17|-3'}], 'score': 0.6056920289993286}]\n",
      "[LLM RAW][:300]: {\"item_uuid\":\"51d2642b-f83b-4dbd-99a1-60e819969c94\",\"item_location\":\"Cabinet 3\"}\n",
      "[LLM PARSED]: {'item_uuid': '51d2642b-f83b-4dbd-99a1-60e819969c94', 'item_location': 'Cabinet 3'}\n",
      "[LLM OK]: 51d2642b-f83b-4dbd-99a1-60e819969c94 → Cabinet 3\n",
      "LLM RETURNED:\n",
      "51d2642b-f83b-4dbd-99a1-60e819969c94\n",
      "Cabinet 3\n",
      "******************************************************\n",
      "message =  Backing Fabric, tear-away: https://www.amazon.com/New-brothread-Machine-Embroidery-Stabilizer/dp/B078KQ2VJS/ref=sr_1_18?crid=2EW1UJZV34JVB&keywords=backing%2Bfabric&qid=1707086118&sprefix=backing%2Bfabri%2Caps%2C253&sr=8-18&th=1\n",
      "\n",
      " text =  Backing Fabric, tear-away:\n",
      "\n",
      " link items =  ['New Brothread Tear Away Machine Embroidery Stabilizer Backing 8\"x8\" - 100 Precut Sheets - Medium Weight 1.8 oz- Fits 4x4 and 6x6 Hoops']\n"
     ]
    },
    {
     "data": {
      "application/vnd.jupyter.widget-view+json": {
       "model_id": "d2034b785ca74dd288c0a483c606aadd",
       "version_major": 2,
       "version_minor": 0
      },
      "text/plain": [
       "Batches:   0%|          | 0/1 [00:00<?, ?it/s]"
      ]
     },
     "metadata": {},
     "output_type": "display_data"
    },
    {
     "name": "stdout",
     "output_type": "stream",
     "text": [
      "\n",
      " matches = [{'uuid': 'e18f5c29-ce4d-4cdf-8ca6-7c4e860e5cc1', 'full_name': 'Ratchet Kit — DEWALT Socket Set', 'locations': [{'room': 'Cage', 'container': '2b', 'specific': None}], 'score': 0.641323447227478}, {'uuid': 'c9d3a0a6-e03e-4fb8-aed5-79d65d43c48f', 'full_name': 'Circular Knitting Needles', 'locations': [{'room': 'Main', 'container': 'Cabinet 1', 'specific': 'Shelf 4'}, {'room': 'Cage', 'container': '5c', 'specific': 'Stack 24|-3'}], 'score': 0.6012178063392639}, {'uuid': '3e00df33-2c77-4be9-ad16-81f61734cee6', 'full_name': 'Permanent Fabric Markers', 'locations': [{'room': 'Main', 'container': 'Cabinet 1', 'specific': 'Shelf 6'}, {'room': 'Cage', 'container': '5e', 'specific': '|-3'}], 'score': 0.5639376044273376}]\n",
      "[LLM RAW][:300]: {\"item_uuid\":\"c9d3a0a6-e03e-4fb8-aed5-79d65d43c48f\",\"item_location\":\"Cabinet 1\"}\n",
      "[LLM PARSED]: {'item_uuid': 'c9d3a0a6-e03e-4fb8-aed5-79d65d43c48f', 'item_location': 'Cabinet 1'}\n",
      "[LLM OK]: c9d3a0a6-e03e-4fb8-aed5-79d65d43c48f → Cabinet 1\n",
      "LLM RETURNED:\n",
      "c9d3a0a6-e03e-4fb8-aed5-79d65d43c48f\n",
      "Cabinet 1\n",
      "******************************************************\n",
      "message =  black sharpies\n",
      "\n",
      " text =  black sharpies\n",
      "\n",
      " link items =  []\n"
     ]
    },
    {
     "data": {
      "application/vnd.jupyter.widget-view+json": {
       "model_id": "0c239daae43445c88ebf33aaaef8e72a",
       "version_major": 2,
       "version_minor": 0
      },
      "text/plain": [
       "Batches:   0%|          | 0/1 [00:00<?, ?it/s]"
      ]
     },
     "metadata": {},
     "output_type": "display_data"
    },
    {
     "name": "stdout",
     "output_type": "stream",
     "text": [
      "\n",
      " matches = [{'uuid': '799b8c13-8980-4ae3-87d4-379479903bf2', 'full_name': 'Popsicle Sticks', 'locations': [{'room': 'Main', 'container': 'Cabinet 2', 'specific': 'Shelf 3'}, {'room': 'Cage', 'container': '5c', 'specific': 'Stack 22|-3'}], 'score': 1.0}, {'uuid': '6cc21e39-8969-4c0e-93d4-66976c312308', 'full_name': 'Colored Sharpies — Rainbow Colored Sharpie Pack', 'locations': [{'room': 'Main', 'container': 'Cabinet 4', 'specific': 'Shelf 1'}, {'room': 'Cage', 'container': '5c', 'specific': 'Stack 10|-3'}], 'score': 0.773857593536377}, {'uuid': '06a20115-5e51-4bfc-992a-b5086d4924ad', 'full_name': 'Push Pins', 'locations': [{'room': 'Main', 'container': 'Cabinet 3', 'specific': 'Shelf 23'}, {'room': 'Cage', 'container': '5c', 'specific': 'Stack 16|-3'}], 'score': 0.7227365970611572}]\n",
      "[LLM RAW][:300]: {\"item_uuid\":\"6cc21e39-8969-4c0e-93d4-66976c312308\",\"item_location\":\"Cabinet 4\"}\n",
      "[LLM PARSED]: {'item_uuid': '6cc21e39-8969-4c0e-93d4-66976c312308', 'item_location': 'Cabinet 4'}\n",
      "[LLM OK]: 6cc21e39-8969-4c0e-93d4-66976c312308 → Cabinet 4\n",
      "LLM RETURNED:\n",
      "6cc21e39-8969-4c0e-93d4-66976c312308\n",
      "Cabinet 4\n",
      "******************************************************\n",
      "message =  packing tape\n",
      "\n",
      " text =  packing tape\n",
      "\n",
      " link items =  []\n"
     ]
    },
    {
     "data": {
      "application/vnd.jupyter.widget-view+json": {
       "model_id": "f39c44e16fb64bd28911b0cd51370c88",
       "version_major": 2,
       "version_minor": 0
      },
      "text/plain": [
       "Batches:   0%|          | 0/1 [00:00<?, ?it/s]"
      ]
     },
     "metadata": {},
     "output_type": "display_data"
    },
    {
     "name": "stdout",
     "output_type": "stream",
     "text": [
      "\n",
      " matches = [{'uuid': '8679f1f7a4144298af27be4fe12fba2d', 'full_name': '3.5 mm Male to XLR Female Cable Short', 'locations': [{'room': 'Studio', 'container': 'Studio 2', 'specific': 'Shelf 8'}], 'score': 1.0}, {'uuid': '3bee8d36-bdd8-464c-808b-37ddc5034752', 'full_name': 'Small Hot Glue Guns', 'locations': [{'room': 'Main', 'container': 'Cabinet 5', 'specific': 'Shelf 2'}, {'room': 'Cage', 'container': '5d', 'specific': 'Stack 5|2'}], 'score': 0.7547040581703186}, {'uuid': '9ea656ed65cc473c912c9a7d989c7e7e', 'full_name': '3.5 mm Male to XLR Male Cable Short', 'locations': [{'room': 'Studio', 'container': 'Studio 2', 'specific': 'Shelf 8'}], 'score': 0.7491455674171448}]\n",
      "[LLM RAW][:300]: {\"item_uuid\":\"3bee8d36-bdd8-464c-808b-37ddc5034752\",\"item_location\":\"Cabinet 5\"}\n",
      "[LLM PARSED]: {'item_uuid': '3bee8d36-bdd8-464c-808b-37ddc5034752', 'item_location': 'Cabinet 5'}\n",
      "[LLM OK]: 3bee8d36-bdd8-464c-808b-37ddc5034752 → Cabinet 5\n",
      "LLM RETURNED:\n",
      "3bee8d36-bdd8-464c-808b-37ddc5034752\n",
      "Cabinet 5\n",
      "******************************************************\n",
      "message =  key rings\n",
      "\n",
      " text =  key rings\n",
      "\n",
      " link items =  []\n"
     ]
    },
    {
     "data": {
      "application/vnd.jupyter.widget-view+json": {
       "model_id": "f29ae92f30a8445c96a9991eb9d2af1f",
       "version_major": 2,
       "version_minor": 0
      },
      "text/plain": [
       "Batches:   0%|          | 0/1 [00:00<?, ?it/s]"
      ]
     },
     "metadata": {},
     "output_type": "display_data"
    },
    {
     "name": "stdout",
     "output_type": "stream",
     "text": [
      "\n",
      " matches = [{'uuid': '2ef826bc-d5aa-480a-a1a6-349be310ed9a', 'full_name': 'Ink Pads', 'locations': [{'room': 'Main', 'container': 'Cabinet 4', 'specific': 'Shelf 17'}, {'room': 'Cage', 'container': '5c', 'specific': 'Stack 20|-3'}], 'score': 1.0000001192092896}, {'uuid': 'c173001b-2d4b-4e24-818c-d3b1ec4b4e83', 'full_name': 'Microphone Stand, Cowboy Studio (w/ Boom Arm)', 'locations': [{'room': 'Studio', 'container': 'Next to A', 'specific': None}], 'score': 0.5714317560195923}, {'uuid': 'e4e624a5-35bf-423d-be22-74941838cf31', 'full_name': 'QR Code Labels', 'locations': [{'room': 'Cage', 'container': '8d', 'specific': ''}], 'score': 0.5712687969207764}]\n",
      "[LLM RAW][:300]: {\"item_uuid\":\"c173001b-2d4b-4e24-818c-d3b1ec4b4e83\",\"item_location\":\"Studio\"}\n",
      "[LLM PARSED]: {'item_uuid': 'c173001b-2d4b-4e24-818c-d3b1ec4b4e83', 'item_location': 'Studio'}\n",
      "[LLM OK]: c173001b-2d4b-4e24-818c-d3b1ec4b4e83 → Studio\n",
      "LLM RETURNED:\n",
      "c173001b-2d4b-4e24-818c-d3b1ec4b4e83\n",
      "Studio\n",
      "******************************************************\n",
      "message =  mini rubber bands-- we used to have them but i don't think it's vital that we get more but thought I'd let you know anyway\n",
      "\n",
      " text =  mini rubber bands-- we used to have them but i don't think it's vital that we get more but thought I'd let you know anyway\n",
      "\n",
      " link items =  []\n"
     ]
    },
    {
     "data": {
      "application/vnd.jupyter.widget-view+json": {
       "model_id": "037ef20df249463f85b8bd92f7f86a52",
       "version_major": 2,
       "version_minor": 0
      },
      "text/plain": [
       "Batches:   0%|          | 0/1 [00:00<?, ?it/s]"
      ]
     },
     "metadata": {},
     "output_type": "display_data"
    },
    {
     "name": "stdout",
     "output_type": "stream",
     "text": [
      "\n",
      " matches = [{'uuid': 'a8dc7af5-a7b5-4388-9981-c8c84d2a6f3b', 'full_name': 'Miscellaneous Beads', 'locations': [{'room': 'Main', 'container': 'Cabinet 3', 'specific': 'Shelf 14'}], 'score': 0.8215376734733582}, {'uuid': '3923b5db-d92c-4502-a9f1-babd14c65684', 'full_name': 'Ziploc Plastic Bags (Gallon)', 'locations': [{'room': 'Main', 'container': 'Cabinet 2', 'specific': 'Shelf 2'}, {'room': 'Cage', 'container': '5b', 'specific': '|12'}, {'room': 'Cage', 'container': '8e', 'specific': '|1'}], 'score': 0.7724899649620056}, {'uuid': '95f8ca3b-f0c6-44f1-9560-e2167472b82f', 'full_name': 'Earring Hooks', 'locations': [{'room': 'Main', 'container': 'Cabinet 3', 'specific': 'Shelf 6'}, {'room': 'Cage', 'container': '5d', 'specific': 'Stack 2|-3'}], 'score': 0.5070810317993164}]\n",
      "[LLM RAW][:300]: {\"item_uuid\":\"a8dc7af5-a7b5-4388-9981-c8c84d2a6f3b\",\"item_location\":\"Cabinet 3\"}\n",
      "[LLM PARSED]: {'item_uuid': 'a8dc7af5-a7b5-4388-9981-c8c84d2a6f3b', 'item_location': 'Cabinet 3'}\n",
      "[LLM OK]: a8dc7af5-a7b5-4388-9981-c8c84d2a6f3b → Cabinet 3\n",
      "LLM RETURNED:\n",
      "a8dc7af5-a7b5-4388-9981-c8c84d2a6f3b\n",
      "Cabinet 3\n",
      "******************************************************\n",
      "message =  Rubber paint roller (brayer) used for printmaking (since the makerspace has fabric paint for printmaking but doesn't seem to have rollers to actually apply it to a printing block)\n",
      "\n",
      "e.g. 2in roller: https://www.amazon.com/Speedball-Products-41271-Rubber-Brayer/dp/B000BYVMEI/ref=sr_1_4?crid=3VVOPYO8J0NO2&keywords=speedball+rubber+brayer&qid=1707421490&sprefix=speedball+rubber+br%2Caps%2C848&sr=8-4 \n",
      "\n",
      "4in roller: https://www.amazon.com/Speedball-Pop-Soft-Rubber-Brayer/dp/B0007ZJ8T2/ref=sr_1_3?crid=3VVOPYO8J0NO2&keywords=speedball+rubber+brayer&qid=1707421490&sprefix=speedball+rubber+br%2Caps%2C848&sr=8-3 \n",
      "\n",
      " text =  Rubber paint roller (brayer) used for printmaking (since the makerspace has fabric paint for printmaking but doesn't seem to have rollers to actually apply it to a printing block)\n",
      "\n",
      "e.g. 2in roller:  \n",
      "\n",
      "4in roller:\n",
      "\n",
      " link items =  ['Speedball Deluxe Soft Rubber Brayer, 2-Inch', 'Speedball Art Products Company 004117 004117 Soft Rubber Brayer']\n"
     ]
    },
    {
     "data": {
      "application/vnd.jupyter.widget-view+json": {
       "model_id": "4ff38ec044094b378124ca28247216ba",
       "version_major": 2,
       "version_minor": 0
      },
      "text/plain": [
       "Batches:   0%|          | 0/1 [00:00<?, ?it/s]"
      ]
     },
     "metadata": {},
     "output_type": "display_data"
    },
    {
     "name": "stdout",
     "output_type": "stream",
     "text": [
      "\n",
      " matches = [{'uuid': '3923b5db-d92c-4502-a9f1-babd14c65684', 'full_name': 'Ziploc Plastic Bags (Gallon)', 'locations': [{'room': 'Main', 'container': 'Cabinet 2', 'specific': 'Shelf 2'}, {'room': 'Cage', 'container': '5b', 'specific': '|12'}, {'room': 'Cage', 'container': '8e', 'specific': '|1'}], 'score': 0.4583558440208435}, {'uuid': 'a8dc7af5-a7b5-4388-9981-c8c84d2a6f3b', 'full_name': 'Miscellaneous Beads', 'locations': [{'room': 'Main', 'container': 'Cabinet 3', 'specific': 'Shelf 14'}], 'score': 0.4417993426322937}, {'uuid': '8bdc201d-a437-4491-b83f-56b931d56c9b', 'full_name': 'Power Source, Lowel LED Light Kit', 'locations': [{'room': 'Studio', 'container': 'Studio 3', 'specific': 'Shelf 2'}], 'score': 0.4231295585632324}]\n",
      "[LLM RAW][:300]: {\"item_uuid\":\"3923b5db-d92c-4502-a9f1-babd14c65684\",\"item_location\":\"Cabinet 2\"}\n",
      "[LLM PARSED]: {'item_uuid': '3923b5db-d92c-4502-a9f1-babd14c65684', 'item_location': 'Cabinet 2'}\n",
      "[LLM OK]: 3923b5db-d92c-4502-a9f1-babd14c65684 → Cabinet 2\n",
      "LLM RETURNED:\n",
      "3923b5db-d92c-4502-a9f1-babd14c65684\n",
      "Cabinet 2\n",
      "******************************************************\n",
      "message =  white cardstock-- idk if it just hasn't come in yet bc i requested this a bit ago and i think it was approved?\n",
      "\n",
      " text =  white cardstock-- idk if it just hasn't come in yet bc i requested this a bit ago and i think it was approved?\n",
      "\n",
      " link items =  []\n"
     ]
    },
    {
     "data": {
      "application/vnd.jupyter.widget-view+json": {
       "model_id": "640e15f464354f5396eef86870934fc4",
       "version_major": 2,
       "version_minor": 0
      },
      "text/plain": [
       "Batches:   0%|          | 0/1 [00:00<?, ?it/s]"
      ]
     },
     "metadata": {},
     "output_type": "display_data"
    },
    {
     "name": "stdout",
     "output_type": "stream",
     "text": [
      "\n",
      " matches = [{'uuid': 'ed208466-304b-4e03-9658-ad1c4edff861', 'full_name': 'Red Cardstock', 'locations': [{'room': 'Main', 'container': 'Cabinet 7', 'specific': ''}, {'room': 'Cage', 'container': '8d', 'specific': ''}], 'score': 0.7494441866874695}, {'uuid': '9d313dcf-ab08-4f47-9284-52d042a02575', 'full_name': 'White Cardstock', 'locations': [{'room': 'Cage', 'container': '', 'specific': ''}], 'score': 0.6163909435272217}, {'uuid': 'eb12a0d6-aba6-4fb4-8c10-75feaba4a9af', 'full_name': '126 Pumpkin Thread', 'locations': [{'room': 'Main', 'container': '', 'specific': ''}], 'score': 0.5625722408294678}]\n",
      "[LLM RAW][:300]: {\"item_uuid\":\"ed208466-304b-4e03-9658-ad1c4edff861\",\"item_location\":\"Cabinet 7\"}\n",
      "[LLM PARSED]: {'item_uuid': 'ed208466-304b-4e03-9658-ad1c4edff861', 'item_location': 'Cabinet 7'}\n",
      "[LLM OK]: ed208466-304b-4e03-9658-ad1c4edff861 → Cabinet 7\n",
      "LLM RETURNED:\n",
      "ed208466-304b-4e03-9658-ad1c4edff861\n",
      "Cabinet 7\n",
      "******************************************************\n",
      "message =  nylon cord\n",
      "\n",
      " text =  nylon cord\n",
      "\n",
      " link items =  []\n"
     ]
    },
    {
     "data": {
      "application/vnd.jupyter.widget-view+json": {
       "model_id": "436b06c257974b748553a40d085be45d",
       "version_major": 2,
       "version_minor": 0
      },
      "text/plain": [
       "Batches:   0%|          | 0/1 [00:00<?, ?it/s]"
      ]
     },
     "metadata": {},
     "output_type": "display_data"
    },
    {
     "name": "stdout",
     "output_type": "stream",
     "text": [
      "\n",
      " matches = [{'uuid': '904663a3-6a18-41bf-a911-57c0089c010a', 'full_name': 'Thick White Elastic Band — Sunmns 3 Rolls Sewing Stretch Elastic Band Spool, 3/5, 1, 1-1/2 Inch in Width', 'locations': [{'room': 'Main', 'container': 'Cabinet 1', 'specific': 'Shelf 13'}, {'room': 'Cage', 'container': '5c', 'specific': 'Stack 26|-1'}], 'score': 0.6606210470199585}, {'uuid': '04583c0b-3754-43f4-8fbe-485d15496f5d', 'full_name': 'Small Embroidery Hoops', 'locations': [{'room': 'Main', 'container': 'Cabinet 1', 'specific': 'Shelf 7'}, {'room': 'Cage', 'container': '5d', 'specific': 'Stack 8|-3'}], 'score': 0.6572302579879761}, {'uuid': '54bba31d-67d9-4c64-9dc5-c5d780efcf34', 'full_name': 'Small Metal Grommets', 'locations': [{'room': 'Main', 'container': 'Cabinet 9', 'specific': 'Shelf 4'}, {'room': 'Cage', 'container': '5c', 'specific': 'Stack 24|1'}], 'score': 0.5632755756378174}]\n",
      "[LLM RAW][:300]: {\"item_uuid\":\"904663a3-6a18-41bf-a911-57c0089c010a\",\"item_location\":\"Cabinet 1\"}\n",
      "[LLM PARSED]: {'item_uuid': '904663a3-6a18-41bf-a911-57c0089c010a', 'item_location': 'Cabinet 1'}\n",
      "[LLM OK]: 904663a3-6a18-41bf-a911-57c0089c010a → Cabinet 1\n",
      "LLM RETURNED:\n",
      "904663a3-6a18-41bf-a911-57c0089c010a\n",
      "Cabinet 1\n",
      "******************************************************\n",
      "message =  Heavy duty velcro\n",
      "\n",
      " text =  Heavy duty velcro\n",
      "\n",
      " link items =  []\n"
     ]
    },
    {
     "data": {
      "application/vnd.jupyter.widget-view+json": {
       "model_id": "ac132d6fa13e40e6923779d7da5fe696",
       "version_major": 2,
       "version_minor": 0
      },
      "text/plain": [
       "Batches:   0%|          | 0/1 [00:00<?, ?it/s]"
      ]
     },
     "metadata": {},
     "output_type": "display_data"
    },
    {
     "name": "stdout",
     "output_type": "stream",
     "text": [
      "\n",
      " matches = [{'uuid': '981b07db-227a-4357-a91e-46e67dcbd4f9', 'full_name': 'Spool Hugging Net — Soft Can Net', 'locations': [{'room': 'Main', 'container': 'Pegboard 1', 'specific': 'J3'}], 'score': 0.8284396529197693}, {'uuid': 'a581d4571721456bb89d254300c192bd', 'full_name': 'Blue Shop Towels', 'locations': [{'room': 'Cage', 'container': '8e', 'specific': None}], 'score': 0.6715684533119202}, {'uuid': 'c7927fa73f7348969e8dba7f62a0430c', 'full_name': 'Heavy Duty Straps', 'locations': [{'room': 'Cage', 'container': '7c', 'specific': None}], 'score': 0.5242602825164795}]\n",
      "[LLM RAW][:300]: {\"item_uuid\":\"981b07db-227a-4357-a91e-46e67dcbd4f9\",\"item_location\":\"Pegboard 1\"}\n",
      "[LLM PARSED]: {'item_uuid': '981b07db-227a-4357-a91e-46e67dcbd4f9', 'item_location': 'Pegboard 1'}\n",
      "[LLM OK]: 981b07db-227a-4357-a91e-46e67dcbd4f9 → Pegboard 1\n",
      "LLM RETURNED:\n",
      "981b07db-227a-4357-a91e-46e67dcbd4f9\n",
      "Pegboard 1\n",
      "******************************************************\n",
      "message =  Tissue Paper\n",
      "\n",
      " text =  Tissue Paper\n",
      "\n",
      " link items =  []\n"
     ]
    },
    {
     "data": {
      "application/vnd.jupyter.widget-view+json": {
       "model_id": "244e1722a75b422b85137b3d9bbf9079",
       "version_major": 2,
       "version_minor": 0
      },
      "text/plain": [
       "Batches:   0%|          | 0/1 [00:00<?, ?it/s]"
      ]
     },
     "metadata": {},
     "output_type": "display_data"
    },
    {
     "name": "stdout",
     "output_type": "stream",
     "text": [
      "\n",
      " matches = [{'uuid': '5eb1a299-e5db-4151-9e93-2d07a0d9d2b5', 'full_name': 'Digital Soldering Station — Weller WESD51 Digital Soldering Station', 'locations': [{'room': 'Other', 'container': '', 'specific': None}], 'score': 0.724712073802948}, {'uuid': 'e558447a-5c0d-4d0a-8997-81067d1e351c', 'full_name': 'Pegboard Hardware', 'locations': [{'room': 'Cage', 'container': 'Pegboard', 'specific': ''}], 'score': 0.7208986282348633}, {'uuid': '5ba97c30-e20c-434e-8753-38d5f7008528', 'full_name': 'Specialty Sewing Machine Needles', 'locations': [{'room': 'Main', 'container': 'Pegboard', 'specific': None}, {'room': 'Cage', 'container': '5e', 'specific': 'Pegboard Bins|-3'}], 'score': 0.6983320713043213}]\n",
      "[LLM RAW][:300]: {\"item_uuid\":\"5eb1a299-e5db-4151-9e93-2d07a0d9d2b5\",\"item_location\":\"Cage/Crypt/Other\"}\n",
      "[LLM PARSED]: {'item_uuid': '5eb1a299-e5db-4151-9e93-2d07a0d9d2b5', 'item_location': 'Cage/Crypt/Other'}\n",
      "[LLM OK]: 5eb1a299-e5db-4151-9e93-2d07a0d9d2b5 → Cage/Crypt/Other\n",
      "LLM RETURNED:\n",
      "5eb1a299-e5db-4151-9e93-2d07a0d9d2b5\n",
      "Cage/Crypt/Other\n",
      "******************************************************\n",
      "message =  double sized tape\n",
      "\n",
      " text =  double sized tape\n",
      "\n",
      " link items =  []\n"
     ]
    },
    {
     "data": {
      "application/vnd.jupyter.widget-view+json": {
       "model_id": "4b3dbbf60d994aab8f087b975b0be058",
       "version_major": 2,
       "version_minor": 0
      },
      "text/plain": [
       "Batches:   0%|          | 0/1 [00:00<?, ?it/s]"
      ]
     },
     "metadata": {},
     "output_type": "display_data"
    },
    {
     "name": "stdout",
     "output_type": "stream",
     "text": [
      "\n",
      " matches = [{'uuid': 'cd81c90cd52e49b79df647fb94d6a113', 'full_name': 'Scotch Tape', 'locations': [{'room': 'Main', 'container': 'Cabinet 5', 'specific': 'Shelf 2'}, {'room': 'Cage', 'container': '5c', 'specific': 'Stack 14|0'}, {'room': 'Cage', 'container': '5c', 'specific': 'Stack 7'}, {'room': 'Cage', 'container': '5c', 'specific': 'Stack 6'}], 'score': 0.8536407947540283}, {'uuid': '078dc875-f8e5-429e-a75b-9f37f6a07ef0', 'full_name': 'LFP9900 Vivid Light Magenta Ink — T636600 UltraChrome HDR 700 ml ', 'locations': [{'room': 'The Crypt', 'container': '3B', 'specific': ''}], 'score': 0.7590546607971191}, {'uuid': '130559d6-7f14-421d-9651-fabad95f27a6', 'full_name': 'Jump Rings', 'locations': [{'room': 'Main', 'container': 'Cabinet 3', 'specific': 'Shelf 9'}, {'room': 'Cage', 'container': '5d', 'specific': 'Stack 3|-2'}], 'score': 0.756446123123169}]\n",
      "[LLM RAW][:300]: {\"item_uuid\":\"cd81c90cd52e49b79df647fb94d6a113\",\"item_location\":\"Cabinet 5\"}\n",
      "[LLM PARSED]: {'item_uuid': 'cd81c90cd52e49b79df647fb94d6a113', 'item_location': 'Cabinet 5'}\n",
      "[LLM OK]: cd81c90cd52e49b79df647fb94d6a113 → Cabinet 5\n",
      "LLM RETURNED:\n",
      "cd81c90cd52e49b79df647fb94d6a113\n",
      "Cabinet 5\n",
      "******************************************************\n",
      "message =  Ethanol refill from chem department\n",
      "\n",
      " text =  Ethanol refill from chem department\n",
      "\n",
      " link items =  []\n"
     ]
    },
    {
     "data": {
      "application/vnd.jupyter.widget-view+json": {
       "model_id": "8c23958175814dfa99d34be9cb2c246c",
       "version_major": 2,
       "version_minor": 0
      },
      "text/plain": [
       "Batches:   0%|          | 0/1 [00:00<?, ?it/s]"
      ]
     },
     "metadata": {},
     "output_type": "display_data"
    },
    {
     "name": "stdout",
     "output_type": "stream",
     "text": [
      "\n",
      " matches = [{'uuid': '97a3db38-e2e6-4e45-99e8-dda69d86f673', 'full_name': 'Compressed Air', 'locations': [{'room': 'Cage', 'container': 'Flammable', 'specific': None}], 'score': 0.6303687691688538}, {'uuid': '945773aa-1825-4e89-b15d-d171f6fcc9d5', 'full_name': 'Glowforge Lantern Kits', 'locations': [{'room': 'The Crypt', 'container': '1b', 'specific': ''}], 'score': 0.45809149742126465}, {'uuid': 'dc432f19-26a5-4349-808a-44f13014aee3', 'full_name': 'Form Resin Cartridge', 'locations': [{'room': 'Laser3D', 'container': 'Cabinet 3', 'specific': ''}], 'score': 0.45805883407592773}]\n",
      "[LLM RAW][:300]: {\"item_uuid\":\"dc432f19-26a5-4349-808a-44f13014aee3\",\"item_location\":\"Cabinet 3\"}\n",
      "[LLM PARSED]: {'item_uuid': 'dc432f19-26a5-4349-808a-44f13014aee3', 'item_location': 'Cabinet 3'}\n",
      "[LLM OK]: dc432f19-26a5-4349-808a-44f13014aee3 → Cabinet 3\n",
      "LLM RETURNED:\n",
      "dc432f19-26a5-4349-808a-44f13014aee3\n",
      "Cabinet 3\n",
      "******************************************************\n",
      "message =  Twine\n",
      "\n",
      " text =  Twine\n",
      "\n",
      " link items =  []\n"
     ]
    },
    {
     "data": {
      "application/vnd.jupyter.widget-view+json": {
       "model_id": "f3ad968e4611480ca4904318cee3930e",
       "version_major": 2,
       "version_minor": 0
      },
      "text/plain": [
       "Batches:   0%|          | 0/1 [00:00<?, ?it/s]"
      ]
     },
     "metadata": {},
     "output_type": "display_data"
    },
    {
     "name": "stdout",
     "output_type": "stream",
     "text": [
      "\n",
      " matches = [{'uuid': '03b85cff-da2c-400d-ad23-f3de1b06a112', 'full_name': 'Quilt Basting Spray ', 'locations': [{'room': 'Main', 'container': 'Cabinet 5', 'specific': 'Shelf 1'}, {'room': 'Cage', 'container': '5d', 'specific': 'Stack 4|1'}], 'score': 1.0}, {'uuid': '0c2560e0-19a9-4e0c-a535-83f64667af68', 'full_name': 'Thread Cutters', 'locations': [{'room': 'Main', 'container': 'Pegboard 1', 'specific': 'E7'}, {'room': 'Cage', 'container': '5c', 'specific': 'Stack 7|13'}], 'score': 0.36960893869400024}, {'uuid': '75793391-42b2-477c-9ac3-95e264a85431', 'full_name': 'Straight Knitting Needles', 'locations': [{'room': 'Main', 'container': 'Cabinet 1', 'specific': 'Shelf 4'}, {'room': 'Cage', 'container': '5c', 'specific': 'Stack 24|-3'}], 'score': 0.3597431778907776}]\n",
      "[LLM RAW][:300]: {\"item_uuid\":\"03b85cff-da2c-400d-ad23-f3de1b06a112\",\"item_location\":\"Cabinet 5\"}\n",
      "[LLM PARSED]: {'item_uuid': '03b85cff-da2c-400d-ad23-f3de1b06a112', 'item_location': 'Cabinet 5'}\n",
      "[LLM OK]: 03b85cff-da2c-400d-ad23-f3de1b06a112 → Cabinet 5\n",
      "LLM RETURNED:\n",
      "03b85cff-da2c-400d-ad23-f3de1b06a112\n",
      "Cabinet 5\n",
      "******************************************************\n",
      "message =  thick elastic\n",
      "\n",
      " text =  thick elastic\n",
      "\n",
      " link items =  []\n"
     ]
    },
    {
     "data": {
      "application/vnd.jupyter.widget-view+json": {
       "model_id": "4f3689c3c6ca4398a647704e2c55a0cc",
       "version_major": 2,
       "version_minor": 0
      },
      "text/plain": [
       "Batches:   0%|          | 0/1 [00:00<?, ?it/s]"
      ]
     },
     "metadata": {},
     "output_type": "display_data"
    },
    {
     "name": "stdout",
     "output_type": "stream",
     "text": [
      "\n",
      " matches = [{'uuid': '66f0f53f-d29a-46aa-9361-f6c330580723', 'full_name': 'Bead Stringing Wire', 'locations': [{'room': 'Main', 'container': 'Cabinet 3', 'specific': 'Shelf 4'}, {'room': 'Cage', 'container': '5c', 'specific': 'Stack 27|-3'}], 'score': 0.608957052230835}, {'uuid': '24331b5e-928d-410a-a9a9-c2252a7f6cd8', 'full_name': 'Earring Studs', 'locations': [{'room': 'Main', 'container': 'Cabinet 3', 'specific': 'Shelf 6'}, {'room': 'Cage', 'container': '5d', 'specific': 'Stack 2|-3'}], 'score': 0.5463699102401733}, {'uuid': 'c8fdf68c-1969-4501-b337-760dc68790aa', 'full_name': 'Plastic Lacing Cord', 'locations': [{'room': 'Main', 'container': 'Cabinet 3', 'specific': 'Shelf 7'}, {'room': 'Cage', 'container': '5c', 'specific': 'Stack 21|-3'}], 'score': 0.5458081364631653}]\n",
      "[LLM RAW][:300]: {\"item_uuid\":\"66f0f53f-d29a-46aa-9361-f6c330580723\",\"item_location\":\"Cabinet 3\"}\n",
      "[LLM PARSED]: {'item_uuid': '66f0f53f-d29a-46aa-9361-f6c330580723', 'item_location': 'Cabinet 3'}\n",
      "[LLM OK]: 66f0f53f-d29a-46aa-9361-f6c330580723 → Cabinet 3\n",
      "LLM RETURNED:\n",
      "66f0f53f-d29a-46aa-9361-f6c330580723\n",
      "Cabinet 3\n",
      "******************************************************\n",
      "message =  I have been using the Dremel sanding kit more grind stone and rough sanding attachments have been all used up and will probably need more soon.\n",
      "\n",
      " text =  I have been using the Dremel sanding kit more grind stone and rough sanding attachments have been all used up and will probably need more soon.\n",
      "\n",
      " link items =  []\n"
     ]
    },
    {
     "data": {
      "application/vnd.jupyter.widget-view+json": {
       "model_id": "6854b83b79834fb48cd0de606c4c542d",
       "version_major": 2,
       "version_minor": 0
      },
      "text/plain": [
       "Batches:   0%|          | 0/1 [00:00<?, ?it/s]"
      ]
     },
     "metadata": {},
     "output_type": "display_data"
    },
    {
     "name": "stdout",
     "output_type": "stream",
     "text": [
      "\n",
      " matches = [{'uuid': '70086c6a-a49e-4faa-b6ae-9df6a1342ebf', 'full_name': 'Loom Bobbins', 'locations': [{'room': 'The Crypt', 'container': '', 'specific': None}], 'score': 0.5422629117965698}, {'uuid': 'aa8721fe-9593-403e-84d1-b29313437730', 'full_name': 'Dremel  — Dremel Stylo+, Versatile Crafting Tool', 'locations': [{'room': 'Cage', 'container': '2c', 'specific': None}], 'score': 0.5298476815223694}, {'uuid': '700a12e4-d3d1-4d95-b8d1-74aa24915d65', 'full_name': 'Leather Scraps (Workshops / Training Only)', 'locations': [{'room': 'Cage', 'container': '7c', 'specific': None}], 'score': 0.48770031332969666}]\n",
      "[LLM RAW][:300]: {\"item_uuid\":\"aa8721fe-9593-403e-84d1-b29313437730\",\"item_location\":\"Cage/Crypt/Other\"}\n",
      "[LLM PARSED]: {'item_uuid': 'aa8721fe-9593-403e-84d1-b29313437730', 'item_location': 'Cage/Crypt/Other'}\n",
      "[LLM OK]: aa8721fe-9593-403e-84d1-b29313437730 → Cage/Crypt/Other\n",
      "LLM RETURNED:\n",
      "aa8721fe-9593-403e-84d1-b29313437730\n",
      "Cage/Crypt/Other\n",
      "******************************************************\n",
      "message =  watercolor paper pads\n",
      "\n",
      " text =  watercolor paper pads\n",
      "\n",
      " link items =  []\n"
     ]
    },
    {
     "data": {
      "application/vnd.jupyter.widget-view+json": {
       "model_id": "b4d0a9cbc11a48e39a6b92bb4dba743f",
       "version_major": 2,
       "version_minor": 0
      },
      "text/plain": [
       "Batches:   0%|          | 0/1 [00:00<?, ?it/s]"
      ]
     },
     "metadata": {},
     "output_type": "display_data"
    },
    {
     "name": "stdout",
     "output_type": "stream",
     "text": [
      "\n",
      " matches = [{'uuid': 'e2c291b9-e151-4028-8752-ed67382af45e', 'full_name': 'Scrap Cardstock Paper', 'locations': [{'room': 'Main', 'container': 'Cabinet 7', 'specific': 'Top'}], 'score': 0.7163151502609253}, {'uuid': '1363dea6-cdca-496b-8f1b-19484a75faa4', 'full_name': 'Small Hot Glue Sticks ', 'locations': [{'room': 'Main', 'container': 'Cabinet 5', 'specific': 'Shelf 2'}, {'room': 'Cage', 'container': '5d', 'specific': 'Stack 5|-1'}], 'score': 0.6759048700332642}, {'uuid': 'e9212e65-c079-4199-9503-2755fbddd488', 'full_name': 'Colored Pencils', 'locations': [{'room': 'Main', 'container': 'Cabinet 4', 'specific': 'Shelf 10'}], 'score': 0.5843276977539062}]\n",
      "[LLM RAW][:300]: {\"item_uuid\":\"e2c291b9-e151-4028-8752-ed67382af45e\",\"item_location\":\"Cabinet 7\"}\n",
      "[LLM PARSED]: {'item_uuid': 'e2c291b9-e151-4028-8752-ed67382af45e', 'item_location': 'Cabinet 7'}\n",
      "[LLM OK]: e2c291b9-e151-4028-8752-ed67382af45e → Cabinet 7\n",
      "LLM RETURNED:\n",
      "e2c291b9-e151-4028-8752-ed67382af45e\n",
      "Cabinet 7\n",
      "******************************************************\n",
      "message =  Sticky notes for the cage\n",
      "\n",
      " text =  Sticky notes for the cage\n",
      "\n",
      " link items =  []\n"
     ]
    },
    {
     "data": {
      "application/vnd.jupyter.widget-view+json": {
       "model_id": "61b10cebb15747d4bfd517e520f1b628",
       "version_major": 2,
       "version_minor": 0
      },
      "text/plain": [
       "Batches:   0%|          | 0/1 [00:00<?, ?it/s]"
      ]
     },
     "metadata": {},
     "output_type": "display_data"
    },
    {
     "name": "stdout",
     "output_type": "stream",
     "text": [
      "\n",
      " matches = [{'uuid': 'ec4d9f05-538a-4501-9461-bae178e5ec87', 'full_name': 'Flashlight', 'locations': [{'room': 'Cage', 'container': '8d', 'specific': 'In Batteries Drawer'}], 'score': 0.7242610454559326}, {'uuid': '28365636-a773-43b9-83f3-d92a77a7e0a9', 'full_name': 'Extra Signage', 'locations': [{'room': 'Cage', 'container': '8d', 'specific': ''}], 'score': 0.40272730588912964}, {'uuid': '1de6fbb3-4f5f-488f-8587-bd6cfaba5a0c', 'full_name': 'Iron Rest Pad', 'locations': [{'room': 'Cage', 'container': '3b', 'specific': ''}], 'score': 0.4026745855808258}]\n",
      "[LLM RAW][:300]: {\"item_uuid\":\"ec4d9f05-538a-4501-9461-bae178e5ec87\",\"item_location\":\"Cage/Crypt/Other\"}\n",
      "[LLM PARSED]: {'item_uuid': 'ec4d9f05-538a-4501-9461-bae178e5ec87', 'item_location': 'Cage/Crypt/Other'}\n",
      "[LLM OK]: ec4d9f05-538a-4501-9461-bae178e5ec87 → Cage/Crypt/Other\n",
      "LLM RETURNED:\n",
      "ec4d9f05-538a-4501-9461-bae178e5ec87\n",
      "Cage/Crypt/Other\n",
      "******************************************************\n",
      "message =  Ink pads\n",
      "\n",
      " text =  Ink pads\n",
      "\n",
      " link items =  []\n"
     ]
    },
    {
     "data": {
      "application/vnd.jupyter.widget-view+json": {
       "model_id": "72ac6eb824164e16b1044d0f3abc5600",
       "version_major": 2,
       "version_minor": 0
      },
      "text/plain": [
       "Batches:   0%|          | 0/1 [00:00<?, ?it/s]"
      ]
     },
     "metadata": {},
     "output_type": "display_data"
    },
    {
     "name": "stdout",
     "output_type": "stream",
     "text": [
      "\n",
      " matches = [{'uuid': '1363dea6-cdca-496b-8f1b-19484a75faa4', 'full_name': 'Small Hot Glue Sticks ', 'locations': [{'room': 'Main', 'container': 'Cabinet 5', 'specific': 'Shelf 2'}, {'room': 'Cage', 'container': '5d', 'specific': 'Stack 5|-1'}], 'score': 1.0}, {'uuid': '0966d572-162a-4f20-9e9d-60b40aa2ad1d', 'full_name': 'Dip Fountain Pens', 'locations': [{'room': 'Main', 'container': 'Cabinet 4', 'specific': 'Shelf 23'}], 'score': 0.6594523787498474}, {'uuid': '2bc7361b-5e83-4d2e-9918-7362eb6b5f58', 'full_name': 'Pumpkin Carving Kit', 'locations': [{'room': 'The Crypt', 'container': '', 'specific': ''}], 'score': 0.6293472647666931}]\n",
      "[LLM RAW][:300]: {\"item_uuid\":\"0966d572-162a-4f20-9e9d-60b40aa2ad1d\",\"item_location\":\"Cabinet 4\"}\n",
      "[LLM PARSED]: {'item_uuid': '0966d572-162a-4f20-9e9d-60b40aa2ad1d', 'item_location': 'Cabinet 4'}\n",
      "[LLM OK]: 0966d572-162a-4f20-9e9d-60b40aa2ad1d → Cabinet 4\n",
      "LLM RETURNED:\n",
      "0966d572-162a-4f20-9e9d-60b40aa2ad1d\n",
      "Cabinet 4\n",
      "******************************************************\n",
      "message =  https://www.amazon.com/Jmkcoz-Springy-Stretch-Knitting-Elastic/dp/B06Y5J5MGC/ref=sr_1_7?crid=2AFNPM3G5SVOA&dib=eyJ2IjoiMSJ9.YWA1mabBgwwq7NccFQ3RzDwVPavlwDmq5B4M4jlzMmayCha4spwqNCxcr5w9CR8BM42R7M6W36u9iyMCzkSKmh9jHr1fOc83cfLNWXSLkXjkc8O_YTxPBgidD1C5tGE6XlbFYiFZo4at0ZRFzxRNGTWyEQvBaFEDw1uu0BShq8Vmpqe78U0lGqV4CTxkG2vxhQLd5VXIiOi5W_Ul8RhiHJVn768SjlGDDwV3JHSZNQlWED8-uS8PtPhccu1gHilSuij6PNosopEsKqCjlIUu3eauXygSbFLP4X3mcSq_KJc.uTBX6XHtbJZZk5kXuCXByoYys50z5Z9HFtDTG98MLpI&dib_tag=se&keywords=1.5%2Binch%2Belastic&qid=1708554632&sprefix=1.5%2Binch%2Belas%2Caps%2C221&sr=8-7&th=1\n",
      "\n",
      " text =  \n",
      "\n",
      " link items =  ['White Springy Stretch Knitting Sewing Elastic Spool Elastic Bands, 1.5 Inch x 11 Yard']\n"
     ]
    },
    {
     "data": {
      "application/vnd.jupyter.widget-view+json": {
       "model_id": "b994eb7e153b48d38593843212397367",
       "version_major": 2,
       "version_minor": 0
      },
      "text/plain": [
       "Batches:   0%|          | 0/1 [00:00<?, ?it/s]"
      ]
     },
     "metadata": {},
     "output_type": "display_data"
    },
    {
     "name": "stdout",
     "output_type": "stream",
     "text": [
      "\n",
      " matches = [{'uuid': '24331b5e-928d-410a-a9a9-c2252a7f6cd8', 'full_name': 'Earring Studs', 'locations': [{'room': 'Main', 'container': 'Cabinet 3', 'specific': 'Shelf 6'}, {'room': 'Cage', 'container': '5d', 'specific': 'Stack 2|-3'}], 'score': 0.7222540378570557}, {'uuid': 'c8fdf68c-1969-4501-b337-760dc68790aa', 'full_name': 'Plastic Lacing Cord', 'locations': [{'room': 'Main', 'container': 'Cabinet 3', 'specific': 'Shelf 7'}, {'room': 'Cage', 'container': '5c', 'specific': 'Stack 21|-3'}], 'score': 0.6888957023620605}, {'uuid': '9f77de86-2a53-4a37-ab84-98e9392395e2', 'full_name': 'Elastic String', 'locations': [{'room': 'Main', 'container': 'Cabinet 3', 'specific': 'Shelf 4'}, {'room': 'Cage', 'container': '5c', 'specific': 'Stack 27|-3'}], 'score': 0.619034469127655}]\n",
      "[LLM RAW][:300]: {\"item_uuid\":\"24331b5e-928d-410a-a9a9-c2252a7f6cd8\",\"item_location\":\"Cabinet 3\"}\n",
      "[LLM PARSED]: {'item_uuid': '24331b5e-928d-410a-a9a9-c2252a7f6cd8', 'item_location': 'Cabinet 3'}\n",
      "[LLM OK]: 24331b5e-928d-410a-a9a9-c2252a7f6cd8 → Cabinet 3\n",
      "LLM RETURNED:\n",
      "24331b5e-928d-410a-a9a9-c2252a7f6cd8\n",
      "Cabinet 3\n",
      "******************************************************\n",
      "message =  Super Glue\n",
      "\n",
      " text =  Super Glue\n",
      "\n",
      " link items =  []\n"
     ]
    },
    {
     "data": {
      "application/vnd.jupyter.widget-view+json": {
       "model_id": "2ec69f162eab40b9a76fc3c23bc548bd",
       "version_major": 2,
       "version_minor": 0
      },
      "text/plain": [
       "Batches:   0%|          | 0/1 [00:00<?, ?it/s]"
      ]
     },
     "metadata": {},
     "output_type": "display_data"
    },
    {
     "name": "stdout",
     "output_type": "stream",
     "text": [
      "\n",
      " matches = [{'uuid': 'afde04e1-4135-496c-903e-dd5a2d4a1334', 'full_name': 'Tacky Glue', 'locations': [{'room': 'Main', 'container': 'Cabinet 5', 'specific': 'Shelf 1'}, {'room': 'Cage', 'container': '5d', 'specific': 'Stack 4|1'}], 'score': 1.0}, {'uuid': 'aa3c06aa-9425-4342-9d80-852fb6a2c4a9', 'full_name': 'Matte Mod Podge', 'locations': [{'room': 'Main', 'container': 'Cabinet 5', 'specific': 'Shelf 1'}, {'room': 'Cage', 'container': '5e', 'specific': ''}], 'score': 0.7436313033103943}, {'uuid': '0662010e-3d64-4111-956c-e1e2703ee704', 'full_name': 'Zippers', 'locations': [{'room': 'Main', 'container': 'Cabinet 1', 'specific': 'Shelf 14'}, {'room': 'Cage', 'container': '5c', 'specific': 'Stack 23|-3'}], 'score': 0.7265117764472961}]\n",
      "[LLM RAW][:300]: {\"item_uuid\":\"afde04e1-4135-496c-903e-dd5a2d4a1334\",\"item_location\":\"Cabinet 5\"}\n",
      "[LLM PARSED]: {'item_uuid': 'afde04e1-4135-496c-903e-dd5a2d4a1334', 'item_location': 'Cabinet 5'}\n",
      "[LLM OK]: afde04e1-4135-496c-903e-dd5a2d4a1334 → Cabinet 5\n",
      "LLM RETURNED:\n",
      "afde04e1-4135-496c-903e-dd5a2d4a1334\n",
      "Cabinet 5\n",
      "******************************************************\n",
      "message =  Polaroid film: https://www.amazon.com/Fujifilm-INSTAX-Instant-Twin-Pack/dp/B00EB4ADQW/ref=sr_1_2?dib=eyJ2IjoiMSJ9.It2-OczFAEFweUavrNsPScWB2XtrK0PFyYVb0K1iwiXd1ZE4qFGB_PS7y9V35MBblXZl4e5p3K4ofablRvBPWWb4U-Qj3TBpW35TTagsmJwUH3lHq8gYq_m90gsXI2He2TTr5YLAqjITLy6_BNjijGy4umry0HsRs_2s6CCGmcaKF890SnG2dkNc8Y40OAdMw8SivIPeUuyzQVOOL3uzyPJX68VBeMV4expFXLwpk7w.KbDizTHd-9h2KoieFJfNZdYUB15fZQVsB6BavDwj2l4&dib_tag=se&keywords=polaroid%2Bfilm&qid=1709237653&sr=8-2&th=1\n",
      "\n",
      "I want this specifically for the workshop department, it will not be available to everyone. We are taking photos of all stewards and staff!\n",
      "\n",
      " text =  Polaroid film: \n",
      "\n",
      "I want this specifically for the workshop department, it will not be available to everyone. We are taking photos of all stewards and staff!\n",
      "\n",
      " link items =  ['FUJIFILM Instax Mini Instant Film Twin Pack (White), 20 photos']\n"
     ]
    },
    {
     "data": {
      "application/vnd.jupyter.widget-view+json": {
       "model_id": "1bbc48fd555e471fbaacafc0104824f8",
       "version_major": 2,
       "version_minor": 0
      },
      "text/plain": [
       "Batches:   0%|          | 0/1 [00:00<?, ?it/s]"
      ]
     },
     "metadata": {},
     "output_type": "display_data"
    },
    {
     "name": "stdout",
     "output_type": "stream",
     "text": [
      "\n",
      " matches = [{'uuid': '11c3a63d-4cab-4ddc-9324-7eb65a736910', 'full_name': 'Battery, Nikon — Nikon EN-EL15c Rechargable Li-ion Battery', 'locations': [{'room': 'Studio', 'container': 'Studio 5', 'specific': 'Shelf 4'}], 'score': 0.39065638184547424}, {'uuid': '968950b4-3cf7-4971-8b62-b362ef89e69b', 'full_name': 'SD Card, Canon M50 Camera Kit — SanDisk Extreme PRO 64 GB', 'locations': [{'room': 'Studio', 'container': 'Studio 5', 'specific': 'Shelf 4'}], 'score': 0.37496358156204224}, {'uuid': 'f47c6de7-97dc-4e8c-a027-3fb86546bc75', 'full_name': 'Battery, Canon C200 — Canon BP-A30, BP-A60', 'locations': [{'room': 'Studio', 'container': 'Studio 5', 'specific': 'Shelf 5'}], 'score': 0.36667436361312866}]\n",
      "[LLM RAW][:300]: {\"item_uuid\":\"11c3a63d-4cab-4ddc-9324-7eb65a736910\",\"item_location\":\"Studio\"}\n",
      "[LLM PARSED]: {'item_uuid': '11c3a63d-4cab-4ddc-9324-7eb65a736910', 'item_location': 'Studio'}\n",
      "[LLM OK]: 11c3a63d-4cab-4ddc-9324-7eb65a736910 → Studio\n",
      "LLM RETURNED:\n",
      "11c3a63d-4cab-4ddc-9324-7eb65a736910\n",
      "Studio\n",
      "******************************************************\n",
      "message =  https://www.amazon.com/Heigble-Cleaning-Detailing-Cleanroom-Automotive/dp/B0CN1CYJK7 Cleaning swabs for the laser cutter and formlabs 3d printer\n",
      "\n",
      " text =  Cleaning swabs for the laser cutter and formlabs 3d printer\n",
      "\n",
      " link items =  ['800 Pcs Foam Tip Cleaning Swab Kit 5 Types Sponge Detailing Swabs Multi Purpose Cleanroom Sponge Stick for Printer Optics Lens Camera Arts Crafts Automotive Detailing, Orange, Blue']\n"
     ]
    },
    {
     "data": {
      "application/vnd.jupyter.widget-view+json": {
       "model_id": "3296eac5265249a0be01cd102280aff4",
       "version_major": 2,
       "version_minor": 0
      },
      "text/plain": [
       "Batches:   0%|          | 0/1 [00:00<?, ?it/s]"
      ]
     },
     "metadata": {},
     "output_type": "display_data"
    },
    {
     "name": "stdout",
     "output_type": "stream",
     "text": [
      "\n",
      " matches = [{'uuid': '33aaf7d02a884ae48700995fc2157d7c', 'full_name': 'Paint Palettes', 'locations': [{'room': 'Main', 'container': 'Cabinet 4', 'specific': 'Shelf 8'}, {'room': 'Cage', 'container': '5d', 'specific': 'Stack 10|-3'}], 'score': 0.6023303270339966}, {'uuid': '09bb2a8bb870464a8e94a89fa3b18425', 'full_name': 'Oil Pastel Sets', 'locations': [{'room': 'Main', 'container': 'Cabinet 4', 'specific': 'Shelf 24'}, {'room': 'Cage', 'container': '5e', 'specific': '|1'}], 'score': 0.5269773006439209}, {'uuid': '427130aa-f570-4cb9-aa5e-e1d3e3b618a9', 'full_name': 'Old PCs', 'locations': [{'room': 'The Crypt', 'container': '2e, 3d, 3e', 'specific': ''}], 'score': 0.5264132022857666}]\n",
      "[LLM RAW][:300]: {\"item_uuid\":\"33aaf7d02a884ae48700995fc2157d7c\",\"item_location\":\"Cabinet 4\"}\n",
      "[LLM PARSED]: {'item_uuid': '33aaf7d02a884ae48700995fc2157d7c', 'item_location': 'Cabinet 4'}\n",
      "[LLM OK]: 33aaf7d02a884ae48700995fc2157d7c → Cabinet 4\n",
      "LLM RETURNED:\n",
      "33aaf7d02a884ae48700995fc2157d7c\n",
      "Cabinet 4\n",
      "******************************************************\n",
      "message =  [URGENT] Large Format Glossy paper roll, from B&H https://www.bhphotovideo.com/c/product/464038-REG/Epson_S042082_Premium_Luster_Photo_Paper.html \n",
      "\n",
      " text =  [URGENT] Large Format Glossy paper roll, from B&H\n",
      "\n",
      " link items =  ['Epson Premium Luster Photo Inkjet Paper (36\" x 100\\' Roll)']\n"
     ]
    },
    {
     "data": {
      "application/vnd.jupyter.widget-view+json": {
       "model_id": "da29ca926d4043a4a521317a57595e4c",
       "version_major": 2,
       "version_minor": 0
      },
      "text/plain": [
       "Batches:   0%|          | 0/1 [00:00<?, ?it/s]"
      ]
     },
     "metadata": {},
     "output_type": "display_data"
    },
    {
     "name": "stdout",
     "output_type": "stream",
     "text": [
      "\n",
      " matches = [{'uuid': 'b15434f3-549a-420e-919e-da8857c99459', 'full_name': 'LFP Matte Paper — Epson Enhanced Matte Inkjet Paper (36\" x 100\\' Roll) for P8000 Large Format Printer', 'locations': [{'room': 'The Crypt', 'container': 'Floor', 'specific': ''}], 'score': 0.789737343788147}, {'uuid': 'd3869e9d-080d-4fc7-b421-6f1f7ef44f76', 'full_name': 'Spare Drill Bits', 'locations': [{'room': 'Backstock', 'container': 'Shelf 2', 'specific': ''}], 'score': 0.7623485326766968}, {'uuid': '6d4e0066-a7be-490d-8f69-1a77e229024b', 'full_name': 'Entrada RagBright Paper 36\"', 'locations': [{'room': 'The Crypt', 'container': '', 'specific': ''}], 'score': 0.7244405746459961}]\n",
      "[LLM RAW][:300]: {\"item_uuid\":\"b15434f3-549a-420e-919e-da8857c99459\",\"item_location\":\"Cage/Crypt/Other\"}\n",
      "[LLM PARSED]: {'item_uuid': 'b15434f3-549a-420e-919e-da8857c99459', 'item_location': 'Cage/Crypt/Other'}\n",
      "[LLM OK]: b15434f3-549a-420e-919e-da8857c99459 → Cage/Crypt/Other\n",
      "LLM RETURNED:\n",
      "b15434f3-549a-420e-919e-da8857c99459\n",
      "Cage/Crypt/Other\n",
      "******************************************************\n",
      "message =  [URGENT] Large Format Vivid Light Magenta ink, from B&H https://www.bhphotovideo.com/c/product/1766008-REG/epson_t55k600_ultrachrome_hd_vivid_light.html\n",
      "\n",
      " text =  [URGENT] Large Format Vivid Light Magenta ink, from B&H\n",
      "\n",
      " link items =  ['Epson T55K600 UltraChrome HD Vivid Light Magenta Ink Cartridge (700ml)']\n"
     ]
    },
    {
     "data": {
      "application/vnd.jupyter.widget-view+json": {
       "model_id": "17e1c4ea687a49448e1135f9943c9709",
       "version_major": 2,
       "version_minor": 0
      },
      "text/plain": [
       "Batches:   0%|          | 0/1 [00:00<?, ?it/s]"
      ]
     },
     "metadata": {},
     "output_type": "display_data"
    },
    {
     "name": "stdout",
     "output_type": "stream",
     "text": [
      "\n",
      " matches = [{'uuid': '5acbf464-624a-40dd-8e5a-123f1f7dbc48', 'full_name': 'LFP8000 Yellow Ink — Epson T55K400 UltraChrome HD Yellow Ink Cartridge (700ml)', 'locations': [{'room': 'The Crypt', 'container': '3', 'specific': ''}], 'score': 0.903555154800415}, {'uuid': 'be3b6628-d093-4757-9c11-bb599e7be6ec', 'full_name': 'LFP8000 Maintenance Box — Replacement Ink Maintenance Tank T699700', 'locations': [{'room': 'The Crypt', 'container': '3', 'specific': ''}], 'score': 0.9023020267486572}, {'uuid': '8a53187d-ad9f-4a31-968c-48291c1dc14c', 'full_name': 'LFP8000 Matte Black Ink — Epson T55K800 UltraChrome HD Matte Black Ink Cartridge (700ml)', 'locations': [{'room': 'The Crypt', 'container': '3', 'specific': ''}], 'score': 0.841467022895813}]\n",
      "[LLM RAW][:300]: {\"item_uuid\":\"5acbf464-624a-40dd-8e5a-123f1f7dbc48\",\"item_location\":\"Cage/Crypt/Other\"}\n",
      "[LLM PARSED]: {'item_uuid': '5acbf464-624a-40dd-8e5a-123f1f7dbc48', 'item_location': 'Cage/Crypt/Other'}\n",
      "[LLM OK]: 5acbf464-624a-40dd-8e5a-123f1f7dbc48 → Cage/Crypt/Other\n",
      "LLM RETURNED:\n",
      "5acbf464-624a-40dd-8e5a-123f1f7dbc48\n",
      "Cage/Crypt/Other\n",
      "******************************************************\n",
      "message =  [URGENT] Large Format Vivid Magenta ink, from B&H https://www.bhphotovideo.com/c/product/1189179-REG/epson_t804300_t804_ultrachrome_hd_vivid.html\n",
      "\n",
      " text =  [URGENT] Large Format Vivid Magenta ink, from B&H\n",
      "\n",
      " link items =  ['Epson T55K300 Replacement for Epson T8043 T804300 | B&H Photo Video']\n"
     ]
    },
    {
     "data": {
      "application/vnd.jupyter.widget-view+json": {
       "model_id": "7ffa847990324089acc2cb03d53b7ffc",
       "version_major": 2,
       "version_minor": 0
      },
      "text/plain": [
       "Batches:   0%|          | 0/1 [00:00<?, ?it/s]"
      ]
     },
     "metadata": {},
     "output_type": "display_data"
    },
    {
     "name": "stdout",
     "output_type": "stream",
     "text": [
      "\n",
      " matches = [{'uuid': '32284614-c770-46ea-967d-28659a58cf66', 'full_name': 'LFP Glossy Paper — Epson Premium Glossy Photo Inkjet Paper 170 (36\" x 100\\' Roll) for P8000 Large Format Printer', 'locations': [{'room': 'The Crypt', 'container': 'Floor', 'specific': ''}], 'score': 0.5918461680412292}, {'uuid': '8a53187d-ad9f-4a31-968c-48291c1dc14c', 'full_name': 'LFP8000 Matte Black Ink — Epson T55K800 UltraChrome HD Matte Black Ink Cartridge (700ml)', 'locations': [{'room': 'The Crypt', 'container': '3', 'specific': ''}], 'score': 0.5604172945022583}, {'uuid': '2f189caf-6f2e-49ef-93a7-014228a5be89', 'full_name': 'EPSON Printer Toner/Ink Cartridge — For the Cage printer', 'locations': [{'room': 'The Crypt', 'container': '3', 'specific': ''}], 'score': 0.5512533187866211}]\n",
      "[LLM RAW][:300]: {\"item_uuid\":\"8a53187d-ad9f-4a31-968c-48291c1dc14c\",\"item_location\":\"Cage/Crypt/Other\"}\n",
      "[LLM PARSED]: {'item_uuid': '8a53187d-ad9f-4a31-968c-48291c1dc14c', 'item_location': 'Cage/Crypt/Other'}\n",
      "[LLM OK]: 8a53187d-ad9f-4a31-968c-48291c1dc14c → Cage/Crypt/Other\n",
      "LLM RETURNED:\n",
      "8a53187d-ad9f-4a31-968c-48291c1dc14c\n",
      "Cage/Crypt/Other\n",
      "******************************************************\n",
      "message =  Hook and eye closure https://www.amazon.com/Bememo-Sewing-Closure-Clothing-Silver/dp/B072FKQ9NW/ref=sr_1_10?crid=11EV77JNV152R&dib=eyJ2IjoiMSJ9.hZRWXHosPIb4z61Lvp-B5W2PHp5mOdC6futCCGIW2plgpcTl5z5HLJo9wN3vqyCamocmMX7hWsg80UY-uaWKHeRzuprjxCoBKApApba_0zRvllEkJtk6BALAgeAd4ygMgo64ElRxHJ5aX9Bt4DIbK5JxGyEEhVK1Jah-nOgwJ7iLPjFYKbHrB3t0gwv9iq6z-q0DkLcLKzH5A7KlfWlMzIBUMEKqA4a3_RbTsjfYPKtzdXS12tuq0bnyYd9uLUU6Zel9dJnyXDYfxeLR56ceh8dvNK4V0l88zc6z1s5vGXg.hVaMqgeIwKFrSeMGCiLTdADFbE57OG2YeWcbvbJz_ys&dib_tag=se&keywords=hook+and+eye+closure&qid=1709248478&sprefix=hook+and+eye+clusre%2Caps%2C139&sr=8-10\n",
      "\n",
      " text =  Hook and eye closure\n",
      "\n",
      " link items =  ['50 Set Sewing Hooks and Eyes Closure for Bra and Clothing, 3 Sizes (Silver and Black)']\n"
     ]
    },
    {
     "data": {
      "application/vnd.jupyter.widget-view+json": {
       "model_id": "62d69fb93fef4bd988954c4137bf7216",
       "version_major": 2,
       "version_minor": 0
      },
      "text/plain": [
       "Batches:   0%|          | 0/1 [00:00<?, ?it/s]"
      ]
     },
     "metadata": {},
     "output_type": "display_data"
    },
    {
     "name": "stdout",
     "output_type": "stream",
     "text": [
      "\n",
      " matches = [{'uuid': '30efbe2e-36be-4ee6-a181-3c5bd3035508', 'full_name': 'Serger books', 'locations': [{'room': 'Main', 'container': 'Fabrics', 'specific': None}], 'score': 0.5752986669540405}, {'uuid': '3b9912ab-b320-4564-8f8d-e5341171c116', 'full_name': 'Adjustable Button Rotary Cutter (1\" - 2.25\") — For cutting paper/fabric as button fronts', 'locations': [{'room': 'Cage', 'container': '1c', 'specific': None}], 'score': 0.5066632032394409}, {'uuid': '14868e71-9eec-4aab-ac73-9ae700dfbde2', 'full_name': 'Plastic Clips', 'locations': [{'room': 'Main', 'container': 'Pegboard 1', 'specific': 'B7'}, {'room': 'Cage', 'container': '5e', 'specific': 'Pegboard Bins|-3'}], 'score': 0.5048930644989014}]\n",
      "[LLM RAW][:300]: {\"item_uuid\":\"14868e71-9eec-4aab-ac73-9ae700dfbde2\",\"item_location\":\"Pegboard 1\"}\n",
      "[LLM PARSED]: {'item_uuid': '14868e71-9eec-4aab-ac73-9ae700dfbde2', 'item_location': 'Pegboard 1'}\n",
      "[LLM OK]: 14868e71-9eec-4aab-ac73-9ae700dfbde2 → Pegboard 1\n",
      "LLM RETURNED:\n",
      "14868e71-9eec-4aab-ac73-9ae700dfbde2\n",
      "Pegboard 1\n",
      "******************************************************\n",
      "message =  metal grommets (but I can't find the grommet tool so maybe that too? some packs come with one)\n",
      "Varying sizes but especially 3/8\"\n",
      "https://www.amazon.com/Grommet-Tool-Kit-Inch-10/dp/B092LFNF8X/ref=sr_1_2?crid=3UE7JCTCDH5WN&dib=eyJ2IjoiMSJ9.Rv-ffOvkPQGBujGiRFSu0QXrOrOZOjzrjmAOfcbjpl1Z4p8jpVB8MwD72kPYNpcftKrujKe-3vr2IlU_bX6_s5sWf-bHRZxV6poX-T5EzK9aG985Y418BMAWY2oMs9_TkC8_2q313TUyuiVU7MMJvgh450mGy1vj1onn0-gDCD1nBMRy3krDHoe86W-CK7xtANyRsUIaIjgwE2Bcu9Nnrz3dtJhRvttShSUnXeRdhDM.db_8wIfPvR95Kfi4cjK4kw8lnBBFdlyjkoYJksSkOls&dib_tag=se&keywords=metal%2Bgrommet&qid=1709248598&sprefix=metal%2Bgrommet%2Caps%2C129&sr=8-2-spons&sp_csd=d2lkZ2V0TmFtZT1zcF9hdGY&th=1\n",
      "\n",
      " text =  metal grommets (but I can't find the grommet tool so maybe that too? some packs come with one)\n",
      "Varying sizes but especially 3/8\"\n",
      "\n",
      " link items =  ['Professional Grommet Tool Kit Includes 1xGrommet Press Tool, 90xMulticolor Grommets, 1xHole Punch, 1xSolid Plastic Block - 3/8 Inch (10mm)']\n"
     ]
    },
    {
     "data": {
      "application/vnd.jupyter.widget-view+json": {
       "model_id": "714e7908ef7a4db48e1a0aa0d0f4988c",
       "version_major": 2,
       "version_minor": 0
      },
      "text/plain": [
       "Batches:   0%|          | 0/1 [00:00<?, ?it/s]"
      ]
     },
     "metadata": {},
     "output_type": "display_data"
    },
    {
     "name": "stdout",
     "output_type": "stream",
     "text": [
      "\n",
      " matches = [{'uuid': '74bd5ad5-6d70-4cc5-88bc-1ff94ca7c513', 'full_name': 'Chalk Pastel Sets', 'locations': [{'room': 'Main', 'container': 'Cabinet 4', 'specific': 'Shelf 24'}, {'room': 'Cage', 'container': '5e', 'specific': '|1'}], 'score': 0.5819056034088135}, {'uuid': '3b6cbb38-c9d4-44d3-9789-cfc9ebda76b0', 'full_name': 'Safety Eyes', 'locations': [{'room': 'Main', 'container': 'Pegboard 1', 'specific': ''}], 'score': 0.5567069053649902}, {'uuid': '9c8c0231-8bd6-47f8-807a-9f3b934cee87', 'full_name': 'Wood Shaver', 'locations': [{'room': 'Main', 'container': 'Cabinet 9', 'specific': 'Shelf 3'}], 'score': 0.4729791581630707}]\n",
      "[LLM RAW][:300]: {\"item_uuid\":\"3b6cbb38-c9d4-44d3-9789-cfc9ebda76b0\",\"item_location\":\"Pegboard 1\"}\n",
      "[LLM PARSED]: {'item_uuid': '3b6cbb38-c9d4-44d3-9789-cfc9ebda76b0', 'item_location': 'Pegboard 1'}\n",
      "[LLM OK]: 3b6cbb38-c9d4-44d3-9789-cfc9ebda76b0 → Pegboard 1\n",
      "LLM RETURNED:\n",
      "3b6cbb38-c9d4-44d3-9789-cfc9ebda76b0\n",
      "Pegboard 1\n",
      "******************************************************\n",
      "message =  need more standard sewing machine needles we are COMPLETELY out!!\n",
      "\n",
      " text =  need more standard sewing machine needles we are COMPLETELY out!!\n",
      "\n",
      " link items =  []\n"
     ]
    },
    {
     "data": {
      "application/vnd.jupyter.widget-view+json": {
       "model_id": "1ef8c1da725d4dbdab1228b47d30fd1d",
       "version_major": 2,
       "version_minor": 0
      },
      "text/plain": [
       "Batches:   0%|          | 0/1 [00:00<?, ?it/s]"
      ]
     },
     "metadata": {},
     "output_type": "display_data"
    },
    {
     "name": "stdout",
     "output_type": "stream",
     "text": [
      "\n",
      " matches = [{'uuid': '9c0a4388-2b40-41c9-994a-0c52af65d802', 'full_name': 'Bias tape — Mandala Crafts Double Fold Bias Tape', 'locations': [{'room': 'Main', 'container': 'Cabinet 1', 'specific': 'Shelf 13'}], 'score': 0.9091084599494934}, {'uuid': '9f127d74-fdb7-4d5b-beda-33ee1030588c', 'full_name': 'Curtain Rings', 'locations': [{'room': 'Main', 'container': 'Pegboard 1', 'specific': 'C5'}, {'room': 'Cage', 'container': '5e', 'specific': 'Pegboard Bins|-3'}], 'score': 0.8880281448364258}, {'uuid': 'd73be226-2872-4449-9d4d-93eed9a427fd', 'full_name': 'Spool Pins', 'locations': [{'room': 'Main', 'container': 'Pegboard 1', 'specific': 'D5'}], 'score': 0.831639289855957}]\n",
      "[LLM RAW][:300]: {\"item_uuid\":\"9c0a4388-2b40-41c9-994a-0c52af65d802\",\"item_location\":\"Cabinet 1\"}\n",
      "[LLM PARSED]: {'item_uuid': '9c0a4388-2b40-41c9-994a-0c52af65d802', 'item_location': 'Cabinet 1'}\n",
      "[LLM OK]: 9c0a4388-2b40-41c9-994a-0c52af65d802 → Cabinet 1\n",
      "LLM RETURNED:\n",
      "9c0a4388-2b40-41c9-994a-0c52af65d802\n",
      "Cabinet 1\n",
      "******************************************************\n",
      "message =  a user requested more cricut vinyl sticker paper, we only have 2 colors right now and are running low\n",
      "\n",
      " text =  a user requested more cricut vinyl sticker paper, we only have 2 colors right now and are running low\n",
      "\n",
      " link items =  []\n"
     ]
    },
    {
     "data": {
      "application/vnd.jupyter.widget-view+json": {
       "model_id": "1aef9c72e0014fd09119419c12f4d812",
       "version_major": 2,
       "version_minor": 0
      },
      "text/plain": [
       "Batches:   0%|          | 0/1 [00:00<?, ?it/s]"
      ]
     },
     "metadata": {},
     "output_type": "display_data"
    },
    {
     "name": "stdout",
     "output_type": "stream",
     "text": [
      "\n",
      " matches = [{'uuid': '28365636-a773-43b9-83f3-d92a77a7e0a9', 'full_name': 'Extra Signage', 'locations': [{'room': 'Cage', 'container': '8d', 'specific': ''}], 'score': 0.5642369389533997}, {'uuid': '6a43aff1-e3a3-4e49-bc7c-fccb7884223b', 'full_name': 'Suede Lace', 'locations': [{'room': 'Main', 'container': 'Cabinet 2', 'specific': 'Shelf 21'}], 'score': 0.4715309739112854}, {'uuid': 'a327a880-8e60-42bc-b584-48a43fef6301', 'full_name': 'Gray Ribbon', 'locations': [{'room': 'Main', 'container': 'Cabinet 6', 'specific': 'Shelf 6'}], 'score': 0.4652624726295471}]\n",
      "[LLM RAW][:300]: {\"item_uuid\":\"6a43aff1-e3a3-4e49-bc7c-fccb7884223b\",\"item_location\":\"Cabinet 2\"}\n",
      "[LLM PARSED]: {'item_uuid': '6a43aff1-e3a3-4e49-bc7c-fccb7884223b', 'item_location': 'Cabinet 2'}\n",
      "[LLM OK]: 6a43aff1-e3a3-4e49-bc7c-fccb7884223b → Cabinet 2\n",
      "LLM RETURNED:\n",
      "6a43aff1-e3a3-4e49-bc7c-fccb7884223b\n",
      "Cabinet 2\n",
      "******************************************************\n",
      "message =  Pencil Sharpener\n",
      "\n",
      " text =  Pencil Sharpener\n",
      "\n",
      " link items =  []\n"
     ]
    },
    {
     "data": {
      "application/vnd.jupyter.widget-view+json": {
       "model_id": "ef67fcd1db044461a99e0eaf9d841a5a",
       "version_major": 2,
       "version_minor": 0
      },
      "text/plain": [
       "Batches:   0%|          | 0/1 [00:00<?, ?it/s]"
      ]
     },
     "metadata": {},
     "output_type": "display_data"
    },
    {
     "name": "stdout",
     "output_type": "stream",
     "text": [
      "\n",
      " matches = [{'uuid': '4b8e2a54-245c-4cec-9235-8f31d08ff47e', 'full_name': 'Scissors Sharpener', 'locations': [{'room': 'Main', 'container': 'Cabinet 3', 'specific': 'Shelf 1'}], 'score': 1.0}, {'uuid': 'd38afe7f-81f6-4df5-ac66-93e2be5b8a28', 'full_name': '1/4 to 3.5mm Adapter — Comprehensive Stereo 1/4\" Phone Plug To 3.5mm Stereo Mini Jack Audio Adapter', 'locations': [{'room': 'Studio', 'container': 'Studio 2', 'specific': 'Shelf 4'}], 'score': 0.7928942441940308}, {'uuid': '70ce1155-84d4-4997-b096-0bac96d45505', 'full_name': 'Small Wooden Dowels (1/8\" x 12\")', 'locations': [{'room': 'Main', 'container': 'Cabinet 2', 'specific': 'Shelf 6'}, {'room': 'Cage', 'container': '5d', 'specific': 'Stack 14|-3'}], 'score': 0.7518976330757141}]\n",
      "[LLM RAW][:300]: {\"item_uuid\":\"4b8e2a54-245c-4cec-9235-8f31d08ff47e\",\"item_location\":\"Cabinet 3\"}\n",
      "[LLM PARSED]: {'item_uuid': '4b8e2a54-245c-4cec-9235-8f31d08ff47e', 'item_location': 'Cabinet 3'}\n",
      "[LLM OK]: 4b8e2a54-245c-4cec-9235-8f31d08ff47e → Cabinet 3\n",
      "LLM RETURNED:\n",
      "4b8e2a54-245c-4cec-9235-8f31d08ff47e\n",
      "Cabinet 3\n",
      "******************************************************\n",
      "message =  Velcro\n",
      "Love the double sided stuff like this https://a.co/d/6mSnN9Z\n",
      "\n",
      " text =  Velcro\n",
      "Love the double sided stuff like this\n",
      "\n",
      " link items =  ['1.2 Inch x 10 Feet Black Strips with Adhesive, Heavy Duty Self Tape, Double Sided Self-Adhesive Tapes, DIY Sticky Strips for Home Office']\n"
     ]
    },
    {
     "data": {
      "application/vnd.jupyter.widget-view+json": {
       "model_id": "d006d32081e04bf383e939b4f49435f9",
       "version_major": 2,
       "version_minor": 0
      },
      "text/plain": [
       "Batches:   0%|          | 0/1 [00:00<?, ?it/s]"
      ]
     },
     "metadata": {},
     "output_type": "display_data"
    },
    {
     "name": "stdout",
     "output_type": "stream",
     "text": [
      "\n",
      " matches = [{'uuid': 'cd81c90cd52e49b79df647fb94d6a113', 'full_name': 'Scotch Tape', 'locations': [{'room': 'Main', 'container': 'Cabinet 5', 'specific': 'Shelf 2'}, {'room': 'Cage', 'container': '5c', 'specific': 'Stack 14|0'}, {'room': 'Cage', 'container': '5c', 'specific': 'Stack 7'}, {'room': 'Cage', 'container': '5c', 'specific': 'Stack 6'}], 'score': 0.47925859689712524}, {'uuid': 'ac5397fa-6667-4f5d-ac81-ce4fc6b5127a', 'full_name': 'Key Tags', 'locations': [{'room': 'Cage', 'container': '8d', 'specific': ''}], 'score': 0.4670872092247009}, {'uuid': '7dd39576-3f22-4584-b613-e4461dfb44ae', 'full_name': 'Glue Dots', 'locations': [{'room': 'Main', 'container': 'Cabinet 5', 'specific': 'Shelf 2'}, {'room': 'Cage', 'container': '8d', 'specific': '|-3'}], 'score': 0.45275089144706726}]\n",
      "[LLM RAW][:300]: {\"item_uuid\":\"cd81c90cd52e49b79df647fb94d6a113\",\"item_location\":\"Cabinet 5\"}\n",
      "[LLM PARSED]: {'item_uuid': 'cd81c90cd52e49b79df647fb94d6a113', 'item_location': 'Cabinet 5'}\n",
      "[LLM OK]: cd81c90cd52e49b79df647fb94d6a113 → Cabinet 5\n",
      "LLM RETURNED:\n",
      "cd81c90cd52e49b79df647fb94d6a113\n",
      "Cabinet 5\n",
      "******************************************************\n",
      "message =  Velcro\n",
      "Love the double sided stuff like this https://a.co/d/6mSnN9Z\n",
      "\n",
      " text =  Velcro\n",
      "Love the double sided stuff like this\n",
      "\n",
      " link items =  ['1.2 Inch x 10 Feet Black Strips with Adhesive, Heavy Duty Self Tape, Double Sided Self-Adhesive Tapes, DIY Sticky Strips for Home Office']\n"
     ]
    },
    {
     "data": {
      "application/vnd.jupyter.widget-view+json": {
       "model_id": "372e106cae554cda8442267bc75ac775",
       "version_major": 2,
       "version_minor": 0
      },
      "text/plain": [
       "Batches:   0%|          | 0/1 [00:00<?, ?it/s]"
      ]
     },
     "metadata": {},
     "output_type": "display_data"
    },
    {
     "name": "stdout",
     "output_type": "stream",
     "text": [
      "\n",
      " matches = [{'uuid': 'cd81c90cd52e49b79df647fb94d6a113', 'full_name': 'Scotch Tape', 'locations': [{'room': 'Main', 'container': 'Cabinet 5', 'specific': 'Shelf 2'}, {'room': 'Cage', 'container': '5c', 'specific': 'Stack 14|0'}, {'room': 'Cage', 'container': '5c', 'specific': 'Stack 7'}, {'room': 'Cage', 'container': '5c', 'specific': 'Stack 6'}], 'score': 0.47925859689712524}, {'uuid': 'ac5397fa-6667-4f5d-ac81-ce4fc6b5127a', 'full_name': 'Key Tags', 'locations': [{'room': 'Cage', 'container': '8d', 'specific': ''}], 'score': 0.4670872092247009}, {'uuid': '7dd39576-3f22-4584-b613-e4461dfb44ae', 'full_name': 'Glue Dots', 'locations': [{'room': 'Main', 'container': 'Cabinet 5', 'specific': 'Shelf 2'}, {'room': 'Cage', 'container': '8d', 'specific': '|-3'}], 'score': 0.45275089144706726}]\n",
      "[LLM RAW][:300]: {\"item_uuid\":\"cd81c90cd52e49b79df647fb94d6a113\",\"item_location\":\"Cabinet 5\"}\n",
      "[LLM PARSED]: {'item_uuid': 'cd81c90cd52e49b79df647fb94d6a113', 'item_location': 'Cabinet 5'}\n",
      "[LLM OK]: cd81c90cd52e49b79df647fb94d6a113 → Cabinet 5\n",
      "LLM RETURNED:\n",
      "cd81c90cd52e49b79df647fb94d6a113\n",
      "Cabinet 5\n",
      "******************************************************\n",
      "message =  Unleaded solder for jewelry making\n",
      "\n",
      " text =  Unleaded solder for jewelry making\n",
      "\n",
      " link items =  []\n"
     ]
    },
    {
     "data": {
      "application/vnd.jupyter.widget-view+json": {
       "model_id": "0ee0ec7b571b4b9ca60214221f684b21",
       "version_major": 2,
       "version_minor": 0
      },
      "text/plain": [
       "Batches:   0%|          | 0/1 [00:00<?, ?it/s]"
      ]
     },
     "metadata": {},
     "output_type": "display_data"
    },
    {
     "name": "stdout",
     "output_type": "stream",
     "text": [
      "\n",
      " matches = [{'uuid': '41ceb944-016b-4e43-9dc5-14e7deebfbe5', 'full_name': 'honing guide', 'locations': [{'room': 'Cage', 'container': 'Cabinet 9', 'specific': 'Shelf 3'}], 'score': 0.7260093688964844}, {'uuid': 'fc93162f1049493693a4e92e833b89d4', 'full_name': 'Vice Grips', 'locations': [{'room': 'Main', 'container': 'Cabinet 11', 'specific': 'Shelf 7'}], 'score': 0.5800144672393799}, {'uuid': '21089a47-8812-4f70-b956-ee24906dd331', 'full_name': 'De-Soldering Pumps', 'locations': [{'room': 'Backstock', 'container': 'Shelf 2', 'specific': None}], 'score': 0.5478566884994507}]\n",
      "[LLM RAW][:300]: {\"item_uuid\":\"41ceb944-016b-4e43-9dc5-14e7deebfbe5\",\"item_location\":\"Cage/Crypt/Other\"}\n",
      "[LLM PARSED]: {'item_uuid': '41ceb944-016b-4e43-9dc5-14e7deebfbe5', 'item_location': 'Cage/Crypt/Other'}\n",
      "[LLM OK]: 41ceb944-016b-4e43-9dc5-14e7deebfbe5 → Cage/Crypt/Other\n",
      "LLM RETURNED:\n",
      "41ceb944-016b-4e43-9dc5-14e7deebfbe5\n",
      "Cage/Crypt/Other\n",
      "******************************************************\n",
      "message =  Swipe card readers https://www.amazon.com/MSR90-Magnetic-Credit-Reader-Deftun/dp/B01DUB4GVO/ref=sr_1_4?crid=2MARN2BMR4OW0&dib=eyJ2IjoiMSJ9.Rh_UO1Mv2fVgNrZv34YXeNA_KYF7VWsDDFAMi2iW-sIjhS-4X401EQyY2xFVdhe6mQGC-ZKlcjuuYZ6SCLX8mUCok8fnbhWIgJ90gabc-wI4EBOgY5zQszdzZJ8-xAUWBtSrF5LYuowwXB8BBlqpb55OCK3t5GoX-1RQA8_EZ346IcP9io3Rx9UbNoOEeWYA_HcU1lKHXup3uWTNlK6KJpPhf2OThcHqS8UxZS5rlpg.8kGjiaVICj6qnJ2W71D3Chsv5m41Nr9V22F-hgFJYSk&dib_tag=se&keywords=magnetic+swipe+card+reader&qid=1709677649&sprefix=magnetic+swipe+card+reade%2Caps%2C178&sr=8-4\n",
      "\n",
      " text =  Swipe card readers\n",
      "\n",
      " link items =  ['MSR90 USB Swipe Magnetic Credit Card Reader 3 Tracks Mini Smart Card Reader MSR605 MSR606 Deftun']\n"
     ]
    },
    {
     "data": {
      "application/vnd.jupyter.widget-view+json": {
       "model_id": "b67d076622d74782af63245aaa2201d9",
       "version_major": 2,
       "version_minor": 0
      },
      "text/plain": [
       "Batches:   0%|          | 0/1 [00:00<?, ?it/s]"
      ]
     },
     "metadata": {},
     "output_type": "display_data"
    },
    {
     "name": "stdout",
     "output_type": "stream",
     "text": [
      "\n",
      " matches = [{'uuid': 'aaec1e37-dff0-491d-b4db-9f5f453d4fa6', 'full_name': 'USB-C SD Card Reader', 'locations': [{'room': 'Cage', 'container': '8d', 'specific': ''}], 'score': 0.5547423958778381}, {'uuid': 'a274a80b-f0d6-4473-8ce6-858a43e83049', 'full_name': 'Whiteboard Cleaner', 'locations': [{'room': 'Cage', 'container': '8e', 'specific': None}], 'score': 0.5296145081520081}, {'uuid': '8536fea5-6b16-4e24-b9ee-1051ef09a314', 'full_name': 'USB-C to HDMI Adapters', 'locations': [{'room': 'Cage', 'container': '8d', 'specific': ''}], 'score': 0.5293458700180054}]\n",
      "[LLM RAW][:300]: {\"item_uuid\":\"aaec1e37-dff0-491d-b4db-9f5f453d4fa6\",\"item_location\":\"Cage/Crypt/Other\"}\n",
      "[LLM PARSED]: {'item_uuid': 'aaec1e37-dff0-491d-b4db-9f5f453d4fa6', 'item_location': 'Cage/Crypt/Other'}\n",
      "[LLM OK]: aaec1e37-dff0-491d-b4db-9f5f453d4fa6 → Cage/Crypt/Other\n",
      "LLM RETURNED:\n",
      "aaec1e37-dff0-491d-b4db-9f5f453d4fa6\n",
      "Cage/Crypt/Other\n",
      "******************************************************\n",
      "message =  Chromecast for TV slideshows and such.\n",
      "\n",
      "https://www.amazon.com/Google-GA00439-US-Chromecast-3rd-Generation/dp/B015UKRNGS/?th=1\n",
      "\n",
      " text =  Chromecast for TV slideshows and such.\n",
      "\n",
      " link items =  ['Google Chromecast - Streaming Device with HDMI Cable - Stream Shows, Music, Photos, and Sports from Your Phone to Your TV']\n"
     ]
    },
    {
     "data": {
      "application/vnd.jupyter.widget-view+json": {
       "model_id": "cceb1a1f4d8b4a769e428cc7d53ce994",
       "version_major": 2,
       "version_minor": 0
      },
      "text/plain": [
       "Batches:   0%|          | 0/1 [00:00<?, ?it/s]"
      ]
     },
     "metadata": {},
     "output_type": "display_data"
    },
    {
     "name": "stdout",
     "output_type": "stream",
     "text": [
      "\n",
      " matches = [{'uuid': '20957239-99f9-4255-8bf2-e6598453c8d4', 'full_name': 'HDMI to HDMI micro Cable', 'locations': [{'room': 'Studio', 'container': 'Cabinet 14', 'specific': 'Shelf 4'}], 'score': 0.43302544951438904}, {'uuid': '7c02d58b-0506-4293-a0dd-9a24cdb985e2', 'full_name': 'VGA Cables', 'locations': [{'room': 'The Crypt', 'container': '1c', 'specific': ''}], 'score': 0.4264521598815918}, {'uuid': 'c1280c10-f2e4-46fb-aa18-6c4511e57491', 'full_name': 'UV Filter, 49 mm', 'locations': [{'room': 'Studio', 'container': 'Studio 5', 'specific': 'Shelf 4'}], 'score': 0.3956308364868164}]\n",
      "[LLM RAW][:300]: {\"item_uuid\":\"20957239-99f9-4255-8bf2-e6598453c8d4\",\"item_location\":\"Cabinet 1\"}\n",
      "[LLM PARSED]: {'item_uuid': '20957239-99f9-4255-8bf2-e6598453c8d4', 'item_location': 'Cabinet 1'}\n",
      "[LLM OK]: 20957239-99f9-4255-8bf2-e6598453c8d4 → Cabinet 1\n",
      "LLM RETURNED:\n",
      "20957239-99f9-4255-8bf2-e6598453c8d4\n",
      "Cabinet 1\n",
      "******************************************************\n",
      "message =  stuffing\n",
      "\n",
      " text =  stuffing\n",
      "\n",
      " link items =  []\n"
     ]
    },
    {
     "data": {
      "application/vnd.jupyter.widget-view+json": {
       "model_id": "55824cae444746b3b2d7547423904463",
       "version_major": 2,
       "version_minor": 0
      },
      "text/plain": [
       "Batches:   0%|          | 0/1 [00:00<?, ?it/s]"
      ]
     },
     "metadata": {},
     "output_type": "display_data"
    },
    {
     "name": "stdout",
     "output_type": "stream",
     "text": [
      "\n",
      " matches = [{'uuid': 'ba1659ce-c279-4031-bc70-f75b4498e9f1', 'full_name': 'Felt Sheets', 'locations': [{'room': 'Main', 'container': 'Fabrics', 'specific': ''}], 'score': 0.43671444058418274}, {'uuid': '5ba97c30-e20c-434e-8753-38d5f7008528', 'full_name': 'Specialty Sewing Machine Needles', 'locations': [{'room': 'Main', 'container': 'Pegboard', 'specific': None}, {'room': 'Cage', 'container': '5e', 'specific': 'Pegboard Bins|-3'}], 'score': 0.43185675144195557}, {'uuid': 'a49434e5-a06f-42b4-ba2b-1e0e0b7a9b33', 'full_name': 'Silicon for Molds', 'locations': [{'room': 'Cage', 'container': '7c', 'specific': None}], 'score': 0.4286463260650635}]\n",
      "[LLM RAW][:300]: {\"item_uuid\":\"ba1659ce-c279-4031-bc70-f75b4498e9f1\",\"item_location\":\"Fabric\"}\n",
      "[LLM PARSED]: {'item_uuid': 'ba1659ce-c279-4031-bc70-f75b4498e9f1', 'item_location': 'Fabric'}\n",
      "[LLM OK]: ba1659ce-c279-4031-bc70-f75b4498e9f1 → Fabric\n",
      "LLM RETURNED:\n",
      "ba1659ce-c279-4031-bc70-f75b4498e9f1\n",
      "Fabric\n",
      "******************************************************\n",
      "message =  8.5\" x 11\" laminating pouches\n",
      "https://www.amazon.com/Scotch-Thermal-Laminating-100-Pack-TP3854-100/dp/B007VBXB48?source=ps-sl-shoppingads-lpcontext&ref_=fplfs&smid=ATVPDKIKX0DER&th=1 \n",
      "\n",
      " text =  8.5\" x 11\" laminating pouches\n",
      "\n",
      " link items =  ['Scotch Thermal Laminating Pouches, for Use with Thermal Laminators, 8.9 x 11.4 Inches, Letter Size Sheets, 100-Pack']\n"
     ]
    },
    {
     "data": {
      "application/vnd.jupyter.widget-view+json": {
       "model_id": "06af0a249d134341a39c511d760b7114",
       "version_major": 2,
       "version_minor": 0
      },
      "text/plain": [
       "Batches:   0%|          | 0/1 [00:00<?, ?it/s]"
      ]
     },
     "metadata": {},
     "output_type": "display_data"
    },
    {
     "name": "stdout",
     "output_type": "stream",
     "text": [
      "\n",
      " matches = [{'uuid': '666279ae-15c8-4257-9a49-b97058051826', 'full_name': 'Printer — EPSON Color Printer', 'locations': [{'room': 'Cage', 'container': '8d', 'specific': None}], 'score': 0.6557621955871582}, {'uuid': 'be13f962-3b93-4dcb-a19f-3279cb527ec0', 'full_name': 'Plastic Sheeting — https://a.co/d/05u8q9V', 'locations': [{'room': 'Cage', 'container': '1a', 'specific': ''}], 'score': 0.6492742896080017}, {'uuid': 'b6cd482a-ea64-4009-ace9-dd8a7982ac18', 'full_name': 'Laminator Sheets (Business Card Size)', 'locations': [{'room': 'Cage', 'container': '1b', 'specific': ''}], 'score': 0.6187900304794312}]\n",
      "[LLM RAW][:300]: {\"item_uuid\":\"b6cd482a-ea64-4009-ace9-dd8a7982ac18\",\"item_location\":\"Cage/Crypt/Other\"}\n",
      "[LLM PARSED]: {'item_uuid': 'b6cd482a-ea64-4009-ace9-dd8a7982ac18', 'item_location': 'Cage/Crypt/Other'}\n",
      "[LLM OK]: b6cd482a-ea64-4009-ace9-dd8a7982ac18 → Cage/Crypt/Other\n",
      "LLM RETURNED:\n",
      "b6cd482a-ea64-4009-ace9-dd8a7982ac18\n",
      "Cage/Crypt/Other\n",
      "******************************************************\n",
      "message =  yarn \n",
      "\n",
      " text =  yarn\n",
      "\n",
      " link items =  []\n"
     ]
    },
    {
     "data": {
      "application/vnd.jupyter.widget-view+json": {
       "model_id": "0babab3c1787478389014b4ef387d7db",
       "version_major": 2,
       "version_minor": 0
      },
      "text/plain": [
       "Batches:   0%|          | 0/1 [00:00<?, ?it/s]"
      ]
     },
     "metadata": {},
     "output_type": "display_data"
    },
    {
     "name": "stdout",
     "output_type": "stream",
     "text": [
      "\n",
      " matches = [{'uuid': '75793391-42b2-477c-9ac3-95e264a85431', 'full_name': 'Straight Knitting Needles', 'locations': [{'room': 'Main', 'container': 'Cabinet 1', 'specific': 'Shelf 4'}, {'room': 'Cage', 'container': '5c', 'specific': 'Stack 24|-3'}], 'score': 1.0}, {'uuid': '53fa5efd-fd71-41ea-9cfd-588ff1fcadd9', 'full_name': 'Cross stitch books', 'locations': [{'room': 'Main', 'container': 'Fabrics', 'specific': None}], 'score': 0.6875190138816833}, {'uuid': 'c401b4ed-4177-4a62-b708-4a09aa7698ef', 'full_name': 'Embroidery Machine — Brother PE800', 'locations': [{'room': 'Cage', 'container': '3e', 'specific': None}], 'score': 0.6051087379455566}]\n",
      "[LLM RAW][:300]: {\"item_uuid\":\"53fa5efd-fd71-41ea-9cfd-588ff1fcadd9\",\"item_location\":\"Fabric\"}\n",
      "[LLM PARSED]: {'item_uuid': '53fa5efd-fd71-41ea-9cfd-588ff1fcadd9', 'item_location': 'Fabric'}\n",
      "[LLM OK]: 53fa5efd-fd71-41ea-9cfd-588ff1fcadd9 → Fabric\n",
      "LLM RETURNED:\n",
      "53fa5efd-fd71-41ea-9cfd-588ff1fcadd9\n",
      "Fabric\n",
      "******************************************************\n",
      "message =  acrylic paint-- https://www.amazon.com/Craft-Smart-Assorted-Non-Toxic-Painting/dp/B0BY3G2CXG/ref=sxin_23_pa_sp_search_thematic_sspa?content-id=amzn1.sym.fec4cac4-4358-4561-8691-81501dd54881%3Aamzn1.sym.fec4cac4-4358-4561-8691-81501dd54881&crid=2KJO3HOVDDK2U&cv_ct_cx=craftsmart+acrylic+paint&dib=eyJ2IjoiMSJ9.3LPm_PMeyE-DCwLt8VoWnQBmn-Ko7HUwF2QKMUQ_qr53FboPX32RgZkM2Wh6_b8-zpOzpnlCS6l1DF3OgpSgZA.N8R2or9VYhqPzAo5sj8Tk4O5X8IX9QabHsXPVAOmWD4&dib_tag=se&keywords=craftsmart+acrylic+paint&pd_rd_i=B0BY3G2CXG&pd_rd_r=14d35115-b332-499d-8175-a633243f870e&pd_rd_w=6wt3t&pd_rd_wg=9O9CQ&pf_rd_p=fec4cac4-4358-4561-8691-81501dd54881&pf_rd_r=9JWEP63TS66ZFRZ3HR3F&qid=1710983004&sbo=RZvfv%2F%2FHxDF%2BO5021pAnSA%3D%3D&sprefix=craftsmart+%2Caps%2C325&sr=1-1-22b99f6c-9d79-4634-962b-718698cdc411-spons&sp_csd=d2lkZ2V0TmFtZT1zcF9zZWFyY2hfdGhlbWF0aWM&psc=1\n",
      "\n",
      " text =  acrylic paint--\n",
      "\n",
      " link items =  ['36 Assorted Acrylic Paint Set by Craft Smart - Non-Toxic Paint for Drawing, Painting, Art & Crafts Supplies - 1 Pack']\n"
     ]
    },
    {
     "data": {
      "application/vnd.jupyter.widget-view+json": {
       "model_id": "d385bea058c844989277f9641d46168c",
       "version_major": 2,
       "version_minor": 0
      },
      "text/plain": [
       "Batches:   0%|          | 0/1 [00:00<?, ?it/s]"
      ]
     },
     "metadata": {},
     "output_type": "display_data"
    },
    {
     "name": "stdout",
     "output_type": "stream",
     "text": [
      "\n",
      " matches = [{'uuid': '963d3749-995b-4bda-a18e-b7b17ca9daf3', 'full_name': 'Pipe Cleaners', 'locations': [{'room': 'Main', 'container': 'Cabinet 2', 'specific': 'Shelf 8'}, {'room': 'Cage', 'container': '5d', 'specific': 'Stack 13|-3'}], 'score': 0.6226261258125305}, {'uuid': 'e4481a23-7e46-4c03-a9e7-1f6203fff2c1', 'full_name': 'White Acrylic Paint', 'locations': [{'room': 'Cage', 'container': '5c', 'specific': 'Stack 21|-3'}], 'score': 0.5635749697685242}, {'uuid': '661bc6f8-63c5-4e2e-9708-37ea19016f0f', 'full_name': 'Black Polyester Thread', 'locations': [{'room': 'Cage', 'container': '5c', 'specific': 'Stack 1'}], 'score': 0.5607544183731079}]\n",
      "[LLM RAW][:300]: {\"item_uuid\":\"e4481a23-7e46-4c03-a9e7-1f6203fff2c1\",\"item_location\":\"Cage/Crypt/Other\"}\n",
      "[LLM PARSED]: {'item_uuid': 'e4481a23-7e46-4c03-a9e7-1f6203fff2c1', 'item_location': 'Cage/Crypt/Other'}\n",
      "[LLM OK]: e4481a23-7e46-4c03-a9e7-1f6203fff2c1 → Cage/Crypt/Other\n",
      "LLM RETURNED:\n",
      "e4481a23-7e46-4c03-a9e7-1f6203fff2c1\n",
      "Cage/Crypt/Other\n",
      "******************************************************\n",
      "message =  USB wifi adapter for 3D Printer computer https://www.amazon.com/wireless-USB-WiFi-Adapter-PC/dp/B07P5PRK7J/ref=sr_1_3?crid=FXNXB4WJY87K&dib=eyJ2IjoiMSJ9.YwE2YRLKxzb-Fniwj0SCkVLxdxikDImWizISbP-AwYWAm6kE8ICwdkvmvPE9DoZ_GtTq0LrUESxLUnXXk9Z-EGxCoJLHHlKdHFgn_6-dXmxkqwLPX2lbDJMxCbZhD7d48JTWpSLI6d8ANo3SG9xzjj4QtwhGg7uqFQQ2MQd4zmkfoM_Dwu5RMn3Y3I2hX3DnBcYPOFuQ4fDegpSr698uyK7q2sgL2Asu9XmPirGQWwY.ERTVMs_HlGKicT2JAKinycDyhiiMZRNEnpQvYRIR8A0&dib_tag=se&keywords=wifi+adapter+for+desktop+pc&qid=1710990277&sprefix=wifi+a%2Caps%2C709&sr=8-3\n",
      "\n",
      " text =  USB wifi adapter for 3D Printer computer\n",
      "\n",
      " link items =  ['TP-Link AC600 USB WiFi Adapter for PC (Archer T2U Plus)- Wireless Network Adapter for Desktop with 2.4GHz, 5GHz High Gain Dual Band 5dBi Antenna, Supports Win11/10/8.1/8/7/XP, Mac OS 10.9-10.14, Black']\n"
     ]
    },
    {
     "data": {
      "application/vnd.jupyter.widget-view+json": {
       "model_id": "709842f94f5c45c896e5716b5e7a9a31",
       "version_major": 2,
       "version_minor": 0
      },
      "text/plain": [
       "Batches:   0%|          | 0/1 [00:00<?, ?it/s]"
      ]
     },
     "metadata": {},
     "output_type": "display_data"
    },
    {
     "name": "stdout",
     "output_type": "stream",
     "text": [
      "\n",
      " matches = [{'uuid': '2a938693-0440-46f0-b48b-8281dc562f4d', 'full_name': 'Plastic Dividers/Folders', 'locations': [{'room': 'Cage', 'container': '8d', 'specific': ''}], 'score': 0.4666612148284912}, {'uuid': 'bdea1c91-c13e-41ce-9e85-4aa2d6690830', 'full_name': 'Glossy Mod Podge Spray', 'locations': [{'room': 'Cage', 'container': 'Flammable', 'specific': ''}], 'score': 0.41412368416786194}, {'uuid': '5fdcf724-53a1-40f0-b21f-d201873fc466', 'full_name': 'Spare Extension Cords', 'locations': [{'room': 'The Crypt', 'container': '1c', 'specific': ''}], 'score': 0.35545194149017334}]\n",
      "[LLM RAW][:300]: {\"item_uuid\":\"2a938693-0440-46f0-b48b-8281dc562f4d\",\"item_location\":\"Cage/Crypt/Other\"}\n",
      "[LLM PARSED]: {'item_uuid': '2a938693-0440-46f0-b48b-8281dc562f4d', 'item_location': 'Cage/Crypt/Other'}\n",
      "[LLM OK]: 2a938693-0440-46f0-b48b-8281dc562f4d → Cage/Crypt/Other\n",
      "LLM RETURNED:\n",
      "2a938693-0440-46f0-b48b-8281dc562f4d\n",
      "Cage/Crypt/Other\n",
      "******************************************************\n",
      "message =  Compressed Air\n",
      "\n",
      " text =  Compressed Air\n",
      "\n",
      " link items =  []\n"
     ]
    },
    {
     "data": {
      "application/vnd.jupyter.widget-view+json": {
       "model_id": "30efb2f3344247618bcd29cd97423a11",
       "version_major": 2,
       "version_minor": 0
      },
      "text/plain": [
       "Batches:   0%|          | 0/1 [00:00<?, ?it/s]"
      ]
     },
     "metadata": {},
     "output_type": "display_data"
    },
    {
     "name": "stdout",
     "output_type": "stream",
     "text": [
      "\n",
      " matches = [{'uuid': 'a46b7ddc-8efe-4da6-b465-7b3dbee44824', 'full_name': 'Dress Form', 'locations': [{'room': 'Cage', 'container': 'Next to Shelf 5', 'specific': None}], 'score': 1.0}, {'uuid': 'e6467bd3-1dc9-4b18-aabb-576b53df4f00', 'full_name': 'Microfiber Cloth', 'locations': [{'room': 'Studio', 'container': 'Studio 5', 'specific': 'Shelf 4'}], 'score': 0.5173434019088745}, {'uuid': 'bafcf95d-658d-4e8a-87ea-f895215f0b5b', 'full_name': 'Skein Winder — Umbrella swift Skein Winder', 'locations': [{'room': 'Main', 'container': 'Fabric', 'specific': ''}], 'score': 0.4914240837097168}]\n",
      "[LLM RAW][:300]: {\"item_uuid\":\"e6467bd3-1dc9-4b18-aabb-576b53df4f00\",\"item_location\":\"Studio\"}\n",
      "[LLM PARSED]: {'item_uuid': 'e6467bd3-1dc9-4b18-aabb-576b53df4f00', 'item_location': 'Studio'}\n",
      "[LLM OK]: e6467bd3-1dc9-4b18-aabb-576b53df4f00 → Studio\n",
      "LLM RETURNED:\n",
      "e6467bd3-1dc9-4b18-aabb-576b53df4f00\n",
      "Studio\n",
      "******************************************************\n",
      "message =  Velcro!  I think you may have ordered some, but we don’t have any of the prickly side, sew in (not stick).  Please order that to match the fuzzy side we have, or better yet get some double sided Velcro!\n",
      "\n",
      " text =  Velcro!  I think you may have ordered some, but we don’t have any of the prickly side, sew in (not stick).  Please order that to match the fuzzy side we have, or better yet get some double sided Velcro!\n",
      "\n",
      " link items =  []\n"
     ]
    },
    {
     "data": {
      "application/vnd.jupyter.widget-view+json": {
       "model_id": "d4251b1a9f1e4bee92d64c0999a13262",
       "version_major": 2,
       "version_minor": 0
      },
      "text/plain": [
       "Batches:   0%|          | 0/1 [00:00<?, ?it/s]"
      ]
     },
     "metadata": {},
     "output_type": "display_data"
    },
    {
     "name": "stdout",
     "output_type": "stream",
     "text": [
      "\n",
      " matches = [{'uuid': '981b07db-227a-4357-a91e-46e67dcbd4f9', 'full_name': 'Spool Hugging Net — Soft Can Net', 'locations': [{'room': 'Main', 'container': 'Pegboard 1', 'specific': 'J3'}], 'score': 0.6185696721076965}, {'uuid': 'ff48ca56-8627-4268-8815-571d5c75707c', 'full_name': 'Spare Fuse Sift Sieve', 'locations': [{'room': 'Laser3D', 'container': 'Cabinet 8', 'specific': ''}], 'score': 0.3862276077270508}, {'uuid': '68609062-5506-4ef2-b595-11f629078ef3', 'full_name': 'Seam Rippers', 'locations': [{'room': 'Main', 'container': 'Pegboard 1', 'specific': 'E5'}, {'room': 'Cage', 'container': '5c', 'specific': 'Stack 7|-3'}], 'score': 0.3806004524230957}]\n",
      "[LLM RAW][:300]: {\"item_uuid\":\"981b07db-227a-4357-a91e-46e67dcbd4f9\",\"item_location\":\"Pegboard 1\"}\n",
      "[LLM PARSED]: {'item_uuid': '981b07db-227a-4357-a91e-46e67dcbd4f9', 'item_location': 'Pegboard 1'}\n",
      "[LLM OK]: 981b07db-227a-4357-a91e-46e67dcbd4f9 → Pegboard 1\n",
      "LLM RETURNED:\n",
      "981b07db-227a-4357-a91e-46e67dcbd4f9\n",
      "Pegboard 1\n",
      "******************************************************\n",
      "message =  Duct Tape. Running low.\n",
      "https://a.co/d/fRJSLcy\n",
      "\n",
      " text =  Duct Tape. Running low.\n",
      "\n",
      " link items =  ['Lockport 5 Pack Duct Tape Heavy Duty Waterproof, Strong Adhesive Silver Duct Tape Bulk for Indoor Outdoor Repairs, Tear by Hand - 30 Yards x 2 Inch']\n"
     ]
    },
    {
     "data": {
      "application/vnd.jupyter.widget-view+json": {
       "model_id": "0e240a7307884aa0b6a6fa3350563b7a",
       "version_major": 2,
       "version_minor": 0
      },
      "text/plain": [
       "Batches:   0%|          | 0/1 [00:00<?, ?it/s]"
      ]
     },
     "metadata": {},
     "output_type": "display_data"
    },
    {
     "name": "stdout",
     "output_type": "stream",
     "text": [
      "\n",
      " matches = [{'uuid': '886a3549-b781-4d63-aee0-3442ca17f207', 'full_name': 'Color Gel Pens', 'locations': [{'room': 'Main', 'container': 'Cabinet 4', 'specific': 'Shelf 13'}], 'score': 0.5766053795814514}, {'uuid': '8679f1f7a4144298af27be4fe12fba2d', 'full_name': '3.5 mm Male to XLR Female Cable Short', 'locations': [{'room': 'Studio', 'container': 'Studio 2', 'specific': 'Shelf 8'}], 'score': 0.5670472383499146}, {'uuid': '68609062-5506-4ef2-b595-11f629078ef3', 'full_name': 'Seam Rippers', 'locations': [{'room': 'Main', 'container': 'Pegboard 1', 'specific': 'E5'}, {'room': 'Cage', 'container': '5c', 'specific': 'Stack 7|-3'}], 'score': 0.5052549242973328}]\n",
      "[LLM RAW][:300]: {\"item_uuid\":\"68609062-5506-4ef2-b595-11f629078ef3\",\"item_location\":\"Pegboard 1\"}\n",
      "[LLM PARSED]: {'item_uuid': '68609062-5506-4ef2-b595-11f629078ef3', 'item_location': 'Pegboard 1'}\n",
      "[LLM OK]: 68609062-5506-4ef2-b595-11f629078ef3 → Pegboard 1\n",
      "LLM RETURNED:\n",
      "68609062-5506-4ef2-b595-11f629078ef3\n",
      "Pegboard 1\n",
      "******************************************************\n",
      "message =  Circuit cutting blade\n",
      "\n",
      " text =  Circuit cutting blade\n",
      "\n",
      " link items =  []\n"
     ]
    },
    {
     "data": {
      "application/vnd.jupyter.widget-view+json": {
       "model_id": "3a52a71bcfcf4a5d8631aef6ef6c4786",
       "version_major": 2,
       "version_minor": 0
      },
      "text/plain": [
       "Batches:   0%|          | 0/1 [00:00<?, ?it/s]"
      ]
     },
     "metadata": {},
     "output_type": "display_data"
    },
    {
     "name": "stdout",
     "output_type": "stream",
     "text": [
      "\n",
      " matches = [{'uuid': '25b8014cb0464c738d9bf39e566020d6', 'full_name': 'Star/Torx Bit Socket Set', 'locations': [{'room': 'Cage', 'container': '2b', 'specific': None}], 'score': 0.6424955129623413}, {'uuid': 'c157a16f-ab60-42e5-82fa-a4c01408eb2c', 'full_name': 'Fabric Tape', 'locations': [{'room': 'Main', 'container': 'Pegboard 1', 'specific': 'G7'}, {'room': 'Cage', 'container': '5e', 'specific': 'Pegboard Bins|1'}], 'score': 0.6075901985168457}, {'uuid': 'd9de25d0-342e-4f14-bc45-09c3d9d9a123', 'full_name': 'More Misc Electronics (Breadboard Circuit Components)', 'locations': [{'room': 'Main', 'container': 'Black Pegboard 2', 'specific': None}], 'score': 0.5891073942184448}]\n",
      "[LLM RAW][:300]: {\"item_uuid\":\"25b8014cb0464c738d9bf39e566020d6\",\"item_location\":\"Cage/Crypt/Other\"}\n",
      "[LLM PARSED]: {'item_uuid': '25b8014cb0464c738d9bf39e566020d6', 'item_location': 'Cage/Crypt/Other'}\n",
      "[LLM OK]: 25b8014cb0464c738d9bf39e566020d6 → Cage/Crypt/Other\n",
      "LLM RETURNED:\n",
      "25b8014cb0464c738d9bf39e566020d6\n",
      "Cage/Crypt/Other\n",
      "******************************************************\n",
      "message =  Fine Point Cricut Blade - the Cut Smart 2 Cricut blade is super dull and keeps ripping my designs! I have to probably carve them by hand with an exacto knife instead... a replacement blade is needed! This dullness basically puts the entire machine out of commission. Target sells the fine point blades, be sure to get the ones that have an angled tip, not a flat/pointy one! The engraving blades probably also work. Thank you!\n",
      "\n",
      " text =  Fine Point Cricut Blade - the Cut Smart 2 Cricut blade is super dull and keeps ripping my designs! I have to probably carve them by hand with an exacto knife instead... a replacement blade is needed! This dullness basically puts the entire machine out of commission. Target sells the fine point blades, be sure to get the ones that have an angled tip, not a flat/pointy one! The engraving blades probably also work. Thank you!\n",
      "\n",
      " link items =  []\n"
     ]
    },
    {
     "data": {
      "application/vnd.jupyter.widget-view+json": {
       "model_id": "f4784689092e4975905ce4647ebd1368",
       "version_major": 2,
       "version_minor": 0
      },
      "text/plain": [
       "Batches:   0%|          | 0/1 [00:00<?, ?it/s]"
      ]
     },
     "metadata": {},
     "output_type": "display_data"
    },
    {
     "name": "stdout",
     "output_type": "stream",
     "text": [
      "\n",
      " matches = [{'uuid': '20cab6ee-ae82-4a5f-83a3-08afdc32780a', 'full_name': 'Spare Cricut Supplies', 'locations': [{'room': 'Cage', 'container': '1d', 'specific': ''}], 'score': 0.7097305655479431}, {'uuid': 'd38afe7f-81f6-4df5-ac66-93e2be5b8a28', 'full_name': '1/4 to 3.5mm Adapter — Comprehensive Stereo 1/4\" Phone Plug To 3.5mm Stereo Mini Jack Audio Adapter', 'locations': [{'room': 'Studio', 'container': 'Studio 2', 'specific': 'Shelf 4'}], 'score': 0.4810563623905182}, {'uuid': 'c157a16f-ab60-42e5-82fa-a4c01408eb2c', 'full_name': 'Fabric Tape', 'locations': [{'room': 'Main', 'container': 'Pegboard 1', 'specific': 'G7'}, {'room': 'Cage', 'container': '5e', 'specific': 'Pegboard Bins|1'}], 'score': 0.47700321674346924}]\n",
      "[LLM RAW][:300]: {\"item_uuid\":\"d38afe7f-81f6-4df5-ac66-93e2be5b8a28\",\"item_location\":\"Studio\"}\n",
      "[LLM PARSED]: {'item_uuid': 'd38afe7f-81f6-4df5-ac66-93e2be5b8a28', 'item_location': 'Studio'}\n",
      "[LLM OK]: d38afe7f-81f6-4df5-ac66-93e2be5b8a28 → Studio\n",
      "LLM RETURNED:\n",
      "d38afe7f-81f6-4df5-ac66-93e2be5b8a28\n",
      "Studio\n",
      "******************************************************\n",
      "message =  Push Pins\n",
      "\n",
      " text =  Push Pins\n",
      "\n",
      " link items =  []\n"
     ]
    },
    {
     "data": {
      "application/vnd.jupyter.widget-view+json": {
       "model_id": "99b3fad491c24fb4846212566d03be67",
       "version_major": 2,
       "version_minor": 0
      },
      "text/plain": [
       "Batches:   0%|          | 0/1 [00:00<?, ?it/s]"
      ]
     },
     "metadata": {},
     "output_type": "display_data"
    },
    {
     "name": "stdout",
     "output_type": "stream",
     "text": [
      "\n",
      " matches = [{'uuid': 'e9feb2bf-0121-420f-afd4-9cd679374ec9', 'full_name': ' Stencils', 'locations': [{'room': 'Main', 'container': 'Cabinet 3', 'specific': 'Shelf 22'}, {'room': 'Backstock', 'container': 'Shelf 2', 'specific': '|11'}], 'score': 1.0}, {'uuid': '845331e3-e000-4cc8-ab0f-76c759eabed3', 'full_name': 'Velcro', 'locations': [{'room': 'Main', 'container': 'Cabinet 1', 'specific': 'Shelf 17'}, {'room': 'Cage', 'container': '5d', 'specific': 'Stack 6|-3'}], 'score': 0.6186231374740601}, {'uuid': '1981b060-de34-4ce1-992d-e9449927a14d', 'full_name': 'Rubber Bands', 'locations': [{'room': 'Main', 'container': 'Cabinet 3', 'specific': 'Shelf 19'}, {'room': 'Cage', 'container': '5d', 'specific': 'Stack 15|-3'}], 'score': 0.5813454389572144}]\n",
      "[LLM RAW][:300]: {\"item_uuid\":\"845331e3-e000-4cc8-ab0f-76c759eabed3\",\"item_location\":\"Cabinet 1\"}\n",
      "[LLM PARSED]: {'item_uuid': '845331e3-e000-4cc8-ab0f-76c759eabed3', 'item_location': 'Cabinet 1'}\n",
      "[LLM OK]: 845331e3-e000-4cc8-ab0f-76c759eabed3 → Cabinet 1\n",
      "LLM RETURNED:\n",
      "845331e3-e000-4cc8-ab0f-76c759eabed3\n",
      "Cabinet 1\n",
      "******************************************************\n",
      "message =  Clothes Pins (multiple sizes)\n",
      "\n",
      " text =  Clothes Pins (multiple sizes)\n",
      "\n",
      " link items =  []\n"
     ]
    },
    {
     "data": {
      "application/vnd.jupyter.widget-view+json": {
       "model_id": "30cc482056314d988293395cd787165e",
       "version_major": 2,
       "version_minor": 0
      },
      "text/plain": [
       "Batches:   0%|          | 0/1 [00:00<?, ?it/s]"
      ]
     },
     "metadata": {},
     "output_type": "display_data"
    },
    {
     "name": "stdout",
     "output_type": "stream",
     "text": [
      "\n",
      " matches = [{'uuid': '0cf4a27348e04cf0bfa24fafbc63238a', 'full_name': 'Cotton Swabs/Q-Tips', 'locations': [{'room': 'Main', 'container': 'Cabinet 2', 'specific': 'Shelf 12'}, {'room': 'Cage', 'container': '5c', 'specific': 'Stack 15|-3'}], 'score': 0.8305842280387878}, {'uuid': '14868e71-9eec-4aab-ac73-9ae700dfbde2', 'full_name': 'Plastic Clips', 'locations': [{'room': 'Main', 'container': 'Pegboard 1', 'specific': 'B7'}, {'room': 'Cage', 'container': '5e', 'specific': 'Pegboard Bins|-3'}], 'score': 0.7117220163345337}, {'uuid': '32819c46-4789-4ce2-8939-d718b141f3e2', 'full_name': 'Small Metal Magnets', 'locations': [{'room': 'Main', 'container': 'Cabinet 2', 'specific': 'Shelf 1'}, {'room': 'Cage', 'container': '5c', 'specific': 'Stack 14|-3'}], 'score': 0.5043660402297974}]\n",
      "[LLM RAW][:300]: {\"item_uuid\":\"14868e71-9eec-4aab-ac73-9ae700dfbde2\",\"item_location\":\"Pegboard 1\"}\n",
      "[LLM PARSED]: {'item_uuid': '14868e71-9eec-4aab-ac73-9ae700dfbde2', 'item_location': 'Pegboard 1'}\n",
      "[LLM OK]: 14868e71-9eec-4aab-ac73-9ae700dfbde2 → Pegboard 1\n",
      "LLM RETURNED:\n",
      "14868e71-9eec-4aab-ac73-9ae700dfbde2\n",
      "Pegboard 1\n",
      "******************************************************\n",
      "message =  crochet hooks https://www.amazon.com/BCMRUN-Aluminum-Crochet-Knitting-Multicolor/dp/B01FMMVML6/ref=sr_1_8?crid=3JOXRDVN4DWAU&dib=eyJ2IjoiMSJ9.cl7VWAPQumHG582f3nMJuTNEVGyyWMH8jRIXrAvLKsYz_DMMfKjGkl48MngAmI2k-LN11ZoeV4QQTwzyKEuZjDS5lBUgEV_fQZX7oSsQd7CLMvtV3Q0fFHcUdhUCYsTBu4P3S8UbtZGhKubzWvHCpOivNPCHg9z0pEL-6B4QOjrtWqHN-NOG4bQc0Vz68V_CEF2mjUpeajKLQGw-zE7HZNfB3R8uCuXfqWkiC2AAGLfGbC2muLwIgjZP4FCY0ir4-sH_DqGcEpc9AztF3v1rFwWTqGnmo9vRKEsIGZsK5bc.RerJHUT6SXdxqpYFhKijGLhFFZmmM62T0D6gFetyYik&dib_tag=se&keywords=crochet+hook&qid=1711578670&sprefix=crochethook%2Caps%2C349&sr=8-8\n",
      "\n",
      " text =  crochet hooks\n",
      "\n",
      " link items =  ['BCMRUN 14 pcs Multicolor Aluminum Crochet Hooks Knitting Needles Craft Yarn 2-10mm …']\n"
     ]
    },
    {
     "data": {
      "application/vnd.jupyter.widget-view+json": {
       "model_id": "8071698981294c04893344fa53e5bae6",
       "version_major": 2,
       "version_minor": 0
      },
      "text/plain": [
       "Batches:   0%|          | 0/1 [00:00<?, ?it/s]"
      ]
     },
     "metadata": {},
     "output_type": "display_data"
    },
    {
     "name": "stdout",
     "output_type": "stream",
     "text": [
      "\n",
      " matches = [{'uuid': '7a1b1cc6-e1b9-4309-8d23-d1521bc64ac5', 'full_name': 'Tweezers', 'locations': [{'room': 'Main', 'container': 'Cabinet 3', 'specific': 'Shelf 3'}, {'room': 'Cage', 'container': '5c', 'specific': 'Stack 5|11'}], 'score': 0.6747016906738281}, {'uuid': 'b3fe8910-1a97-4466-ab4b-5b8cfa0fb0cb', 'full_name': 'Needle Nose Pliers', 'locations': [{'room': 'Main', 'container': 'Cabinet 3', 'specific': 'Shelf 3'}, {'room': 'Main', 'container': 'Cabinet 11', 'specific': 'Shelf 8|2'}, {'room': 'Cage', 'container': '5c', 'specific': 'Stack 12|-2'}], 'score': 0.6700923442840576}, {'uuid': '30efbe2e-36be-4ee6-a181-3c5bd3035508', 'full_name': 'Serger books', 'locations': [{'room': 'Main', 'container': 'Fabrics', 'specific': None}], 'score': 0.6348145008087158}]\n",
      "[LLM RAW][:300]: {\"item_uuid\":\"30efbe2e-36be-4ee6-a181-3c5bd3035508\",\"item_location\":\"Fabric\"}\n",
      "[LLM PARSED]: {'item_uuid': '30efbe2e-36be-4ee6-a181-3c5bd3035508', 'item_location': 'Fabric'}\n",
      "[LLM OK]: 30efbe2e-36be-4ee6-a181-3c5bd3035508 → Fabric\n",
      "LLM RETURNED:\n",
      "30efbe2e-36be-4ee6-a181-3c5bd3035508\n",
      "Fabric\n",
      "******************************************************\n",
      "message =  pipe cleaners https://www.amazon.com/Cleaners-Proffessional-Supplies-Pipecleaners-Decorations/dp/B0B92QDJQ8/ref=sr_1_1_sspa?crid=IFKTBP92SO2O&dib=eyJ2IjoiMSJ9.sdIOMyvLiq6MbTKHg1SbhOn4MoasKOhFKVShTPWPU7FxwGzmRfbvDyk_SrxQu7jD6GPM8KFtrPNWW806RmVrgnYJ6KY32q1_8T8T0_AyVQJmlZWfzzZxJbIPgZRe2JfbbafzN8CowMoW9o-Nd0jv28OfWRt8cmQ1FfbmenHtZRJ-y7fACJgEOZpOMOnp0DSZlFRSBVdB3OdpU6plg0NqsqHxNxA_hr1yhuyqRa1I2sKQcNtULmgXB3jCAp-pmVAkZflC3cbKqQi0KHJChoFYhE3L7hrn3LGecCPnNZgSLEI.YnM-Nbj4eXeGobsK94_z9pYucqBfLxyEd8n3e1gz6-o&dib_tag=se&keywords=pipe+cleaners&qid=1711579273&sprefix=pipe%2Caps%2C263&sr=8-1-spons&sp_csd=d2lkZ2V0TmFtZT1zcF9hdGY&psc=1\n",
      "\n",
      " text =  pipe cleaners\n",
      "\n",
      " link items =  ['Craft Pipe Cleaners Proffessional 1000 Pcs 25 Colors, Pipe Cleaners Craft Supplies and Chenille Stems or Pipecleaners, Pipe Cleaners Bulk, for Crafts, Gift Wrapping and Party Decorations.']\n"
     ]
    },
    {
     "data": {
      "application/vnd.jupyter.widget-view+json": {
       "model_id": "823c327e915a49dd88ad6de064c2c6e7",
       "version_major": 2,
       "version_minor": 0
      },
      "text/plain": [
       "Batches:   0%|          | 0/1 [00:00<?, ?it/s]"
      ]
     },
     "metadata": {},
     "output_type": "display_data"
    },
    {
     "name": "stdout",
     "output_type": "stream",
     "text": [
      "\n",
      " matches = [{'uuid': '0e456011-4f20-408e-b703-7a71670c7a58', 'full_name': 'Key Rings', 'locations': [{'room': 'Main', 'container': 'Cabinet 3', 'specific': 'Shelf 9'}, {'room': 'Cage', 'container': '5c', 'specific': 'Stack 4|-3'}], 'score': 0.636974573135376}, {'uuid': '6c3513b2-a217-41e7-92fe-3ad664e1c0df', 'full_name': 'Allen Keys', 'locations': [{'room': 'Main', 'container': 'Cabinet 11', 'specific': 'Shelf 4'}], 'score': 0.47819751501083374}, {'uuid': '427130aa-f570-4cb9-aa5e-e1d3e3b618a9', 'full_name': 'Old PCs', 'locations': [{'room': 'The Crypt', 'container': '2e, 3d, 3e', 'specific': ''}], 'score': 0.46007636189460754}]\n",
      "[LLM RAW][:300]: {\"item_uuid\":\"0e456011-4f20-408e-b703-7a71670c7a58\",\"item_location\":\"Cabinet 3\"}\n",
      "[LLM PARSED]: {'item_uuid': '0e456011-4f20-408e-b703-7a71670c7a58', 'item_location': 'Cabinet 3'}\n",
      "[LLM OK]: 0e456011-4f20-408e-b703-7a71670c7a58 → Cabinet 3\n",
      "LLM RETURNED:\n",
      "0e456011-4f20-408e-b703-7a71670c7a58\n",
      "Cabinet 3\n",
      "******************************************************\n",
      "message =  This might be a bit overkill so feel free to use your discretion-- these are just the ones I like. Most of them were on sale and I tried to keep them under $8/yd so if they're no longer under that then they're probably not worth buying.\n",
      "https://www.joann.com/dark-teal-overlap-circles-quilt-cotton-fabric-by-quilters-showcase/17310038.html\n",
      "https://www.joann.com/dotted-swirls-on-blue-quilt-cotton-fabric-by-quilters-showcase/19426055.html\n",
      "https://www.joann.com/purple-watercolor-batik-cotton-fabric/19515121.html\n",
      "https://www.joann.com/navy-green-moons-batik-metallic-cotton-fabric/18621482.html\n",
      "https://www.joann.com/purple-petal-swirls-batik-cotton-fabric/19775709.html\n",
      "https://www.joann.com/scrolls-on-lime-quilt-cotton-fabric-by-quilters-showcase/17139122.html\n",
      "https://www.joann.com/daisy-outline-on-purple-quilt-cotton-fabric-by-quilters-showcase/19134055.html\n",
      "https://www.joann.com/squiggle-lines-on-tan-quilt-cotton-fabric-by-quilters-showcase/18778860.html\n",
      "https://www.joann.com/white-ferns-on-gray-quilt-cotton-fabric-by-quilters-showcase/18671289.html\n",
      "https://www.joann.com/cats-on-pink-jersey-knit-fabric-by-pop/19789759.html\n",
      "https://www.joann.com/blue-yellow-swirls-quilt-cotton-fabric-by-keepsake-calico/17500513.html\n",
      "https://www.joann.com/tropical-multi-black-batik-cotton-fabric/19078351.html\n",
      "https://www.joann.com/purple-blender-quilt-cotton-fabric-by-keepsake-calico/19226380.html\n",
      "https://www.joann.com/pastel-floral-quilt-cotton-fabric-by-keepsake-calico/17946419.html\n",
      "https://www.joann.com/blue-cherry-blossoms-quilt-cotton-fabric-by-keepsake-calico/17922428.html\n",
      "https://www.joann.com/gold-ditsy-floral-quilt-foil-cotton-fabric-by-keepsake-calico/18796995.html\n",
      "https://www.joann.com/floral-on-green-cotton-fabric-by-keepsake-calico/19805423.html\n",
      "https://www.joann.com/pastel-spring-plaid-bias-easter-cotton-fabric/16298572.html\n",
      "https://www.joann.com/happy-woodland-animals-super-snuggle-flannel-fabric/18162990.html\n",
      "https://www.joann.com/ouija-board-super-snuggle-flannel-fabric/18162578.html\n",
      "https://www.joann.com/fabric-traditions-keepsake-calico-wild-wisteria-cotton-fabric/17181462.html\n",
      "https://www.joann.com/pink-magic-halloween-cotton-fabric/18283432.html\n",
      "https://www.joann.com/space-icons-on-pink-anti-pill-fleece-fabric-by-pop/19431733.html\n",
      "https://www.joann.com/winter-animals-on-navy-anti-pill-fleece-fabric/18838813.html\n",
      "https://www.joann.com/celestial-zodiac-anti-pill-fleece-fabric/16993875.html\n",
      "https://www.joann.com/beige-cracked-ice-tonal-cotton-fabric-by-keepsake-calico/19759703.html\n",
      "https://www.joann.com/beige-eifel-postage-cotton-canvas-fabric/19505445.html\n",
      "https://www.joann.com/borboleta-indigo-cotton-canvas-home-decor-fabric/16613903.html\n",
      "https://www.joann.com/lochmere-palm-cotton-canvas-home-decor-fabric/16648768.html\n",
      "https://www.joann.com/flourish-on-brown-blender-quilt-cotton-fabric-by-keepsake-calico/16679326.html\n",
      "https://www.joann.com/the-bear-and-fox-novelty-cotton-fabric/19332303.html\n",
      "https://www.joann.com/hi-fashion-bees-lavender-black-premium-cotton-fabric/19767607.html\n",
      "https://www.joann.com/floral-on-black-premium-metallic-cotton-fabric/19431139.html\n",
      "https://www.joann.com/star-gazing-galaxy-blue-premium-cotton-fabric/19140466.html\n",
      "\n",
      "\n",
      "\n",
      " text =  This might be a bit overkill so feel free to use your discretion-- these are just the ones I like. Most of them were on sale and I tried to keep them under $8/yd so if they're no longer under that then they're probably not worth buying.\n",
      "\n",
      " link items =  []\n"
     ]
    },
    {
     "data": {
      "application/vnd.jupyter.widget-view+json": {
       "model_id": "6a385529795647e78f923f146880b24e",
       "version_major": 2,
       "version_minor": 0
      },
      "text/plain": [
       "Batches:   0%|          | 0/1 [00:00<?, ?it/s]"
      ]
     },
     "metadata": {},
     "output_type": "display_data"
    },
    {
     "name": "stdout",
     "output_type": "stream",
     "text": [
      "\n",
      " matches = [{'uuid': '1bae0937-2d13-4db1-a512-30f791489bd1', 'full_name': 'Craft Paper', 'locations': [{'room': 'Main', 'container': 'near lockers', 'specific': ''}, {'room': 'The Crypt', 'container': 'Floor', 'specific': '|1'}], 'score': 0.33474475145339966}, {'uuid': 'd6faacc3-6fc5-46cd-8d57-6324f7c859a9', 'full_name': 'Plywood Stock', 'locations': [{'room': 'Outdoor Storage', 'container': 'Blue stock rack', 'specific': None}], 'score': 0.30893728137016296}, {'uuid': 'f7c85716-4ac0-4c0f-b4e4-d226db1e3093', 'full_name': 'Spare Multimeter Probes', 'locations': [{'room': 'Cage', 'container': '2b', 'specific': None}], 'score': 0.2938430607318878}]\n",
      "[LLM RAW][:300]: {\"item_uuid\":\"1bae0937-2d13-4db1-a512-30f791489bd1\",\"item_location\":\"Cage/Crypt/Other\"}\n",
      "[LLM PARSED]: {'item_uuid': '1bae0937-2d13-4db1-a512-30f791489bd1', 'item_location': 'Cage/Crypt/Other'}\n",
      "[LLM OK]: 1bae0937-2d13-4db1-a512-30f791489bd1 → Cage/Crypt/Other\n",
      "LLM RETURNED:\n",
      "1bae0937-2d13-4db1-a512-30f791489bd1\n",
      "Cage/Crypt/Other\n",
      "******************************************************\n",
      "message =  origami paper (we pretty much only have yellow origami paper for some reason?)-- https://www.amazon.com/Origami-Paper-sheets-Chiyogami-Patterns/dp/0804849234/ref=sr_1_6?crid=3QDRY1ZAW6AN4&dib=eyJ2IjoiMSJ9.bKWCEzbw6PtRJj5TujoBreFVtQIXrqwlIGUl9wFCzAL_KiHESiaBivqBUO_NfOYDrpw4b0I3BHU4BjRkoJVMLt0CLuT23CjIxSch9onMd2odf2KJPriNI0rAMU5Pmo8P545No3epVVsZbRlNhHsCLj-GtR-XtHIsg9ddyahwv5mk-f5yjCmZOewD6cKM_c2wmnrcWljwIcUgO52StQqbGgd6K1DDl4exzGo5ALN-BagD2RBhNhI7yBJBPR01G_p3yNArTAfDqqWtP1bMpdTaHkhgU6QL3x-lWFfAfsHzTXQ.YlWiKPs2kxoK-gzBrehifCnQJXh02TS1X2gFzKx0ILI&dib_tag=se&keywords=origami+paper&qid=1711685378&sprefix=oragami%2Caps%2C233&sr=8-6\n",
      "https://www.amazon.com/Origami-Paper-sheets-Vibrant-Colors/dp/0804849366/ref=sr_1_31?dib=eyJ2IjoiMSJ9.bKWCEzbw6PtRJj5TujoBreFVtQIXrqwlIGUl9wFCzAL_KiHESiaBivqBUO_NfOYDrpw4b0I3BHU4BjRkoJVMLt0CLuT23CjIxSch9onMd2odf2KJPriNI0rAMU5Pmo8P545No3epVVsZbRlNhHsCLj-GtR-XtHIsg9ddyahwv5mk-f5yjCmZOewD6cKM_c2wmnrcWljwIcUgO52StQqbGgd6K1DDl4exzGo5ALN-BagD2RBhNhI7yBJBPR01G_p3yNArTAfDqqWtP1bMpdTaHkhgU6QL3x-lWFfAfsHzTXQ.YlWiKPs2kxoK-gzBrehifCnQJXh02TS1X2gFzKx0ILI&dib_tag=se&keywords=origami+paper&qid=1711685457&sr=8-31\n",
      "\n",
      " text =  origami paper (we pretty much only have yellow origami paper for some reason?)--\n",
      "\n",
      " link items =  ['Origami Paper 500 sheets Chiyogami Patterns 6\" 15cm: Tuttle Origami Paper: Double-Sided Origami Sheets Printed with 12 Different Designs (Instructions for 6 Projects Included)', 'Origami Paper 500 sheets Vibrant Colors 6\" (15 cm): Tuttle Origami Paper: Double-Sided Origami Sheets Printed with 12 Different Designs (Instructions for 6 Projects Included)']\n"
     ]
    },
    {
     "data": {
      "application/vnd.jupyter.widget-view+json": {
       "model_id": "439cace10c7e4ddfb8fcf25dbea6d631",
       "version_major": 2,
       "version_minor": 0
      },
      "text/plain": [
       "Batches:   0%|          | 0/1 [00:00<?, ?it/s]"
      ]
     },
     "metadata": {},
     "output_type": "display_data"
    },
    {
     "name": "stdout",
     "output_type": "stream",
     "text": [
      "\n",
      " matches = [{'uuid': '6b7668ad-0499-441c-b797-719a39d66999', 'full_name': 'Seaweed Salad', 'locations': [{'room': 'Other', 'container': 'Refrigerator', 'specific': ''}], 'score': 0.7671107649803162}, {'uuid': '77a4bf40-182a-4ef9-8049-b9247c599207', 'full_name': 'Stapler', 'locations': [{'room': 'Main', 'container': 'Cabinet 3', 'specific': 'Shelf 16'}], 'score': 0.6741780042648315}, {'uuid': 'be13f962-3b93-4dcb-a19f-3279cb527ec0', 'full_name': 'Plastic Sheeting — https://a.co/d/05u8q9V', 'locations': [{'room': 'Cage', 'container': '1a', 'specific': ''}], 'score': 0.5720081925392151}]\n",
      "[LLM RAW][:300]: {\"item_uuid\":\"77a4bf40-182a-4ef9-8049-b9247c599207\",\"item_location\":\"Cabinet 3\"}\n",
      "[LLM PARSED]: {'item_uuid': '77a4bf40-182a-4ef9-8049-b9247c599207', 'item_location': 'Cabinet 3'}\n",
      "[LLM OK]: 77a4bf40-182a-4ef9-8049-b9247c599207 → Cabinet 3\n",
      "LLM RETURNED:\n",
      "77a4bf40-182a-4ef9-8049-b9247c599207\n",
      "Cabinet 3\n",
      "******************************************************\n",
      "message =  Small Cardstock 8.5 x 11in\n",
      "\n",
      " text =  Small Cardstock 8.5 x 11in\n",
      "\n",
      " link items =  []\n"
     ]
    },
    {
     "data": {
      "application/vnd.jupyter.widget-view+json": {
       "model_id": "fd6865fb30ec41a0b86d986968c9a999",
       "version_major": 2,
       "version_minor": 0
      },
      "text/plain": [
       "Batches:   0%|          | 0/1 [00:00<?, ?it/s]"
      ]
     },
     "metadata": {},
     "output_type": "display_data"
    },
    {
     "name": "stdout",
     "output_type": "stream",
     "text": [
      "\n",
      " matches = [{'uuid': '480e546a-ced3-4559-a258-087d88e99811', 'full_name': 'Black Paracord', 'locations': [{'room': 'Main', 'container': 'Pegboard 1', 'specific': 'Front'}], 'score': 0.788639485836029}, {'uuid': 'a0019979-fdcf-42fa-b08c-b1cc7f62d7df', 'full_name': 'Blue Buttons', 'locations': [{'room': 'Main', 'container': 'Pegboard 1', 'specific': 'A5'}, {'room': 'Cage', 'container': '5d', 'specific': 'Stack 10|-2'}], 'score': 0.7167840003967285}, {'uuid': '9d313dcf-ab08-4f47-9284-52d042a02575', 'full_name': 'White Cardstock', 'locations': [{'room': 'Cage', 'container': '', 'specific': ''}], 'score': 0.6785302758216858}]\n",
      "[LLM RAW][:300]: {\"item_uuid\":\"9d313dcf-ab08-4f47-9284-52d042a02575\",\"item_location\":\"Cage/Crypt/Other\"}\n",
      "[LLM PARSED]: {'item_uuid': '9d313dcf-ab08-4f47-9284-52d042a02575', 'item_location': 'Cage/Crypt/Other'}\n",
      "[LLM OK]: 9d313dcf-ab08-4f47-9284-52d042a02575 → Cage/Crypt/Other\n",
      "LLM RETURNED:\n",
      "9d313dcf-ab08-4f47-9284-52d042a02575\n",
      "Cage/Crypt/Other\n",
      "******************************************************\n",
      "message =  Rubber sheet 1/16\" thickness\n",
      "https://www.amazon.com/Neoprene-Insulation-Anti-Vibration-Anti-Slip-Stripping/dp/B0BKQRN7S6/ref=sr_1_3?crid=2JHLXZ8BINUUW&dib=eyJ2IjoiMSJ9.3_MHwcYfUg18gFT_sDsXFc3jbiSuIYiX_egWwTvhoTsimL-TqEE3b-PEHVf_pp85nC5NCPRWVxxwRYtpc4JhMKbQyKUMr52GsygFJIXKbz-0-Hfl31JHTSYwibuzMtbmMlTuOiU-NfgUseKBokMMHPwli0c6CwMx2SM6Njp3Mp_LJIbAo2ht1IpUnf_DPCExIMw7tt20OI6fyJ-UCNk36yxbGAZSIrYtJDnPPVm8JI8.v0w91vcMbgYmXS1ROr_BtqrOakOj4VBT8iGU15Aqw5o&dib_tag=se&keywords=rubber%2B1%2F16%2Bsheet&qid=1712004473&sprefix=rubber%2B1%2F16%2Bsheet%2Caps%2C330&sr=8-3&th=1\n",
      "\n",
      "or\n",
      "\n",
      "https://www.amazon.com/Rubber-Sheet-SBR-Thick-x12/dp/B07XYNRM1K/ref=sr_1_5?crid=2JHLXZ8BINUUW&dib=eyJ2IjoiMSJ9.3_MHwcYfUg18gFT_sDsXFc3jbiSuIYiX_egWwTvhoTsimL-TqEE3b-PEHVf_pp85nC5NCPRWVxxwRYtpc4JhMKbQyKUMr52GsygFJIXKbz-0-Hfl31JHTSYwibuzMtbmMlTuOiU-NfgUseKBokMMHPwli0c6CwMx2SM6Njp3Mp_LJIbAo2ht1IpUnf_DPCExIMw7tt20OI6fyJ-UCNk36yxbGAZSIrYtJDnPPVm8JI8.v0w91vcMbgYmXS1ROr_BtqrOakOj4VBT8iGU15Aqw5o&dib_tag=se&keywords=rubber+1%2F16+sheet&qid=1712004473&sprefix=rubber+1%2F16+sheet%2Caps%2C330&sr=8-5\n",
      "\n",
      " text =  Rubber sheet 1/16\" thickness\n",
      "\n",
      "\n",
      "or\n",
      "\n",
      " link items =  ['Neoprene Rubber Sheet Solid Rubber Strips Roll PadInsulation for Weather Stripping, Gasket, Shield, Costume, Seal, DIY (1/16\" (.062\") Thick, 12\" Wide X 12\" Long)', 'SBR Rubber Sheet - 12 in x 12 in, 1/16 in Thick, 70A Durometer, Plain Backing']\n"
     ]
    },
    {
     "data": {
      "application/vnd.jupyter.widget-view+json": {
       "model_id": "a196e39f726d49c6b241e33a8a9ca680",
       "version_major": 2,
       "version_minor": 0
      },
      "text/plain": [
       "Batches:   0%|          | 0/1 [00:00<?, ?it/s]"
      ]
     },
     "metadata": {},
     "output_type": "display_data"
    },
    {
     "name": "stdout",
     "output_type": "stream",
     "text": [
      "\n",
      " matches = [{'uuid': '24331b5e-928d-410a-a9a9-c2252a7f6cd8', 'full_name': 'Earring Studs', 'locations': [{'room': 'Main', 'container': 'Cabinet 3', 'specific': 'Shelf 6'}, {'room': 'Cage', 'container': '5d', 'specific': 'Stack 2|-3'}], 'score': 0.5004032850265503}, {'uuid': 'c8fdf68c-1969-4501-b337-760dc68790aa', 'full_name': 'Plastic Lacing Cord', 'locations': [{'room': 'Main', 'container': 'Cabinet 3', 'specific': 'Shelf 7'}, {'room': 'Cage', 'container': '5c', 'specific': 'Stack 21|-3'}], 'score': 0.48675480484962463}, {'uuid': '3923b5db-d92c-4502-a9f1-babd14c65684', 'full_name': 'Ziploc Plastic Bags (Gallon)', 'locations': [{'room': 'Main', 'container': 'Cabinet 2', 'specific': 'Shelf 2'}, {'room': 'Cage', 'container': '5b', 'specific': '|12'}, {'room': 'Cage', 'container': '8e', 'specific': '|1'}], 'score': 0.46508556604385376}]\n",
      "[LLM RAW][:300]: {\"item_uuid\":\"24331b5e-928d-410a-a9a9-c2252a7f6cd8\",\"item_location\":\"Cabinet 3\"}\n",
      "[LLM PARSED]: {'item_uuid': '24331b5e-928d-410a-a9a9-c2252a7f6cd8', 'item_location': 'Cabinet 3'}\n",
      "[LLM OK]: 24331b5e-928d-410a-a9a9-c2252a7f6cd8 → Cabinet 3\n",
      "LLM RETURNED:\n",
      "24331b5e-928d-410a-a9a9-c2252a7f6cd8\n",
      "Cabinet 3\n",
      "******************************************************\n",
      "message =  twine https://www.amazon.com/Natural-Wrapping-Christmas-Handmade-Decoration/dp/B08JD2YC8X/ref=sr_1_1_sspa?crid=1OGZ0GSI3WLSH&dib=eyJ2IjoiMSJ9.mr0Q7TCw6WPnMYAKYW_2MpIfkhtINF9BPF7jTITba2N2YcK94Bm2_lNH0Yz9kgO10Fb61NtURmv3Ajoc5dDlxvgIYDzZ25ECqiS3_HzdZ64uy37q9cE7e7aGBeSsdeJippOgOxgbmUqKBSjqHIFs1Oipm0oiuNK39V5Qp6yOMgYotHtWvuB-8Flu6-jewlTM3lkuMthuZdKP2W9kDIF0WRpGvhld9Vbg6DMMNFt0kt6Gem6BsX3evAGYbJkiwAA9ibMPO8fylBJ2HjU_OAFYBfyeySCvPQkPeDaWWVUeVW4.GCYtC2eSr0-O0zvRxwFPwd0078Dzhc2XK6oWTje8Wf0&dib_tag=se&keywords=twine&qid=1712033747&sprefix=twi%2Caps%2C186&sr=8-1-spons&sp_csd=d2lkZ2V0TmFtZT1zcF9hdGY&th=1\n",
      "\n",
      " text =  twine\n",
      "\n",
      " link items =  ['SMART&CASUAL 800 Ft Natural Jute Twine String Thin Ribbon Hemp Twine for Craft Plant Gift Wrapping Christmas Handmade Arts Decoration Packing String Home Decor (800 Ft (244M))']\n"
     ]
    },
    {
     "data": {
      "application/vnd.jupyter.widget-view+json": {
       "model_id": "8a50adcda33c49c69e08c338095b5d45",
       "version_major": 2,
       "version_minor": 0
      },
      "text/plain": [
       "Batches:   0%|          | 0/1 [00:00<?, ?it/s]"
      ]
     },
     "metadata": {},
     "output_type": "display_data"
    },
    {
     "name": "stdout",
     "output_type": "stream",
     "text": [
      "\n",
      " matches = [{'uuid': '5c8561af-c0ea-48c0-a009-d73791241baf', 'full_name': 'Ironing mat', 'locations': [{'room': 'Cage', 'container': '3c', 'specific': None}], 'score': 0.4486789405345917}, {'uuid': 'e18f5c29-ce4d-4cdf-8ca6-7c4e860e5cc1', 'full_name': 'Ratchet Kit — DEWALT Socket Set', 'locations': [{'room': 'Cage', 'container': '2b', 'specific': None}], 'score': 0.44483524560928345}, {'uuid': '80234e83-abcb-4ebd-9cd6-3d882169683b', 'full_name': 'Windscreen, Sennheiser — Sennheiser MZH 60-1 \"Hairy\" Cover', 'locations': [{'room': 'Studio', 'container': 'Studio 4', 'specific': 'Drawer 1'}], 'score': 0.44056445360183716}]\n",
      "[LLM RAW][:300]: {\"item_uuid\":\"80234e83-abcb-4ebd-9cd6-3d882169683b\",\"item_location\":\"Studio\"}\n",
      "[LLM PARSED]: {'item_uuid': '80234e83-abcb-4ebd-9cd6-3d882169683b', 'item_location': 'Studio'}\n",
      "[LLM OK]: 80234e83-abcb-4ebd-9cd6-3d882169683b → Studio\n",
      "LLM RETURNED:\n",
      "80234e83-abcb-4ebd-9cd6-3d882169683b\n",
      "Studio\n",
      "******************************************************\n",
      "message =  Orange LEDs\n",
      "\n",
      " text =  Orange LEDs\n",
      "\n",
      " link items =  []\n"
     ]
    },
    {
     "data": {
      "application/vnd.jupyter.widget-view+json": {
       "model_id": "68d313ef57aa4211bdb5923b0f6b007c",
       "version_major": 2,
       "version_minor": 0
      },
      "text/plain": [
       "Batches:   0%|          | 0/1 [00:00<?, ?it/s]"
      ]
     },
     "metadata": {},
     "output_type": "display_data"
    },
    {
     "name": "stdout",
     "output_type": "stream",
     "text": [
      "\n",
      " matches = [{'uuid': '1337af86-a23c-46c1-b0f3-0143206e5e32', 'full_name': 'Red Buttons', 'locations': [{'room': 'Main', 'container': 'Pegboard 1', 'specific': 'A1'}, {'room': 'Cage', 'container': '5d', 'specific': 'Stack 10|-2'}], 'score': 0.6283570528030396}, {'uuid': '1b1fdbf9-d9af-4758-90bb-aad126c1e346', 'full_name': 'Shotgun Microphone, Sennheiser MKE 600 (w/ Windscreen, Shock Mount, and Bag) — Sennheiser MKE 600 Microphone', 'locations': [{'room': 'Studio', 'container': 'Studio 1', 'specific': 'Shelf 3'}], 'score': 0.5521453022956848}, {'uuid': '305b4a4b-39cf-4225-9b93-c90cc9f60602', 'full_name': 'Power Supply, Genaray Light Kit (w/ Cable)', 'locations': [{'room': 'Studio', 'container': 'Studio 3', 'specific': 'Shelf 5'}], 'score': 0.5317814946174622}]\n",
      "[LLM RAW][:300]: {\"item_uuid\":\"1337af86-a23c-46c1-b0f3-0143206e5e32\",\"item_location\":\"Pegboard 1\"}\n",
      "[LLM PARSED]: {'item_uuid': '1337af86-a23c-46c1-b0f3-0143206e5e32', 'item_location': 'Pegboard 1'}\n",
      "[LLM OK]: 1337af86-a23c-46c1-b0f3-0143206e5e32 → Pegboard 1\n",
      "LLM RETURNED:\n",
      "1337af86-a23c-46c1-b0f3-0143206e5e32\n",
      "Pegboard 1\n",
      "******************************************************\n",
      "message =  black sharpies-- https://www.amazon.com/Sharpie-1884739-Permanent-Markers-Point/dp/B00G4CJ8GK/ref=sr_1_5?crid=3CR6P7SKZQM7A&dib=eyJ2IjoiMSJ9.9kIuTNrkjwVoSRzZiMOwRgKYPl4-cWPQjRhgZt9SRVbFDW1jriXHNJU909CoitCjVM0DuWznYbyJbrqOlCr4Q4quf_GplWrzST_EM4OI2N9rqj7MeY2TeT1YHnx1Wd9P_oxE5GTgyKe2jLhfCnZ8Nrmq5ZfK5iGXZbrOHlUIdxrPc8rNcx6GETDbPR9FwFbNuDDwtq8c7z9edhwTFJlGgjFJqMmtoxDuYlCadgY3yBaDQ8Z6JYwKjKidKvsTx-_-F_5HopcMYEC46xn0mvsUp2-oCEs8Kucl-olygr9cXJ0.9Tes576SqKtw4475jq0ZPjdg6c4kvr3rf24u3L6YkUg&dib_tag=se&keywords=sharpies&qid=1712181176&sprefix=sharpie%2Caps%2C177&sr=8-5\n",
      "\n",
      " text =  black sharpies--\n",
      "\n",
      " link items =  ['Sharpie Permanent Markers Bulk Set Fine Tip Markers Set For Plastic Metal Wood And More Black 36 Count']\n"
     ]
    },
    {
     "data": {
      "application/vnd.jupyter.widget-view+json": {
       "model_id": "7e637ec9bb4647b9a2316af62f6ae100",
       "version_major": 2,
       "version_minor": 0
      },
      "text/plain": [
       "Batches:   0%|          | 0/1 [00:00<?, ?it/s]"
      ]
     },
     "metadata": {},
     "output_type": "display_data"
    },
    {
     "name": "stdout",
     "output_type": "stream",
     "text": [
      "\n",
      " matches = [{'uuid': '9812ac2e-862f-4455-bfb6-d8065867ded5', 'full_name': 'Silver Sharpies', 'locations': [{'room': 'Main', 'container': 'Cabinet 4', 'specific': 'Shelf 1'}, {'room': 'Cage', 'container': '5c', 'specific': 'Stack 11|-2'}, {'room': 'Cage', 'container': '8d|-2', 'specific': ''}], 'score': 0.7066442966461182}, {'uuid': '6405a703-902d-4f30-9223-c8e85759bf56', 'full_name': 'Black Ballpoint Pens', 'locations': [{'room': 'Main', 'container': 'Cabinet 4', 'specific': 'Shelf 13'}, {'room': 'Cage', 'container': '5c', 'specific': 'Stack 9|-1'}], 'score': 0.6656197309494019}, {'uuid': 'c296f377-87b0-4f38-8302-a7cf04810698', 'full_name': 'Tailors Chalk', 'locations': [{'room': 'Main', 'container': 'Pegboard 1', 'specific': 'D6'}, {'room': 'Cage', 'container': '5e', 'specific': 'Pegboard Bins|-3'}], 'score': 0.6049304008483887}]\n",
      "[LLM RAW][:300]: {\"item_uuid\":\"9812ac2e-862f-4455-bfb6-d8065867ded5\",\"item_location\":\"Cabinet 4\"}\n",
      "[LLM PARSED]: {'item_uuid': '9812ac2e-862f-4455-bfb6-d8065867ded5', 'item_location': 'Cabinet 4'}\n",
      "[LLM OK]: 9812ac2e-862f-4455-bfb6-d8065867ded5 → Cabinet 4\n",
      "LLM RETURNED:\n",
      "9812ac2e-862f-4455-bfb6-d8065867ded5\n",
      "Cabinet 4\n",
      "******************************************************\n",
      "message =  colored sharpies-- https://www.amazon.com/Sharpie-Permanent-Markers-Assorted-Colors/dp/B0035UQ3MQ/ref=sr_1_7?crid=22D7HUVK8GOKY&dib=eyJ2IjoiMSJ9.NrYHiFgP4iDpVCb6QKa_j3WrZrx4Jic6HFVNQqQCyJNO2h7r31RbDXm1o9l5-bo6ti90rRRGn9c-1rtWq902IJw2x94DQgCjhHpKL0g2q1X6UyRxb9-YPhn4ntpWk-V88rN8-OZJ0BN5OwcUxO3zbGq-MRyjjAgT5saLltOJg7PrsEpzFkTEGvemy8_vfwIZw8VX5IRUrLusVFXmuNyuQZCXbHGRO14Z1uMLZRcXKLQnrDwPgGOvs6lc-hwgkc_PJ4a-nMvJY8VWajunYs19awia4vhpN31KsdXhZsujT10.ufSgaCqb8uG3yU-oq4l28xINCBZ9MTBpNIR6dvSHo5Q&dib_tag=se&keywords=colored+sharpies&qid=1712181408&sprefix=colored+sharpies%2Caps%2C129&sr=8-7\n",
      "\n",
      " text =  colored sharpies--\n",
      "\n",
      " link items =  ['Sharpie Permanent Markers Fine Assorted Colors - 24ct']\n"
     ]
    },
    {
     "data": {
      "application/vnd.jupyter.widget-view+json": {
       "model_id": "826eeabd35014a62b89dfa78f809312e",
       "version_major": 2,
       "version_minor": 0
      },
      "text/plain": [
       "Batches:   0%|          | 0/1 [00:00<?, ?it/s]"
      ]
     },
     "metadata": {},
     "output_type": "display_data"
    },
    {
     "name": "stdout",
     "output_type": "stream",
     "text": [
      "\n",
      " matches = [{'uuid': '9812ac2e-862f-4455-bfb6-d8065867ded5', 'full_name': 'Silver Sharpies', 'locations': [{'room': 'Main', 'container': 'Cabinet 4', 'specific': 'Shelf 1'}, {'room': 'Cage', 'container': '5c', 'specific': 'Stack 11|-2'}, {'room': 'Cage', 'container': '8d|-2', 'specific': ''}], 'score': 0.6080573797225952}, {'uuid': '06a20115-5e51-4bfc-992a-b5086d4924ad', 'full_name': 'Push Pins', 'locations': [{'room': 'Main', 'container': 'Cabinet 3', 'specific': 'Shelf 23'}, {'room': 'Cage', 'container': '5c', 'specific': 'Stack 16|-3'}], 'score': 0.6080344915390015}, {'uuid': 'c296f377-87b0-4f38-8302-a7cf04810698', 'full_name': 'Tailors Chalk', 'locations': [{'room': 'Main', 'container': 'Pegboard 1', 'specific': 'D6'}, {'room': 'Cage', 'container': '5e', 'specific': 'Pegboard Bins|-3'}], 'score': 0.5575249791145325}]\n",
      "[LLM RAW][:300]: {\"item_uuid\":\"9812ac2e-862f-4455-bfb6-d8065867ded5\",\"item_location\":\"Cabinet 4\"}\n",
      "[LLM PARSED]: {'item_uuid': '9812ac2e-862f-4455-bfb6-d8065867ded5', 'item_location': 'Cabinet 4'}\n",
      "[LLM OK]: 9812ac2e-862f-4455-bfb6-d8065867ded5 → Cabinet 4\n",
      "LLM RETURNED:\n",
      "9812ac2e-862f-4455-bfb6-d8065867ded5\n",
      "Cabinet 4\n",
      "******************************************************\n",
      "message =  fabric scissors-- we're not *too* low but we could use some more/some in overstock\n",
      "\n",
      " text =  fabric scissors-- we're not *too* low but we could use some more/some in overstock\n",
      "\n",
      " link items =  []\n"
     ]
    },
    {
     "data": {
      "application/vnd.jupyter.widget-view+json": {
       "model_id": "580d73ccf50349428039ca88ebb1d2a2",
       "version_major": 2,
       "version_minor": 0
      },
      "text/plain": [
       "Batches:   0%|          | 0/1 [00:00<?, ?it/s]"
      ]
     },
     "metadata": {},
     "output_type": "display_data"
    },
    {
     "name": "stdout",
     "output_type": "stream",
     "text": [
      "\n",
      " matches = [{'uuid': 'e78709de-4228-4e1b-9f14-783c9fe5600b', 'full_name': 'Scissors', 'locations': [{'room': 'Main', 'container': 'Cabinet 3', 'specific': 'Shelf 1'}, {'room': 'Cage', 'container': '5d', 'specific': 'Stack 1|-3'}], 'score': 0.793195366859436}, {'uuid': '6ad40cf4-2639-4ae5-a153-907a8fed4560', 'full_name': 'Yarn', 'locations': [{'room': 'Main', 'container': 'Fabrics', 'specific': ''}, {'room': 'Backstock', 'container': 'Shelf 3', 'specific': '|-3'}], 'score': 0.6421743035316467}, {'uuid': 'c1bd2439-1e6a-4669-8cfc-3e9ea3396ac9', 'full_name': 'Wall Hanging Supplies', 'locations': [{'room': 'Cage', 'container': '8d', 'specific': None}], 'score': 0.5463511943817139}]\n",
      "[LLM RAW][:300]: {\"item_uuid\":\"e78709de-4228-4e1b-9f14-783c9fe5600b\",\"item_location\":\"Cabinet 3\"}\n",
      "[LLM PARSED]: {'item_uuid': 'e78709de-4228-4e1b-9f14-783c9fe5600b', 'item_location': 'Cabinet 3'}\n",
      "[LLM OK]: e78709de-4228-4e1b-9f14-783c9fe5600b → Cabinet 3\n",
      "LLM RETURNED:\n",
      "e78709de-4228-4e1b-9f14-783c9fe5600b\n",
      "Cabinet 3\n",
      "******************************************************\n",
      "message =  Q-tips\n",
      "\n",
      " text =  Q-tips\n",
      "\n",
      " link items =  []\n"
     ]
    },
    {
     "data": {
      "application/vnd.jupyter.widget-view+json": {
       "model_id": "49720c816a104150a5397a1a45d72d3d",
       "version_major": 2,
       "version_minor": 0
      },
      "text/plain": [
       "Batches:   0%|          | 0/1 [00:00<?, ?it/s]"
      ]
     },
     "metadata": {},
     "output_type": "display_data"
    },
    {
     "name": "stdout",
     "output_type": "stream",
     "text": [
      "\n",
      " matches = [{'uuid': '33aaf7d02a884ae48700995fc2157d7c', 'full_name': 'Paint Palettes', 'locations': [{'room': 'Main', 'container': 'Cabinet 4', 'specific': 'Shelf 8'}, {'room': 'Cage', 'container': '5d', 'specific': 'Stack 10|-3'}], 'score': 0.5168268084526062}, {'uuid': 'daa0dbcc-ccf2-4b55-9a0f-344b47d9ceac', 'full_name': 'lens kit', 'locations': [{'room': 'Studio', 'container': '', 'specific': ''}], 'score': 0.4355073571205139}, {'uuid': '70ce1155-84d4-4997-b096-0bac96d45505', 'full_name': 'Small Wooden Dowels (1/8\" x 12\")', 'locations': [{'room': 'Main', 'container': 'Cabinet 2', 'specific': 'Shelf 6'}, {'room': 'Cage', 'container': '5d', 'specific': 'Stack 14|-3'}], 'score': 0.40691643953323364}]\n",
      "[LLM RAW][:300]: {\"item_uuid\":\"33aaf7d02a884ae48700995fc2157d7c\",\"item_location\":\"Cabinet 4\"}\n",
      "[LLM PARSED]: {'item_uuid': '33aaf7d02a884ae48700995fc2157d7c', 'item_location': 'Cabinet 4'}\n",
      "[LLM OK]: 33aaf7d02a884ae48700995fc2157d7c → Cabinet 4\n",
      "LLM RETURNED:\n",
      "33aaf7d02a884ae48700995fc2157d7c\n",
      "Cabinet 4\n",
      "******************************************************\n",
      "message =  https://www.joann.com/keepsake-calico-fabric-packed-daisy-blue/8502551.html\n",
      "https://www.joann.com/hi-fashion-flying-dragonflies-on-blue-novelty-metallic-cotton-fabric/19768027.html\n",
      "https://www.joann.com/blue-green-water-lily-petals-swirls-batik-cotton-fabric/19775733.html\n",
      "https://www.joann.com/floral-bouquets-on-blue-cotton-fabric-by-keepsake-calico/19805431.html\n",
      "https://www.joann.com/hi-fashion-dark-blue-floral-blender-premium-metallic-cotton-fabric/19515196.html\n",
      "https://www.joann.com/crosshatch-cotton-fabric-by-keepsake-calico/19780154.html (aqua)\n",
      "https://www.joann.com/blue-and-yellow-tree-frogs-novelty-cotton-fabric/18668285.html\n",
      "https://www.joann.com/super-snuggle-flannel-fabric-tarot-cards/17404054.html\n",
      "https://www.joann.com/adventure-grey-cotton-canvas-fabric/16525024.html\n",
      "https://www.joann.com/watercolor-brown-woodland-friends-novelty-cotton-fabric/19782127.html\n",
      "https://www.joann.com/jellyfish-on-navy-novelty-cotton-fabric/18668376.html\n",
      "\n",
      "\n",
      "\n",
      " text =  (aqua)\n",
      "\n",
      " link items =  []\n"
     ]
    },
    {
     "data": {
      "application/vnd.jupyter.widget-view+json": {
       "model_id": "2d221739c9b74eb9a09db1b4e6e0fc08",
       "version_major": 2,
       "version_minor": 0
      },
      "text/plain": [
       "Batches:   0%|          | 0/1 [00:00<?, ?it/s]"
      ]
     },
     "metadata": {},
     "output_type": "display_data"
    },
    {
     "name": "stdout",
     "output_type": "stream",
     "text": [
      "\n",
      " matches = [{'uuid': '46e022e6-425b-456c-89ac-a2d0c331b29e', 'full_name': 'USB-A to USB-B', 'locations': [{'room': 'Cage', 'container': '8d', 'specific': 'Spare USB Cables'}], 'score': 0.41305091977119446}, {'uuid': 'ac1fbbe3-39a6-4723-9704-053b6a62dca7', 'full_name': 'Micro SD Card', 'locations': [{'room': 'Cage', 'container': '8d', 'specific': ''}], 'score': 0.3307579755783081}, {'uuid': '896ae905-1595-4c4e-9ff5-7494c9f8e94f', 'full_name': 'Yellow Ribbon', 'locations': [{'room': 'Main', 'container': 'Cabinet 6', 'specific': 'Shelf 2'}], 'score': 0.3171693682670593}]\n",
      "[LLM RAW][:300]: {\"item_uuid\":\"896ae905-1595-4c4e-9ff5-7494c9f8e94f\",\"item_location\":\"Cabinet 6\"}\n",
      "[LLM PARSED]: {'item_uuid': '896ae905-1595-4c4e-9ff5-7494c9f8e94f', 'item_location': 'Cabinet 6'}\n",
      "[LLM OK]: 896ae905-1595-4c4e-9ff5-7494c9f8e94f → Cabinet 6\n",
      "LLM RETURNED:\n",
      "896ae905-1595-4c4e-9ff5-7494c9f8e94f\n",
      "Cabinet 6\n",
      "******************************************************\n",
      "message =  danish oil/wood finish \n",
      "\n",
      " text =  danish oil/wood finish\n",
      "\n",
      " link items =  []\n"
     ]
    },
    {
     "data": {
      "application/vnd.jupyter.widget-view+json": {
       "model_id": "4934813259664e929b95264d9dece8ea",
       "version_major": 2,
       "version_minor": 0
      },
      "text/plain": [
       "Batches:   0%|          | 0/1 [00:00<?, ?it/s]"
      ]
     },
     "metadata": {},
     "output_type": "display_data"
    },
    {
     "name": "stdout",
     "output_type": "stream",
     "text": [
      "\n",
      " matches = [{'uuid': '9be97790-deb1-427c-ac6e-f5b174bfa8fd', 'full_name': 'Spray Adhesive', 'locations': [{'room': 'Cage', 'container': 'Flammable', 'specific': None}], 'score': 0.5489993095397949}, {'uuid': '7e5e3d1f339949dea5b9b60f5b47a52e', 'full_name': 'Bazic Contact Cement', 'locations': [{'room': 'Cage', 'container': 'Flammable', 'specific': None}], 'score': 0.5378753542900085}, {'uuid': '1b4f5991-8a46-4f79-8501-239ae29114d0', 'full_name': 'Loom Weft Thread', 'locations': [{'room': 'The Crypt', 'container': '1e', 'specific': ''}], 'score': 0.4845768213272095}]\n",
      "[LLM RAW][:300]: {\"item_uuid\":\"9be97790-deb1-427c-ac6e-f5b174bfa8fd\",\"item_location\":\"Cage/Crypt/Other\"}\n",
      "[LLM PARSED]: {'item_uuid': '9be97790-deb1-427c-ac6e-f5b174bfa8fd', 'item_location': 'Cage/Crypt/Other'}\n",
      "[LLM OK]: 9be97790-deb1-427c-ac6e-f5b174bfa8fd → Cage/Crypt/Other\n",
      "LLM RETURNED:\n",
      "9be97790-deb1-427c-ac6e-f5b174bfa8fd\n",
      "Cage/Crypt/Other\n",
      "******************************************************\n",
      "message =  1 inch button plastics\n",
      "\n",
      " text =  1 inch button plastics\n",
      "\n",
      " link items =  []\n"
     ]
    },
    {
     "data": {
      "application/vnd.jupyter.widget-view+json": {
       "model_id": "6ba91b47128a4db19aea1c983c3cd7af",
       "version_major": 2,
       "version_minor": 0
      },
      "text/plain": [
       "Batches:   0%|          | 0/1 [00:00<?, ?it/s]"
      ]
     },
     "metadata": {},
     "output_type": "display_data"
    },
    {
     "name": "stdout",
     "output_type": "stream",
     "text": [
      "\n",
      " matches = [{'uuid': 'd1ca216c-64d8-4063-8a60-135c57f2a9ac', 'full_name': 'Pre-Packaged Sets of 50 Large Buttons (2.25\") — Ask a steward for bulk button making prices', 'locations': [{'room': 'Cage', 'container': '1c', 'specific': None}], 'score': 0.6963340044021606}, {'uuid': 'e26fe4d4-89ad-47a9-abc4-16860e5d7739', 'full_name': 'Small Button Maker (1\")', 'locations': [{'room': 'Cage', 'container': '1c', 'specific': None}], 'score': 0.6306918859481812}, {'uuid': '0d5fbfb4-e328-431b-960b-f76e06ce3ad4', 'full_name': 'Proficiency Buttons (Stewards Only)', 'locations': [{'room': 'Cage', 'container': '8b', 'specific': None}], 'score': 0.5820131301879883}]\n",
      "[LLM RAW][:300]: {\"item_uuid\":\"e26fe4d4-89ad-47a9-abc4-16860e5d7739\",\"item_location\":\"Cage/Crypt/Other\"}\n",
      "[LLM PARSED]: {'item_uuid': 'e26fe4d4-89ad-47a9-abc4-16860e5d7739', 'item_location': 'Cage/Crypt/Other'}\n",
      "[LLM OK]: e26fe4d4-89ad-47a9-abc4-16860e5d7739 → Cage/Crypt/Other\n",
      "LLM RETURNED:\n",
      "e26fe4d4-89ad-47a9-abc4-16860e5d7739\n",
      "Cage/Crypt/Other\n",
      "******************************************************\n",
      "message =  elastic https://www.amazon.com/dp/B07V8DYZH2/ref=sspa_dk_detail_3?psc=1&pd_rd_i=B07V8DYZH2&pd_rd_w=8NAFG&content-id=amzn1.sym.386c274b-4bfe-4421-9052-a1a56db557ab&pf_rd_p=386c274b-4bfe-4421-9052-a1a56db557ab&pf_rd_r=PZR32MFB4XG664DRB3VR&pd_rd_wg=89rGm&pd_rd_r=1896603e-4198-4e61-8829-82eb1f542922&s=arts-crafts&sp_csd=d2lkZ2V0TmFtZT1zcF9kZXRhaWxfdGhlbWF0aWM\n",
      "\n",
      " text =  elastic\n",
      "\n",
      " link items =  ['Coopay 80 Yards Length 1/4\" Width Elastic Bands Flat Elastic Cord Rope Heavy Stretch Spool Knit for Sewing DIY Projects, Arts & Crafts, 2 Rolls, 40 Yards/Roll (Black and White, 1/4 Inch)']\n"
     ]
    },
    {
     "data": {
      "application/vnd.jupyter.widget-view+json": {
       "model_id": "ba3ae9161f664e7aab1281d9ed5bbbd6",
       "version_major": 2,
       "version_minor": 0
      },
      "text/plain": [
       "Batches:   0%|          | 0/1 [00:00<?, ?it/s]"
      ]
     },
     "metadata": {},
     "output_type": "display_data"
    },
    {
     "name": "stdout",
     "output_type": "stream",
     "text": [
      "\n",
      " matches = [{'uuid': '24331b5e-928d-410a-a9a9-c2252a7f6cd8', 'full_name': 'Earring Studs', 'locations': [{'room': 'Main', 'container': 'Cabinet 3', 'specific': 'Shelf 6'}, {'room': 'Cage', 'container': '5d', 'specific': 'Stack 2|-3'}], 'score': 0.6310432553291321}, {'uuid': 'c8fdf68c-1969-4501-b337-760dc68790aa', 'full_name': 'Plastic Lacing Cord', 'locations': [{'room': 'Main', 'container': 'Cabinet 3', 'specific': 'Shelf 7'}, {'room': 'Cage', 'container': '5c', 'specific': 'Stack 21|-3'}], 'score': 0.5939233303070068}, {'uuid': '9f77de86-2a53-4a37-ab84-98e9392395e2', 'full_name': 'Elastic String', 'locations': [{'room': 'Main', 'container': 'Cabinet 3', 'specific': 'Shelf 4'}, {'room': 'Cage', 'container': '5c', 'specific': 'Stack 27|-3'}], 'score': 0.4929612874984741}]\n",
      "[LLM RAW][:300]: {\"item_uuid\":\"9f77de86-2a53-4a37-ab84-98e9392395e2\",\"item_location\":\"Cabinet 3\"}\n",
      "[LLM PARSED]: {'item_uuid': '9f77de86-2a53-4a37-ab84-98e9392395e2', 'item_location': 'Cabinet 3'}\n",
      "[LLM OK]: 9f77de86-2a53-4a37-ab84-98e9392395e2 → Cabinet 3\n",
      "LLM RETURNED:\n",
      "9f77de86-2a53-4a37-ab84-98e9392395e2\n",
      "Cabinet 3\n",
      "******************************************************\n",
      "message =  colored duct tape - https://www.amazon.com/dp/B074CNL7WB/ref=sspa_dk_hqp_detail_aax_0?sp_csd=d2lkZ2V0TmFtZT1zcF9ocXBfc2hhcmVk&th=1\n",
      "\n",
      " text =  colored duct tape -\n",
      "\n",
      " link items =  ['Rainbow Colored Duct Tape - 15 Yards x 2 Inch - 12 Pack Colored Duct Tape Variety Pack for Arts']\n"
     ]
    },
    {
     "data": {
      "application/vnd.jupyter.widget-view+json": {
       "model_id": "bb596d5ad09f4851956e7825f18440b6",
       "version_major": 2,
       "version_minor": 0
      },
      "text/plain": [
       "Batches:   0%|          | 0/1 [00:00<?, ?it/s]"
      ]
     },
     "metadata": {},
     "output_type": "display_data"
    },
    {
     "name": "stdout",
     "output_type": "stream",
     "text": [
      "\n",
      " matches = [{'uuid': '33e39f8f-e2ca-4c67-9400-ee7c3d1c1313', 'full_name': 'Beige Masking Tape (1\") — 1 inch ', 'locations': [{'room': 'Main', 'container': 'Cabinet 5', 'specific': 'Top'}, {'room': 'Cage', 'container': '5e', 'specific': '|-3'}], 'score': 0.6807178854942322}, {'uuid': '886a3549-b781-4d63-aee0-3442ca17f207', 'full_name': 'Color Gel Pens', 'locations': [{'room': 'Main', 'container': 'Cabinet 4', 'specific': 'Shelf 13'}], 'score': 0.5972499847412109}, {'uuid': '7dd39576-3f22-4584-b613-e4461dfb44ae', 'full_name': 'Glue Dots', 'locations': [{'room': 'Main', 'container': 'Cabinet 5', 'specific': 'Shelf 2'}, {'room': 'Cage', 'container': '8d', 'specific': '|-3'}], 'score': 0.5488085746765137}]\n",
      "[LLM RAW][:300]: {\"item_uuid\":\"33e39f8f-e2ca-4c67-9400-ee7c3d1c1313\",\"item_location\":\"Cabinet 5\"}\n",
      "[LLM PARSED]: {'item_uuid': '33e39f8f-e2ca-4c67-9400-ee7c3d1c1313', 'item_location': 'Cabinet 5'}\n",
      "[LLM OK]: 33e39f8f-e2ca-4c67-9400-ee7c3d1c1313 → Cabinet 5\n",
      "LLM RETURNED:\n",
      "33e39f8f-e2ca-4c67-9400-ee7c3d1c1313\n",
      "Cabinet 5\n",
      "******************************************************\n",
      "message =  felt-- https://www.amazon.com/Inches-Squares-Assorted-Patchwork-Decoration/dp/B0BR5BHFL8/ref=sr_1_1?dib=eyJ2IjoiMSJ9.0xJNIhIFHS7pv_CcpwkaTeC89rna0HpeCiAiap4NWp4eXYOarlhTgAhDep2M9jN07LAFq1FefPrzQeeBfEkeuCd5Q9E0-lMFBKMsKgyY3HzwWo5vOzK4P_3nBEyWa9XNVu3cPeWAvF78itA5OE7JlWX-snCQnQj2kS6cOZXqXRix9tAPsFDrjtY6f7U8eRPlEL49DdIoALBgdaYMY42igV6cMdAvtR_S25eouSoEKO0lCV8NpEEbm8Db7wG7ofnT3ODXKWIvxPR8v8lOeTsEfmo5eFIJQcBXnPEt7pgytsk.Bdt5296VCUx12a_k04PqYiq6189o1LgHmx9aEAWZCfA&dib_tag=se&keywords=felt&qid=1712360520&sr=8-1&th=1\n",
      "\n",
      "we're out of full sheets so\n",
      "\n",
      " text =  felt-- \n",
      "\n",
      "we're out of full sheets so\n",
      "\n",
      " link items =  ['8 x 12 Inches Felt Sheets for Crafts, 40Pcs Squares Fabric Sheets, Assorted Colors Non Woven Pack, 1mm Thick, Stiff Paper for DIY Sewing Craft Patchwork Decoration']\n"
     ]
    },
    {
     "data": {
      "application/vnd.jupyter.widget-view+json": {
       "model_id": "83196d64c5ef42698bc24ca91663b487",
       "version_major": 2,
       "version_minor": 0
      },
      "text/plain": [
       "Batches:   0%|          | 0/1 [00:00<?, ?it/s]"
      ]
     },
     "metadata": {},
     "output_type": "display_data"
    },
    {
     "name": "stdout",
     "output_type": "stream",
     "text": [
      "\n",
      " matches = [{'uuid': 'be13f962-3b93-4dcb-a19f-3279cb527ec0', 'full_name': 'Plastic Sheeting — https://a.co/d/05u8q9V', 'locations': [{'room': 'Cage', 'container': '1a', 'specific': ''}], 'score': 0.5922759175300598}, {'uuid': '666279ae-15c8-4257-9a49-b97058051826', 'full_name': 'Printer — EPSON Color Printer', 'locations': [{'room': 'Cage', 'container': '8d', 'specific': None}], 'score': 0.5862913727760315}, {'uuid': 'dfae79d4-0bd5-458a-a6fa-f2195a1a0bbc', 'full_name': 'Dixie Cups (for painting)', 'locations': [{'room': 'Main', 'container': 'Cabinet 16', 'specific': '(by paint sink)'}], 'score': 0.5846332311630249}]\n",
      "[LLM RAW][:300]: {\"item_uuid\":\"dfae79d4-0bd5-458a-a6fa-f2195a1a0bbc\",\"item_location\":\"Cabinet 15\"}\n",
      "[LLM PARSED]: {'item_uuid': 'dfae79d4-0bd5-458a-a6fa-f2195a1a0bbc', 'item_location': 'Cabinet 15'}\n",
      "[LLM OK]: dfae79d4-0bd5-458a-a6fa-f2195a1a0bbc → Cabinet 15\n",
      "LLM RETURNED:\n",
      "dfae79d4-0bd5-458a-a6fa-f2195a1a0bbc\n",
      "Cabinet 15\n",
      "******************************************************\n",
      "message =  magnets-- we're running kind of low https://www.amazon.com/DIYMAG-Adhesive-Refrigerator-Projects-0-12inch/dp/B0BDFFCSKT/ref=sr_1_5?dib=eyJ2IjoiMSJ9.uV08X0N3fIlX5h3JlxtMcD74WJLZ6Z0o0-o-8fEbL_pef6RypDX9hHP1UZ-i6dwHUPFXspfd5fzI_R4N5MyoHmbtzZhWVf16a5M7c_3uaBhx5N05hucvJtX5mTVj5fagQNjg1Lkm91XF8e5xpQmqLuuXWVNoeeJeVtjCQmzKN3rZnseqXldlaapNQw-vQr3cNKax_LZHxfqAK1N2UmgbiE_yO10VfaWs09ngdFRvRyw.X08i54tO7eMbg2vWmdhlhS0Ib0gbPO1q-oDP4wtlZbY&dib_tag=se&keywords=magnets&qid=1712614581&sr=8-5\n",
      "\n",
      " text =  magnets-- we're running kind of low\n",
      "\n",
      " link items =  ['DIYMAG 90Pcs Magnets for Crafts 0.7 * 0.12inch Strong Adhesive Ceramic Magnet Small Round Circle Button Sticky Magnetics Dots Heavy Duty Double Sided for Refrigerator Fridge with Backing for School']\n"
     ]
    },
    {
     "data": {
      "application/vnd.jupyter.widget-view+json": {
       "model_id": "4eecf32b70fe41de8985dd3d18da0e18",
       "version_major": 2,
       "version_minor": 0
      },
      "text/plain": [
       "Batches:   0%|          | 0/1 [00:00<?, ?it/s]"
      ]
     },
     "metadata": {},
     "output_type": "display_data"
    },
    {
     "name": "stdout",
     "output_type": "stream",
     "text": [
      "\n",
      " matches = [{'uuid': 'b489a235-9200-4ec6-9c50-889960973c4c', 'full_name': 'Medium Metal Magnets', 'locations': [{'room': 'Main', 'container': 'Cabinet 2', 'specific': 'Shelf 1'}, {'room': 'Cage', 'container': '5c', 'specific': 'Stack 14|-3'}], 'score': 0.6282014846801758}, {'uuid': 'be878f28-8da7-4b85-b295-0689f9baae5d', 'full_name': 'Ceramic Magnets', 'locations': [{'room': 'Main', 'container': 'Cabinet 2', 'specific': 'Shelf 1'}, {'room': 'Cage', 'container': '5c', 'specific': 'Stack 14|-2'}], 'score': 0.604253888130188}, {'uuid': 'db7c51a4-3e36-4f79-8f42-527cd305b70f', 'full_name': 'Paint Pens', 'locations': [{'room': 'Main', 'container': 'Cabinet 4', 'specific': 'Shelf 2'}], 'score': 0.5966677069664001}]\n",
      "[LLM RAW][:300]: {\"item_uuid\":\"b489a235-9200-4ec6-9c50-889960973c4c\",\"item_location\":\"Cabinet 2\"}\n",
      "[LLM PARSED]: {'item_uuid': 'b489a235-9200-4ec6-9c50-889960973c4c', 'item_location': 'Cabinet 2'}\n",
      "[LLM OK]: b489a235-9200-4ec6-9c50-889960973c4c → Cabinet 2\n",
      "LLM RETURNED:\n",
      "b489a235-9200-4ec6-9c50-889960973c4c\n",
      "Cabinet 2\n",
      "******************************************************\n",
      "message =  multicolored (rainbow, neon, and iridescent) plastic lanyard making cord\n",
      "\n",
      " text =  multicolored (rainbow, neon, and iridescent) plastic lanyard making cord\n",
      "\n",
      " link items =  []\n"
     ]
    },
    {
     "data": {
      "application/vnd.jupyter.widget-view+json": {
       "model_id": "d84fc1bbe6414848be3f6c88c4a8e6fb",
       "version_major": 2,
       "version_minor": 0
      },
      "text/plain": [
       "Batches:   0%|          | 0/1 [00:00<?, ?it/s]"
      ]
     },
     "metadata": {},
     "output_type": "display_data"
    },
    {
     "name": "stdout",
     "output_type": "stream",
     "text": [
      "\n",
      " matches = [{'uuid': '04583c0b-3754-43f4-8fbe-485d15496f5d', 'full_name': 'Small Embroidery Hoops', 'locations': [{'room': 'Main', 'container': 'Cabinet 1', 'specific': 'Shelf 7'}, {'room': 'Cage', 'container': '5d', 'specific': 'Stack 8|-3'}], 'score': 0.7081895470619202}, {'uuid': '904663a3-6a18-41bf-a911-57c0089c010a', 'full_name': 'Thick White Elastic Band — Sunmns 3 Rolls Sewing Stretch Elastic Band Spool, 3/5, 1, 1-1/2 Inch in Width', 'locations': [{'room': 'Main', 'container': 'Cabinet 1', 'specific': 'Shelf 13'}, {'room': 'Cage', 'container': '5c', 'specific': 'Stack 26|-1'}], 'score': 0.5970271229743958}, {'uuid': 'c52fd77f-cfb4-44a6-866e-1601743d1ff3', 'full_name': 'Tweezers for Electronics', 'locations': [{'room': 'Other', 'container': '', 'specific': None}], 'score': 0.5247297286987305}]\n",
      "[LLM RAW][:300]: {\"item_uuid\":\"04583c0b-3754-43f4-8fbe-485d15496f5d\",\"item_location\":\"Cabinet 1\"}\n",
      "[LLM PARSED]: {'item_uuid': '04583c0b-3754-43f4-8fbe-485d15496f5d', 'item_location': 'Cabinet 1'}\n",
      "[LLM OK]: 04583c0b-3754-43f4-8fbe-485d15496f5d → Cabinet 1\n",
      "LLM RETURNED:\n",
      "04583c0b-3754-43f4-8fbe-485d15496f5d\n",
      "Cabinet 1\n",
      "******************************************************\n",
      "message =  watercolor palettes https://www.amazon.com/Upgraded-Watercolor-Washable-Non-toxic-Beginners/dp/B08BFV5N3M/ref=sr_1_3_sspa?crid=YX1H1LIKQ2AS&dib=eyJ2IjoiMSJ9.RAVeyIgDgZilZ4TxLE7twgmigDjfGZ-DSz2qgkUkGBQopkyxZrnIslOoGZ157MEog-NAHO75EzY09ZlAmKdvHoune5JbWn6FwfQU-px_XkIVXYtOEn3yv35dAh698WyGlSZEqk8dXsUGN5lBzLIDfOn2vthbIr1chwTCNPl45ly6atqHp0rvPZGIaKykyUmtp11zqcBPEpvKegQlBfOqBOZd9C9Mg5zEzGP0bkIsqoRf_nZxBKHDP--xPoViEHVWusonmIoHEvwuW46muH_TjzpMG1JdX329GUpq_B8kR98.rbQMZJ0nbnu6FqKDcqoe74kyUA3AOvDmHIu3aKGLruw&dib_tag=se&keywords=watercolor+palette&qid=1712616480&sprefix=watercolor+%2Caps%2C151&sr=8-3-spons&sp_csd=d2lkZ2V0TmFtZT1zcF9hdGY&psc=1\n",
      "\n",
      " text =  watercolor palettes\n",
      "\n",
      " link items =  []\n"
     ]
    },
    {
     "data": {
      "application/vnd.jupyter.widget-view+json": {
       "model_id": "a1f72bff27054d62b920fb00a22a33de",
       "version_major": 2,
       "version_minor": 0
      },
      "text/plain": [
       "Batches:   0%|          | 0/1 [00:00<?, ?it/s]"
      ]
     },
     "metadata": {},
     "output_type": "display_data"
    },
    {
     "name": "stdout",
     "output_type": "stream",
     "text": [
      "\n",
      " matches = [{'uuid': '10d6ae06a3e14fc3ad33ae8081351b95', 'full_name': 'Packing Tape', 'locations': [{'room': 'Main', 'container': 'Cabinet 5', 'specific': 'Shelf 2'}, {'room': 'Cage', 'container': '5e', 'specific': '|11'}, {'room': 'Cage', 'container': '8d', 'specific': '|2'}], 'score': 1.0}, {'uuid': 'd8f2ddae6e69464e8f788a4e99af7add', 'full_name': 'Paint Sponges', 'locations': [{'room': 'Main', 'container': 'Cabinet 4', 'specific': 'Shelf 15'}, {'room': 'Cage', 'container': '5d', 'specific': 'Stack 9|-3'}, {'room': 'Backstock', 'container': 'Shelf 2', 'specific': '|-3'}], 'score': 0.7839977741241455}, {'uuid': '35eed231-ee42-4ee6-95c6-e9f878c8bf3e', 'full_name': 'Various Stickers', 'locations': [{'room': 'Main', 'container': 'Cabinet 2', 'specific': 'Shelf 5'}], 'score': 0.6297970414161682}]\n",
      "[LLM RAW][:300]: {\"item_uuid\":\"10d6ae06a3e14fc3ad33ae8081351b95\",\"item_location\":\"Cabinet 5\"}\n",
      "[LLM PARSED]: {'item_uuid': '10d6ae06a3e14fc3ad33ae8081351b95', 'item_location': 'Cabinet 5'}\n",
      "[LLM OK]: 10d6ae06a3e14fc3ad33ae8081351b95 → Cabinet 5\n",
      "LLM RETURNED:\n",
      "10d6ae06a3e14fc3ad33ae8081351b95\n",
      "Cabinet 5\n",
      "******************************************************\n",
      "message =  Protractors - https://www.amazon.com/eBoot-Plastic-Protractors-Protractor-Degrees/dp/B06ZYNDTD1/ref=sr_1_1_sspa?crid=YIREXROK1BO2&dib=eyJ2IjoiMSJ9.-wKnAlI0S0-tgRka8EE5XSlIJphA2onxf2tiaLWOm70v_QTS0i-vDqmkWAnl0NhbXOfKhkNFoIUMRjZscobumW-ZiXzJsBbg1meYeTiXtMQcD9cYb4Tnn57D74QV7oK0um0FLXHMnjW79xH_hPmQr56ReXvKgMuRvGLO2CoiHt1vA8aM47iMaF4NEXvFDh5sRgSmRNDInv9fZopat5LMpETw5BakT_y5aNgzbFLf0tkjXLe339tgO_gR2mvyFAJsfu-of3MqazKPkogeZnhRVPshq1mZPos_Vc9gcv8ryks.Kq9Qv1huViln61ulfLpfH9V2YwRyJn4k4QVIcLyJgPw&dib_tag=se&keywords=protractors&qid=1712616844&sprefix=protractor%2Caps%2C167&sr=8-1-spons&sp_csd=d2lkZ2V0TmFtZT1zcF9hdGY&psc=1\n",
      "\n",
      " text =  Protractors -\n",
      "\n",
      " link items =  ['EBOOT 24 Pack Plastic Protractors Math Protractor 180 Degrees 6 Inch (Clear)']\n"
     ]
    },
    {
     "data": {
      "application/vnd.jupyter.widget-view+json": {
       "model_id": "cdaad818111f49598a872831bd9afc23",
       "version_major": 2,
       "version_minor": 0
      },
      "text/plain": [
       "Batches:   0%|          | 0/1 [00:00<?, ?it/s]"
      ]
     },
     "metadata": {},
     "output_type": "display_data"
    },
    {
     "name": "stdout",
     "output_type": "stream",
     "text": [
      "\n",
      " matches = [{'uuid': '0a23333af2554bc686f6bd85ce4bd0c1', 'full_name': 'Soap molds', 'locations': [{'room': 'Composite', 'container': 'Drawers', 'specific': None}], 'score': 0.5962127447128296}, {'uuid': '2b5197c3-c663-482c-95cb-8f5886909447', 'full_name': 'Case, C-Stand Kit', 'locations': [{'room': 'Studio', 'container': 'Next to Studio 4', 'specific': None}], 'score': 0.3643561601638794}, {'uuid': '084ef81b-4c07-4a88-b3dd-f98b6e67e547', 'full_name': 'Battery Charger, Video Monitor Kit — GVM NP-750 Battery Kit', 'locations': [{'room': 'Studio', 'container': 'Studio 5', 'specific': 'Shelf 1'}], 'score': 0.35405057668685913}]\n",
      "[LLM RAW][:300]: {\"item_uuid\":\"0a23333af2554bc686f6bd85ce4bd0c1\",\"item_location\":\"Cage/Crypt/Other\"}\n",
      "[LLM PARSED]: {'item_uuid': '0a23333af2554bc686f6bd85ce4bd0c1', 'item_location': 'Cage/Crypt/Other'}\n",
      "[LLM OK]: 0a23333af2554bc686f6bd85ce4bd0c1 → Cage/Crypt/Other\n",
      "LLM RETURNED:\n",
      "0a23333af2554bc686f6bd85ce4bd0c1\n",
      "Cage/Crypt/Other\n",
      "******************************************************\n",
      "message =  Scotch Blue Tape - I think it's running low, can't find more of the thick roll\n",
      "\n",
      " text =  Scotch Blue Tape - I think it's running low, can't find more of the thick roll\n",
      "\n",
      " link items =  []\n"
     ]
    },
    {
     "data": {
      "application/vnd.jupyter.widget-view+json": {
       "model_id": "0ef6f8e752b94c4db081b072a83446fc",
       "version_major": 2,
       "version_minor": 0
      },
      "text/plain": [
       "Batches:   0%|          | 0/1 [00:00<?, ?it/s]"
      ]
     },
     "metadata": {},
     "output_type": "display_data"
    },
    {
     "name": "stdout",
     "output_type": "stream",
     "text": [
      "\n",
      " matches = [{'uuid': '9ea656ed65cc473c912c9a7d989c7e7e', 'full_name': '3.5 mm Male to XLR Male Cable Short', 'locations': [{'room': 'Studio', 'container': 'Studio 2', 'specific': 'Shelf 8'}], 'score': 0.6283771991729736}, {'uuid': '8679f1f7a4144298af27be4fe12fba2d', 'full_name': '3.5 mm Male to XLR Female Cable Short', 'locations': [{'room': 'Studio', 'container': 'Studio 2', 'specific': 'Shelf 8'}], 'score': 0.5855403542518616}, {'uuid': '68609062-5506-4ef2-b595-11f629078ef3', 'full_name': 'Seam Rippers', 'locations': [{'room': 'Main', 'container': 'Pegboard 1', 'specific': 'E5'}, {'room': 'Cage', 'container': '5c', 'specific': 'Stack 7|-3'}], 'score': 0.5727512240409851}]\n",
      "[LLM RAW][:300]: {\"item_uuid\":\"68609062-5506-4ef2-b595-11f629078ef3\",\"item_location\":\"Pegboard 1\"}\n",
      "[LLM PARSED]: {'item_uuid': '68609062-5506-4ef2-b595-11f629078ef3', 'item_location': 'Pegboard 1'}\n",
      "[LLM OK]: 68609062-5506-4ef2-b595-11f629078ef3 → Pegboard 1\n",
      "LLM RETURNED:\n",
      "68609062-5506-4ef2-b595-11f629078ef3\n",
      "Pegboard 1\n",
      "******************************************************\n",
      "message =  pipe cleaners -https://www.amazon.com/400-Pcs-Cleaners-Chenille-Decorations/dp/B0CSD24M2S/ref=sr_1_13_sspa?crid=1IRN6HVT0RQJ9&dib=eyJ2IjoiMSJ9.sdIOMyvLiq6MbTKHg1SbhPfSXkKIO5m-Vj3vfBqEJIGf6wwTnvYsDxCM1YPUp7OrMQJTbiCfzrgmRICo5834WJQub6haKdlzuLL11PlqxFsu8k2mx6LxyW6X5bgf08ghhtPjs7pZmwF0DDvC85sYpjahaqFLjb2pMFTHlXhTCbR-5F1WW7nvDMj7KoqXwS6y6CsRdjo4080FOewRVcCSt1ZFfSltGyPVjWQQrCcC3AemqnFeo5MZoWNobdHn1f8ob7S-FSJEfuQgcnRDU0b7skyez2-4qSpXeC1JGK0jQuw.shSADdMU0M_pIl964bLG1ZUkfPDmBboC6QIDPgYera4&dib_tag=se&keywords=pipe+cleaners&qid=1712628514&sprefix=pipe+cl%2Caps%2C153&sr=8-13-spons&sp_csd=d2lkZ2V0TmFtZT1zcF9tdGY&psc=1\n",
      "\n",
      "googly eyes - https://www.amazon.com/750pcs-Wiggle-Self-Adhesive-Googly-4mm-18mm/dp/B0B2ZTZPZ2/ref=sr_1_10?crid=KRUOV4EZTDKB&dib=eyJ2IjoiMSJ9.DIwRMwvZfFr8poqObPQLiWBvS8bAdGiTo_PJPt8ZO9xKbBkwuMv9LMt7LxUSXJj9YjPNFfxEqRNscRy4FbMmSLnal8wIZcNoFQhuSE6iY7zM_oIIgbdZ3YysCl_RKYm-uZ9nWv0FjiZQbUQ2wERZLF6zWVZWmWg_ZSIR99nHSQQ5R2xkd7IAOsZrF4MXTtFhm0lqk9NDsa8Uyg9kjiBvpHslZBSIxt2PEru84qMZofTg51Xils3_e_U3HFIGljAP6fRPR353J6SqaM57bcaeUzzfbITY8qOsZ6qfucm1oA8.QeI2on52AjE7f2vGgS0SiC7zryt2zfr3DXA7-iQl8_Y&dib_tag=se&keywords=googly+eyes&qid=1712628570&sprefix=googl%2Caps%2C165&sr=8-10\n",
      "\n",
      " text =  pipe cleaners -\n",
      "\n",
      "googly eyes -\n",
      "\n",
      " link items =  ['400 Pcs - 350 Pipe Cleaners in 20 Colors + 50 Googly Eyes - Chenille Stems Set for Crafts and DIY Decorations (12 Inch x 6mm), WAU-PC-400', '750pcs Wiggle Eyes Self-Adhesive Googly Eyes, 4mm~18mm']\n"
     ]
    },
    {
     "data": {
      "application/vnd.jupyter.widget-view+json": {
       "model_id": "f6c767a960a14828a75e0467c2105e86",
       "version_major": 2,
       "version_minor": 0
      },
      "text/plain": [
       "Batches:   0%|          | 0/1 [00:00<?, ?it/s]"
      ]
     },
     "metadata": {},
     "output_type": "display_data"
    },
    {
     "name": "stdout",
     "output_type": "stream",
     "text": [
      "\n",
      " matches = [{'uuid': '0e456011-4f20-408e-b703-7a71670c7a58', 'full_name': 'Key Rings', 'locations': [{'room': 'Main', 'container': 'Cabinet 3', 'specific': 'Shelf 9'}, {'room': 'Cage', 'container': '5c', 'specific': 'Stack 4|-3'}], 'score': 0.49054691195487976}, {'uuid': '05fc0cb9-8e03-4878-a2a0-b7ae2a7cd850', 'full_name': 'Art books', 'locations': [{'room': 'Main', 'container': 'Fabrics', 'specific': None}], 'score': 0.428949236869812}, {'uuid': '427130aa-f570-4cb9-aa5e-e1d3e3b618a9', 'full_name': 'Old PCs', 'locations': [{'room': 'The Crypt', 'container': '2e, 3d, 3e', 'specific': ''}], 'score': 0.42574572563171387}]\n",
      "[LLM RAW][:300]: {\"item_uuid\":\"0e456011-4f20-408e-b703-7a71670c7a58\",\"item_location\":\"Cabinet 3\"}\n",
      "[LLM PARSED]: {'item_uuid': '0e456011-4f20-408e-b703-7a71670c7a58', 'item_location': 'Cabinet 3'}\n",
      "[LLM OK]: 0e456011-4f20-408e-b703-7a71670c7a58 → Cabinet 3\n",
      "LLM RETURNED:\n",
      "0e456011-4f20-408e-b703-7a71670c7a58\n",
      "Cabinet 3\n",
      "******************************************************\n",
      "message =  Black PLA\n",
      "\n",
      " text =  Black PLA\n",
      "\n",
      " link items =  []\n"
     ]
    },
    {
     "data": {
      "application/vnd.jupyter.widget-view+json": {
       "model_id": "b0123dc1491b4eaab7da3bb1b0b38a75",
       "version_major": 2,
       "version_minor": 0
      },
      "text/plain": [
       "Batches:   0%|          | 0/1 [00:00<?, ?it/s]"
      ]
     },
     "metadata": {},
     "output_type": "display_data"
    },
    {
     "name": "stdout",
     "output_type": "stream",
     "text": [
      "\n",
      " matches = [{'uuid': 'b5e4e468-d4ba-41b8-9a62-5d13689a0347', 'full_name': 'Blue Ribbon', 'locations': [{'room': 'Main', 'container': 'Cabinet 6', 'specific': 'Shelf 3'}], 'score': 0.5721143484115601}, {'uuid': '68c5b918-a568-480e-9ec2-d0a875803a90', 'full_name': 'Macrame Cord', 'locations': [{'room': 'Main', 'container': 'Pegboard 1', 'specific': 'Front'}, {'room': 'Cage', 'container': '5E', 'specific': 'near polyester thread'}], 'score': 0.5502632856369019}, {'uuid': '7973b203-b338-4187-93ce-a101f5a95238', 'full_name': 'PLA Filament', 'locations': [{'room': 'The Crypt', 'container': '', 'specific': ''}], 'score': 0.519511878490448}]\n",
      "[LLM RAW][:300]: {\"item_uuid\":\"7973b203-b338-4187-93ce-a101f5a95238\",\"item_location\":\"Cage/Crypt/Other\"}\n",
      "[LLM PARSED]: {'item_uuid': '7973b203-b338-4187-93ce-a101f5a95238', 'item_location': 'Cage/Crypt/Other'}\n",
      "[LLM OK]: 7973b203-b338-4187-93ce-a101f5a95238 → Cage/Crypt/Other\n",
      "LLM RETURNED:\n",
      "7973b203-b338-4187-93ce-a101f5a95238\n",
      "Cage/Crypt/Other\n",
      "******************************************************\n",
      "message =  Air guns to alleviate air can requests.\n",
      "\n",
      "https://www.amazon.com/Pieces-Nozzle-Cleaning-Nozzles-Industry/dp/B08HGZ1QYW\n",
      "\n",
      "https://www.amazon.com/Industrial-Connect-Adapter-Compressor-Fittings/dp/B081F9K54B/\n",
      "\n",
      " text =  Air guns to alleviate air can requests.\n",
      "\n",
      " link items =  ['Honoson 4 Pieces 1/4 NPT Lever Blow Gun Air Nozzle Dust Cleaning Blower Gun with Rubber and Safety Tip Nozzles Air Tool for Home Shop Garage Industry(Black)', 'Brass 1/4-Inch NPT Male Industrial Air Hose Quick Connect Adapter,Air Coupler and Plug Kit,Air Compressor Fittings 10pcs (Male NPT)']\n"
     ]
    },
    {
     "data": {
      "application/vnd.jupyter.widget-view+json": {
       "model_id": "473cb94c41c94ca1a8c60a301667f7ae",
       "version_major": 2,
       "version_minor": 0
      },
      "text/plain": [
       "Batches:   0%|          | 0/1 [00:00<?, ?it/s]"
      ]
     },
     "metadata": {},
     "output_type": "display_data"
    },
    {
     "name": "stdout",
     "output_type": "stream",
     "text": [
      "\n",
      " matches = [{'uuid': 'e6467bd3-1dc9-4b18-aabb-576b53df4f00', 'full_name': 'Microfiber Cloth', 'locations': [{'room': 'Studio', 'container': 'Studio 5', 'specific': 'Shelf 4'}], 'score': 0.532537043094635}, {'uuid': 'ea64ca11-e4a1-4790-9081-3afaad1408eb', 'full_name': 'Portable Stand — Impact LS-RL7 Reverse Leg Portable Location Stand', 'locations': [{'room': 'Studio', 'container': None, 'specific': None}], 'score': 0.49608683586120605}, {'uuid': 'bafcf95d-658d-4e8a-87ea-f895215f0b5b', 'full_name': 'Skein Winder — Umbrella swift Skein Winder', 'locations': [{'room': 'Main', 'container': 'Fabric', 'specific': ''}], 'score': 0.48809659481048584}]\n",
      "[LLM RAW][:300]: {\"item_uuid\":\"e6467bd3-1dc9-4b18-aabb-576b53df4f00\",\"item_location\":\"Studio\"}\n",
      "[LLM PARSED]: {'item_uuid': 'e6467bd3-1dc9-4b18-aabb-576b53df4f00', 'item_location': 'Studio'}\n",
      "[LLM OK]: e6467bd3-1dc9-4b18-aabb-576b53df4f00 → Studio\n",
      "LLM RETURNED:\n",
      "e6467bd3-1dc9-4b18-aabb-576b53df4f00\n",
      "Studio\n",
      "******************************************************\n",
      "message =  Screwdrivers: https://www.amazon.com/Amartisan-10-Piece-Screwdrivers-Professional-Screwdriver/dp/B07RFD9JWZ/ref=sr_1_5?crid=2GU0QH2PRJQLR&dib=eyJ2IjoiMSJ9.kmAKWtJ5lLTW3ST7h2AnDTNB7w1VsFv_e6LoUka0dZDmDp2EquhqbCAgVScJwSjkqQ8eFreX7HHfUZOryz1Pv_0I_Iw4Hmy-khShgdzZJpWDygcLg8YU-eCV6BoZu549xwMJULE6xtcCbQ7J_yU5W8wlEriMBoeVrSjEeapDe0XNP6yjce1r_FC3HnyFikXS-9Pkw7SaWMQRy4k1POhAQD2h43YmHSQKCIrUTLP0wjANP_MW6l8J6SRfS9vUc_WIifm40RvFOcsDkVuNSFBDauf6IhE6OvhN_mbUuJNLsag.WLNjXsPrKNcrcAxa9Oa_QIEj50BaJihdSeLUyR1zs64&dib_tag=se&keywords=screwdriver%2Bset&qid=1712781847&sprefix=screwdriver%2Bse%2Caps%2C179&sr=8-5&th=1\n",
      "\n",
      "Organizer for huskey:\n",
      "https://www.amazon.com/Giklux-Organizer-Organization-Workbench-Workshop/dp/B0BPSD16L5/ref=sr_1_4?crid=1DEYO64NW1GCI&dib=eyJ2IjoiMSJ9.H8UZ98zNWtUPnZyX6KnwzSZhHEzIyrnrEzAf6k1zcmR9vCCocqm01KbvNZQbgU6LUQYH2uCF3tAKimiJJLlRrHQguFxAb-I6VU1bE3f5UVMEY44WHD8BG1uGkNjvcyMvqjBqaURgnMncVd0T7hcqxyDZfvk9SMCXOrNHE3eCeykG8I0lLP7VJ3Iqfst8Ps21RZgVSZlxM4lhl2CZgCb0vB8aHbRiB40kNOU_WtrH_822L5ptgwMMtlXEgKxxRE-q5XUs089alQPbv8mONvNvRXbk5OGrdJ9EUURqfpCm8N4.kdAMe7WVzzzbMBm5hC6pBQ7zaRQmX7dGwTanUtCwEsY&dib_tag=se&keywords=husky%2Bdrawer%2Bscrewdriver%2Borganizer&qid=1712781713&s=hi&sprefix=husky%2Bdrawer%2Bscrewdriver%2Borganiz%2Ctools%2C195&sr=1-4&th=1\n",
      "\n",
      " text =  Screwdrivers: \n",
      "\n",
      "Organizer for huskey:\n",
      "\n",
      " link items =  ['Amartisan 10-Piece Magnetic Screwdrivers Set, 5 Phillips and 5 Slotted Tips Professional Cushion Grip Screwdriver Set', '45 Pack Tool Box Organizer Tray Divider, Toolbox Desk Drawer Organizer,Garage Organization Storage for Rolling Tool Chest Cart Cabinet Workbench Workshop Small Parts Widget Tool Organizer Black']\n"
     ]
    },
    {
     "data": {
      "application/vnd.jupyter.widget-view+json": {
       "model_id": "623574485aff4f5b9f1d3ad8ba58428a",
       "version_major": 2,
       "version_minor": 0
      },
      "text/plain": [
       "Batches:   0%|          | 0/1 [00:00<?, ?it/s]"
      ]
     },
     "metadata": {},
     "output_type": "display_data"
    },
    {
     "name": "stdout",
     "output_type": "stream",
     "text": [
      "\n",
      " matches = [{'uuid': '9141fd34-f9e8-4470-ba02-11914aedcdfd', 'full_name': 'Screws', 'locations': [{'room': 'Main', 'container': 'Cabinet 9', 'specific': 'Shelf 8'}], 'score': 0.49980223178863525}, {'uuid': 'b0d520a2-3ff0-44ac-9d35-ca7bb99cc132', 'full_name': 'Spare Embroidery Machine Power Cables — C7 Power cables', 'locations': [{'room': 'Cage', 'container': '3b', 'specific': None}], 'score': 0.49879002571105957}, {'uuid': 'dd31644f-497c-400f-aefa-9edc41b76654', 'full_name': 'Microphone Stand, Gator (Telescoping w/ Boom and Counterweight) — Gator Frameworks GFW-MIC-0822 Telescoping Boom Mic Stand Podcasting & Bass Drum', 'locations': [{'room': 'Studio', 'container': 'Studio 4', 'specific': 'Drawer 3'}], 'score': 0.4453197121620178}]\n",
      "[LLM RAW][:300]: {\"item_uuid\":\"9141fd34-f9e8-4470-ba02-11914aedcdfd\",\"item_location\":\"Cabinet 9\"}\n",
      "[LLM PARSED]: {'item_uuid': '9141fd34-f9e8-4470-ba02-11914aedcdfd', 'item_location': 'Cabinet 9'}\n",
      "[LLM OK]: 9141fd34-f9e8-4470-ba02-11914aedcdfd → Cabinet 9\n",
      "LLM RETURNED:\n",
      "9141fd34-f9e8-4470-ba02-11914aedcdfd\n",
      "Cabinet 9\n",
      "******************************************************\n",
      "message =  rubber cement\n",
      "\n",
      " text =  rubber cement\n",
      "\n",
      " link items =  []\n"
     ]
    },
    {
     "data": {
      "application/vnd.jupyter.widget-view+json": {
       "model_id": "a8de6ed2ae324e329a31d676ca792d76",
       "version_major": 2,
       "version_minor": 0
      },
      "text/plain": [
       "Batches:   0%|          | 0/1 [00:00<?, ?it/s]"
      ]
     },
     "metadata": {},
     "output_type": "display_data"
    },
    {
     "name": "stdout",
     "output_type": "stream",
     "text": [
      "\n",
      " matches = [{'uuid': '4681c94c-54be-4cf5-9c31-fe9b1f48c599', 'full_name': 'USB-C to USB-A Adapter', 'locations': [{'room': 'Cage', 'container': '8d', 'specific': ''}], 'score': 1.0}, {'uuid': '48edfc5d-d9eb-4432-931e-3cb88b7fd1fc', 'full_name': 'Aero 125 Silicone RTV Rubber', 'locations': [{'room': 'Cage', 'container': '7c', 'specific': None}], 'score': 0.6841802597045898}, {'uuid': '26dba8e0195b42e881b14e84f7ec1cb4', 'full_name': 'Acetone', 'locations': [{'room': 'Cage', 'container': 'Flammable', 'specific': None}], 'score': 0.6662461757659912}]\n",
      "[LLM RAW][:300]: {\"item_uuid\":\"48edfc5d-d9eb-4432-931e-3cb88b7fd1fc\",\"item_location\":\"Cage/Crypt/Other\"}\n",
      "[LLM PARSED]: {'item_uuid': '48edfc5d-d9eb-4432-931e-3cb88b7fd1fc', 'item_location': 'Cage/Crypt/Other'}\n",
      "[LLM OK]: 48edfc5d-d9eb-4432-931e-3cb88b7fd1fc → Cage/Crypt/Other\n",
      "LLM RETURNED:\n",
      "48edfc5d-d9eb-4432-931e-3cb88b7fd1fc\n",
      "Cage/Crypt/Other\n",
      "******************************************************\n",
      "message =  wire cutters (they keep getting lost)--https://www.amazon.com/Cutters-KAIHAOWIN-Clippers-Diagonal-Electronic/dp/B09V7YC6RH/ref=sr_1_1_sspa?crid=DSOCIE33JG96&dib=eyJ2IjoiMSJ9.9AxQuKAQU483EVSBioISp3BYddrXRKrxvWBAHYZAGJrCIViJmBrZt5_EHWCzyn82IDj1wRfQf87Rocmh1ramyZma1oAVKxJ5h8YYElbO6HFgTTNIPllK6Iyua9RNG6cArAu9FzmoCeBgWhIAUVqUyS9C1Nj8-_OwYLjZ1k9GONQWKjsV-GzrWIKfvM2WO23jf2Cjlqr5s5hOQwwoiA2lnM3soNQSgjKcrUCenW1PeVTp2SpTW592NR7znFsr0TG1gR39LTVHO_gOY0AuNH4u4Ht9lS-SDPdpi_kmqhevFT8.Buu3aRHpxpsqzkd_kxsHveiEu9fWchCym7SJPYxKOCg&dib_tag=se&keywords=wire%2Bcutters&qid=1713238266&sprefix=wire%2Bcutters%2Caps%2C137&sr=8-1-spons&sp_csd=d2lkZ2V0TmFtZT1zcF9hdGY&th=1\n",
      "\n",
      " text =  wire cutters (they keep getting lost)--\n",
      "\n",
      " link items =  ['Small Wire Cutters 10 Pack- KAIHAOWIN 170 Wire Flush Cutters Wire Clippers Nippers Clean Cut Pliers Side Cutter Diagonal Cutting Pliers for Electronic Floral Heating Wire Model Sprue Soft Copper, Blue']\n"
     ]
    },
    {
     "data": {
      "application/vnd.jupyter.widget-view+json": {
       "model_id": "f71e36fd5c824fb383c7cefd34e1d4df",
       "version_major": 2,
       "version_minor": 0
      },
      "text/plain": [
       "Batches:   0%|          | 0/1 [00:00<?, ?it/s]"
      ]
     },
     "metadata": {},
     "output_type": "display_data"
    },
    {
     "name": "stdout",
     "output_type": "stream",
     "text": [
      "\n",
      " matches = [{'uuid': '2012e616-3492-441f-86c8-16594a0c4bea', 'full_name': 'Cricut Replacement Blades — Yellow = fine point cut (30° cutting angle)', 'locations': [{'room': 'Cage', 'container': '1d', 'specific': ''}], 'score': 0.6803293228149414}, {'uuid': 'e782c9e05a22413889ed8b772e6b4cbe', 'full_name': 'Toothpicks', 'locations': [{'room': 'Main', 'container': 'Cabinet 2', 'specific': 'Shelf 9'}, {'room': 'Cage', 'container': '5c', 'specific': 'Stack 17|-3'}], 'score': 0.6473484635353088}, {'uuid': '5c24bd98-e182-407c-ae5b-07b883285e44', 'full_name': 'Multimeter Kit 8', 'locations': [{'room': 'Cage', 'container': '2b', 'specific': ''}], 'score': 0.5990980863571167}]\n",
      "[LLM RAW][:300]: {\"item_uuid\":\"e782c9e05a22413889ed8b772e6b4cbe\",\"item_location\":\"Cabinet 2\"}\n",
      "[LLM PARSED]: {'item_uuid': 'e782c9e05a22413889ed8b772e6b4cbe', 'item_location': 'Cabinet 2'}\n",
      "[LLM OK]: e782c9e05a22413889ed8b772e6b4cbe → Cabinet 2\n",
      "LLM RETURNED:\n",
      "e782c9e05a22413889ed8b772e6b4cbe\n",
      "Cabinet 2\n",
      "******************************************************\n",
      "message =  1\" buttons (this is the same company that the machine is from)-- https://www.americanbuttonmachines.com/collections/button-supplies-1/products/1-pinback-button-set?_pos=1&_fid=67a4609ad&_ss=c&variant=19694915139\n",
      "\n",
      " text =  1\" buttons (this is the same company that the machine is from)--\n",
      "\n",
      " link items =  ['1\" Pinback Button Set']\n"
     ]
    },
    {
     "data": {
      "application/vnd.jupyter.widget-view+json": {
       "model_id": "d008ec43b1124d338ed455aa8a51fd26",
       "version_major": 2,
       "version_minor": 0
      },
      "text/plain": [
       "Batches:   0%|          | 0/1 [00:00<?, ?it/s]"
      ]
     },
     "metadata": {},
     "output_type": "display_data"
    },
    {
     "name": "stdout",
     "output_type": "stream",
     "text": [
      "\n",
      " matches = [{'uuid': 'd1ca216c-64d8-4063-8a60-135c57f2a9ac', 'full_name': 'Pre-Packaged Sets of 50 Large Buttons (2.25\") — Ask a steward for bulk button making prices', 'locations': [{'room': 'Cage', 'container': '1c', 'specific': None}], 'score': 0.5651399493217468}, {'uuid': '82264891-3475-48cd-93cd-3a2f5376c72e', 'full_name': 'Pink Buttons', 'locations': [{'room': 'Main', 'container': 'Pegboard 1', 'specific': 'A7'}, {'room': 'Cage', 'container': '5d', 'specific': 'Stack 10|-2'}], 'score': 0.484354168176651}, {'uuid': '37dc1977-29ad-4aad-aa9a-63bbff6b1e31', 'full_name': 'Loose Large Button Making Supplies (2.25\") — 25 buttons per person for free!', 'locations': [{'room': 'Cage', 'container': '1c', 'specific': None}, {'room': 'Backstock', 'container': 'Floor', 'specific': '|-3'}], 'score': 0.4786323308944702}]\n",
      "[LLM RAW][:300]: {\"item_uuid\":\"d1ca216c-64d8-4063-8a60-135c57f2a9ac\",\"item_location\":\"Cage/Crypt/Other\"}\n",
      "[LLM PARSED]: {'item_uuid': 'd1ca216c-64d8-4063-8a60-135c57f2a9ac', 'item_location': 'Cage/Crypt/Other'}\n",
      "[LLM OK]: d1ca216c-64d8-4063-8a60-135c57f2a9ac → Cage/Crypt/Other\n",
      "LLM RETURNED:\n",
      "d1ca216c-64d8-4063-8a60-135c57f2a9ac\n",
      "Cage/Crypt/Other\n",
      "******************************************************\n",
      "message =  2.25\" buttons (this is the same company that the machine is from)-- https://www.americanbuttonmachines.com/collections/button-supplies-1/products/2-25-pinback-button-set?_pos=1&_fid=67a4609ad&_ss=c&variant=19694942403\n",
      "\n",
      " text =  2.25\" buttons (this is the same company that the machine is from)--\n",
      "\n",
      " link items =  ['2.25\" Pinback Button Set']\n"
     ]
    },
    {
     "data": {
      "application/vnd.jupyter.widget-view+json": {
       "model_id": "cba11ec00f474cff80ca0846c4c416ae",
       "version_major": 2,
       "version_minor": 0
      },
      "text/plain": [
       "Batches:   0%|          | 0/1 [00:00<?, ?it/s]"
      ]
     },
     "metadata": {},
     "output_type": "display_data"
    },
    {
     "name": "stdout",
     "output_type": "stream",
     "text": [
      "\n",
      " matches = [{'uuid': 'd1ca216c-64d8-4063-8a60-135c57f2a9ac', 'full_name': 'Pre-Packaged Sets of 50 Large Buttons (2.25\") — Ask a steward for bulk button making prices', 'locations': [{'room': 'Cage', 'container': '1c', 'specific': None}], 'score': 0.5506482720375061}, {'uuid': 'e26fe4d4-89ad-47a9-abc4-16860e5d7739', 'full_name': 'Small Button Maker (1\")', 'locations': [{'room': 'Cage', 'container': '1c', 'specific': None}], 'score': 0.5457687377929688}, {'uuid': '65f8ee5d-1c8e-4353-ac32-384d26e2c190', 'full_name': 'Iron', 'locations': [{'room': 'Cage', 'container': '3c', 'specific': None}], 'score': 0.5300803780555725}]\n",
      "[LLM RAW][:300]: {\"item_uuid\":\"d1ca216c-64d8-4063-8a60-135c57f2a9ac\",\"item_location\":\"Cage/Crypt/Other\"}\n",
      "[LLM PARSED]: {'item_uuid': 'd1ca216c-64d8-4063-8a60-135c57f2a9ac', 'item_location': 'Cage/Crypt/Other'}\n",
      "[LLM OK]: d1ca216c-64d8-4063-8a60-135c57f2a9ac → Cage/Crypt/Other\n",
      "LLM RETURNED:\n",
      "d1ca216c-64d8-4063-8a60-135c57f2a9ac\n",
      "Cage/Crypt/Other\n",
      "******************************************************\n",
      "message =  electrical tape-- we only have one roll left so it's probably good to have some extras?-- https://www.amazon.com/Soundoriginal-Electrical-Dustproof-Adhesive-Multicolor/dp/B078S3LRF9/ref=sr_1_8?crid=BBX9MDE89ZIR&dib=eyJ2IjoiMSJ9.GSEkj8FsX6b8VX5n4bc18Uf27sXJz4MWtiQsj5rQpAj2WV3SDgfKfgSt-8tQej-RgSs0n0op8_iuDVSqk9y617cQwQUh1SBi2G9GzozMJ-QjxRcsOPEFU55MGk8Fl4sFz3sh2DQ10QMS8MiXrEz5lI-wvTMSOrBqsEqYh_q0rtl6YFx6-kg0rKcLgBuXBlI9Zo6-y6Vy9TDGQpCmambPgnAAZDHtCf877_UbwPzK11Y.fyXJIHqrC2_n1xTvxrdAxyCwNOeYM8CwleEQemR9xPg&dib_tag=se&keywords=electrical%2Btape&qid=1713238828&sprefix=electrical%2Bt%2Caps%2C171&sr=8-8&th=1\n",
      "\n",
      " text =  electrical tape-- we only have one roll left so it's probably good to have some extras?--\n",
      "\n",
      " link items =  ['Black Electrical Tape 4 Pack 3/4-Inch by 60 Feet, Voltage Level 600V Dustproof, Adhesive for General Home Vehicle Auto Car Power Circuit Wiring Black (60ft Black)']\n"
     ]
    },
    {
     "data": {
      "application/vnd.jupyter.widget-view+json": {
       "model_id": "aa87b5e229c8452ea139d9ac32062ae8",
       "version_major": 2,
       "version_minor": 0
      },
      "text/plain": [
       "Batches:   0%|          | 0/1 [00:00<?, ?it/s]"
      ]
     },
     "metadata": {},
     "output_type": "display_data"
    },
    {
     "name": "stdout",
     "output_type": "stream",
     "text": [
      "\n",
      " matches = [{'uuid': '3527a1365517480c944ac6cd47a39a34', 'full_name': 'Blue Masking Tape (2\") — 2 Inch Blue Painters Tape', 'locations': [{'room': 'Main', 'container': 'Cabinet 5', 'specific': 'Top'}, {'room': 'Cage', 'container': '5e', 'specific': '|-3'}], 'score': 0.5739359855651855}, {'uuid': '886a3549-b781-4d63-aee0-3442ca17f207', 'full_name': 'Color Gel Pens', 'locations': [{'room': 'Main', 'container': 'Cabinet 4', 'specific': 'Shelf 13'}], 'score': 0.4801015853881836}, {'uuid': '8679f1f7a4144298af27be4fe12fba2d', 'full_name': '3.5 mm Male to XLR Female Cable Short', 'locations': [{'room': 'Studio', 'container': 'Studio 2', 'specific': 'Shelf 8'}], 'score': 0.45464611053466797}]\n",
      "[LLM RAW][:300]: {\"item_uuid\":\"3527a1365517480c944ac6cd47a39a34\",\"item_location\":\"Cabinet 5\"}\n",
      "[LLM PARSED]: {'item_uuid': '3527a1365517480c944ac6cd47a39a34', 'item_location': 'Cabinet 5'}\n",
      "[LLM OK]: 3527a1365517480c944ac6cd47a39a34 → Cabinet 5\n",
      "LLM RETURNED:\n",
      "3527a1365517480c944ac6cd47a39a34\n",
      "Cabinet 5\n",
      "******************************************************\n",
      "message =  mallets-- https://www.amazon.com/ZUZUAN-Fiberglass-Handle-Rubber-without/dp/B08TGD7KSP/ref=sr_1_37?crid=J86PDQAR30ZI&dib=eyJ2IjoiMSJ9.8txRQqijmZzRQbkKHMTRznnP9shXnO0oIOvSMSO2LjbqE_WTMPuYYVQGUDcc5jAV3TfemXO8KN52V3MJP8PmpeX_Qcd7yR_9e1KfQsabM8-wA1lBK2Y5EsxY_2BhrtmL1wf5ehstuAVhYJlAikU6_ENFtLmJPkYj0hxj5LlW6I2Im1CHlA8_r_tyAQywxeotI-etQ0DkQF3fDdHerhgnzV6jRup1IFg2K4SnII4oe6ymVj6Eaf2b888fLRIhP2VNisVdXSrtVEPhGSPZG0XF9Usp94kjbfvnu5LqKT7VD74.yO-YoY9rg4jxSFlQ89w9GJ5nC_ihjT3lwJN59_Ob2bY&dib_tag=se&keywords=mallet&qid=1713398856&sprefix=malle%2Caps%2C233&sr=8-37\n",
      "\n",
      " text =  mallets--\n",
      "\n",
      " link items =  ['Fiberglass Handle Rubber Mallet Hammer Set, 8 OZ and 16 OZ, Soft Blow Tasks without Damage, Black with Red, 2 Packs']\n"
     ]
    },
    {
     "data": {
      "application/vnd.jupyter.widget-view+json": {
       "model_id": "5f57b0dc098147a8ad60f232d0cc73ca",
       "version_major": 2,
       "version_minor": 0
      },
      "text/plain": [
       "Batches:   0%|          | 0/1 [00:00<?, ?it/s]"
      ]
     },
     "metadata": {},
     "output_type": "display_data"
    },
    {
     "name": "stdout",
     "output_type": "stream",
     "text": [
      "\n",
      " matches = [{'uuid': 'e33a24da-1b73-49ea-9191-abd0f5dd676f', 'full_name': 'Rubber Cement', 'locations': [{'room': 'Cage', 'container': 'Flamable', 'specific': ''}], 'score': 0.5937618017196655}, {'uuid': 'f425db72-a9c6-4fbd-a3a8-38afab8adbb4', 'full_name': 'T-pins', 'locations': [{'room': 'Main', 'container': 'Pegboard 1', 'specific': 'F5'}], 'score': 0.4427168667316437}, {'uuid': '387b2f8a-24c4-4605-9707-5502f9ce0029', 'full_name': 'Laser Cutter Cleaning Tools', 'locations': [{'room': 'Laser3D', 'container': 'In Laser Cutter Side Panel', 'specific': None}], 'score': 0.4366355240345001}]\n",
      "[LLM RAW][:300]: {\"item_uuid\":\"f425db72-a9c6-4fbd-a3a8-38afab8adbb4\",\"item_location\":\"Pegboard 1\"}\n",
      "[LLM PARSED]: {'item_uuid': 'f425db72-a9c6-4fbd-a3a8-38afab8adbb4', 'item_location': 'Pegboard 1'}\n",
      "[LLM OK]: f425db72-a9c6-4fbd-a3a8-38afab8adbb4 → Pegboard 1\n",
      "LLM RETURNED:\n",
      "f425db72-a9c6-4fbd-a3a8-38afab8adbb4\n",
      "Pegboard 1\n",
      "******************************************************\n",
      "message =  Squirt bottles\n",
      "https://www.amazon.com/Economy-Bottle-Squeeze-Medical-Tattoo/dp/B00WTHLR18/ref=sr_1_8?crid=OU5WE1XYR59U&dib=eyJ2IjoiMSJ9.vItuNBG7_zrJRLo3-q9Wy-g2-dVpw83l0k0SRKJ7s82TsOtLVnyvVZreM68K4Nq4fLg-GY-zxfI46zPwOM-CY4zcTCDteAWYkXZ7fhNpxU6yxAF_KMImPx0YSqHg-qoINtu5ofNH_l-595QQyRbXgr2N3ZuzaviQwdZvumjEAoCLDMcrwQ1cx6mhtgu_AjgOGVvx4wX2iIfQ1hBJ7mGqBjZvMuG1PtRZekBUAfhmooL72Mx4gOsY5-I2jZtuqH7IWzEr8tUrYNmBs6hCW7cc4ej9mJkOim3CulrqR-d6Rt0.a4YeTOdBl3HEDQC95EKgNepUYhhSYfqtZahS979J1A4&dib_tag=se&keywords=squirt+bottle&qid=1713470343&sprefix=squirt+bott%2Caps%2C311&sr=8-8\n",
      "\n",
      " text =  Squirt bottles\n",
      "\n",
      " link items =  ['ACM Economy Wash Bottle, LDPE, Squeeze Bottle Medical Label Tattoo (250ml. / 8oz / 1 Bottle)']\n"
     ]
    },
    {
     "data": {
      "application/vnd.jupyter.widget-view+json": {
       "model_id": "e96df7ef2e26460caf70763a017ffa8a",
       "version_major": 2,
       "version_minor": 0
      },
      "text/plain": [
       "Batches:   0%|          | 0/1 [00:00<?, ?it/s]"
      ]
     },
     "metadata": {},
     "output_type": "display_data"
    },
    {
     "name": "stdout",
     "output_type": "stream",
     "text": [
      "\n",
      " matches = [{'uuid': '945773aa-1825-4e89-b15d-d171f6fcc9d5', 'full_name': 'Glowforge Lantern Kits', 'locations': [{'room': 'The Crypt', 'container': '1b', 'specific': ''}], 'score': 0.5361748933792114}, {'uuid': '34308710-4f86-43a5-acfa-62aab11e2fa0', 'full_name': 'Out of Order Signs', 'locations': [{'room': 'Cage', 'container': '8d', 'specific': ''}], 'score': 0.46586498618125916}, {'uuid': '728305ca-99ec-491a-847f-24cb9c052303', 'full_name': 'Form Resin Color Kit — Formlabs Color Kit', 'locations': [{'room': 'Laser3D', 'container': 'Cabinet 3', 'specific': None}], 'score': 0.41272246837615967}]\n",
      "[LLM RAW][:300]: {\"item_uuid\":\"728305ca-99ec-491a-847f-24cb9c052303\",\"item_location\":\"Cabinet 3\"}\n",
      "[LLM PARSED]: {'item_uuid': '728305ca-99ec-491a-847f-24cb9c052303', 'item_location': 'Cabinet 3'}\n",
      "[LLM OK]: 728305ca-99ec-491a-847f-24cb9c052303 → Cabinet 3\n",
      "LLM RETURNED:\n",
      "728305ca-99ec-491a-847f-24cb9c052303\n",
      "Cabinet 3\n",
      "******************************************************\n",
      "message =  parchment paper-- a user requested it and it seems like a generally useful thing for us to have since people work with sticky things a lot https://www.amazon.com/Unbleached-Parchment-Bakers-Signature-Silicone/dp/B08PFL8SPV/ref=sr_1_3_sspa?crid=2QDCBNH4RLW3L&dib=eyJ2IjoiMSJ9.jCr7YyXKQRyClSLPkuH7Q-oAkCHfUY5eJV4zN9OklW8UQ6bFhwO2ikTfDIWO51Epy618ixeCooD-zFJVs7XotKVq3yOLFcIknudFEWc0ybZEvsrlvvECyTZ3UNKZoRSECnvd_pO7cUh9TMriD3tvjyKiuRXbvSnaEWsx36qAfitWKqfLJZTsBjSPdmJDUC6T7E3WGcl1oIdzNgvqcwHpcq_pptEgBzKRlnkNG3JqkDpp2AGSH53CaheF5uM5cq1KZJL_ytwcJohv1G-LghNZrjaVqXCus7x4c34iFCX9DLE.E-4CNJJaPAwMAQQa_bfroyTzKlfG9KtIUqlKpVACLog&dib_tag=se&keywords=parchment+paper&qid=1713501217&sprefix=parchm%2Caps%2C211&sr=8-3-spons&sp_csd=d2lkZ2V0TmFtZT1zcF9hdGY&psc=1\n",
      "\n",
      " text =  parchment paper-- a user requested it and it seems like a generally useful thing for us to have since people work with sticky things a lot\n",
      "\n",
      " link items =  ['260 Sq.Ft Unbleached Parchment Paper for Baking – Roll with Cutter, Heavy Duty Non-Stick Brown Parchment for Baking, Cooking, Grilling, Steaming and Air Fryer, 15in x 210ft by Baker’s Signature']\n"
     ]
    },
    {
     "data": {
      "application/vnd.jupyter.widget-view+json": {
       "model_id": "93bd21acd7b647179bc383fe1c20978b",
       "version_major": 2,
       "version_minor": 0
      },
      "text/plain": [
       "Batches:   0%|          | 0/1 [00:00<?, ?it/s]"
      ]
     },
     "metadata": {},
     "output_type": "display_data"
    },
    {
     "name": "stdout",
     "output_type": "stream",
     "text": [
      "\n",
      " matches = [{'uuid': 'b4c6a736-3e97-49bd-8130-b17b0fce8039', 'full_name': 'Black Acrylic Paint', 'locations': [{'room': 'Cage', 'container': '5c', 'specific': 'Stack 21|-3'}], 'score': 0.6767101287841797}, {'uuid': '3616172d-9978-4818-afab-bd2ad148c242', 'full_name': 'Parchment Paper', 'locations': [{'room': 'Cage', 'container': '4c', 'specific': ''}], 'score': 0.5272598266601562}, {'uuid': '3bb2efc0-59bb-41e5-a4d6-7fed88589108', 'full_name': 'Leather Seeder Tool', 'locations': [{'room': 'Studio', 'container': '', 'specific': ''}], 'score': 0.5095102787017822}]\n",
      "[LLM RAW][:300]: {\"item_uuid\":\"3616172d-9978-4818-afab-bd2ad148c242\",\"item_location\":\"Cage/Crypt/Other\"}\n",
      "[LLM PARSED]: {'item_uuid': '3616172d-9978-4818-afab-bd2ad148c242', 'item_location': 'Cage/Crypt/Other'}\n",
      "[LLM OK]: 3616172d-9978-4818-afab-bd2ad148c242 → Cage/Crypt/Other\n",
      "LLM RETURNED:\n",
      "3616172d-9978-4818-afab-bd2ad148c242\n",
      "Cage/Crypt/Other\n",
      "******************************************************\n",
      "message =  plastic bobbins-- https://www.amazon.com/Bobbins-Bro-Ther-Machine-Sin-ger-bobbins/dp/B09LXKXS85/ref=sr_1_3_sspa?crid=35LDEWDKJGHJ1&dib=eyJ2IjoiMSJ9.yvYI9u7Gam77MoyMmukdEzD7w0LxMarNdPqCfm1yVGD_OKR3nJ6YzfqJc6UZMmRcr6oBComcV_pVpi0X1uBOD3K5jKHEAykUjZ_BziaqUil8qSJPGogfl2fWy-rVmXFjRutDRC6Ls7AwOMKqx0Yhvp_5ZELsarOFLz9EQAQlEgMdbeRTOX3Vl3EUEib8PWEJJuFG1P2NP9jLo9JdF89EkM5LPaRBxgpkBMjRnRXnu0Mn4j9IyPhRtIPta6-Es5QE0KZ9Ok4DKGD_0OON636j8xN3DL2GzKRJj1gXxNERcJo.2TvOB0a0D8SOun5sLTrLmVkOrRuzpdtxFinmQ9QM_aQ&dib_tag=se&keywords=plastic+bobbins&qid=1713592180&sprefix=plastic+bobbin%2Caps%2C236&sr=8-3-spons&sp_csd=d2lkZ2V0TmFtZT1zcF9hdGY&psc=1\n",
      "\n",
      " text =  plastic bobbins--\n",
      "\n",
      " link items =  ['50 Pcs bobbins for Sewing Machine- Eoehro, Sa156 Bobbins, Bobbins Class 15, Sewing Accessories, Plastic Bobbin with Case(2 Box)']\n"
     ]
    },
    {
     "data": {
      "application/vnd.jupyter.widget-view+json": {
       "model_id": "5cd1bcfa835e43d1a0e727b305292cfc",
       "version_major": 2,
       "version_minor": 0
      },
      "text/plain": [
       "Batches:   0%|          | 0/1 [00:00<?, ?it/s]"
      ]
     },
     "metadata": {},
     "output_type": "display_data"
    },
    {
     "name": "stdout",
     "output_type": "stream",
     "text": [
      "\n",
      " matches = [{'uuid': 'f425db72-a9c6-4fbd-a3a8-38afab8adbb4', 'full_name': 'T-pins', 'locations': [{'room': 'Main', 'container': 'Pegboard 1', 'specific': 'F5'}], 'score': 0.6460720896720886}, {'uuid': '444a9e76-4a11-481d-bbc8-75369c0e297c', 'full_name': 'Polyester Thread', 'locations': [{'room': 'Main', 'container': 'Pegboard 1', 'specific': 'Front'}, {'room': 'Cage', 'container': '5e', 'specific': '|-3'}], 'score': 0.6295521259307861}, {'uuid': 'dbe7f3f9-1823-42dc-a10f-318ecc02d6a9', 'full_name': 'Loom Shuttle', 'locations': [{'room': 'The Crypt', 'container': '1e', 'specific': None}], 'score': 0.6268651485443115}]\n",
      "[LLM RAW][:300]: {\"item_uuid\":\"f425db72-a9c6-4fbd-a3a8-38afab8adbb4\",\"item_location\":\"Pegboard 1\"}\n",
      "[LLM PARSED]: {'item_uuid': 'f425db72-a9c6-4fbd-a3a8-38afab8adbb4', 'item_location': 'Pegboard 1'}\n",
      "[LLM OK]: f425db72-a9c6-4fbd-a3a8-38afab8adbb4 → Pegboard 1\n",
      "LLM RETURNED:\n",
      "f425db72-a9c6-4fbd-a3a8-38afab8adbb4\n",
      "Pegboard 1\n",
      "******************************************************\n",
      "message =  metal bobbins-- https://www.amazon.com/Bobbins-BetyBedy-Bro-Ther-Baby-Lock-Accessories/dp/B0BR6QWX8B/ref=sr_1_5?crid=G06FQEJAEBSR&dib=eyJ2IjoiMSJ9.pdyPjzSu5cVKV06Grh8cMuTfDdTV-h0eMMXvmQrk7-TliKd18Q-Nvby6OSRxKAnKr3NtRnw_SVpD_SnND4TYPINcZ5ug01ZjVgOVVB8qo4GlaiP43q57xK48HfUXgftRAqZvoAdZmanM9XLbDKclKdNwRmd_HY0EoMjfhEBW2GxiWqdZ3rjrgTiRxSYESGA_mnlMTgEKHv3iU9m6SV4Z44p-yb3qnaPVB4__hblf7WKVUxd1yCphdVPSWBL7zk3pglvs3lTjA1OA2wP5_gFbJQXZJtmV6KUU_DycbAgUIgU.57laRsUF48vea8z6lNT8KvgUyr2rrEF2OCQW9Ahrpy8&dib_tag=se&keywords=metal+bobbins&qid=1713592216&sprefix=metal+bobbins%2Caps%2C117&sr=8-5\n",
      "\n",
      " text =  metal bobbins--\n",
      "\n",
      " link items =  ['36Pcs Metal Bobbins with Bobbin Case, Sewing Machine Bobbins for Craft Sewing, BetyBedy Metal Bobbins Set for Bro-Ther/Baby-Lock/Jano-me/El-na/Sin-ger, Sewing Machine Accessories']\n"
     ]
    },
    {
     "data": {
      "application/vnd.jupyter.widget-view+json": {
       "model_id": "46344e8362b944adad43c390cf58d158",
       "version_major": 2,
       "version_minor": 0
      },
      "text/plain": [
       "Batches:   0%|          | 0/1 [00:00<?, ?it/s]"
      ]
     },
     "metadata": {},
     "output_type": "display_data"
    },
    {
     "name": "stdout",
     "output_type": "stream",
     "text": [
      "\n",
      " matches = [{'uuid': '444a9e76-4a11-481d-bbc8-75369c0e297c', 'full_name': 'Polyester Thread', 'locations': [{'room': 'Main', 'container': 'Pegboard 1', 'specific': 'Front'}, {'room': 'Cage', 'container': '5e', 'specific': '|-3'}], 'score': 0.7131814360618591}, {'uuid': 'f425db72-a9c6-4fbd-a3a8-38afab8adbb4', 'full_name': 'T-pins', 'locations': [{'room': 'Main', 'container': 'Pegboard 1', 'specific': 'F5'}], 'score': 0.6575434803962708}, {'uuid': 'dbe7f3f9-1823-42dc-a10f-318ecc02d6a9', 'full_name': 'Loom Shuttle', 'locations': [{'room': 'The Crypt', 'container': '1e', 'specific': None}], 'score': 0.6028560400009155}]\n",
      "[LLM RAW][:300]: {\"item_uuid\":\"f425db72-a9c6-4fbd-a3a8-38afab8adbb4\",\"item_location\":\"Pegboard 1\"}\n",
      "[LLM PARSED]: {'item_uuid': 'f425db72-a9c6-4fbd-a3a8-38afab8adbb4', 'item_location': 'Pegboard 1'}\n",
      "[LLM OK]: f425db72-a9c6-4fbd-a3a8-38afab8adbb4 → Pegboard 1\n",
      "LLM RETURNED:\n",
      "f425db72-a9c6-4fbd-a3a8-38afab8adbb4\n",
      "Pegboard 1\n",
      "******************************************************\n",
      "message =  Paper bags\n",
      "\n",
      " text =  Paper bags\n",
      "\n",
      " link items =  []\n"
     ]
    },
    {
     "data": {
      "application/vnd.jupyter.widget-view+json": {
       "model_id": "421d4f458ab54340b7a4a2bf2eabdafb",
       "version_major": 2,
       "version_minor": 0
      },
      "text/plain": [
       "Batches:   0%|          | 0/1 [00:00<?, ?it/s]"
      ]
     },
     "metadata": {},
     "output_type": "display_data"
    },
    {
     "name": "stdout",
     "output_type": "stream",
     "text": [
      "\n",
      " matches = [{'uuid': '5a98d960-9e40-4a13-9a2f-1e097703e5c3', 'full_name': 'Fabric Rolls', 'locations': [{'room': 'Main', 'container': 'Fabrics', 'specific': None}, {'room': 'Backstock', 'container': 'Floor', 'specific': '|0'}], 'score': 0.7424685955047607}, {'uuid': 'deefe806-5849-4585-a89e-933b82a73dac', 'full_name': 'Cardboard', 'locations': [{'room': 'Main', 'container': 'Fabrics Area', 'specific': None}], 'score': 0.7062910199165344}, {'uuid': '57a69e4e-82d0-4377-83e4-3c2b1f572254', 'full_name': 'Metal Scrap', 'locations': [{'room': 'Cage', 'container': '4b', 'specific': ''}], 'score': 0.6621710658073425}]\n",
      "[LLM RAW][:300]: {\"item_uuid\":\"deefe806-5849-4585-a89e-933b82a73dac\",\"item_location\":\"Fabric\"}\n",
      "[LLM PARSED]: {'item_uuid': 'deefe806-5849-4585-a89e-933b82a73dac', 'item_location': 'Fabric'}\n",
      "[LLM OK]: deefe806-5849-4585-a89e-933b82a73dac → Fabric\n",
      "LLM RETURNED:\n",
      "deefe806-5849-4585-a89e-933b82a73dac\n",
      "Fabric\n",
      "******************************************************\n",
      "message =  Small super glue tubes https://a.co/d/f2MHQj0\n",
      "\n",
      " text =  Small super glue tubes\n",
      "\n",
      " link items =  ['Super Glue 15187 , Clear- pack of 12']\n"
     ]
    },
    {
     "data": {
      "application/vnd.jupyter.widget-view+json": {
       "model_id": "270a89a2c1974306a7314bbc720e451a",
       "version_major": 2,
       "version_minor": 0
      },
      "text/plain": [
       "Batches:   0%|          | 0/1 [00:00<?, ?it/s]"
      ]
     },
     "metadata": {},
     "output_type": "display_data"
    },
    {
     "name": "stdout",
     "output_type": "stream",
     "text": [
      "\n",
      " matches = [{'uuid': 'afde04e1-4135-496c-903e-dd5a2d4a1334', 'full_name': 'Tacky Glue', 'locations': [{'room': 'Main', 'container': 'Cabinet 5', 'specific': 'Shelf 1'}, {'room': 'Cage', 'container': '5d', 'specific': 'Stack 4|1'}], 'score': 0.7459425330162048}, {'uuid': 'c57f9472-89ca-4b27-9df0-adbd9b34aa02', 'full_name': 'Leatherworking Tools', 'locations': [{'room': 'Main', 'container': 'Cabinet 9', 'specific': 'Shelf 4'}], 'score': 0.6460705399513245}, {'uuid': '0662010e-3d64-4111-956c-e1e2703ee704', 'full_name': 'Zippers', 'locations': [{'room': 'Main', 'container': 'Cabinet 1', 'specific': 'Shelf 14'}, {'room': 'Cage', 'container': '5c', 'specific': 'Stack 23|-3'}], 'score': 0.643201470375061}]\n",
      "[LLM RAW][:300]: {\"item_uuid\":\"afde04e1-4135-496c-903e-dd5a2d4a1334\",\"item_location\":\"Cabinet 5\"}\n",
      "[LLM PARSED]: {'item_uuid': 'afde04e1-4135-496c-903e-dd5a2d4a1334', 'item_location': 'Cabinet 5'}\n",
      "[LLM OK]: afde04e1-4135-496c-903e-dd5a2d4a1334 → Cabinet 5\n",
      "LLM RETURNED:\n",
      "afde04e1-4135-496c-903e-dd5a2d4a1334\n",
      "Cabinet 5\n",
      "******************************************************\n",
      "message =  Modge podge both matte (https://a.co/d/fYTyE4l or smaller size) and glossy (https://a.co/d/0tqQtSd)\n",
      "\n",
      " text =  Modge podge both matte ( or smaller size) and glossy (\n",
      "\n",
      " link items =  ['Mod Podge CS11304 Waterbase Sealer, Glue and Finish, 128 oz, Matte', 'Mod Podge Gloss Sealer, Glue & Finish: All-in-One Craft Solution- Quick Dry, Easy Clean, for Wood, Paper, Fabric & More. Non-Toxic - Craft with Confidence, Made in USA, 32 oz., Pack of 1']\n"
     ]
    },
    {
     "data": {
      "application/vnd.jupyter.widget-view+json": {
       "model_id": "304acbdc0d5647e6b37e887d9e4312ec",
       "version_major": 2,
       "version_minor": 0
      },
      "text/plain": [
       "Batches:   0%|          | 0/1 [00:00<?, ?it/s]"
      ]
     },
     "metadata": {},
     "output_type": "display_data"
    },
    {
     "name": "stdout",
     "output_type": "stream",
     "text": [
      "\n",
      " matches = [{'uuid': '7d2d9f6e-ec2d-4dbb-b1d4-db6824e4174d', 'full_name': 'Spring Clamps', 'locations': [{'room': 'Main', 'container': 'Cabinet 11', 'specific': 'Shelf 9'}, {'room': 'Backstock', 'container': 'Shelf 2', 'specific': '|9'}], 'score': 0.5485905408859253}, {'uuid': '7fe932a0-035c-44c4-a1f1-427692f87187', 'full_name': 'Cricut Lint Roller', 'locations': [{'room': 'Cage', 'container': '1d', 'specific': ''}, {'room': 'Backstock', 'container': 'Shelf 2', 'specific': '|1'}], 'score': 0.5218009948730469}, {'uuid': '0fdb1a6f-30bb-4c4b-899c-7f6ca2fb6e1a', 'full_name': 'Rubber Mallets — Fiber Glass Handle Rubber Mallets', 'locations': [{'room': 'Main', 'container': 'Cabinet 11', 'specific': 'Shelf 5'}, {'room': 'Backstock', 'container': 'Shelf 2', 'specific': '|2'}], 'score': 0.5062304139137268}]\n"
     ]
    },
    {
     "ename": "KeyboardInterrupt",
     "evalue": "",
     "output_type": "error",
     "traceback": [
      "\u001b[31m---------------------------------------------------------------------------\u001b[39m",
      "\u001b[31mKeyboardInterrupt\u001b[39m                         Traceback (most recent call last)",
      "\u001b[36mCell\u001b[39m\u001b[36m \u001b[39m\u001b[32mIn[14]\u001b[39m\u001b[32m, line 38\u001b[39m\n\u001b[32m     35\u001b[39m \u001b[38;5;28mprint\u001b[39m (\u001b[33m\"\u001b[39m\u001b[38;5;130;01m\\n\u001b[39;00m\u001b[33m matches =\u001b[39m\u001b[33m\"\u001b[39m, three_possible_matches)\n\u001b[32m     37\u001b[39m \u001b[38;5;66;03m# Ask LLM (or stub) to choose final item + area\u001b[39;00m\n\u001b[32m---> \u001b[39m\u001b[32m38\u001b[39m item_uuid, item_area = \u001b[43mllm_match\u001b[49m\u001b[43m(\u001b[49m\u001b[43muser_request_text\u001b[49m\u001b[43m,\u001b[49m\u001b[43m \u001b[49m\u001b[43mlinks_items_list\u001b[49m\u001b[43m,\u001b[49m\u001b[43m \u001b[49m\u001b[43mthree_possible_matches\u001b[49m\u001b[43m)\u001b[49m\n\u001b[32m     40\u001b[39m \u001b[38;5;28mprint\u001b[39m (\u001b[33m\"\u001b[39m\u001b[33mLLM RETURNED:\u001b[39m\u001b[33m\"\u001b[39m)\n\u001b[32m     41\u001b[39m \u001b[38;5;28mprint\u001b[39m (item_uuid)\n",
      "\u001b[36mCell\u001b[39m\u001b[36m \u001b[39m\u001b[32mIn[11]\u001b[39m\u001b[32m, line 77\u001b[39m, in \u001b[36mllm_match\u001b[39m\u001b[34m(user_request_text, links_items_list, three_possible_matches)\u001b[39m\n\u001b[32m     63\u001b[39m schema = {\n\u001b[32m     64\u001b[39m     \u001b[33m\"\u001b[39m\u001b[33mtype\u001b[39m\u001b[33m\"\u001b[39m: \u001b[33m\"\u001b[39m\u001b[33mobject\u001b[39m\u001b[33m\"\u001b[39m,\n\u001b[32m     65\u001b[39m     \u001b[33m\"\u001b[39m\u001b[33mproperties\u001b[39m\u001b[33m\"\u001b[39m: {\n\u001b[32m   (...)\u001b[39m\u001b[32m     70\u001b[39m     \u001b[33m\"\u001b[39m\u001b[33madditionalProperties\u001b[39m\u001b[33m\"\u001b[39m: \u001b[38;5;28;01mFalse\u001b[39;00m,\n\u001b[32m     71\u001b[39m }\n\u001b[32m     73\u001b[39m \u001b[38;5;28;01mtry\u001b[39;00m:\n\u001b[32m     74\u001b[39m     \u001b[38;5;66;03m# ---- CALL THE CHAT COMPLETIONS API ----\u001b[39;00m\n\u001b[32m     75\u001b[39m     \u001b[38;5;66;03m# NOTE: 'response_format={\"type\": \"json_object\"}' instructs the model to return JSON,\u001b[39;00m\n\u001b[32m     76\u001b[39m     \u001b[38;5;66;03m# but the JSON still arrives in choices[0].message.content (string), not as 'output_text'.\u001b[39;00m\n\u001b[32m---> \u001b[39m\u001b[32m77\u001b[39m     resp = \u001b[43m_oai_client\u001b[49m\u001b[43m.\u001b[49m\u001b[43mchat\u001b[49m\u001b[43m.\u001b[49m\u001b[43mcompletions\u001b[49m\u001b[43m.\u001b[49m\u001b[43mcreate\u001b[49m\u001b[43m(\u001b[49m\n\u001b[32m     78\u001b[39m \u001b[43m        \u001b[49m\u001b[43mmodel\u001b[49m\u001b[43m=\u001b[49m\u001b[33;43m\"\u001b[39;49m\u001b[33;43mgpt-4o-mini\u001b[39;49m\u001b[33;43m\"\u001b[39;49m\u001b[43m,\u001b[49m\n\u001b[32m     79\u001b[39m \u001b[43m        \u001b[49m\u001b[43mresponse_format\u001b[49m\u001b[43m=\u001b[49m\u001b[43m{\u001b[49m\u001b[33;43m\"\u001b[39;49m\u001b[33;43mtype\u001b[39;49m\u001b[33;43m\"\u001b[39;49m\u001b[43m:\u001b[49m\u001b[43m \u001b[49m\u001b[33;43m\"\u001b[39;49m\u001b[33;43mjson_object\u001b[39;49m\u001b[33;43m\"\u001b[39;49m\u001b[43m}\u001b[49m\u001b[43m,\u001b[49m\n\u001b[32m     80\u001b[39m \u001b[43m        \u001b[49m\u001b[43mmessages\u001b[49m\u001b[43m=\u001b[49m\u001b[43m[\u001b[49m\n\u001b[32m     81\u001b[39m \u001b[43m            \u001b[49m\u001b[43m{\u001b[49m\u001b[33;43m\"\u001b[39;49m\u001b[33;43mrole\u001b[39;49m\u001b[33;43m\"\u001b[39;49m\u001b[43m:\u001b[49m\u001b[43m \u001b[49m\u001b[33;43m\"\u001b[39;49m\u001b[33;43msystem\u001b[39;49m\u001b[33;43m\"\u001b[39;49m\u001b[43m,\u001b[49m\u001b[43m \u001b[49m\u001b[33;43m\"\u001b[39;49m\u001b[33;43mcontent\u001b[39;49m\u001b[33;43m\"\u001b[39;49m\u001b[43m:\u001b[49m\u001b[43m \u001b[49m\u001b[43msystem_instructions\u001b[49m\u001b[43m}\u001b[49m\u001b[43m,\u001b[49m\n\u001b[32m     82\u001b[39m \u001b[43m            \u001b[49m\u001b[43m{\u001b[49m\u001b[33;43m\"\u001b[39;49m\u001b[33;43mrole\u001b[39;49m\u001b[33;43m\"\u001b[39;49m\u001b[43m:\u001b[49m\u001b[43m \u001b[49m\u001b[33;43m\"\u001b[39;49m\u001b[33;43muser\u001b[39;49m\u001b[33;43m\"\u001b[39;49m\u001b[43m,\u001b[49m\u001b[43m \u001b[49m\u001b[33;43m\"\u001b[39;49m\u001b[33;43mcontent\u001b[39;49m\u001b[33;43m\"\u001b[39;49m\u001b[43m:\u001b[49m\u001b[43m \u001b[49m\u001b[43mjson\u001b[49m\u001b[43m.\u001b[49m\u001b[43mdumps\u001b[49m\u001b[43m(\u001b[49m\u001b[43muser_payload\u001b[49m\u001b[43m,\u001b[49m\u001b[43m \u001b[49m\u001b[43mensure_ascii\u001b[49m\u001b[43m=\u001b[49m\u001b[38;5;28;43;01mFalse\u001b[39;49;00m\u001b[43m)\u001b[49m\u001b[43m}\u001b[49m\u001b[43m,\u001b[49m\n\u001b[32m     83\u001b[39m \u001b[43m        \u001b[49m\u001b[43m]\u001b[49m\u001b[43m,\u001b[49m\n\u001b[32m     84\u001b[39m \u001b[43m        \u001b[49m\u001b[43mtemperature\u001b[49m\u001b[43m=\u001b[49m\u001b[32;43m0\u001b[39;49m\u001b[43m,\u001b[49m\n\u001b[32m     85\u001b[39m \u001b[43m    \u001b[49m\u001b[43m)\u001b[49m\n\u001b[32m     87\u001b[39m     \u001b[38;5;66;03m# --- Unified extraction of raw text (handles both APIs if you later switch back) ---\u001b[39;00m\n\u001b[32m     88\u001b[39m     raw: Optional[\u001b[38;5;28mstr\u001b[39m] = \u001b[38;5;28mgetattr\u001b[39m(resp, \u001b[33m\"\u001b[39m\u001b[33moutput_text\u001b[39m\u001b[33m\"\u001b[39m, \u001b[38;5;28;01mNone\u001b[39;00m)  \u001b[38;5;66;03m# Responses API\u001b[39;00m\n",
      "\u001b[36mFile \u001b[39m\u001b[32m~/Downloads/inventory_restock_analysis/.venv/lib/python3.13/site-packages/openai/_utils/_utils.py:287\u001b[39m, in \u001b[36mrequired_args.<locals>.inner.<locals>.wrapper\u001b[39m\u001b[34m(*args, **kwargs)\u001b[39m\n\u001b[32m    285\u001b[39m             msg = \u001b[33mf\u001b[39m\u001b[33m\"\u001b[39m\u001b[33mMissing required argument: \u001b[39m\u001b[38;5;132;01m{\u001b[39;00mquote(missing[\u001b[32m0\u001b[39m])\u001b[38;5;132;01m}\u001b[39;00m\u001b[33m\"\u001b[39m\n\u001b[32m    286\u001b[39m     \u001b[38;5;28;01mraise\u001b[39;00m \u001b[38;5;167;01mTypeError\u001b[39;00m(msg)\n\u001b[32m--> \u001b[39m\u001b[32m287\u001b[39m \u001b[38;5;28;01mreturn\u001b[39;00m \u001b[43mfunc\u001b[49m\u001b[43m(\u001b[49m\u001b[43m*\u001b[49m\u001b[43margs\u001b[49m\u001b[43m,\u001b[49m\u001b[43m \u001b[49m\u001b[43m*\u001b[49m\u001b[43m*\u001b[49m\u001b[43mkwargs\u001b[49m\u001b[43m)\u001b[49m\n",
      "\u001b[36mFile \u001b[39m\u001b[32m~/Downloads/inventory_restock_analysis/.venv/lib/python3.13/site-packages/openai/resources/chat/completions/completions.py:1147\u001b[39m, in \u001b[36mCompletions.create\u001b[39m\u001b[34m(self, messages, model, audio, frequency_penalty, function_call, functions, logit_bias, logprobs, max_completion_tokens, max_tokens, metadata, modalities, n, parallel_tool_calls, prediction, presence_penalty, prompt_cache_key, reasoning_effort, response_format, safety_identifier, seed, service_tier, stop, store, stream, stream_options, temperature, tool_choice, tools, top_logprobs, top_p, user, verbosity, web_search_options, extra_headers, extra_query, extra_body, timeout)\u001b[39m\n\u001b[32m   1101\u001b[39m \u001b[38;5;129m@required_args\u001b[39m([\u001b[33m\"\u001b[39m\u001b[33mmessages\u001b[39m\u001b[33m\"\u001b[39m, \u001b[33m\"\u001b[39m\u001b[33mmodel\u001b[39m\u001b[33m\"\u001b[39m], [\u001b[33m\"\u001b[39m\u001b[33mmessages\u001b[39m\u001b[33m\"\u001b[39m, \u001b[33m\"\u001b[39m\u001b[33mmodel\u001b[39m\u001b[33m\"\u001b[39m, \u001b[33m\"\u001b[39m\u001b[33mstream\u001b[39m\u001b[33m\"\u001b[39m])\n\u001b[32m   1102\u001b[39m \u001b[38;5;28;01mdef\u001b[39;00m\u001b[38;5;250m \u001b[39m\u001b[34mcreate\u001b[39m(\n\u001b[32m   1103\u001b[39m     \u001b[38;5;28mself\u001b[39m,\n\u001b[32m   (...)\u001b[39m\u001b[32m   1144\u001b[39m     timeout: \u001b[38;5;28mfloat\u001b[39m | httpx.Timeout | \u001b[38;5;28;01mNone\u001b[39;00m | NotGiven = NOT_GIVEN,\n\u001b[32m   1145\u001b[39m ) -> ChatCompletion | Stream[ChatCompletionChunk]:\n\u001b[32m   1146\u001b[39m     validate_response_format(response_format)\n\u001b[32m-> \u001b[39m\u001b[32m1147\u001b[39m     \u001b[38;5;28;01mreturn\u001b[39;00m \u001b[38;5;28;43mself\u001b[39;49m\u001b[43m.\u001b[49m\u001b[43m_post\u001b[49m\u001b[43m(\u001b[49m\n\u001b[32m   1148\u001b[39m \u001b[43m        \u001b[49m\u001b[33;43m\"\u001b[39;49m\u001b[33;43m/chat/completions\u001b[39;49m\u001b[33;43m\"\u001b[39;49m\u001b[43m,\u001b[49m\n\u001b[32m   1149\u001b[39m \u001b[43m        \u001b[49m\u001b[43mbody\u001b[49m\u001b[43m=\u001b[49m\u001b[43mmaybe_transform\u001b[49m\u001b[43m(\u001b[49m\n\u001b[32m   1150\u001b[39m \u001b[43m            \u001b[49m\u001b[43m{\u001b[49m\n\u001b[32m   1151\u001b[39m \u001b[43m                \u001b[49m\u001b[33;43m\"\u001b[39;49m\u001b[33;43mmessages\u001b[39;49m\u001b[33;43m\"\u001b[39;49m\u001b[43m:\u001b[49m\u001b[43m \u001b[49m\u001b[43mmessages\u001b[49m\u001b[43m,\u001b[49m\n\u001b[32m   1152\u001b[39m \u001b[43m                \u001b[49m\u001b[33;43m\"\u001b[39;49m\u001b[33;43mmodel\u001b[39;49m\u001b[33;43m\"\u001b[39;49m\u001b[43m:\u001b[49m\u001b[43m \u001b[49m\u001b[43mmodel\u001b[49m\u001b[43m,\u001b[49m\n\u001b[32m   1153\u001b[39m \u001b[43m                \u001b[49m\u001b[33;43m\"\u001b[39;49m\u001b[33;43maudio\u001b[39;49m\u001b[33;43m\"\u001b[39;49m\u001b[43m:\u001b[49m\u001b[43m \u001b[49m\u001b[43maudio\u001b[49m\u001b[43m,\u001b[49m\n\u001b[32m   1154\u001b[39m \u001b[43m                \u001b[49m\u001b[33;43m\"\u001b[39;49m\u001b[33;43mfrequency_penalty\u001b[39;49m\u001b[33;43m\"\u001b[39;49m\u001b[43m:\u001b[49m\u001b[43m \u001b[49m\u001b[43mfrequency_penalty\u001b[49m\u001b[43m,\u001b[49m\n\u001b[32m   1155\u001b[39m \u001b[43m                \u001b[49m\u001b[33;43m\"\u001b[39;49m\u001b[33;43mfunction_call\u001b[39;49m\u001b[33;43m\"\u001b[39;49m\u001b[43m:\u001b[49m\u001b[43m \u001b[49m\u001b[43mfunction_call\u001b[49m\u001b[43m,\u001b[49m\n\u001b[32m   1156\u001b[39m \u001b[43m                \u001b[49m\u001b[33;43m\"\u001b[39;49m\u001b[33;43mfunctions\u001b[39;49m\u001b[33;43m\"\u001b[39;49m\u001b[43m:\u001b[49m\u001b[43m \u001b[49m\u001b[43mfunctions\u001b[49m\u001b[43m,\u001b[49m\n\u001b[32m   1157\u001b[39m \u001b[43m                \u001b[49m\u001b[33;43m\"\u001b[39;49m\u001b[33;43mlogit_bias\u001b[39;49m\u001b[33;43m\"\u001b[39;49m\u001b[43m:\u001b[49m\u001b[43m \u001b[49m\u001b[43mlogit_bias\u001b[49m\u001b[43m,\u001b[49m\n\u001b[32m   1158\u001b[39m \u001b[43m                \u001b[49m\u001b[33;43m\"\u001b[39;49m\u001b[33;43mlogprobs\u001b[39;49m\u001b[33;43m\"\u001b[39;49m\u001b[43m:\u001b[49m\u001b[43m \u001b[49m\u001b[43mlogprobs\u001b[49m\u001b[43m,\u001b[49m\n\u001b[32m   1159\u001b[39m \u001b[43m                \u001b[49m\u001b[33;43m\"\u001b[39;49m\u001b[33;43mmax_completion_tokens\u001b[39;49m\u001b[33;43m\"\u001b[39;49m\u001b[43m:\u001b[49m\u001b[43m \u001b[49m\u001b[43mmax_completion_tokens\u001b[49m\u001b[43m,\u001b[49m\n\u001b[32m   1160\u001b[39m \u001b[43m                \u001b[49m\u001b[33;43m\"\u001b[39;49m\u001b[33;43mmax_tokens\u001b[39;49m\u001b[33;43m\"\u001b[39;49m\u001b[43m:\u001b[49m\u001b[43m \u001b[49m\u001b[43mmax_tokens\u001b[49m\u001b[43m,\u001b[49m\n\u001b[32m   1161\u001b[39m \u001b[43m                \u001b[49m\u001b[33;43m\"\u001b[39;49m\u001b[33;43mmetadata\u001b[39;49m\u001b[33;43m\"\u001b[39;49m\u001b[43m:\u001b[49m\u001b[43m \u001b[49m\u001b[43mmetadata\u001b[49m\u001b[43m,\u001b[49m\n\u001b[32m   1162\u001b[39m \u001b[43m                \u001b[49m\u001b[33;43m\"\u001b[39;49m\u001b[33;43mmodalities\u001b[39;49m\u001b[33;43m\"\u001b[39;49m\u001b[43m:\u001b[49m\u001b[43m \u001b[49m\u001b[43mmodalities\u001b[49m\u001b[43m,\u001b[49m\n\u001b[32m   1163\u001b[39m \u001b[43m                \u001b[49m\u001b[33;43m\"\u001b[39;49m\u001b[33;43mn\u001b[39;49m\u001b[33;43m\"\u001b[39;49m\u001b[43m:\u001b[49m\u001b[43m \u001b[49m\u001b[43mn\u001b[49m\u001b[43m,\u001b[49m\n\u001b[32m   1164\u001b[39m \u001b[43m                \u001b[49m\u001b[33;43m\"\u001b[39;49m\u001b[33;43mparallel_tool_calls\u001b[39;49m\u001b[33;43m\"\u001b[39;49m\u001b[43m:\u001b[49m\u001b[43m \u001b[49m\u001b[43mparallel_tool_calls\u001b[49m\u001b[43m,\u001b[49m\n\u001b[32m   1165\u001b[39m \u001b[43m                \u001b[49m\u001b[33;43m\"\u001b[39;49m\u001b[33;43mprediction\u001b[39;49m\u001b[33;43m\"\u001b[39;49m\u001b[43m:\u001b[49m\u001b[43m \u001b[49m\u001b[43mprediction\u001b[49m\u001b[43m,\u001b[49m\n\u001b[32m   1166\u001b[39m \u001b[43m                \u001b[49m\u001b[33;43m\"\u001b[39;49m\u001b[33;43mpresence_penalty\u001b[39;49m\u001b[33;43m\"\u001b[39;49m\u001b[43m:\u001b[49m\u001b[43m \u001b[49m\u001b[43mpresence_penalty\u001b[49m\u001b[43m,\u001b[49m\n\u001b[32m   1167\u001b[39m \u001b[43m                \u001b[49m\u001b[33;43m\"\u001b[39;49m\u001b[33;43mprompt_cache_key\u001b[39;49m\u001b[33;43m\"\u001b[39;49m\u001b[43m:\u001b[49m\u001b[43m \u001b[49m\u001b[43mprompt_cache_key\u001b[49m\u001b[43m,\u001b[49m\n\u001b[32m   1168\u001b[39m \u001b[43m                \u001b[49m\u001b[33;43m\"\u001b[39;49m\u001b[33;43mreasoning_effort\u001b[39;49m\u001b[33;43m\"\u001b[39;49m\u001b[43m:\u001b[49m\u001b[43m \u001b[49m\u001b[43mreasoning_effort\u001b[49m\u001b[43m,\u001b[49m\n\u001b[32m   1169\u001b[39m \u001b[43m                \u001b[49m\u001b[33;43m\"\u001b[39;49m\u001b[33;43mresponse_format\u001b[39;49m\u001b[33;43m\"\u001b[39;49m\u001b[43m:\u001b[49m\u001b[43m \u001b[49m\u001b[43mresponse_format\u001b[49m\u001b[43m,\u001b[49m\n\u001b[32m   1170\u001b[39m \u001b[43m                \u001b[49m\u001b[33;43m\"\u001b[39;49m\u001b[33;43msafety_identifier\u001b[39;49m\u001b[33;43m\"\u001b[39;49m\u001b[43m:\u001b[49m\u001b[43m \u001b[49m\u001b[43msafety_identifier\u001b[49m\u001b[43m,\u001b[49m\n\u001b[32m   1171\u001b[39m \u001b[43m                \u001b[49m\u001b[33;43m\"\u001b[39;49m\u001b[33;43mseed\u001b[39;49m\u001b[33;43m\"\u001b[39;49m\u001b[43m:\u001b[49m\u001b[43m \u001b[49m\u001b[43mseed\u001b[49m\u001b[43m,\u001b[49m\n\u001b[32m   1172\u001b[39m \u001b[43m                \u001b[49m\u001b[33;43m\"\u001b[39;49m\u001b[33;43mservice_tier\u001b[39;49m\u001b[33;43m\"\u001b[39;49m\u001b[43m:\u001b[49m\u001b[43m \u001b[49m\u001b[43mservice_tier\u001b[49m\u001b[43m,\u001b[49m\n\u001b[32m   1173\u001b[39m \u001b[43m                \u001b[49m\u001b[33;43m\"\u001b[39;49m\u001b[33;43mstop\u001b[39;49m\u001b[33;43m\"\u001b[39;49m\u001b[43m:\u001b[49m\u001b[43m \u001b[49m\u001b[43mstop\u001b[49m\u001b[43m,\u001b[49m\n\u001b[32m   1174\u001b[39m \u001b[43m                \u001b[49m\u001b[33;43m\"\u001b[39;49m\u001b[33;43mstore\u001b[39;49m\u001b[33;43m\"\u001b[39;49m\u001b[43m:\u001b[49m\u001b[43m \u001b[49m\u001b[43mstore\u001b[49m\u001b[43m,\u001b[49m\n\u001b[32m   1175\u001b[39m \u001b[43m                \u001b[49m\u001b[33;43m\"\u001b[39;49m\u001b[33;43mstream\u001b[39;49m\u001b[33;43m\"\u001b[39;49m\u001b[43m:\u001b[49m\u001b[43m \u001b[49m\u001b[43mstream\u001b[49m\u001b[43m,\u001b[49m\n\u001b[32m   1176\u001b[39m \u001b[43m                \u001b[49m\u001b[33;43m\"\u001b[39;49m\u001b[33;43mstream_options\u001b[39;49m\u001b[33;43m\"\u001b[39;49m\u001b[43m:\u001b[49m\u001b[43m \u001b[49m\u001b[43mstream_options\u001b[49m\u001b[43m,\u001b[49m\n\u001b[32m   1177\u001b[39m \u001b[43m                \u001b[49m\u001b[33;43m\"\u001b[39;49m\u001b[33;43mtemperature\u001b[39;49m\u001b[33;43m\"\u001b[39;49m\u001b[43m:\u001b[49m\u001b[43m \u001b[49m\u001b[43mtemperature\u001b[49m\u001b[43m,\u001b[49m\n\u001b[32m   1178\u001b[39m \u001b[43m                \u001b[49m\u001b[33;43m\"\u001b[39;49m\u001b[33;43mtool_choice\u001b[39;49m\u001b[33;43m\"\u001b[39;49m\u001b[43m:\u001b[49m\u001b[43m \u001b[49m\u001b[43mtool_choice\u001b[49m\u001b[43m,\u001b[49m\n\u001b[32m   1179\u001b[39m \u001b[43m                \u001b[49m\u001b[33;43m\"\u001b[39;49m\u001b[33;43mtools\u001b[39;49m\u001b[33;43m\"\u001b[39;49m\u001b[43m:\u001b[49m\u001b[43m \u001b[49m\u001b[43mtools\u001b[49m\u001b[43m,\u001b[49m\n\u001b[32m   1180\u001b[39m \u001b[43m                \u001b[49m\u001b[33;43m\"\u001b[39;49m\u001b[33;43mtop_logprobs\u001b[39;49m\u001b[33;43m\"\u001b[39;49m\u001b[43m:\u001b[49m\u001b[43m \u001b[49m\u001b[43mtop_logprobs\u001b[49m\u001b[43m,\u001b[49m\n\u001b[32m   1181\u001b[39m \u001b[43m                \u001b[49m\u001b[33;43m\"\u001b[39;49m\u001b[33;43mtop_p\u001b[39;49m\u001b[33;43m\"\u001b[39;49m\u001b[43m:\u001b[49m\u001b[43m \u001b[49m\u001b[43mtop_p\u001b[49m\u001b[43m,\u001b[49m\n\u001b[32m   1182\u001b[39m \u001b[43m                \u001b[49m\u001b[33;43m\"\u001b[39;49m\u001b[33;43muser\u001b[39;49m\u001b[33;43m\"\u001b[39;49m\u001b[43m:\u001b[49m\u001b[43m \u001b[49m\u001b[43muser\u001b[49m\u001b[43m,\u001b[49m\n\u001b[32m   1183\u001b[39m \u001b[43m                \u001b[49m\u001b[33;43m\"\u001b[39;49m\u001b[33;43mverbosity\u001b[39;49m\u001b[33;43m\"\u001b[39;49m\u001b[43m:\u001b[49m\u001b[43m \u001b[49m\u001b[43mverbosity\u001b[49m\u001b[43m,\u001b[49m\n\u001b[32m   1184\u001b[39m \u001b[43m                \u001b[49m\u001b[33;43m\"\u001b[39;49m\u001b[33;43mweb_search_options\u001b[39;49m\u001b[33;43m\"\u001b[39;49m\u001b[43m:\u001b[49m\u001b[43m \u001b[49m\u001b[43mweb_search_options\u001b[49m\u001b[43m,\u001b[49m\n\u001b[32m   1185\u001b[39m \u001b[43m            \u001b[49m\u001b[43m}\u001b[49m\u001b[43m,\u001b[49m\n\u001b[32m   1186\u001b[39m \u001b[43m            \u001b[49m\u001b[43mcompletion_create_params\u001b[49m\u001b[43m.\u001b[49m\u001b[43mCompletionCreateParamsStreaming\u001b[49m\n\u001b[32m   1187\u001b[39m \u001b[43m            \u001b[49m\u001b[38;5;28;43;01mif\u001b[39;49;00m\u001b[43m \u001b[49m\u001b[43mstream\u001b[49m\n\u001b[32m   1188\u001b[39m \u001b[43m            \u001b[49m\u001b[38;5;28;43;01melse\u001b[39;49;00m\u001b[43m \u001b[49m\u001b[43mcompletion_create_params\u001b[49m\u001b[43m.\u001b[49m\u001b[43mCompletionCreateParamsNonStreaming\u001b[49m\u001b[43m,\u001b[49m\n\u001b[32m   1189\u001b[39m \u001b[43m        \u001b[49m\u001b[43m)\u001b[49m\u001b[43m,\u001b[49m\n\u001b[32m   1190\u001b[39m \u001b[43m        \u001b[49m\u001b[43moptions\u001b[49m\u001b[43m=\u001b[49m\u001b[43mmake_request_options\u001b[49m\u001b[43m(\u001b[49m\n\u001b[32m   1191\u001b[39m \u001b[43m            \u001b[49m\u001b[43mextra_headers\u001b[49m\u001b[43m=\u001b[49m\u001b[43mextra_headers\u001b[49m\u001b[43m,\u001b[49m\u001b[43m \u001b[49m\u001b[43mextra_query\u001b[49m\u001b[43m=\u001b[49m\u001b[43mextra_query\u001b[49m\u001b[43m,\u001b[49m\u001b[43m \u001b[49m\u001b[43mextra_body\u001b[49m\u001b[43m=\u001b[49m\u001b[43mextra_body\u001b[49m\u001b[43m,\u001b[49m\u001b[43m \u001b[49m\u001b[43mtimeout\u001b[49m\u001b[43m=\u001b[49m\u001b[43mtimeout\u001b[49m\n\u001b[32m   1192\u001b[39m \u001b[43m        \u001b[49m\u001b[43m)\u001b[49m\u001b[43m,\u001b[49m\n\u001b[32m   1193\u001b[39m \u001b[43m        \u001b[49m\u001b[43mcast_to\u001b[49m\u001b[43m=\u001b[49m\u001b[43mChatCompletion\u001b[49m\u001b[43m,\u001b[49m\n\u001b[32m   1194\u001b[39m \u001b[43m        \u001b[49m\u001b[43mstream\u001b[49m\u001b[43m=\u001b[49m\u001b[43mstream\u001b[49m\u001b[43m \u001b[49m\u001b[38;5;129;43;01mor\u001b[39;49;00m\u001b[43m \u001b[49m\u001b[38;5;28;43;01mFalse\u001b[39;49;00m\u001b[43m,\u001b[49m\n\u001b[32m   1195\u001b[39m \u001b[43m        \u001b[49m\u001b[43mstream_cls\u001b[49m\u001b[43m=\u001b[49m\u001b[43mStream\u001b[49m\u001b[43m[\u001b[49m\u001b[43mChatCompletionChunk\u001b[49m\u001b[43m]\u001b[49m\u001b[43m,\u001b[49m\n\u001b[32m   1196\u001b[39m \u001b[43m    \u001b[49m\u001b[43m)\u001b[49m\n",
      "\u001b[36mFile \u001b[39m\u001b[32m~/Downloads/inventory_restock_analysis/.venv/lib/python3.13/site-packages/openai/_base_client.py:1259\u001b[39m, in \u001b[36mSyncAPIClient.post\u001b[39m\u001b[34m(self, path, cast_to, body, options, files, stream, stream_cls)\u001b[39m\n\u001b[32m   1245\u001b[39m \u001b[38;5;28;01mdef\u001b[39;00m\u001b[38;5;250m \u001b[39m\u001b[34mpost\u001b[39m(\n\u001b[32m   1246\u001b[39m     \u001b[38;5;28mself\u001b[39m,\n\u001b[32m   1247\u001b[39m     path: \u001b[38;5;28mstr\u001b[39m,\n\u001b[32m   (...)\u001b[39m\u001b[32m   1254\u001b[39m     stream_cls: \u001b[38;5;28mtype\u001b[39m[_StreamT] | \u001b[38;5;28;01mNone\u001b[39;00m = \u001b[38;5;28;01mNone\u001b[39;00m,\n\u001b[32m   1255\u001b[39m ) -> ResponseT | _StreamT:\n\u001b[32m   1256\u001b[39m     opts = FinalRequestOptions.construct(\n\u001b[32m   1257\u001b[39m         method=\u001b[33m\"\u001b[39m\u001b[33mpost\u001b[39m\u001b[33m\"\u001b[39m, url=path, json_data=body, files=to_httpx_files(files), **options\n\u001b[32m   1258\u001b[39m     )\n\u001b[32m-> \u001b[39m\u001b[32m1259\u001b[39m     \u001b[38;5;28;01mreturn\u001b[39;00m cast(ResponseT, \u001b[38;5;28;43mself\u001b[39;49m\u001b[43m.\u001b[49m\u001b[43mrequest\u001b[49m\u001b[43m(\u001b[49m\u001b[43mcast_to\u001b[49m\u001b[43m,\u001b[49m\u001b[43m \u001b[49m\u001b[43mopts\u001b[49m\u001b[43m,\u001b[49m\u001b[43m \u001b[49m\u001b[43mstream\u001b[49m\u001b[43m=\u001b[49m\u001b[43mstream\u001b[49m\u001b[43m,\u001b[49m\u001b[43m \u001b[49m\u001b[43mstream_cls\u001b[49m\u001b[43m=\u001b[49m\u001b[43mstream_cls\u001b[49m\u001b[43m)\u001b[49m)\n",
      "\u001b[36mFile \u001b[39m\u001b[32m~/Downloads/inventory_restock_analysis/.venv/lib/python3.13/site-packages/openai/_base_client.py:982\u001b[39m, in \u001b[36mSyncAPIClient.request\u001b[39m\u001b[34m(self, cast_to, options, stream, stream_cls)\u001b[39m\n\u001b[32m    980\u001b[39m response = \u001b[38;5;28;01mNone\u001b[39;00m\n\u001b[32m    981\u001b[39m \u001b[38;5;28;01mtry\u001b[39;00m:\n\u001b[32m--> \u001b[39m\u001b[32m982\u001b[39m     response = \u001b[38;5;28;43mself\u001b[39;49m\u001b[43m.\u001b[49m\u001b[43m_client\u001b[49m\u001b[43m.\u001b[49m\u001b[43msend\u001b[49m\u001b[43m(\u001b[49m\n\u001b[32m    983\u001b[39m \u001b[43m        \u001b[49m\u001b[43mrequest\u001b[49m\u001b[43m,\u001b[49m\n\u001b[32m    984\u001b[39m \u001b[43m        \u001b[49m\u001b[43mstream\u001b[49m\u001b[43m=\u001b[49m\u001b[43mstream\u001b[49m\u001b[43m \u001b[49m\u001b[38;5;129;43;01mor\u001b[39;49;00m\u001b[43m \u001b[49m\u001b[38;5;28;43mself\u001b[39;49m\u001b[43m.\u001b[49m\u001b[43m_should_stream_response_body\u001b[49m\u001b[43m(\u001b[49m\u001b[43mrequest\u001b[49m\u001b[43m=\u001b[49m\u001b[43mrequest\u001b[49m\u001b[43m)\u001b[49m\u001b[43m,\u001b[49m\n\u001b[32m    985\u001b[39m \u001b[43m        \u001b[49m\u001b[43m*\u001b[49m\u001b[43m*\u001b[49m\u001b[43mkwargs\u001b[49m\u001b[43m,\u001b[49m\n\u001b[32m    986\u001b[39m \u001b[43m    \u001b[49m\u001b[43m)\u001b[49m\n\u001b[32m    987\u001b[39m \u001b[38;5;28;01mexcept\u001b[39;00m httpx.TimeoutException \u001b[38;5;28;01mas\u001b[39;00m err:\n\u001b[32m    988\u001b[39m     log.debug(\u001b[33m\"\u001b[39m\u001b[33mEncountered httpx.TimeoutException\u001b[39m\u001b[33m\"\u001b[39m, exc_info=\u001b[38;5;28;01mTrue\u001b[39;00m)\n",
      "\u001b[36mFile \u001b[39m\u001b[32m~/Downloads/inventory_restock_analysis/.venv/lib/python3.13/site-packages/httpx/_client.py:914\u001b[39m, in \u001b[36mClient.send\u001b[39m\u001b[34m(self, request, stream, auth, follow_redirects)\u001b[39m\n\u001b[32m    910\u001b[39m \u001b[38;5;28mself\u001b[39m._set_timeout(request)\n\u001b[32m    912\u001b[39m auth = \u001b[38;5;28mself\u001b[39m._build_request_auth(request, auth)\n\u001b[32m--> \u001b[39m\u001b[32m914\u001b[39m response = \u001b[38;5;28;43mself\u001b[39;49m\u001b[43m.\u001b[49m\u001b[43m_send_handling_auth\u001b[49m\u001b[43m(\u001b[49m\n\u001b[32m    915\u001b[39m \u001b[43m    \u001b[49m\u001b[43mrequest\u001b[49m\u001b[43m,\u001b[49m\n\u001b[32m    916\u001b[39m \u001b[43m    \u001b[49m\u001b[43mauth\u001b[49m\u001b[43m=\u001b[49m\u001b[43mauth\u001b[49m\u001b[43m,\u001b[49m\n\u001b[32m    917\u001b[39m \u001b[43m    \u001b[49m\u001b[43mfollow_redirects\u001b[49m\u001b[43m=\u001b[49m\u001b[43mfollow_redirects\u001b[49m\u001b[43m,\u001b[49m\n\u001b[32m    918\u001b[39m \u001b[43m    \u001b[49m\u001b[43mhistory\u001b[49m\u001b[43m=\u001b[49m\u001b[43m[\u001b[49m\u001b[43m]\u001b[49m\u001b[43m,\u001b[49m\n\u001b[32m    919\u001b[39m \u001b[43m\u001b[49m\u001b[43m)\u001b[49m\n\u001b[32m    920\u001b[39m \u001b[38;5;28;01mtry\u001b[39;00m:\n\u001b[32m    921\u001b[39m     \u001b[38;5;28;01mif\u001b[39;00m \u001b[38;5;129;01mnot\u001b[39;00m stream:\n",
      "\u001b[36mFile \u001b[39m\u001b[32m~/Downloads/inventory_restock_analysis/.venv/lib/python3.13/site-packages/httpx/_client.py:942\u001b[39m, in \u001b[36mClient._send_handling_auth\u001b[39m\u001b[34m(self, request, auth, follow_redirects, history)\u001b[39m\n\u001b[32m    939\u001b[39m request = \u001b[38;5;28mnext\u001b[39m(auth_flow)\n\u001b[32m    941\u001b[39m \u001b[38;5;28;01mwhile\u001b[39;00m \u001b[38;5;28;01mTrue\u001b[39;00m:\n\u001b[32m--> \u001b[39m\u001b[32m942\u001b[39m     response = \u001b[38;5;28;43mself\u001b[39;49m\u001b[43m.\u001b[49m\u001b[43m_send_handling_redirects\u001b[49m\u001b[43m(\u001b[49m\n\u001b[32m    943\u001b[39m \u001b[43m        \u001b[49m\u001b[43mrequest\u001b[49m\u001b[43m,\u001b[49m\n\u001b[32m    944\u001b[39m \u001b[43m        \u001b[49m\u001b[43mfollow_redirects\u001b[49m\u001b[43m=\u001b[49m\u001b[43mfollow_redirects\u001b[49m\u001b[43m,\u001b[49m\n\u001b[32m    945\u001b[39m \u001b[43m        \u001b[49m\u001b[43mhistory\u001b[49m\u001b[43m=\u001b[49m\u001b[43mhistory\u001b[49m\u001b[43m,\u001b[49m\n\u001b[32m    946\u001b[39m \u001b[43m    \u001b[49m\u001b[43m)\u001b[49m\n\u001b[32m    947\u001b[39m     \u001b[38;5;28;01mtry\u001b[39;00m:\n\u001b[32m    948\u001b[39m         \u001b[38;5;28;01mtry\u001b[39;00m:\n",
      "\u001b[36mFile \u001b[39m\u001b[32m~/Downloads/inventory_restock_analysis/.venv/lib/python3.13/site-packages/httpx/_client.py:979\u001b[39m, in \u001b[36mClient._send_handling_redirects\u001b[39m\u001b[34m(self, request, follow_redirects, history)\u001b[39m\n\u001b[32m    976\u001b[39m \u001b[38;5;28;01mfor\u001b[39;00m hook \u001b[38;5;129;01min\u001b[39;00m \u001b[38;5;28mself\u001b[39m._event_hooks[\u001b[33m\"\u001b[39m\u001b[33mrequest\u001b[39m\u001b[33m\"\u001b[39m]:\n\u001b[32m    977\u001b[39m     hook(request)\n\u001b[32m--> \u001b[39m\u001b[32m979\u001b[39m response = \u001b[38;5;28;43mself\u001b[39;49m\u001b[43m.\u001b[49m\u001b[43m_send_single_request\u001b[49m\u001b[43m(\u001b[49m\u001b[43mrequest\u001b[49m\u001b[43m)\u001b[49m\n\u001b[32m    980\u001b[39m \u001b[38;5;28;01mtry\u001b[39;00m:\n\u001b[32m    981\u001b[39m     \u001b[38;5;28;01mfor\u001b[39;00m hook \u001b[38;5;129;01min\u001b[39;00m \u001b[38;5;28mself\u001b[39m._event_hooks[\u001b[33m\"\u001b[39m\u001b[33mresponse\u001b[39m\u001b[33m\"\u001b[39m]:\n",
      "\u001b[36mFile \u001b[39m\u001b[32m~/Downloads/inventory_restock_analysis/.venv/lib/python3.13/site-packages/httpx/_client.py:1014\u001b[39m, in \u001b[36mClient._send_single_request\u001b[39m\u001b[34m(self, request)\u001b[39m\n\u001b[32m   1009\u001b[39m     \u001b[38;5;28;01mraise\u001b[39;00m \u001b[38;5;167;01mRuntimeError\u001b[39;00m(\n\u001b[32m   1010\u001b[39m         \u001b[33m\"\u001b[39m\u001b[33mAttempted to send an async request with a sync Client instance.\u001b[39m\u001b[33m\"\u001b[39m\n\u001b[32m   1011\u001b[39m     )\n\u001b[32m   1013\u001b[39m \u001b[38;5;28;01mwith\u001b[39;00m request_context(request=request):\n\u001b[32m-> \u001b[39m\u001b[32m1014\u001b[39m     response = \u001b[43mtransport\u001b[49m\u001b[43m.\u001b[49m\u001b[43mhandle_request\u001b[49m\u001b[43m(\u001b[49m\u001b[43mrequest\u001b[49m\u001b[43m)\u001b[49m\n\u001b[32m   1016\u001b[39m \u001b[38;5;28;01massert\u001b[39;00m \u001b[38;5;28misinstance\u001b[39m(response.stream, SyncByteStream)\n\u001b[32m   1018\u001b[39m response.request = request\n",
      "\u001b[36mFile \u001b[39m\u001b[32m~/Downloads/inventory_restock_analysis/.venv/lib/python3.13/site-packages/httpx/_transports/default.py:250\u001b[39m, in \u001b[36mHTTPTransport.handle_request\u001b[39m\u001b[34m(self, request)\u001b[39m\n\u001b[32m    237\u001b[39m req = httpcore.Request(\n\u001b[32m    238\u001b[39m     method=request.method,\n\u001b[32m    239\u001b[39m     url=httpcore.URL(\n\u001b[32m   (...)\u001b[39m\u001b[32m    247\u001b[39m     extensions=request.extensions,\n\u001b[32m    248\u001b[39m )\n\u001b[32m    249\u001b[39m \u001b[38;5;28;01mwith\u001b[39;00m map_httpcore_exceptions():\n\u001b[32m--> \u001b[39m\u001b[32m250\u001b[39m     resp = \u001b[38;5;28;43mself\u001b[39;49m\u001b[43m.\u001b[49m\u001b[43m_pool\u001b[49m\u001b[43m.\u001b[49m\u001b[43mhandle_request\u001b[49m\u001b[43m(\u001b[49m\u001b[43mreq\u001b[49m\u001b[43m)\u001b[49m\n\u001b[32m    252\u001b[39m \u001b[38;5;28;01massert\u001b[39;00m \u001b[38;5;28misinstance\u001b[39m(resp.stream, typing.Iterable)\n\u001b[32m    254\u001b[39m \u001b[38;5;28;01mreturn\u001b[39;00m Response(\n\u001b[32m    255\u001b[39m     status_code=resp.status,\n\u001b[32m    256\u001b[39m     headers=resp.headers,\n\u001b[32m    257\u001b[39m     stream=ResponseStream(resp.stream),\n\u001b[32m    258\u001b[39m     extensions=resp.extensions,\n\u001b[32m    259\u001b[39m )\n",
      "\u001b[36mFile \u001b[39m\u001b[32m~/Downloads/inventory_restock_analysis/.venv/lib/python3.13/site-packages/httpcore/_sync/connection_pool.py:256\u001b[39m, in \u001b[36mConnectionPool.handle_request\u001b[39m\u001b[34m(self, request)\u001b[39m\n\u001b[32m    253\u001b[39m         closing = \u001b[38;5;28mself\u001b[39m._assign_requests_to_connections()\n\u001b[32m    255\u001b[39m     \u001b[38;5;28mself\u001b[39m._close_connections(closing)\n\u001b[32m--> \u001b[39m\u001b[32m256\u001b[39m     \u001b[38;5;28;01mraise\u001b[39;00m exc \u001b[38;5;28;01mfrom\u001b[39;00m\u001b[38;5;250m \u001b[39m\u001b[38;5;28;01mNone\u001b[39;00m\n\u001b[32m    258\u001b[39m \u001b[38;5;66;03m# Return the response. Note that in this case we still have to manage\u001b[39;00m\n\u001b[32m    259\u001b[39m \u001b[38;5;66;03m# the point at which the response is closed.\u001b[39;00m\n\u001b[32m    260\u001b[39m \u001b[38;5;28;01massert\u001b[39;00m \u001b[38;5;28misinstance\u001b[39m(response.stream, typing.Iterable)\n",
      "\u001b[36mFile \u001b[39m\u001b[32m~/Downloads/inventory_restock_analysis/.venv/lib/python3.13/site-packages/httpcore/_sync/connection_pool.py:236\u001b[39m, in \u001b[36mConnectionPool.handle_request\u001b[39m\u001b[34m(self, request)\u001b[39m\n\u001b[32m    232\u001b[39m connection = pool_request.wait_for_connection(timeout=timeout)\n\u001b[32m    234\u001b[39m \u001b[38;5;28;01mtry\u001b[39;00m:\n\u001b[32m    235\u001b[39m     \u001b[38;5;66;03m# Send the request on the assigned connection.\u001b[39;00m\n\u001b[32m--> \u001b[39m\u001b[32m236\u001b[39m     response = \u001b[43mconnection\u001b[49m\u001b[43m.\u001b[49m\u001b[43mhandle_request\u001b[49m\u001b[43m(\u001b[49m\n\u001b[32m    237\u001b[39m \u001b[43m        \u001b[49m\u001b[43mpool_request\u001b[49m\u001b[43m.\u001b[49m\u001b[43mrequest\u001b[49m\n\u001b[32m    238\u001b[39m \u001b[43m    \u001b[49m\u001b[43m)\u001b[49m\n\u001b[32m    239\u001b[39m \u001b[38;5;28;01mexcept\u001b[39;00m ConnectionNotAvailable:\n\u001b[32m    240\u001b[39m     \u001b[38;5;66;03m# In some cases a connection may initially be available to\u001b[39;00m\n\u001b[32m    241\u001b[39m     \u001b[38;5;66;03m# handle a request, but then become unavailable.\u001b[39;00m\n\u001b[32m    242\u001b[39m     \u001b[38;5;66;03m#\u001b[39;00m\n\u001b[32m    243\u001b[39m     \u001b[38;5;66;03m# In this case we clear the connection and try again.\u001b[39;00m\n\u001b[32m    244\u001b[39m     pool_request.clear_connection()\n",
      "\u001b[36mFile \u001b[39m\u001b[32m~/Downloads/inventory_restock_analysis/.venv/lib/python3.13/site-packages/httpcore/_sync/connection.py:103\u001b[39m, in \u001b[36mHTTPConnection.handle_request\u001b[39m\u001b[34m(self, request)\u001b[39m\n\u001b[32m    100\u001b[39m     \u001b[38;5;28mself\u001b[39m._connect_failed = \u001b[38;5;28;01mTrue\u001b[39;00m\n\u001b[32m    101\u001b[39m     \u001b[38;5;28;01mraise\u001b[39;00m exc\n\u001b[32m--> \u001b[39m\u001b[32m103\u001b[39m \u001b[38;5;28;01mreturn\u001b[39;00m \u001b[38;5;28;43mself\u001b[39;49m\u001b[43m.\u001b[49m\u001b[43m_connection\u001b[49m\u001b[43m.\u001b[49m\u001b[43mhandle_request\u001b[49m\u001b[43m(\u001b[49m\u001b[43mrequest\u001b[49m\u001b[43m)\u001b[49m\n",
      "\u001b[36mFile \u001b[39m\u001b[32m~/Downloads/inventory_restock_analysis/.venv/lib/python3.13/site-packages/httpcore/_sync/http11.py:136\u001b[39m, in \u001b[36mHTTP11Connection.handle_request\u001b[39m\u001b[34m(self, request)\u001b[39m\n\u001b[32m    134\u001b[39m     \u001b[38;5;28;01mwith\u001b[39;00m Trace(\u001b[33m\"\u001b[39m\u001b[33mresponse_closed\u001b[39m\u001b[33m\"\u001b[39m, logger, request) \u001b[38;5;28;01mas\u001b[39;00m trace:\n\u001b[32m    135\u001b[39m         \u001b[38;5;28mself\u001b[39m._response_closed()\n\u001b[32m--> \u001b[39m\u001b[32m136\u001b[39m \u001b[38;5;28;01mraise\u001b[39;00m exc\n",
      "\u001b[36mFile \u001b[39m\u001b[32m~/Downloads/inventory_restock_analysis/.venv/lib/python3.13/site-packages/httpcore/_sync/http11.py:106\u001b[39m, in \u001b[36mHTTP11Connection.handle_request\u001b[39m\u001b[34m(self, request)\u001b[39m\n\u001b[32m     95\u001b[39m     \u001b[38;5;28;01mpass\u001b[39;00m\n\u001b[32m     97\u001b[39m \u001b[38;5;28;01mwith\u001b[39;00m Trace(\n\u001b[32m     98\u001b[39m     \u001b[33m\"\u001b[39m\u001b[33mreceive_response_headers\u001b[39m\u001b[33m\"\u001b[39m, logger, request, kwargs\n\u001b[32m     99\u001b[39m ) \u001b[38;5;28;01mas\u001b[39;00m trace:\n\u001b[32m    100\u001b[39m     (\n\u001b[32m    101\u001b[39m         http_version,\n\u001b[32m    102\u001b[39m         status,\n\u001b[32m    103\u001b[39m         reason_phrase,\n\u001b[32m    104\u001b[39m         headers,\n\u001b[32m    105\u001b[39m         trailing_data,\n\u001b[32m--> \u001b[39m\u001b[32m106\u001b[39m     ) = \u001b[38;5;28;43mself\u001b[39;49m\u001b[43m.\u001b[49m\u001b[43m_receive_response_headers\u001b[49m\u001b[43m(\u001b[49m\u001b[43m*\u001b[49m\u001b[43m*\u001b[49m\u001b[43mkwargs\u001b[49m\u001b[43m)\u001b[49m\n\u001b[32m    107\u001b[39m     trace.return_value = (\n\u001b[32m    108\u001b[39m         http_version,\n\u001b[32m    109\u001b[39m         status,\n\u001b[32m    110\u001b[39m         reason_phrase,\n\u001b[32m    111\u001b[39m         headers,\n\u001b[32m    112\u001b[39m     )\n\u001b[32m    114\u001b[39m network_stream = \u001b[38;5;28mself\u001b[39m._network_stream\n",
      "\u001b[36mFile \u001b[39m\u001b[32m~/Downloads/inventory_restock_analysis/.venv/lib/python3.13/site-packages/httpcore/_sync/http11.py:177\u001b[39m, in \u001b[36mHTTP11Connection._receive_response_headers\u001b[39m\u001b[34m(self, request)\u001b[39m\n\u001b[32m    174\u001b[39m timeout = timeouts.get(\u001b[33m\"\u001b[39m\u001b[33mread\u001b[39m\u001b[33m\"\u001b[39m, \u001b[38;5;28;01mNone\u001b[39;00m)\n\u001b[32m    176\u001b[39m \u001b[38;5;28;01mwhile\u001b[39;00m \u001b[38;5;28;01mTrue\u001b[39;00m:\n\u001b[32m--> \u001b[39m\u001b[32m177\u001b[39m     event = \u001b[38;5;28;43mself\u001b[39;49m\u001b[43m.\u001b[49m\u001b[43m_receive_event\u001b[49m\u001b[43m(\u001b[49m\u001b[43mtimeout\u001b[49m\u001b[43m=\u001b[49m\u001b[43mtimeout\u001b[49m\u001b[43m)\u001b[49m\n\u001b[32m    178\u001b[39m     \u001b[38;5;28;01mif\u001b[39;00m \u001b[38;5;28misinstance\u001b[39m(event, h11.Response):\n\u001b[32m    179\u001b[39m         \u001b[38;5;28;01mbreak\u001b[39;00m\n",
      "\u001b[36mFile \u001b[39m\u001b[32m~/Downloads/inventory_restock_analysis/.venv/lib/python3.13/site-packages/httpcore/_sync/http11.py:217\u001b[39m, in \u001b[36mHTTP11Connection._receive_event\u001b[39m\u001b[34m(self, timeout)\u001b[39m\n\u001b[32m    214\u001b[39m     event = \u001b[38;5;28mself\u001b[39m._h11_state.next_event()\n\u001b[32m    216\u001b[39m \u001b[38;5;28;01mif\u001b[39;00m event \u001b[38;5;129;01mis\u001b[39;00m h11.NEED_DATA:\n\u001b[32m--> \u001b[39m\u001b[32m217\u001b[39m     data = \u001b[38;5;28;43mself\u001b[39;49m\u001b[43m.\u001b[49m\u001b[43m_network_stream\u001b[49m\u001b[43m.\u001b[49m\u001b[43mread\u001b[49m\u001b[43m(\u001b[49m\n\u001b[32m    218\u001b[39m \u001b[43m        \u001b[49m\u001b[38;5;28;43mself\u001b[39;49m\u001b[43m.\u001b[49m\u001b[43mREAD_NUM_BYTES\u001b[49m\u001b[43m,\u001b[49m\u001b[43m \u001b[49m\u001b[43mtimeout\u001b[49m\u001b[43m=\u001b[49m\u001b[43mtimeout\u001b[49m\n\u001b[32m    219\u001b[39m \u001b[43m    \u001b[49m\u001b[43m)\u001b[49m\n\u001b[32m    221\u001b[39m     \u001b[38;5;66;03m# If we feed this case through h11 we'll raise an exception like:\u001b[39;00m\n\u001b[32m    222\u001b[39m     \u001b[38;5;66;03m#\u001b[39;00m\n\u001b[32m    223\u001b[39m     \u001b[38;5;66;03m#     httpcore.RemoteProtocolError: can't handle event type\u001b[39;00m\n\u001b[32m   (...)\u001b[39m\u001b[32m    227\u001b[39m     \u001b[38;5;66;03m# perspective. Instead we handle this case distinctly and treat\u001b[39;00m\n\u001b[32m    228\u001b[39m     \u001b[38;5;66;03m# it as a ConnectError.\u001b[39;00m\n\u001b[32m    229\u001b[39m     \u001b[38;5;28;01mif\u001b[39;00m data == \u001b[33mb\u001b[39m\u001b[33m\"\u001b[39m\u001b[33m\"\u001b[39m \u001b[38;5;129;01mand\u001b[39;00m \u001b[38;5;28mself\u001b[39m._h11_state.their_state == h11.SEND_RESPONSE:\n",
      "\u001b[36mFile \u001b[39m\u001b[32m~/Downloads/inventory_restock_analysis/.venv/lib/python3.13/site-packages/httpcore/_backends/sync.py:128\u001b[39m, in \u001b[36mSyncStream.read\u001b[39m\u001b[34m(self, max_bytes, timeout)\u001b[39m\n\u001b[32m    126\u001b[39m \u001b[38;5;28;01mwith\u001b[39;00m map_exceptions(exc_map):\n\u001b[32m    127\u001b[39m     \u001b[38;5;28mself\u001b[39m._sock.settimeout(timeout)\n\u001b[32m--> \u001b[39m\u001b[32m128\u001b[39m     \u001b[38;5;28;01mreturn\u001b[39;00m \u001b[38;5;28;43mself\u001b[39;49m\u001b[43m.\u001b[49m\u001b[43m_sock\u001b[49m\u001b[43m.\u001b[49m\u001b[43mrecv\u001b[49m\u001b[43m(\u001b[49m\u001b[43mmax_bytes\u001b[49m\u001b[43m)\u001b[49m\n",
      "\u001b[36mFile \u001b[39m\u001b[32m/opt/homebrew/Cellar/python@3.13/3.13.2/Frameworks/Python.framework/Versions/3.13/lib/python3.13/ssl.py:1285\u001b[39m, in \u001b[36mSSLSocket.recv\u001b[39m\u001b[34m(self, buflen, flags)\u001b[39m\n\u001b[32m   1281\u001b[39m     \u001b[38;5;28;01mif\u001b[39;00m flags != \u001b[32m0\u001b[39m:\n\u001b[32m   1282\u001b[39m         \u001b[38;5;28;01mraise\u001b[39;00m \u001b[38;5;167;01mValueError\u001b[39;00m(\n\u001b[32m   1283\u001b[39m             \u001b[33m\"\u001b[39m\u001b[33mnon-zero flags not allowed in calls to recv() on \u001b[39m\u001b[38;5;132;01m%s\u001b[39;00m\u001b[33m\"\u001b[39m %\n\u001b[32m   1284\u001b[39m             \u001b[38;5;28mself\u001b[39m.\u001b[34m__class__\u001b[39m)\n\u001b[32m-> \u001b[39m\u001b[32m1285\u001b[39m     \u001b[38;5;28;01mreturn\u001b[39;00m \u001b[38;5;28;43mself\u001b[39;49m\u001b[43m.\u001b[49m\u001b[43mread\u001b[49m\u001b[43m(\u001b[49m\u001b[43mbuflen\u001b[49m\u001b[43m)\u001b[49m\n\u001b[32m   1286\u001b[39m \u001b[38;5;28;01melse\u001b[39;00m:\n\u001b[32m   1287\u001b[39m     \u001b[38;5;28;01mreturn\u001b[39;00m \u001b[38;5;28msuper\u001b[39m().recv(buflen, flags)\n",
      "\u001b[36mFile \u001b[39m\u001b[32m/opt/homebrew/Cellar/python@3.13/3.13.2/Frameworks/Python.framework/Versions/3.13/lib/python3.13/ssl.py:1140\u001b[39m, in \u001b[36mSSLSocket.read\u001b[39m\u001b[34m(self, len, buffer)\u001b[39m\n\u001b[32m   1138\u001b[39m         \u001b[38;5;28;01mreturn\u001b[39;00m \u001b[38;5;28mself\u001b[39m._sslobj.read(\u001b[38;5;28mlen\u001b[39m, buffer)\n\u001b[32m   1139\u001b[39m     \u001b[38;5;28;01melse\u001b[39;00m:\n\u001b[32m-> \u001b[39m\u001b[32m1140\u001b[39m         \u001b[38;5;28;01mreturn\u001b[39;00m \u001b[38;5;28;43mself\u001b[39;49m\u001b[43m.\u001b[49m\u001b[43m_sslobj\u001b[49m\u001b[43m.\u001b[49m\u001b[43mread\u001b[49m\u001b[43m(\u001b[49m\u001b[38;5;28;43mlen\u001b[39;49m\u001b[43m)\u001b[49m\n\u001b[32m   1141\u001b[39m \u001b[38;5;28;01mexcept\u001b[39;00m SSLError \u001b[38;5;28;01mas\u001b[39;00m x:\n\u001b[32m   1142\u001b[39m     \u001b[38;5;28;01mif\u001b[39;00m x.args[\u001b[32m0\u001b[39m] == SSL_ERROR_EOF \u001b[38;5;129;01mand\u001b[39;00m \u001b[38;5;28mself\u001b[39m.suppress_ragged_eofs:\n",
      "\u001b[31mKeyboardInterrupt\u001b[39m: "
     ]
    }
   ],
   "source": [
    "# THE MAIN FOR LOOP \n",
    "\n",
    "with open(\"restocks-5-31-25.json\", \"r\", encoding=\"utf-8\") as f:\n",
    "    restock_requests = json.load(f)\n",
    "\n",
    "restocks_final_data = []\n",
    "\n",
    "# i = 0\n",
    "for req in restock_requests:\n",
    "    # i += 1 \n",
    "    # # if i == 5:\n",
    "    #     break\n",
    "\n",
    "    # Skip unapproved requests\n",
    "    if req[\"is_approved\"] == \"false\":\n",
    "        continue\n",
    "\n",
    "    print (\"******************************************************\")\n",
    "    # Split text vs links\n",
    "    print (\"WHOLE MESSAGE =\", req)\n",
    "    print (\"message = \", req[\"item\"])\n",
    "    user_request_text, links_items_list = link_find_split(req[\"item\"])\n",
    "    print (\"\\n text = \", user_request_text)\n",
    "    print (\"\\n link items = \", links_items_list)\n",
    "    \n",
    "\n",
    "    # Build query string for embedding\n",
    "    if len(links_items_list) != 0:\n",
    "        # join all link titles into one string (can also append user text if you want)\n",
    "        extracted_vector = embed_normalize([\"\".join(links_items_list)])[0]\n",
    "    else:\n",
    "        extracted_vector = embed_normalize([user_request_text])[0]\n",
    "\n",
    "    # Find top-3 inventory matches\n",
    "    three_possible_matches = find_three_inventory_match(extracted_vector, names_matrix, uuid_list, inventory_lookup)\n",
    "    print (\"\\n matches =\", three_possible_matches)\n",
    "\n",
    "    # Ask LLM (or stub) to choose final item + area\n",
    "    item_uuid, item_area = llm_match(user_request_text, links_items_list, three_possible_matches)\n",
    "\n",
    "    print (\"LLM RETURNED:\")\n",
    "    print (item_uuid)\n",
    "    print (item_area)\n",
    "    # Collect results (you can expand tuple into dict later for CSV/graph)\n",
    "    restocks_final_data.append([item_uuid, item_area, req[\"timestamp_sent\"], req[\"timestamp_completed\"]])\n"
   ]
  },
  {
   "cell_type": "code",
   "execution_count": 16,
   "metadata": {},
   "outputs": [
    {
     "name": "stdout",
     "output_type": "stream",
     "text": [
      "160\n"
     ]
    }
   ],
   "source": [
    "print (len(restocks_final_data))"
   ]
  },
  {
   "cell_type": "code",
   "execution_count": 17,
   "metadata": {},
   "outputs": [
    {
     "name": "stdout",
     "output_type": "stream",
     "text": [
      "[['be13f962-3b93-4dcb-a19f-3279cb527ec0', 'Cage/Crypt/Other', '1695866482.891472', 1695916051.055505], ['801028a8-4677-44f9-9ffe-5ebb239fd2d2', 'Cabinet 3', '1695956194.842946', 1696281457.775988], ['a3a6b195-f3f7-49e8-9b00-bb84948844a6', 'Cabinet 1', '1696041184.028703', 1696271601.443851], ['3e00df33-2c77-4be9-ad16-81f61734cee6', 'Cabinet 1', '1696106783.537074', 1696279071.421318], ['a3a6b195-f3f7-49e8-9b00-bb84948844a6', 'Cabinet 1', '1696106820.441048', 1696279043.672329], ['a3a6b195-f3f7-49e8-9b00-bb84948844a6', 'Cabinet 1', '1696146041.607456', 1696271580.881537], ['f425db72-a9c6-4fbd-a3a8-38afab8adbb4', 'Pegboard 1', '1696300261.608438', 1696614972.130854], ['6b40e62f-3af4-4099-8fe5-cf2b4464ec17', 'Pegboard 1', '1696300462.954466', 1696618824.391257], ['414b1655-517c-492f-a564-97f119358da8', 'Cabinet 1', '1696460698.281946', 1696614250.010368], ['25033e881a4e4dafbc4c9fd3be5875f3', 'Studio', '1696461108.810528', 1697763497.52571], ['368a7a823a9d402ba54e899e86afa00e', 'Pegboard 1', '1696877313.983467', 1697763502.260204], ['414b1655-517c-492f-a564-97f119358da8', 'Cabinet 1', '1697080577.551162', 1697763753.872279], ['53fa5efd-fd71-41ea-9cfd-588ff1fcadd9', 'Fabric', '1697080597.089225', 1697763876.858576], ['e782c9e05a22413889ed8b772e6b4cbe', 'Cabinet 2', '1697080723.139533', 1697821510.594817], ['be13f962-3b93-4dcb-a19f-3279cb527ec0', 'Cage/Crypt/Other', '1697083472.695793', 1697821182.853533], ['ba1659ce-c279-4031-bc70-f75b4498e9f1', 'Fabric', '1697251803.57785', 1698086570.871673], ['14868e71-9eec-4aab-ac73-9ae700dfbde2', 'Pegboard 1', '1697263986.519822', 1697821422.771044], ['', 'Cage/Crypt/Other', '1697480760.790917', 1697821177.486531], ['afde04e1-4135-496c-903e-dd5a2d4a1334', 'Cabinet 5', '1697495703.074561', 1697763525.199996], ['e782c9e05a22413889ed8b772e6b4cbe', 'Cabinet 2', '1697668218.928047', 1697821244.185938]]\n"
     ]
    }
   ],
   "source": [
    "print(restocks_final_data[:20])"
   ]
  },
  {
   "cell_type": "code",
   "execution_count": 19,
   "metadata": {},
   "outputs": [
    {
     "name": "stdout",
     "output_type": "stream",
     "text": [
      "******************************************************\n",
      "WHOLE MESSAGE = {'_id': {'$oid': '65163ce2dab76fafc080ef10'}, 'uuid': '56406890-7482-4f94-8864-608e03fcbf0f', 'item': 'Slightly bigger seed beads (current ones are much smaller than 4 mm)\\nhttps://www.amazon.com/Redtwo-Glass-Seed-Beads-Friendship/dp/B0C5JBWBXB/ref=sr_1_36?crid=3S6EKWKRROIDJ&keywords=seed%2Bbeads&qid=1695956100&sprefix=seed%2Bbeads%2Caps%2C400&sr=8-36&th=1', 'quantity': '1 kit?', 'reason': 'Out of Stock', 'user_uuid': '4b87d886bc2448a98c91b110ff3716a8', 'authorized_request': False, 'timestamp_sent': '1695956194.842946', 'timestamp_completed': 1696281457.775988, 'is_approved': True, 'completion_note': 'These should be here within a week or less. '}\n",
      "******************************************************\n",
      "WHOLE MESSAGE = {'_id': {'$oid': '6518891fdab76fafc059ad8e'}, 'uuid': 'c8a2187c-a7a5-4881-bb95-78d93f961710', 'item': 'fabric stabilizer', 'quantity': '1', 'reason': 'Out of Stock', 'user_uuid': '748d01865e514a7893065cc0af75b47a', 'authorized_request': False, 'timestamp_sent': '1696106783.537074', 'timestamp_completed': 1696279071.421318, 'is_approved': True, 'completion_note': 'This should be in the makerspce within a week or less. '}\n"
     ]
    }
   ],
   "source": [
    "i = 0\n",
    "for req in restock_requests:\n",
    "    i += 1 \n",
    "    if i == 5:\n",
    "        break\n",
    "\n",
    "    # Skip unapproved requests\n",
    "    if req[\"is_approved\"] is False:\\\n",
    "        continue\n",
    "\n",
    "    print (\"******************************************************\")\n",
    "    # Split text vs links\n",
    "    print (\"WHOLE MESSAGE =\", req)"
   ]
  }
 ],
 "metadata": {
  "kernelspec": {
   "display_name": ".venv",
   "language": "python",
   "name": "python3"
  },
  "language_info": {
   "codemirror_mode": {
    "name": "ipython",
    "version": 3
   },
   "file_extension": ".py",
   "mimetype": "text/x-python",
   "name": "python",
   "nbconvert_exporter": "python",
   "pygments_lexer": "ipython3",
   "version": "3.13.2"
  }
 },
 "nbformat": 4,
 "nbformat_minor": 2
}
